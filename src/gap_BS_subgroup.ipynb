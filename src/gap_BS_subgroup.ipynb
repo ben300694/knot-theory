{
 "cells": [
  {
   "cell_type": "code",
   "execution_count": null,
   "id": "b362da08-a932-48c6-8a72-16c77c3462db",
   "metadata": {},
   "outputs": [],
   "source": [
    "%%gap\n",
    "\n",
    "F := FreeGroup(\"a\", \"b\");\n",
    "BS := F / [F.2*F.1*F.2^(-1)*F.1^(-2)];\n",
    "RelatorsOfFpGroup(BS);"
   ]
  },
  {
   "cell_type": "code",
   "execution_count": null,
   "id": "096ff3a0-0393-4d85-8463-ca0bee51958b",
   "metadata": {},
   "outputs": [],
   "source": [
    "%%gap\n",
    "\n",
    "# This is the presentation of a subgroup of BS(1, 2)\n",
    "# which we obtained from the trisected Reidemeister-Schreier algorithm\n",
    "# applied to a coloring of a 10-bridge trisection of\n",
    "# a ribbon disk of the stevedore knot\n",
    "subgr := Subgroup(BS, [BS.1^(-1)*BS.2*BS.1, BS.2*BS.1^(-1)]);"
   ]
  },
  {
   "cell_type": "code",
   "execution_count": null,
   "id": "db0ef27e-1af3-4319-8b6c-b90fb94ba11c",
   "metadata": {},
   "outputs": [],
   "source": [
    "%%gap\n",
    "\n",
    "IndexInWholeGroup(subgr);\n",
    "Index(BS, subgr);\n",
    "IsNormal(BS, subgr);\n",
    "ConjugateSubgroups(BS, subgr);"
   ]
  },
  {
   "cell_type": "code",
   "execution_count": null,
   "id": "baf515a1-b8c3-4b3d-ac4f-05973fa29956",
   "metadata": {},
   "outputs": [],
   "source": [
    "%%gap\n",
    "\n",
    "iso := IsomorphismFpGroup(subgr);\n",
    "# [ <[ [ 2, 1 ] ]|b^-1*a^-1>, <[ [ 2, -1, 1, -1 ] ]|a*b*a*b^-1> ] -> [ F1, F2 ]\n",
    "Image(iso);\n",
    "# <fp group of size infinity on the generators [ F1, F2 ]>\n",
    "RelatorsOfFpGroup(Image(iso));\n",
    "# [ F2*F1*F2^-2*F1^-1 ]"
   ]
  },
  {
   "cell_type": "code",
   "execution_count": null,
   "id": "cd02cd30-bcd1-4f84-bd48-6f3bac245ed3",
   "metadata": {},
   "outputs": [],
   "source": []
  }
 ],
 "metadata": {
  "kernelspec": {
   "display_name": "SageMath 9.5",
   "language": "sage",
   "name": "sagemath-9.5"
  },
  "language_info": {
   "codemirror_mode": {
    "name": "ipython",
    "version": 3
   },
   "file_extension": ".py",
   "mimetype": "text/x-python",
   "name": "python",
   "nbconvert_exporter": "python",
   "pygments_lexer": "ipython3",
   "version": "3.9.9"
  }
 },
 "nbformat": 4,
 "nbformat_minor": 5
}
