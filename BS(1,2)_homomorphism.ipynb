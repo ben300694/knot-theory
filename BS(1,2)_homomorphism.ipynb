{
 "cells": [
  {
   "cell_type": "code",
   "execution_count": 7,
   "metadata": {},
   "outputs": [],
   "source": [
    "#BS(1,2)=<A,B|BAB^-1=A^2>\n",
    "#homomorphism sending A-->a, B-->b, a, b in S_p where\n",
    "#a=(1,...,p) p odd\n",
    "#G=image subgroup\n",
    "\n",
    "\n",
    "def BS12_to_Sp(p):\n",
    "    S_p=SymmetricGroup(p)\n",
    "\n",
    "    a_list_br=[(i+1)%p+1 for i in range(p)] #p-cycle in bottom row notation\n",
    "    a_list_cycle=[(i+1) for i in range(p)]\n",
    "    a_dict={i+1:i+1 for i in range(p)}\n",
    "    a_sq_list=[(2*i)%p +1 for i in range(p)]\n",
    "    a_sq_inverse_dict={(2*i)%p +1:i+1 for i in range(p)} #inverse dictionary representing a^2 in cycle notation\n",
    "\n",
    "    b_list_br=[a_dict[a_sq_inverse_dict[i+1]] for i in range(p)] #b in bottom row notation\n",
    "\n",
    "    #convert lists to bottom-row notation and then symmetric group elements in cycle notation\n",
    "    a=S_p(Permutation(a_list_br)) \n",
    "    b=S_p(Permutation(b_list_br))\n",
    "    \n",
    "    return [a,b]\n",
    "    "
   ]
  },
  {
   "cell_type": "code",
   "execution_count": 8,
   "metadata": {},
   "outputs": [],
   "source": [
    "def Semidirect(n,m):\n",
    "    F=FreeGroup(2)\n",
    "    a=F([1 for i in range(n)])\n",
    "    b=F([2 for i in range(m)])\n",
    "    c=F([2,1,-2,-1,-1])\n",
    "    SD=F.quotient([a,b,c])\n",
    "    return SD\n"
   ]
  },
  {
   "cell_type": "code",
   "execution_count": 9,
   "metadata": {},
   "outputs": [
    {
     "data": {
      "text/plain": [
       "Finitely presented group < x0, x1 | x0^5, x1^4, x1*x0*x1^-1*x0^-2 >"
      ]
     },
     "execution_count": 9,
     "metadata": {},
     "output_type": "execute_result"
    }
   ],
   "source": [
    "Semidirect(5,4)"
   ]
  },
  {
   "cell_type": "code",
   "execution_count": 10,
   "metadata": {},
   "outputs": [
    {
     "data": {
      "text/plain": [
       "[(1,2,3,4,5), (2,4,5,3)]"
      ]
     },
     "execution_count": 10,
     "metadata": {},
     "output_type": "execute_result"
    }
   ],
   "source": [
    "p=5\n",
    "BS12_to_Sp(p)"
   ]
  },
  {
   "cell_type": "code",
   "execution_count": 13,
   "metadata": {},
   "outputs": [
    {
     "data": {
      "text/plain": [
       "True"
      ]
     },
     "execution_count": 13,
     "metadata": {},
     "output_type": "execute_result"
    }
   ],
   "source": [
    "S=SymmetricGroup(p)\n",
    "[a,b]=BS12_to_Sp(p)\n",
    "\n",
    "G=S.subgroup([a,b])\n",
    "SD=Semidirect(5,4)\n",
    "SD.is_isomorphic(G)"
   ]
  },
  {
   "cell_type": "code",
   "execution_count": 149,
   "metadata": {},
   "outputs": [
    {
     "data": {
      "text/plain": [
       "\"C5 : C4\""
      ]
     },
     "execution_count": 149,
     "metadata": {},
     "output_type": "execute_result"
    }
   ],
   "source": [
    "G.gap().StructureDescription() #normal subgp: other subgp semidirect product"
   ]
  },
  {
   "cell_type": "code",
   "execution_count": 127,
   "metadata": {},
   "outputs": [
    {
     "data": {
      "text/plain": [
       "[ 342, 7 ]"
      ]
     },
     "execution_count": 127,
     "metadata": {},
     "output_type": "execute_result"
    }
   ],
   "source": [
    "G.gap().IdGroup() #Look up at https://people.maths.bris.ac.uk/~matyd/GroupNames/"
   ]
  },
  {
   "cell_type": "code",
   "execution_count": 17,
   "metadata": {},
   "outputs": [
    {
     "name": "stdout",
     "output_type": "stream",
     "text": [
      "----\n",
      "p= 3\n",
      "a= (1,2,3)\n",
      "b= (2,3)\n",
      "order of b is 2\n",
      "Is the image isomorphic to Cp semidirect Cm where m=order of b True\n",
      "----\n",
      "p= 5\n",
      "a= (1,2,3,4,5)\n",
      "b= (2,4,5,3)\n",
      "order of b is 4\n",
      "Is the image isomorphic to Cp semidirect Cm where m=order of b True\n",
      "----\n",
      "p= 7\n",
      "a= (1,2,3,4,5,6,7)\n",
      "b= (2,5,3)(4,6,7)\n",
      "order of b is 3\n",
      "Is the image isomorphic to Cp semidirect Cm where m=order of b True\n",
      "----\n",
      "p= 9\n",
      "a= (1,2,3,4,5,6,7,8,9)\n",
      "b= (2,6,8,9,5,3)(4,7)\n",
      "order of b is 6\n",
      "Is the image isomorphic to Cp semidirect Cm where m=order of b True\n",
      "----\n",
      "p= 11\n",
      "a= (1,2,3,4,5,6,7,8,9,10,11)\n",
      "b= (2,7,4,8,10,11,6,9,5,3)\n",
      "order of b is 10\n",
      "Is the image isomorphic to Cp semidirect Cm where m=order of b True\n",
      "----\n",
      "p= 13\n",
      "a= (1,2,3,4,5,6,7,8,9,10,11,12,13)\n",
      "b= (2,8,11,6,10,12,13,7,4,9,5,3)\n",
      "order of b is 12\n",
      "Is the image isomorphic to Cp semidirect Cm where m=order of b True\n",
      "----\n",
      "p= 15\n",
      "a= (1,2,3,4,5,6,7,8,9,10,11,12,13,14,15)\n",
      "b= (2,9,5,3)(4,10,13,7)(6,11)(8,12,14,15)\n",
      "order of b is 4\n",
      "Is the image isomorphic to Cp semidirect Cm where m=order of b True\n",
      "----\n",
      "p= 17\n",
      "a= (1,2,3,4,5,6,7,8,9,10,11,12,13,14,15,16,17)\n",
      "b= (2,10,14,16,17,9,5,3)(4,11,6,12,15,8,13,7)\n",
      "order of b is 8\n",
      "Is the image isomorphic to Cp semidirect Cm where m=order of b True\n",
      "----\n",
      "p= 19\n",
      "a= (1,2,3,4,5,6,7,8,9,10,11,12,13,14,15,16,17,18,19)\n",
      "b= (2,11,6,13,7,4,12,16,18,19,10,15,8,14,17,9,5,3)\n",
      "order of b is 18\n",
      "Is the image isomorphic to Cp semidirect Cm where m=order of b True\n",
      "----\n",
      "p= 21\n",
      "a= (1,2,3,4,5,6,7,8,9,10,11,12,13,14,15,16,17,18,19,20,21)\n",
      "b= (2,12,17,9,5,3)(4,13,7)(6,14,18,20,21,11)(8,15)(10,16,19)\n",
      "order of b is 6\n",
      "Is the image isomorphic to Cp semidirect Cm where m=order of b True\n",
      "----\n",
      "p= 23\n",
      "a= (1,2,3,4,5,6,7,8,9,10,11,12,13,14,15,16,17,18,19,20,21,22,23)\n",
      "b= (2,13,7,4,14,19,10,17,9,5,3)(6,15,8,16,20,22,23,12,18,21,11)\n",
      "order of b is 11\n",
      "Is the image isomorphic to Cp semidirect Cm where m=order of b True\n",
      "----\n",
      "p= 25\n",
      "a= (1,2,3,4,5,6,7,8,9,10,11,12,13,14,15,16,17,18,19,20,21,22,23,24,25)\n",
      "b= (2,14,20,23,12,19,10,18,22,24,25,13,7,4,15,8,17,9,5,3)(6,16,21,11)\n",
      "order of b is 20\n",
      "Is the image isomorphic to Cp semidirect Cm where m=order of b True\n",
      "----\n",
      "p= 27\n",
      "a= (1,2,3,4,5,6,7,8,9,10,11,12,13,14,15,16,17,18,19,20,21,22,23,24,25,26,27)\n",
      "b= (2,15,8,18,23,12,20,24,26,27,14,21,11,6,17,9,5,3)(4,16,22,25,13,7)(10,19)\n",
      "order of b is 18\n",
      "Is the image isomorphic to Cp semidirect Cm where m=order of b True\n",
      "----\n",
      "p= 29\n",
      "a= (1,2,3,4,5,6,7,8,9,10,11,12,13,14,15,16,17,18,19,20,21,22,23,24,25,26,27,28,29)\n",
      "b= (2,16,23,12,21,11,6,18,24,27,14,22,26,28,29,15,8,19,10,20,25,13,7,4,17,9,5,3)\n",
      "order of b is 28\n",
      "Is the image isomorphic to Cp semidirect Cm where m=order of b True\n",
      "----\n",
      "p= 31\n",
      "a= (1,2,3,4,5,6,7,8,9,10,11,12,13,14,15,16,17,18,19,20,21,22,23,24,25,26,27,28,29,30,31)\n",
      "b= (2,17,9,5,3)(4,18,25,13,7)(6,19,10,21,11)(8,20,26,29,15)(12,22,27,14,23)(16,24,28,30,31)\n",
      "order of b is 5\n",
      "Is the image isomorphic to Cp semidirect Cm where m=order of b True\n",
      "----\n",
      "p= 33\n",
      "a= (1,2,3,4,5,6,7,8,9,10,11,12,13,14,15,16,17,18,19,20,21,22,23,24,25,26,27,28,29,30,31,32,33)\n",
      "b= (2,18,26,30,32,33,17,9,5,3)(4,19,10,22,28,31,16,25,13,7)(6,20,27,14,24,29,15,8,21,11)(12,23)\n",
      "order of b is 10\n",
      "Is the image isomorphic to Cp semidirect Cm where m=order of b True\n",
      "----\n",
      "p= 35\n",
      "a= (1,2,3,4,5,6,7,8,9,10,11,12,13,14,15,16,17,18,19,20,21,22,23,24,25,26,27,28,29,30,31,32,33,34,35)\n",
      "b= (2,19,10,23,12,24,30,33,17,9,5,3)(4,20,28,32,34,35,18,27,14,25,13,7)(6,21,11)(8,22,29,15)(16,26,31)\n",
      "order of b is 12\n",
      "Is the image isomorphic to Cp semidirect Cm where m=order of b True\n",
      "----\n",
      "p= 37\n",
      "a= (1,2,3,4,5,6,7,8,9,10,11,12,13,14,15,16,17,18,19,20,21,22,23,24,25,26,27,28,29,30,31,32,33,34,35,36,37)\n",
      "b= (2,20,29,15,8,23,12,25,13,7,4,21,11,6,22,30,34,36,37,19,10,24,31,16,27,14,26,32,35,18,28,33,17,9,5,3)\n",
      "order of b is 36\n",
      "Is the image isomorphic to Cp semidirect Cm where m=order of b True\n",
      "----\n",
      "p= 39\n",
      "a= (1,2,3,4,5,6,7,8,9,10,11,12,13,14,15,16,17,18,19,20,21,22,23,24,25,26,27,28,29,30,31,32,33,34,35,36,37,38,39)\n",
      "b= (2,21,11,6,23,12,26,33,17,9,5,3)(4,22,31,16,28,34,37,19,10,25,13,7)(8,24,32,36,38,39,20,30,35,18,29,15)(14,27)\n",
      "order of b is 12\n",
      "Is the image isomorphic to Cp semidirect Cm where m=order of b True\n",
      "----\n",
      "p= 41\n",
      "a= (1,2,3,4,5,6,7,8,9,10,11,12,13,14,15,16,17,18,19,20,21,22,23,24,25,26,27,28,29,30,31,32,33,34,35,36,37,38,39,40,41)\n",
      "b= (2,22,32,37,19,10,26,34,38,40,41,21,11,6,24,33,17,9,5,3)(4,23,12,27,14,28,35,18,30,36,39,20,31,16,29,15,8,25,13,7)\n",
      "order of b is 20\n",
      "Is the image isomorphic to Cp semidirect Cm where m=order of b True\n",
      "----\n",
      "p= 43\n",
      "a= (1,2,3,4,5,6,7,8,9,10,11,12,13,14,15,16,17,18,19,20,21,22,23,24,25,26,27,28,29,30,31,32,33,34,35,36,37,38,39,40,41,42,43)\n",
      "b= (2,23,12,28,36,40,42,43,22,33,17,9,5,3)(4,24,34,39,20,32,38,41,21,11,6,25,13,7)(8,26,35,18,31,16,30,37,19,10,27,14,29,15)\n",
      "order of b is 14\n",
      "Is the image isomorphic to Cp semidirect Cm where m=order of b True\n",
      "----\n",
      "p= 45\n",
      "a= (1,2,3,4,5,6,7,8,9,10,11,12,13,14,15,16,17,18,19,20,21,22,23,24,25,26,27,28,29,30,31,32,33,34,35,36,37,38,39,40,41,42,43,44,45)\n",
      "b= (2,24,35,18,32,39,20,33,17,9,5,3)(4,25,13,7)(6,26,36,41,21,11)(8,27,14,30,38,42,44,45,23,12,29,15)(10,28,37,19)(16,31)(22,34,40,43)\n",
      "order of b is 12\n",
      "Is the image isomorphic to Cp semidirect Cm where m=order of b True\n",
      "----\n",
      "p= 47\n",
      "a= (1,2,3,4,5,6,7,8,9,10,11,12,13,14,15,16,17,18,19,20,21,22,23,24,25,26,27,28,29,30,31,32,33,34,35,36,37,38,39,40,41,42,43,44,45,46,47)\n",
      "b= (2,25,13,7,4,26,37,19,10,29,15,8,28,38,43,22,35,18,33,17,9,5,3)(6,27,14,31,16,32,40,44,46,47,24,36,42,45,23,12,30,39,20,34,41,21,11)\n",
      "order of b is 23\n",
      "Is the image isomorphic to Cp semidirect Cm where m=order of b True\n",
      "----\n",
      "p= 49\n",
      "a= (1,2,3,4,5,6,7,8,9,10,11,12,13,14,15,16,17,18,19,20,21,22,23,24,25,26,27,28,29,30,31,32,33,34,35,36,37,38,39,40,41,42,43,44,45,46,47,48,49)\n",
      "b= (2,26,38,44,47,24,37,19,10,30,40,45,23,12,31,16,33,17,9,5,3)(4,27,14,32,41,21,11,6,28,39,20,35,18,34,42,46,48,49,25,13,7)(8,29,15)(22,36,43)\n",
      "order of b is 21\n",
      "Is the image isomorphic to Cp semidirect Cm where m=order of b True\n"
     ]
    }
   ],
   "source": [
    "b_order_list=[]\n",
    "for i in range(1,25):\n",
    "    p=2*i+1\n",
    "    S=SymmetricGroup(p)\n",
    "    [a,b]=BS12_to_Sp(p)\n",
    "    G=S.subgroup([a,b])\n",
    "    print(\"----\")\n",
    "    print(\"p=\",p)\n",
    "    print(\"a=\",a)\n",
    "    print(\"b=\",b)\n",
    "    b_order=b.order()\n",
    "    print(\"order of b is\", b_order)\n",
    "    b_order_list.append(b_order)\n",
    "    #print(\"Strucure description of image group\", G.gap().StructureDescription())\n",
    "    SD=Semidirect(p,b_order)\n",
    "    print(\"Is the image isomorphic to Cp semidirect Cm where m=order of b\",SD.is_isomorphic(G))\n",
    "    #print(\"Image group ID\",G.gap().IdGroup() )"
   ]
  },
  {
   "cell_type": "code",
   "execution_count": 18,
   "metadata": {},
   "outputs": [
    {
     "name": "stdout",
     "output_type": "stream",
     "text": [
      "[2, 4, 3, 6, 10, 12, 4, 8, 18, 6, 11, 20, 18, 28, 5, 10, 12, 36, 12, 20, 14, 12, 23, 21]\n"
     ]
    }
   ],
   "source": [
    "print(b_order_list) #coincides with multiplicative order of 2 mod 2n+1"
   ]
  },
  {
   "cell_type": "code",
   "execution_count": null,
   "metadata": {},
   "outputs": [],
   "source": []
  }
 ],
 "metadata": {
  "kernelspec": {
   "display_name": "SageMath 9.4",
   "language": "sage",
   "name": "sagemath-9.4"
  },
  "language_info": {
   "codemirror_mode": {
    "name": "ipython",
    "version": 3
   },
   "file_extension": ".py",
   "mimetype": "text/x-python",
   "name": "python",
   "nbconvert_exporter": "python",
   "pygments_lexer": "ipython3",
   "version": "3.9.5"
  }
 },
 "nbformat": 4,
 "nbformat_minor": 5
}
