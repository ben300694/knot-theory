{
 "cells": [
  {
   "cell_type": "code",
   "execution_count": 1,
   "id": "5e2b28a7",
   "metadata": {},
   "outputs": [],
   "source": [
    "load('./src/bridge_trisections.sage')"
   ]
  },
  {
   "cell_type": "code",
   "execution_count": 2,
   "id": "05f8ad85",
   "metadata": {},
   "outputs": [],
   "source": [
    "bridge_number = 4\n",
    "symmetric_group_rank = 3\n",
    "\n",
    "spun_trefoil = tau_l_T_2_b(0, 3)\n",
    "trefoil_F = FreeGroup(2*bridge_number)\n",
    "\n",
    "trefoil_S = SymmetricGroup(symmetric_group_rank)\n",
    "trefoil_cover_F=FreeGroup((bridge_number*2) * symmetric_group_rank)\n",
    "\n",
    "trefoil_tangles_dict = {\n",
    "        'red': spun_trefoil.red_tangle,\n",
    "        'blu': spun_trefoil.blu_tangle,\n",
    "        'gre': spun_trefoil.gre_tangle,\n",
    "    }\n",
    "\n",
    "trefoil_images_of_generators = ['(1, 2)', '(1, 2)', '(1, 3)', '(1, 3)', \n",
    "                                '(1, 3)', '(1, 3)', '(1, 3)', '(1, 3)']"
   ]
  },
  {
   "cell_type": "code",
   "execution_count": 3,
   "id": "e894f16f-3fc9-4134-8e81-9a3ca3b3e216",
   "metadata": {},
   "outputs": [],
   "source": [
    "colored_trefoil = Colored_bridge_trisection(trefoil_F,\n",
    "                                            trefoil_S,\n",
    "                                            trefoil_tangles_dict,\n",
    "                                            trefoil_images_of_generators)"
   ]
  },
  {
   "cell_type": "code",
   "execution_count": 4,
   "id": "edfcfdb8",
   "metadata": {},
   "outputs": [
    {
     "name": "stdout",
     "output_type": "stream",
     "text": [
      "Finitely presented group < x0, x1, x2, x3, x4, x5, x6, x7, x8, x9, x10, x11, x12, x13, x14, x15, x16, x17, x18, x19, x20, x21, x22, x23 | 1, x0, x2, x0*x9*x2*x19*x4*x21*x6*x23, x8*x1*x10*x11*x12*x13*x14*x15, x16*x17*x18*x3*x20*x5*x22*x7 >\n",
      "Finitely presented group < x0, x1, x2, x3, x4, x5, x6, x7, x8, x9, x10, x11, x12, x13, x14, x15, x16, x17, x18, x19, x20, x21, x22, x23 | x0*x8, x16, x1*x9, x17, x2*x18, x10, x3*x19, x11, x4*x20, x12, x5*x21, x13, x6*x22, x14, x7*x23, x15, 1, x0, x2, x0*x9*x2*x19*x4*x21*x6*x23, x8*x1*x10*x11*x12*x13*x14*x15, x16*x17*x18*x3*x20*x5*x22*x7 >\n"
     ]
    }
   ],
   "source": [
    "#surface\n",
    "colored_trefoil.surface\n",
    "print(colored_trefoil.surface.pi_1_unbranched())\n",
    "print(colored_trefoil.surface.pi_1_branched())"
   ]
  },
  {
   "cell_type": "code",
   "execution_count": 8,
   "id": "8182fd6a",
   "metadata": {},
   "outputs": [
    {
     "name": "stdout",
     "output_type": "stream",
     "text": [
      "Simplified presentation for unbranched cover of surface\n",
      "Generic morphism:\n",
      "  From: Finitely presented group < x0, x1, x2, x3, x4, x5, x6, x7, x8, x9, x10, x11, x12, x13, x14, x15, x16, x17, x18, x19, x20, x21, x22, x23 | 1, x0, x2, x0*x9*x2*x19*x4*x21*x6*x23, x8*x1*x10*x11*x12*x13*x14*x15, x16*x17*x18*x3*x20*x5*x22*x7 >\n",
      "  To:   Finitely presented group < x1, x3, x4, x5, x6, x7, x8, x9, x10, x11, x12, x13, x14, x16, x17, x18, x19, x20, x21 |  >\n",
      "  Defn: x0 |--> 1\n",
      "        x1 |--> x1\n",
      "        x2 |--> 1\n",
      "        x3 |--> x3\n",
      "        x4 |--> x4\n",
      "        x5 |--> x5\n",
      "        x6 |--> x6\n",
      "        x7 |--> x7\n",
      "        x8 |--> x8\n",
      "        x9 |--> x9\n",
      "        x10 |--> x10\n",
      "        x11 |--> x11\n",
      "        x12 |--> x12\n",
      "        x13 |--> x13\n",
      "        x14 |--> x14\n",
      "        x15 |--> x14^-1*x13^-1*x12^-1*x11^-1*x10^-1*x1^-1*x8^-1\n",
      "        x16 |--> x16\n",
      "        x17 |--> x17\n",
      "        x18 |--> x18\n",
      "        x19 |--> x19\n",
      "        x20 |--> x20\n",
      "        x21 |--> x21\n",
      "        x22 |--> x5^-1*x20^-1*x3^-1*x18^-1*x17^-1*x16^-1*x7^-1\n",
      "        x23 |--> x6^-1*x21^-1*x4^-1*x19^-1*x9^-1\n",
      "Simplified presentation for branched cover of surface\n",
      "Generic morphism:\n",
      "  From: Finitely presented group < x0, x1, x2, x3, x4, x5, x6, x7, x8, x9, x10, x11, x12, x13, x14, x15, x16, x17, x18, x19, x20, x21, x22, x23 | x0*x8, x16, x1*x9, x17, x2*x18, x10, x3*x19, x11, x4*x20, x12, x5*x21, x13, x6*x22, x14, x7*x23, x15, 1, x0, x2, x0*x9*x2*x19*x4*x21*x6*x23, x8*x1*x10*x11*x12*x13*x14*x15, x16*x17*x18*x3*x20*x5*x22*x7 >\n",
      "  To:   Finitely presented group < x3, x4, x5, x6 | x3^-1*x4*x5^-1*x6*x3*x4^-1*x5*x6^-1 >\n",
      "  Defn: x0 |--> 1\n",
      "        x1 |--> 1\n",
      "        x2 |--> 1\n",
      "        x3 |--> x3\n",
      "        x4 |--> x4\n",
      "        x5 |--> x5\n",
      "        x6 |--> x6\n",
      "        x7 |--> x6*x5^-1*x4*x3^-1\n",
      "        x8 |--> 1\n",
      "        x9 |--> 1\n",
      "        x10 |--> 1\n",
      "        x11 |--> 1\n",
      "        x12 |--> 1\n",
      "        x13 |--> 1\n",
      "        x14 |--> 1\n",
      "        x15 |--> 1\n",
      "        x16 |--> 1\n",
      "        x17 |--> 1\n",
      "        x18 |--> 1\n",
      "        x19 |--> x3^-1\n",
      "        x20 |--> x4^-1\n",
      "        x21 |--> x5^-1\n",
      "        x22 |--> x6^-1\n",
      "        x23 |--> x3*x4^-1*x5*x6^-1\n"
     ]
    }
   ],
   "source": [
    "#surface: simplify presentations\n",
    "print(\"Simplified presentation for unbranched cover of surface\")\n",
    "print(colored_trefoil.surface.pi_1_unbranched().simplification_isomorphism())\n",
    "print(\"Simplified presentation for branched cover of surface\")\n",
    "print(colored_trefoil.surface.pi_1_branched().simplification_isomorphism())"
   ]
  },
  {
   "cell_type": "code",
   "execution_count": 11,
   "id": "49f41692",
   "metadata": {},
   "outputs": [
    {
     "name": "stdout",
     "output_type": "stream",
     "text": [
      "Rank of abelianization of pi_1 of branched cover of surface is 4:\n",
      "(0, 0, 0, 0)\n"
     ]
    }
   ],
   "source": [
    "#surface: Note that the simplified presentation is pi_1 of a genus 2 surface\n",
    "#verify rank of abelianization\n",
    "print(\"Rank of abelianization of pi_1 of branched cover of surface is 4:\")\n",
    "print(colored_trefoil.surface.pi_1_branched().abelian_invariants())"
   ]
  },
  {
   "cell_type": "code",
   "execution_count": 23,
   "id": "17af6620",
   "metadata": {},
   "outputs": [
    {
     "name": "stdout",
     "output_type": "stream",
     "text": [
      "unbranched group\n",
      "Finitely presented group < x0, x1, x2, x3, x4, x5, x6, x7, x8, x9, x10, x11, x12, x13, x14, x15, x16, x17, x18, x19, x20, x21, x22, x23 | x0*x9*x2*x17*x18*x9^-1*x10^-1*x1^-1, x8*x1*x10*x9*x2*x17^-1*x2^-1*x9^-1, x16*x17*x18*x1*x10*x1^-1*x18^-1*x17^-1, x1*x10*x9*x18^-1*x17^-1*x23, x9*x2*x17*x2^-1*x9^-1*x15, x17*x18*x1*x10^-1*x1^-1*x7, x3*x22, x11*x14, x19*x6, x4*x21, x12*x13, x20*x5, 1, x0, x2 >\n",
      "branched group\n",
      "Finitely presented group < x0, x1, x2, x3, x4, x5, x6, x7, x8, x9, x10, x11, x12, x13, x14, x15, x16, x17, x18, x19, x20, x21, x22, x23 | x0*x9*x2*x17*x18*x9^-1*x10^-1*x1^-1, x8*x1*x10*x9*x2*x17^-1*x2^-1*x9^-1, x16*x17*x18*x1*x10*x1^-1*x18^-1*x17^-1, x1*x10*x9*x18^-1*x17^-1*x23, x9*x2*x17*x2^-1*x9^-1*x15, x17*x18*x1*x10^-1*x1^-1*x7, x3*x22, x11*x14, x19*x6, x4*x21, x12*x13, x20*x5, 1, x0, x2, x0*x8, x16, x1*x9, x17, x2*x18, x10, x3*x19, x11, x4*x20, x12, x5*x21, x13, x6*x22, x14, x7*x23, x15 >\n",
      "genus\n",
      "2\n"
     ]
    }
   ],
   "source": [
    "#Red tangle unbranched and branched cover pi_1\n",
    "print('unbranched group')\n",
    "print(colored_trefoil.colored_tangles['red'].handlebody_group_unbranched())\n",
    "print('branched group')\n",
    "print(colored_trefoil.colored_tangles['red'].handlebody_group())\n"
   ]
  },
  {
   "cell_type": "code",
   "execution_count": 27,
   "id": "c078778f",
   "metadata": {},
   "outputs": [
    {
     "name": "stdout",
     "output_type": "stream",
     "text": [
      "Generic morphism:\n",
      "  From: Finitely presented group < x0, x1, x2, x3, x4, x5, x6, x7, x8, x9, x10, x11, x12, x13, x14, x15, x16, x17, x18, x19, x20, x21, x22, x23 | x0*x9*x2*x17*x18*x9^-1*x10^-1*x1^-1, x8*x1*x10*x9*x2*x17^-1*x2^-1*x9^-1, x16*x17*x18*x1*x10*x1^-1*x18^-1*x17^-1, x1*x10*x9*x18^-1*x17^-1*x23, x9*x2*x17*x2^-1*x9^-1*x15, x17*x18*x1*x10^-1*x1^-1*x7, x3*x22, x11*x14, x19*x6, x4*x21, x12*x13, x20*x5, 1, x0, x2, x0*x8, x16, x1*x9, x17, x2*x18, x10, x3*x19, x11, x4*x20, x12, x5*x21, x13, x6*x22, x14, x7*x23, x15 >\n",
      "  To:   Finitely presented group < x3, x4 |  >\n",
      "  Defn: x0 |--> 1\n",
      "        x1 |--> 1\n",
      "        x2 |--> 1\n",
      "        x3 |--> x3\n",
      "        x4 |--> x4\n",
      "        x5 |--> x4\n",
      "        x6 |--> x3\n",
      "        x7 |--> 1\n",
      "        x8 |--> 1\n",
      "        x9 |--> 1\n",
      "        x10 |--> 1\n",
      "        x11 |--> 1\n",
      "        x12 |--> 1\n",
      "        x13 |--> 1\n",
      "        x14 |--> 1\n",
      "        x15 |--> 1\n",
      "        x16 |--> 1\n",
      "        x17 |--> 1\n",
      "        x18 |--> 1\n",
      "        x19 |--> x3^-1\n",
      "        x20 |--> x4^-1\n",
      "        x21 |--> x4^-1\n",
      "        x22 |--> x3^-1\n",
      "        x23 |--> 1\n",
      "genus\n",
      "2\n"
     ]
    }
   ],
   "source": [
    "#simplify red handlebody presentation (this is how we determined genus)\n",
    "print(colored_trefoil.colored_tangles['red'].handlebody_group().simplification_isomorphism())\n",
    "\n",
    "#check red handlebody genus is 2\n",
    "print('genus')\n",
    "print(colored_trefoil.colored_tangles['red'].handlebody_genus())"
   ]
  },
  {
   "cell_type": "code",
   "execution_count": 18,
   "id": "d1a64510",
   "metadata": {},
   "outputs": [
    {
     "name": "stdout",
     "output_type": "stream",
     "text": [
      "unbranched group\n",
      "Finitely presented group < x0, x1, x2, x3, x4, x5, x6, x7, x8, x9, x10, x11, x12, x13, x14, x15, x16, x17, x18, x19, x20, x21, x22, x23 | x0*x9*x2*x17*x18*x9^-1*x10^-1*x1^-1, x8*x1*x10*x9*x2*x17^-1*x2^-1*x9^-1, x16*x17*x18*x1*x10*x1^-1*x18^-1*x17^-1, x1*x10*x9*x18^-1*x17^-1*x21, x9*x2*x17*x2^-1*x9^-1*x13, x17*x18*x1*x10^-1*x1^-1*x5, x3*x20, x11*x12, x19*x4, x6*x23, x14*x15, x22*x7, 1, x0, x2 >\n",
      "branched group\n",
      "Finitely presented group < x0, x1, x2, x3, x4, x5, x6, x7, x8, x9, x10, x11, x12, x13, x14, x15, x16, x17, x18, x19, x20, x21, x22, x23 | x0*x9*x2*x17*x18*x9^-1*x10^-1*x1^-1, x8*x1*x10*x9*x2*x17^-1*x2^-1*x9^-1, x16*x17*x18*x1*x10*x1^-1*x18^-1*x17^-1, x1*x10*x9*x18^-1*x17^-1*x21, x9*x2*x17*x2^-1*x9^-1*x13, x17*x18*x1*x10^-1*x1^-1*x5, x3*x20, x11*x12, x19*x4, x6*x23, x14*x15, x22*x7, 1, x0, x2, x0*x8, x16, x1*x9, x17, x2*x18, x10, x3*x19, x11, x4*x20, x12, x5*x21, x13, x6*x22, x14, x7*x23, x15 >\n",
      "genus\n",
      "2\n"
     ]
    }
   ],
   "source": [
    "#Blue  tangle unbranched and branched cover pi_1\n",
    "\n",
    "print('unbranched group')\n",
    "print(colored_trefoil.colored_tangles['blu'].handlebody_group_unbranched())\n",
    "print('branched group')\n",
    "print(colored_trefoil.colored_tangles['blu'].handlebody_group())\n",
    "print('genus')\n",
    "print(colored_trefoil.colored_tangles['blu'].handlebody_genus())"
   ]
  },
  {
   "cell_type": "code",
   "execution_count": 28,
   "id": "1b839159",
   "metadata": {},
   "outputs": [
    {
     "name": "stdout",
     "output_type": "stream",
     "text": [
      "Generic morphism:\n",
      "  From: Finitely presented group < x0, x1, x2, x3, x4, x5, x6, x7, x8, x9, x10, x11, x12, x13, x14, x15, x16, x17, x18, x19, x20, x21, x22, x23 | x0*x9*x2*x17*x18*x9^-1*x10^-1*x1^-1, x8*x1*x10*x9*x2*x17^-1*x2^-1*x9^-1, x16*x17*x18*x1*x10*x1^-1*x18^-1*x17^-1, x1*x10*x9*x18^-1*x17^-1*x21, x9*x2*x17*x2^-1*x9^-1*x13, x17*x18*x1*x10^-1*x1^-1*x5, x3*x20, x11*x12, x19*x4, x6*x23, x14*x15, x22*x7, 1, x0, x2, x0*x8, x16, x1*x9, x17, x2*x18, x10, x3*x19, x11, x4*x20, x12, x5*x21, x13, x6*x22, x14, x7*x23, x15 >\n",
      "  To:   Finitely presented group < x3, x6 |  >\n",
      "  Defn: x0 |--> 1\n",
      "        x1 |--> 1\n",
      "        x2 |--> 1\n",
      "        x3 |--> x3\n",
      "        x4 |--> x3\n",
      "        x5 |--> 1\n",
      "        x6 |--> x6\n",
      "        x7 |--> x6\n",
      "        x8 |--> 1\n",
      "        x9 |--> 1\n",
      "        x10 |--> 1\n",
      "        x11 |--> 1\n",
      "        x12 |--> 1\n",
      "        x13 |--> 1\n",
      "        x14 |--> 1\n",
      "        x15 |--> 1\n",
      "        x16 |--> 1\n",
      "        x17 |--> 1\n",
      "        x18 |--> 1\n",
      "        x19 |--> x3^-1\n",
      "        x20 |--> x3^-1\n",
      "        x21 |--> 1\n",
      "        x22 |--> x6^-1\n",
      "        x23 |--> x6^-1\n",
      "genus\n",
      "2\n"
     ]
    }
   ],
   "source": [
    "#simplify blue handlebody presentation (this is how we determined genus)\n",
    "print(colored_trefoil.colored_tangles['blu'].handlebody_group().simplification_isomorphism())\n",
    "\n",
    "#check blue handlebody genus is 2\n",
    "print('genus')\n",
    "print(colored_trefoil.colored_tangles['blu'].handlebody_genus())"
   ]
  },
  {
   "cell_type": "code",
   "execution_count": 24,
   "id": "6f998c56",
   "metadata": {},
   "outputs": [
    {
     "name": "stdout",
     "output_type": "stream",
     "text": [
      "unbranched group\n",
      "Finitely presented group < x0, x1, x2, x3, x4, x5, x6, x7, x8, x9, x10, x11, x12, x13, x14, x15, x16, x17, x18, x19, x20, x21, x22, x23 | x0*x9*x4*x17*x20*x9^-1*x12^-1*x1^-1, x8*x1*x12*x9*x4*x17^-1*x4^-1*x9^-1, x16*x17*x20*x1*x12*x1^-1*x20^-1*x17^-1, x1*x12*x9*x20^-1*x17^-1*x23, x9*x4*x17*x4^-1*x9^-1*x15, x17*x20*x1*x12^-1*x1^-1*x7, x2*x19, x10*x11, x18*x3, x5*x22, x13*x14, x21*x6, 1, x0, x2 >\n",
      "branched group\n",
      "Finitely presented group < x0, x1, x2, x3, x4, x5, x6, x7, x8, x9, x10, x11, x12, x13, x14, x15, x16, x17, x18, x19, x20, x21, x22, x23 | x0*x9*x4*x17*x20*x9^-1*x12^-1*x1^-1, x8*x1*x12*x9*x4*x17^-1*x4^-1*x9^-1, x16*x17*x20*x1*x12*x1^-1*x20^-1*x17^-1, x1*x12*x9*x20^-1*x17^-1*x23, x9*x4*x17*x4^-1*x9^-1*x15, x17*x20*x1*x12^-1*x1^-1*x7, x2*x19, x10*x11, x18*x3, x5*x22, x13*x14, x21*x6, 1, x0, x2, x0*x8, x16, x1*x9, x17, x2*x18, x10, x3*x19, x11, x4*x20, x12, x5*x21, x13, x6*x22, x14, x7*x23, x15 >\n",
      "genus\n",
      "2\n"
     ]
    }
   ],
   "source": [
    "#Green tangle unbranched and branched cover pi_1\n",
    "\n",
    "print('unbranched group')\n",
    "print(colored_trefoil.colored_tangles['gre'].handlebody_group_unbranched())\n",
    "print('branched group')\n",
    "print(colored_trefoil.colored_tangles['gre'].handlebody_group())\n",
    "print('genus')\n",
    "print(colored_trefoil.colored_tangles['gre'].handlebody_genus())"
   ]
  },
  {
   "cell_type": "code",
   "execution_count": 29,
   "id": "1c973dec",
   "metadata": {},
   "outputs": [
    {
     "name": "stdout",
     "output_type": "stream",
     "text": [
      "Generic morphism:\n",
      "  From: Finitely presented group < x0, x1, x2, x3, x4, x5, x6, x7, x8, x9, x10, x11, x12, x13, x14, x15, x16, x17, x18, x19, x20, x21, x22, x23 | x0*x9*x4*x17*x20*x9^-1*x12^-1*x1^-1, x8*x1*x12*x9*x4*x17^-1*x4^-1*x9^-1, x16*x17*x20*x1*x12*x1^-1*x20^-1*x17^-1, x1*x12*x9*x20^-1*x17^-1*x23, x9*x4*x17*x4^-1*x9^-1*x15, x17*x20*x1*x12^-1*x1^-1*x7, x2*x19, x10*x11, x18*x3, x5*x22, x13*x14, x21*x6, 1, x0, x2, x0*x8, x16, x1*x9, x17, x2*x18, x10, x3*x19, x11, x4*x20, x12, x5*x21, x13, x6*x22, x14, x7*x23, x15 >\n",
      "  To:   Finitely presented group < x4, x5 |  >\n",
      "  Defn: x0 |--> 1\n",
      "        x1 |--> 1\n",
      "        x2 |--> 1\n",
      "        x3 |--> 1\n",
      "        x4 |--> x4\n",
      "        x5 |--> x5\n",
      "        x6 |--> x5\n",
      "        x7 |--> x4\n",
      "        x8 |--> 1\n",
      "        x9 |--> 1\n",
      "        x10 |--> 1\n",
      "        x11 |--> 1\n",
      "        x12 |--> 1\n",
      "        x13 |--> 1\n",
      "        x14 |--> 1\n",
      "        x15 |--> 1\n",
      "        x16 |--> 1\n",
      "        x17 |--> 1\n",
      "        x18 |--> 1\n",
      "        x19 |--> 1\n",
      "        x20 |--> x4^-1\n",
      "        x21 |--> x5^-1\n",
      "        x22 |--> x5^-1\n",
      "        x23 |--> x4^-1\n",
      "genus\n",
      "2\n"
     ]
    }
   ],
   "source": [
    "#simplify green handlebody presentation (this is how we determined genus)\n",
    "print(colored_trefoil.colored_tangles['gre'].handlebody_group().simplification_isomorphism())\n",
    "\n",
    "\n",
    "#check green handlebody genus is 2\n",
    "print('genus')\n",
    "print(colored_trefoil.colored_tangles['gre'].handlebody_genus())"
   ]
  },
  {
   "cell_type": "code",
   "execution_count": 30,
   "id": "cab52a3b-256c-41d1-91bd-271494e442c5",
   "metadata": {},
   "outputs": [
    {
     "name": "stdout",
     "output_type": "stream",
     "text": [
      "Finitely presented group < x0, x1, x2, x3, x4, x5, x6, x7, x8, x9, x10, x11, x12, x13, x14, x15, x16, x17, x18, x19, x20, x21, x22, x23 | 1, x0, x2, x0*x9*x2*x17*x18*x9^-1*x10^-1*x1^-1, x8*x1*x10*x9*x2*x17^-1*x2^-1*x9^-1, x16*x17*x18*x1*x10*x1^-1*x18^-1*x17^-1, x1*x10*x9*x18^-1*x17^-1*x23, x9*x2*x17*x2^-1*x9^-1*x15, x17*x18*x1*x10^-1*x1^-1*x7, x3*x22, x11*x14, x19*x6, x4*x21, x12*x13, x20*x5, 1, x0, x2, x0*x9*x2*x17*x18*x9^-1*x10^-1*x1^-1, x8*x1*x10*x9*x2*x17^-1*x2^-1*x9^-1, x16*x17*x18*x1*x10*x1^-1*x18^-1*x17^-1, x1*x10*x9*x18^-1*x17^-1*x21, x9*x2*x17*x2^-1*x9^-1*x13, x17*x18*x1*x10^-1*x1^-1*x5, x3*x20, x11*x12, x19*x4, x6*x23, x14*x15, x22*x7, 1, x0, x2, x0*x9*x4*x17*x20*x9^-1*x12^-1*x1^-1, x8*x1*x12*x9*x4*x17^-1*x4^-1*x9^-1, x16*x17*x20*x1*x12*x1^-1*x20^-1*x17^-1, x1*x12*x9*x20^-1*x17^-1*x23, x9*x4*x17*x4^-1*x9^-1*x15, x17*x20*x1*x12^-1*x1^-1*x7, x2*x19, x10*x11, x18*x3, x5*x22, x13*x14, x21*x6 >\n"
     ]
    },
    {
     "data": {
      "text/plain": [
       "Generic morphism:\n",
       "  From: Finitely presented group < x0, x1, x2, x3, x4, x5, x6, x7, x8, x9, x10, x11, x12, x13, x14, x15, x16, x17, x18, x19, x20, x21, x22, x23 | 1, x0, x2, x0*x9*x2*x17*x18*x9^-1*x10^-1*x1^-1, x8*x1*x10*x9*x2*x17^-1*x2^-1*x9^-1, x16*x17*x18*x1*x10*x1^-1*x18^-1*x17^-1, x1*x10*x9*x18^-1*x17^-1*x23, x9*x2*x17*x2^-1*x9^-1*x15, x17*x18*x1*x10^-1*x1^-1*x7, x3*x22, x11*x14, x19*x6, x4*x21, x12*x13, x20*x5, 1, x0, x2, x0*x9*x2*x17*x18*x9^-1*x10^-1*x1^-1, x8*x1*x10*x9*x2*x17^-1*x2^-1*x9^-1, x16*x17*x18*x1*x10*x1^-1*x18^-1*x17^-1, x1*x10*x9*x18^-1*x17^-1*x21, x9*x2*x17*x2^-1*x9^-1*x13, x17*x18*x1*x10^-1*x1^-1*x5, x3*x20, x11*x12, x19*x4, x6*x23, x14*x15, x22*x7, 1, x0, x2, x0*x9*x4*x17*x20*x9^-1*x12^-1*x1^-1, x8*x1*x12*x9*x4*x17^-1*x4^-1*x9^-1, x16*x17*x20*x1*x12*x1^-1*x20^-1*x17^-1, x1*x12*x9*x20^-1*x17^-1*x23, x9*x4*x17*x4^-1*x9^-1*x15, x17*x20*x1*x12^-1*x1^-1*x7, x2*x19, x10*x11, x18*x3, x5*x22, x13*x14, x21*x6 >\n",
       "  To:   Finitely presented group < x1, x10 | x1*x10*x1*(x10^-1*x1^-1)^2*x10 >\n",
       "  Defn: x0 |--> 1\n",
       "        x1 |--> x1\n",
       "        x2 |--> 1\n",
       "        x3 |--> x10^-1*x1^-1*x10\n",
       "        x4 |--> 1\n",
       "        x5 |--> x10^-1*x1^-1*x10\n",
       "        x6 |--> 1\n",
       "        x7 |--> x10^-1*x1^-1*x10\n",
       "        x8 |--> x1^-1\n",
       "        x9 |--> 1\n",
       "        x10 |--> x10\n",
       "        x11 |--> x10^-1\n",
       "        x12 |--> x10\n",
       "        x13 |--> x10^-1\n",
       "        x14 |--> x10\n",
       "        x15 |--> x10^-1\n",
       "        x16 |--> x10^-1\n",
       "        x17 |--> x10\n",
       "        x18 |--> x10^-1*x1*x10\n",
       "        x19 |--> 1\n",
       "        x20 |--> x10^-1*x1*x10\n",
       "        x21 |--> 1\n",
       "        x22 |--> x10^-1*x1*x10\n",
       "        x23 |--> 1"
      ]
     },
     "execution_count": 30,
     "metadata": {},
     "output_type": "execute_result"
    }
   ],
   "source": [
    "#pi_1 of unbranched cover of whole manifold, plus simplification\n",
    "\n",
    "pi_1_unbr = colored_trefoil.pi_1_unbranched_cover()\n",
    "print(pi_1_unbr)\n",
    "pi_1_unbr.simplification_isomorphism()"
   ]
  },
  {
   "cell_type": "code",
   "execution_count": 31,
   "id": "28bf3c92",
   "metadata": {},
   "outputs": [
    {
     "name": "stdout",
     "output_type": "stream",
     "text": [
      "Finitely presented group < x0, x1, x2, x3, x4, x5, x6, x7, x8, x9, x10, x11, x12, x13, x14, x15, x16, x17, x18, x19, x20, x21, x22, x23 | x0*x9*x2*x17*x18*x9^-1*x10^-1*x1^-1, x8*x1*x10*x9*x2*x17^-1*x2^-1*x9^-1, x16*x17*x18*x1*x10*x1^-1*x18^-1*x17^-1, x1*x10*x9*x18^-1*x17^-1*x23, x9*x2*x17*x2^-1*x9^-1*x15, x17*x18*x1*x10^-1*x1^-1*x7, x3*x22, x11*x14, x19*x6, x4*x21, x12*x13, x20*x5, 1, x0, x2, x0*x8, x16, x1*x9, x17, x2*x18, x10, x3*x19, x11, x4*x20, x12, x5*x21, x13, x6*x22, x14, x7*x23, x15, x0*x9*x2*x17*x18*x9^-1*x10^-1*x1^-1, x8*x1*x10*x9*x2*x17^-1*x2^-1*x9^-1, x16*x17*x18*x1*x10*x1^-1*x18^-1*x17^-1, x1*x10*x9*x18^-1*x17^-1*x21, x9*x2*x17*x2^-1*x9^-1*x13, x17*x18*x1*x10^-1*x1^-1*x5, x3*x20, x11*x12, x19*x4, x6*x23, x14*x15, x22*x7, 1, x0, x2, x0*x8, x16, x1*x9, x17, x2*x18, x10, x3*x19, x11, x4*x20, x12, x5*x21, x13, x6*x22, x14, x7*x23, x15, x0*x9*x4*x17*x20*x9^-1*x12^-1*x1^-1, x8*x1*x12*x9*x4*x17^-1*x4^-1*x9^-1, x16*x17*x20*x1*x12*x1^-1*x20^-1*x17^-1, x1*x12*x9*x20^-1*x17^-1*x23, x9*x4*x17*x4^-1*x9^-1*x15, x17*x20*x1*x12^-1*x1^-1*x7, x2*x19, x10*x11, x18*x3, x5*x22, x13*x14, x21*x6, 1, x0, x2, x0*x8, x16, x1*x9, x17, x2*x18, x10, x3*x19, x11, x4*x20, x12, x5*x21, x13, x6*x22, x14, x7*x23, x15 >\n"
     ]
    },
    {
     "data": {
      "text/plain": [
       "Generic morphism:\n",
       "  From: Finitely presented group < x0, x1, x2, x3, x4, x5, x6, x7, x8, x9, x10, x11, x12, x13, x14, x15, x16, x17, x18, x19, x20, x21, x22, x23 | x0*x9*x2*x17*x18*x9^-1*x10^-1*x1^-1, x8*x1*x10*x9*x2*x17^-1*x2^-1*x9^-1, x16*x17*x18*x1*x10*x1^-1*x18^-1*x17^-1, x1*x10*x9*x18^-1*x17^-1*x23, x9*x2*x17*x2^-1*x9^-1*x15, x17*x18*x1*x10^-1*x1^-1*x7, x3*x22, x11*x14, x19*x6, x4*x21, x12*x13, x20*x5, 1, x0, x2, x0*x8, x16, x1*x9, x17, x2*x18, x10, x3*x19, x11, x4*x20, x12, x5*x21, x13, x6*x22, x14, x7*x23, x15, x0*x9*x2*x17*x18*x9^-1*x10^-1*x1^-1, x8*x1*x10*x9*x2*x17^-1*x2^-1*x9^-1, x16*x17*x18*x1*x10*x1^-1*x18^-1*x17^-1, x1*x10*x9*x18^-1*x17^-1*x21, x9*x2*x17*x2^-1*x9^-1*x13, x17*x18*x1*x10^-1*x1^-1*x5, x3*x20, x11*x12, x19*x4, x6*x23, x14*x15, x22*x7, 1, x0, x2, x0*x8, x16, x1*x9, x17, x2*x18, x10, x3*x19, x11, x4*x20, x12, x5*x21, x13, x6*x22, x14, x7*x23, x15, x0*x9*x4*x17*x20*x9^-1*x12^-1*x1^-1, x8*x1*x12*x9*x4*x17^-1*x4^-1*x9^-1, x16*x17*x20*x1*x12*x1^-1*x20^-1*x17^-1, x1*x12*x9*x20^-1*x17^-1*x23, x9*x4*x17*x4^-1*x9^-1*x15, x17*x20*x1*x12^-1*x1^-1*x7, x2*x19, x10*x11, x18*x3, x5*x22, x13*x14, x21*x6, 1, x0, x2, x0*x8, x16, x1*x9, x17, x2*x18, x10, x3*x19, x11, x4*x20, x12, x5*x21, x13, x6*x22, x14, x7*x23, x15 >\n",
       "  To:   Finitely presented group <  |  >\n",
       "  Defn: x0 |--> 1\n",
       "        x1 |--> 1\n",
       "        x2 |--> 1\n",
       "        x3 |--> 1\n",
       "        x4 |--> 1\n",
       "        x5 |--> 1\n",
       "        x6 |--> 1\n",
       "        x7 |--> 1\n",
       "        x8 |--> 1\n",
       "        x9 |--> 1\n",
       "        x10 |--> 1\n",
       "        x11 |--> 1\n",
       "        x12 |--> 1\n",
       "        x13 |--> 1\n",
       "        x14 |--> 1\n",
       "        x15 |--> 1\n",
       "        x16 |--> 1\n",
       "        x17 |--> 1\n",
       "        x18 |--> 1\n",
       "        x19 |--> 1\n",
       "        x20 |--> 1\n",
       "        x21 |--> 1\n",
       "        x22 |--> 1\n",
       "        x23 |--> 1"
      ]
     },
     "execution_count": 31,
     "metadata": {},
     "output_type": "execute_result"
    }
   ],
   "source": [
    "#Simplify presentation of pi_1 of branched cover\n",
    "pi_1_br = colored_trefoil.pi_1_branched_cover()\n",
    "print(pi_1_br)\n",
    "pi_1_br.simplification_isomorphism()"
   ]
  },
  {
   "cell_type": "code",
   "execution_count": 33,
   "id": "2c0837c9",
   "metadata": {},
   "outputs": [
    {
     "name": "stdout",
     "output_type": "stream",
     "text": [
      "True\n",
      "True\n",
      "True\n"
     ]
    }
   ],
   "source": [
    "#check that the unions of handlebodies (3-manifolds) have free pi_1\n",
    "colored_trefoil.check_pi_1_branched_cover_3_manifolds_free()"
   ]
  },
  {
   "cell_type": "code",
   "execution_count": 39,
   "id": "0825c397",
   "metadata": {},
   "outputs": [
    {
     "name": "stdout",
     "output_type": "stream",
     "text": [
      "Finitely presented group < x0, x1, x2, x3, x4, x5, x6, x7, x8, x9, x10, x11, x12, x13, x14, x15, x16, x17, x18, x19, x20, x21, x22, x23 | x0*x9*x2*x17*x18*x9^-1*x10^-1*x1^-1, x8*x1*x10*x9*x2*x17^-1*x2^-1*x9^-1, x16*x17*x18*x1*x10*x1^-1*x18^-1*x17^-1, x1*x10*x9*x18^-1*x17^-1*x23, x9*x2*x17*x2^-1*x9^-1*x15, x17*x18*x1*x10^-1*x1^-1*x7, x3*x22, x11*x14, x19*x6, x4*x21, x12*x13, x20*x5, 1, x0, x2, x0*x8, x16, x1*x9, x17, x2*x18, x10, x3*x19, x11, x4*x20, x12, x5*x21, x13, x6*x22, x14, x7*x23, x15, x0*x9*x2*x17*x18*x9^-1*x10^-1*x1^-1, x8*x1*x10*x9*x2*x17^-1*x2^-1*x9^-1, x16*x17*x18*x1*x10*x1^-1*x18^-1*x17^-1, x1*x10*x9*x18^-1*x17^-1*x21, x9*x2*x17*x2^-1*x9^-1*x13, x17*x18*x1*x10^-1*x1^-1*x5, x3*x20, x11*x12, x19*x4, x6*x23, x14*x15, x22*x7, 1, x0, x2, x0*x8, x16, x1*x9, x17, x2*x18, x10, x3*x19, x11, x4*x20, x12, x5*x21, x13, x6*x22, x14, x7*x23, x15 >\n",
      "simplify red-blue manifold group\n",
      "Generic morphism:\n",
      "  From: Finitely presented group < x0, x1, x2, x3, x4, x5, x6, x7, x8, x9, x10, x11, x12, x13, x14, x15, x16, x17, x18, x19, x20, x21, x22, x23 | x0*x9*x2*x17*x18*x9^-1*x10^-1*x1^-1, x8*x1*x10*x9*x2*x17^-1*x2^-1*x9^-1, x16*x17*x18*x1*x10*x1^-1*x18^-1*x17^-1, x1*x10*x9*x18^-1*x17^-1*x23, x9*x2*x17*x2^-1*x9^-1*x15, x17*x18*x1*x10^-1*x1^-1*x7, x3*x22, x11*x14, x19*x6, x4*x21, x12*x13, x20*x5, 1, x0, x2, x0*x8, x16, x1*x9, x17, x2*x18, x10, x3*x19, x11, x4*x20, x12, x5*x21, x13, x6*x22, x14, x7*x23, x15, x0*x9*x2*x17*x18*x9^-1*x10^-1*x1^-1, x8*x1*x10*x9*x2*x17^-1*x2^-1*x9^-1, x16*x17*x18*x1*x10*x1^-1*x18^-1*x17^-1, x1*x10*x9*x18^-1*x17^-1*x21, x9*x2*x17*x2^-1*x9^-1*x13, x17*x18*x1*x10^-1*x1^-1*x5, x3*x20, x11*x12, x19*x4, x6*x23, x14*x15, x22*x7, 1, x0, x2, x0*x8, x16, x1*x9, x17, x2*x18, x10, x3*x19, x11, x4*x20, x12, x5*x21, x13, x6*x22, x14, x7*x23, x15 >\n",
      "  To:   Finitely presented group <  |  >\n",
      "  Defn: x0 |--> 1\n",
      "        x1 |--> 1\n",
      "        x2 |--> 1\n",
      "        x3 |--> 1\n",
      "        x4 |--> 1\n",
      "        x5 |--> 1\n",
      "        x6 |--> 1\n",
      "        x7 |--> 1\n",
      "        x8 |--> 1\n",
      "        x9 |--> 1\n",
      "        x10 |--> 1\n",
      "        x11 |--> 1\n",
      "        x12 |--> 1\n",
      "        x13 |--> 1\n",
      "        x14 |--> 1\n",
      "        x15 |--> 1\n",
      "        x16 |--> 1\n",
      "        x17 |--> 1\n",
      "        x18 |--> 1\n",
      "        x19 |--> 1\n",
      "        x20 |--> 1\n",
      "        x21 |--> 1\n",
      "        x22 |--> 1\n",
      "        x23 |--> 1\n",
      "trisection parameter: rank of red-blue manifold group\n",
      "()\n"
     ]
    }
   ],
   "source": [
    "#determine the trisection parameters k1, k2, k3\n",
    "\n",
    "#Determine k_1\n",
    "red_blu_relns=colored_trefoil.colored_tangles['red'].all_cover_relations()+colored_trefoil.colored_tangles['blu'].all_cover_relations()\n",
    "red_blu_3_manifold_group=colored_trefoil.coverF.quotient(red_blu_relns)\n",
    "print(red_blu_3_manifold_group)\n",
    "print(\"simplify red-blue manifold group\")\n",
    "print(red_blu_3_manifold_group.simplification_isomorphism())\n",
    "print(\"trisection parameter: rank of red-blue manifold group\")\n",
    "print(red_blu_3_manifold_group.abelian_invariants())"
   ]
  },
  {
   "cell_type": "code",
   "execution_count": 43,
   "id": "9354dbac",
   "metadata": {},
   "outputs": [
    {
     "name": "stdout",
     "output_type": "stream",
     "text": [
      "Finitely presented group < x0, x1, x2, x3, x4, x5, x6, x7, x8, x9, x10, x11, x12, x13, x14, x15, x16, x17, x18, x19, x20, x21, x22, x23 | x0*x9*x2*x17*x18*x9^-1*x10^-1*x1^-1, x8*x1*x10*x9*x2*x17^-1*x2^-1*x9^-1, x16*x17*x18*x1*x10*x1^-1*x18^-1*x17^-1, x1*x10*x9*x18^-1*x17^-1*x21, x9*x2*x17*x2^-1*x9^-1*x13, x17*x18*x1*x10^-1*x1^-1*x5, x3*x20, x11*x12, x19*x4, x6*x23, x14*x15, x22*x7, 1, x0, x2, x0*x8, x16, x1*x9, x17, x2*x18, x10, x3*x19, x11, x4*x20, x12, x5*x21, x13, x6*x22, x14, x7*x23, x15, x0*x9*x4*x17*x20*x9^-1*x12^-1*x1^-1, x8*x1*x12*x9*x4*x17^-1*x4^-1*x9^-1, x16*x17*x20*x1*x12*x1^-1*x20^-1*x17^-1, x1*x12*x9*x20^-1*x17^-1*x23, x9*x4*x17*x4^-1*x9^-1*x15, x17*x20*x1*x12^-1*x1^-1*x7, x2*x19, x10*x11, x18*x3, x5*x22, x13*x14, x21*x6, 1, x0, x2, x0*x8, x16, x1*x9, x17, x2*x18, x10, x3*x19, x11, x4*x20, x12, x5*x21, x13, x6*x22, x14, x7*x23, x15 >\n",
      "simplify blue-green manifold group\n",
      "Generic morphism:\n",
      "  From: Finitely presented group < x0, x1, x2, x3, x4, x5, x6, x7, x8, x9, x10, x11, x12, x13, x14, x15, x16, x17, x18, x19, x20, x21, x22, x23 | x0*x9*x2*x17*x18*x9^-1*x10^-1*x1^-1, x8*x1*x10*x9*x2*x17^-1*x2^-1*x9^-1, x16*x17*x18*x1*x10*x1^-1*x18^-1*x17^-1, x1*x10*x9*x18^-1*x17^-1*x21, x9*x2*x17*x2^-1*x9^-1*x13, x17*x18*x1*x10^-1*x1^-1*x5, x3*x20, x11*x12, x19*x4, x6*x23, x14*x15, x22*x7, 1, x0, x2, x0*x8, x16, x1*x9, x17, x2*x18, x10, x3*x19, x11, x4*x20, x12, x5*x21, x13, x6*x22, x14, x7*x23, x15, x0*x9*x4*x17*x20*x9^-1*x12^-1*x1^-1, x8*x1*x12*x9*x4*x17^-1*x4^-1*x9^-1, x16*x17*x20*x1*x12*x1^-1*x20^-1*x17^-1, x1*x12*x9*x20^-1*x17^-1*x23, x9*x4*x17*x4^-1*x9^-1*x15, x17*x20*x1*x12^-1*x1^-1*x7, x2*x19, x10*x11, x18*x3, x5*x22, x13*x14, x21*x6, 1, x0, x2, x0*x8, x16, x1*x9, x17, x2*x18, x10, x3*x19, x11, x4*x20, x12, x5*x21, x13, x6*x22, x14, x7*x23, x15 >\n",
      "  To:   Finitely presented group <  |  >\n",
      "  Defn: x0 |--> 1\n",
      "        x1 |--> 1\n",
      "        x2 |--> 1\n",
      "        x3 |--> 1\n",
      "        x4 |--> 1\n",
      "        x5 |--> 1\n",
      "        x6 |--> 1\n",
      "        x7 |--> 1\n",
      "        x8 |--> 1\n",
      "        x9 |--> 1\n",
      "        x10 |--> 1\n",
      "        x11 |--> 1\n",
      "        x12 |--> 1\n",
      "        x13 |--> 1\n",
      "        x14 |--> 1\n",
      "        x15 |--> 1\n",
      "        x16 |--> 1\n",
      "        x17 |--> 1\n",
      "        x18 |--> 1\n",
      "        x19 |--> 1\n",
      "        x20 |--> 1\n",
      "        x21 |--> 1\n",
      "        x22 |--> 1\n",
      "        x23 |--> 1\n",
      "trisection parameter: rank of blue-green manifold group\n",
      "()\n"
     ]
    }
   ],
   "source": [
    "#determine the trisection parameters k1, k2, k3\n",
    "\n",
    "#Determine k_2\n",
    "blu_gre_relns=colored_trefoil.colored_tangles['blu'].all_cover_relations()+colored_trefoil.colored_tangles['gre'].all_cover_relations()\n",
    "blu_gre_3_manifold_group=colored_trefoil.coverF.quotient(blu_gre_relns)\n",
    "print(blu_gre_3_manifold_group)\n",
    "print(\"simplify blue-green manifold group\")\n",
    "print(blu_gre_3_manifold_group.simplification_isomorphism())\n",
    "print(\"trisection parameter: rank of blue-green manifold group\")\n",
    "print(blu_gre_3_manifold_group.abelian_invariants())"
   ]
  },
  {
   "cell_type": "code",
   "execution_count": 44,
   "id": "84312f25",
   "metadata": {},
   "outputs": [
    {
     "name": "stdout",
     "output_type": "stream",
     "text": [
      "Finitely presented group < x0, x1, x2, x3, x4, x5, x6, x7, x8, x9, x10, x11, x12, x13, x14, x15, x16, x17, x18, x19, x20, x21, x22, x23 | x0*x9*x4*x17*x20*x9^-1*x12^-1*x1^-1, x8*x1*x12*x9*x4*x17^-1*x4^-1*x9^-1, x16*x17*x20*x1*x12*x1^-1*x20^-1*x17^-1, x1*x12*x9*x20^-1*x17^-1*x23, x9*x4*x17*x4^-1*x9^-1*x15, x17*x20*x1*x12^-1*x1^-1*x7, x2*x19, x10*x11, x18*x3, x5*x22, x13*x14, x21*x6, 1, x0, x2, x0*x8, x16, x1*x9, x17, x2*x18, x10, x3*x19, x11, x4*x20, x12, x5*x21, x13, x6*x22, x14, x7*x23, x15, x0*x9*x2*x17*x18*x9^-1*x10^-1*x1^-1, x8*x1*x10*x9*x2*x17^-1*x2^-1*x9^-1, x16*x17*x18*x1*x10*x1^-1*x18^-1*x17^-1, x1*x10*x9*x18^-1*x17^-1*x23, x9*x2*x17*x2^-1*x9^-1*x15, x17*x18*x1*x10^-1*x1^-1*x7, x3*x22, x11*x14, x19*x6, x4*x21, x12*x13, x20*x5, 1, x0, x2, x0*x8, x16, x1*x9, x17, x2*x18, x10, x3*x19, x11, x4*x20, x12, x5*x21, x13, x6*x22, x14, x7*x23, x15 >\n",
      "simplify green-red manifold group\n",
      "Generic morphism:\n",
      "  From: Finitely presented group < x0, x1, x2, x3, x4, x5, x6, x7, x8, x9, x10, x11, x12, x13, x14, x15, x16, x17, x18, x19, x20, x21, x22, x23 | x0*x9*x4*x17*x20*x9^-1*x12^-1*x1^-1, x8*x1*x12*x9*x4*x17^-1*x4^-1*x9^-1, x16*x17*x20*x1*x12*x1^-1*x20^-1*x17^-1, x1*x12*x9*x20^-1*x17^-1*x23, x9*x4*x17*x4^-1*x9^-1*x15, x17*x20*x1*x12^-1*x1^-1*x7, x2*x19, x10*x11, x18*x3, x5*x22, x13*x14, x21*x6, 1, x0, x2, x0*x8, x16, x1*x9, x17, x2*x18, x10, x3*x19, x11, x4*x20, x12, x5*x21, x13, x6*x22, x14, x7*x23, x15, x0*x9*x2*x17*x18*x9^-1*x10^-1*x1^-1, x8*x1*x10*x9*x2*x17^-1*x2^-1*x9^-1, x16*x17*x18*x1*x10*x1^-1*x18^-1*x17^-1, x1*x10*x9*x18^-1*x17^-1*x23, x9*x2*x17*x2^-1*x9^-1*x15, x17*x18*x1*x10^-1*x1^-1*x7, x3*x22, x11*x14, x19*x6, x4*x21, x12*x13, x20*x5, 1, x0, x2, x0*x8, x16, x1*x9, x17, x2*x18, x10, x3*x19, x11, x4*x20, x12, x5*x21, x13, x6*x22, x14, x7*x23, x15 >\n",
      "  To:   Finitely presented group <  |  >\n",
      "  Defn: x0 |--> 1\n",
      "        x1 |--> 1\n",
      "        x2 |--> 1\n",
      "        x3 |--> 1\n",
      "        x4 |--> 1\n",
      "        x5 |--> 1\n",
      "        x6 |--> 1\n",
      "        x7 |--> 1\n",
      "        x8 |--> 1\n",
      "        x9 |--> 1\n",
      "        x10 |--> 1\n",
      "        x11 |--> 1\n",
      "        x12 |--> 1\n",
      "        x13 |--> 1\n",
      "        x14 |--> 1\n",
      "        x15 |--> 1\n",
      "        x16 |--> 1\n",
      "        x17 |--> 1\n",
      "        x18 |--> 1\n",
      "        x19 |--> 1\n",
      "        x20 |--> 1\n",
      "        x21 |--> 1\n",
      "        x22 |--> 1\n",
      "        x23 |--> 1\n",
      "trisection parameter: rank of green-red manifold group\n",
      "()\n"
     ]
    }
   ],
   "source": [
    "#determine the trisection parameters k1, k2, k3\n",
    "\n",
    "#Determine k_3\n",
    "gre_red_relns=colored_trefoil.colored_tangles['gre'].all_cover_relations()+colored_trefoil.colored_tangles['red'].all_cover_relations()\n",
    "gre_red_3_manifold_group=colored_trefoil.coverF.quotient(gre_red_relns)\n",
    "print(gre_red_3_manifold_group)\n",
    "print(\"simplify green-red manifold group\")\n",
    "print(gre_red_3_manifold_group.simplification_isomorphism())\n",
    "print(\"trisection parameter: rank of green-red manifold group\")\n",
    "print(gre_red_3_manifold_group.abelian_invariants())"
   ]
  },
  {
   "cell_type": "code",
   "execution_count": 34,
   "id": "faeec57d-8146-46e2-a70c-fb0033d3b463",
   "metadata": {},
   "outputs": [
    {
     "data": {
      "text/plain": [
       "[2, [0, 0, 0]]"
      ]
     },
     "execution_count": 34,
     "metadata": {},
     "output_type": "execute_result"
    }
   ],
   "source": [
    "colored_trefoil.trisection_parameters_branched_cover()"
   ]
  },
  {
   "cell_type": "code",
   "execution_count": 47,
   "id": "042020f4",
   "metadata": {},
   "outputs": [
    {
     "name": "stdout",
     "output_type": "stream",
     "text": [
      "x0 ---> 1\n",
      "x1 ---> x1*x0^-1\n",
      "x2 ---> 1\n",
      "x3 ---> x3*x2^-1\n",
      "x4 ---> x4*x2^-1\n",
      "x5 ---> x5*x2^-1\n",
      "x6 ---> x6*x2^-1\n",
      "x7 ---> x7*x2^-1\n",
      "x8 ---> x0^2\n",
      "x9 ---> x0*x1\n",
      "x10 ---> x0*x2*x0^-1\n",
      "x11 ---> x0*x3*x0^-1\n",
      "x12 ---> x0*x4*x0^-1\n",
      "x13 ---> x0*x5*x0^-1\n",
      "x14 ---> x0*x6*x0^-1\n",
      "x15 ---> x0*x7*x0^-1\n",
      "x16 ---> x2*x0*x2^-1\n",
      "x17 ---> x2*x1*x2^-1\n",
      "x18 ---> x2^2\n",
      "x19 ---> x2*x3\n",
      "x20 ---> x2*x4\n",
      "x21 ---> x2*x5\n",
      "x22 ---> x2*x6\n",
      "x23 ---> x2*x7\n"
     ]
    }
   ],
   "source": [
    "claw_hom=colored_trefoil.surface.covering_hom()\n",
    "for gen in colored_trefoil.surface.pi_1_unbranched().gens():\n",
    "    print(gen, \"--->\", claw_hom.image(gen))"
   ]
  },
  {
   "cell_type": "code",
   "execution_count": 51,
   "id": "d5c93062",
   "metadata": {},
   "outputs": [
    {
     "name": "stdout",
     "output_type": "stream",
     "text": [
      "{1: [], 2: [[0, 1, 1]], 3: [[2, 1, 1]]}\n",
      "[1, x0, x2]\n"
     ]
    }
   ],
   "source": [
    "#claw relations: x_0^1, x_2^1, aka x_0 and x_2\n",
    "\n",
    "print(colored_trefoil.surface.claw_relations_endpt_sub_sup_exp_dict())\n",
    "print(colored_trefoil.surface.claw_relations_reindex())"
   ]
  },
  {
   "cell_type": "code",
   "execution_count": null,
   "id": "f306b9b0",
   "metadata": {},
   "outputs": [],
   "source": []
  }
 ],
 "metadata": {
  "kernelspec": {
   "display_name": "SageMath 9.5",
   "language": "sage",
   "name": "sagemath-9.5"
  },
  "language_info": {
   "codemirror_mode": {
    "name": "ipython",
    "version": 3
   },
   "file_extension": ".py",
   "mimetype": "text/x-python",
   "name": "python",
   "nbconvert_exporter": "python",
   "pygments_lexer": "ipython3",
   "version": "3.9.9"
  }
 },
 "nbformat": 4,
 "nbformat_minor": 5
}
