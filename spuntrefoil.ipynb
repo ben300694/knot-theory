{
 "cells": [
  {
   "cell_type": "code",
   "execution_count": 1,
   "id": "5e2b28a7",
   "metadata": {},
   "outputs": [],
   "source": [
    "load(\"src/bridge_trisections.sage\")\n"
   ]
  },
  {
   "cell_type": "code",
   "execution_count": 2,
   "id": "05f8ad85",
   "metadata": {},
   "outputs": [],
   "source": [
    "spun_trefoil = tau_l_T_2_b(0, 3)\n",
    "trefoil_F = FreeGroup(8)\n",
    "trefoil_S = SymmetricGroup(3)\n",
    "trefoil_cover_F=FreeGroup(8*3)"
   ]
  },
  {
   "cell_type": "code",
   "execution_count": 3,
   "id": "e457c44d",
   "metadata": {},
   "outputs": [
    {
     "name": "stdout",
     "output_type": "stream",
     "text": [
      "{'bridge_number': 4, 'F': Free Group on generators {x0, x1, x2, x3, x4, x5, x6, x7}, 'red_tangle': {'bridge_number': 4, 'F': Free Group on generators {x0, x1, x2, x3, x4, x5, x6, x7}, 'generators_bottom_list': [x0, x1, x2, x3, x4, x5, x6, x7], 'generators_temp_list': [x0, (x1*x2)^2*x1^-1*x2^-1*x1^-1, x1*x2*x1*x2^-1*x1^-1, x3, x4, x5, x6, x7], 'braid_word': [{'first_index': 1, 'second_index': 2, 'sign': 1}, {'first_index': 1, 'second_index': 2, 'sign': 1}, {'first_index': 1, 'second_index': 2, 'sign': 1}], 'strand_matching': [(0, 1), (2, 7), (3, 6), (4, 5)]}, 'blu_tangle': {'bridge_number': 4, 'F': Free Group on generators {x0, x1, x2, x3, x4, x5, x6, x7}, 'generators_bottom_list': [x0, x1, x2, x3, x4, x5, x6, x7], 'generators_temp_list': [x0, (x1*x2)^2*x1^-1*x2^-1*x1^-1, x1*x2*x1*x2^-1*x1^-1, x3, x4, x5, x6, x7], 'braid_word': [{'first_index': 1, 'second_index': 2, 'sign': 1}, {'first_index': 1, 'second_index': 2, 'sign': 1}, {'first_index': 1, 'second_index': 2, 'sign': 1}], 'strand_matching': [(0, 1), (2, 5), (3, 4), (6, 7)]}, 'gre_tangle': {'bridge_number': 4, 'F': Free Group on generators {x0, x1, x2, x3, x4, x5, x6, x7}, 'generators_bottom_list': [x0, x1, x2, x3, x4, x5, x6, x7], 'generators_temp_list': [x0, (x1*x4)^2*x1^-1*x4^-1*x1^-1, x2, x3, x1*x4*x1*x4^-1*x1^-1, x5, x6, x7], 'braid_word': [{'first_index': 1, 'second_index': 4, 'sign': 1}, {'first_index': 1, 'second_index': 4, 'sign': 1}, {'first_index': 1, 'second_index': 4, 'sign': 1}], 'strand_matching': [(0, 1), (4, 7), (2, 3), (5, 6)]}}\n"
     ]
    }
   ],
   "source": [
    "print(spun_trefoil)"
   ]
  },
  {
   "cell_type": "code",
   "execution_count": 4,
   "id": "3493b132",
   "metadata": {},
   "outputs": [
    {
     "data": {
      "text/plain": [
       "{'bridge_number': 4, 'F': Free Group on generators {x0, x1, x2, x3, x4, x5, x6, x7}, 'generators_bottom_list': [x0, x1, x2, x3, x4, x5, x6, x7], 'generators_temp_list': [x0, (x1*x2)^2*x1^-1*x2^-1*x1^-1, x1*x2*x1*x2^-1*x1^-1, x3, x4, x5, x6, x7], 'braid_word': [{'first_index': 1, 'second_index': 2, 'sign': 1}, {'first_index': 1, 'second_index': 2, 'sign': 1}, {'first_index': 1, 'second_index': 2, 'sign': 1}], 'strand_matching': [(0, 1), (2, 7), (3, 6), (4, 5)]}"
      ]
     },
     "execution_count": 4,
     "metadata": {},
     "output_type": "execute_result"
    }
   ],
   "source": [
    "spun_trefoil.red_tangle"
   ]
  },
  {
   "cell_type": "code",
   "execution_count": 5,
   "id": "7bfe2b5d",
   "metadata": {},
   "outputs": [
    {
     "data": {
      "text/plain": [
       "{'bridge_number': 4, 'F': Free Group on generators {x0, x1, x2, x3, x4, x5, x6, x7}, 'generators_bottom_list': [x0, x1, x2, x3, x4, x5, x6, x7], 'generators_temp_list': [x0, (x1*x2)^2*x1^-1*x2^-1*x1^-1, x1*x2*x1*x2^-1*x1^-1, x3, x4, x5, x6, x7], 'braid_word': [{'first_index': 1, 'second_index': 2, 'sign': 1}, {'first_index': 1, 'second_index': 2, 'sign': 1}, {'first_index': 1, 'second_index': 2, 'sign': 1}], 'strand_matching': [(0, 1), (2, 5), (3, 4), (6, 7)]}"
      ]
     },
     "execution_count": 5,
     "metadata": {},
     "output_type": "execute_result"
    }
   ],
   "source": [
    "spun_trefoil.blu_tangle"
   ]
  },
  {
   "cell_type": "code",
   "execution_count": 6,
   "id": "6ad9a89a",
   "metadata": {},
   "outputs": [
    {
     "data": {
      "text/plain": [
       "{'bridge_number': 4, 'F': Free Group on generators {x0, x1, x2, x3, x4, x5, x6, x7}, 'generators_bottom_list': [x0, x1, x2, x3, x4, x5, x6, x7], 'generators_temp_list': [x0, (x1*x4)^2*x1^-1*x4^-1*x1^-1, x2, x3, x1*x4*x1*x4^-1*x1^-1, x5, x6, x7], 'braid_word': [{'first_index': 1, 'second_index': 4, 'sign': 1}, {'first_index': 1, 'second_index': 4, 'sign': 1}, {'first_index': 1, 'second_index': 4, 'sign': 1}], 'strand_matching': [(0, 1), (4, 7), (2, 3), (5, 6)]}"
      ]
     },
     "execution_count": 6,
     "metadata": {},
     "output_type": "execute_result"
    }
   ],
   "source": [
    "spun_trefoil.gre_tangle"
   ]
  },
  {
   "cell_type": "code",
   "execution_count": 7,
   "id": "58981b39",
   "metadata": {},
   "outputs": [],
   "source": [
    "trefoil_images_of_generators = ['(1, 2)', '(1, 2)', '(1, 3)', '(1, 3)', '(1, 3)', '(1, 3)', '(1, 3)', '(1, 3)']\n"
   ]
  },
  {
   "cell_type": "code",
   "execution_count": 8,
   "id": "5850d348",
   "metadata": {},
   "outputs": [],
   "source": [
    "trefoil_coloring_red = Colored_trivial_tangle(trefoil_F, trefoil_S, spun_trefoil.red_tangle.relations(), trefoil_images_of_generators)"
   ]
  },
  {
   "cell_type": "code",
   "execution_count": 9,
   "id": "9499cd80",
   "metadata": {},
   "outputs": [],
   "source": [
    "trefoil_coloring_blu = Colored_trivial_tangle(trefoil_F, trefoil_S, spun_trefoil.blu_tangle.relations(), trefoil_images_of_generators)"
   ]
  },
  {
   "cell_type": "code",
   "execution_count": 10,
   "id": "f78b5f3f",
   "metadata": {},
   "outputs": [],
   "source": [
    "trefoil_coloring_gre = Colored_trivial_tangle(trefoil_F, trefoil_S, spun_trefoil.gre_tangle.relations(), trefoil_images_of_generators)"
   ]
  },
  {
   "cell_type": "code",
   "execution_count": 11,
   "id": "000dead6",
   "metadata": {},
   "outputs": [
    {
     "data": {
      "text/plain": [
       "[[[0, 1, 1],\n",
       "  [1, 2, 1],\n",
       "  [2, 1, 1],\n",
       "  [1, 3, 1],\n",
       "  [2, 3, 1],\n",
       "  [1, 2, -1],\n",
       "  [2, 2, -1],\n",
       "  [1, 1, -1]],\n",
       " [[0, 2, 1],\n",
       "  [1, 1, 1],\n",
       "  [2, 2, 1],\n",
       "  [1, 2, 1],\n",
       "  [2, 1, 1],\n",
       "  [1, 3, -1],\n",
       "  [2, 1, -1],\n",
       "  [1, 2, -1]],\n",
       " [[0, 3, 1],\n",
       "  [1, 3, 1],\n",
       "  [2, 3, 1],\n",
       "  [1, 1, 1],\n",
       "  [2, 2, 1],\n",
       "  [1, 1, -1],\n",
       "  [2, 3, -1],\n",
       "  [1, 3, -1]],\n",
       " [[1, 1, 1], [2, 2, 1], [1, 2, 1], [2, 3, -1], [1, 3, -1], [7, 3, 1]],\n",
       " [[1, 2, 1], [2, 1, 1], [1, 3, 1], [2, 1, -1], [1, 2, -1], [7, 2, 1]],\n",
       " [[1, 3, 1], [2, 3, 1], [1, 1, 1], [2, 2, -1], [1, 1, -1], [7, 1, 1]],\n",
       " [[3, 1, 1], [6, 3, 1]],\n",
       " [[3, 2, 1], [6, 2, 1]],\n",
       " [[3, 3, 1], [6, 1, 1]],\n",
       " [[4, 1, 1], [5, 3, 1]],\n",
       " [[4, 2, 1], [5, 2, 1]],\n",
       " [[4, 3, 1], [5, 1, 1]]]"
      ]
     },
     "execution_count": 11,
     "metadata": {},
     "output_type": "execute_result"
    }
   ],
   "source": [
    "\n",
    "trefoil_coloring_red.lift_relations_sub_sup_exp()"
   ]
  },
  {
   "cell_type": "code",
   "execution_count": 12,
   "id": "32ef5a1e",
   "metadata": {},
   "outputs": [
    {
     "data": {
      "text/plain": [
       "[x0*x9*x2*x17*x18*x9^-1*x10^-1*x1^-1,\n",
       " x8*x1*x10*x9*x2*x17^-1*x2^-1*x9^-1,\n",
       " x16*x17*x18*x1*x10*x1^-1*x18^-1*x17^-1,\n",
       " x1*x10*x9*x18^-1*x17^-1*x23,\n",
       " x9*x2*x17*x2^-1*x9^-1*x15,\n",
       " x17*x18*x1*x10^-1*x1^-1*x7,\n",
       " x3*x22,\n",
       " x11*x14,\n",
       " x19*x6,\n",
       " x4*x21,\n",
       " x12*x13,\n",
       " x20*x5]"
      ]
     },
     "execution_count": 12,
     "metadata": {},
     "output_type": "execute_result"
    }
   ],
   "source": [
    "trefoil_coloring_red.lift_relations_reindex()"
   ]
  },
  {
   "cell_type": "code",
   "execution_count": 13,
   "id": "97486623",
   "metadata": {},
   "outputs": [
    {
     "data": {
      "text/plain": [
       "[[[0, 1, 1], [0, 2, 1]],\n",
       " [[0, 3, 1]],\n",
       " [[1, 1, 1], [1, 2, 1]],\n",
       " [[1, 3, 1]],\n",
       " [[2, 1, 1], [2, 3, 1]],\n",
       " [[2, 2, 1]],\n",
       " [[3, 1, 1], [3, 3, 1]],\n",
       " [[3, 2, 1]],\n",
       " [[4, 1, 1], [4, 3, 1]],\n",
       " [[4, 2, 1]],\n",
       " [[5, 1, 1], [5, 3, 1]],\n",
       " [[5, 2, 1]],\n",
       " [[6, 1, 1], [6, 3, 1]],\n",
       " [[6, 2, 1]],\n",
       " [[7, 1, 1], [7, 3, 1]],\n",
       " [[7, 2, 1]]]"
      ]
     },
     "execution_count": 13,
     "metadata": {},
     "output_type": "execute_result"
    }
   ],
   "source": [
    "trefoil_coloring_red.unbranchedtobranched_relations_sub_sup_exp()"
   ]
  },
  {
   "cell_type": "code",
   "execution_count": 14,
   "id": "416324ea",
   "metadata": {},
   "outputs": [
    {
     "data": {
      "text/plain": [
       "[x0*x8,\n",
       " x16,\n",
       " x1*x9,\n",
       " x17,\n",
       " x2*x18,\n",
       " x10,\n",
       " x3*x19,\n",
       " x11,\n",
       " x4*x20,\n",
       " x12,\n",
       " x5*x21,\n",
       " x13,\n",
       " x6*x22,\n",
       " x14,\n",
       " x7*x23,\n",
       " x15]"
      ]
     },
     "execution_count": 14,
     "metadata": {},
     "output_type": "execute_result"
    }
   ],
   "source": [
    "trefoil_coloring_red.unbranchedtobranched_relations_reindex()"
   ]
  },
  {
   "cell_type": "code",
   "execution_count": 15,
   "id": "9e4687cc",
   "metadata": {},
   "outputs": [
    {
     "data": {
      "text/plain": [
       "[x0*x9*x2*x17*x18*x9^-1*x10^-1*x1^-1,\n",
       " x8*x1*x10*x9*x2*x17^-1*x2^-1*x9^-1,\n",
       " x16*x17*x18*x1*x10*x1^-1*x18^-1*x17^-1,\n",
       " x1*x10*x9*x18^-1*x17^-1*x23,\n",
       " x9*x2*x17*x2^-1*x9^-1*x15,\n",
       " x17*x18*x1*x10^-1*x1^-1*x7,\n",
       " x3*x22,\n",
       " x11*x14,\n",
       " x19*x6,\n",
       " x4*x21,\n",
       " x12*x13,\n",
       " x20*x5,\n",
       " 1,\n",
       " x0,\n",
       " x2,\n",
       " x0*x8,\n",
       " x16,\n",
       " x1*x9,\n",
       " x17,\n",
       " x2*x18,\n",
       " x10,\n",
       " x3*x19,\n",
       " x11,\n",
       " x4*x20,\n",
       " x12,\n",
       " x5*x21,\n",
       " x13,\n",
       " x6*x22,\n",
       " x14,\n",
       " x7*x23,\n",
       " x15]"
      ]
     },
     "execution_count": 15,
     "metadata": {},
     "output_type": "execute_result"
    }
   ],
   "source": [
    "trefoil_coloring_red.all_cover_relations()"
   ]
  },
  {
   "cell_type": "code",
   "execution_count": 16,
   "id": "afb9cc55",
   "metadata": {},
   "outputs": [
    {
     "data": {
      "text/plain": [
       "[x0*x9*x2*x17*x18*x9^-1*x10^-1*x1^-1,\n",
       " x8*x1*x10*x9*x2*x17^-1*x2^-1*x9^-1,\n",
       " x16*x17*x18*x1*x10*x1^-1*x18^-1*x17^-1,\n",
       " x1*x10*x9*x18^-1*x17^-1*x21,\n",
       " x9*x2*x17*x2^-1*x9^-1*x13,\n",
       " x17*x18*x1*x10^-1*x1^-1*x5,\n",
       " x3*x20,\n",
       " x11*x12,\n",
       " x19*x4,\n",
       " x6*x23,\n",
       " x14*x15,\n",
       " x22*x7,\n",
       " 1,\n",
       " x0,\n",
       " x2,\n",
       " x0*x8,\n",
       " x16,\n",
       " x1*x9,\n",
       " x17,\n",
       " x2*x18,\n",
       " x10,\n",
       " x3*x19,\n",
       " x11,\n",
       " x4*x20,\n",
       " x12,\n",
       " x5*x21,\n",
       " x13,\n",
       " x6*x22,\n",
       " x14,\n",
       " x7*x23,\n",
       " x15]"
      ]
     },
     "execution_count": 16,
     "metadata": {},
     "output_type": "execute_result"
    }
   ],
   "source": [
    "trefoil_coloring_blu.all_cover_relations()"
   ]
  },
  {
   "cell_type": "code",
   "execution_count": 17,
   "id": "776cc9bc",
   "metadata": {},
   "outputs": [
    {
     "data": {
      "text/plain": [
       "[x0*x9*x4*x17*x20*x9^-1*x12^-1*x1^-1,\n",
       " x8*x1*x12*x9*x4*x17^-1*x4^-1*x9^-1,\n",
       " x16*x17*x20*x1*x12*x1^-1*x20^-1*x17^-1,\n",
       " x1*x12*x9*x20^-1*x17^-1*x23,\n",
       " x9*x4*x17*x4^-1*x9^-1*x15,\n",
       " x17*x20*x1*x12^-1*x1^-1*x7,\n",
       " x2*x19,\n",
       " x10*x11,\n",
       " x18*x3,\n",
       " x5*x22,\n",
       " x13*x14,\n",
       " x21*x6,\n",
       " 1,\n",
       " x0,\n",
       " x2,\n",
       " x0*x8,\n",
       " x16,\n",
       " x1*x9,\n",
       " x17,\n",
       " x2*x18,\n",
       " x10,\n",
       " x3*x19,\n",
       " x11,\n",
       " x4*x20,\n",
       " x12,\n",
       " x5*x21,\n",
       " x13,\n",
       " x6*x22,\n",
       " x14,\n",
       " x7*x23,\n",
       " x15]"
      ]
     },
     "execution_count": 17,
     "metadata": {},
     "output_type": "execute_result"
    }
   ],
   "source": [
    "trefoil_coloring_gre.all_cover_relations()"
   ]
  },
  {
   "cell_type": "code",
   "execution_count": 18,
   "id": "16db8633",
   "metadata": {},
   "outputs": [],
   "source": [
    "bigF=FreeGroup(24)"
   ]
  },
  {
   "cell_type": "code",
   "execution_count": 19,
   "id": "8613c314",
   "metadata": {},
   "outputs": [
    {
     "name": "stdout",
     "output_type": "stream",
     "text": [
      "Free Group on generators {x0, x1, x2, x3, x4, x5, x6, x7, x8, x9, x10, x11, x12, x13, x14, x15, x16, x17, x18, x19, x20, x21, x22, x23}\n"
     ]
    }
   ],
   "source": [
    "print(bigF)"
   ]
  },
  {
   "cell_type": "code",
   "execution_count": 20,
   "id": "bc2616fe",
   "metadata": {},
   "outputs": [],
   "source": [
    "handlebody_group_red=trefoil_coloring_red.coverF.quotient(trefoil_coloring_red.all_cover_relations())"
   ]
  },
  {
   "cell_type": "code",
   "execution_count": 21,
   "id": "2c971483",
   "metadata": {},
   "outputs": [
    {
     "name": "stdout",
     "output_type": "stream",
     "text": [
      "Finitely presented group < x0, x1, x2, x3, x4, x5, x6, x7, x8, x9, x10, x11, x12, x13, x14, x15, x16, x17, x18, x19, x20, x21, x22, x23 | x0*x9*x2*x17*x18*x9^-1*x10^-1*x1^-1, x8*x1*x10*x9*x2*x17^-1*x2^-1*x9^-1, x16*x17*x18*x1*x10*x1^-1*x18^-1*x17^-1, x1*x10*x9*x18^-1*x17^-1*x23, x9*x2*x17*x2^-1*x9^-1*x15, x17*x18*x1*x10^-1*x1^-1*x7, x3*x22, x11*x14, x19*x6, x4*x21, x12*x13, x20*x5, 1, x0, x2, x0*x8, x16, x1*x9, x17, x2*x18, x10, x3*x19, x11, x4*x20, x12, x5*x21, x13, x6*x22, x14, x7*x23, x15 >\n"
     ]
    }
   ],
   "source": [
    "print(handlebody_group_red)"
   ]
  },
  {
   "cell_type": "code",
   "execution_count": 22,
   "id": "f446ce52",
   "metadata": {},
   "outputs": [
    {
     "data": {
      "text/plain": [
       "Generic morphism:\n",
       "  From: Finitely presented group < x0, x1, x2, x3, x4, x5, x6, x7, x8, x9, x10, x11, x12, x13, x14, x15, x16, x17, x18, x19, x20, x21, x22, x23 | x0*x9*x2*x17*x18*x9^-1*x10^-1*x1^-1, x8*x1*x10*x9*x2*x17^-1*x2^-1*x9^-1, x16*x17*x18*x1*x10*x1^-1*x18^-1*x17^-1, x1*x10*x9*x18^-1*x17^-1*x23, x9*x2*x17*x2^-1*x9^-1*x15, x17*x18*x1*x10^-1*x1^-1*x7, x3*x22, x11*x14, x19*x6, x4*x21, x12*x13, x20*x5, 1, x0, x2, x0*x8, x16, x1*x9, x17, x2*x18, x10, x3*x19, x11, x4*x20, x12, x5*x21, x13, x6*x22, x14, x7*x23, x15 >\n",
       "  To:   Finitely presented group < x3, x4 |  >\n",
       "  Defn: x0 |--> 1\n",
       "        x1 |--> 1\n",
       "        x2 |--> 1\n",
       "        x3 |--> x3\n",
       "        x4 |--> x4\n",
       "        x5 |--> x4\n",
       "        x6 |--> x3\n",
       "        x7 |--> 1\n",
       "        x8 |--> 1\n",
       "        x9 |--> 1\n",
       "        x10 |--> 1\n",
       "        x11 |--> 1\n",
       "        x12 |--> 1\n",
       "        x13 |--> 1\n",
       "        x14 |--> 1\n",
       "        x15 |--> 1\n",
       "        x16 |--> 1\n",
       "        x17 |--> 1\n",
       "        x18 |--> 1\n",
       "        x19 |--> x3^-1\n",
       "        x20 |--> x4^-1\n",
       "        x21 |--> x4^-1\n",
       "        x22 |--> x3^-1\n",
       "        x23 |--> 1"
      ]
     },
     "execution_count": 22,
     "metadata": {},
     "output_type": "execute_result"
    }
   ],
   "source": [
    "handlebody_group_red.simplification_isomorphism()"
   ]
  },
  {
   "cell_type": "code",
   "execution_count": 23,
   "id": "4c40cfa7",
   "metadata": {},
   "outputs": [],
   "source": [
    "handlebody_group_blu=trefoil_coloring_blu.coverF.quotient(trefoil_coloring_blu.all_cover_relations())"
   ]
  },
  {
   "cell_type": "code",
   "execution_count": 24,
   "id": "3899b856",
   "metadata": {},
   "outputs": [
    {
     "data": {
      "text/plain": [
       "Generic morphism:\n",
       "  From: Finitely presented group < x0, x1, x2, x3, x4, x5, x6, x7, x8, x9, x10, x11, x12, x13, x14, x15, x16, x17, x18, x19, x20, x21, x22, x23 | x0*x9*x2*x17*x18*x9^-1*x10^-1*x1^-1, x8*x1*x10*x9*x2*x17^-1*x2^-1*x9^-1, x16*x17*x18*x1*x10*x1^-1*x18^-1*x17^-1, x1*x10*x9*x18^-1*x17^-1*x21, x9*x2*x17*x2^-1*x9^-1*x13, x17*x18*x1*x10^-1*x1^-1*x5, x3*x20, x11*x12, x19*x4, x6*x23, x14*x15, x22*x7, 1, x0, x2, x0*x8, x16, x1*x9, x17, x2*x18, x10, x3*x19, x11, x4*x20, x12, x5*x21, x13, x6*x22, x14, x7*x23, x15 >\n",
       "  To:   Finitely presented group < x3, x6 |  >\n",
       "  Defn: x0 |--> 1\n",
       "        x1 |--> 1\n",
       "        x2 |--> 1\n",
       "        x3 |--> x3\n",
       "        x4 |--> x3\n",
       "        x5 |--> 1\n",
       "        x6 |--> x6\n",
       "        x7 |--> x6\n",
       "        x8 |--> 1\n",
       "        x9 |--> 1\n",
       "        x10 |--> 1\n",
       "        x11 |--> 1\n",
       "        x12 |--> 1\n",
       "        x13 |--> 1\n",
       "        x14 |--> 1\n",
       "        x15 |--> 1\n",
       "        x16 |--> 1\n",
       "        x17 |--> 1\n",
       "        x18 |--> 1\n",
       "        x19 |--> x3^-1\n",
       "        x20 |--> x3^-1\n",
       "        x21 |--> 1\n",
       "        x22 |--> x6^-1\n",
       "        x23 |--> x6^-1"
      ]
     },
     "execution_count": 24,
     "metadata": {},
     "output_type": "execute_result"
    }
   ],
   "source": [
    "handlebody_group_blu.simplification_isomorphism()"
   ]
  },
  {
   "cell_type": "code",
   "execution_count": 25,
   "id": "0bbcb6b0",
   "metadata": {},
   "outputs": [],
   "source": [
    "handlebody_group_gre=trefoil_coloring_gre.coverF.quotient(trefoil_coloring_gre.all_cover_relations())"
   ]
  },
  {
   "cell_type": "code",
   "execution_count": 26,
   "id": "4b0e69bb",
   "metadata": {},
   "outputs": [
    {
     "data": {
      "text/plain": [
       "Generic morphism:\n",
       "  From: Finitely presented group < x0, x1, x2, x3, x4, x5, x6, x7, x8, x9, x10, x11, x12, x13, x14, x15, x16, x17, x18, x19, x20, x21, x22, x23 | x0*x9*x4*x17*x20*x9^-1*x12^-1*x1^-1, x8*x1*x12*x9*x4*x17^-1*x4^-1*x9^-1, x16*x17*x20*x1*x12*x1^-1*x20^-1*x17^-1, x1*x12*x9*x20^-1*x17^-1*x23, x9*x4*x17*x4^-1*x9^-1*x15, x17*x20*x1*x12^-1*x1^-1*x7, x2*x19, x10*x11, x18*x3, x5*x22, x13*x14, x21*x6, 1, x0, x2, x0*x8, x16, x1*x9, x17, x2*x18, x10, x3*x19, x11, x4*x20, x12, x5*x21, x13, x6*x22, x14, x7*x23, x15 >\n",
       "  To:   Finitely presented group < x4, x5 |  >\n",
       "  Defn: x0 |--> 1\n",
       "        x1 |--> 1\n",
       "        x2 |--> 1\n",
       "        x3 |--> 1\n",
       "        x4 |--> x4\n",
       "        x5 |--> x5\n",
       "        x6 |--> x5\n",
       "        x7 |--> x4\n",
       "        x8 |--> 1\n",
       "        x9 |--> 1\n",
       "        x10 |--> 1\n",
       "        x11 |--> 1\n",
       "        x12 |--> 1\n",
       "        x13 |--> 1\n",
       "        x14 |--> 1\n",
       "        x15 |--> 1\n",
       "        x16 |--> 1\n",
       "        x17 |--> 1\n",
       "        x18 |--> 1\n",
       "        x19 |--> 1\n",
       "        x20 |--> x4^-1\n",
       "        x21 |--> x5^-1\n",
       "        x22 |--> x5^-1\n",
       "        x23 |--> x4^-1"
      ]
     },
     "execution_count": 26,
     "metadata": {},
     "output_type": "execute_result"
    }
   ],
   "source": [
    "handlebody_group_gre.simplification_isomorphism()"
   ]
  },
  {
   "cell_type": "code",
   "execution_count": 27,
   "id": "14f2de8d",
   "metadata": {},
   "outputs": [],
   "source": [
    "pi_1_cover=bigF.quotient(trefoil_coloring_red.all_cover_relations()+trefoil_coloring_blu.all_cover_relations()+trefoil_coloring_gre.all_cover_relations())"
   ]
  },
  {
   "cell_type": "code",
   "execution_count": 28,
   "id": "28bf3c92",
   "metadata": {},
   "outputs": [
    {
     "data": {
      "text/plain": [
       "Generic morphism:\n",
       "  From: Finitely presented group < x0, x1, x2, x3, x4, x5, x6, x7, x8, x9, x10, x11, x12, x13, x14, x15, x16, x17, x18, x19, x20, x21, x22, x23 | x0*x9*x2*x17*x18*x9^-1*x10^-1*x1^-1, x8*x1*x10*x9*x2*x17^-1*x2^-1*x9^-1, x16*x17*x18*x1*x10*x1^-1*x18^-1*x17^-1, x1*x10*x9*x18^-1*x17^-1*x23, x9*x2*x17*x2^-1*x9^-1*x15, x17*x18*x1*x10^-1*x1^-1*x7, x3*x22, x11*x14, x19*x6, x4*x21, x12*x13, x20*x5, 1, x0, x2, x0*x8, x16, x1*x9, x17, x2*x18, x10, x3*x19, x11, x4*x20, x12, x5*x21, x13, x6*x22, x14, x7*x23, x15, x0*x9*x2*x17*x18*x9^-1*x10^-1*x1^-1, x8*x1*x10*x9*x2*x17^-1*x2^-1*x9^-1, x16*x17*x18*x1*x10*x1^-1*x18^-1*x17^-1, x1*x10*x9*x18^-1*x17^-1*x21, x9*x2*x17*x2^-1*x9^-1*x13, x17*x18*x1*x10^-1*x1^-1*x5, x3*x20, x11*x12, x19*x4, x6*x23, x14*x15, x22*x7, 1, x0, x2, x0*x8, x16, x1*x9, x17, x2*x18, x10, x3*x19, x11, x4*x20, x12, x5*x21, x13, x6*x22, x14, x7*x23, x15, x0*x9*x4*x17*x20*x9^-1*x12^-1*x1^-1, x8*x1*x12*x9*x4*x17^-1*x4^-1*x9^-1, x16*x17*x20*x1*x12*x1^-1*x20^-1*x17^-1, x1*x12*x9*x20^-1*x17^-1*x23, x9*x4*x17*x4^-1*x9^-1*x15, x17*x20*x1*x12^-1*x1^-1*x7, x2*x19, x10*x11, x18*x3, x5*x22, x13*x14, x21*x6, 1, x0, x2, x0*x8, x16, x1*x9, x17, x2*x18, x10, x3*x19, x11, x4*x20, x12, x5*x21, x13, x6*x22, x14, x7*x23, x15 >\n",
       "  To:   Finitely presented group <  |  >\n",
       "  Defn: x0 |--> 1\n",
       "        x1 |--> 1\n",
       "        x2 |--> 1\n",
       "        x3 |--> 1\n",
       "        x4 |--> 1\n",
       "        x5 |--> 1\n",
       "        x6 |--> 1\n",
       "        x7 |--> 1\n",
       "        x8 |--> 1\n",
       "        x9 |--> 1\n",
       "        x10 |--> 1\n",
       "        x11 |--> 1\n",
       "        x12 |--> 1\n",
       "        x13 |--> 1\n",
       "        x14 |--> 1\n",
       "        x15 |--> 1\n",
       "        x16 |--> 1\n",
       "        x17 |--> 1\n",
       "        x18 |--> 1\n",
       "        x19 |--> 1\n",
       "        x20 |--> 1\n",
       "        x21 |--> 1\n",
       "        x22 |--> 1\n",
       "        x23 |--> 1"
      ]
     },
     "execution_count": 28,
     "metadata": {},
     "output_type": "execute_result"
    }
   ],
   "source": [
    "pi_1_cover.simplification_isomorphism()"
   ]
  },
  {
   "cell_type": "code",
   "execution_count": 29,
   "id": "6eb4e443",
   "metadata": {},
   "outputs": [],
   "source": [
    "spun_trefoil_mirror = tau_l_T_2_b(0, -3)"
   ]
  },
  {
   "cell_type": "code",
   "execution_count": 30,
   "id": "7e90757a",
   "metadata": {},
   "outputs": [],
   "source": [
    "trefoil_mirror_coloring_red = Colored_trivial_tangle(trefoil_F, trefoil_S, spun_trefoil_mirror.red_tangle.relations(), trefoil_images_of_generators)"
   ]
  },
  {
   "cell_type": "code",
   "execution_count": 31,
   "id": "f74cb04b",
   "metadata": {},
   "outputs": [],
   "source": [
    "trefoil_mirror_coloring_blu = Colored_trivial_tangle(trefoil_F, trefoil_S, spun_trefoil_mirror.blu_tangle.relations(), trefoil_images_of_generators)"
   ]
  },
  {
   "cell_type": "code",
   "execution_count": 32,
   "id": "175ab2f9",
   "metadata": {},
   "outputs": [],
   "source": [
    "trefoil_mirror_coloring_gre = Colored_trivial_tangle(trefoil_F, trefoil_S, spun_trefoil_mirror.gre_tangle.relations(), trefoil_images_of_generators)"
   ]
  },
  {
   "cell_type": "code",
   "execution_count": 33,
   "id": "d391be66",
   "metadata": {},
   "outputs": [
    {
     "data": {
      "text/plain": [
       "[x0*x10^-1*x1^-1*x2*x17*x18,\n",
       " x8*x18^-1*x17^-1*x18*x1*x10,\n",
       " x16*x2^-1*x9^-1*x10*x9*x2,\n",
       " x18^-1*x17^-1*x2^-1*x1*x10*x9*x2*x23,\n",
       " x10^-1*x1^-1*x18^-1*x17*x18*x1*x10*x15,\n",
       " x2^-1*x9^-1*x10^-1*x9*x2*x17*x18*x7,\n",
       " x3*x22,\n",
       " x11*x14,\n",
       " x19*x6,\n",
       " x4*x21,\n",
       " x12*x13,\n",
       " x20*x5,\n",
       " 1,\n",
       " x0,\n",
       " x2,\n",
       " x0*x8,\n",
       " x16,\n",
       " x1*x9,\n",
       " x17,\n",
       " x2*x18,\n",
       " x10,\n",
       " x3*x19,\n",
       " x11,\n",
       " x4*x20,\n",
       " x12,\n",
       " x5*x21,\n",
       " x13,\n",
       " x6*x22,\n",
       " x14,\n",
       " x7*x23,\n",
       " x15]"
      ]
     },
     "execution_count": 33,
     "metadata": {},
     "output_type": "execute_result"
    }
   ],
   "source": [
    "trefoil_mirror_coloring_red.all_cover_relations()"
   ]
  },
  {
   "cell_type": "code",
   "execution_count": 34,
   "id": "c0f790a3",
   "metadata": {},
   "outputs": [
    {
     "data": {
      "text/plain": [
       "[x0*x10^-1*x1^-1*x2*x17*x18,\n",
       " x8*x18^-1*x17^-1*x18*x1*x10,\n",
       " x16*x2^-1*x9^-1*x10*x9*x2,\n",
       " x18^-1*x17^-1*x2^-1*x1*x10*x9*x2*x21,\n",
       " x10^-1*x1^-1*x18^-1*x17*x18*x1*x10*x13,\n",
       " x2^-1*x9^-1*x10^-1*x9*x2*x17*x18*x5,\n",
       " x3*x20,\n",
       " x11*x12,\n",
       " x19*x4,\n",
       " x6*x23,\n",
       " x14*x15,\n",
       " x22*x7,\n",
       " 1,\n",
       " x0,\n",
       " x2,\n",
       " x0*x8,\n",
       " x16,\n",
       " x1*x9,\n",
       " x17,\n",
       " x2*x18,\n",
       " x10,\n",
       " x3*x19,\n",
       " x11,\n",
       " x4*x20,\n",
       " x12,\n",
       " x5*x21,\n",
       " x13,\n",
       " x6*x22,\n",
       " x14,\n",
       " x7*x23,\n",
       " x15]"
      ]
     },
     "execution_count": 34,
     "metadata": {},
     "output_type": "execute_result"
    }
   ],
   "source": [
    "trefoil_mirror_coloring_blu.all_cover_relations()"
   ]
  },
  {
   "cell_type": "code",
   "execution_count": 35,
   "id": "42f3e86e",
   "metadata": {},
   "outputs": [
    {
     "data": {
      "text/plain": [
       "[x0*x12^-1*x1^-1*x4*x17*x20,\n",
       " x8*x20^-1*x17^-1*x20*x1*x12,\n",
       " x16*x4^-1*x9^-1*x12*x9*x4,\n",
       " x20^-1*x17^-1*x4^-1*x1*x12*x9*x4*x23,\n",
       " x12^-1*x1^-1*x20^-1*x17*x20*x1*x12*x15,\n",
       " x4^-1*x9^-1*x12^-1*x9*x4*x17*x20*x7,\n",
       " x2*x19,\n",
       " x10*x11,\n",
       " x18*x3,\n",
       " x5*x22,\n",
       " x13*x14,\n",
       " x21*x6,\n",
       " 1,\n",
       " x0,\n",
       " x2,\n",
       " x0*x8,\n",
       " x16,\n",
       " x1*x9,\n",
       " x17,\n",
       " x2*x18,\n",
       " x10,\n",
       " x3*x19,\n",
       " x11,\n",
       " x4*x20,\n",
       " x12,\n",
       " x5*x21,\n",
       " x13,\n",
       " x6*x22,\n",
       " x14,\n",
       " x7*x23,\n",
       " x15]"
      ]
     },
     "execution_count": 35,
     "metadata": {},
     "output_type": "execute_result"
    }
   ],
   "source": [
    "trefoil_mirror_coloring_gre.all_cover_relations()"
   ]
  },
  {
   "cell_type": "code",
   "execution_count": 36,
   "id": "38c278a5",
   "metadata": {},
   "outputs": [],
   "source": [
    "handlebody_group_mirror_red=trefoil_mirror_coloring_red.coverF.quotient(trefoil_mirror_coloring_red.all_cover_relations())"
   ]
  },
  {
   "cell_type": "code",
   "execution_count": 37,
   "id": "916b1801",
   "metadata": {},
   "outputs": [],
   "source": [
    "handlebody_group_mirror_blu=trefoil_mirror_coloring_blu.coverF.quotient(trefoil_mirror_coloring_blu.all_cover_relations())"
   ]
  },
  {
   "cell_type": "code",
   "execution_count": 38,
   "id": "ad24f26a",
   "metadata": {},
   "outputs": [],
   "source": [
    "handlebody_group_mirror_gre=trefoil_mirror_coloring_gre.coverF.quotient(trefoil_mirror_coloring_gre.all_cover_relations())"
   ]
  },
  {
   "cell_type": "code",
   "execution_count": 39,
   "id": "9dfd7486",
   "metadata": {},
   "outputs": [
    {
     "name": "stdout",
     "output_type": "stream",
     "text": [
      "Finitely presented group < x0, x1, x2, x3, x4, x5, x6, x7, x8, x9, x10, x11, x12, x13, x14, x15, x16, x17, x18, x19, x20, x21, x22, x23 | x0*x10^-1*x1^-1*x2*x17*x18, x8*x18^-1*x17^-1*x18*x1*x10, x16*x2^-1*x9^-1*x10*x9*x2, x18^-1*x17^-1*x2^-1*x1*x10*x9*x2*x23, x10^-1*x1^-1*x18^-1*x17*x18*x1*x10*x15, x2^-1*x9^-1*x10^-1*x9*x2*x17*x18*x7, x3*x22, x11*x14, x19*x6, x4*x21, x12*x13, x20*x5, 1, x0, x2, x0*x8, x16, x1*x9, x17, x2*x18, x10, x3*x19, x11, x4*x20, x12, x5*x21, x13, x6*x22, x14, x7*x23, x15 >\n"
     ]
    }
   ],
   "source": [
    "print(handlebody_group_mirror_red)"
   ]
  },
  {
   "cell_type": "code",
   "execution_count": 40,
   "id": "7a51fc52",
   "metadata": {},
   "outputs": [
    {
     "data": {
      "text/plain": [
       "Generic morphism:\n",
       "  From: Finitely presented group < x0, x1, x2, x3, x4, x5, x6, x7, x8, x9, x10, x11, x12, x13, x14, x15, x16, x17, x18, x19, x20, x21, x22, x23 | x0*x10^-1*x1^-1*x2*x17*x18, x8*x18^-1*x17^-1*x18*x1*x10, x16*x2^-1*x9^-1*x10*x9*x2, x18^-1*x17^-1*x2^-1*x1*x10*x9*x2*x23, x10^-1*x1^-1*x18^-1*x17*x18*x1*x10*x15, x2^-1*x9^-1*x10^-1*x9*x2*x17*x18*x7, x3*x22, x11*x14, x19*x6, x4*x21, x12*x13, x20*x5, 1, x0, x2, x0*x8, x16, x1*x9, x17, x2*x18, x10, x3*x19, x11, x4*x20, x12, x5*x21, x13, x6*x22, x14, x7*x23, x15 >\n",
       "  To:   Finitely presented group < x3, x4 |  >\n",
       "  Defn: x0 |--> 1\n",
       "        x1 |--> 1\n",
       "        x2 |--> 1\n",
       "        x3 |--> x3\n",
       "        x4 |--> x4\n",
       "        x5 |--> x4\n",
       "        x6 |--> x3\n",
       "        x7 |--> 1\n",
       "        x8 |--> 1\n",
       "        x9 |--> 1\n",
       "        x10 |--> 1\n",
       "        x11 |--> 1\n",
       "        x12 |--> 1\n",
       "        x13 |--> 1\n",
       "        x14 |--> 1\n",
       "        x15 |--> 1\n",
       "        x16 |--> 1\n",
       "        x17 |--> 1\n",
       "        x18 |--> 1\n",
       "        x19 |--> x3^-1\n",
       "        x20 |--> x4^-1\n",
       "        x21 |--> x4^-1\n",
       "        x22 |--> x3^-1\n",
       "        x23 |--> 1"
      ]
     },
     "execution_count": 40,
     "metadata": {},
     "output_type": "execute_result"
    }
   ],
   "source": [
    "handlebody_group_mirror_red.simplification_isomorphism()"
   ]
  },
  {
   "cell_type": "code",
   "execution_count": 41,
   "id": "df6ec1b8",
   "metadata": {},
   "outputs": [
    {
     "data": {
      "text/plain": [
       "Generic morphism:\n",
       "  From: Finitely presented group < x0, x1, x2, x3, x4, x5, x6, x7, x8, x9, x10, x11, x12, x13, x14, x15, x16, x17, x18, x19, x20, x21, x22, x23 | x0*x10^-1*x1^-1*x2*x17*x18, x8*x18^-1*x17^-1*x18*x1*x10, x16*x2^-1*x9^-1*x10*x9*x2, x18^-1*x17^-1*x2^-1*x1*x10*x9*x2*x21, x10^-1*x1^-1*x18^-1*x17*x18*x1*x10*x13, x2^-1*x9^-1*x10^-1*x9*x2*x17*x18*x5, x3*x20, x11*x12, x19*x4, x6*x23, x14*x15, x22*x7, 1, x0, x2, x0*x8, x16, x1*x9, x17, x2*x18, x10, x3*x19, x11, x4*x20, x12, x5*x21, x13, x6*x22, x14, x7*x23, x15 >\n",
       "  To:   Finitely presented group < x3, x6 |  >\n",
       "  Defn: x0 |--> 1\n",
       "        x1 |--> 1\n",
       "        x2 |--> 1\n",
       "        x3 |--> x3\n",
       "        x4 |--> x3\n",
       "        x5 |--> 1\n",
       "        x6 |--> x6\n",
       "        x7 |--> x6\n",
       "        x8 |--> 1\n",
       "        x9 |--> 1\n",
       "        x10 |--> 1\n",
       "        x11 |--> 1\n",
       "        x12 |--> 1\n",
       "        x13 |--> 1\n",
       "        x14 |--> 1\n",
       "        x15 |--> 1\n",
       "        x16 |--> 1\n",
       "        x17 |--> 1\n",
       "        x18 |--> 1\n",
       "        x19 |--> x3^-1\n",
       "        x20 |--> x3^-1\n",
       "        x21 |--> 1\n",
       "        x22 |--> x6^-1\n",
       "        x23 |--> x6^-1"
      ]
     },
     "execution_count": 41,
     "metadata": {},
     "output_type": "execute_result"
    }
   ],
   "source": [
    "handlebody_group_mirror_blu.simplification_isomorphism()"
   ]
  },
  {
   "cell_type": "code",
   "execution_count": 42,
   "id": "3718fb26",
   "metadata": {},
   "outputs": [
    {
     "data": {
      "text/plain": [
       "Generic morphism:\n",
       "  From: Finitely presented group < x0, x1, x2, x3, x4, x5, x6, x7, x8, x9, x10, x11, x12, x13, x14, x15, x16, x17, x18, x19, x20, x21, x22, x23 | x0*x12^-1*x1^-1*x4*x17*x20, x8*x20^-1*x17^-1*x20*x1*x12, x16*x4^-1*x9^-1*x12*x9*x4, x20^-1*x17^-1*x4^-1*x1*x12*x9*x4*x23, x12^-1*x1^-1*x20^-1*x17*x20*x1*x12*x15, x4^-1*x9^-1*x12^-1*x9*x4*x17*x20*x7, x2*x19, x10*x11, x18*x3, x5*x22, x13*x14, x21*x6, 1, x0, x2, x0*x8, x16, x1*x9, x17, x2*x18, x10, x3*x19, x11, x4*x20, x12, x5*x21, x13, x6*x22, x14, x7*x23, x15 >\n",
       "  To:   Finitely presented group < x4, x5 |  >\n",
       "  Defn: x0 |--> 1\n",
       "        x1 |--> 1\n",
       "        x2 |--> 1\n",
       "        x3 |--> 1\n",
       "        x4 |--> x4\n",
       "        x5 |--> x5\n",
       "        x6 |--> x5\n",
       "        x7 |--> x4\n",
       "        x8 |--> 1\n",
       "        x9 |--> 1\n",
       "        x10 |--> 1\n",
       "        x11 |--> 1\n",
       "        x12 |--> 1\n",
       "        x13 |--> 1\n",
       "        x14 |--> 1\n",
       "        x15 |--> 1\n",
       "        x16 |--> 1\n",
       "        x17 |--> 1\n",
       "        x18 |--> 1\n",
       "        x19 |--> 1\n",
       "        x20 |--> x4^-1\n",
       "        x21 |--> x5^-1\n",
       "        x22 |--> x5^-1\n",
       "        x23 |--> x4^-1"
      ]
     },
     "execution_count": 42,
     "metadata": {},
     "output_type": "execute_result"
    }
   ],
   "source": [
    "handlebody_group_mirror_gre.simplification_isomorphism()"
   ]
  },
  {
   "cell_type": "code",
   "execution_count": 43,
   "id": "9fbf832c",
   "metadata": {},
   "outputs": [],
   "source": [
    "pi_1_cover_mirror=bigF.quotient(trefoil_coloring_red.all_cover_relations()+trefoil_coloring_blu.all_cover_relations()+trefoil_coloring_gre.all_cover_relations())"
   ]
  },
  {
   "cell_type": "code",
   "execution_count": 44,
   "id": "d8dc695b",
   "metadata": {},
   "outputs": [
    {
     "data": {
      "text/plain": [
       "Generic morphism:\n",
       "  From: Finitely presented group < x0, x1, x2, x3, x4, x5, x6, x7, x8, x9, x10, x11, x12, x13, x14, x15, x16, x17, x18, x19, x20, x21, x22, x23 | x0*x9*x2*x17*x18*x9^-1*x10^-1*x1^-1, x8*x1*x10*x9*x2*x17^-1*x2^-1*x9^-1, x16*x17*x18*x1*x10*x1^-1*x18^-1*x17^-1, x1*x10*x9*x18^-1*x17^-1*x23, x9*x2*x17*x2^-1*x9^-1*x15, x17*x18*x1*x10^-1*x1^-1*x7, x3*x22, x11*x14, x19*x6, x4*x21, x12*x13, x20*x5, 1, x0, x2, x0*x8, x16, x1*x9, x17, x2*x18, x10, x3*x19, x11, x4*x20, x12, x5*x21, x13, x6*x22, x14, x7*x23, x15, x0*x9*x2*x17*x18*x9^-1*x10^-1*x1^-1, x8*x1*x10*x9*x2*x17^-1*x2^-1*x9^-1, x16*x17*x18*x1*x10*x1^-1*x18^-1*x17^-1, x1*x10*x9*x18^-1*x17^-1*x21, x9*x2*x17*x2^-1*x9^-1*x13, x17*x18*x1*x10^-1*x1^-1*x5, x3*x20, x11*x12, x19*x4, x6*x23, x14*x15, x22*x7, 1, x0, x2, x0*x8, x16, x1*x9, x17, x2*x18, x10, x3*x19, x11, x4*x20, x12, x5*x21, x13, x6*x22, x14, x7*x23, x15, x0*x9*x4*x17*x20*x9^-1*x12^-1*x1^-1, x8*x1*x12*x9*x4*x17^-1*x4^-1*x9^-1, x16*x17*x20*x1*x12*x1^-1*x20^-1*x17^-1, x1*x12*x9*x20^-1*x17^-1*x23, x9*x4*x17*x4^-1*x9^-1*x15, x17*x20*x1*x12^-1*x1^-1*x7, x2*x19, x10*x11, x18*x3, x5*x22, x13*x14, x21*x6, 1, x0, x2, x0*x8, x16, x1*x9, x17, x2*x18, x10, x3*x19, x11, x4*x20, x12, x5*x21, x13, x6*x22, x14, x7*x23, x15 >\n",
       "  To:   Finitely presented group <  |  >\n",
       "  Defn: x0 |--> 1\n",
       "        x1 |--> 1\n",
       "        x2 |--> 1\n",
       "        x3 |--> 1\n",
       "        x4 |--> 1\n",
       "        x5 |--> 1\n",
       "        x6 |--> 1\n",
       "        x7 |--> 1\n",
       "        x8 |--> 1\n",
       "        x9 |--> 1\n",
       "        x10 |--> 1\n",
       "        x11 |--> 1\n",
       "        x12 |--> 1\n",
       "        x13 |--> 1\n",
       "        x14 |--> 1\n",
       "        x15 |--> 1\n",
       "        x16 |--> 1\n",
       "        x17 |--> 1\n",
       "        x18 |--> 1\n",
       "        x19 |--> 1\n",
       "        x20 |--> 1\n",
       "        x21 |--> 1\n",
       "        x22 |--> 1\n",
       "        x23 |--> 1"
      ]
     },
     "execution_count": 44,
     "metadata": {},
     "output_type": "execute_result"
    }
   ],
   "source": [
    "pi_1_cover_mirror.simplification_isomorphism()"
   ]
  },
  {
   "cell_type": "code",
   "execution_count": 46,
   "id": "6b7246ad",
   "metadata": {},
   "outputs": [
    {
     "data": {
      "text/plain": [
       "Generic morphism:\n",
       "  From: Finitely presented group < x0, x1, x2, x3, x4, x5, x6, x7 | x0*(x1*x2)^2*x1^-1*x2^-1*x1^-1, x1*x2*x1*x2^-1*x1^-1*x7, x3*x6, x4*x5, x0*(x1*x2)^2*x1^-1*x2^-1*x1^-1, x1*x2*x1*x2^-1*x1^-1*x5, x3*x4, x6*x7, x0*(x1*x4)^2*x1^-1*x4^-1*x1^-1, x1*x4*x1*x4^-1*x1^-1*x7, x2*x3, x5*x6 >\n",
       "  To:   Finitely presented group < x0, x2 | x0^-1*x2*x0^-1*x2^-1*x0*x2^-1 >\n",
       "  Defn: x0 |--> x0\n",
       "        x1 |--> x0^-1\n",
       "        x2 |--> x2\n",
       "        x3 |--> x2^-1\n",
       "        x4 |--> x2\n",
       "        x5 |--> x2^-1\n",
       "        x6 |--> x2\n",
       "        x7 |--> x2^-1"
      ]
     },
     "execution_count": 46,
     "metadata": {},
     "output_type": "execute_result"
    }
   ],
   "source": [
    "spun_trefoil.group().simplification_isomorphism()"
   ]
  },
  {
   "cell_type": "code",
   "execution_count": 48,
   "id": "60a5eea7",
   "metadata": {},
   "outputs": [],
   "source": [
    "pi_1_unbranched_cover=bigF.quotient(trefoil_coloring_red.claw_relations_reindex()+trefoil_coloring_red.lift_relations_reindex()+trefoil_coloring_blu.claw_relations_reindex()+trefoil_coloring_blu.lift_relations_reindex()+trefoil_coloring_gre.claw_relations_reindex()+trefoil_coloring_gre.lift_relations_reindex())"
   ]
  },
  {
   "cell_type": "code",
   "execution_count": 49,
   "id": "d39cf804",
   "metadata": {},
   "outputs": [
    {
     "data": {
      "text/plain": [
       "Generic morphism:\n",
       "  From: Finitely presented group < x0, x1, x2, x3, x4, x5, x6, x7, x8, x9, x10, x11, x12, x13, x14, x15, x16, x17, x18, x19, x20, x21, x22, x23 | 1, x0, x2, x0*x9*x2*x17*x18*x9^-1*x10^-1*x1^-1, x8*x1*x10*x9*x2*x17^-1*x2^-1*x9^-1, x16*x17*x18*x1*x10*x1^-1*x18^-1*x17^-1, x1*x10*x9*x18^-1*x17^-1*x23, x9*x2*x17*x2^-1*x9^-1*x15, x17*x18*x1*x10^-1*x1^-1*x7, x3*x22, x11*x14, x19*x6, x4*x21, x12*x13, x20*x5, 1, x0, x2, x0*x9*x2*x17*x18*x9^-1*x10^-1*x1^-1, x8*x1*x10*x9*x2*x17^-1*x2^-1*x9^-1, x16*x17*x18*x1*x10*x1^-1*x18^-1*x17^-1, x1*x10*x9*x18^-1*x17^-1*x21, x9*x2*x17*x2^-1*x9^-1*x13, x17*x18*x1*x10^-1*x1^-1*x5, x3*x20, x11*x12, x19*x4, x6*x23, x14*x15, x22*x7, 1, x0, x2, x0*x9*x4*x17*x20*x9^-1*x12^-1*x1^-1, x8*x1*x12*x9*x4*x17^-1*x4^-1*x9^-1, x16*x17*x20*x1*x12*x1^-1*x20^-1*x17^-1, x1*x12*x9*x20^-1*x17^-1*x23, x9*x4*x17*x4^-1*x9^-1*x15, x17*x20*x1*x12^-1*x1^-1*x7, x2*x19, x10*x11, x18*x3, x5*x22, x13*x14, x21*x6 >\n",
       "  To:   Finitely presented group < x1, x10 | x1*x10*x1*(x10^-1*x1^-1)^2*x10 >\n",
       "  Defn: x0 |--> 1\n",
       "        x1 |--> x1\n",
       "        x2 |--> 1\n",
       "        x3 |--> x10^-1*x1^-1*x10\n",
       "        x4 |--> 1\n",
       "        x5 |--> x10^-1*x1^-1*x10\n",
       "        x6 |--> 1\n",
       "        x7 |--> x10^-1*x1^-1*x10\n",
       "        x8 |--> x1^-1\n",
       "        x9 |--> 1\n",
       "        x10 |--> x10\n",
       "        x11 |--> x10^-1\n",
       "        x12 |--> x10\n",
       "        x13 |--> x10^-1\n",
       "        x14 |--> x10\n",
       "        x15 |--> x10^-1\n",
       "        x16 |--> x10^-1\n",
       "        x17 |--> x10\n",
       "        x18 |--> x10^-1*x1*x10\n",
       "        x19 |--> 1\n",
       "        x20 |--> x10^-1*x1*x10\n",
       "        x21 |--> 1\n",
       "        x22 |--> x10^-1*x1*x10\n",
       "        x23 |--> 1"
      ]
     },
     "execution_count": 49,
     "metadata": {},
     "output_type": "execute_result"
    }
   ],
   "source": [
    "pi_1_unbranched_cover.simplification_isomorphism()"
   ]
  },
  {
   "cell_type": "code",
   "execution_count": null,
   "id": "2c0837c9",
   "metadata": {},
   "outputs": [],
   "source": []
  }
 ],
 "metadata": {
  "kernelspec": {
   "display_name": "SageMath 9.4",
   "language": "sage",
   "name": "sagemath-9.4"
  },
  "language_info": {
   "codemirror_mode": {
    "name": "ipython",
    "version": 3
   },
   "file_extension": ".py",
   "mimetype": "text/x-python",
   "name": "python",
   "nbconvert_exporter": "python",
   "pygments_lexer": "ipython3",
   "version": "3.9.5"
  }
 },
 "nbformat": 4,
 "nbformat_minor": 5
}
