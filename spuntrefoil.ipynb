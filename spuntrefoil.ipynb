{
 "cells": [
  {
   "cell_type": "code",
   "execution_count": 1,
   "id": "5e2b28a7",
   "metadata": {},
   "outputs": [],
   "source": [
    "load('./src/bridge_trisections.sage')"
   ]
  },
  {
   "cell_type": "code",
   "execution_count": 2,
   "id": "05f8ad85",
   "metadata": {},
   "outputs": [],
   "source": [
    "bridge_number = 4\n",
    "symmetric_group_rank = 3\n",
    "\n",
    "spun_trefoil = tau_l_T_2_b(0, 3)\n",
    "trefoil_F = FreeGroup(2*bridge_number)\n",
    "\n",
    "trefoil_S = SymmetricGroup(symmetric_group_rank)\n",
    "trefoil_cover_F=FreeGroup((bridge_number*2) * symmetric_group_rank)\n",
    "\n",
    "trefoil_tangles_dict = {\n",
    "        'red': spun_trefoil.red_tangle,\n",
    "        'blu': spun_trefoil.blu_tangle,\n",
    "        'gre': spun_trefoil.gre_tangle,\n",
    "    }\n",
    "\n",
    "trefoil_images_of_generators = ['(1, 2)', '(1, 2)', '(1, 3)', '(1, 3)', \n",
    "                                '(1, 3)', '(1, 3)', '(1, 3)', '(1, 3)']"
   ]
  },
  {
   "cell_type": "code",
   "execution_count": 3,
   "id": "e894f16f-3fc9-4134-8e81-9a3ca3b3e216",
   "metadata": {},
   "outputs": [],
   "source": [
    "colored_trefoil = Colored_bridge_trisection(trefoil_F,\n",
    "                                            trefoil_S,\n",
    "                                            trefoil_tangles_dict,\n",
    "                                            trefoil_images_of_generators)"
   ]
  },
  {
   "cell_type": "code",
   "execution_count": 5,
   "id": "8cbbcdf6",
   "metadata": {},
   "outputs": [
    {
     "data": {
      "text/plain": [
       "(x0*x8,\n",
       " x16,\n",
       " x1*x9,\n",
       " x17,\n",
       " x2*x18,\n",
       " x10,\n",
       " x3*x19,\n",
       " x11,\n",
       " x4*x20,\n",
       " x12,\n",
       " x5*x21,\n",
       " x13,\n",
       " x6*x22,\n",
       " x14,\n",
       " x7*x23,\n",
       " x15,\n",
       " 1,\n",
       " x0,\n",
       " x2,\n",
       " x0*x9*x2*x19*x4*x21*x6*x23,\n",
       " x8*x1*x10*x11*x12*x13*x14*x15,\n",
       " x16*x17*x18*x3*x20*x5*x22*x7)"
      ]
     },
     "execution_count": 5,
     "metadata": {},
     "output_type": "execute_result"
    }
   ],
   "source": [
    "#Relations of pi_1(\\Sigma)\n",
    "colored_trefoil.surface.pi_1_branched().relations()"
   ]
  },
  {
   "cell_type": "code",
   "execution_count": 6,
   "id": "cab52a3b-256c-41d1-91bd-271494e442c5",
   "metadata": {},
   "outputs": [],
   "source": [
    "pi_1_br = colored_trefoil.pi_1_branched_cover()\n",
    "pi_1_unbr = colored_trefoil.pi_1_unbranched_cover()"
   ]
  },
  {
   "cell_type": "code",
   "execution_count": 19,
   "id": "28bf3c92",
   "metadata": {},
   "outputs": [
    {
     "data": {
      "text/plain": [
       "Generic morphism:\n",
       "  From: Finitely presented group < x0, x1, x2, x3, x4, x5, x6, x7, x8, x9, x10, x11, x12, x13, x14, x15, x16, x17, x18, x19, x20, x21, x22, x23 | x0*x9*x2*x17*x18*x9^-1*x10^-1*x1^-1, x8*x1*x10*x9*x2*x17^-1*x2^-1*x9^-1, x16*x17*x18*x1*x10*x1^-1*x18^-1*x17^-1, x1*x10*x9*x18^-1*x17^-1*x23, x9*x2*x17*x2^-1*x9^-1*x15, x17*x18*x1*x10^-1*x1^-1*x7, x3*x22, x11*x14, x19*x6, x4*x21, x12*x13, x20*x5, 1, x0, x2, x0*x8, x16, x1*x9, x17, x2*x18, x10, x3*x19, x11, x4*x20, x12, x5*x21, x13, x6*x22, x14, x7*x23, x15, x0*x9*x2*x17*x18*x9^-1*x10^-1*x1^-1, x8*x1*x10*x9*x2*x17^-1*x2^-1*x9^-1, x16*x17*x18*x1*x10*x1^-1*x18^-1*x17^-1, x1*x10*x9*x18^-1*x17^-1*x21, x9*x2*x17*x2^-1*x9^-1*x13, x17*x18*x1*x10^-1*x1^-1*x5, x3*x20, x11*x12, x19*x4, x6*x23, x14*x15, x22*x7, 1, x0, x2, x0*x8, x16, x1*x9, x17, x2*x18, x10, x3*x19, x11, x4*x20, x12, x5*x21, x13, x6*x22, x14, x7*x23, x15, x0*x9*x4*x17*x20*x9^-1*x12^-1*x1^-1, x8*x1*x12*x9*x4*x17^-1*x4^-1*x9^-1, x16*x17*x20*x1*x12*x1^-1*x20^-1*x17^-1, x1*x12*x9*x20^-1*x17^-1*x23, x9*x4*x17*x4^-1*x9^-1*x15, x17*x20*x1*x12^-1*x1^-1*x7, x2*x19, x10*x11, x18*x3, x5*x22, x13*x14, x21*x6, 1, x0, x2, x0*x8, x16, x1*x9, x17, x2*x18, x10, x3*x19, x11, x4*x20, x12, x5*x21, x13, x6*x22, x14, x7*x23, x15 >\n",
       "  To:   Finitely presented group <  |  >\n",
       "  Defn: x0 |--> 1\n",
       "        x1 |--> 1\n",
       "        x2 |--> 1\n",
       "        x3 |--> 1\n",
       "        x4 |--> 1\n",
       "        x5 |--> 1\n",
       "        x6 |--> 1\n",
       "        x7 |--> 1\n",
       "        x8 |--> 1\n",
       "        x9 |--> 1\n",
       "        x10 |--> 1\n",
       "        x11 |--> 1\n",
       "        x12 |--> 1\n",
       "        x13 |--> 1\n",
       "        x14 |--> 1\n",
       "        x15 |--> 1\n",
       "        x16 |--> 1\n",
       "        x17 |--> 1\n",
       "        x18 |--> 1\n",
       "        x19 |--> 1\n",
       "        x20 |--> 1\n",
       "        x21 |--> 1\n",
       "        x22 |--> 1\n",
       "        x23 |--> 1"
      ]
     },
     "execution_count": 19,
     "metadata": {},
     "output_type": "execute_result"
    }
   ],
   "source": [
    "#Confirm that pi_1(X)=1, where X is the branched cover of S^4 along the spun trefoil\n",
    "pi_1_br.simplification_isomorphism()"
   ]
  },
  {
   "cell_type": "code",
   "execution_count": 9,
   "id": "d39cf804",
   "metadata": {},
   "outputs": [
    {
     "data": {
      "text/plain": [
       "Generic morphism:\n",
       "  From: Finitely presented group < x0, x1, x2, x3, x4, x5, x6, x7, x8, x9, x10, x11, x12, x13, x14, x15, x16, x17, x18, x19, x20, x21, x22, x23 | 1, x0, x2, x0*x9*x2*x17*x18*x9^-1*x10^-1*x1^-1, x8*x1*x10*x9*x2*x17^-1*x2^-1*x9^-1, x16*x17*x18*x1*x10*x1^-1*x18^-1*x17^-1, x1*x10*x9*x18^-1*x17^-1*x23, x9*x2*x17*x2^-1*x9^-1*x15, x17*x18*x1*x10^-1*x1^-1*x7, x3*x22, x11*x14, x19*x6, x4*x21, x12*x13, x20*x5, 1, x0, x2, x0*x9*x2*x17*x18*x9^-1*x10^-1*x1^-1, x8*x1*x10*x9*x2*x17^-1*x2^-1*x9^-1, x16*x17*x18*x1*x10*x1^-1*x18^-1*x17^-1, x1*x10*x9*x18^-1*x17^-1*x21, x9*x2*x17*x2^-1*x9^-1*x13, x17*x18*x1*x10^-1*x1^-1*x5, x3*x20, x11*x12, x19*x4, x6*x23, x14*x15, x22*x7, 1, x0, x2, x0*x9*x4*x17*x20*x9^-1*x12^-1*x1^-1, x8*x1*x12*x9*x4*x17^-1*x4^-1*x9^-1, x16*x17*x20*x1*x12*x1^-1*x20^-1*x17^-1, x1*x12*x9*x20^-1*x17^-1*x23, x9*x4*x17*x4^-1*x9^-1*x15, x17*x20*x1*x12^-1*x1^-1*x7, x2*x19, x10*x11, x18*x3, x5*x22, x13*x14, x21*x6 >\n",
       "  To:   Finitely presented group < x1, x10 | x1*x10*x1*(x10^-1*x1^-1)^2*x10 >\n",
       "  Defn: x0 |--> 1\n",
       "        x1 |--> x1\n",
       "        x2 |--> 1\n",
       "        x3 |--> x10^-1*x1^-1*x10\n",
       "        x4 |--> 1\n",
       "        x5 |--> x10^-1*x1^-1*x10\n",
       "        x6 |--> 1\n",
       "        x7 |--> x10^-1*x1^-1*x10\n",
       "        x8 |--> x1^-1\n",
       "        x9 |--> 1\n",
       "        x10 |--> x10\n",
       "        x11 |--> x10^-1\n",
       "        x12 |--> x10\n",
       "        x13 |--> x10^-1\n",
       "        x14 |--> x10\n",
       "        x15 |--> x10^-1\n",
       "        x16 |--> x10^-1\n",
       "        x17 |--> x10\n",
       "        x18 |--> x10^-1*x1*x10\n",
       "        x19 |--> 1\n",
       "        x20 |--> x10^-1*x1*x10\n",
       "        x21 |--> 1\n",
       "        x22 |--> x10^-1*x1*x10\n",
       "        x23 |--> 1"
      ]
     },
     "execution_count": 9,
     "metadata": {},
     "output_type": "execute_result"
    }
   ],
   "source": [
    "#pi_1 of unbranched cover\n",
    "pi_1_unbr.simplification_isomorphism()"
   ]
  },
  {
   "cell_type": "code",
   "execution_count": 10,
   "id": "2c0837c9",
   "metadata": {},
   "outputs": [
    {
     "name": "stdout",
     "output_type": "stream",
     "text": [
      "True\n",
      "True\n",
      "True\n"
     ]
    }
   ],
   "source": [
    "colored_trefoil.check_pi_1_branched_cover_3_manifolds_free()"
   ]
  },
  {
   "cell_type": "code",
   "execution_count": 11,
   "id": "faeec57d-8146-46e2-a70c-fb0033d3b463",
   "metadata": {},
   "outputs": [
    {
     "data": {
      "text/plain": [
       "[2, [0, 0, 0]]"
      ]
     },
     "execution_count": 11,
     "metadata": {},
     "output_type": "execute_result"
    }
   ],
   "source": [
    "colored_trefoil.trisection_parameters_branched_cover()"
   ]
  },
  {
   "cell_type": "code",
   "execution_count": 13,
   "id": "13a41402",
   "metadata": {},
   "outputs": [],
   "source": [
    "#H_1 of each handlebody\n",
    "handlebody_homology=colored_trefoil.H_1_handlebodies()"
   ]
  },
  {
   "cell_type": "code",
   "execution_count": 16,
   "id": "ee058a16",
   "metadata": {},
   "outputs": [
    {
     "name": "stdout",
     "output_type": "stream",
     "text": [
      "Generators of H_1(H_red)\n",
      "(0, 0, 0, 1, 0, 0, 0, 0, 0, 0, 0, 0, 0, 0, 0, 0, 0, 0, 0, 0, 0, 0, 0, 0)\n",
      "(0, 0, 0, 0, 1, 0, 0, 0, 0, 0, 0, 0, 0, 0, 0, 0, 0, 0, 0, 0, 0, 0, 0, 0)\n",
      "Generators of H_1(H_blu)\n",
      "(0, 0, 0, 1, 0, 0, 0, 0, 0, 0, 0, 0, 0, 0, 0, 0, 0, 0, 0, 0, 0, 0, 0, 0)\n",
      "(0, 0, 0, 0, 0, 0, 1, 0, 0, 0, 0, 0, 0, 0, 0, 0, 0, 0, 0, 0, 0, 0, 0, 0)\n",
      "Generators of H_1(H_gre)\n",
      "(0, 0, 0, 0, 1, 0, 0, 0, 0, 0, 0, 0, 0, 0, 0, 0, 0, 0, 0, 0, 0, 0, 0, 0)\n",
      "(0, 0, 0, 0, 0, 1, 0, 0, 0, 0, 0, 0, 0, 0, 0, 0, 0, 0, 0, 0, 0, 0, 0, 0)\n"
     ]
    }
   ],
   "source": [
    "#Write generators of H_1 of each handlebody in terms generators of free module of rank 24, generated by \n",
    "# x_0^1,...,x_7^0, x_0^1,...,x_7^1, x_0^2,...,x_7^2, x_0^3,...,x_7^3\n",
    "\n",
    "print(\"Generators of H_1(H_red)\")\n",
    "for x in handlebody_homology[1]['red'].gens():\n",
    "    print(x.lift())\n",
    "    \n",
    "print(\"Generators of H_1(H_blu)\")\n",
    "for x in handlebody_homology[1]['blu'].gens():\n",
    "    print(x.lift())\n",
    "    \n",
    "print(\"Generators of H_1(H_gre)\")\n",
    "for x in handlebody_homology[1]['gre'].gens():\n",
    "    print(x.lift())"
   ]
  },
  {
   "cell_type": "code",
   "execution_count": 18,
   "id": "dfe39ebc",
   "metadata": {},
   "outputs": [
    {
     "data": {
      "text/plain": [
       "(Finitely generated module V/W over Integer Ring with invariants (),\n",
       " Finitely generated module V/W over Integer Ring with invariants (0, 0),\n",
       " Finitely generated module V/W over Integer Ring with invariants ())"
      ]
     },
     "execution_count": 18,
     "metadata": {},
     "output_type": "execute_result"
    }
   ],
   "source": [
    "#Compute homology groups H_1(X), H_2(X), H_3(X)\n",
    "colored_trefoil.homology_branched_cover()"
   ]
  },
  {
   "cell_type": "code",
   "execution_count": 20,
   "id": "4c0c6570",
   "metadata": {},
   "outputs": [
    {
     "data": {
      "text/plain": [
       "(\n",
       "[ 0 -1]           \n",
       "[-1  0], 0, 'even'\n",
       ")"
      ]
     },
     "execution_count": 20,
     "metadata": {},
     "output_type": "execute_result"
    }
   ],
   "source": [
    "#Compute intersection form of X\n",
    "colored_trefoil.intersection_form()"
   ]
  },
  {
   "cell_type": "code",
   "execution_count": 21,
   "id": "3bee80c0",
   "metadata": {},
   "outputs": [
    {
     "name": "stdout",
     "output_type": "stream",
     "text": [
      "H_1(\\Sigma):  Finitely generated module V/W over Integer Ring with invariants (0, 0, 0, 0)\n",
      "A basis for H_1(\\Sigma)\n",
      "(0, 0, 0, 1, 0, 0, 0, 0, 0, 0, 0, 0, 0, 0, 0, 0, 0, 0, 0, 0, 0, 0, 0, 0)\n",
      "(0, 0, 0, 0, 1, 0, 0, 0, 0, 0, 0, 0, 0, 0, 0, 0, 0, 0, 0, 0, 0, 0, 0, 0)\n",
      "(0, 0, 0, 0, 0, 1, 0, 0, 0, 0, 0, 0, 0, 0, 0, 0, 0, 0, 0, 0, 0, 0, 0, 0)\n",
      "(0, 0, 0, 0, 0, 0, 1, 0, 0, 0, 0, 0, 0, 0, 0, 0, 0, 0, 0, 0, 0, 0, 0, 0)\n",
      "Therefore, H_1(\\Sigma) has basis {x_3^1, x_4^1, x_5^1, x_6^1}\n"
     ]
    }
   ],
   "source": [
    "#Find generators for H_1(Sigma)\n",
    "\n",
    "#A free module of rank 24, generated by x_0^1,...,x_7^0, x_0^1,...,x_7^1, x_0^2,...,x_7^2, x_0^3,...,x_7^3\n",
    "free_module=span(matrix.identity(rank(colored_trefoil.coverF)).columns())\n",
    "\n",
    "#\\Sigma=branched cover of S^2 along p_0,...,p_7\n",
    "\n",
    "#A free module of rank 20 spanned by relations of pi_1(\\Sigma)\n",
    "surface_relation_submodule=span(presentation_matrix(colored_trefoil.coverF,colored_trefoil.surface.pi_1_branched().relations()).columns())\n",
    "\n",
    "#The first homology group of \\Sigma\n",
    "H_1_surface=free_module/surface_relation_submodule\n",
    "\n",
    "print(\"H_1(\\Sigma): \",H_1_surface)\n",
    "\n",
    "#Write generators of H_1(\\Sigma) in terms of x_0^1,...,x_7^0, x_0^1,...,x_7^1, x_0^2,...,x_7^2, x_0^3,...,x_7^3\n",
    "#lift expresses an element of the quotient module in terms of the basis of the ambient module, in this case free_module\n",
    "\n",
    "print(\"A basis for H_1(\\Sigma)\")\n",
    "for gen in H_1_surface.gens():\n",
    "    print(gen.lift())\n",
    "    \n",
    "print(\"Therefore, H_1(\\Sigma) has basis {x_3^1, x_4^1, x_5^1, x_6^1}\")"
   ]
  },
  {
   "cell_type": "code",
   "execution_count": 36,
   "id": "6a786398",
   "metadata": {},
   "outputs": [
    {
     "name": "stdout",
     "output_type": "stream",
     "text": [
      "Correspondence between generators of H_1(H_red) and H_1(Sigma)\n",
      "(1, 0) corresponds to (0, 0, 0, 1, 0, 0, 0, 0, 0, 0, 0, 0, 0, 0, 0, 0, 0, 0, 0, 0, 0, 0, 0, 0)\n",
      "(0, 1) corresponds to (0, 0, 0, 0, 1, 0, 0, 0, 0, 0, 0, 0, 0, 0, 0, 0, 0, 0, 0, 0, 0, 0, 0, 0)\n",
      "Inclusion map H_1(Simga)->H_1(H_red)\n",
      "(1, 0)\n",
      "(0, 1)\n",
      "(0, 1)\n",
      "(1, 0)\n",
      "Correspondence between generators of H_1(H_blu) and H_1(Sigma)\n",
      "(1, 0) corresponds to (0, 0, 0, 1, 0, 0, 0, 0, 0, 0, 0, 0, 0, 0, 0, 0, 0, 0, 0, 0, 0, 0, 0, 0)\n",
      "(0, 1) corresponds to (0, 0, 0, 0, 0, 0, 1, 0, 0, 0, 0, 0, 0, 0, 0, 0, 0, 0, 0, 0, 0, 0, 0, 0)\n",
      "Inclusion map H_1(Simga)->H_1(H_blu)\n",
      "(1, 0)\n",
      "(1, 0)\n",
      "(0, 0)\n",
      "(0, 1)\n",
      "Correspondence between generators of H_1(H_gre) and H_1(Sigma)\n",
      "(1, 0) corresponds to (0, 0, 0, 0, 1, 0, 0, 0, 0, 0, 0, 0, 0, 0, 0, 0, 0, 0, 0, 0, 0, 0, 0, 0)\n",
      "(0, 1) corresponds to (0, 0, 0, 0, 0, 1, 0, 0, 0, 0, 0, 0, 0, 0, 0, 0, 0, 0, 0, 0, 0, 0, 0, 0)\n",
      "Inclusion map H_1(Simga)->H_1(H_gre)\n",
      "(0, 0)\n",
      "(1, 0)\n",
      "(0, 1)\n",
      "(0, 1)\n"
     ]
    }
   ],
   "source": [
    "#Inclusion maps written in terms of free module basis spanned by\n",
    "inc_red=colored_trefoil.inclusion_maps_tripod()['red']\n",
    "inc_blu=colored_trefoil.inclusion_maps_tripod()['blu']\n",
    "inc_gre=colored_trefoil.inclusion_maps_tripod()['gre']\n",
    "\n",
    "print(\"Correspondence between generators of H_1(H_red) and H_1(Sigma)\")\n",
    "for x in handlebody_homology[1]['red'].gens():\n",
    "    print(x, \"corresponds to\", x.lift())\n",
    "print(\"Inclusion map H_1(Simga)->H_1(H_red)\")\n",
    "for x in H_1_surface.gens():\n",
    "    print(inc_red(x))\n",
    "    \n",
    "print(\"Correspondence between generators of H_1(H_blu) and H_1(Sigma)\")\n",
    "for x in handlebody_homology[1]['blu'].gens():\n",
    "    print(x, \"corresponds to\", x.lift())\n",
    "print(\"Inclusion map H_1(Simga)->H_1(H_blu)\")\n",
    "for x in H_1_surface.gens():\n",
    "    print(inc_blu(x))\n",
    "    \n",
    "print(\"Correspondence between generators of H_1(H_gre) and H_1(Sigma)\")\n",
    "for x in handlebody_homology[1]['gre'].gens():\n",
    "    print(x, \"corresponds to\", x.lift())\n",
    "print(\"Inclusion map H_1(Simga)->H_1(H_gre)\")\n",
    "for x in H_1_surface.gens():\n",
    "    print(inc_gre(x))"
   ]
  },
  {
   "cell_type": "code",
   "execution_count": 37,
   "id": "52eaa4df",
   "metadata": {},
   "outputs": [
    {
     "name": "stdout",
     "output_type": "stream",
     "text": [
      "Red Lagrangian basis in terms of free_module basis\n",
      "(0, 0, 0, 1, 0, 0, 0, 0, 0, 0, 0, 0, 0, 0, 0, 0, 0, 0, 0, 0, 0, 0, 1, 0)\n",
      "(0, 0, 0, 0, 1, 0, 0, 0, 0, 0, 0, 0, 0, 0, 0, 0, 0, 0, 0, 0, 0, 1, 0, 0)\n",
      "Blue Lagrangian basis in terms of free_module basis\n",
      "(0, 0, 0, 1, 0, 0, 0, 0, 0, 0, 0, 0, 0, 0, 0, 0, 0, 0, 0, 0, 1, 0, 0, 0)\n",
      "(0, 0, 0, 0, 0, 1, 0, 0, 0, 0, 0, 0, 0, 0, 0, 0, 0, 0, 0, 0, 0, 0, 0, 0)\n",
      "Green Lagrangian basis in terms of free_module basis\n",
      "(0, 0, 0, 1, 0, 0, 0, 0, 0, 0, 0, 0, 0, 0, 0, 0, 0, 0, 0, 0, 0, 0, 0, 0)\n",
      "(0, 0, 0, 0, 1, 0, 0, 0, 0, 0, 0, 0, 0, 0, 0, 0, 0, 0, 0, 0, 0, 0, 0, 1)\n",
      "Red Lagrangian basis in terms of H_1(\\Sigma) basis {x_3^1, x_4^1, x_5^1, x_6^1}\n",
      "(1, 0, 0, -1)\n",
      "(0, 1, -1, 0)\n",
      "Blue Lagrangian basis in terms of H_1(\\Sigma) basis {x_3^1, x_4^1, x_5^1, x_6^1}\n",
      "(1, -1, 0, 0)\n",
      "(0, 0, 1, 0)\n",
      "Green Lagrangian basis in terms of H_1(\\Sigma) basis {x_3^1, x_4^1, x_5^1, x_6^1}\n",
      "(1, 0, 0, 0)\n",
      "(1, 0, 1, -1)\n",
      "Red Lagrangian: Z[x_3^1-x_6^1, x_4^1-x_5^1]\n",
      "Blue Lagrangian: Z[x_3^1-x_4^1, x_5^1]\n",
      "Green Lagrangian: Z[x_3^1, x_5^1-x_6^1]\n"
     ]
    }
   ],
   "source": [
    "#Lagrangians\n",
    "L_red=colored_trefoil.lagrangians()['red']\n",
    "L_blu=colored_trefoil.lagrangians()['blu']\n",
    "L_gre=colored_trefoil.lagrangians()['gre']\n",
    "\n",
    "print('Red Lagrangian basis in terms of free_module basis')\n",
    "for x in L_red.gens():\n",
    "    print(x.lift())\n",
    "    \n",
    "print('Blue Lagrangian basis in terms of free_module basis')\n",
    "for x in L_blu.gens():\n",
    "    print(x.lift())\n",
    "    \n",
    "print('Green Lagrangian basis in terms of free_module basis')\n",
    "for x in L_gre.gens():\n",
    "    print(x.lift())\n",
    "\n",
    "#Construct free_module as a quotient of itself by the trivial module, in order to define morphisms from it to the \n",
    "# surface and handlebody groups\n",
    "zero_vector=[0 for i in range(rank(colored_trefoil.coverF))]\n",
    "trivial_module=free_module.span([zero_vector])\n",
    "free_module_quotient_form=free_module/trivial_module\n",
    "\n",
    "#Quotient map from free_module to H_1(\\Sigma)\n",
    "surface_quotient_map=free_module_quotient_form.hom([H_1_surface(free_module_quotient_form.gen(i)) for i in range(rank(colored_trefoil.coverF))])\n",
    "\n",
    "print('Red Lagrangian basis in terms of H_1(\\Sigma) basis {x_3^1, x_4^1, x_5^1, x_6^1}')\n",
    "for x in L_red.gens():\n",
    "    print(surface_quotient_map(surface_quotient_map.lift(x)))\n",
    "    \n",
    "print('Blue Lagrangian basis in terms of H_1(\\Sigma) basis {x_3^1, x_4^1, x_5^1, x_6^1}')\n",
    "for x in L_blu.gens():\n",
    "    print(surface_quotient_map(surface_quotient_map.lift(x)))\n",
    "    \n",
    "print('Green Lagrangian basis in terms of H_1(\\Sigma) basis {x_3^1, x_4^1, x_5^1, x_6^1}')\n",
    "for x in L_gre.gens():\n",
    "    print(surface_quotient_map(surface_quotient_map.lift(x)))\n",
    "\n",
    "print('Red Lagrangian: Z[x_3^1-x_6^1, x_4^1-x_5^1]')\n",
    "print('Blue Lagrangian: Z[x_3^1-x_4^1, x_5^1]')\n",
    "print('Green Lagrangian: Z[x_3^1, x_5^1-x_6^1]')"
   ]
  },
  {
   "cell_type": "code",
   "execution_count": 38,
   "id": "0fbd5402",
   "metadata": {},
   "outputs": [
    {
     "name": "stdout",
     "output_type": "stream",
     "text": [
      "Red Lagrangian\n",
      "Free module of degree 4 and rank 2 over Integer Ring\n",
      "Echelon basis matrix:\n",
      "[ 1  0  0 -1]\n",
      "[ 0  1 -1  0]\n",
      "Blue Lagrangian\n",
      "Free module of degree 4 and rank 2 over Integer Ring\n",
      "Echelon basis matrix:\n",
      "[ 1 -1  0  0]\n",
      "[ 0  0  1  0]\n",
      "Green Lagrangian\n",
      "Free module of degree 4 and rank 2 over Integer Ring\n",
      "Echelon basis matrix:\n",
      "[ 1  0  0  0]\n",
      "[ 0  0  1 -1]\n"
     ]
    }
   ],
   "source": [
    "#Sage cannot compute intersections of the Lagrangians above, which are objects of type 'sage.modules.fg_pid.fgp_module.FGP_Module_class_with_category'\n",
    "#i.e., H_2_numerator=L_gre.intersection(L_red+L_blu) generates an error\n",
    "\n",
    "#Instead, we rebuild each Lagrangian as a free module, generated by elements of the basis for H_1(\\Sigma)\n",
    "\n",
    "#Rebuild H_1_surface as a free module\n",
    "#note the type of H_1_surface is 'sage.modules.fg_pid.fgp_module.FGP_Module_class_with_category'\n",
    "#type of surface_free is 'sage.modules.free_module.FreeModule_ambient_pid_with_category'\n",
    "surface_free=ZZ^len(H_1_surface.gens())\n",
    "\n",
    "lag_surface_basis_dict={}\n",
    "        \n",
    "for (key,value) in colored_trefoil.inclusion_maps_tripod().items():\n",
    "    lag_surface_module_basis=[]\n",
    "    for k in value.kernel().gens():\n",
    "        lag_surface_module_basis.append(surface_quotient_map(surface_quotient_map.lift(k)))\n",
    "                \n",
    "    lag=surface_free.span([list(lag_surface_module_basis[i]) for i in range(len(lag_surface_module_basis))],ZZ)\n",
    "    lag_surface_basis_dict.update({key:lag})\n",
    "\n",
    "print('Red Lagrangian')\n",
    "print(lag_surface_basis_dict['red'])\n",
    "\n",
    "print('Blue Lagrangian')\n",
    "print(lag_surface_basis_dict['blu'])\n",
    "\n",
    "print('Green Lagrangian')\n",
    "print(lag_surface_basis_dict['gre'])\n",
    "\n"
   ]
  },
  {
   "cell_type": "code",
   "execution_count": 53,
   "id": "3aa63f9f",
   "metadata": {},
   "outputs": [
    {
     "name": "stdout",
     "output_type": "stream",
     "text": [
      "L_red+L_blu generators\n",
      "(1, 0, 0, 0)\n",
      "(0, 1, 0, 0)\n",
      "(0, 0, 1, 0)\n",
      "(0, 0, 0, 1)\n",
      "L_gre \\cap (L_red+L_blu) generators\n",
      "(1, 0, 0, 0)\n",
      "(0, 0, 1, -1)\n",
      "L_blu\\cap L_gre\n",
      "L_gre\\cap L_red\n",
      "L_blu \\cap L_gre + L _gre \\cap L_red generators\n"
     ]
    }
   ],
   "source": [
    "#Intgredients of H_2 computation\n",
    "print('L_red+L_blu generators')\n",
    "for x in (lag_surface_basis_dict['red']+lag_surface_basis_dict['blu']).gens():\n",
    "    print(x.lift())\n",
    "    \n",
    "print('L_gre \\cap (L_red+L_blu) generators')\n",
    "\n",
    "H_2_numerator=lag_surface_basis_dict['gre'].intersection(lag_surface_basis_dict['red']+lag_surface_basis_dict['blu'])\n",
    "\n",
    "for x in H_2_numerator.gens():\n",
    "    print(x.lift())\n",
    "    \n",
    "print('L_blu\\cap L_gre')    \n",
    "intersection_blu_gre=lag_surface_basis_dict['blu'].intersection(lag_surface_basis_dict['gre'])\n",
    "for x in intersection_blu_gre.gens():\n",
    "    print(x.lift())\n",
    "print('L_gre\\cap L_red')   \n",
    "intersection_gre_red=lag_surface_basis_dict['gre'].intersection(lag_surface_basis_dict['red'])\n",
    "for x in intersection_gre_red.gens():\n",
    "    print(x.lift())\n",
    "H_2_denominator=intersection_blu_gre+intersection_gre_red\n",
    "print(\"L_blu \\cap L_gre + L _gre \\cap L_red generators\")\n",
    "for x in H_2_denominator.gens():\n",
    "    print(x.lift())\n"
   ]
  },
  {
   "cell_type": "code",
   "execution_count": 57,
   "id": "a6683fe5",
   "metadata": {},
   "outputs": [
    {
     "name": "stdout",
     "output_type": "stream",
     "text": [
      "(1, 0, 0, 0)\n",
      "(0, 0, 1, -1)\n"
     ]
    }
   ],
   "source": [
    "H_2=H_2_numerator/H_2_denominator\n",
    "for x in H_2.gens():\n",
    "    print(x.lift())"
   ]
  },
  {
   "cell_type": "code",
   "execution_count": 65,
   "id": "d6b67ecc",
   "metadata": {},
   "outputs": [
    {
     "name": "stdout",
     "output_type": "stream",
     "text": [
      "[ 1  0  1  0]\n",
      "[ 0  1 -1  0]\n",
      "[ 0 -1  0  1]\n",
      "[-1  0  0  0]\n",
      "[(0, 1, 1, 1), (1, -1, -1, 0)]\n"
     ]
    }
   ],
   "source": [
    "#Take only free generators of H_2 (ignore torsion)\n",
    "H_2_free_part_gens=[]\n",
    "for gen in H_2.gens():\n",
    "    if gen.additive_order()==+Infinity:\n",
    "        H_2_free_part_gens.append(gen)\n",
    "        \n",
    "L_red=lag_surface_basis_dict['red']\n",
    "L_blu=lag_surface_basis_dict['blu']\n",
    "\n",
    "#matrix with columns 1-2 generators of L_red and 3-4 generators of L_blu\n",
    "        \n",
    "L_red_blu_matrix_tr=matrix(ZZ,[L_red.gen(i) for i in range(len(L_red.gens()))]+[L_blu.gen(i) for i in range(len(L_blu.gens()))])\n",
    "L_red_blu_matrix=L_red_blu_matrix_tr.transpose()\n",
    "\n",
    "print(L_red_blu_matrix)\n",
    "        \n",
    "\n",
    "#Express generators of H_2 as linear combination of L_red and L_blu generators\n",
    "#Mx=v where v in H_2 and M= L_red_blu_matrix\n",
    "L_red_blu_combo=[]\n",
    "for H_2_gen in H_2_free_part_gens:                \n",
    "    H_2_gen_lift=vector(H_2_gen.lift())\n",
    "    soln=solve_Ax_eq_b_int(L_red_blu_matrix,H_2_gen_lift)\n",
    "    L_red_blu_combo.append(soln)\n",
    "\n",
    "print(L_red_blu_combo)\n"
   ]
  },
  {
   "cell_type": "code",
   "execution_count": 66,
   "id": "00f71932",
   "metadata": {},
   "outputs": [
    {
     "data": {
      "text/plain": [
       "(\n",
       "[ 0 -1]           \n",
       "[-1  0], 0, 'even'\n",
       ")"
      ]
     },
     "execution_count": 66,
     "metadata": {},
     "output_type": "execute_result"
    }
   ],
   "source": [
    "colored_trefoil.intersection_form()"
   ]
  },
  {
   "cell_type": "code",
   "execution_count": null,
   "id": "ccac0319",
   "metadata": {},
   "outputs": [],
   "source": []
  }
 ],
 "metadata": {
  "kernelspec": {
   "display_name": "SageMath 9.6",
   "language": "sage",
   "name": "sagemath-9.6"
  },
  "language_info": {
   "codemirror_mode": {
    "name": "ipython",
    "version": 3
   },
   "file_extension": ".py",
   "mimetype": "text/x-python",
   "name": "python",
   "nbconvert_exporter": "python",
   "pygments_lexer": "ipython3",
   "version": "3.10.3"
  }
 },
 "nbformat": 4,
 "nbformat_minor": 5
}
