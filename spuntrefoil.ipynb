{
 "cells": [
  {
   "cell_type": "code",
   "execution_count": 1,
   "id": "5e2b28a7",
   "metadata": {},
   "outputs": [],
   "source": [
    "load('./src/bridge_trisections.sage')"
   ]
  },
  {
   "cell_type": "code",
   "execution_count": 2,
   "id": "05f8ad85",
   "metadata": {},
   "outputs": [],
   "source": [
    "bridge_number = 4\n",
    "symmetric_group_rank = 3\n",
    "\n",
    "spun_trefoil = tau_l_T_2_b(0, 3)\n",
    "trefoil_F = FreeGroup(2*bridge_number)\n",
    "\n",
    "trefoil_S = SymmetricGroup(symmetric_group_rank)\n",
    "trefoil_cover_F=FreeGroup((bridge_number*2) * symmetric_group_rank)\n",
    "\n",
    "trefoil_tangles_dict = {\n",
    "        'red': spun_trefoil.red_tangle,\n",
    "        'blu': spun_trefoil.blu_tangle,\n",
    "        'gre': spun_trefoil.gre_tangle,\n",
    "    }\n",
    "\n",
    "trefoil_images_of_generators = ['(1, 2)', '(1, 2)', '(1, 3)', '(1, 3)', \n",
    "                                '(1, 3)', '(1, 3)', '(1, 3)', '(1, 3)']"
   ]
  },
  {
   "cell_type": "code",
   "execution_count": 3,
   "id": "e894f16f-3fc9-4134-8e81-9a3ca3b3e216",
   "metadata": {},
   "outputs": [],
   "source": [
    "colored_trefoil = Colored_bridge_trisection(trefoil_F,\n",
    "                                            trefoil_S,\n",
    "                                            trefoil_tangles_dict,\n",
    "                                            trefoil_images_of_generators)"
   ]
  },
  {
   "cell_type": "code",
   "execution_count": 18,
   "id": "1c1edd53",
   "metadata": {},
   "outputs": [
    {
     "name": "stdout",
     "output_type": "stream",
     "text": [
      "Finitely presented group < x0, x1, x2, x3, x4, x5, x6, x7, x8, x9, x10, x11, x12, x13, x14, x15, x16, x17, x18, x19, x20, x21, x22, x23 | 1, x0, x2, x0*x9*x2*x19*x4*x21*x6*x23, x8*x1*x10*x11*x12*x13*x14*x15, x16*x17*x18*x3*x20*x5*x22*x7 >\n",
      "Finitely presented group < x0, x1, x2, x3, x4, x5, x6, x7, x8, x9, x10, x11, x12, x13, x14, x15, x16, x17, x18, x19, x20, x21, x22, x23 | x0*x8, x16, x1*x9, x17, x2*x18, x10, x3*x19, x11, x4*x20, x12, x5*x21, x13, x6*x22, x14, x7*x23, x15, 1, x0, x2, x0*x9*x2*x19*x4*x21*x6*x23, x8*x1*x10*x11*x12*x13*x14*x15, x16*x17*x18*x3*x20*x5*x22*x7 >\n"
     ]
    }
   ],
   "source": [
    "#surface\n",
    "colored_trefoil.surface\n",
    "print(colored_trefoil.surface.pi_1_unbranched())\n",
    "print(colored_trefoil.surface.pi_1_branched())"
   ]
  },
  {
   "cell_type": "code",
   "execution_count": 23,
   "id": "6300ffb1",
   "metadata": {},
   "outputs": [
    {
     "name": "stdout",
     "output_type": "stream",
     "text": [
      "unbranched group\n",
      "Finitely presented group < x0, x1, x2, x3, x4, x5, x6, x7, x8, x9, x10, x11, x12, x13, x14, x15, x16, x17, x18, x19, x20, x21, x22, x23 | x0*x9*x2*x17*x18*x9^-1*x10^-1*x1^-1, x8*x1*x10*x9*x2*x17^-1*x2^-1*x9^-1, x16*x17*x18*x1*x10*x1^-1*x18^-1*x17^-1, x1*x10*x9*x18^-1*x17^-1*x23, x9*x2*x17*x2^-1*x9^-1*x15, x17*x18*x1*x10^-1*x1^-1*x7, x3*x22, x11*x14, x19*x6, x4*x21, x12*x13, x20*x5, 1, x0, x2 >\n",
      "branched group\n",
      "Finitely presented group < x0, x1, x2, x3, x4, x5, x6, x7, x8, x9, x10, x11, x12, x13, x14, x15, x16, x17, x18, x19, x20, x21, x22, x23 | x0*x9*x2*x17*x18*x9^-1*x10^-1*x1^-1, x8*x1*x10*x9*x2*x17^-1*x2^-1*x9^-1, x16*x17*x18*x1*x10*x1^-1*x18^-1*x17^-1, x1*x10*x9*x18^-1*x17^-1*x23, x9*x2*x17*x2^-1*x9^-1*x15, x17*x18*x1*x10^-1*x1^-1*x7, x3*x22, x11*x14, x19*x6, x4*x21, x12*x13, x20*x5, 1, x0, x2, x0*x8, x16, x1*x9, x17, x2*x18, x10, x3*x19, x11, x4*x20, x12, x5*x21, x13, x6*x22, x14, x7*x23, x15 >\n",
      "genus\n",
      "2\n"
     ]
    }
   ],
   "source": [
    "#handlebodies\n",
    "\n",
    "#red\n",
    "print('unbranched group')\n",
    "print(colored_trefoil.colored_tangles['red'].handlebody_group_unbranched())\n",
    "print('branched group')\n",
    "print(colored_trefoil.colored_tangles['red'].handlebody_group())\n",
    "print('genus')\n",
    "print(colored_trefoil.colored_tangles['red'].handlebody_genus())"
   ]
  },
  {
   "cell_type": "code",
   "execution_count": 25,
   "id": "e40d723b",
   "metadata": {},
   "outputs": [
    {
     "name": "stdout",
     "output_type": "stream",
     "text": [
      "unbranched group\n",
      "Finitely presented group < x0, x1, x2, x3, x4, x5, x6, x7, x8, x9, x10, x11, x12, x13, x14, x15, x16, x17, x18, x19, x20, x21, x22, x23 | x0*x9*x2*x17*x18*x9^-1*x10^-1*x1^-1, x8*x1*x10*x9*x2*x17^-1*x2^-1*x9^-1, x16*x17*x18*x1*x10*x1^-1*x18^-1*x17^-1, x1*x10*x9*x18^-1*x17^-1*x21, x9*x2*x17*x2^-1*x9^-1*x13, x17*x18*x1*x10^-1*x1^-1*x5, x3*x20, x11*x12, x19*x4, x6*x23, x14*x15, x22*x7, 1, x0, x2 >\n",
      "branched group\n",
      "Finitely presented group < x0, x1, x2, x3, x4, x5, x6, x7, x8, x9, x10, x11, x12, x13, x14, x15, x16, x17, x18, x19, x20, x21, x22, x23 | x0*x9*x2*x17*x18*x9^-1*x10^-1*x1^-1, x8*x1*x10*x9*x2*x17^-1*x2^-1*x9^-1, x16*x17*x18*x1*x10*x1^-1*x18^-1*x17^-1, x1*x10*x9*x18^-1*x17^-1*x21, x9*x2*x17*x2^-1*x9^-1*x13, x17*x18*x1*x10^-1*x1^-1*x5, x3*x20, x11*x12, x19*x4, x6*x23, x14*x15, x22*x7, 1, x0, x2, x0*x8, x16, x1*x9, x17, x2*x18, x10, x3*x19, x11, x4*x20, x12, x5*x21, x13, x6*x22, x14, x7*x23, x15 >\n",
      "genus\n",
      "2\n"
     ]
    }
   ],
   "source": [
    "#handlebodies\n",
    "\n",
    "#blue\n",
    "print('unbranched group')\n",
    "print(colored_trefoil.colored_tangles['blu'].handlebody_group_unbranched())\n",
    "print('branched group')\n",
    "print(colored_trefoil.colored_tangles['blu'].handlebody_group())\n",
    "print('genus')\n",
    "print(colored_trefoil.colored_tangles['blu'].handlebody_genus())"
   ]
  },
  {
   "cell_type": "code",
   "execution_count": 26,
   "id": "d45e5c65",
   "metadata": {},
   "outputs": [
    {
     "name": "stdout",
     "output_type": "stream",
     "text": [
      "unbranched group\n",
      "Finitely presented group < x0, x1, x2, x3, x4, x5, x6, x7, x8, x9, x10, x11, x12, x13, x14, x15, x16, x17, x18, x19, x20, x21, x22, x23 | x0*x9*x4*x17*x20*x9^-1*x12^-1*x1^-1, x8*x1*x12*x9*x4*x17^-1*x4^-1*x9^-1, x16*x17*x20*x1*x12*x1^-1*x20^-1*x17^-1, x1*x12*x9*x20^-1*x17^-1*x23, x9*x4*x17*x4^-1*x9^-1*x15, x17*x20*x1*x12^-1*x1^-1*x7, x2*x19, x10*x11, x18*x3, x5*x22, x13*x14, x21*x6, 1, x0, x2 >\n",
      "branched group\n",
      "Finitely presented group < x0, x1, x2, x3, x4, x5, x6, x7, x8, x9, x10, x11, x12, x13, x14, x15, x16, x17, x18, x19, x20, x21, x22, x23 | x0*x9*x4*x17*x20*x9^-1*x12^-1*x1^-1, x8*x1*x12*x9*x4*x17^-1*x4^-1*x9^-1, x16*x17*x20*x1*x12*x1^-1*x20^-1*x17^-1, x1*x12*x9*x20^-1*x17^-1*x23, x9*x4*x17*x4^-1*x9^-1*x15, x17*x20*x1*x12^-1*x1^-1*x7, x2*x19, x10*x11, x18*x3, x5*x22, x13*x14, x21*x6, 1, x0, x2, x0*x8, x16, x1*x9, x17, x2*x18, x10, x3*x19, x11, x4*x20, x12, x5*x21, x13, x6*x22, x14, x7*x23, x15 >\n",
      "genus\n",
      "2\n"
     ]
    }
   ],
   "source": [
    "#handlebodies\n",
    "\n",
    "#green\n",
    "print('unbranched group')\n",
    "print(colored_trefoil.colored_tangles['gre'].handlebody_group_unbranched())\n",
    "print('branched group')\n",
    "print(colored_trefoil.colored_tangles['gre'].handlebody_group())\n",
    "print('genus')\n",
    "print(colored_trefoil.colored_tangles['gre'].handlebody_genus())"
   ]
  },
  {
   "cell_type": "code",
   "execution_count": 30,
   "id": "cab52a3b-256c-41d1-91bd-271494e442c5",
   "metadata": {},
   "outputs": [
    {
     "name": "stdout",
     "output_type": "stream",
     "text": [
      "Finitely presented group < x0, x1, x2, x3, x4, x5, x6, x7, x8, x9, x10, x11, x12, x13, x14, x15, x16, x17, x18, x19, x20, x21, x22, x23 | 1, x0, x2, x0*x9*x2*x17*x18*x9^-1*x10^-1*x1^-1, x8*x1*x10*x9*x2*x17^-1*x2^-1*x9^-1, x16*x17*x18*x1*x10*x1^-1*x18^-1*x17^-1, x1*x10*x9*x18^-1*x17^-1*x23, x9*x2*x17*x2^-1*x9^-1*x15, x17*x18*x1*x10^-1*x1^-1*x7, x3*x22, x11*x14, x19*x6, x4*x21, x12*x13, x20*x5, 1, x0, x2, x0*x9*x2*x17*x18*x9^-1*x10^-1*x1^-1, x8*x1*x10*x9*x2*x17^-1*x2^-1*x9^-1, x16*x17*x18*x1*x10*x1^-1*x18^-1*x17^-1, x1*x10*x9*x18^-1*x17^-1*x21, x9*x2*x17*x2^-1*x9^-1*x13, x17*x18*x1*x10^-1*x1^-1*x5, x3*x20, x11*x12, x19*x4, x6*x23, x14*x15, x22*x7, 1, x0, x2, x0*x9*x4*x17*x20*x9^-1*x12^-1*x1^-1, x8*x1*x12*x9*x4*x17^-1*x4^-1*x9^-1, x16*x17*x20*x1*x12*x1^-1*x20^-1*x17^-1, x1*x12*x9*x20^-1*x17^-1*x23, x9*x4*x17*x4^-1*x9^-1*x15, x17*x20*x1*x12^-1*x1^-1*x7, x2*x19, x10*x11, x18*x3, x5*x22, x13*x14, x21*x6 >\n"
     ]
    },
    {
     "data": {
      "text/plain": [
       "Generic morphism:\n",
       "  From: Finitely presented group < x0, x1, x2, x3, x4, x5, x6, x7, x8, x9, x10, x11, x12, x13, x14, x15, x16, x17, x18, x19, x20, x21, x22, x23 | 1, x0, x2, x0*x9*x2*x17*x18*x9^-1*x10^-1*x1^-1, x8*x1*x10*x9*x2*x17^-1*x2^-1*x9^-1, x16*x17*x18*x1*x10*x1^-1*x18^-1*x17^-1, x1*x10*x9*x18^-1*x17^-1*x23, x9*x2*x17*x2^-1*x9^-1*x15, x17*x18*x1*x10^-1*x1^-1*x7, x3*x22, x11*x14, x19*x6, x4*x21, x12*x13, x20*x5, 1, x0, x2, x0*x9*x2*x17*x18*x9^-1*x10^-1*x1^-1, x8*x1*x10*x9*x2*x17^-1*x2^-1*x9^-1, x16*x17*x18*x1*x10*x1^-1*x18^-1*x17^-1, x1*x10*x9*x18^-1*x17^-1*x21, x9*x2*x17*x2^-1*x9^-1*x13, x17*x18*x1*x10^-1*x1^-1*x5, x3*x20, x11*x12, x19*x4, x6*x23, x14*x15, x22*x7, 1, x0, x2, x0*x9*x4*x17*x20*x9^-1*x12^-1*x1^-1, x8*x1*x12*x9*x4*x17^-1*x4^-1*x9^-1, x16*x17*x20*x1*x12*x1^-1*x20^-1*x17^-1, x1*x12*x9*x20^-1*x17^-1*x23, x9*x4*x17*x4^-1*x9^-1*x15, x17*x20*x1*x12^-1*x1^-1*x7, x2*x19, x10*x11, x18*x3, x5*x22, x13*x14, x21*x6 >\n",
       "  To:   Finitely presented group < x1, x10 | x1*x10*x1*(x10^-1*x1^-1)^2*x10 >\n",
       "  Defn: x0 |--> 1\n",
       "        x1 |--> x1\n",
       "        x2 |--> 1\n",
       "        x3 |--> x10^-1*x1^-1*x10\n",
       "        x4 |--> 1\n",
       "        x5 |--> x10^-1*x1^-1*x10\n",
       "        x6 |--> 1\n",
       "        x7 |--> x10^-1*x1^-1*x10\n",
       "        x8 |--> x1^-1\n",
       "        x9 |--> 1\n",
       "        x10 |--> x10\n",
       "        x11 |--> x10^-1\n",
       "        x12 |--> x10\n",
       "        x13 |--> x10^-1\n",
       "        x14 |--> x10\n",
       "        x15 |--> x10^-1\n",
       "        x16 |--> x10^-1\n",
       "        x17 |--> x10\n",
       "        x18 |--> x10^-1*x1*x10\n",
       "        x19 |--> 1\n",
       "        x20 |--> x10^-1*x1*x10\n",
       "        x21 |--> 1\n",
       "        x22 |--> x10^-1*x1*x10\n",
       "        x23 |--> 1"
      ]
     },
     "execution_count": 30,
     "metadata": {},
     "output_type": "execute_result"
    }
   ],
   "source": [
    "pi_1_unbr = colored_trefoil.pi_1_unbranched_cover()\n",
    "print(pi_1_unbr)\n",
    "pi_1_unbr.simplification_isomorphism()"
   ]
  },
  {
   "cell_type": "code",
   "execution_count": 5,
   "id": "28bf3c92",
   "metadata": {},
   "outputs": [
    {
     "data": {
      "text/plain": [
       "Generic morphism:\n",
       "  From: Finitely presented group < x0, x1, x2, x3, x4, x5, x6, x7, x8, x9, x10, x11, x12, x13, x14, x15, x16, x17, x18, x19, x20, x21, x22, x23 | x0*x9*x2*x17*x18*x9^-1*x10^-1*x1^-1, x8*x1*x10*x9*x2*x17^-1*x2^-1*x9^-1, x16*x17*x18*x1*x10*x1^-1*x18^-1*x17^-1, x1*x10*x9*x18^-1*x17^-1*x23, x9*x2*x17*x2^-1*x9^-1*x15, x17*x18*x1*x10^-1*x1^-1*x7, x3*x22, x11*x14, x19*x6, x4*x21, x12*x13, x20*x5, 1, x0, x2, x0*x8, x16, x1*x9, x17, x2*x18, x10, x3*x19, x11, x4*x20, x12, x5*x21, x13, x6*x22, x14, x7*x23, x15, x0*x9*x2*x17*x18*x9^-1*x10^-1*x1^-1, x8*x1*x10*x9*x2*x17^-1*x2^-1*x9^-1, x16*x17*x18*x1*x10*x1^-1*x18^-1*x17^-1, x1*x10*x9*x18^-1*x17^-1*x21, x9*x2*x17*x2^-1*x9^-1*x13, x17*x18*x1*x10^-1*x1^-1*x5, x3*x20, x11*x12, x19*x4, x6*x23, x14*x15, x22*x7, 1, x0, x2, x0*x8, x16, x1*x9, x17, x2*x18, x10, x3*x19, x11, x4*x20, x12, x5*x21, x13, x6*x22, x14, x7*x23, x15, x0*x9*x4*x17*x20*x9^-1*x12^-1*x1^-1, x8*x1*x12*x9*x4*x17^-1*x4^-1*x9^-1, x16*x17*x20*x1*x12*x1^-1*x20^-1*x17^-1, x1*x12*x9*x20^-1*x17^-1*x23, x9*x4*x17*x4^-1*x9^-1*x15, x17*x20*x1*x12^-1*x1^-1*x7, x2*x19, x10*x11, x18*x3, x5*x22, x13*x14, x21*x6, 1, x0, x2, x0*x8, x16, x1*x9, x17, x2*x18, x10, x3*x19, x11, x4*x20, x12, x5*x21, x13, x6*x22, x14, x7*x23, x15 >\n",
       "  To:   Finitely presented group <  |  >\n",
       "  Defn: x0 |--> 1\n",
       "        x1 |--> 1\n",
       "        x2 |--> 1\n",
       "        x3 |--> 1\n",
       "        x4 |--> 1\n",
       "        x5 |--> 1\n",
       "        x6 |--> 1\n",
       "        x7 |--> 1\n",
       "        x8 |--> 1\n",
       "        x9 |--> 1\n",
       "        x10 |--> 1\n",
       "        x11 |--> 1\n",
       "        x12 |--> 1\n",
       "        x13 |--> 1\n",
       "        x14 |--> 1\n",
       "        x15 |--> 1\n",
       "        x16 |--> 1\n",
       "        x17 |--> 1\n",
       "        x18 |--> 1\n",
       "        x19 |--> 1\n",
       "        x20 |--> 1\n",
       "        x21 |--> 1\n",
       "        x22 |--> 1\n",
       "        x23 |--> 1"
      ]
     },
     "execution_count": 5,
     "metadata": {},
     "output_type": "execute_result"
    }
   ],
   "source": []
  },
  {
   "cell_type": "code",
   "execution_count": 6,
   "id": "d39cf804",
   "metadata": {},
   "outputs": [
    {
     "data": {
      "text/plain": [
       "Generic morphism:\n",
       "  From: Finitely presented group < x0, x1, x2, x3, x4, x5, x6, x7, x8, x9, x10, x11, x12, x13, x14, x15, x16, x17, x18, x19, x20, x21, x22, x23 | 1, x0, x2, x0*x9*x2*x17*x18*x9^-1*x10^-1*x1^-1, x8*x1*x10*x9*x2*x17^-1*x2^-1*x9^-1, x16*x17*x18*x1*x10*x1^-1*x18^-1*x17^-1, x1*x10*x9*x18^-1*x17^-1*x23, x9*x2*x17*x2^-1*x9^-1*x15, x17*x18*x1*x10^-1*x1^-1*x7, x3*x22, x11*x14, x19*x6, x4*x21, x12*x13, x20*x5, 1, x0, x2, x0*x9*x2*x17*x18*x9^-1*x10^-1*x1^-1, x8*x1*x10*x9*x2*x17^-1*x2^-1*x9^-1, x16*x17*x18*x1*x10*x1^-1*x18^-1*x17^-1, x1*x10*x9*x18^-1*x17^-1*x21, x9*x2*x17*x2^-1*x9^-1*x13, x17*x18*x1*x10^-1*x1^-1*x5, x3*x20, x11*x12, x19*x4, x6*x23, x14*x15, x22*x7, 1, x0, x2, x0*x9*x4*x17*x20*x9^-1*x12^-1*x1^-1, x8*x1*x12*x9*x4*x17^-1*x4^-1*x9^-1, x16*x17*x20*x1*x12*x1^-1*x20^-1*x17^-1, x1*x12*x9*x20^-1*x17^-1*x23, x9*x4*x17*x4^-1*x9^-1*x15, x17*x20*x1*x12^-1*x1^-1*x7, x2*x19, x10*x11, x18*x3, x5*x22, x13*x14, x21*x6 >\n",
       "  To:   Finitely presented group < x1, x10 | x1*x10*x1*(x10^-1*x1^-1)^2*x10 >\n",
       "  Defn: x0 |--> 1\n",
       "        x1 |--> x1\n",
       "        x2 |--> 1\n",
       "        x3 |--> x10^-1*x1^-1*x10\n",
       "        x4 |--> 1\n",
       "        x5 |--> x10^-1*x1^-1*x10\n",
       "        x6 |--> 1\n",
       "        x7 |--> x10^-1*x1^-1*x10\n",
       "        x8 |--> x1^-1\n",
       "        x9 |--> 1\n",
       "        x10 |--> x10\n",
       "        x11 |--> x10^-1\n",
       "        x12 |--> x10\n",
       "        x13 |--> x10^-1\n",
       "        x14 |--> x10\n",
       "        x15 |--> x10^-1\n",
       "        x16 |--> x10^-1\n",
       "        x17 |--> x10\n",
       "        x18 |--> x10^-1*x1*x10\n",
       "        x19 |--> 1\n",
       "        x20 |--> x10^-1*x1*x10\n",
       "        x21 |--> 1\n",
       "        x22 |--> x10^-1*x1*x10\n",
       "        x23 |--> 1"
      ]
     },
     "execution_count": 6,
     "metadata": {},
     "output_type": "execute_result"
    }
   ],
   "source": [
    "pi_1_unbr.simplification_isomorphism()"
   ]
  },
  {
   "cell_type": "code",
   "execution_count": 7,
   "id": "2c0837c9",
   "metadata": {},
   "outputs": [
    {
     "name": "stdout",
     "output_type": "stream",
     "text": [
      "True\n",
      "True\n",
      "True\n"
     ]
    }
   ],
   "source": [
    "colored_trefoil.check_pi_1_branched_cover_3_manifolds_free()"
   ]
  },
  {
   "cell_type": "code",
   "execution_count": 8,
   "id": "faeec57d-8146-46e2-a70c-fb0033d3b463",
   "metadata": {},
   "outputs": [
    {
     "data": {
      "text/plain": [
       "[2, [0, 0, 0]]"
      ]
     },
     "execution_count": 8,
     "metadata": {},
     "output_type": "execute_result"
    }
   ],
   "source": [
    "colored_trefoil.trisection_parameters_branched_cover()"
   ]
  },
  {
   "cell_type": "code",
   "execution_count": 13,
   "id": "a6392308",
   "metadata": {},
   "outputs": [
    {
     "data": {
      "text/plain": [
       "{'F': Free Group on generators {x0, x1, x2, x3, x4, x5, x6, x7}, 'S': Symmetric group of order 3! as a permutation group, 'relations_source': [x0*(x1*x2)^2*x1^-1*x2^-1*x1^-1, x1*x2*x1*x2^-1*x1^-1*x7, x3*x6, x4*x5], 'representation': Group morphism:\n",
       "  From: Free Group on generators {x0, x1, x2, x3, x4, x5, x6, x7}\n",
       "  To:   Symmetric group of order 3! as a permutation group, 'coverF': Free Group on generators {x0, x1, x2, x3, x4, x5, x6, x7, x8, x9, x10, x11, x12, x13, x14, x15, x16, x17, x18, x19, x20, x21, x22, x23}, 'surface': {'F': Free Group on generators {x0, x1, x2, x3, x4, x5, x6, x7}, 'S': Symmetric group of order 3! as a permutation group, 'representation': Group morphism:\n",
       "  From: Free Group on generators {x0, x1, x2, x3, x4, x5, x6, x7}\n",
       "  To:   Symmetric group of order 3! as a permutation group, 'coverF': Free Group on generators {x0, x1, x2, x3, x4, x5, x6, x7, x8, x9, x10, x11, x12, x13, x14, x15, x16, x17, x18, x19, x20, x21, x22, x23}, 'relation': x0*x1*x2*x3*x4*x5*x6*x7}}"
      ]
     },
     "execution_count": 13,
     "metadata": {},
     "output_type": "execute_result"
    }
   ],
   "source": [
    "colored_trefoil.colored_tangles['red']"
   ]
  },
  {
   "cell_type": "code",
   "execution_count": 10,
   "id": "32d813c2",
   "metadata": {},
   "outputs": [
    {
     "data": {
      "text/plain": [
       "Finitely presented group < x0, x1, x2, x3, x4, x5, x6, x7, x8, x9, x10, x11, x12, x13, x14, x15, x16, x17, x18, x19, x20, x21, x22, x23 | x0*x9*x2*x17*x18*x9^-1*x10^-1*x1^-1, x8*x1*x10*x9*x2*x17^-1*x2^-1*x9^-1, x16*x17*x18*x1*x10*x1^-1*x18^-1*x17^-1, x1*x10*x9*x18^-1*x17^-1*x23, x9*x2*x17*x2^-1*x9^-1*x15, x17*x18*x1*x10^-1*x1^-1*x7, x3*x22, x11*x14, x19*x6, x4*x21, x12*x13, x20*x5, 1, x0, x2 >"
      ]
     },
     "execution_count": 10,
     "metadata": {},
     "output_type": "execute_result"
    }
   ],
   "source": [
    "colored_trefoil.colored_tangles['red'].handlebody_group_unbranched()"
   ]
  },
  {
   "cell_type": "code",
   "execution_count": 11,
   "id": "2030d7e9",
   "metadata": {},
   "outputs": [
    {
     "data": {
      "text/plain": [
       "\\langle x_{0}, x_{1}, x_{2}, x_{3}, x_{4}, x_{5}, x_{6}, x_{7}, x_{8}, x_{9}, x_{10}, x_{11}, x_{12}, x_{13}, x_{14}, x_{15}, x_{16}, x_{17}, x_{18}, x_{19}, x_{20}, x_{21}, x_{22}, x_{23} \\mid x_{0}\\cdot x_{9}\\cdot x_{2}\\cdot x_{17}\\cdot x_{18}\\cdot x_{9}^{-1}\\cdot x_{10}^{-1}\\cdot x_{1}^{-1} , x_{8}\\cdot x_{1}\\cdot x_{10}\\cdot x_{9}\\cdot x_{2}\\cdot x_{17}^{-1}\\cdot x_{2}^{-1}\\cdot x_{9}^{-1} , x_{16}\\cdot x_{17}\\cdot x_{18}\\cdot x_{1}\\cdot x_{10}\\cdot x_{1}^{-1}\\cdot x_{18}^{-1}\\cdot x_{17}^{-1} , x_{1}\\cdot x_{10}\\cdot x_{9}\\cdot x_{18}^{-1}\\cdot x_{17}^{-1}\\cdot x_{23} , x_{9}\\cdot x_{2}\\cdot x_{17}\\cdot x_{2}^{-1}\\cdot x_{9}^{-1}\\cdot x_{15} , x_{17}\\cdot x_{18}\\cdot x_{1}\\cdot x_{10}^{-1}\\cdot x_{1}^{-1}\\cdot x_{7} , x_{3}\\cdot x_{22} , x_{11}\\cdot x_{14} , x_{19}\\cdot x_{6} , x_{4}\\cdot x_{21} , x_{12}\\cdot x_{13} , x_{20}\\cdot x_{5} , 1 , x_{0} , x_{2}\\rangle"
      ]
     },
     "execution_count": 11,
     "metadata": {},
     "output_type": "execute_result"
    }
   ],
   "source": [
    "latex(_)"
   ]
  },
  {
   "cell_type": "code",
   "execution_count": 12,
   "id": "00add8f9",
   "metadata": {},
   "outputs": [
    {
     "data": {
      "text/plain": [
       "[[[0, 1, 1],\n",
       "  [1, 2, 1],\n",
       "  [2, 1, 1],\n",
       "  [1, 3, 1],\n",
       "  [2, 3, 1],\n",
       "  [1, 2, -1],\n",
       "  [2, 2, -1],\n",
       "  [1, 1, -1]],\n",
       " [[0, 2, 1],\n",
       "  [1, 1, 1],\n",
       "  [2, 2, 1],\n",
       "  [1, 2, 1],\n",
       "  [2, 1, 1],\n",
       "  [1, 3, -1],\n",
       "  [2, 1, -1],\n",
       "  [1, 2, -1]],\n",
       " [[0, 3, 1],\n",
       "  [1, 3, 1],\n",
       "  [2, 3, 1],\n",
       "  [1, 1, 1],\n",
       "  [2, 2, 1],\n",
       "  [1, 1, -1],\n",
       "  [2, 3, -1],\n",
       "  [1, 3, -1]],\n",
       " [[1, 1, 1], [2, 2, 1], [1, 2, 1], [2, 3, -1], [1, 3, -1], [7, 3, 1]],\n",
       " [[1, 2, 1], [2, 1, 1], [1, 3, 1], [2, 1, -1], [1, 2, -1], [7, 2, 1]],\n",
       " [[1, 3, 1], [2, 3, 1], [1, 1, 1], [2, 2, -1], [1, 1, -1], [7, 1, 1]],\n",
       " [[3, 1, 1], [6, 3, 1]],\n",
       " [[3, 2, 1], [6, 2, 1]],\n",
       " [[3, 3, 1], [6, 1, 1]],\n",
       " [[4, 1, 1], [5, 3, 1]],\n",
       " [[4, 2, 1], [5, 2, 1]],\n",
       " [[4, 3, 1], [5, 1, 1]]]"
      ]
     },
     "execution_count": 12,
     "metadata": {},
     "output_type": "execute_result"
    }
   ],
   "source": [
    "colored_trefoil.colored_tangles['red'].lift_relations_sub_sup_exp()"
   ]
  },
  {
   "cell_type": "code",
   "execution_count": 15,
   "id": "50ab5d47",
   "metadata": {},
   "outputs": [
    {
     "data": {
      "text/plain": [
       "{'F': Free Group on generators {x0, x1, x2, x3, x4, x5, x6, x7}, 'S': Symmetric group of order 3! as a permutation group, 'representation': Group morphism:\n",
       "  From: Free Group on generators {x0, x1, x2, x3, x4, x5, x6, x7}\n",
       "  To:   Symmetric group of order 3! as a permutation group, 'coverF': Free Group on generators {x0, x1, x2, x3, x4, x5, x6, x7, x8, x9, x10, x11, x12, x13, x14, x15, x16, x17, x18, x19, x20, x21, x22, x23}, 'relation': x0*x1*x2*x3*x4*x5*x6*x7}"
      ]
     },
     "execution_count": 15,
     "metadata": {},
     "output_type": "execute_result"
    }
   ],
   "source": []
  },
  {
   "cell_type": "code",
   "execution_count": null,
   "id": "062b1fea",
   "metadata": {},
   "outputs": [],
   "source": []
  }
 ],
 "metadata": {
  "kernelspec": {
   "display_name": "SageMath 9.5",
   "language": "sage",
   "name": "sagemath-9.5"
  },
  "language_info": {
   "codemirror_mode": {
    "name": "ipython",
    "version": 3
   },
   "file_extension": ".py",
   "mimetype": "text/x-python",
   "name": "python",
   "nbconvert_exporter": "python",
   "pygments_lexer": "ipython3",
   "version": "3.9.9"
  }
 },
 "nbformat": 4,
 "nbformat_minor": 5
}
