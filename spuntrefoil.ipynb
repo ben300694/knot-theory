{
 "cells": [
  {
   "cell_type": "code",
   "execution_count": 92,
   "id": "5e2b28a7",
   "metadata": {},
   "outputs": [],
   "source": [
    "load('./src/bridge_trisections.sage')"
   ]
  },
  {
   "cell_type": "code",
   "execution_count": 93,
   "id": "05f8ad85",
   "metadata": {},
   "outputs": [],
   "source": [
    "bridge_number = 4\n",
    "symmetric_group_rank = 3\n",
    "\n",
    "spun_trefoil = tau_l_T_2_b(0, 3)\n",
    "trefoil_F = FreeGroup(2*bridge_number)\n",
    "\n",
    "trefoil_S = SymmetricGroup(symmetric_group_rank)\n",
    "trefoil_cover_F=FreeGroup((bridge_number*2) * symmetric_group_rank)\n",
    "\n",
    "trefoil_tangles_dict = {\n",
    "        'red': spun_trefoil.red_tangle,\n",
    "        'blu': spun_trefoil.blu_tangle,\n",
    "        'gre': spun_trefoil.gre_tangle,\n",
    "    }\n",
    "\n",
    "trefoil_images_of_generators = ['(1, 2)', '(1, 2)', '(1, 3)', '(1, 3)', \n",
    "                                '(1, 3)', '(1, 3)', '(1, 3)', '(1, 3)']"
   ]
  },
  {
   "cell_type": "code",
   "execution_count": 94,
   "id": "e894f16f-3fc9-4134-8e81-9a3ca3b3e216",
   "metadata": {},
   "outputs": [],
   "source": [
    "colored_trefoil = Colored_bridge_trisection(trefoil_F,\n",
    "                                            trefoil_S,\n",
    "                                            trefoil_tangles_dict,\n",
    "                                            trefoil_images_of_generators)"
   ]
  },
  {
   "cell_type": "code",
   "execution_count": 95,
   "id": "cab52a3b-256c-41d1-91bd-271494e442c5",
   "metadata": {},
   "outputs": [],
   "source": [
    "pi_1_br = colored_trefoil.pi_1_branched_cover()\n",
    "pi_1_unbr = colored_trefoil.pi_1_unbranched_cover()"
   ]
  },
  {
   "cell_type": "code",
   "execution_count": 96,
   "id": "28bf3c92",
   "metadata": {},
   "outputs": [
    {
     "data": {
      "text/plain": [
       "Generic morphism:\n",
       "  From: Finitely presented group < x0, x1, x2, x3, x4, x5, x6, x7, x8, x9, x10, x11, x12, x13, x14, x15, x16, x17, x18, x19, x20, x21, x22, x23 | x0*x9*x2*x17*x18*x9^-1*x10^-1*x1^-1, x8*x1*x10*x9*x2*x17^-1*x2^-1*x9^-1, x16*x17*x18*x1*x10*x1^-1*x18^-1*x17^-1, x1*x10*x9*x18^-1*x17^-1*x23, x9*x2*x17*x2^-1*x9^-1*x15, x17*x18*x1*x10^-1*x1^-1*x7, x3*x22, x11*x14, x19*x6, x4*x21, x12*x13, x20*x5, 1, x0, x2, x0*x8, x16, x1*x9, x17, x2*x18, x10, x3*x19, x11, x4*x20, x12, x5*x21, x13, x6*x22, x14, x7*x23, x15, x0*x9*x2*x17*x18*x9^-1*x10^-1*x1^-1, x8*x1*x10*x9*x2*x17^-1*x2^-1*x9^-1, x16*x17*x18*x1*x10*x1^-1*x18^-1*x17^-1, x1*x10*x9*x18^-1*x17^-1*x21, x9*x2*x17*x2^-1*x9^-1*x13, x17*x18*x1*x10^-1*x1^-1*x5, x3*x20, x11*x12, x19*x4, x6*x23, x14*x15, x22*x7, 1, x0, x2, x0*x8, x16, x1*x9, x17, x2*x18, x10, x3*x19, x11, x4*x20, x12, x5*x21, x13, x6*x22, x14, x7*x23, x15, x0*x9*x4*x17*x20*x9^-1*x12^-1*x1^-1, x8*x1*x12*x9*x4*x17^-1*x4^-1*x9^-1, x16*x17*x20*x1*x12*x1^-1*x20^-1*x17^-1, x1*x12*x9*x20^-1*x17^-1*x23, x9*x4*x17*x4^-1*x9^-1*x15, x17*x20*x1*x12^-1*x1^-1*x7, x2*x19, x10*x11, x18*x3, x5*x22, x13*x14, x21*x6, 1, x0, x2, x0*x8, x16, x1*x9, x17, x2*x18, x10, x3*x19, x11, x4*x20, x12, x5*x21, x13, x6*x22, x14, x7*x23, x15 >\n",
       "  To:   Finitely presented group <  |  >\n",
       "  Defn: x0 |--> 1\n",
       "        x1 |--> 1\n",
       "        x2 |--> 1\n",
       "        x3 |--> 1\n",
       "        x4 |--> 1\n",
       "        x5 |--> 1\n",
       "        x6 |--> 1\n",
       "        x7 |--> 1\n",
       "        x8 |--> 1\n",
       "        x9 |--> 1\n",
       "        x10 |--> 1\n",
       "        x11 |--> 1\n",
       "        x12 |--> 1\n",
       "        x13 |--> 1\n",
       "        x14 |--> 1\n",
       "        x15 |--> 1\n",
       "        x16 |--> 1\n",
       "        x17 |--> 1\n",
       "        x18 |--> 1\n",
       "        x19 |--> 1\n",
       "        x20 |--> 1\n",
       "        x21 |--> 1\n",
       "        x22 |--> 1\n",
       "        x23 |--> 1"
      ]
     },
     "execution_count": 96,
     "metadata": {},
     "output_type": "execute_result"
    }
   ],
   "source": [
    "pi_1_br.simplification_isomorphism()"
   ]
  },
  {
   "cell_type": "code",
   "execution_count": 97,
   "id": "d39cf804",
   "metadata": {},
   "outputs": [
    {
     "data": {
      "text/plain": [
       "Generic morphism:\n",
       "  From: Finitely presented group < x0, x1, x2, x3, x4, x5, x6, x7, x8, x9, x10, x11, x12, x13, x14, x15, x16, x17, x18, x19, x20, x21, x22, x23 | 1, x0, x2, x0*x9*x2*x17*x18*x9^-1*x10^-1*x1^-1, x8*x1*x10*x9*x2*x17^-1*x2^-1*x9^-1, x16*x17*x18*x1*x10*x1^-1*x18^-1*x17^-1, x1*x10*x9*x18^-1*x17^-1*x23, x9*x2*x17*x2^-1*x9^-1*x15, x17*x18*x1*x10^-1*x1^-1*x7, x3*x22, x11*x14, x19*x6, x4*x21, x12*x13, x20*x5, 1, x0, x2, x0*x9*x2*x17*x18*x9^-1*x10^-1*x1^-1, x8*x1*x10*x9*x2*x17^-1*x2^-1*x9^-1, x16*x17*x18*x1*x10*x1^-1*x18^-1*x17^-1, x1*x10*x9*x18^-1*x17^-1*x21, x9*x2*x17*x2^-1*x9^-1*x13, x17*x18*x1*x10^-1*x1^-1*x5, x3*x20, x11*x12, x19*x4, x6*x23, x14*x15, x22*x7, 1, x0, x2, x0*x9*x4*x17*x20*x9^-1*x12^-1*x1^-1, x8*x1*x12*x9*x4*x17^-1*x4^-1*x9^-1, x16*x17*x20*x1*x12*x1^-1*x20^-1*x17^-1, x1*x12*x9*x20^-1*x17^-1*x23, x9*x4*x17*x4^-1*x9^-1*x15, x17*x20*x1*x12^-1*x1^-1*x7, x2*x19, x10*x11, x18*x3, x5*x22, x13*x14, x21*x6 >\n",
       "  To:   Finitely presented group < x1, x10 | x1*x10*x1*(x10^-1*x1^-1)^2*x10 >\n",
       "  Defn: x0 |--> 1\n",
       "        x1 |--> x1\n",
       "        x2 |--> 1\n",
       "        x3 |--> x10^-1*x1^-1*x10\n",
       "        x4 |--> 1\n",
       "        x5 |--> x10^-1*x1^-1*x10\n",
       "        x6 |--> 1\n",
       "        x7 |--> x10^-1*x1^-1*x10\n",
       "        x8 |--> x1^-1\n",
       "        x9 |--> 1\n",
       "        x10 |--> x10\n",
       "        x11 |--> x10^-1\n",
       "        x12 |--> x10\n",
       "        x13 |--> x10^-1\n",
       "        x14 |--> x10\n",
       "        x15 |--> x10^-1\n",
       "        x16 |--> x10^-1\n",
       "        x17 |--> x10\n",
       "        x18 |--> x10^-1*x1*x10\n",
       "        x19 |--> 1\n",
       "        x20 |--> x10^-1*x1*x10\n",
       "        x21 |--> 1\n",
       "        x22 |--> x10^-1*x1*x10\n",
       "        x23 |--> 1"
      ]
     },
     "execution_count": 97,
     "metadata": {},
     "output_type": "execute_result"
    }
   ],
   "source": [
    "pi_1_unbr.simplification_isomorphism()"
   ]
  },
  {
   "cell_type": "code",
   "execution_count": 98,
   "id": "2c0837c9",
   "metadata": {},
   "outputs": [
    {
     "name": "stdout",
     "output_type": "stream",
     "text": [
      "True\n",
      "True\n",
      "True\n"
     ]
    }
   ],
   "source": [
    "colored_trefoil.check_pi_1_branched_cover_3_manifolds_free()"
   ]
  },
  {
   "cell_type": "code",
   "execution_count": null,
   "id": "faeec57d-8146-46e2-a70c-fb0033d3b463",
   "metadata": {},
   "outputs": [],
   "source": []
  }
 ],
 "metadata": {
  "kernelspec": {
   "display_name": "SageMath 9.5",
   "language": "sage",
   "name": "sagemath-9.5"
  },
  "language_info": {
   "codemirror_mode": {
    "name": "ipython",
    "version": 3
   },
   "file_extension": ".py",
   "mimetype": "text/x-python",
   "name": "python",
   "nbconvert_exporter": "python",
   "pygments_lexer": "ipython3",
   "version": "3.9.9"
  }
 },
 "nbformat": 4,
 "nbformat_minor": 5
}
