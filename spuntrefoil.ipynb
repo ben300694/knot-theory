{
 "cells": [
  {
   "cell_type": "code",
   "execution_count": 49,
   "id": "5e2b28a7",
   "metadata": {},
   "outputs": [],
   "source": [
    "load(\"src/bridge_trisections.sage\")\n"
   ]
  },
  {
   "cell_type": "code",
   "execution_count": 23,
   "id": "05f8ad85",
   "metadata": {},
   "outputs": [],
   "source": [
    "spun_trefoil = tau_l_T_2_b(0, 3)"
   ]
  },
  {
   "cell_type": "code",
   "execution_count": 24,
   "id": "e457c44d",
   "metadata": {},
   "outputs": [
    {
     "name": "stdout",
     "output_type": "stream",
     "text": [
      "{'bridge_number': 4, 'F': Free Group on generators {x0, x1, x2, x3, x4, x5, x6, x7}, 'red_tangle': {'bridge_number': 4, 'F': Free Group on generators {x0, x1, x2, x3, x4, x5, x6, x7}, 'generators_bottom_list': [x0, x1, x2, x3, x4, x5, x6, x7], 'generators_temp_list': [x0, (x1*x2)^2*x1^-1*x2^-1*x1^-1, x1*x2*x1*x2^-1*x1^-1, x3, x4, x5, x6, x7], 'braid_word': [{'first_index': 1, 'second_index': 2, 'sign': 1}, {'first_index': 1, 'second_index': 2, 'sign': 1}, {'first_index': 1, 'second_index': 2, 'sign': 1}], 'strand_matching': [(0, 1), (2, 7), (3, 6), (4, 5)]}, 'blu_tangle': {'bridge_number': 4, 'F': Free Group on generators {x0, x1, x2, x3, x4, x5, x6, x7}, 'generators_bottom_list': [x0, x1, x2, x3, x4, x5, x6, x7], 'generators_temp_list': [x0, (x1*x2)^2*x1^-1*x2^-1*x1^-1, x1*x2*x1*x2^-1*x1^-1, x3, x4, x5, x6, x7], 'braid_word': [{'first_index': 1, 'second_index': 2, 'sign': 1}, {'first_index': 1, 'second_index': 2, 'sign': 1}, {'first_index': 1, 'second_index': 2, 'sign': 1}], 'strand_matching': [(0, 1), (2, 5), (3, 4), (6, 7)]}, 'gre_tangle': {'bridge_number': 4, 'F': Free Group on generators {x0, x1, x2, x3, x4, x5, x6, x7}, 'generators_bottom_list': [x0, x1, x2, x3, x4, x5, x6, x7], 'generators_temp_list': [x0, (x1*x4)^2*x1^-1*x4^-1*x1^-1, x2, x3, x1*x4*x1*x4^-1*x1^-1, x5, x6, x7], 'braid_word': [{'first_index': 1, 'second_index': 4, 'sign': 1}, {'first_index': 1, 'second_index': 4, 'sign': 1}, {'first_index': 1, 'second_index': 4, 'sign': 1}], 'strand_matching': [(0, 1), (4, 7), (2, 3), (5, 6)]}}\n"
     ]
    }
   ],
   "source": [
    "print(spun_trefoil)"
   ]
  },
  {
   "cell_type": "code",
   "execution_count": 25,
   "id": "3493b132",
   "metadata": {},
   "outputs": [
    {
     "data": {
      "text/plain": [
       "{'bridge_number': 4, 'F': Free Group on generators {x0, x1, x2, x3, x4, x5, x6, x7}, 'generators_bottom_list': [x0, x1, x2, x3, x4, x5, x6, x7], 'generators_temp_list': [x0, (x1*x2)^2*x1^-1*x2^-1*x1^-1, x1*x2*x1*x2^-1*x1^-1, x3, x4, x5, x6, x7], 'braid_word': [{'first_index': 1, 'second_index': 2, 'sign': 1}, {'first_index': 1, 'second_index': 2, 'sign': 1}, {'first_index': 1, 'second_index': 2, 'sign': 1}], 'strand_matching': [(0, 1), (2, 7), (3, 6), (4, 5)]}"
      ]
     },
     "execution_count": 25,
     "metadata": {},
     "output_type": "execute_result"
    }
   ],
   "source": [
    "spun_trefoil.red_tangle"
   ]
  },
  {
   "cell_type": "code",
   "execution_count": 52,
   "id": "7bfe2b5d",
   "metadata": {},
   "outputs": [
    {
     "data": {
      "text/plain": [
       "{'bridge_number': 4, 'F': Free Group on generators {x0, x1, x2, x3, x4, x5, x6, x7}, 'generators_bottom_list': [x0, x1, x2, x3, x4, x5, x6, x7], 'generators_temp_list': [x0, (x1*x2)^2*x1^-1*x2^-1*x1^-1, x1*x2*x1*x2^-1*x1^-1, x3, x4, x5, x6, x7], 'braid_word': [{'first_index': 1, 'second_index': 2, 'sign': 1}, {'first_index': 1, 'second_index': 2, 'sign': 1}, {'first_index': 1, 'second_index': 2, 'sign': 1}], 'strand_matching': [(0, 1), (2, 5), (3, 4), (6, 7)]}"
      ]
     },
     "execution_count": 52,
     "metadata": {},
     "output_type": "execute_result"
    }
   ],
   "source": [
    "spun_trefoil.blu_tangle"
   ]
  },
  {
   "cell_type": "code",
   "execution_count": 27,
   "id": "6ad9a89a",
   "metadata": {},
   "outputs": [
    {
     "data": {
      "text/plain": [
       "{'bridge_number': 4, 'F': Free Group on generators {x0, x1, x2, x3, x4, x5, x6, x7}, 'generators_bottom_list': [x0, x1, x2, x3, x4, x5, x6, x7], 'generators_temp_list': [x0, (x1*x4)^2*x1^-1*x4^-1*x1^-1, x2, x3, x1*x4*x1*x4^-1*x1^-1, x5, x6, x7], 'braid_word': [{'first_index': 1, 'second_index': 4, 'sign': 1}, {'first_index': 1, 'second_index': 4, 'sign': 1}, {'first_index': 1, 'second_index': 4, 'sign': 1}], 'strand_matching': [(0, 1), (4, 7), (2, 3), (5, 6)]}"
      ]
     },
     "execution_count": 27,
     "metadata": {},
     "output_type": "execute_result"
    }
   ],
   "source": [
    "spun_trefoil.gre_tangle"
   ]
  },
  {
   "cell_type": "code",
   "execution_count": 29,
   "id": "58981b39",
   "metadata": {},
   "outputs": [],
   "source": [
    "trefoil_images_of_generators = ['(1, 2)', '(1, 2)', '(1, 3)', '(1, 3)', '(1, 3)', '(1, 3)', '(1, 3)', '(1, 3)']\n"
   ]
  },
  {
   "cell_type": "code",
   "execution_count": 50,
   "id": "5850d348",
   "metadata": {},
   "outputs": [],
   "source": [
    "trefoil_coloring_red = Colored_trivial_tangle(trefoil_F, trefoil_S, spun_trefoil.red_tangle.relations(), trefoil_images_of_generators)"
   ]
  },
  {
   "cell_type": "code",
   "execution_count": 53,
   "id": "9499cd80",
   "metadata": {},
   "outputs": [],
   "source": [
    "trefoil_coloring_blu = Colored_trivial_tangle(trefoil_F, trefoil_S, spun_trefoil.blu_tangle.relations(), trefoil_images_of_generators)"
   ]
  },
  {
   "cell_type": "code",
   "execution_count": 54,
   "id": "f78b5f3f",
   "metadata": {},
   "outputs": [],
   "source": [
    "trefoil_coloring_gre = Colored_trivial_tangle(trefoil_F, trefoil_S, spun_trefoil.gre_tangle.relations(), trefoil_images_of_generators)"
   ]
  },
  {
   "cell_type": "code",
   "execution_count": 33,
   "id": "000dead6",
   "metadata": {},
   "outputs": [
    {
     "data": {
      "text/plain": [
       "[[[0, 1, 1],\n",
       "  [1, 2, 1],\n",
       "  [2, 1, 1],\n",
       "  [1, 3, 1],\n",
       "  [2, 3, 1],\n",
       "  [1, 2, -1],\n",
       "  [2, 2, -1],\n",
       "  [1, 1, -1]],\n",
       " [[0, 2, 1],\n",
       "  [1, 1, 1],\n",
       "  [2, 2, 1],\n",
       "  [1, 2, 1],\n",
       "  [2, 1, 1],\n",
       "  [1, 3, -1],\n",
       "  [2, 1, -1],\n",
       "  [1, 2, -1]],\n",
       " [[0, 3, 1],\n",
       "  [1, 3, 1],\n",
       "  [2, 3, 1],\n",
       "  [1, 1, 1],\n",
       "  [2, 2, 1],\n",
       "  [1, 1, -1],\n",
       "  [2, 3, -1],\n",
       "  [1, 3, -1]],\n",
       " [[1, 1, 1], [2, 2, 1], [1, 2, 1], [2, 3, -1], [1, 3, -1], [7, 3, 1]],\n",
       " [[1, 2, 1], [2, 1, 1], [1, 3, 1], [2, 1, -1], [1, 2, -1], [7, 2, 1]],\n",
       " [[1, 3, 1], [2, 3, 1], [1, 1, 1], [2, 2, -1], [1, 1, -1], [7, 1, 1]],\n",
       " [[3, 1, 1], [6, 3, 1]],\n",
       " [[3, 2, 1], [6, 2, 1]],\n",
       " [[3, 3, 1], [6, 1, 1]],\n",
       " [[4, 1, 1], [5, 3, 1]],\n",
       " [[4, 2, 1], [5, 2, 1]],\n",
       " [[4, 3, 1], [5, 1, 1]]]"
      ]
     },
     "execution_count": 33,
     "metadata": {},
     "output_type": "execute_result"
    }
   ],
   "source": [
    "\n",
    "trefoil_coloring_red.lift_relations_sub_sup_exp()"
   ]
  },
  {
   "cell_type": "code",
   "execution_count": 36,
   "id": "32ef5a1e",
   "metadata": {},
   "outputs": [
    {
     "data": {
      "text/plain": [
       "[x0*x9*x2*x17*x18*x9^-1*x10^-1*x1^-1,\n",
       " x8*x1*x10*x9*x2*x17^-1*x2^-1*x9^-1,\n",
       " x16*x17*x18*x1*x10*x1^-1*x18^-1*x17^-1,\n",
       " x1*x10*x9*x18^-1*x17^-1*x23,\n",
       " x9*x2*x17*x2^-1*x9^-1*x15,\n",
       " x17*x18*x1*x10^-1*x1^-1*x7,\n",
       " x3*x22,\n",
       " x11*x14,\n",
       " x19*x6,\n",
       " x4*x21,\n",
       " x12*x13,\n",
       " x20*x5]"
      ]
     },
     "execution_count": 36,
     "metadata": {},
     "output_type": "execute_result"
    }
   ],
   "source": [
    "trefoil_coloring_red.lift_relations_reindex()"
   ]
  },
  {
   "cell_type": "code",
   "execution_count": 44,
   "id": "97486623",
   "metadata": {},
   "outputs": [
    {
     "data": {
      "text/plain": [
       "[[[0, 1, 1], [0, 2, 1]],\n",
       " [[0, 3, 1]],\n",
       " [[1, 1, 1], [1, 2, 1]],\n",
       " [[1, 3, 1]],\n",
       " [[2, 1, 1], [2, 3, 1]],\n",
       " [[2, 2, 1]],\n",
       " [[3, 1, 1], [3, 3, 1]],\n",
       " [[3, 2, 1]],\n",
       " [[4, 1, 1], [4, 3, 1]],\n",
       " [[4, 2, 1]],\n",
       " [[5, 1, 1], [5, 3, 1]],\n",
       " [[5, 2, 1]],\n",
       " [[6, 1, 1], [6, 3, 1]],\n",
       " [[6, 2, 1]],\n",
       " [[7, 1, 1], [7, 3, 1]],\n",
       " [[7, 2, 1]]]"
      ]
     },
     "execution_count": 44,
     "metadata": {},
     "output_type": "execute_result"
    }
   ],
   "source": [
    "trefoil_coloring_red.unbranchedtobranched_relations_sub_sup_exp()"
   ]
  },
  {
   "cell_type": "code",
   "execution_count": 45,
   "id": "416324ea",
   "metadata": {},
   "outputs": [
    {
     "data": {
      "text/plain": [
       "[x0*x8,\n",
       " x16,\n",
       " x1*x9,\n",
       " x17,\n",
       " x2*x18,\n",
       " x10,\n",
       " x3*x19,\n",
       " x11,\n",
       " x4*x20,\n",
       " x12,\n",
       " x5*x21,\n",
       " x13,\n",
       " x6*x22,\n",
       " x14,\n",
       " x7*x23,\n",
       " x15]"
      ]
     },
     "execution_count": 45,
     "metadata": {},
     "output_type": "execute_result"
    }
   ],
   "source": [
    "trefoil_coloring_red.unbranchedtobranched_relations_reindex()"
   ]
  },
  {
   "cell_type": "code",
   "execution_count": 51,
   "id": "9e4687cc",
   "metadata": {},
   "outputs": [
    {
     "data": {
      "text/plain": [
       "[x0*x9*x2*x17*x18*x9^-1*x10^-1*x1^-1,\n",
       " x8*x1*x10*x9*x2*x17^-1*x2^-1*x9^-1,\n",
       " x16*x17*x18*x1*x10*x1^-1*x18^-1*x17^-1,\n",
       " x1*x10*x9*x18^-1*x17^-1*x23,\n",
       " x9*x2*x17*x2^-1*x9^-1*x15,\n",
       " x17*x18*x1*x10^-1*x1^-1*x7,\n",
       " x3*x22,\n",
       " x11*x14,\n",
       " x19*x6,\n",
       " x4*x21,\n",
       " x12*x13,\n",
       " x20*x5,\n",
       " 1,\n",
       " x0,\n",
       " x2,\n",
       " x0*x8,\n",
       " x16,\n",
       " x1*x9,\n",
       " x17,\n",
       " x2*x18,\n",
       " x10,\n",
       " x3*x19,\n",
       " x11,\n",
       " x4*x20,\n",
       " x12,\n",
       " x5*x21,\n",
       " x13,\n",
       " x6*x22,\n",
       " x14,\n",
       " x7*x23,\n",
       " x15]"
      ]
     },
     "execution_count": 51,
     "metadata": {},
     "output_type": "execute_result"
    }
   ],
   "source": [
    "trefoil_coloring_red.all_cover_relations()"
   ]
  },
  {
   "cell_type": "code",
   "execution_count": 55,
   "id": "afb9cc55",
   "metadata": {},
   "outputs": [
    {
     "data": {
      "text/plain": [
       "[x0*x9*x2*x17*x18*x9^-1*x10^-1*x1^-1,\n",
       " x8*x1*x10*x9*x2*x17^-1*x2^-1*x9^-1,\n",
       " x16*x17*x18*x1*x10*x1^-1*x18^-1*x17^-1,\n",
       " x1*x10*x9*x18^-1*x17^-1*x21,\n",
       " x9*x2*x17*x2^-1*x9^-1*x13,\n",
       " x17*x18*x1*x10^-1*x1^-1*x5,\n",
       " x3*x20,\n",
       " x11*x12,\n",
       " x19*x4,\n",
       " x6*x23,\n",
       " x14*x15,\n",
       " x22*x7,\n",
       " 1,\n",
       " x0,\n",
       " x2,\n",
       " x0*x8,\n",
       " x16,\n",
       " x1*x9,\n",
       " x17,\n",
       " x2*x18,\n",
       " x10,\n",
       " x3*x19,\n",
       " x11,\n",
       " x4*x20,\n",
       " x12,\n",
       " x5*x21,\n",
       " x13,\n",
       " x6*x22,\n",
       " x14,\n",
       " x7*x23,\n",
       " x15]"
      ]
     },
     "execution_count": 55,
     "metadata": {},
     "output_type": "execute_result"
    }
   ],
   "source": [
    "trefoil_coloring_blu.all_cover_relations()"
   ]
  },
  {
   "cell_type": "code",
   "execution_count": 56,
   "id": "776cc9bc",
   "metadata": {},
   "outputs": [
    {
     "data": {
      "text/plain": [
       "[x0*x9*x4*x17*x20*x9^-1*x12^-1*x1^-1,\n",
       " x8*x1*x12*x9*x4*x17^-1*x4^-1*x9^-1,\n",
       " x16*x17*x20*x1*x12*x1^-1*x20^-1*x17^-1,\n",
       " x1*x12*x9*x20^-1*x17^-1*x23,\n",
       " x9*x4*x17*x4^-1*x9^-1*x15,\n",
       " x17*x20*x1*x12^-1*x1^-1*x7,\n",
       " x2*x19,\n",
       " x10*x11,\n",
       " x18*x3,\n",
       " x5*x22,\n",
       " x13*x14,\n",
       " x21*x6,\n",
       " 1,\n",
       " x0,\n",
       " x2,\n",
       " x0*x8,\n",
       " x16,\n",
       " x1*x9,\n",
       " x17,\n",
       " x2*x18,\n",
       " x10,\n",
       " x3*x19,\n",
       " x11,\n",
       " x4*x20,\n",
       " x12,\n",
       " x5*x21,\n",
       " x13,\n",
       " x6*x22,\n",
       " x14,\n",
       " x7*x23,\n",
       " x15]"
      ]
     },
     "execution_count": 56,
     "metadata": {},
     "output_type": "execute_result"
    }
   ],
   "source": [
    "trefoil_coloring_gre.all_cover_relations()"
   ]
  },
  {
   "cell_type": "code",
   "execution_count": null,
   "id": "16db8633",
   "metadata": {},
   "outputs": [],
   "source": []
  }
 ],
 "metadata": {
  "kernelspec": {
   "display_name": "SageMath 9.4",
   "language": "sage",
   "name": "sagemath-9.4"
  },
  "language_info": {
   "codemirror_mode": {
    "name": "ipython",
    "version": 3
   },
   "file_extension": ".py",
   "mimetype": "text/x-python",
   "name": "python",
   "nbconvert_exporter": "python",
   "pygments_lexer": "ipython3",
   "version": "3.9.5"
  }
 },
 "nbformat": 4,
 "nbformat_minor": 5
}
