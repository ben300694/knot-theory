{
 "cells": [
  {
   "cell_type": "code",
   "execution_count": 31,
   "id": "c1baa68b",
   "metadata": {},
   "outputs": [],
   "source": [
    "load(\"src/bridge_trisections.sage\")"
   ]
  },
  {
   "cell_type": "code",
   "execution_count": 32,
   "id": "a6654386",
   "metadata": {},
   "outputs": [],
   "source": [
    "load(\"data/stevedore_disk_double.sage\")"
   ]
  },
  {
   "cell_type": "code",
   "execution_count": 62,
   "id": "5882b448",
   "metadata": {},
   "outputs": [
    {
     "data": {
      "text/plain": [
       "{'bridge_number': 5, 'F': Free Group on generators {x0, x1, x2, x3, x4, x5, x6, x7, x8, x9}, 'red_tangle': {'bridge_number': 5, 'F': Free Group on generators {x0, x1, x2, x3, x4, x5, x6, x7, x8, x9}, 'generators_bottom_list': [x0, x1, x2, x3, x4, x5, x6, x7, x8, x9], 'generators_temp_list': [x0, x1*x2*x3*x1*x3^-1*x2^-1*x1^-1, x1*x2*x3*x1^-1*x6*x1*x3^-1*x2*x3*x1^-1*x6^-1*x1*x3^-1*x2^-1*x1^-1, x1*x2*x3*x1^-1*x6*x1*x3^-1*x2^-1*x3*x2*x3*x1^-1*x6^-1*x1*x3^-1*x2^-1*x1^-1, x4, x5, x1*x2*x3*x1^-1*x6*x1*x3^-1*x2^-1*x1^-1, x7, x8, x9], 'braid_word': [{'first_index': 1, 'second_index': 2, 'sign': 1}, {'first_index': 2, 'second_index': 3, 'sign': 1}, {'first_index': 2, 'second_index': 3, 'sign': 1}, {'first_index': 1, 'second_index': 2, 'sign': 1}, {'first_index': 3, 'second_index': 6, 'sign': 1}, {'first_index': 2, 'second_index': 3, 'sign': 1}, {'first_index': 2, 'second_index': 3, 'sign': 1}, {'first_index': 3, 'second_index': 6, 'sign': 1}], 'strand_matching': [(0, 3), (1, 2), (4, 5), (6, 9), (7, 8)]}, 'blu_tangle': {'bridge_number': 5, 'F': Free Group on generators {x0, x1, x2, x3, x4, x5, x6, x7, x8, x9}, 'generators_bottom_list': [x0, x1, x2, x3, x4, x5, x6, x7, x8, x9], 'generators_temp_list': [x0, x1, x2, x3, x4, x5, x6, x7, x8, x9], 'braid_word': [], 'strand_matching': [(0, 1), (2, 3), (4, 7), (5, 6), (8, 9)]}, 'gre_tangle': {'bridge_number': 5, 'F': Free Group on generators {x0, x1, x2, x3, x4, x5, x6, x7, x8, x9}, 'generators_bottom_list': [x0, x1, x2, x3, x4, x5, x6, x7, x8, x9], 'generators_temp_list': [x0, x1, x2, x3, x4, x5, x6, x7, x8, x9], 'braid_word': [], 'strand_matching': [(0, 1), (2, 5), (3, 4), (6, 7), (8, 9)]}}"
      ]
     },
     "execution_count": 62,
     "metadata": {},
     "output_type": "execute_result"
    }
   ],
   "source": [
    "double_6_1"
   ]
  },
  {
   "cell_type": "code",
   "execution_count": 167,
   "id": "e05c50d3",
   "metadata": {},
   "outputs": [],
   "source": [
    "p=5\n",
    "stevedore_F = FreeGroup(10)\n",
    "stevedore_S = SymmetricGroup(5)\n",
    "stevedore_cover_F=FreeGroup(10*5)\n",
    "stevedore_images_of_generators = ['(1,2,5,4)','(1,4,5,2)']+4*['(1,4,3,5)','(1,5,3,4)'] #doesn't give BS but close\n",
    "#stevedore_images_of_generators = ['(1,2)(3,4)','(1,2)(3,4)']+4*['(1,5)(3,4)','(1,5)(3,4)']#taking a while--claw relations loop doesn't terminate?\n",
    "#stevedore_images_of_generators = ['(2,5,4,3)','(2,3,4,5)']+4*['(1,2,4,5)','(1,5,4,2)']\n",
    "#stevedore_images_of_generators = ['(2,5,4,3)','(2,3,4,5)']+4*['(1,4,2,3)','(1,3,2,4)']\n",
    "#stevedore_images_of_generators = ['(2,5,4,3)','(2,3,4,5)']+4*['(1,5,3,4)','(1,4,3,5)']\n",
    "#stevedore_images_of_generators = ['(2,5,4,3)','(2,3,4,5)']+4*['(1,3,5,2)','(1,2,5,3)']"
   ]
  },
  {
   "cell_type": "code",
   "execution_count": 168,
   "id": "4b94e741",
   "metadata": {},
   "outputs": [],
   "source": [
    "#p=7\n",
    "#stevedore_F = FreeGroup(10)\n",
    "#stevedore_S = SymmetricGroup(7)\n",
    "#stevedore_cover_F=FreeGroup(10*7)\n",
    "#stevedore_images_of_generators = ['(2,6,4)(3,7,5)','(2,4,6)(3,5,7)']+4*['(1,6,7)(3,5,4)','(1,7,6)(3,4,5)'] #doesn't give BS but close\n",
    "#stevedore_images_of_generators = ['(1,3,4,5,6,7)','(1,7,6,5,4,3)']+4*['(1,5,4,7,6,3)','(1,3,6,7,4,5)'] #taking a while--claw relations?\n",
    "#stevedore_images_of_generators = ['(1,5,6)(2,3,7) ','(1,6,5)(2,7,3) ']+4*['(1,2,7)(3,4,6) ','(1,7,2)(3,6,4) '] #doesn't give BS but close"
   ]
  },
  {
   "cell_type": "code",
   "execution_count": 169,
   "id": "d12d3b87",
   "metadata": {},
   "outputs": [],
   "source": [
    "stevedore_coloring_red = Colored_trivial_tangle(stevedore_F, stevedore_S, double_6_1.red_tangle.relations(), stevedore_images_of_generators)\n",
    "stevedore_coloring_blu = Colored_trivial_tangle(stevedore_F, stevedore_S, double_6_1.blu_tangle.relations(), stevedore_images_of_generators)\n",
    "stevedore_coloring_gre = Colored_trivial_tangle(stevedore_F, stevedore_S, double_6_1.gre_tangle.relations(), stevedore_images_of_generators)"
   ]
  },
  {
   "cell_type": "code",
   "execution_count": 165,
   "id": "6ac5710b",
   "metadata": {},
   "outputs": [],
   "source": [
    "#stevedore_coloring_red.claw_relations_sub_sup_exp() #doesn't terminate for some homomorphisms?"
   ]
  },
  {
   "cell_type": "code",
   "execution_count": 171,
   "id": "0826c73b",
   "metadata": {},
   "outputs": [
    {
     "data": {
      "text/plain": [
       "Finitely presented group < x2, x4, x5, x6, x7, x8, x11, x22, x23, x24, x27 |  >"
      ]
     },
     "execution_count": 171,
     "metadata": {},
     "output_type": "execute_result"
    }
   ],
   "source": [
    "red_handlebody_group_branched=stevedore_coloring_red.handlebody_group()\n",
    "red_handlebody_group_branched.simplification_isomorphism().codomain()"
   ]
  },
  {
   "cell_type": "code",
   "execution_count": 172,
   "id": "d8ac7162",
   "metadata": {},
   "outputs": [
    {
     "data": {
      "text/plain": [
       "Finitely presented group < x2, x4, x5, x6, x7, x8, x11, x22, x23, x24, x27 |  >"
      ]
     },
     "execution_count": 172,
     "metadata": {},
     "output_type": "execute_result"
    }
   ],
   "source": [
    "blu_handlebody_group_branched=stevedore_coloring_red.handlebody_group()\n",
    "blu_handlebody_group_branched.simplification_isomorphism().codomain()"
   ]
  },
  {
   "cell_type": "code",
   "execution_count": 173,
   "id": "21dedf36",
   "metadata": {},
   "outputs": [
    {
     "data": {
      "text/plain": [
       "Finitely presented group < x2, x4, x5, x6, x7, x8, x11, x22, x23, x24, x27 |  >"
      ]
     },
     "execution_count": 173,
     "metadata": {},
     "output_type": "execute_result"
    }
   ],
   "source": [
    "gre_handlebody_group_branched=stevedore_coloring_red.handlebody_group()\n",
    "gre_handlebody_group_branched.simplification_isomorphism().codomain()"
   ]
  },
  {
   "cell_type": "code",
   "execution_count": 174,
   "id": "b00d1017",
   "metadata": {},
   "outputs": [
    {
     "data": {
      "text/plain": [
       "Finitely presented group <  |  >"
      ]
     },
     "execution_count": 174,
     "metadata": {},
     "output_type": "execute_result"
    }
   ],
   "source": [
    "pi_1_cover_branched=stevedore_cover_F.quotient(stevedore_coloring_red.all_cover_relations()+stevedore_coloring_blu.all_cover_relations()+stevedore_coloring_gre.all_cover_relations())\n",
    "pi_1_cover_branched.simplification_isomorphism().codomain()"
   ]
  },
  {
   "cell_type": "code",
   "execution_count": 175,
   "id": "b6f568d3",
   "metadata": {},
   "outputs": [
    {
     "data": {
      "text/plain": [
       "Finitely presented group < x2, x12 | x2^-1*x12*x2*x12^-1*x2^-1*x12^2 >"
      ]
     },
     "execution_count": 175,
     "metadata": {},
     "output_type": "execute_result"
    }
   ],
   "source": [
    "pi_1_cover_unbranched=stevedore_cover_F.quotient(stevedore_coloring_red.claw_relations_reindex()+stevedore_coloring_red.lift_relations_reindex()+stevedore_coloring_blu.claw_relations_reindex()+stevedore_coloring_blu.lift_relations_reindex()+stevedore_coloring_gre.claw_relations_reindex()+stevedore_coloring_gre.lift_relations_reindex())\n",
    "pi_1_cover_unbranched.simplification_isomorphism().codomain()"
   ]
  },
  {
   "cell_type": "code",
   "execution_count": null,
   "id": "34b69e6f",
   "metadata": {},
   "outputs": [],
   "source": []
  }
 ],
 "metadata": {
  "kernelspec": {
   "display_name": "SageMath 9.4",
   "language": "sage",
   "name": "sagemath-9.4"
  }
 },
 "nbformat": 4,
 "nbformat_minor": 5
}
