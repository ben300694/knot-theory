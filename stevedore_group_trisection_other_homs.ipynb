{
 "cells": [
  {
   "cell_type": "code",
   "execution_count": 4,
   "id": "c1baa68b",
   "metadata": {},
   "outputs": [],
   "source": [
    "load(\"src/bridge_trisections.sage\")"
   ]
  },
  {
   "cell_type": "code",
   "execution_count": 3,
   "id": "a6654386",
   "metadata": {},
   "outputs": [],
   "source": [
    "load(\"data/stevedore_disk_double.sage\")"
   ]
  },
  {
   "cell_type": "code",
   "execution_count": 34,
   "id": "c8abf635",
   "metadata": {},
   "outputs": [],
   "source": [
    "stevedore_images_of_generators = ['(1,2,5,4)','(1,4,5,2)']+4*['(1,4,3,5)','(1,5,3,4)']"
   ]
  },
  {
   "cell_type": "code",
   "execution_count": 35,
   "id": "b6d98889",
   "metadata": {},
   "outputs": [
    {
     "name": "stdout",
     "output_type": "stream",
     "text": [
      "['(1,2,5,4)', '(1,4,5,2)', '(1,4,3,5)', '(1,5,3,4)', '(1,4,3,5)', '(1,5,3,4)', '(1,4,3,5)', '(1,5,3,4)', '(1,4,3,5)', '(1,5,3,4)']\n"
     ]
    }
   ],
   "source": [
    "print(stevedore_images_of_generators)"
   ]
  },
  {
   "cell_type": "code",
   "execution_count": 36,
   "id": "5882b448",
   "metadata": {},
   "outputs": [
    {
     "data": {
      "text/plain": [
       "{'bridge_number': 5, 'F': Free Group on generators {x0, x1, x2, x3, x4, x5, x6, x7, x8, x9}, 'red_tangle': {'bridge_number': 5, 'F': Free Group on generators {x0, x1, x2, x3, x4, x5, x6, x7, x8, x9}, 'generators_bottom_list': [x0, x1, x2, x3, x4, x5, x6, x7, x8, x9], 'generators_temp_list': [x0, x1*x2*x3*x1*x3^-1*x2^-1*x1^-1, x1*x2*x3*x1^-1*x6*x1*x3^-1*x2*x3*x1^-1*x6^-1*x1*x3^-1*x2^-1*x1^-1, x1*x2*x3*x1^-1*x6*x1*x3^-1*x2^-1*x3*x2*x3*x1^-1*x6^-1*x1*x3^-1*x2^-1*x1^-1, x4, x5, x1*x2*x3*x1^-1*x6*x1*x3^-1*x2^-1*x1^-1, x7, x8, x9], 'braid_word': [{'first_index': 1, 'second_index': 2, 'sign': 1}, {'first_index': 2, 'second_index': 3, 'sign': 1}, {'first_index': 2, 'second_index': 3, 'sign': 1}, {'first_index': 1, 'second_index': 2, 'sign': 1}, {'first_index': 3, 'second_index': 6, 'sign': 1}, {'first_index': 2, 'second_index': 3, 'sign': 1}, {'first_index': 2, 'second_index': 3, 'sign': 1}, {'first_index': 3, 'second_index': 6, 'sign': 1}], 'strand_matching': [(0, 3), (1, 2), (4, 5), (6, 9), (7, 8)]}, 'blu_tangle': {'bridge_number': 5, 'F': Free Group on generators {x0, x1, x2, x3, x4, x5, x6, x7, x8, x9}, 'generators_bottom_list': [x0, x1, x2, x3, x4, x5, x6, x7, x8, x9], 'generators_temp_list': [x0, x1, x2, x3, x4, x5, x6, x7, x8, x9], 'braid_word': [], 'strand_matching': [(0, 1), (2, 3), (4, 7), (5, 6), (8, 9)]}, 'gre_tangle': {'bridge_number': 5, 'F': Free Group on generators {x0, x1, x2, x3, x4, x5, x6, x7, x8, x9}, 'generators_bottom_list': [x0, x1, x2, x3, x4, x5, x6, x7, x8, x9], 'generators_temp_list': [x0, x1, x2, x3, x4, x5, x6, x7, x8, x9], 'braid_word': [], 'strand_matching': [(0, 1), (2, 5), (3, 4), (6, 7), (8, 9)]}}"
      ]
     },
     "execution_count": 36,
     "metadata": {},
     "output_type": "execute_result"
    }
   ],
   "source": [
    "double_6_1"
   ]
  },
  {
   "cell_type": "code",
   "execution_count": 37,
   "id": "e05c50d3",
   "metadata": {},
   "outputs": [],
   "source": [
    "p=5\n",
    "stevedore_F = FreeGroup(10)\n",
    "stevedore_S = SymmetricGroup(5)\n",
    "stevedore_cover_F=FreeGroup(10*5)"
   ]
  },
  {
   "cell_type": "code",
   "execution_count": 38,
   "id": "d12d3b87",
   "metadata": {},
   "outputs": [],
   "source": [
    "stevedore_coloring_red = Colored_trivial_tangle(stevedore_F, stevedore_S, double_6_1.red_tangle.relations(), stevedore_images_of_generators)"
   ]
  },
  {
   "cell_type": "code",
   "execution_count": 39,
   "id": "0fef32fb",
   "metadata": {},
   "outputs": [],
   "source": [
    "stevedore_coloring_blu = Colored_trivial_tangle(stevedore_F, stevedore_S, double_6_1.blu_tangle.relations(), stevedore_images_of_generators)"
   ]
  },
  {
   "cell_type": "code",
   "execution_count": 40,
   "id": "29adfef1",
   "metadata": {},
   "outputs": [],
   "source": [
    "stevedore_coloring_gre = Colored_trivial_tangle(stevedore_F, stevedore_S, double_6_1.gre_tangle.relations(), stevedore_images_of_generators)"
   ]
  },
  {
   "cell_type": "code",
   "execution_count": 41,
   "id": "a921d838",
   "metadata": {},
   "outputs": [
    {
     "data": {
      "text/plain": [
       "[x0*x11*x2*x33*x11^-1*x16*x11*x33^-1*x2^-1*x3*x42*x3*x31^-1*x6^-1*x1*x23^-1*x32^-1*x1^-1,\n",
       " x10*x41*x12*x13*x41^-1*x46*x1*x23^-1*x32^-1*x33*x2*x33*x11^-1*x16^-1*x11*x33^-1*x2^-1*x11^-1,\n",
       " x20*x21*x22*x43*x21^-1*x26*x41*x13^-1*x12^-1*x13*x12*x13*x41^-1*x26^-1*x21*x43^-1*x22^-1*x21^-1,\n",
       " x30*x1*x32*x23*x1^-1*x6*x31*x3^-1*x42^-1*x43*x22*x43*x21^-1*x36^-1*x31*x3^-1*x42^-1*x31^-1,\n",
       " x40*x31*x42*x3*x31^-1*x36*x21*x43^-1*x22^-1*x23*x32*x23*x1^-1*x46^-1*x41*x13^-1*x12^-1*x41^-1,\n",
       " x1*x32*x23*x36*x21*x43^-1*x42*x3*x31^-1*x6^-1*x1*x23^-1*x32^-1*x1^-1,\n",
       " x11*x2*x33*x6*x31*x3^-1*x2*x33*x11^-1*x16^-1*x11*x33^-1*x2^-1*x11^-1,\n",
       " x21*x22*x43*x26*x41*x13^-1*x12*x13*x41^-1*x26^-1*x21*x43^-1*x22^-1*x21^-1,\n",
       " x31*x42*x3*x46*x1*x23^-1*x22*x43*x21^-1*x36^-1*x31*x3^-1*x42^-1*x31^-1,\n",
       " x41*x12*x13*x16*x11*x33^-1*x32*x23*x1^-1*x46^-1*x41*x13^-1*x12^-1*x41^-1,\n",
       " x4*x35,\n",
       " x14*x15,\n",
       " x24*x45,\n",
       " x34*x25,\n",
       " x44*x5,\n",
       " x1*x32*x23*x1^-1*x6*x31*x3^-1*x42^-1*x31^-1*x39,\n",
       " x11*x2*x33*x11^-1*x16*x11*x33^-1*x2^-1*x11^-1*x19,\n",
       " x21*x22*x43*x21^-1*x26*x41*x13^-1*x12^-1*x41^-1*x49,\n",
       " x31*x42*x3*x31^-1*x36*x21*x43^-1*x22^-1*x21^-1*x29,\n",
       " x41*x12*x13*x41^-1*x46*x1*x23^-1*x32^-1*x1^-1*x9,\n",
       " x7*x48,\n",
       " x17*x18,\n",
       " x27*x38,\n",
       " x37*x8,\n",
       " x47*x28,\n",
       " 1,\n",
       " x0,\n",
       " x1,\n",
       " x3,\n",
       " x1*x32,\n",
       " x0*x10*x40*x30,\n",
       " x20,\n",
       " x1*x31*x41*x11,\n",
       " x21,\n",
       " x2*x32*x22*x42,\n",
       " x12,\n",
       " x3*x43*x23*x33,\n",
       " x13,\n",
       " x4*x34*x24*x44,\n",
       " x14,\n",
       " x5*x45*x25*x35,\n",
       " x15,\n",
       " x6*x36*x26*x46,\n",
       " x16,\n",
       " x7*x47*x27*x37,\n",
       " x17,\n",
       " x8*x38*x28*x48,\n",
       " x18,\n",
       " x9*x49*x29*x39,\n",
       " x19]"
      ]
     },
     "execution_count": 41,
     "metadata": {},
     "output_type": "execute_result"
    }
   ],
   "source": [
    "stevedore_coloring_red.all_cover_relations()"
   ]
  },
  {
   "cell_type": "code",
   "execution_count": 42,
   "id": "63aa914d",
   "metadata": {},
   "outputs": [
    {
     "data": {
      "text/plain": [
       "[1, x0, x1, x3, x1*x32]"
      ]
     },
     "execution_count": 42,
     "metadata": {},
     "output_type": "execute_result"
    }
   ],
   "source": [
    "stevedore_coloring_red.claw_relations_reindex()"
   ]
  },
  {
   "cell_type": "code",
   "execution_count": 43,
   "id": "c29ba69a",
   "metadata": {},
   "outputs": [
    {
     "data": {
      "text/plain": [
       "[[[0, 1, 1],\n",
       "  [1, 2, 1],\n",
       "  [2, 1, 1],\n",
       "  [3, 4, 1],\n",
       "  [1, 2, -1],\n",
       "  [6, 2, 1],\n",
       "  [1, 2, 1],\n",
       "  [3, 4, -1],\n",
       "  [2, 1, -1],\n",
       "  [3, 1, 1],\n",
       "  [2, 5, 1],\n",
       "  [3, 1, 1],\n",
       "  [1, 4, -1],\n",
       "  [6, 1, -1],\n",
       "  [1, 1, 1],\n",
       "  [3, 3, -1],\n",
       "  [2, 4, -1],\n",
       "  [1, 1, -1]],\n",
       " [[0, 2, 1],\n",
       "  [1, 5, 1],\n",
       "  [2, 2, 1],\n",
       "  [3, 2, 1],\n",
       "  [1, 5, -1],\n",
       "  [6, 5, 1],\n",
       "  [1, 1, 1],\n",
       "  [3, 3, -1],\n",
       "  [2, 4, -1],\n",
       "  [3, 4, 1],\n",
       "  [2, 1, 1],\n",
       "  [3, 4, 1],\n",
       "  [1, 2, -1],\n",
       "  [6, 2, -1],\n",
       "  [1, 2, 1],\n",
       "  [3, 4, -1],\n",
       "  [2, 1, -1],\n",
       "  [1, 2, -1]],\n",
       " [[0, 3, 1],\n",
       "  [1, 3, 1],\n",
       "  [2, 3, 1],\n",
       "  [3, 5, 1],\n",
       "  [1, 3, -1],\n",
       "  [6, 3, 1],\n",
       "  [1, 5, 1],\n",
       "  [3, 2, -1],\n",
       "  [2, 2, -1],\n",
       "  [3, 2, 1],\n",
       "  [2, 2, 1],\n",
       "  [3, 2, 1],\n",
       "  [1, 5, -1],\n",
       "  [6, 3, -1],\n",
       "  [1, 3, 1],\n",
       "  [3, 5, -1],\n",
       "  [2, 3, -1],\n",
       "  [1, 3, -1]],\n",
       " [[0, 4, 1],\n",
       "  [1, 1, 1],\n",
       "  [2, 4, 1],\n",
       "  [3, 3, 1],\n",
       "  [1, 1, -1],\n",
       "  [6, 1, 1],\n",
       "  [1, 4, 1],\n",
       "  [3, 1, -1],\n",
       "  [2, 5, -1],\n",
       "  [3, 5, 1],\n",
       "  [2, 3, 1],\n",
       "  [3, 5, 1],\n",
       "  [1, 3, -1],\n",
       "  [6, 4, -1],\n",
       "  [1, 4, 1],\n",
       "  [3, 1, -1],\n",
       "  [2, 5, -1],\n",
       "  [1, 4, -1]],\n",
       " [[0, 5, 1],\n",
       "  [1, 4, 1],\n",
       "  [2, 5, 1],\n",
       "  [3, 1, 1],\n",
       "  [1, 4, -1],\n",
       "  [6, 4, 1],\n",
       "  [1, 3, 1],\n",
       "  [3, 5, -1],\n",
       "  [2, 3, -1],\n",
       "  [3, 3, 1],\n",
       "  [2, 4, 1],\n",
       "  [3, 3, 1],\n",
       "  [1, 1, -1],\n",
       "  [6, 5, -1],\n",
       "  [1, 5, 1],\n",
       "  [3, 2, -1],\n",
       "  [2, 2, -1],\n",
       "  [1, 5, -1]],\n",
       " [[1, 1, 1],\n",
       "  [2, 4, 1],\n",
       "  [3, 3, 1],\n",
       "  [6, 4, 1],\n",
       "  [1, 3, 1],\n",
       "  [3, 5, -1],\n",
       "  [2, 5, 1],\n",
       "  [3, 1, 1],\n",
       "  [1, 4, -1],\n",
       "  [6, 1, -1],\n",
       "  [1, 1, 1],\n",
       "  [3, 3, -1],\n",
       "  [2, 4, -1],\n",
       "  [1, 1, -1]],\n",
       " [[1, 2, 1],\n",
       "  [2, 1, 1],\n",
       "  [3, 4, 1],\n",
       "  [6, 1, 1],\n",
       "  [1, 4, 1],\n",
       "  [3, 1, -1],\n",
       "  [2, 1, 1],\n",
       "  [3, 4, 1],\n",
       "  [1, 2, -1],\n",
       "  [6, 2, -1],\n",
       "  [1, 2, 1],\n",
       "  [3, 4, -1],\n",
       "  [2, 1, -1],\n",
       "  [1, 2, -1]],\n",
       " [[1, 3, 1],\n",
       "  [2, 3, 1],\n",
       "  [3, 5, 1],\n",
       "  [6, 3, 1],\n",
       "  [1, 5, 1],\n",
       "  [3, 2, -1],\n",
       "  [2, 2, 1],\n",
       "  [3, 2, 1],\n",
       "  [1, 5, -1],\n",
       "  [6, 3, -1],\n",
       "  [1, 3, 1],\n",
       "  [3, 5, -1],\n",
       "  [2, 3, -1],\n",
       "  [1, 3, -1]],\n",
       " [[1, 4, 1],\n",
       "  [2, 5, 1],\n",
       "  [3, 1, 1],\n",
       "  [6, 5, 1],\n",
       "  [1, 1, 1],\n",
       "  [3, 3, -1],\n",
       "  [2, 3, 1],\n",
       "  [3, 5, 1],\n",
       "  [1, 3, -1],\n",
       "  [6, 4, -1],\n",
       "  [1, 4, 1],\n",
       "  [3, 1, -1],\n",
       "  [2, 5, -1],\n",
       "  [1, 4, -1]],\n",
       " [[1, 5, 1],\n",
       "  [2, 2, 1],\n",
       "  [3, 2, 1],\n",
       "  [6, 2, 1],\n",
       "  [1, 2, 1],\n",
       "  [3, 4, -1],\n",
       "  [2, 4, 1],\n",
       "  [3, 3, 1],\n",
       "  [1, 1, -1],\n",
       "  [6, 5, -1],\n",
       "  [1, 5, 1],\n",
       "  [3, 2, -1],\n",
       "  [2, 2, -1],\n",
       "  [1, 5, -1]],\n",
       " [[4, 1, 1], [5, 4, 1]],\n",
       " [[4, 2, 1], [5, 2, 1]],\n",
       " [[4, 3, 1], [5, 5, 1]],\n",
       " [[4, 4, 1], [5, 3, 1]],\n",
       " [[4, 5, 1], [5, 1, 1]],\n",
       " [[1, 1, 1],\n",
       "  [2, 4, 1],\n",
       "  [3, 3, 1],\n",
       "  [1, 1, -1],\n",
       "  [6, 1, 1],\n",
       "  [1, 4, 1],\n",
       "  [3, 1, -1],\n",
       "  [2, 5, -1],\n",
       "  [1, 4, -1],\n",
       "  [9, 4, 1]],\n",
       " [[1, 2, 1],\n",
       "  [2, 1, 1],\n",
       "  [3, 4, 1],\n",
       "  [1, 2, -1],\n",
       "  [6, 2, 1],\n",
       "  [1, 2, 1],\n",
       "  [3, 4, -1],\n",
       "  [2, 1, -1],\n",
       "  [1, 2, -1],\n",
       "  [9, 2, 1]],\n",
       " [[1, 3, 1],\n",
       "  [2, 3, 1],\n",
       "  [3, 5, 1],\n",
       "  [1, 3, -1],\n",
       "  [6, 3, 1],\n",
       "  [1, 5, 1],\n",
       "  [3, 2, -1],\n",
       "  [2, 2, -1],\n",
       "  [1, 5, -1],\n",
       "  [9, 5, 1]],\n",
       " [[1, 4, 1],\n",
       "  [2, 5, 1],\n",
       "  [3, 1, 1],\n",
       "  [1, 4, -1],\n",
       "  [6, 4, 1],\n",
       "  [1, 3, 1],\n",
       "  [3, 5, -1],\n",
       "  [2, 3, -1],\n",
       "  [1, 3, -1],\n",
       "  [9, 3, 1]],\n",
       " [[1, 5, 1],\n",
       "  [2, 2, 1],\n",
       "  [3, 2, 1],\n",
       "  [1, 5, -1],\n",
       "  [6, 5, 1],\n",
       "  [1, 1, 1],\n",
       "  [3, 3, -1],\n",
       "  [2, 4, -1],\n",
       "  [1, 1, -1],\n",
       "  [9, 1, 1]],\n",
       " [[7, 1, 1], [8, 5, 1]],\n",
       " [[7, 2, 1], [8, 2, 1]],\n",
       " [[7, 3, 1], [8, 4, 1]],\n",
       " [[7, 4, 1], [8, 1, 1]],\n",
       " [[7, 5, 1], [8, 3, 1]]]"
      ]
     },
     "execution_count": 43,
     "metadata": {},
     "output_type": "execute_result"
    }
   ],
   "source": [
    "stevedore_coloring_red.lift_relations_sub_sup_exp()"
   ]
  },
  {
   "cell_type": "code",
   "execution_count": 44,
   "id": "37269d3f",
   "metadata": {},
   "outputs": [
    {
     "data": {
      "text/plain": [
       "[[], [[0, 1, 1]], [[1, 1, 1]], [[3, 1, 1]], [[1, 1, 1], [2, 4, 1]]]"
      ]
     },
     "execution_count": 44,
     "metadata": {},
     "output_type": "execute_result"
    }
   ],
   "source": [
    "stevedore_coloring_red.claw_relations_sub_sup_exp()"
   ]
  },
  {
   "cell_type": "code",
   "execution_count": 30,
   "id": "09e41cb1",
   "metadata": {},
   "outputs": [
    {
     "data": {
      "text/plain": [
       "[x0*x1*x2*x3*x1^-1*x6*x1*x3^-1*x2^-1*x3*x2*x3*x1^-1*x6^-1*x1*x3^-1*x2^-1*x1^-1,\n",
       " x1*x2*x3*x6*x1*x3^-1*x2*x3*x1^-1*x6^-1*x1*x3^-1*x2^-1*x1^-1,\n",
       " x4*x5,\n",
       " x1*x2*x3*x1^-1*x6*x1*x3^-1*x2^-1*x1^-1*x9,\n",
       " x7*x8,\n",
       " x0*x1,\n",
       " x2*x3,\n",
       " x4*x7,\n",
       " x5*x6,\n",
       " x8*x9,\n",
       " x0*x1,\n",
       " x2*x5,\n",
       " x3*x4,\n",
       " x6*x7,\n",
       " x8*x9]"
      ]
     },
     "execution_count": 30,
     "metadata": {},
     "output_type": "execute_result"
    }
   ],
   "source": [
    "double_6_1.all_relations()"
   ]
  },
  {
   "cell_type": "code",
   "execution_count": 45,
   "id": "36997f74",
   "metadata": {},
   "outputs": [],
   "source": [
    "pi_1_complement=stevedore_F.quotient(double_6_1.all_relations())"
   ]
  },
  {
   "cell_type": "code",
   "execution_count": 46,
   "id": "2a281d7e",
   "metadata": {},
   "outputs": [
    {
     "name": "stdout",
     "output_type": "stream",
     "text": [
      "Finitely presented group < x0, x1, x2, x3, x4, x5, x6, x7, x8, x9 | x0*x1*x2*x3*x1^-1*x6*x1*x3^-1*x2^-1*x3*x2*x3*x1^-1*x6^-1*x1*x3^-1*x2^-1*x1^-1, x1*x2*x3*x6*x1*x3^-1*x2*x3*x1^-1*x6^-1*x1*x3^-1*x2^-1*x1^-1, x4*x5, x1*x2*x3*x1^-1*x6*x1*x3^-1*x2^-1*x1^-1*x9, x7*x8, x0*x1, x2*x3, x4*x7, x5*x6, x8*x9, x0*x1, x2*x5, x3*x4, x6*x7, x8*x9 >\n"
     ]
    }
   ],
   "source": [
    "print(pi_1_complement)"
   ]
  },
  {
   "cell_type": "code",
   "execution_count": 33,
   "id": "eedbf6f9",
   "metadata": {},
   "outputs": [
    {
     "data": {
      "text/plain": [
       "Generic morphism:\n",
       "  From: Finitely presented group < x0, x1, x2, x3, x4, x5, x6, x7, x8, x9 | x0*x1*x2*x3*x1^-1*x6*x1*x3^-1*x2^-1*x3*x2*x3*x1^-1*x6^-1*x1*x3^-1*x2^-1*x1^-1, x1*x2*x3*x6*x1*x3^-1*x2*x3*x1^-1*x6^-1*x1*x3^-1*x2^-1*x1^-1, x4*x5, x1*x2*x3*x1^-1*x6*x1*x3^-1*x2^-1*x1^-1*x9, x7*x8, x0*x1, x2*x3, x4*x7, x5*x6, x8*x9, x0*x1, x2*x5, x3*x4, x6*x7, x8*x9 >\n",
       "  To:   Finitely presented group < x0, x2 | x0*x2*x0^-1*x2^-1*x0*x2^-1 >\n",
       "  Defn: x0 |--> x0\n",
       "        x1 |--> x0^-1\n",
       "        x2 |--> x2\n",
       "        x3 |--> x2^-1\n",
       "        x4 |--> x2\n",
       "        x5 |--> x2^-1\n",
       "        x6 |--> x2\n",
       "        x7 |--> x2^-1\n",
       "        x8 |--> x2\n",
       "        x9 |--> x2^-1"
      ]
     },
     "execution_count": 33,
     "metadata": {},
     "output_type": "execute_result"
    }
   ],
   "source": [
    "pi_1_complement.simplification_isomorphism()"
   ]
  },
  {
   "cell_type": "code",
   "execution_count": 47,
   "id": "0826c73b",
   "metadata": {},
   "outputs": [],
   "source": [
    "\n",
    "handlebody_group_red=stevedore_coloring_red.coverF.quotient(stevedore_coloring_red.all_cover_relations())"
   ]
  },
  {
   "cell_type": "code",
   "execution_count": 48,
   "id": "9614e050",
   "metadata": {},
   "outputs": [
    {
     "data": {
      "text/plain": [
       "{'F': Free Group on generators {x0, x1, x2, x3, x4, x5, x6, x7, x8, x9}, 'S': Symmetric group of order 5! as a permutation group, 'relations_source': [x0*x1*x2*x3*x1^-1*x6*x1*x3^-1*x2^-1*x3*x2*x3*x1^-1*x6^-1*x1*x3^-1*x2^-1*x1^-1, x1*x2*x3*x6*x1*x3^-1*x2*x3*x1^-1*x6^-1*x1*x3^-1*x2^-1*x1^-1, x4*x5, x1*x2*x3*x1^-1*x6*x1*x3^-1*x2^-1*x1^-1*x9, x7*x8], 'representation': Group morphism:\n",
       "  From: Free Group on generators {x0, x1, x2, x3, x4, x5, x6, x7, x8, x9}\n",
       "  To:   Symmetric group of order 5! as a permutation group, 'coverF': Free Group on generators {x0, x1, x2, x3, x4, x5, x6, x7, x8, x9, x10, x11, x12, x13, x14, x15, x16, x17, x18, x19, x20, x21, x22, x23, x24, x25, x26, x27, x28, x29, x30, x31, x32, x33, x34, x35, x36, x37, x38, x39, x40, x41, x42, x43, x44, x45, x46, x47, x48, x49}}"
      ]
     },
     "execution_count": 48,
     "metadata": {},
     "output_type": "execute_result"
    }
   ],
   "source": [
    "stevedore_coloring_red"
   ]
  },
  {
   "cell_type": "code",
   "execution_count": 49,
   "id": "75029fdf",
   "metadata": {},
   "outputs": [
    {
     "data": {
      "text/plain": [
       "[[[0, 1, 1],\n",
       "  [1, 2, 1],\n",
       "  [2, 1, 1],\n",
       "  [3, 4, 1],\n",
       "  [1, 2, -1],\n",
       "  [6, 2, 1],\n",
       "  [1, 2, 1],\n",
       "  [3, 4, -1],\n",
       "  [2, 1, -1],\n",
       "  [3, 1, 1],\n",
       "  [2, 5, 1],\n",
       "  [3, 1, 1],\n",
       "  [1, 4, -1],\n",
       "  [6, 1, -1],\n",
       "  [1, 1, 1],\n",
       "  [3, 3, -1],\n",
       "  [2, 4, -1],\n",
       "  [1, 1, -1]],\n",
       " [[0, 2, 1],\n",
       "  [1, 5, 1],\n",
       "  [2, 2, 1],\n",
       "  [3, 2, 1],\n",
       "  [1, 5, -1],\n",
       "  [6, 5, 1],\n",
       "  [1, 1, 1],\n",
       "  [3, 3, -1],\n",
       "  [2, 4, -1],\n",
       "  [3, 4, 1],\n",
       "  [2, 1, 1],\n",
       "  [3, 4, 1],\n",
       "  [1, 2, -1],\n",
       "  [6, 2, -1],\n",
       "  [1, 2, 1],\n",
       "  [3, 4, -1],\n",
       "  [2, 1, -1],\n",
       "  [1, 2, -1]],\n",
       " [[0, 3, 1],\n",
       "  [1, 3, 1],\n",
       "  [2, 3, 1],\n",
       "  [3, 5, 1],\n",
       "  [1, 3, -1],\n",
       "  [6, 3, 1],\n",
       "  [1, 5, 1],\n",
       "  [3, 2, -1],\n",
       "  [2, 2, -1],\n",
       "  [3, 2, 1],\n",
       "  [2, 2, 1],\n",
       "  [3, 2, 1],\n",
       "  [1, 5, -1],\n",
       "  [6, 3, -1],\n",
       "  [1, 3, 1],\n",
       "  [3, 5, -1],\n",
       "  [2, 3, -1],\n",
       "  [1, 3, -1]],\n",
       " [[0, 4, 1],\n",
       "  [1, 1, 1],\n",
       "  [2, 4, 1],\n",
       "  [3, 3, 1],\n",
       "  [1, 1, -1],\n",
       "  [6, 1, 1],\n",
       "  [1, 4, 1],\n",
       "  [3, 1, -1],\n",
       "  [2, 5, -1],\n",
       "  [3, 5, 1],\n",
       "  [2, 3, 1],\n",
       "  [3, 5, 1],\n",
       "  [1, 3, -1],\n",
       "  [6, 4, -1],\n",
       "  [1, 4, 1],\n",
       "  [3, 1, -1],\n",
       "  [2, 5, -1],\n",
       "  [1, 4, -1]],\n",
       " [[0, 5, 1],\n",
       "  [1, 4, 1],\n",
       "  [2, 5, 1],\n",
       "  [3, 1, 1],\n",
       "  [1, 4, -1],\n",
       "  [6, 4, 1],\n",
       "  [1, 3, 1],\n",
       "  [3, 5, -1],\n",
       "  [2, 3, -1],\n",
       "  [3, 3, 1],\n",
       "  [2, 4, 1],\n",
       "  [3, 3, 1],\n",
       "  [1, 1, -1],\n",
       "  [6, 5, -1],\n",
       "  [1, 5, 1],\n",
       "  [3, 2, -1],\n",
       "  [2, 2, -1],\n",
       "  [1, 5, -1]],\n",
       " [[1, 1, 1],\n",
       "  [2, 4, 1],\n",
       "  [3, 3, 1],\n",
       "  [6, 4, 1],\n",
       "  [1, 3, 1],\n",
       "  [3, 5, -1],\n",
       "  [2, 5, 1],\n",
       "  [3, 1, 1],\n",
       "  [1, 4, -1],\n",
       "  [6, 1, -1],\n",
       "  [1, 1, 1],\n",
       "  [3, 3, -1],\n",
       "  [2, 4, -1],\n",
       "  [1, 1, -1]],\n",
       " [[1, 2, 1],\n",
       "  [2, 1, 1],\n",
       "  [3, 4, 1],\n",
       "  [6, 1, 1],\n",
       "  [1, 4, 1],\n",
       "  [3, 1, -1],\n",
       "  [2, 1, 1],\n",
       "  [3, 4, 1],\n",
       "  [1, 2, -1],\n",
       "  [6, 2, -1],\n",
       "  [1, 2, 1],\n",
       "  [3, 4, -1],\n",
       "  [2, 1, -1],\n",
       "  [1, 2, -1]],\n",
       " [[1, 3, 1],\n",
       "  [2, 3, 1],\n",
       "  [3, 5, 1],\n",
       "  [6, 3, 1],\n",
       "  [1, 5, 1],\n",
       "  [3, 2, -1],\n",
       "  [2, 2, 1],\n",
       "  [3, 2, 1],\n",
       "  [1, 5, -1],\n",
       "  [6, 3, -1],\n",
       "  [1, 3, 1],\n",
       "  [3, 5, -1],\n",
       "  [2, 3, -1],\n",
       "  [1, 3, -1]],\n",
       " [[1, 4, 1],\n",
       "  [2, 5, 1],\n",
       "  [3, 1, 1],\n",
       "  [6, 5, 1],\n",
       "  [1, 1, 1],\n",
       "  [3, 3, -1],\n",
       "  [2, 3, 1],\n",
       "  [3, 5, 1],\n",
       "  [1, 3, -1],\n",
       "  [6, 4, -1],\n",
       "  [1, 4, 1],\n",
       "  [3, 1, -1],\n",
       "  [2, 5, -1],\n",
       "  [1, 4, -1]],\n",
       " [[1, 5, 1],\n",
       "  [2, 2, 1],\n",
       "  [3, 2, 1],\n",
       "  [6, 2, 1],\n",
       "  [1, 2, 1],\n",
       "  [3, 4, -1],\n",
       "  [2, 4, 1],\n",
       "  [3, 3, 1],\n",
       "  [1, 1, -1],\n",
       "  [6, 5, -1],\n",
       "  [1, 5, 1],\n",
       "  [3, 2, -1],\n",
       "  [2, 2, -1],\n",
       "  [1, 5, -1]],\n",
       " [[4, 1, 1], [5, 4, 1]],\n",
       " [[4, 2, 1], [5, 2, 1]],\n",
       " [[4, 3, 1], [5, 5, 1]],\n",
       " [[4, 4, 1], [5, 3, 1]],\n",
       " [[4, 5, 1], [5, 1, 1]],\n",
       " [[1, 1, 1],\n",
       "  [2, 4, 1],\n",
       "  [3, 3, 1],\n",
       "  [1, 1, -1],\n",
       "  [6, 1, 1],\n",
       "  [1, 4, 1],\n",
       "  [3, 1, -1],\n",
       "  [2, 5, -1],\n",
       "  [1, 4, -1],\n",
       "  [9, 4, 1]],\n",
       " [[1, 2, 1],\n",
       "  [2, 1, 1],\n",
       "  [3, 4, 1],\n",
       "  [1, 2, -1],\n",
       "  [6, 2, 1],\n",
       "  [1, 2, 1],\n",
       "  [3, 4, -1],\n",
       "  [2, 1, -1],\n",
       "  [1, 2, -1],\n",
       "  [9, 2, 1]],\n",
       " [[1, 3, 1],\n",
       "  [2, 3, 1],\n",
       "  [3, 5, 1],\n",
       "  [1, 3, -1],\n",
       "  [6, 3, 1],\n",
       "  [1, 5, 1],\n",
       "  [3, 2, -1],\n",
       "  [2, 2, -1],\n",
       "  [1, 5, -1],\n",
       "  [9, 5, 1]],\n",
       " [[1, 4, 1],\n",
       "  [2, 5, 1],\n",
       "  [3, 1, 1],\n",
       "  [1, 4, -1],\n",
       "  [6, 4, 1],\n",
       "  [1, 3, 1],\n",
       "  [3, 5, -1],\n",
       "  [2, 3, -1],\n",
       "  [1, 3, -1],\n",
       "  [9, 3, 1]],\n",
       " [[1, 5, 1],\n",
       "  [2, 2, 1],\n",
       "  [3, 2, 1],\n",
       "  [1, 5, -1],\n",
       "  [6, 5, 1],\n",
       "  [1, 1, 1],\n",
       "  [3, 3, -1],\n",
       "  [2, 4, -1],\n",
       "  [1, 1, -1],\n",
       "  [9, 1, 1]],\n",
       " [[7, 1, 1], [8, 5, 1]],\n",
       " [[7, 2, 1], [8, 2, 1]],\n",
       " [[7, 3, 1], [8, 4, 1]],\n",
       " [[7, 4, 1], [8, 1, 1]],\n",
       " [[7, 5, 1], [8, 3, 1]]]"
      ]
     },
     "execution_count": 49,
     "metadata": {},
     "output_type": "execute_result"
    }
   ],
   "source": [
    "stevedore_coloring_red.lift_relations_sub_sup_exp()"
   ]
  },
  {
   "cell_type": "code",
   "execution_count": 50,
   "id": "7cbc4514",
   "metadata": {},
   "outputs": [],
   "source": [
    "RH=handlebody_group_red.simplification_isomorphism().codomain()"
   ]
  },
  {
   "cell_type": "code",
   "execution_count": 13,
   "id": "12e63b1d",
   "metadata": {},
   "outputs": [],
   "source": [
    "handlebody_group_blu=stevedore_coloring_blu.coverF.quotient(stevedore_coloring_blu.all_cover_relations())"
   ]
  },
  {
   "cell_type": "code",
   "execution_count": 14,
   "id": "38b59d10",
   "metadata": {},
   "outputs": [
    {
     "data": {
      "text/plain": [
       "Generic morphism:\n",
       "  From: Finitely presented group < x0, x1, x2, x3, x4, x5, x6, x7, x8, x9, x10, x11, x12, x13, x14, x15, x16, x17, x18, x19, x20, x21, x22, x23, x24, x25, x26, x27, x28, x29 | x0*x11, x10*x1, x20*x21, x2*x23, x12*x13, x22*x3, x4*x27, x14*x17, x24*x7, x5*x26, x15*x16, x25*x6, x8*x29, x18*x19, x28*x9, 1, x0, x2, x0*x10, x20, x1*x11, x21, x2*x22, x12, x3*x23, x13, x4*x24, x14, x5*x25, x15, x6*x26, x16, x7*x27, x17, x8*x28, x18, x9*x29, x19 >\n",
       "  To:   Finitely presented group < x4, x5, x8 |  >\n",
       "  Defn: x0 |--> 1\n",
       "        x1 |--> 1\n",
       "        x2 |--> 1\n",
       "        x3 |--> 1\n",
       "        x4 |--> x4\n",
       "        x5 |--> x5\n",
       "        x6 |--> x5\n",
       "        x7 |--> x4\n",
       "        x8 |--> x8\n",
       "        x9 |--> x8\n",
       "        x10 |--> 1\n",
       "        x11 |--> 1\n",
       "        x12 |--> 1\n",
       "        x13 |--> 1\n",
       "        x14 |--> 1\n",
       "        x15 |--> 1\n",
       "        x16 |--> 1\n",
       "        x17 |--> 1\n",
       "        x18 |--> 1\n",
       "        x19 |--> 1\n",
       "        x20 |--> 1\n",
       "        x21 |--> 1\n",
       "        x22 |--> 1\n",
       "        x23 |--> 1\n",
       "        x24 |--> x4^-1\n",
       "        x25 |--> x5^-1\n",
       "        x26 |--> x5^-1\n",
       "        x27 |--> x4^-1\n",
       "        x28 |--> x8^-1\n",
       "        x29 |--> x8^-1"
      ]
     },
     "execution_count": 14,
     "metadata": {},
     "output_type": "execute_result"
    }
   ],
   "source": [
    "handlebody_group_blu.simplification_isomorphism()"
   ]
  },
  {
   "cell_type": "code",
   "execution_count": 14,
   "id": "a2f11db7",
   "metadata": {},
   "outputs": [],
   "source": [
    "handlebody_group_gre=stevedore_coloring_gre.coverF.quotient(stevedore_coloring_gre.all_cover_relations())"
   ]
  },
  {
   "cell_type": "code",
   "execution_count": 16,
   "id": "463ef47a",
   "metadata": {},
   "outputs": [
    {
     "data": {
      "text/plain": [
       "Generic morphism:\n",
       "  From: Finitely presented group < x0, x1, x2, x3, x4, x5, x6, x7, x8, x9, x10, x11, x12, x13, x14, x15, x16, x17, x18, x19, x20, x21, x22, x23, x24, x25, x26, x27, x28, x29 | x0*x11, x10*x1, x20*x21, x2*x25, x12*x15, x22*x5, x3*x24, x13*x14, x23*x4, x6*x27, x16*x17, x26*x7, x8*x29, x18*x19, x28*x9, 1, x0, x2, x0*x10, x20, x1*x11, x21, x2*x22, x12, x3*x23, x13, x4*x24, x14, x5*x25, x15, x6*x26, x16, x7*x27, x17, x8*x28, x18, x9*x29, x19 >\n",
       "  To:   Finitely presented group < x3, x6, x8 |  >\n",
       "  Defn: x0 |--> 1\n",
       "        x1 |--> 1\n",
       "        x2 |--> 1\n",
       "        x3 |--> x3\n",
       "        x4 |--> x3\n",
       "        x5 |--> 1\n",
       "        x6 |--> x6\n",
       "        x7 |--> x6\n",
       "        x8 |--> x8\n",
       "        x9 |--> x8\n",
       "        x10 |--> 1\n",
       "        x11 |--> 1\n",
       "        x12 |--> 1\n",
       "        x13 |--> 1\n",
       "        x14 |--> 1\n",
       "        x15 |--> 1\n",
       "        x16 |--> 1\n",
       "        x17 |--> 1\n",
       "        x18 |--> 1\n",
       "        x19 |--> 1\n",
       "        x20 |--> 1\n",
       "        x21 |--> 1\n",
       "        x22 |--> 1\n",
       "        x23 |--> x3^-1\n",
       "        x24 |--> x3^-1\n",
       "        x25 |--> 1\n",
       "        x26 |--> x6^-1\n",
       "        x27 |--> x6^-1\n",
       "        x28 |--> x8^-1\n",
       "        x29 |--> x8^-1"
      ]
     },
     "execution_count": 16,
     "metadata": {},
     "output_type": "execute_result"
    }
   ],
   "source": [
    "handlebody_group_gre.simplification_isomorphism()"
   ]
  },
  {
   "cell_type": "code",
   "execution_count": 15,
   "id": "b00d1017",
   "metadata": {},
   "outputs": [],
   "source": [
    "pi_1_cover=stevedore_cover_F.quotient(stevedore_coloring_red.all_cover_relations()+stevedore_coloring_blu.all_cover_relations()+stevedore_coloring_gre.all_cover_relations())"
   ]
  },
  {
   "cell_type": "code",
   "execution_count": 18,
   "id": "d810cba1",
   "metadata": {},
   "outputs": [
    {
     "data": {
      "text/plain": [
       "Generic morphism:\n",
       "  From: Finitely presented group < x0, x1, x2, x3, x4, x5, x6, x7, x8, x9, x10, x11, x12, x13, x14, x15, x16, x17, x18, x19, x20, x21, x22, x23, x24, x25, x26, x27, x28, x29 | x0*x11*x2*x23*x11^-1*x16*x11*x23^-1*x2^-1*x3*x22*x3*x21^-1*x6^-1*x1*x13^-1*x12^-1*x1^-1, x10*x1*x12*x13*x1^-1*x6*x21*x3^-1*x22^-1*x23*x2*x23*x11^-1*x16^-1*x11*x23^-1*x2^-1*x11^-1, x20*x21*x22*x3*x21^-1*x26*x1*x13^-1*x12^-1*x13*x12*x13*x1^-1*x26^-1*x21*x3^-1*x22^-1*x21^-1, x1*x12*x13*x16*x11*x23^-1*x22*x3*x21^-1*x6^-1*x1*x13^-1*x12^-1*x1^-1, x11*x2*x23*x6*x21*x3^-1*x2*x23*x11^-1*x16^-1*x11*x23^-1*x2^-1*x11^-1, x21*x22*x3*x26*x1*x13^-1*x12*x13*x1^-1*x26^-1*x21*x3^-1*x22^-1*x21^-1, x4*x25, x14*x15, x24*x5, x1*x12*x13*x1^-1*x6*x21*x3^-1*x22^-1*x21^-1*x29, x11*x2*x23*x11^-1*x16*x11*x23^-1*x2^-1*x11^-1*x19, x21*x22*x3*x21^-1*x26*x1*x13^-1*x12^-1*x1^-1*x9, x7*x28, x17*x18, x27*x8, 1, x0, x2, x0*x10, x20, x1*x11, x21, x2*x22, x12, x3*x23, x13, x4*x24, x14, x5*x25, x15, x6*x26, x16, x7*x27, x17, x8*x28, x18, x9*x29, x19, x0*x11, x10*x1, x20*x21, x2*x23, x12*x13, x22*x3, x4*x27, x14*x17, x24*x7, x5*x26, x15*x16, x25*x6, x8*x29, x18*x19, x28*x9, 1, x0, x2, x0*x10, x20, x1*x11, x21, x2*x22, x12, x3*x23, x13, x4*x24, x14, x5*x25, x15, x6*x26, x16, x7*x27, x17, x8*x28, x18, x9*x29, x19, x0*x11, x10*x1, x20*x21, x2*x25, x12*x15, x22*x5, x3*x24, x13*x14, x23*x4, x6*x27, x16*x17, x26*x7, x8*x29, x18*x19, x28*x9, 1, x0, x2, x0*x10, x20, x1*x11, x21, x2*x22, x12, x3*x23, x13, x4*x24, x14, x5*x25, x15, x6*x26, x16, x7*x27, x17, x8*x28, x18, x9*x29, x19 >\n",
       "  To:   Finitely presented group <  |  >\n",
       "  Defn: x0 |--> 1\n",
       "        x1 |--> 1\n",
       "        x2 |--> 1\n",
       "        x3 |--> 1\n",
       "        x4 |--> 1\n",
       "        x5 |--> 1\n",
       "        x6 |--> 1\n",
       "        x7 |--> 1\n",
       "        x8 |--> 1\n",
       "        x9 |--> 1\n",
       "        x10 |--> 1\n",
       "        x11 |--> 1\n",
       "        x12 |--> 1\n",
       "        x13 |--> 1\n",
       "        x14 |--> 1\n",
       "        x15 |--> 1\n",
       "        x16 |--> 1\n",
       "        x17 |--> 1\n",
       "        x18 |--> 1\n",
       "        x19 |--> 1\n",
       "        x20 |--> 1\n",
       "        x21 |--> 1\n",
       "        x22 |--> 1\n",
       "        x23 |--> 1\n",
       "        x24 |--> 1\n",
       "        x25 |--> 1\n",
       "        x26 |--> 1\n",
       "        x27 |--> 1\n",
       "        x28 |--> 1\n",
       "        x29 |--> 1"
      ]
     },
     "execution_count": 18,
     "metadata": {},
     "output_type": "execute_result"
    }
   ],
   "source": [
    "pi_1_cover.simplification_isomorphism()"
   ]
  },
  {
   "cell_type": "code",
   "execution_count": 19,
   "id": "b6f568d3",
   "metadata": {},
   "outputs": [],
   "source": [
    "pi_1_cover_complement=stevedore_cover_F.quotient(stevedore_coloring_red.claw_relations_reindex()+stevedore_coloring_red.lift_relations_reindex()+stevedore_coloring_blu.claw_relations_reindex()+stevedore_coloring_blu.lift_relations_reindex()+stevedore_coloring_gre.claw_relations_reindex()+stevedore_coloring_gre.lift_relations_reindex())"
   ]
  },
  {
   "cell_type": "code",
   "execution_count": 20,
   "id": "89ff077e",
   "metadata": {},
   "outputs": [
    {
     "data": {
      "text/plain": [
       "Generic morphism:\n",
       "  From: Finitely presented group < x0, x1, x2, x3, x4, x5, x6, x7, x8, x9, x10, x11, x12, x13, x14, x15, x16, x17, x18, x19, x20, x21, x22, x23, x24, x25, x26, x27, x28, x29 | 1, x0, x2, x0*x11*x2*x23*x11^-1*x16*x11*x23^-1*x2^-1*x3*x22*x3*x21^-1*x6^-1*x1*x13^-1*x12^-1*x1^-1, x10*x1*x12*x13*x1^-1*x6*x21*x3^-1*x22^-1*x23*x2*x23*x11^-1*x16^-1*x11*x23^-1*x2^-1*x11^-1, x20*x21*x22*x3*x21^-1*x26*x1*x13^-1*x12^-1*x13*x12*x13*x1^-1*x26^-1*x21*x3^-1*x22^-1*x21^-1, x1*x12*x13*x16*x11*x23^-1*x22*x3*x21^-1*x6^-1*x1*x13^-1*x12^-1*x1^-1, x11*x2*x23*x6*x21*x3^-1*x2*x23*x11^-1*x16^-1*x11*x23^-1*x2^-1*x11^-1, x21*x22*x3*x26*x1*x13^-1*x12*x13*x1^-1*x26^-1*x21*x3^-1*x22^-1*x21^-1, x4*x25, x14*x15, x24*x5, x1*x12*x13*x1^-1*x6*x21*x3^-1*x22^-1*x21^-1*x29, x11*x2*x23*x11^-1*x16*x11*x23^-1*x2^-1*x11^-1*x19, x21*x22*x3*x21^-1*x26*x1*x13^-1*x12^-1*x1^-1*x9, x7*x28, x17*x18, x27*x8, 1, x0, x2, x0*x11, x10*x1, x20*x21, x2*x23, x12*x13, x22*x3, x4*x27, x14*x17, x24*x7, x5*x26, x15*x16, x25*x6, x8*x29, x18*x19, x28*x9, 1, x0, x2, x0*x11, x10*x1, x20*x21, x2*x25, x12*x15, x22*x5, x3*x24, x13*x14, x23*x4, x6*x27, x16*x17, x26*x7, x8*x29, x18*x19, x28*x9 >\n",
       "  To:   Finitely presented group < x12, x20 | x20*x12*x20^-1*x12^-1*x20*x12^-1 >\n",
       "  Defn: x0 |--> 1\n",
       "        x1 |--> x20^-1*x12^-1\n",
       "        x2 |--> 1\n",
       "        x3 |--> x12^-1*x20^-1\n",
       "        x4 |--> 1\n",
       "        x5 |--> x12^-1*x20^-1\n",
       "        x6 |--> 1\n",
       "        x7 |--> x12^-1*x20^-1\n",
       "        x8 |--> 1\n",
       "        x9 |--> x12^-1*x20^-1\n",
       "        x10 |--> x12*x20\n",
       "        x11 |--> 1\n",
       "        x12 |--> x12\n",
       "        x13 |--> x12^-1\n",
       "        x14 |--> x12\n",
       "        x15 |--> x12^-1\n",
       "        x16 |--> x12\n",
       "        x17 |--> x12^-1\n",
       "        x18 |--> x12\n",
       "        x19 |--> x12^-1\n",
       "        x20 |--> x20\n",
       "        x21 |--> x20^-1\n",
       "        x22 |--> x20*x12\n",
       "        x23 |--> 1\n",
       "        x24 |--> x20*x12\n",
       "        x25 |--> 1\n",
       "        x26 |--> x20*x12\n",
       "        x27 |--> 1\n",
       "        x28 |--> x20*x12\n",
       "        x29 |--> 1"
      ]
     },
     "execution_count": 20,
     "metadata": {},
     "output_type": "execute_result"
    }
   ],
   "source": [
    "pi_1_cover_complement.simplification_isomorphism()"
   ]
  },
  {
   "cell_type": "code",
   "execution_count": 21,
   "id": "23b37d1e",
   "metadata": {},
   "outputs": [
    {
     "data": {
      "text/plain": [
       "[1, x0, x2]"
      ]
     },
     "execution_count": 21,
     "metadata": {},
     "output_type": "execute_result"
    }
   ],
   "source": [
    "stevedore_coloring_red.claw_relations_reindex()"
   ]
  },
  {
   "cell_type": "code",
   "execution_count": 23,
   "id": "67ca0a66",
   "metadata": {},
   "outputs": [
    {
     "data": {
      "text/plain": [
       "Generic morphism:\n",
       "  From: Finitely presented group < x0, x1, x2, x3, x4, x5, x6, x7, x8, x9 | x0*x1*x2*x3*x1^-1*x6*x1*x3^-1*x2^-1*x3*x2*x3*x1^-1*x6^-1*x1*x3^-1*x2^-1*x1^-1, x1*x2*x3*x6*x1*x3^-1*x2*x3*x1^-1*x6^-1*x1*x3^-1*x2^-1*x1^-1, x4*x5, x1*x2*x3*x1^-1*x6*x1*x3^-1*x2^-1*x1^-1*x9, x7*x8, x0*x1, x2*x3, x4*x7, x5*x6, x8*x9, x0*x1, x2*x5, x3*x4, x6*x7, x8*x9 >\n",
       "  To:   Finitely presented group < x0, x2 | x0*x2*x0^-1*x2^-1*x0*x2^-1 >\n",
       "  Defn: x0 |--> x0\n",
       "        x1 |--> x0^-1\n",
       "        x2 |--> x2\n",
       "        x3 |--> x2^-1\n",
       "        x4 |--> x2\n",
       "        x5 |--> x2^-1\n",
       "        x6 |--> x2\n",
       "        x7 |--> x2^-1\n",
       "        x8 |--> x2\n",
       "        x9 |--> x2^-1"
      ]
     },
     "execution_count": 23,
     "metadata": {},
     "output_type": "execute_result"
    }
   ],
   "source": [
    "double_6_1.group().simplification_isomorphism()"
   ]
  },
  {
   "cell_type": "code",
   "execution_count": null,
   "id": "34b69e6f",
   "metadata": {},
   "outputs": [],
   "source": []
  }
 ],
 "metadata": {
  "kernelspec": {
   "display_name": "SageMath 9.5",
   "language": "sage",
   "name": "sagemath-9.5"
  },
  "language_info": {
   "codemirror_mode": {
    "name": "ipython",
    "version": 3
   },
   "file_extension": ".py",
   "mimetype": "text/x-python",
   "name": "python",
   "nbconvert_exporter": "python",
   "pygments_lexer": "ipython3",
   "version": "3.9.9"
  }
 },
 "nbformat": 4,
 "nbformat_minor": 5
}
