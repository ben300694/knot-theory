{
 "cells": [
  {
   "cell_type": "code",
   "execution_count": 19,
   "id": "c1baa68b",
   "metadata": {},
   "outputs": [],
   "source": [
    "load(\"src/bridge_trisections.sage\")"
   ]
  },
  {
   "cell_type": "code",
   "execution_count": 20,
   "id": "a6654386",
   "metadata": {},
   "outputs": [],
   "source": [
    "load(\"data/stevedore_disk_double.sage\")"
   ]
  },
  {
   "cell_type": "code",
   "execution_count": 21,
   "id": "5882b448",
   "metadata": {},
   "outputs": [
    {
     "data": {
      "text/plain": [
       "{'bridge_number': 5, 'F': Free Group on generators {x0, x1, x2, x3, x4, x5, x6, x7, x8, x9}, 'red_tangle': {'bridge_number': 5, 'F': Free Group on generators {x0, x1, x2, x3, x4, x5, x6, x7, x8, x9}, 'generators_bottom_list': [x0, x1, x2, x3, x4, x5, x6, x7, x8, x9], 'generators_temp_list': [x0, x1*x2*x3*x1*x3^-1*x2^-1*x1^-1, x1*x2*x3*x1^-1*x6*x1*x3^-1*x2*x3*x1^-1*x6^-1*x1*x3^-1*x2^-1*x1^-1, x1*x2*x3*x1^-1*x6*x1*x3^-1*x2^-1*x3*x2*x3*x1^-1*x6^-1*x1*x3^-1*x2^-1*x1^-1, x4, x5, x1*x2*x3*x1^-1*x6*x1*x3^-1*x2^-1*x1^-1, x7, x8, x9], 'braid_word': [{'first_index': 1, 'second_index': 2, 'sign': 1}, {'first_index': 2, 'second_index': 3, 'sign': 1}, {'first_index': 2, 'second_index': 3, 'sign': 1}, {'first_index': 1, 'second_index': 2, 'sign': 1}, {'first_index': 3, 'second_index': 6, 'sign': 1}, {'first_index': 2, 'second_index': 3, 'sign': 1}, {'first_index': 2, 'second_index': 3, 'sign': 1}, {'first_index': 3, 'second_index': 6, 'sign': 1}], 'strand_matching': [(0, 3), (1, 2), (4, 5), (6, 9), (7, 8)]}, 'blu_tangle': {'bridge_number': 5, 'F': Free Group on generators {x0, x1, x2, x3, x4, x5, x6, x7, x8, x9}, 'generators_bottom_list': [x0, x1, x2, x3, x4, x5, x6, x7, x8, x9], 'generators_temp_list': [x0, x1, x2, x3, x4, x5, x6, x7, x8, x9], 'braid_word': [], 'strand_matching': [(0, 1), (2, 3), (4, 7), (5, 6), (8, 9)]}, 'gre_tangle': {'bridge_number': 5, 'F': Free Group on generators {x0, x1, x2, x3, x4, x5, x6, x7, x8, x9}, 'generators_bottom_list': [x0, x1, x2, x3, x4, x5, x6, x7, x8, x9], 'generators_temp_list': [x0, x1, x2, x3, x4, x5, x6, x7, x8, x9], 'braid_word': [], 'strand_matching': [(0, 1), (2, 5), (3, 4), (6, 7), (8, 9)]}}"
      ]
     },
     "execution_count": 21,
     "metadata": {},
     "output_type": "execute_result"
    }
   ],
   "source": [
    "double_6_1"
   ]
  },
  {
   "cell_type": "code",
   "execution_count": 189,
   "id": "e05c50d3",
   "metadata": {},
   "outputs": [],
   "source": [
    "#p=5\n",
    "#stevedore_F = FreeGroup(10)\n",
    "#stevedore_S = SymmetricGroup(5)\n",
    "#stevedore_cover_F=FreeGroup(10*5)\n",
    "#stevedore_images_of_generators = ['(1,2,5,4)','(1,4,5,2)']+4*['(1,4,3,5)','(1,5,3,4)'] #BS(1,2)\n"
   ]
  },
  {
   "cell_type": "code",
   "execution_count": 1,
   "id": "fda3c530",
   "metadata": {},
   "outputs": [],
   "source": [
    "#p=7\n",
    "#stevedore_F = FreeGroup(10)\n",
    "#stevedore_S = SymmetricGroup(7)\n",
    "#stevedore_cover_F=FreeGroup(10*7)\n",
    "#stevedore_images_of_generators = ['(2,6,4)(3,7,5)','(2,4,6)(3,5,7)']+4*['(1,6,7)(3,5,4)','(1,7,6)(3,4,5)'] #doesn't give BS presentation, but close\n"
   ]
  },
  {
   "cell_type": "code",
   "execution_count": 50,
   "id": "409b45db",
   "metadata": {},
   "outputs": [
    {
     "name": "stdout",
     "output_type": "stream",
     "text": [
      "[(1,7,10,5,9,11,12,6,3,8,4,2), (1,2,4,8,3,6,12,11,9,5,10,7), (2,8,11,6,10,12,13,7,4,9,5,3), (2,3,5,9,4,7,13,12,10,6,11,8), (2,8,11,6,10,12,13,7,4,9,5,3), (2,3,5,9,4,7,13,12,10,6,11,8), (2,8,11,6,10,12,13,7,4,9,5,3), (2,3,5,9,4,7,13,12,10,6,11,8), (2,8,11,6,10,12,13,7,4,9,5,3), (2,3,5,9,4,7,13,12,10,6,11,8)]\n"
     ]
    }
   ],
   "source": [
    "p=13\n",
    "stevedore_F = FreeGroup(10)\n",
    "stevedore_S = SymmetricGroup(p)\n",
    "stevedore_cover_F=FreeGroup(10*p)\n",
    "\n",
    "\n",
    "\n",
    "#Images for p=5\n",
    "#a=stevedore_S('(1,2,3,4,5)')\n",
    "#b=stevedore_S('(2,4,5,3)')\n",
    "\n",
    "#Images for p=7\n",
    "#a=stevedore_S('(1,2,3,4,5,6,7)')\n",
    "#b=stevedore_S('(3,2,5)(4,6,7)')\n",
    "\n",
    "#Images for p=11\n",
    "#a=stevedore_S('(1,2,3,4,5,6,7,8,9,10,11)')  \n",
    "#b=stevedore_S('(2,7,4,8,10,11,6,9,5,3)')\n",
    "\n",
    "#Images for p=13\n",
    "a=stevedore_S('(1,2,3,4,5,6,7,8,9,10,11,12,13)')  \n",
    "b=stevedore_S('(2,8,11,6,10,12,13,7,4,9,5,3)')\n",
    "\n",
    "g_1=a^-1*b\n",
    "g_2=b\n",
    "\n",
    "stevedore_images_of_generators = [g_1,g_1^-1]+4*[g_2,g_2^-1]\n",
    "print(stevedore_images_of_generators)"
   ]
  },
  {
   "cell_type": "code",
   "execution_count": 51,
   "id": "d12d3b87",
   "metadata": {},
   "outputs": [],
   "source": [
    "stevedore_coloring_red = Colored_trivial_tangle(stevedore_F, stevedore_S, double_6_1.red_tangle.relations(), stevedore_images_of_generators)\n",
    "stevedore_coloring_blu = Colored_trivial_tangle(stevedore_F, stevedore_S, double_6_1.blu_tangle.relations(), stevedore_images_of_generators)\n",
    "stevedore_coloring_gre = Colored_trivial_tangle(stevedore_F, stevedore_S, double_6_1.gre_tangle.relations(), stevedore_images_of_generators)"
   ]
  },
  {
   "cell_type": "code",
   "execution_count": 52,
   "id": "0826c73b",
   "metadata": {},
   "outputs": [
    {
     "data": {
      "text/plain": [
       "Finitely presented group < x14, x15, x17, x18, x21, x22, x25, x26, x27, x29, x32, x33, x34, x35, x37, x38, x40, x43, x45, x46, x47, x51, x52, x53, x54, x55, x56, x57, x58, x62, x65, x67, x71, x73, x74, x76, x78, x83, x92, x94, x98, x111, x112 |  >"
      ]
     },
     "execution_count": 52,
     "metadata": {},
     "output_type": "execute_result"
    }
   ],
   "source": [
    "red_handlebody_group_branched=stevedore_coloring_red.handlebody_group()\n",
    "red_handlebody_group_branched.simplification_isomorphism().codomain()"
   ]
  },
  {
   "cell_type": "code",
   "execution_count": 53,
   "id": "9e3c92f3",
   "metadata": {},
   "outputs": [
    {
     "data": {
      "text/plain": [
       "Finitely presented group < x14, x15, x17, x18, x21, x22, x25, x26, x27, x29, x32, x33, x34, x35, x37, x38, x40, x43, x45, x46, x47, x51, x52, x53, x54, x55, x56, x57, x58, x62, x65, x67, x71, x73, x74, x76, x78, x83, x92, x94, x98, x111, x112 |  >"
      ]
     },
     "execution_count": 53,
     "metadata": {},
     "output_type": "execute_result"
    }
   ],
   "source": [
    "blu_handlebody_group_branched=stevedore_coloring_red.handlebody_group()\n",
    "blu_handlebody_group_branched.simplification_isomorphism().codomain()"
   ]
  },
  {
   "cell_type": "code",
   "execution_count": 54,
   "id": "6bf6f862",
   "metadata": {},
   "outputs": [
    {
     "data": {
      "text/plain": [
       "Finitely presented group < x14, x15, x17, x18, x21, x22, x25, x26, x27, x29, x32, x33, x34, x35, x37, x38, x40, x43, x45, x46, x47, x51, x52, x53, x54, x55, x56, x57, x58, x62, x65, x67, x71, x73, x74, x76, x78, x83, x92, x94, x98, x111, x112 |  >"
      ]
     },
     "execution_count": 54,
     "metadata": {},
     "output_type": "execute_result"
    }
   ],
   "source": [
    "gre_handlebody_group_branched=stevedore_coloring_red.handlebody_group()\n",
    "gre_handlebody_group_branched.simplification_isomorphism().codomain()"
   ]
  },
  {
   "cell_type": "code",
   "execution_count": 55,
   "id": "b00d1017",
   "metadata": {},
   "outputs": [
    {
     "data": {
      "text/plain": [
       "Finitely presented group <  |  >"
      ]
     },
     "execution_count": 55,
     "metadata": {},
     "output_type": "execute_result"
    }
   ],
   "source": [
    "pi_1_cover_branched=stevedore_cover_F.quotient(stevedore_coloring_red.all_cover_relations()+stevedore_coloring_blu.all_cover_relations()+stevedore_coloring_gre.all_cover_relations())\n",
    "pi_1_cover_branched.simplification_isomorphism().codomain()"
   ]
  },
  {
   "cell_type": "code",
   "execution_count": 49,
   "id": "b6f568d3",
   "metadata": {},
   "outputs": [
    {
     "data": {
      "text/plain": [
       "Finitely presented group < x2, x72 | x2^2*x72^-1*x2*x72*x2^-1*x72^-1 >"
      ]
     },
     "execution_count": 49,
     "metadata": {},
     "output_type": "execute_result"
    }
   ],
   "source": [
    "pi_1_cover_unbranched=stevedore_cover_F.quotient(stevedore_coloring_red.claw_relations_reindex()+stevedore_coloring_red.lift_relations_reindex()+stevedore_coloring_blu.claw_relations_reindex()+stevedore_coloring_blu.lift_relations_reindex()+stevedore_coloring_gre.claw_relations_reindex()+stevedore_coloring_gre.lift_relations_reindex())\n",
    "pi_1_cover_unbranched.simplification_isomorphism().codomain()"
   ]
  },
  {
   "cell_type": "code",
   "execution_count": 203,
   "id": "76e82fd5",
   "metadata": {},
   "outputs": [],
   "source": [
    "#Try to guess isomorphism with BS(1,2) by examining representations to S_q, or prove not isomorphic?\n",
    "\n",
    "def find_homs(q,F,reln):    \n",
    "    S_q=SymmetricGroup(q)\n",
    "    gen_pairs=[]\n",
    "    good_homs_q=[]\n",
    "    for g_1 in S_q:\n",
    "        for g_2 in S_q:\n",
    "            pair=[g_1,g_2]\n",
    "            hom_q=F.hom([S_q(g) for g in pair])\n",
    "            if hom_q.image(reln)==S_q.identity():\n",
    "                good_homs_q.append(hom_q)\n",
    "                print(\"gen 1->\",hom_q.image(F([1])),\"gen 2->\",hom_q.image(F([2])),\"reln->\",hom_q.image(reln))\n",
    "    "
   ]
  },
  {
   "cell_type": "code",
   "execution_count": 204,
   "id": "6573ea5b",
   "metadata": {},
   "outputs": [
    {
     "name": "stdout",
     "output_type": "stream",
     "text": [
      "gen 1-> () gen 2-> () reln-> ()\n",
      "gen 1-> () gen 2-> (2,3) reln-> ()\n",
      "gen 1-> () gen 2-> (1,3) reln-> ()\n",
      "gen 1-> () gen 2-> (1,2) reln-> ()\n",
      "gen 1-> (1,3,2) gen 2-> (1,2,3) reln-> ()\n",
      "gen 1-> (1,3,2) gen 2-> (2,3) reln-> ()\n",
      "gen 1-> (1,3,2) gen 2-> (1,3) reln-> ()\n",
      "gen 1-> (1,3,2) gen 2-> (1,2) reln-> ()\n",
      "gen 1-> (1,2,3) gen 2-> (1,3,2) reln-> ()\n",
      "gen 1-> (1,2,3) gen 2-> (2,3) reln-> ()\n",
      "gen 1-> (1,2,3) gen 2-> (1,3) reln-> ()\n",
      "gen 1-> (1,2,3) gen 2-> (1,2) reln-> ()\n"
     ]
    }
   ],
   "source": [
    "F=FreeGroup(2) \n",
    "find_homs(3,F,F([-1,2,1,-2,-1,2,2]))"
   ]
  },
  {
   "cell_type": "code",
   "execution_count": 207,
   "id": "a8868e42",
   "metadata": {},
   "outputs": [
    {
     "name": "stdout",
     "output_type": "stream",
     "text": [
      "gen 1-> () gen 2-> () reln-> ()\n",
      "gen 1-> () gen 2-> (1,2) reln-> ()\n",
      "gen 1-> () gen 2-> (2,4)(3,5) reln-> ()\n",
      "gen 1-> () gen 2-> (1,5) reln-> ()\n",
      "gen 1-> () gen 2-> (3,4) reln-> ()\n",
      "gen 1-> () gen 2-> (1,2)(3,4) reln-> ()\n",
      "gen 1-> () gen 2-> (1,5)(3,4) reln-> ()\n",
      "gen 1-> () gen 2-> (1,4)(2,5) reln-> ()\n",
      "gen 1-> () gen 2-> (1,3) reln-> ()\n",
      "gen 1-> () gen 2-> (1,5)(2,3) reln-> ()\n",
      "gen 1-> () gen 2-> (2,3) reln-> ()\n",
      "gen 1-> () gen 2-> (4,5) reln-> ()\n",
      "gen 1-> () gen 2-> (1,2)(4,5) reln-> ()\n",
      "gen 1-> () gen 2-> (1,4) reln-> ()\n",
      "gen 1-> () gen 2-> (1,3)(2,5) reln-> ()\n",
      "gen 1-> () gen 2-> (1,3)(2,4) reln-> ()\n",
      "gen 1-> () gen 2-> (2,5) reln-> ()\n",
      "gen 1-> () gen 2-> (1,4)(3,5) reln-> ()\n",
      "gen 1-> () gen 2-> (3,5) reln-> ()\n",
      "gen 1-> () gen 2-> (1,2)(3,5) reln-> ()\n",
      "gen 1-> () gen 2-> (2,5)(3,4) reln-> ()\n",
      "gen 1-> () gen 2-> (1,5)(2,4) reln-> ()\n",
      "gen 1-> () gen 2-> (1,4)(2,3) reln-> ()\n",
      "gen 1-> () gen 2-> (1,3)(4,5) reln-> ()\n",
      "gen 1-> () gen 2-> (2,4) reln-> ()\n",
      "gen 1-> () gen 2-> (2,3)(4,5) reln-> ()\n",
      "gen 1-> (1,5,4,3,2) gen 2-> (1,3,5,2,4) reln-> ()\n",
      "gen 1-> (1,4,2,5,3) gen 2-> (1,5,4,3,2) reln-> ()\n",
      "gen 1-> (1,3,5,2,4) gen 2-> (1,2,3,4,5) reln-> ()\n",
      "gen 1-> (1,2,5,4,3) gen 2-> (1,4,2,3,5) reln-> ()\n",
      "gen 1-> (2,4)(3,5) gen 2-> (2,5,4,3) reln-> ()\n",
      "gen 1-> (2,4)(3,5) gen 2-> (2,3,4,5) reln-> ()\n",
      "gen 1-> (2,4)(3,5) gen 2-> (1,2,4,5) reln-> ()\n",
      "gen 1-> (2,4)(3,5) gen 2-> (1,5,3,2) reln-> ()\n",
      "gen 1-> (2,4)(3,5) gen 2-> (1,4,2,3) reln-> ()\n",
      "gen 1-> (2,4)(3,5) gen 2-> (1,3,5,4) reln-> ()\n",
      "gen 1-> (2,4)(3,5) gen 2-> (1,2,4,3) reln-> ()\n",
      "gen 1-> (2,4)(3,5) gen 2-> (1,5,3,4) reln-> ()\n",
      "gen 1-> (2,4)(3,5) gen 2-> (1,4,2,5) reln-> ()\n",
      "gen 1-> (2,4)(3,5) gen 2-> (1,3,5,2) reln-> ()\n",
      "gen 1-> (1,5,2,3,4) gen 2-> (1,3,5,4,2) reln-> ()\n",
      "gen 1-> (1,4,5) gen 2-> (1,5) reln-> ()\n",
      "gen 1-> (1,4,5) gen 2-> (1,5)(2,3) reln-> ()\n",
      "gen 1-> (1,4,5) gen 2-> (4,5) reln-> ()\n",
      "gen 1-> (1,4,5) gen 2-> (1,4) reln-> ()\n",
      "gen 1-> (1,4,5) gen 2-> (1,5,4) reln-> ()\n",
      "gen 1-> (1,4,5) gen 2-> (1,4)(2,3) reln-> ()\n",
      "gen 1-> (1,4,5) gen 2-> (1,5,4)(2,3) reln-> ()\n",
      "gen 1-> (1,4,5) gen 2-> (2,3)(4,5) reln-> ()\n",
      "gen 1-> (1,3,2) gen 2-> (1,2) reln-> ()\n",
      "gen 1-> (1,3,2) gen 2-> (1,3) reln-> ()\n",
      "gen 1-> (1,3,2) gen 2-> (2,3) reln-> ()\n",
      "gen 1-> (1,3,2) gen 2-> (1,2,3) reln-> ()\n",
      "gen 1-> (1,3,2) gen 2-> (1,2)(4,5) reln-> ()\n",
      "gen 1-> (1,3,2) gen 2-> (1,3)(4,5) reln-> ()\n",
      "gen 1-> (1,3,2) gen 2-> (2,3)(4,5) reln-> ()\n",
      "gen 1-> (1,3,2) gen 2-> (1,2,3)(4,5) reln-> ()\n",
      "gen 1-> (1,2,3,4,5) gen 2-> (1,4,2,5,3) reln-> ()\n",
      "gen 1-> (1,2)(3,4) gen 2-> (2,5,4,3) reln-> ()\n",
      "gen 1-> (1,2)(3,4) gen 2-> (1,2,3,5) reln-> ()\n",
      "gen 1-> (1,2)(3,4) gen 2-> (2,5,3,4) reln-> ()\n",
      "gen 1-> (1,2)(3,4) gen 2-> (1,2,4,5) reln-> ()\n",
      "gen 1-> (1,2)(3,4) gen 2-> (1,5,4,3) reln-> ()\n",
      "gen 1-> (1,2)(3,4) gen 2-> (1,4,2,3) reln-> ()\n",
      "gen 1-> (1,2)(3,4) gen 2-> (1,5,3,4) reln-> ()\n",
      "gen 1-> (1,2)(3,4) gen 2-> (1,4,5,2) reln-> ()\n",
      "gen 1-> (1,2)(3,4) gen 2-> (1,3,2,4) reln-> ()\n",
      "gen 1-> (1,2)(3,4) gen 2-> (1,3,5,2) reln-> ()\n",
      "gen 1-> (2,5,4) gen 2-> (1,3)(2,4,5) reln-> ()\n",
      "gen 1-> (2,5,4) gen 2-> (2,4,5) reln-> ()\n",
      "gen 1-> (2,5,4) gen 2-> (4,5) reln-> ()\n",
      "gen 1-> (2,5,4) gen 2-> (1,3)(2,5) reln-> ()\n",
      "gen 1-> (2,5,4) gen 2-> (1,3)(2,4) reln-> ()\n",
      "gen 1-> (2,5,4) gen 2-> (2,5) reln-> ()\n",
      "gen 1-> (2,5,4) gen 2-> (1,3)(4,5) reln-> ()\n",
      "gen 1-> (2,5,4) gen 2-> (2,4) reln-> ()\n",
      "gen 1-> (1,5,3,2,4) gen 2-> (1,2,5,4,3) reln-> ()\n",
      "gen 1-> (1,4,5,2,3) gen 2-> (1,2,4,3,5) reln-> ()\n",
      "gen 1-> (1,3,5) gen 2-> (1,5,3)(2,4) reln-> ()\n",
      "gen 1-> (1,3,5) gen 2-> (2,4)(3,5) reln-> ()\n",
      "gen 1-> (1,3,5) gen 2-> (1,5) reln-> ()\n",
      "gen 1-> (1,3,5) gen 2-> (1,3) reln-> ()\n",
      "gen 1-> (1,3,5) gen 2-> (1,3)(2,4) reln-> ()\n",
      "gen 1-> (1,3,5) gen 2-> (3,5) reln-> ()\n",
      "gen 1-> (1,3,5) gen 2-> (1,5)(2,4) reln-> ()\n",
      "gen 1-> (1,3,5) gen 2-> (1,5,3) reln-> ()\n",
      "gen 1-> (1,2,4,5,3) gen 2-> (1,5,2,3,4) reln-> ()\n",
      "gen 1-> (2,3,5) gen 2-> (1,4)(2,5,3) reln-> ()\n",
      "gen 1-> (2,3,5) gen 2-> (1,4)(2,5) reln-> ()\n",
      "gen 1-> (2,3,5) gen 2-> (2,3) reln-> ()\n",
      "gen 1-> (2,3,5) gen 2-> (2,5,3) reln-> ()\n",
      "gen 1-> (2,3,5) gen 2-> (2,5) reln-> ()\n",
      "gen 1-> (2,3,5) gen 2-> (1,4)(3,5) reln-> ()\n",
      "gen 1-> (2,3,5) gen 2-> (3,5) reln-> ()\n",
      "gen 1-> (2,3,5) gen 2-> (1,4)(2,3) reln-> ()\n",
      "gen 1-> (1,5)(3,4) gen 2-> (2,3,4,5) reln-> ()\n",
      "gen 1-> (1,5)(3,4) gen 2-> (1,5,4,2) reln-> ()\n",
      "gen 1-> (1,5)(3,4) gen 2-> (1,5,3,2) reln-> ()\n",
      "gen 1-> (1,5)(3,4) gen 2-> (2,4,3,5) reln-> ()\n",
      "gen 1-> (1,5)(3,4) gen 2-> (1,2,3,4) reln-> ()\n",
      "gen 1-> (1,5)(3,4) gen 2-> (1,3,5,4) reln-> ()\n",
      "gen 1-> (1,5)(3,4) gen 2-> (1,2,4,3) reln-> ()\n",
      "gen 1-> (1,5)(3,4) gen 2-> (1,3,2,5) reln-> ()\n",
      "gen 1-> (1,5)(3,4) gen 2-> (1,4,2,5) reln-> ()\n",
      "gen 1-> (1,5)(3,4) gen 2-> (1,4,5,3) reln-> ()\n",
      "gen 1-> (1,4,2) gen 2-> (1,2) reln-> ()\n",
      "gen 1-> (1,4,2) gen 2-> (2,4)(3,5) reln-> ()\n",
      "gen 1-> (1,4,2) gen 2-> (1,2,4)(3,5) reln-> ()\n",
      "gen 1-> (1,4,2) gen 2-> (1,4) reln-> ()\n",
      "gen 1-> (1,4,2) gen 2-> (1,4)(3,5) reln-> ()\n",
      "gen 1-> (1,4,2) gen 2-> (1,2)(3,5) reln-> ()\n",
      "gen 1-> (1,4,2) gen 2-> (2,4) reln-> ()\n",
      "gen 1-> (1,4,2) gen 2-> (1,2,4) reln-> ()\n",
      "gen 1-> (1,3,2,5,4) gen 2-> (1,5,3,4,2) reln-> ()\n",
      "gen 1-> (3,5,4) gen 2-> (3,4) reln-> ()\n",
      "gen 1-> (3,5,4) gen 2-> (1,2)(3,4) reln-> ()\n",
      "gen 1-> (3,5,4) gen 2-> (4,5) reln-> ()\n",
      "gen 1-> (3,5,4) gen 2-> (1,2)(4,5) reln-> ()\n",
      "gen 1-> (3,5,4) gen 2-> (3,4,5) reln-> ()\n",
      "gen 1-> (3,5,4) gen 2-> (1,2)(3,4,5) reln-> ()\n",
      "gen 1-> (3,5,4) gen 2-> (3,5) reln-> ()\n",
      "gen 1-> (3,5,4) gen 2-> (1,2)(3,5) reln-> ()\n",
      "gen 1-> (1,5,3,4,2) gen 2-> (1,4,5,2,3) reln-> ()\n",
      "gen 1-> (1,4)(2,5) gen 2-> (2,5,4,3) reln-> ()\n",
      "gen 1-> (1,4)(2,5) gen 2-> (1,5,4,2) reln-> ()\n",
      "gen 1-> (1,4)(2,5) gen 2-> (1,2,4,5) reln-> ()\n",
      "gen 1-> (1,4)(2,5) gen 2-> (2,4,3,5) reln-> ()\n",
      "gen 1-> (1,4)(2,5) gen 2-> (1,2,3,4) reln-> ()\n",
      "gen 1-> (1,4)(2,5) gen 2-> (1,4,2,3) reln-> ()\n",
      "gen 1-> (1,4)(2,5) gen 2-> (1,5,3,4) reln-> ()\n",
      "gen 1-> (1,4)(2,5) gen 2-> (1,3,2,5) reln-> ()\n",
      "gen 1-> (1,4)(2,5) gen 2-> (1,4,5,3) reln-> ()\n",
      "gen 1-> (1,4)(2,5) gen 2-> (1,3,5,2) reln-> ()\n",
      "gen 1-> (1,3,2,4,5) gen 2-> (1,4,3,5,2) reln-> ()\n",
      "gen 1-> (1,2,5,3,4) gen 2-> (1,3,2,4,5) reln-> ()\n",
      "gen 1-> (2,4,5) gen 2-> (1,3)(2,5,4) reln-> ()\n",
      "gen 1-> (2,4,5) gen 2-> (2,5,4) reln-> ()\n",
      "gen 1-> (2,4,5) gen 2-> (4,5) reln-> ()\n",
      "gen 1-> (2,4,5) gen 2-> (1,3)(2,5) reln-> ()\n",
      "gen 1-> (2,4,5) gen 2-> (1,3)(2,4) reln-> ()\n",
      "gen 1-> (2,4,5) gen 2-> (2,5) reln-> ()\n",
      "gen 1-> (2,4,5) gen 2-> (1,3)(4,5) reln-> ()\n",
      "gen 1-> (2,4,5) gen 2-> (2,4) reln-> ()\n",
      "gen 1-> (1,5)(2,3) gen 2-> (2,5,4,3) reln-> ()\n",
      "gen 1-> (1,5)(2,3) gen 2-> (1,3,4,5) reln-> ()\n",
      "gen 1-> (1,5)(2,3) gen 2-> (1,4,3,2) reln-> ()\n",
      "gen 1-> (1,5)(2,3) gen 2-> (1,5,2,4) reln-> ()\n",
      "gen 1-> (1,5)(2,3) gen 2-> (1,2,4,5) reln-> ()\n",
      "gen 1-> (1,5)(2,3) gen 2-> (1,2,5,3) reln-> ()\n",
      "gen 1-> (1,5)(2,3) gen 2-> (1,4,2,3) reln-> ()\n",
      "gen 1-> (1,5)(2,3) gen 2-> (2,3,5,4) reln-> ()\n",
      "gen 1-> (1,5)(2,3) gen 2-> (1,5,3,4) reln-> ()\n",
      "gen 1-> (1,5)(2,3) gen 2-> (1,3,5,2) reln-> ()\n",
      "gen 1-> (1,4,3) gen 2-> (3,4) reln-> ()\n",
      "gen 1-> (1,4,3) gen 2-> (1,4)(2,5) reln-> ()\n",
      "gen 1-> (1,4,3) gen 2-> (1,3) reln-> ()\n",
      "gen 1-> (1,4,3) gen 2-> (1,3,4)(2,5) reln-> ()\n",
      "gen 1-> (1,4,3) gen 2-> (1,3,4) reln-> ()\n",
      "gen 1-> (1,4,3) gen 2-> (1,4) reln-> ()\n",
      "gen 1-> (1,4,3) gen 2-> (1,3)(2,5) reln-> ()\n",
      "gen 1-> (1,4,3) gen 2-> (2,5)(3,4) reln-> ()\n",
      "gen 1-> (1,3,5,4,2) gen 2-> (1,4,3,2,5) reln-> ()\n",
      "gen 1-> (1,2,3) gen 2-> (1,2) reln-> ()\n",
      "gen 1-> (1,2,3) gen 2-> (1,3,2) reln-> ()\n",
      "gen 1-> (1,2,3) gen 2-> (1,3) reln-> ()\n",
      "gen 1-> (1,2,3) gen 2-> (2,3) reln-> ()\n",
      "gen 1-> (1,2,3) gen 2-> (1,2)(4,5) reln-> ()\n",
      "gen 1-> (1,2,3) gen 2-> (1,3,2)(4,5) reln-> ()\n",
      "gen 1-> (1,2,3) gen 2-> (1,3)(4,5) reln-> ()\n",
      "gen 1-> (1,2,3) gen 2-> (2,3)(4,5) reln-> ()\n",
      "gen 1-> (1,2)(4,5) gen 2-> (1,3,4,5) reln-> ()\n",
      "gen 1-> (1,2)(4,5) gen 2-> (2,3,4,5) reln-> ()\n",
      "gen 1-> (1,2)(4,5) gen 2-> (1,4,3,2) reln-> ()\n",
      "gen 1-> (1,2)(4,5) gen 2-> (1,5,2,4) reln-> ()\n",
      "gen 1-> (1,2)(4,5) gen 2-> (1,5,3,2) reln-> ()\n",
      "gen 1-> (1,2)(4,5) gen 2-> (1,2,5,3) reln-> ()\n",
      "gen 1-> (1,2)(4,5) gen 2-> (1,3,5,4) reln-> ()\n",
      "gen 1-> (1,2)(4,5) gen 2-> (1,2,4,3) reln-> ()\n",
      "gen 1-> (1,2)(4,5) gen 2-> (2,3,5,4) reln-> ()\n",
      "gen 1-> (1,2)(4,5) gen 2-> (1,4,2,5) reln-> ()\n",
      "gen 1-> (2,5,3) gen 2-> (1,4)(2,3,5) reln-> ()\n",
      "gen 1-> (2,5,3) gen 2-> (2,3,5) reln-> ()\n",
      "gen 1-> (2,5,3) gen 2-> (1,4)(2,5) reln-> ()\n",
      "gen 1-> (2,5,3) gen 2-> (2,3) reln-> ()\n",
      "gen 1-> (2,5,3) gen 2-> (2,5) reln-> ()\n",
      "gen 1-> (2,5,3) gen 2-> (1,4)(3,5) reln-> ()\n",
      "gen 1-> (2,5,3) gen 2-> (3,5) reln-> ()\n",
      "gen 1-> (2,5,3) gen 2-> (1,4)(2,3) reln-> ()\n",
      "gen 1-> (1,5,2,4,3) gen 2-> (1,4,5,3,2) reln-> ()\n"
     ]
    },
    {
     "name": "stdout",
     "output_type": "stream",
     "text": [
      "gen 1-> (1,4,2,3,5) gen 2-> (1,3,4,5,2) reln-> ()\n",
      "gen 1-> (1,3,4) gen 2-> (3,4) reln-> ()\n",
      "gen 1-> (1,3,4) gen 2-> (1,4)(2,5) reln-> ()\n",
      "gen 1-> (1,3,4) gen 2-> (1,3) reln-> ()\n",
      "gen 1-> (1,3,4) gen 2-> (1,4,3) reln-> ()\n",
      "gen 1-> (1,3,4) gen 2-> (1,4,3)(2,5) reln-> ()\n",
      "gen 1-> (1,3,4) gen 2-> (1,4) reln-> ()\n",
      "gen 1-> (1,3,4) gen 2-> (1,3)(2,5) reln-> ()\n",
      "gen 1-> (1,3,4) gen 2-> (2,5)(3,4) reln-> ()\n",
      "gen 1-> (1,2,4,3,5) gen 2-> (1,3,2,5,4) reln-> ()\n",
      "gen 1-> (2,3,4) gen 2-> (3,4) reln-> ()\n",
      "gen 1-> (2,3,4) gen 2-> (1,5)(3,4) reln-> ()\n",
      "gen 1-> (2,3,4) gen 2-> (1,5)(2,3) reln-> ()\n",
      "gen 1-> (2,3,4) gen 2-> (2,3) reln-> ()\n",
      "gen 1-> (2,3,4) gen 2-> (1,5)(2,4,3) reln-> ()\n",
      "gen 1-> (2,3,4) gen 2-> (2,4,3) reln-> ()\n",
      "gen 1-> (2,3,4) gen 2-> (1,5)(2,4) reln-> ()\n",
      "gen 1-> (2,3,4) gen 2-> (2,4) reln-> ()\n",
      "gen 1-> (1,5,4) gen 2-> (1,4,5) reln-> ()\n",
      "gen 1-> (1,5,4) gen 2-> (1,5) reln-> ()\n",
      "gen 1-> (1,5,4) gen 2-> (1,4,5)(2,3) reln-> ()\n",
      "gen 1-> (1,5,4) gen 2-> (1,5)(2,3) reln-> ()\n",
      "gen 1-> (1,5,4) gen 2-> (4,5) reln-> ()\n",
      "gen 1-> (1,5,4) gen 2-> (1,4) reln-> ()\n",
      "gen 1-> (1,5,4) gen 2-> (1,4)(2,3) reln-> ()\n",
      "gen 1-> (1,5,4) gen 2-> (2,3)(4,5) reln-> ()\n",
      "gen 1-> (1,4,5,3,2) gen 2-> (1,3,4,2,5) reln-> ()\n",
      "gen 1-> (1,3)(2,5) gen 2-> (2,3,4,5) reln-> ()\n",
      "gen 1-> (1,3)(2,5) gen 2-> (1,2,3,5) reln-> ()\n",
      "gen 1-> (1,3)(2,5) gen 2-> (2,5,3,4) reln-> ()\n",
      "gen 1-> (1,3)(2,5) gen 2-> (1,5,4,3) reln-> ()\n",
      "gen 1-> (1,3)(2,5) gen 2-> (1,5,3,2) reln-> ()\n",
      "gen 1-> (1,3)(2,5) gen 2-> (1,3,5,4) reln-> ()\n",
      "gen 1-> (1,3)(2,5) gen 2-> (1,2,4,3) reln-> ()\n",
      "gen 1-> (1,3)(2,5) gen 2-> (1,4,5,2) reln-> ()\n",
      "gen 1-> (1,3)(2,5) gen 2-> (1,4,2,5) reln-> ()\n",
      "gen 1-> (1,3)(2,5) gen 2-> (1,3,2,4) reln-> ()\n",
      "gen 1-> (3,4,5) gen 2-> (3,4) reln-> ()\n",
      "gen 1-> (3,4,5) gen 2-> (1,2)(3,4) reln-> ()\n",
      "gen 1-> (3,4,5) gen 2-> (3,5,4) reln-> ()\n",
      "gen 1-> (3,4,5) gen 2-> (1,2)(3,5,4) reln-> ()\n",
      "gen 1-> (3,4,5) gen 2-> (4,5) reln-> ()\n",
      "gen 1-> (3,4,5) gen 2-> (1,2)(4,5) reln-> ()\n",
      "gen 1-> (3,4,5) gen 2-> (3,5) reln-> ()\n",
      "gen 1-> (3,4,5) gen 2-> (1,2)(3,5) reln-> ()\n",
      "gen 1-> (1,5,2) gen 2-> (1,2) reln-> ()\n",
      "gen 1-> (1,5,2) gen 2-> (1,5) reln-> ()\n",
      "gen 1-> (1,5,2) gen 2-> (1,2)(3,4) reln-> ()\n",
      "gen 1-> (1,5,2) gen 2-> (1,5)(3,4) reln-> ()\n",
      "gen 1-> (1,5,2) gen 2-> (2,5) reln-> ()\n",
      "gen 1-> (1,5,2) gen 2-> (1,2,5) reln-> ()\n",
      "gen 1-> (1,5,2) gen 2-> (2,5)(3,4) reln-> ()\n",
      "gen 1-> (1,5,2) gen 2-> (1,2,5)(3,4) reln-> ()\n",
      "gen 1-> (1,4,3,2,5) gen 2-> (1,2,4,5,3) reln-> ()\n",
      "gen 1-> (1,3)(2,4) gen 2-> (1,3,4,5) reln-> ()\n",
      "gen 1-> (1,3)(2,4) gen 2-> (1,4,3,2) reln-> ()\n",
      "gen 1-> (1,3)(2,4) gen 2-> (1,5,4,2) reln-> ()\n",
      "gen 1-> (1,3)(2,4) gen 2-> (1,5,2,4) reln-> ()\n",
      "gen 1-> (1,3)(2,4) gen 2-> (1,2,5,3) reln-> ()\n",
      "gen 1-> (1,3)(2,4) gen 2-> (2,4,3,5) reln-> ()\n",
      "gen 1-> (1,3)(2,4) gen 2-> (1,2,3,4) reln-> ()\n",
      "gen 1-> (1,3)(2,4) gen 2-> (2,3,5,4) reln-> ()\n",
      "gen 1-> (1,3)(2,4) gen 2-> (1,3,2,5) reln-> ()\n",
      "gen 1-> (1,3)(2,4) gen 2-> (1,4,5,3) reln-> ()\n",
      "gen 1-> (1,2,5) gen 2-> (1,2) reln-> ()\n",
      "gen 1-> (1,2,5) gen 2-> (1,5) reln-> ()\n",
      "gen 1-> (1,2,5) gen 2-> (1,2)(3,4) reln-> ()\n",
      "gen 1-> (1,2,5) gen 2-> (1,5)(3,4) reln-> ()\n",
      "gen 1-> (1,2,5) gen 2-> (1,5,2) reln-> ()\n",
      "gen 1-> (1,2,5) gen 2-> (2,5) reln-> ()\n",
      "gen 1-> (1,2,5) gen 2-> (1,5,2)(3,4) reln-> ()\n",
      "gen 1-> (1,2,5) gen 2-> (2,5)(3,4) reln-> ()\n",
      "gen 1-> (2,4,3) gen 2-> (3,4) reln-> ()\n",
      "gen 1-> (2,4,3) gen 2-> (1,5)(3,4) reln-> ()\n",
      "gen 1-> (2,4,3) gen 2-> (1,5)(2,3) reln-> ()\n",
      "gen 1-> (2,4,3) gen 2-> (2,3) reln-> ()\n",
      "gen 1-> (2,4,3) gen 2-> (1,5)(2,3,4) reln-> ()\n",
      "gen 1-> (2,4,3) gen 2-> (2,3,4) reln-> ()\n",
      "gen 1-> (2,4,3) gen 2-> (1,5)(2,4) reln-> ()\n",
      "gen 1-> (2,4,3) gen 2-> (2,4) reln-> ()\n",
      "gen 1-> (1,5,4,2,3) gen 2-> (1,2,5,3,4) reln-> ()\n",
      "gen 1-> (1,4)(3,5) gen 2-> (1,3,4,5) reln-> ()\n",
      "gen 1-> (1,4)(3,5) gen 2-> (1,4,3,2) reln-> ()\n",
      "gen 1-> (1,4)(3,5) gen 2-> (1,2,3,5) reln-> ()\n",
      "gen 1-> (1,4)(3,5) gen 2-> (2,5,3,4) reln-> ()\n",
      "gen 1-> (1,4)(3,5) gen 2-> (1,5,2,4) reln-> ()\n",
      "gen 1-> (1,4)(3,5) gen 2-> (1,5,4,3) reln-> ()\n",
      "gen 1-> (1,4)(3,5) gen 2-> (1,2,5,3) reln-> ()\n",
      "gen 1-> (1,4)(3,5) gen 2-> (2,3,5,4) reln-> ()\n",
      "gen 1-> (1,4)(3,5) gen 2-> (1,4,5,2) reln-> ()\n",
      "gen 1-> (1,4)(3,5) gen 2-> (1,3,2,4) reln-> ()\n",
      "gen 1-> (1,3,4,5,2) gen 2-> (1,5,3,2,4) reln-> ()\n",
      "gen 1-> (1,2,3,5,4) gen 2-> (1,5,2,4,3) reln-> ()\n",
      "gen 1-> (1,2)(3,5) gen 2-> (1,5,4,2) reln-> ()\n",
      "gen 1-> (1,2)(3,5) gen 2-> (1,2,5,4) reln-> ()\n",
      "gen 1-> (1,2)(3,5) gen 2-> (2,4,5,3) reln-> ()\n",
      "gen 1-> (1,2)(3,5) gen 2-> (1,5,2,3) reln-> ()\n",
      "gen 1-> (1,2)(3,5) gen 2-> (1,4,3,5) reln-> ()\n",
      "gen 1-> (1,2)(3,5) gen 2-> (1,3,4,2) reln-> ()\n",
      "gen 1-> (1,2)(3,5) gen 2-> (2,4,3,5) reln-> ()\n",
      "gen 1-> (1,2)(3,5) gen 2-> (1,2,3,4) reln-> ()\n",
      "gen 1-> (1,2)(3,5) gen 2-> (1,3,2,5) reln-> ()\n",
      "gen 1-> (1,2)(3,5) gen 2-> (1,4,5,3) reln-> ()\n",
      "gen 1-> (2,5)(3,4) gen 2-> (1,3,4,5) reln-> ()\n",
      "gen 1-> (2,5)(3,4) gen 2-> (1,4,3,2) reln-> ()\n",
      "gen 1-> (2,5)(3,4) gen 2-> (1,2,5,4) reln-> ()\n",
      "gen 1-> (2,5)(3,4) gen 2-> (2,4,5,3) reln-> ()\n",
      "gen 1-> (2,5)(3,4) gen 2-> (1,5,2,3) reln-> ()\n",
      "gen 1-> (2,5)(3,4) gen 2-> (1,4,3,5) reln-> ()\n",
      "gen 1-> (2,5)(3,4) gen 2-> (1,3,4,2) reln-> ()\n",
      "gen 1-> (2,5)(3,4) gen 2-> (1,5,2,4) reln-> ()\n",
      "gen 1-> (2,5)(3,4) gen 2-> (1,2,5,3) reln-> ()\n",
      "gen 1-> (2,5)(3,4) gen 2-> (2,3,5,4) reln-> ()\n",
      "gen 1-> (1,5)(2,4) gen 2-> (1,2,5,4) reln-> ()\n",
      "gen 1-> (1,5)(2,4) gen 2-> (2,4,5,3) reln-> ()\n",
      "gen 1-> (1,5)(2,4) gen 2-> (1,5,2,3) reln-> ()\n",
      "gen 1-> (1,5)(2,4) gen 2-> (1,4,3,5) reln-> ()\n",
      "gen 1-> (1,5)(2,4) gen 2-> (1,3,4,2) reln-> ()\n",
      "gen 1-> (1,5)(2,4) gen 2-> (1,2,3,5) reln-> ()\n",
      "gen 1-> (1,5)(2,4) gen 2-> (2,5,3,4) reln-> ()\n",
      "gen 1-> (1,5)(2,4) gen 2-> (1,5,4,3) reln-> ()\n",
      "gen 1-> (1,5)(2,4) gen 2-> (1,4,5,2) reln-> ()\n",
      "gen 1-> (1,5)(2,4) gen 2-> (1,3,2,4) reln-> ()\n",
      "gen 1-> (1,4)(2,3) gen 2-> (2,3,4,5) reln-> ()\n",
      "gen 1-> (1,4)(2,3) gen 2-> (1,2,5,4) reln-> ()\n",
      "gen 1-> (1,4)(2,3) gen 2-> (2,4,5,3) reln-> ()\n",
      "gen 1-> (1,4)(2,3) gen 2-> (1,5,2,3) reln-> ()\n",
      "gen 1-> (1,4)(2,3) gen 2-> (1,4,3,5) reln-> ()\n",
      "gen 1-> (1,4)(2,3) gen 2-> (1,3,4,2) reln-> ()\n",
      "gen 1-> (1,4)(2,3) gen 2-> (1,5,3,2) reln-> ()\n",
      "gen 1-> (1,4)(2,3) gen 2-> (1,3,5,4) reln-> ()\n",
      "gen 1-> (1,4)(2,3) gen 2-> (1,2,4,3) reln-> ()\n",
      "gen 1-> (1,4)(2,3) gen 2-> (1,4,2,5) reln-> ()\n",
      "gen 1-> (1,3)(4,5) gen 2-> (2,5,4,3) reln-> ()\n",
      "gen 1-> (1,3)(4,5) gen 2-> (1,2,5,4) reln-> ()\n",
      "gen 1-> (1,3)(4,5) gen 2-> (2,4,5,3) reln-> ()\n",
      "gen 1-> (1,3)(4,5) gen 2-> (1,5,2,3) reln-> ()\n",
      "gen 1-> (1,3)(4,5) gen 2-> (1,4,3,5) reln-> ()\n",
      "gen 1-> (1,3)(4,5) gen 2-> (1,3,4,2) reln-> ()\n",
      "gen 1-> (1,3)(4,5) gen 2-> (1,2,4,5) reln-> ()\n",
      "gen 1-> (1,3)(4,5) gen 2-> (1,4,2,3) reln-> ()\n",
      "gen 1-> (1,3)(4,5) gen 2-> (1,5,3,4) reln-> ()\n",
      "gen 1-> (1,3)(4,5) gen 2-> (1,3,5,2) reln-> ()\n",
      "gen 1-> (1,2,4) gen 2-> (1,2) reln-> ()\n",
      "gen 1-> (1,2,4) gen 2-> (2,4)(3,5) reln-> ()\n",
      "gen 1-> (1,2,4) gen 2-> (1,4,2) reln-> ()\n",
      "gen 1-> (1,2,4) gen 2-> (1,4,2)(3,5) reln-> ()\n",
      "gen 1-> (1,2,4) gen 2-> (1,4) reln-> ()\n",
      "gen 1-> (1,2,4) gen 2-> (1,4)(3,5) reln-> ()\n",
      "gen 1-> (1,2,4) gen 2-> (1,2)(3,5) reln-> ()\n",
      "gen 1-> (1,2,4) gen 2-> (2,4) reln-> ()\n",
      "gen 1-> (2,3)(4,5) gen 2-> (1,5,4,2) reln-> ()\n",
      "gen 1-> (2,3)(4,5) gen 2-> (1,2,3,5) reln-> ()\n",
      "gen 1-> (2,3)(4,5) gen 2-> (2,5,3,4) reln-> ()\n",
      "gen 1-> (2,3)(4,5) gen 2-> (1,5,4,3) reln-> ()\n",
      "gen 1-> (2,3)(4,5) gen 2-> (2,4,3,5) reln-> ()\n",
      "gen 1-> (2,3)(4,5) gen 2-> (1,2,3,4) reln-> ()\n",
      "gen 1-> (2,3)(4,5) gen 2-> (1,4,5,2) reln-> ()\n",
      "gen 1-> (2,3)(4,5) gen 2-> (1,3,2,5) reln-> ()\n",
      "gen 1-> (2,3)(4,5) gen 2-> (1,3,2,4) reln-> ()\n",
      "gen 1-> (2,3)(4,5) gen 2-> (1,4,5,3) reln-> ()\n",
      "gen 1-> (1,5,3) gen 2-> (2,4)(3,5) reln-> ()\n",
      "gen 1-> (1,5,3) gen 2-> (1,5) reln-> ()\n",
      "gen 1-> (1,5,3) gen 2-> (1,3,5) reln-> ()\n",
      "gen 1-> (1,5,3) gen 2-> (1,3) reln-> ()\n",
      "gen 1-> (1,5,3) gen 2-> (1,3,5)(2,4) reln-> ()\n",
      "gen 1-> (1,5,3) gen 2-> (1,3)(2,4) reln-> ()\n",
      "gen 1-> (1,5,3) gen 2-> (3,5) reln-> ()\n",
      "gen 1-> (1,5,3) gen 2-> (1,5)(2,4) reln-> ()\n",
      "gen 1-> (1,4,3,5,2) gen 2-> (1,5,4,2,3) reln-> ()\n",
      "gen 1-> (1,3,4,2,5) gen 2-> (1,2,3,5,4) reln-> ()\n"
     ]
    }
   ],
   "source": [
    "find_homs(5,F,F([-1,2,1,-2,-1,2,2]))"
   ]
  },
  {
   "cell_type": "code",
   "execution_count": null,
   "id": "9395e2fa",
   "metadata": {},
   "outputs": [],
   "source": []
  }
 ],
 "metadata": {
  "kernelspec": {
   "display_name": "SageMath 9.4",
   "language": "sage",
   "name": "sagemath-9.4"
  },
  "language_info": {
   "codemirror_mode": {
    "name": "ipython",
    "version": 3
   },
   "file_extension": ".py",
   "mimetype": "text/x-python",
   "name": "python",
   "nbconvert_exporter": "python",
   "pygments_lexer": "ipython3",
   "version": "3.9.5"
  }
 },
 "nbformat": 4,
 "nbformat_minor": 5
}
