{
 "cells": [
  {
   "cell_type": "code",
   "execution_count": 1,
   "id": "26851426",
   "metadata": {},
   "outputs": [],
   "source": [
    "load(\"src/bridge_trisections.sage\")"
   ]
  },
  {
   "cell_type": "code",
   "execution_count": 3,
   "id": "27f249f0",
   "metadata": {},
   "outputs": [
    {
     "name": "stdout",
     "output_type": "stream",
     "text": [
      "p= 3\n",
      "Image of x_0: (1,2)\n",
      "Image of x_2: (2,3)\n",
      "Trisection Parameters of branched cover: [3, [0, 0, 1]]\n",
      "pi_1(Branched cover): Finitely presented group <  |  >\n",
      "pi_1(Unbranched cover): Finitely presented group < x1, x20 | x20^-1*x1^-1*x20^-2*x1^-1*x20*x1 >\n",
      "\n",
      "p= 5\n",
      "Image of x_0: (1,3,4,2)\n",
      "Image of x_2: (2,4,5,3)\n",
      "Trisection Parameters of branched cover: [11, [2, 2, 5]]\n",
      "pi_1(Branched cover): Finitely presented group <  |  >\n",
      "pi_1(Unbranched cover): Finitely presented group < x2, x12 | x2^-1*x12*x2*x12^-1*x2^-1*x12*x2^-1 >\n",
      "\n",
      "p= 7\n",
      "Image of x_0: (1,4,2)(3,5,6)\n",
      "Image of x_2: (2,5,3)(4,6,7)\n",
      "Trisection Parameters of branched cover: [14, [2, 2, 6]]\n",
      "pi_1(Branched cover): Finitely presented group <  |  >\n",
      "pi_1(Unbranched cover): Finitely presented group < x2, x23 | x2*x23*x2*x23^-1*x2^-1*x23*x2^2 >\n",
      "\n",
      "p= 9\n",
      "Image of x_0: (1,5,7,8,4,2)(3,6)\n",
      "Image of x_2: (2,6,8,9,5,3)(4,7)\n",
      "Trisection Parameters of branched cover: [22, [4, 4, 10]]\n",
      "pi_1(Branched cover): Finitely presented group <  |  >\n",
      "pi_1(Unbranched cover): Finitely presented group < x43, x80 | x80^2*x43*x80*x43^-1*x80^-1*x43 >\n",
      "\n",
      "p= 11\n",
      "Image of x_0: (1,6,3,7,9,10,5,8,4,2)\n",
      "Image of x_2: (2,7,4,8,10,11,6,9,5,3)\n",
      "Trisection Parameters of branched cover: [35, [8, 8, 17]]\n",
      "pi_1(Branched cover): Finitely presented group <  |  >\n",
      "pi_1(Unbranched cover): Finitely presented group < x2, x72 | x2^2*x72^-1*x2*x72*x2^-1*x72^-1 >\n",
      "\n",
      "p= 13\n",
      "Image of x_0: (1,7,10,5,9,11,12,6,3,8,4,2)\n",
      "Image of x_2: (2,8,11,6,10,12,13,7,4,9,5,3)\n",
      "Trisection Parameters of branched cover: [43, [10, 10, 21]]\n",
      "pi_1(Branched cover): Finitely presented group <  |  >\n",
      "pi_1(Unbranched cover): Finitely presented group < x52, x92 | x92^-1*x52^-1*x92^-1*x52*x92*(x52^-1*x92^-2)^2*x52^-1 >\n",
      "\n",
      "p= 15\n",
      "Image of x_0: (1,8,4,2)(3,9,12,6)(5,10)(7,11,13,14)\n",
      "Image of x_2: (2,9,5,3)(4,10,13,7)(6,11)(8,12,14,15)\n",
      "Trisection Parameters of branched cover: [36, [6, 6, 16]]\n",
      "pi_1(Branched cover): Finitely presented group <  |  >\n",
      "pi_1(Unbranched cover): Finitely presented group < x2, x53 | x53^-1*x2^-1*x53*x2^2*x53*x2 >\n",
      "\n",
      "p= 17\n",
      "Image of x_0: (1,9,13,15,16,8,4,2)(3,10,5,11,14,7,12,6)\n",
      "Image of x_2: (2,10,14,16,17,9,5,3)(4,11,6,12,15,8,13,7)\n",
      "Trisection Parameters of branched cover: [54, [12, 12, 26]]\n",
      "pi_1(Branched cover): Finitely presented group <  |  >\n",
      "pi_1(Unbranched cover): Finitely presented group < x23, x31 | (x23*x31^-1)^2*x23^-1*x31*x23*x31^-2*x23*x31^-1 >\n",
      "\n",
      "p= 19\n",
      "Image of x_0: (1,10,5,12,6,3,11,15,17,18,9,14,7,13,16,8,4,2)\n",
      "Image of x_2: (2,11,6,13,7,4,12,16,18,19,10,15,8,14,17,9,5,3)\n",
      "Trisection Parameters of branched cover: [67, [16, 16, 33]]\n",
      "pi_1(Branched cover): Finitely presented group <  |  >\n",
      "pi_1(Unbranched cover): Finitely presented group < x51, x80 | x51^-1*x80^-1*x51^-1*x80*x51*x80^-1*x51^-2 >\n",
      "\n",
      "p= 21\n",
      "Image of x_0: (1,11,16,8,4,2)(3,12,6)(5,13,17,19,20,10)(7,14)(9,15,18)\n",
      "Image of x_2: (2,12,17,9,5,3)(4,13,7)(6,14,18,20,21,11)(8,15)(10,16,19)\n",
      "Trisection Parameters of branched cover: [55, [10, 10, 25]]\n",
      "pi_1(Branched cover): Finitely presented group <  |  >\n",
      "pi_1(Unbranched cover): Finitely presented group < x60, x93 | x60^-1*x93^2*x60^-1*x93*x60*x93^-1 >\n",
      "\n"
     ]
    }
   ],
   "source": [
    "#For odd p, display trisection parameters, pi_1 of branched and unbranched covers\n",
    "\n",
    "for k in range(10):\n",
    "    p=2*k+3\n",
    "    stevedore_F = FreeGroup(10)\n",
    "    stevedore_S = SymmetricGroup(p)\n",
    "    stevedore_images_of_generators=double_6_1_images_of_generators(p)\n",
    "    \n",
    "    stevedore_tangles_dict={'red':double_6_1.red_tangle, 'blu':double_6_1.blu_tangle, 'gre':double_6_1.gre_tangle\n",
    "}\n",
    "    stevedore_colored_tri_plane=Colored_bridge_trisection(stevedore_F,stevedore_S,stevedore_tangles_dict,stevedore_images_of_generators)\n",
    "    print('p=',p)\n",
    "    print('Image of x_0:', stevedore_images_of_generators[0])\n",
    "    print('Image of x_2:', stevedore_images_of_generators[2])\n",
    "    print('Trisection Parameters of branched cover:', stevedore_colored_tri_plane.trisection_parameters_branched_cover())\n",
    "    print('pi_1(Branched cover):', stevedore_colored_tri_plane.pi_1_branched_cover().simplification_isomorphism().codomain())\n",
    "    print('pi_1(Unbranched cover):', stevedore_colored_tri_plane.pi_1_unbranched_cover().simplification_isomorphism().codomain())\n",
    "    print()"
   ]
  },
  {
   "cell_type": "code",
   "execution_count": 2,
   "id": "134185e4",
   "metadata": {},
   "outputs": [],
   "source": [
    "p=3\n",
    "stevedore_F = FreeGroup(10)\n",
    "stevedore_S = SymmetricGroup(p)\n",
    "stevedore_images_of_generators=double_6_1_images_of_generators(p)\n",
    "stevedore_tangles_dict={'red':double_6_1.red_tangle, 'blu':double_6_1.blu_tangle, 'gre':double_6_1.gre_tangle\n",
    "}\n",
    "stevedore_colored_tri_plane=Colored_bridge_trisection(stevedore_F,stevedore_S,stevedore_tangles_dict,stevedore_images_of_generators)"
   ]
  },
  {
   "cell_type": "code",
   "execution_count": 3,
   "id": "aac744d3",
   "metadata": {},
   "outputs": [
    {
     "data": {
      "text/plain": [
       "[3, [0, 0, 1]]"
      ]
     },
     "execution_count": 3,
     "metadata": {},
     "output_type": "execute_result"
    }
   ],
   "source": [
    "stevedore_colored_tri_plane.trisection_parameters_branched_cover()\n"
   ]
  },
  {
   "cell_type": "code",
   "execution_count": 4,
   "id": "2c45a195",
   "metadata": {},
   "outputs": [
    {
     "data": {
      "text/plain": [
       "Finitely presented group <  |  >"
      ]
     },
     "execution_count": 4,
     "metadata": {},
     "output_type": "execute_result"
    }
   ],
   "source": [
    "stevedore_colored_tri_plane.pi_1_branched_cover().simplification_isomorphism().codomain()"
   ]
  },
  {
   "cell_type": "code",
   "execution_count": 5,
   "id": "5f768f4d",
   "metadata": {},
   "outputs": [
    {
     "data": {
      "text/plain": [
       "Finitely presented group < x1, x20 | x20^-1*x1^-1*x20^-2*x1^-1*x20*x1 >"
      ]
     },
     "execution_count": 5,
     "metadata": {},
     "output_type": "execute_result"
    }
   ],
   "source": [
    "stevedore_colored_tri_plane.pi_1_unbranched_cover().simplification_isomorphism().codomain()"
   ]
  },
  {
   "cell_type": "code",
   "execution_count": 6,
   "id": "60b9f01b",
   "metadata": {},
   "outputs": [],
   "source": [
    "stevedore_surface=stevedore_colored_tri_plane.surface\n",
    "collapse_hom=stevedore_surface.claw_collapse_hom()\n",
    "covering_hom=stevedore_surface.covering_hom() \n"
   ]
  },
  {
   "cell_type": "code",
   "execution_count": 7,
   "id": "15b40c90",
   "metadata": {},
   "outputs": [
    {
     "name": "stdout",
     "output_type": "stream",
     "text": [
      "x0 --> 1\n",
      "x1 --> x1*x0^-1\n",
      "x2 --> x2\n",
      "x3 --> x3\n",
      "x4 --> x4\n",
      "x5 --> x5\n",
      "x6 --> x6\n",
      "x7 --> x7\n",
      "x8 --> x8\n",
      "x9 --> x9\n",
      "x10 --> x0^2\n",
      "x11 --> x0*x1\n",
      "x12 --> 1\n",
      "x13 --> x0*x3*x2^-1*x0^-1\n",
      "x14 --> x0*x4*x2^-1*x0^-1\n",
      "x15 --> x0*x5*x2^-1*x0^-1\n",
      "x16 --> x0*x6*x2^-1*x0^-1\n",
      "x17 --> x0*x7*x2^-1*x0^-1\n",
      "x18 --> x0*x8*x2^-1*x0^-1\n",
      "x19 --> x0*x9*x2^-1*x0^-1\n",
      "x20 --> x0*x2*x0*x2^-1*x0^-1\n",
      "x21 --> x0*x2*x1*x2^-1*x0^-1\n",
      "x22 --> x0*x2^2*x0^-1\n",
      "x23 --> x0*x2*x3*x0^-1\n",
      "x24 --> x0*x2*x4*x0^-1\n",
      "x25 --> x0*x2*x5*x0^-1\n",
      "x26 --> x0*x2*x6*x0^-1\n",
      "x27 --> x0*x2*x7*x0^-1\n",
      "x28 --> x0*x2*x8*x0^-1\n",
      "x29 --> x0*x2*x9*x0^-1\n"
     ]
    }
   ],
   "source": [
    "#Map on pi_1(unbranched cover of core surface) induced by covering map\n",
    "for i in range(rank(stevedore_surface.coverF)):\n",
    "    print(stevedore_surface.pi_1_unbranched()([i+1]),'-->',covering_hom.image(stevedore_surface.pi_1_unbranched()([i+1])))"
   ]
  },
  {
   "cell_type": "code",
   "execution_count": 8,
   "id": "ca84e786",
   "metadata": {},
   "outputs": [
    {
     "data": {
      "text/plain": [
       "Group([ <identity ...>, <identity ...>, <identity ...> ])"
      ]
     },
     "execution_count": 8,
     "metadata": {},
     "output_type": "execute_result"
    }
   ],
   "source": [
    "#Check that the claw relations are in the kernel of the collapse homomorphism\n",
    "collapse_hom.image(stevedore_surface.pi_1_unbranched().subgroup(stevedore_surface.claw_relations_reindex()))"
   ]
  },
  {
   "cell_type": "code",
   "execution_count": null,
   "id": "3259f115",
   "metadata": {},
   "outputs": [],
   "source": []
  }
 ],
 "metadata": {
  "kernelspec": {
   "display_name": "SageMath 9.5",
   "language": "sage",
   "name": "sagemath-9.5"
  },
  "language_info": {
   "codemirror_mode": {
    "name": "ipython",
    "version": 3
   },
   "file_extension": ".py",
   "mimetype": "text/x-python",
   "name": "python",
   "nbconvert_exporter": "python",
   "pygments_lexer": "ipython3",
   "version": "3.9.9"
  }
 },
 "nbformat": 4,
 "nbformat_minor": 5
}
