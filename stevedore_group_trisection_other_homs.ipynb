{
 "cells": [
  {
   "cell_type": "code",
   "execution_count": 25,
   "metadata": {},
   "outputs": [],
   "source": [
    "load(\"src/bridge_trisections.sage\")"
   ]
  },
  {
   "cell_type": "code",
   "execution_count": 5,
   "metadata": {},
   "outputs": [],
   "source": [
    "#load(\"data/stevedore_disk_double.sage\")"
   ]
  },
  {
   "cell_type": "code",
   "execution_count": 19,
   "metadata": {},
   "outputs": [
    {
     "data": {
      "text/plain": [
       "{'bridge_number': 5, 'F': Free Group on generators {x0, x1, x2, x3, x4, x5, x6, x7, x8, x9}, 'red_tangle': {'bridge_number': 5, 'F': Free Group on generators {x0, x1, x2, x3, x4, x5, x6, x7, x8, x9}, 'generators_bottom_list': [x0, x1, x2, x3, x4, x5, x6, x7, x8, x9], 'generators_temp_list': [x0, x1*x2*x3*x1*x3^-1*x2^-1*x1^-1, x1*x2*x3*x1^-1*x6*x1*x3^-1*x2*x3*x1^-1*x6^-1*x1*x3^-1*x2^-1*x1^-1, x1*x2*x3*x1^-1*x6*x1*x3^-1*x2^-1*x3*x2*x3*x1^-1*x6^-1*x1*x3^-1*x2^-1*x1^-1, x4, x5, x1*x2*x3*x1^-1*x6*x1*x3^-1*x2^-1*x1^-1, x7, x8, x9], 'braid_word': [{'first_index': 1, 'second_index': 2, 'sign': 1}, {'first_index': 2, 'second_index': 3, 'sign': 1}, {'first_index': 2, 'second_index': 3, 'sign': 1}, {'first_index': 1, 'second_index': 2, 'sign': 1}, {'first_index': 3, 'second_index': 6, 'sign': 1}, {'first_index': 2, 'second_index': 3, 'sign': 1}, {'first_index': 2, 'second_index': 3, 'sign': 1}, {'first_index': 3, 'second_index': 6, 'sign': 1}], 'strand_matching': [(0, 3), (1, 2), (4, 5), (6, 9), (7, 8)]}, 'blu_tangle': {'bridge_number': 5, 'F': Free Group on generators {x0, x1, x2, x3, x4, x5, x6, x7, x8, x9}, 'generators_bottom_list': [x0, x1, x2, x3, x4, x5, x6, x7, x8, x9], 'generators_temp_list': [x0, x1, x2, x3, x4, x5, x6, x7, x8, x9], 'braid_word': [], 'strand_matching': [(0, 1), (2, 3), (4, 7), (5, 6), (8, 9)]}, 'gre_tangle': {'bridge_number': 5, 'F': Free Group on generators {x0, x1, x2, x3, x4, x5, x6, x7, x8, x9}, 'generators_bottom_list': [x0, x1, x2, x3, x4, x5, x6, x7, x8, x9], 'generators_temp_list': [x0, x1, x2, x3, x4, x5, x6, x7, x8, x9], 'braid_word': [], 'strand_matching': [(0, 1), (2, 5), (3, 4), (6, 7), (8, 9)]}}"
      ]
     },
     "execution_count": 19,
     "metadata": {},
     "output_type": "execute_result"
    }
   ],
   "source": [
    "double_6_1"
   ]
  },
  {
   "cell_type": "code",
   "execution_count": 20,
   "metadata": {},
   "outputs": [],
   "source": [
    "p=13"
   ]
  },
  {
   "cell_type": "code",
   "execution_count": 21,
   "metadata": {},
   "outputs": [],
   "source": [
    "stevedore_F = FreeGroup(10)\n",
    "stevedore_S = SymmetricGroup(p)\n",
    "stevedore_cover_F=FreeGroup(10*p)"
   ]
  },
  {
   "cell_type": "code",
   "execution_count": 22,
   "metadata": {},
   "outputs": [],
   "source": [
    "[stevedore_coloring_red,stevedore_coloring_blu,stevedore_coloring_gre]=double_6_1_colored_tangles(p)"
   ]
  },
  {
   "cell_type": "code",
   "execution_count": 23,
   "metadata": {},
   "outputs": [],
   "source": [
    "stevedore_surface=double_6_1_colored_surface(p)"
   ]
  },
  {
   "cell_type": "code",
   "execution_count": 24,
   "metadata": {},
   "outputs": [
    {
     "data": {
      "text/plain": [
       "Finitely presented group < x14, x15, x16, x17, x18, x19, x20, x21, x22, x23, x24, x25, x26, x27, x28, x29, x31, x32, x33, x34, x35, x36, x37, x38, x39, x40, x42, x43, x44, x45, x46, x47, x48, x49, x51, x52, x53, x54, x55, x56, x57, x58, x59, x60, x61, x62, x64, x65, x66, x67, x68, x69, x71, x73, x74, x75, x76, x77, x78, x80, x82, x83, x84, x85, x86, x87, x88, x91, x92, x93, x94, x95, x96, x97, x98, x103, x104, x105, x106, x107, x112, x113, x114, x115, x116, x117 | x19*x29*x49*x40^-1*x32^-1*x83^-1*x34^-1*x85^-1*x36^-1*x87^-1*x38^-1*x39*x69*x112^-1*x113*x93*x53*x103*x73*x23*x43*x83*x33*x114^-1*x115*x95*x55*x105*x75*x15*x25*x45*x85*x35*x65*x116^-1*x117*x97*x57*x107*x77*x17*x27*x47*x87*x37*x67*x69^-1*x61^-1*x62*x32*x82*x42*x22*x52*x92*x112*x64*x34*x84*x44*x24*x14*x74*x104*x54*x94*x114*x65^-1*x66*x36*x86*x46*x26*x16*x76*x106*x56*x96*x116*x67^-1*x68*x38*x88*x48*x28*x18*x78*x59^-1*x21^-1*x42^-1*x23^-1*x44^-1*x25^-1*x46^-1*x27^-1*x48^-1*x29^-1*x20*x31^-1*x62^-1*x33^-1*x64^-1*x35^-1*x66^-1*x37^-1*x68^-1*x39^-1*x22^-1*x24^-1*x15^-1*x26^-1*x17^-1*x28^-1*x19^-1*x60*x82^-1*x43^-1*x84^-1*x45^-1*x86^-1*x47^-1*x88^-1*x49^-1*x40*x80*x51^-1*x53^-1*x104^-1*x55^-1*x106^-1*x57^-1*x58*x98*x91*x61*x31*x71*x21*x51*x92^-1*x113^-1*x94^-1*x115^-1*x96^-1*x117^-1*x98^-1*x60^-1*x91^-1*x52^-1*x93^-1*x54^-1*x95^-1*x56^-1*x97^-1*x58^-1*x59*x80^-1*x103^-1*x74^-1*x105^-1*x76^-1*x107^-1*x78^-1*x20^-1*x71^-1*x73^-1*x14^-1*x75^-1*x16^-1*x77^-1*x18^-1 >"
      ]
     },
     "execution_count": 24,
     "metadata": {},
     "output_type": "execute_result"
    }
   ],
   "source": [
    "surface_pi_1_branched=stevedore_surface.pi_1_branched()\n",
    "surface_pi_1_branched.simplification_isomorphism().codomain()"
   ]
  },
  {
   "cell_type": "code",
   "execution_count": 25,
   "metadata": {},
   "outputs": [
    {
     "data": {
      "text/plain": [
       "Finitely presented group < x2, x3, x4, x5, x6, x7, x8, x9, x14, x15, x16, x17, x18, x19, x20, x21, x22, x23, x24, x25, x26, x27, x28, x29, x31, x32, x33, x34, x35, x36, x37, x38, x39, x40, x42, x43, x44, x45, x46, x47, x48, x49, x51, x52, x53, x54, x55, x56, x57, x58, x59, x60, x61, x62, x64, x65, x66, x67, x68, x69, x71, x73, x74, x75, x76, x77, x78, x80, x82, x83, x84, x85, x86, x87, x88, x91, x92, x93, x94, x95, x96, x97, x98, x103, x104, x105, x106, x107, x108, x111, x112, x113, x114, x115, x116, x117, x118, x120, x121, x122, x123, x124, x125, x126, x127 |  >"
      ]
     },
     "execution_count": 25,
     "metadata": {},
     "output_type": "execute_result"
    }
   ],
   "source": [
    "surface_pi_1_unbranched=stevedore_surface.pi_1_unbranched()\n",
    "surface_pi_1_unbranched.simplification_isomorphism().codomain()"
   ]
  },
  {
   "cell_type": "code",
   "execution_count": 26,
   "metadata": {},
   "outputs": [],
   "source": [
    "collapse_hom=stevedore_surface.claw_collapse_hom()\n",
    "covering_hom=stevedore_surface.covering_hom() \n"
   ]
  },
  {
   "cell_type": "code",
   "execution_count": 11,
   "metadata": {},
   "outputs": [
    {
     "data": {
      "text/plain": [
       "Finitely presented group < x14, x15, x17, x18, x21, x22, x25, x26, x27, x29, x32, x33, x34, x35, x37, x38, x40, x43, x45, x46, x47, x51, x52, x53, x54, x55, x56, x57, x58, x62, x65, x67, x71, x73, x74, x76, x78, x83, x92, x94, x98, x111, x112 |  >"
      ]
     },
     "execution_count": 11,
     "metadata": {},
     "output_type": "execute_result"
    }
   ],
   "source": [
    "red_handlebody_group_branched=stevedore_coloring_red.handlebody_group()\n",
    "red_handlebody_group_branched.simplification_isomorphism().codomain()"
   ]
  },
  {
   "cell_type": "code",
   "execution_count": 12,
   "metadata": {},
   "outputs": [
    {
     "data": {
      "text/plain": [
       "Finitely presented group < x2, x3, x4, x6, x7, x10, x14, x15, x16, x17, x18, x21, x22, x23, x25, x26, x27, x29, x31, x33, x34, x35, x37, x38, x40, x42, x43, x45, x47, x49, x51, x53, x54, x55, x57, x58, x59, x65, x67, x69, x70, x73, x74, x78, x80, x89, x90, x94, x98, x106, x114, x118, x126 |  >"
      ]
     },
     "execution_count": 12,
     "metadata": {},
     "output_type": "execute_result"
    }
   ],
   "source": [
    "red_handlebody_group_unbranched=stevedore_coloring_red.handlebody_group_unbranched()\n",
    "red_handlebody_group_unbranched.simplification_isomorphism().codomain()"
   ]
  },
  {
   "cell_type": "code",
   "execution_count": 13,
   "metadata": {},
   "outputs": [
    {
     "data": {
      "text/plain": [
       "Finitely presented group < x14, x15, x17, x18, x21, x22, x25, x26, x27, x29, x32, x33, x34, x35, x37, x38, x40, x43, x45, x46, x47, x51, x52, x53, x54, x55, x56, x57, x58, x62, x65, x67, x71, x73, x74, x76, x78, x83, x92, x94, x98, x111, x112 |  >"
      ]
     },
     "execution_count": 13,
     "metadata": {},
     "output_type": "execute_result"
    }
   ],
   "source": [
    "blu_handlebody_group_branched=stevedore_coloring_red.handlebody_group()\n",
    "blu_handlebody_group_branched.simplification_isomorphism().codomain()"
   ]
  },
  {
   "cell_type": "code",
   "execution_count": 14,
   "metadata": {},
   "outputs": [
    {
     "data": {
      "text/plain": [
       "Finitely presented group < x14, x15, x17, x18, x21, x22, x25, x26, x27, x29, x32, x33, x34, x35, x37, x38, x40, x43, x45, x46, x47, x51, x52, x53, x54, x55, x56, x57, x58, x62, x65, x67, x71, x73, x74, x76, x78, x83, x92, x94, x98, x111, x112 |  >"
      ]
     },
     "execution_count": 14,
     "metadata": {},
     "output_type": "execute_result"
    }
   ],
   "source": [
    "gre_handlebody_group_branched=stevedore_coloring_red.handlebody_group()\n",
    "gre_handlebody_group_branched.simplification_isomorphism().codomain()"
   ]
  },
  {
   "cell_type": "code",
   "execution_count": 15,
   "metadata": {},
   "outputs": [
    {
     "data": {
      "text/plain": [
       "Finitely presented group <  |  >"
      ]
     },
     "execution_count": 15,
     "metadata": {},
     "output_type": "execute_result"
    }
   ],
   "source": [
    "pi_1_cover_branched=stevedore_cover_F.quotient(stevedore_coloring_red.all_cover_relations()+stevedore_coloring_blu.all_cover_relations()+stevedore_coloring_gre.all_cover_relations())\n",
    "pi_1_cover_branched.simplification_isomorphism().codomain()"
   ]
  },
  {
   "cell_type": "code",
   "execution_count": 16,
   "metadata": {},
   "outputs": [
    {
     "data": {
      "text/plain": [
       "Finitely presented group < x52, x92 | x92^-1*x52^-1*x92^-1*x52*x92*(x52^-1*x92^-2)^2*x52^-1 >"
      ]
     },
     "execution_count": 16,
     "metadata": {},
     "output_type": "execute_result"
    }
   ],
   "source": [
    "pi_1_cover_unbranched=stevedore_cover_F.quotient(stevedore_coloring_red.surface.claw_relations_reindex()+stevedore_coloring_red.lift_relations_reindex()+stevedore_coloring_blu.surface.claw_relations_reindex()+stevedore_coloring_blu.lift_relations_reindex()+stevedore_coloring_gre.surface.claw_relations_reindex()+stevedore_coloring_gre.lift_relations_reindex())\n",
    "pi_1_cover_unbranched.simplification_isomorphism().codomain()"
   ]
  }
 ],
 "metadata": {
  "kernelspec": {
   "display_name": "SageMath 9.4",
   "language": "sage",
   "name": "sagemath-9.4"
  },
  "language_info": {
   "codemirror_mode": {
    "name": "ipython",
    "version": 3
   },
   "file_extension": ".py",
   "mimetype": "text/x-python",
   "name": "python",
   "nbconvert_exporter": "python",
   "pygments_lexer": "ipython3",
   "version": "3.9.5"
  }
 },
 "nbformat": 4,
 "nbformat_minor": 5
}
