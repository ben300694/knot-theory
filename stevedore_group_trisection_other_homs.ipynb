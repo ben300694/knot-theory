{
 "cells": [
  {
   "cell_type": "code",
   "execution_count": 25,
   "metadata": {},
   "outputs": [],
   "source": [
    "load(\"src/bridge_trisections.sage\")"
   ]
  },
  {
   "cell_type": "code",
   "execution_count": 5,
   "metadata": {},
   "outputs": [],
   "source": [
    "#load(\"data/stevedore_disk_double.sage\")"
   ]
  },
  {
   "cell_type": "code",
   "execution_count": 6,
   "metadata": {},
   "outputs": [
    {
     "data": {
      "text/plain": [
       "{'bridge_number': 5, 'F': Free Group on generators {x0, x1, x2, x3, x4, x5, x6, x7, x8, x9}, 'red_tangle': {'bridge_number': 5, 'F': Free Group on generators {x0, x1, x2, x3, x4, x5, x6, x7, x8, x9}, 'generators_bottom_list': [x0, x1, x2, x3, x4, x5, x6, x7, x8, x9], 'generators_temp_list': [x0, x1*x2*x3*x1*x3^-1*x2^-1*x1^-1, x1*x2*x3*x1^-1*x6*x1*x3^-1*x2*x3*x1^-1*x6^-1*x1*x3^-1*x2^-1*x1^-1, x1*x2*x3*x1^-1*x6*x1*x3^-1*x2^-1*x3*x2*x3*x1^-1*x6^-1*x1*x3^-1*x2^-1*x1^-1, x4, x5, x1*x2*x3*x1^-1*x6*x1*x3^-1*x2^-1*x1^-1, x7, x8, x9], 'braid_word': [{'first_index': 1, 'second_index': 2, 'sign': 1}, {'first_index': 2, 'second_index': 3, 'sign': 1}, {'first_index': 2, 'second_index': 3, 'sign': 1}, {'first_index': 1, 'second_index': 2, 'sign': 1}, {'first_index': 3, 'second_index': 6, 'sign': 1}, {'first_index': 2, 'second_index': 3, 'sign': 1}, {'first_index': 2, 'second_index': 3, 'sign': 1}, {'first_index': 3, 'second_index': 6, 'sign': 1}], 'strand_matching': [(0, 3), (1, 2), (4, 5), (6, 9), (7, 8)]}, 'blu_tangle': {'bridge_number': 5, 'F': Free Group on generators {x0, x1, x2, x3, x4, x5, x6, x7, x8, x9}, 'generators_bottom_list': [x0, x1, x2, x3, x4, x5, x6, x7, x8, x9], 'generators_temp_list': [x0, x1, x2, x3, x4, x5, x6, x7, x8, x9], 'braid_word': [], 'strand_matching': [(0, 1), (2, 3), (4, 7), (5, 6), (8, 9)]}, 'gre_tangle': {'bridge_number': 5, 'F': Free Group on generators {x0, x1, x2, x3, x4, x5, x6, x7, x8, x9}, 'generators_bottom_list': [x0, x1, x2, x3, x4, x5, x6, x7, x8, x9], 'generators_temp_list': [x0, x1, x2, x3, x4, x5, x6, x7, x8, x9], 'braid_word': [], 'strand_matching': [(0, 1), (2, 5), (3, 4), (6, 7), (8, 9)]}}"
      ]
     },
     "execution_count": 6,
     "metadata": {},
     "output_type": "execute_result"
    }
   ],
   "source": [
    "double_6_1"
   ]
  },
  {
   "cell_type": "code",
   "execution_count": 37,
   "metadata": {},
   "outputs": [],
   "source": [
    "p=13"
   ]
  },
  {
   "cell_type": "code",
   "execution_count": 38,
   "metadata": {},
   "outputs": [],
   "source": [
    "stevedore_F = FreeGroup(10)\n",
    "stevedore_S = SymmetricGroup(p)\n",
    "stevedore_cover_F=FreeGroup(10*p)"
   ]
  },
  {
   "cell_type": "code",
   "execution_count": 39,
   "metadata": {},
   "outputs": [],
   "source": [
    "[stevedore_coloring_red,stevedore_coloring_blu,stevedore_coloring_gre]=double_6_1_colored_tangles(p)"
   ]
  },
  {
   "cell_type": "code",
   "execution_count": 26,
   "metadata": {},
   "outputs": [],
   "source": [
    "stevedore_surface=double_6_1_colored_surface(p)"
   ]
  },
  {
   "cell_type": "code",
   "execution_count": 21,
   "metadata": {},
   "outputs": [
    {
     "data": {
      "text/plain": [
       "Finitely presented group < x12, x13, x14, x15, x16, x17, x18, x19, x20, x21, x22, x24, x25, x26, x27, x29, x32, x33, x34, x35, x36, x37 | x32^-1*x33*x13*x34^-1*x35*x15*x25*x36^-1*x37*x17*x27*x29^-1*x21^-1*x22*x12*x32*x24*x14*x34*x25^-1*x26*x16*x36*x27^-1*x19^-1*x20*x22^-1*x13^-1*x24^-1*x15^-1*x26^-1*x17^-1*x18*x20^-1*x21*x12^-1*x33^-1*x14^-1*x35^-1*x16^-1*x37^-1*x18^-1*x19*x29 >"
      ]
     },
     "execution_count": 21,
     "metadata": {},
     "output_type": "execute_result"
    }
   ],
   "source": [
    "surface_pi_1_branched=stevedore_surface.pi_1_branched()\n",
    "surface_pi_1_branched.simplification_isomorphism().codomain()"
   ]
  },
  {
   "cell_type": "code",
   "execution_count": 22,
   "metadata": {},
   "outputs": [
    {
     "data": {
      "text/plain": [
       "Finitely presented group < x2, x3, x4, x5, x6, x7, x8, x9, x12, x13, x14, x15, x16, x17, x18, x19, x20, x21, x22, x24, x25, x26, x27, x28, x29, x31, x32, x33, x34, x35, x36, x37, x38, x40, x41, x42, x43, x44, x45, x46, x47 |  >"
      ]
     },
     "execution_count": 22,
     "metadata": {},
     "output_type": "execute_result"
    }
   ],
   "source": [
    "surface_pi_1_unbranched=stevedore_surface.pi_1_unbranched()\n",
    "surface_pi_1_unbranched.simplification_isomorphism().codomain()"
   ]
  },
  {
   "cell_type": "code",
   "execution_count": 30,
   "metadata": {},
   "outputs": [],
   "source": [
    "collapse_hom=stevedore_surface.claw_collapse_hom()\n",
    "covering_hom=stevedore_surface.covering_hom() \n"
   ]
  },
  {
   "cell_type": "code",
   "execution_count": 31,
   "metadata": {},
   "outputs": [
    {
     "data": {
      "text/plain": [
       "Finitely presented group < x13, x14, x15, x16, x17, x18, x22, x25, x26, x27, x29 |  >"
      ]
     },
     "execution_count": 31,
     "metadata": {},
     "output_type": "execute_result"
    }
   ],
   "source": [
    "red_handlebody_group_branched=stevedore_coloring_red.handlebody_group()\n",
    "red_handlebody_group_branched.simplification_isomorphism().codomain()"
   ]
  },
  {
   "cell_type": "code",
   "execution_count": 32,
   "metadata": {},
   "outputs": [
    {
     "data": {
      "text/plain": [
       "Finitely presented group < x2, x3, x4, x6, x7, x12, x14, x15, x17, x18, x20, x22, x25, x27, x29, x30, x33, x34, x38, x43, x46 |  >"
      ]
     },
     "execution_count": 32,
     "metadata": {},
     "output_type": "execute_result"
    }
   ],
   "source": [
    "red_handlebody_group_unbranched=stevedore_coloring_red.handlebody_group_unbranched()\n",
    "red_handlebody_group_unbranched.simplification_isomorphism().codomain()"
   ]
  },
  {
   "cell_type": "code",
   "execution_count": 33,
   "metadata": {},
   "outputs": [
    {
     "data": {
      "text/plain": [
       "Finitely presented group < x13, x14, x15, x16, x17, x18, x22, x25, x26, x27, x29 |  >"
      ]
     },
     "execution_count": 33,
     "metadata": {},
     "output_type": "execute_result"
    }
   ],
   "source": [
    "blu_handlebody_group_branched=stevedore_coloring_red.handlebody_group()\n",
    "blu_handlebody_group_branched.simplification_isomorphism().codomain()"
   ]
  },
  {
   "cell_type": "code",
   "execution_count": 34,
   "metadata": {},
   "outputs": [
    {
     "data": {
      "text/plain": [
       "Finitely presented group < x13, x14, x15, x16, x17, x18, x22, x25, x26, x27, x29 |  >"
      ]
     },
     "execution_count": 34,
     "metadata": {},
     "output_type": "execute_result"
    }
   ],
   "source": [
    "gre_handlebody_group_branched=stevedore_coloring_red.handlebody_group()\n",
    "gre_handlebody_group_branched.simplification_isomorphism().codomain()"
   ]
  },
  {
   "cell_type": "code",
   "execution_count": 40,
   "metadata": {},
   "outputs": [
    {
     "data": {
      "text/plain": [
       "Finitely presented group <  |  >"
      ]
     },
     "execution_count": 40,
     "metadata": {},
     "output_type": "execute_result"
    }
   ],
   "source": [
    "pi_1_cover_branched=stevedore_cover_F.quotient(stevedore_coloring_red.all_cover_relations()+stevedore_coloring_blu.all_cover_relations()+stevedore_coloring_gre.all_cover_relations())\n",
    "pi_1_cover_branched.simplification_isomorphism().codomain()"
   ]
  },
  {
   "cell_type": "code",
   "execution_count": 41,
   "metadata": {},
   "outputs": [
    {
     "data": {
      "text/plain": [
       "Finitely presented group < x2, x12 | x2^-1*x12*x2*x12^-1*x2^-1*x12*x2^-1 >"
      ]
     },
     "execution_count": 41,
     "metadata": {},
     "output_type": "execute_result"
    }
   ],
   "source": [
    "pi_1_cover_unbranched=stevedore_cover_F.quotient(stevedore_coloring_red.surface.claw_relations_reindex()+stevedore_coloring_red.lift_relations_reindex()+stevedore_coloring_blu.surface.claw_relations_reindex()+stevedore_coloring_blu.lift_relations_reindex()+stevedore_coloring_gre.surface.claw_relations_reindex()+stevedore_coloring_gre.lift_relations_reindex())\n",
    "pi_1_cover_unbranched.simplification_isomorphism().codomain()"
   ]
  }
 ],
 "metadata": {
  "kernelspec": {
   "display_name": "SageMath 9.4",
   "language": "sage",
   "name": "sagemath-9.4"
  },
  "language_info": {
   "codemirror_mode": {
    "name": "ipython",
    "version": 3
   },
   "file_extension": ".py",
   "mimetype": "text/x-python",
   "name": "python",
   "nbconvert_exporter": "python",
   "pygments_lexer": "ipython3",
   "version": "3.9.5"
  }
 },
 "nbformat": 4,
 "nbformat_minor": 5
}
