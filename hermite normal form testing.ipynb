{
 "cells": [
  {
   "cell_type": "code",
   "execution_count": 1,
   "id": "15e147e9",
   "metadata": {},
   "outputs": [],
   "source": [
    "import sage.matrix.matrix_integer_dense_hnf as matrix_integer_dense_hnf"
   ]
  },
  {
   "cell_type": "code",
   "execution_count": 2,
   "id": "faef847a",
   "metadata": {},
   "outputs": [
    {
     "data": {
      "text/plain": [
       "[  1  -5 -10]\n",
       "[  1   3 197]"
      ]
     },
     "execution_count": 2,
     "metadata": {},
     "output_type": "execute_result"
    }
   ],
   "source": [
    "A = matrix(ZZ, 2, [1, -5, -10, 1, 3, 197]); A"
   ]
  },
  {
   "cell_type": "code",
   "execution_count": 3,
   "id": "55e647a8",
   "metadata": {},
   "outputs": [],
   "source": [
    "H, U = matrix_integer_dense_hnf.hnf_with_transformation(A)"
   ]
  },
  {
   "cell_type": "code",
   "execution_count": 4,
   "id": "8c71f7e3",
   "metadata": {},
   "outputs": [
    {
     "data": {
      "text/plain": [
       "[  1   3 197]\n",
       "[  0   8 207]"
      ]
     },
     "execution_count": 4,
     "metadata": {},
     "output_type": "execute_result"
    }
   ],
   "source": [
    "H"
   ]
  },
  {
   "cell_type": "code",
   "execution_count": 5,
   "id": "decb2f7e",
   "metadata": {},
   "outputs": [
    {
     "data": {
      "text/plain": [
       "[ 0  1]\n",
       "[-1  1]"
      ]
     },
     "execution_count": 5,
     "metadata": {},
     "output_type": "execute_result"
    }
   ],
   "source": [
    "U"
   ]
  },
  {
   "cell_type": "code",
   "execution_count": 6,
   "id": "6882ff5d",
   "metadata": {},
   "outputs": [
    {
     "data": {
      "text/plain": [
       "[  1   3 197]\n",
       "[  0   8 207]"
      ]
     },
     "execution_count": 6,
     "metadata": {},
     "output_type": "execute_result"
    }
   ],
   "source": [
    "U*A"
   ]
  },
  {
   "cell_type": "code",
   "execution_count": null,
   "id": "e8b542bf",
   "metadata": {},
   "outputs": [],
   "source": [
    "#solve Ax=b\n",
    "#H=UA\n",
    "#UAx=Ub\n",
    "#Hx=Ub solve instead?\n"
   ]
  },
  {
   "cell_type": "code",
   "execution_count": 7,
   "id": "d8342673",
   "metadata": {},
   "outputs": [
    {
     "data": {
      "text/plain": [
       "(1, -190)"
      ]
     },
     "execution_count": 7,
     "metadata": {},
     "output_type": "execute_result"
    }
   ],
   "source": [
    "A*vector([1,2,-1])"
   ]
  },
  {
   "cell_type": "code",
   "execution_count": 8,
   "id": "7faa1e01",
   "metadata": {},
   "outputs": [
    {
     "data": {
      "text/plain": [
       "(-947/8, -191/8, 0)"
      ]
     },
     "execution_count": 8,
     "metadata": {},
     "output_type": "execute_result"
    }
   ],
   "source": [
    "A.solve_right(vector([1,-190]))"
   ]
  },
  {
   "cell_type": "code",
   "execution_count": 9,
   "id": "2bc6bca6",
   "metadata": {},
   "outputs": [
    {
     "data": {
      "text/plain": [
       "(1, -190)"
      ]
     },
     "execution_count": 9,
     "metadata": {},
     "output_type": "execute_result"
    }
   ],
   "source": [
    "A*vector([-947/8, -191/8, 0])"
   ]
  },
  {
   "cell_type": "code",
   "execution_count": 10,
   "id": "c0e3d1ce",
   "metadata": {},
   "outputs": [
    {
     "data": {
      "text/plain": [
       "(-190, -191)"
      ]
     },
     "execution_count": 10,
     "metadata": {},
     "output_type": "execute_result"
    }
   ],
   "source": [
    "U*vector([1,-190]) #Ub"
   ]
  },
  {
   "cell_type": "code",
   "execution_count": 11,
   "id": "b3c8aa4b",
   "metadata": {},
   "outputs": [
    {
     "data": {
      "text/plain": [
       "(-947/8, -191/8, 0)"
      ]
     },
     "execution_count": 11,
     "metadata": {},
     "output_type": "execute_result"
    }
   ],
   "source": [
    "H.solve_right(vector([-190, -191]))"
   ]
  },
  {
   "cell_type": "code",
   "execution_count": 13,
   "id": "6977e5bc",
   "metadata": {},
   "outputs": [],
   "source": [
    "B, U, V= A.smith_form()"
   ]
  },
  {
   "cell_type": "code",
   "execution_count": 14,
   "id": "e132203a",
   "metadata": {},
   "outputs": [
    {
     "data": {
      "text/plain": [
       "[1 0 0]\n",
       "[0 1 0]"
      ]
     },
     "execution_count": 14,
     "metadata": {},
     "output_type": "execute_result"
    }
   ],
   "source": [
    "B"
   ]
  },
  {
   "cell_type": "code",
   "execution_count": 15,
   "id": "8fc5cd27",
   "metadata": {},
   "outputs": [
    {
     "data": {
      "text/plain": [
       "[1 0 0]\n",
       "[0 1 0]"
      ]
     },
     "execution_count": 15,
     "metadata": {},
     "output_type": "execute_result"
    }
   ],
   "source": [
    "U*A*V"
   ]
  },
  {
   "cell_type": "code",
   "execution_count": 18,
   "id": "c5303c73",
   "metadata": {},
   "outputs": [],
   "source": [
    "y=B.solve_right(U*vector([1,-190]))"
   ]
  },
  {
   "cell_type": "code",
   "execution_count": 19,
   "id": "d7a3681f",
   "metadata": {},
   "outputs": [],
   "source": [
    "x=V*y"
   ]
  },
  {
   "cell_type": "code",
   "execution_count": 20,
   "id": "5cc66f6a",
   "metadata": {},
   "outputs": [
    {
     "data": {
      "text/plain": [
       "(-22919, -4966, 191)"
      ]
     },
     "execution_count": 20,
     "metadata": {},
     "output_type": "execute_result"
    }
   ],
   "source": [
    "x"
   ]
  },
  {
   "cell_type": "code",
   "execution_count": 21,
   "id": "15cad134",
   "metadata": {},
   "outputs": [
    {
     "data": {
      "text/plain": [
       "(1, -190)"
      ]
     },
     "execution_count": 21,
     "metadata": {},
     "output_type": "execute_result"
    }
   ],
   "source": [
    "A*x"
   ]
  },
  {
   "cell_type": "code",
   "execution_count": 23,
   "id": "95245d31",
   "metadata": {},
   "outputs": [],
   "source": [
    "def solve_Ax_eq_b_int(A,b):\n",
    "    B,U,V=A.smith_form()\n",
    "    y=B.solve_right(U*b)\n",
    "    x=V*y\n",
    "    return x"
   ]
  },
  {
   "cell_type": "code",
   "execution_count": 24,
   "id": "d49397f5",
   "metadata": {},
   "outputs": [
    {
     "data": {
      "text/plain": [
       "(-22919, -4966, 191)"
      ]
     },
     "execution_count": 24,
     "metadata": {},
     "output_type": "execute_result"
    }
   ],
   "source": [
    "solve_Ax_eq_b_int(matrix(ZZ, 2, [1, -5, -10, 1, 3, 197]),vector([1,-190]))"
   ]
  },
  {
   "cell_type": "code",
   "execution_count": 31,
   "id": "fd81598d",
   "metadata": {},
   "outputs": [],
   "source": [
    "A=matrix([[2,2,-4],[15,2,-1],[3,2,1]])"
   ]
  },
  {
   "cell_type": "code",
   "execution_count": 37,
   "id": "c249cb80",
   "metadata": {},
   "outputs": [
    {
     "data": {
      "text/plain": [
       "[ 2  2 -4]\n",
       "[15  2 -1]\n",
       "[ 3  2  1]"
      ]
     },
     "execution_count": 37,
     "metadata": {},
     "output_type": "execute_result"
    }
   ],
   "source": [
    "A"
   ]
  },
  {
   "cell_type": "code",
   "execution_count": 38,
   "id": "28d8b8e0",
   "metadata": {},
   "outputs": [
    {
     "ename": "AttributeError",
     "evalue": "'sage.modules.vector_integer_dense.Vector_integer_dense' object has no attribute 'transpose'",
     "output_type": "error",
     "traceback": [
      "\u001b[0;31m---------------------------------------------------------------------------\u001b[0m",
      "\u001b[0;31mAttributeError\u001b[0m                            Traceback (most recent call last)",
      "\u001b[0;32m/var/folders/3l/914ktb1n5q78tlxjd8vtgp1rfd44kb/T/ipykernel_8930/1965948471.py\u001b[0m in \u001b[0;36m<module>\u001b[0;34m\u001b[0m\n\u001b[0;32m----> 1\u001b[0;31m \u001b[0mx\u001b[0m\u001b[0;34m=\u001b[0m\u001b[0mvector\u001b[0m\u001b[0;34m(\u001b[0m\u001b[0;34m[\u001b[0m\u001b[0mInteger\u001b[0m\u001b[0;34m(\u001b[0m\u001b[0;36m17\u001b[0m\u001b[0;34m)\u001b[0m\u001b[0;34m,\u001b[0m\u001b[0mInteger\u001b[0m\u001b[0;34m(\u001b[0m\u001b[0;36m2\u001b[0m\u001b[0;34m)\u001b[0m\u001b[0;34m,\u001b[0m\u001b[0;34m-\u001b[0m\u001b[0mInteger\u001b[0m\u001b[0;34m(\u001b[0m\u001b[0;36m19\u001b[0m\u001b[0;34m)\u001b[0m\u001b[0;34m]\u001b[0m\u001b[0;34m)\u001b[0m\u001b[0;34m.\u001b[0m\u001b[0mtranspose\u001b[0m\u001b[0;34m(\u001b[0m\u001b[0;34m)\u001b[0m\u001b[0;34m\u001b[0m\u001b[0;34m\u001b[0m\u001b[0m\n\u001b[0m",
      "\u001b[0;32m/private/var/tmp/sage-9.5-current/local/var/lib/sage/venv-python3.9.9/lib/python3.9/site-packages/sage/structure/element.pyx\u001b[0m in \u001b[0;36msage.structure.element.Element.__getattr__ (build/cythonized/sage/structure/element.c:4755)\u001b[0;34m()\u001b[0m\n\u001b[1;32m    492\u001b[0m             \u001b[0mAttributeError\u001b[0m\u001b[0;34m:\u001b[0m \u001b[0;34m'LeftZeroSemigroup_with_category.element_class'\u001b[0m \u001b[0mobject\u001b[0m \u001b[0mhas\u001b[0m \u001b[0mno\u001b[0m \u001b[0mattribute\u001b[0m \u001b[0;34m'blah_blah'\u001b[0m\u001b[0;34m\u001b[0m\u001b[0;34m\u001b[0m\u001b[0m\n\u001b[1;32m    493\u001b[0m         \"\"\"\n\u001b[0;32m--> 494\u001b[0;31m         \u001b[0;32mreturn\u001b[0m \u001b[0mself\u001b[0m\u001b[0;34m.\u001b[0m\u001b[0mgetattr_from_category\u001b[0m\u001b[0;34m(\u001b[0m\u001b[0mname\u001b[0m\u001b[0;34m)\u001b[0m\u001b[0;34m\u001b[0m\u001b[0;34m\u001b[0m\u001b[0m\n\u001b[0m\u001b[1;32m    495\u001b[0m \u001b[0;34m\u001b[0m\u001b[0m\n\u001b[1;32m    496\u001b[0m     \u001b[0mcdef\u001b[0m \u001b[0mgetattr_from_category\u001b[0m\u001b[0;34m(\u001b[0m\u001b[0mself\u001b[0m\u001b[0;34m,\u001b[0m \u001b[0mname\u001b[0m\u001b[0;34m)\u001b[0m\u001b[0;34m:\u001b[0m\u001b[0;34m\u001b[0m\u001b[0;34m\u001b[0m\u001b[0m\n",
      "\u001b[0;32m/private/var/tmp/sage-9.5-current/local/var/lib/sage/venv-python3.9.9/lib/python3.9/site-packages/sage/structure/element.pyx\u001b[0m in \u001b[0;36msage.structure.element.Element.getattr_from_category (build/cythonized/sage/structure/element.c:4867)\u001b[0;34m()\u001b[0m\n\u001b[1;32m    505\u001b[0m         \u001b[0;32melse\u001b[0m\u001b[0;34m:\u001b[0m\u001b[0;34m\u001b[0m\u001b[0;34m\u001b[0m\u001b[0m\n\u001b[1;32m    506\u001b[0m             \u001b[0mcls\u001b[0m \u001b[0;34m=\u001b[0m \u001b[0mP\u001b[0m\u001b[0;34m.\u001b[0m\u001b[0m_abstract_element_class\u001b[0m\u001b[0;34m\u001b[0m\u001b[0;34m\u001b[0m\u001b[0m\n\u001b[0;32m--> 507\u001b[0;31m         \u001b[0;32mreturn\u001b[0m \u001b[0mgetattr_from_other_class\u001b[0m\u001b[0;34m(\u001b[0m\u001b[0mself\u001b[0m\u001b[0;34m,\u001b[0m \u001b[0mcls\u001b[0m\u001b[0;34m,\u001b[0m \u001b[0mname\u001b[0m\u001b[0;34m)\u001b[0m\u001b[0;34m\u001b[0m\u001b[0;34m\u001b[0m\u001b[0m\n\u001b[0m\u001b[1;32m    508\u001b[0m \u001b[0;34m\u001b[0m\u001b[0m\n\u001b[1;32m    509\u001b[0m     \u001b[0;32mdef\u001b[0m \u001b[0m__dir__\u001b[0m\u001b[0;34m(\u001b[0m\u001b[0mself\u001b[0m\u001b[0;34m)\u001b[0m\u001b[0;34m:\u001b[0m\u001b[0;34m\u001b[0m\u001b[0;34m\u001b[0m\u001b[0m\n",
      "\u001b[0;32m/private/var/tmp/sage-9.5-current/local/var/lib/sage/venv-python3.9.9/lib/python3.9/site-packages/sage/cpython/getattr.pyx\u001b[0m in \u001b[0;36msage.cpython.getattr.getattr_from_other_class (build/cythonized/sage/cpython/getattr.c:2634)\u001b[0;34m()\u001b[0m\n\u001b[1;32m    359\u001b[0m         \u001b[0mdummy_error_message\u001b[0m\u001b[0;34m.\u001b[0m\u001b[0mcls\u001b[0m \u001b[0;34m=\u001b[0m \u001b[0mtype\u001b[0m\u001b[0;34m(\u001b[0m\u001b[0mself\u001b[0m\u001b[0;34m)\u001b[0m\u001b[0;34m\u001b[0m\u001b[0;34m\u001b[0m\u001b[0m\n\u001b[1;32m    360\u001b[0m         \u001b[0mdummy_error_message\u001b[0m\u001b[0;34m.\u001b[0m\u001b[0mname\u001b[0m \u001b[0;34m=\u001b[0m \u001b[0mname\u001b[0m\u001b[0;34m\u001b[0m\u001b[0;34m\u001b[0m\u001b[0m\n\u001b[0;32m--> 361\u001b[0;31m         \u001b[0;32mraise\u001b[0m \u001b[0mAttributeError\u001b[0m\u001b[0;34m(\u001b[0m\u001b[0mdummy_error_message\u001b[0m\u001b[0;34m)\u001b[0m\u001b[0;34m\u001b[0m\u001b[0;34m\u001b[0m\u001b[0m\n\u001b[0m\u001b[1;32m    362\u001b[0m     \u001b[0mattribute\u001b[0m \u001b[0;34m=\u001b[0m \u001b[0;34m<\u001b[0m\u001b[0mobject\u001b[0m\u001b[0;34m>\u001b[0m\u001b[0mattr\u001b[0m\u001b[0;34m\u001b[0m\u001b[0;34m\u001b[0m\u001b[0m\n\u001b[1;32m    363\u001b[0m     \u001b[0;31m# Check for a descriptor (__get__ in Python)\u001b[0m\u001b[0;34m\u001b[0m\u001b[0;34m\u001b[0m\u001b[0m\n",
      "\u001b[0;31mAttributeError\u001b[0m: 'sage.modules.vector_integer_dense.Vector_integer_dense' object has no attribute 'transpose'"
     ]
    }
   ],
   "source": [
    "x=vector([17,2,-19])"
   ]
  },
  {
   "cell_type": "code",
   "execution_count": 34,
   "id": "6e85d871",
   "metadata": {},
   "outputs": [
    {
     "data": {
      "text/plain": [
       "(114, 278, 36)"
      ]
     },
     "execution_count": 34,
     "metadata": {},
     "output_type": "execute_result"
    }
   ],
   "source": [
    "A*x"
   ]
  },
  {
   "cell_type": "code",
   "execution_count": 35,
   "id": "9c90073c",
   "metadata": {},
   "outputs": [],
   "source": [
    "b=vector([114, 278, 36])"
   ]
  },
  {
   "cell_type": "code",
   "execution_count": 36,
   "id": "b96a4004",
   "metadata": {},
   "outputs": [
    {
     "data": {
      "text/plain": [
       "(17, 2, -19)"
      ]
     },
     "execution_count": 36,
     "metadata": {},
     "output_type": "execute_result"
    }
   ],
   "source": [
    "solve_Ax_eq_b_int(A,b)"
   ]
  },
  {
   "cell_type": "code",
   "execution_count": 32,
   "id": "effd11f6",
   "metadata": {},
   "outputs": [
    {
     "data": {
      "text/plain": [
       "(\n",
       "[ 1  0  0]  [-19   0   1]  [  40   82   59]\n",
       "[ 0  2  0]  [ 19   1  -1]  [-379 -777 -560]\n",
       "[ 0  0 62], [-20 -43   1], [-159 -326 -235]\n",
       ")"
      ]
     },
     "execution_count": 32,
     "metadata": {},
     "output_type": "execute_result"
    }
   ],
   "source": [
    "A.smith_form()"
   ]
  },
  {
   "cell_type": "code",
   "execution_count": null,
   "id": "e9bd6574",
   "metadata": {},
   "outputs": [],
   "source": []
  }
 ],
 "metadata": {
  "kernelspec": {
   "display_name": "SageMath 9.5",
   "language": "sage",
   "name": "sagemath-9.5"
  },
  "language_info": {
   "codemirror_mode": {
    "name": "ipython",
    "version": 3
   },
   "file_extension": ".py",
   "mimetype": "text/x-python",
   "name": "python",
   "nbconvert_exporter": "python",
   "pygments_lexer": "ipython3",
   "version": "3.9.9"
  }
 },
 "nbformat": 4,
 "nbformat_minor": 5
}
