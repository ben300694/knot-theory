{
 "cells": [
  {
   "cell_type": "code",
   "execution_count": 1,
   "id": "15e147e9",
   "metadata": {},
   "outputs": [],
   "source": [
    "import sage.matrix.matrix_integer_dense_hnf as matrix_integer_dense_hnf"
   ]
  },
  {
   "cell_type": "code",
   "execution_count": 2,
   "id": "faef847a",
   "metadata": {},
   "outputs": [
    {
     "data": {
      "text/plain": [
       "[  1  -5 -10]\n",
       "[  1   3 197]"
      ]
     },
     "execution_count": 2,
     "metadata": {},
     "output_type": "execute_result"
    }
   ],
   "source": [
    "A = matrix(ZZ, 2, [1, -5, -10, 1, 3, 197]); A"
   ]
  },
  {
   "cell_type": "code",
   "execution_count": 3,
   "id": "55e647a8",
   "metadata": {},
   "outputs": [],
   "source": [
    "H, U = matrix_integer_dense_hnf.hnf_with_transformation(A)"
   ]
  },
  {
   "cell_type": "code",
   "execution_count": 4,
   "id": "8c71f7e3",
   "metadata": {},
   "outputs": [
    {
     "data": {
      "text/plain": [
       "[  1   3 197]\n",
       "[  0   8 207]"
      ]
     },
     "execution_count": 4,
     "metadata": {},
     "output_type": "execute_result"
    }
   ],
   "source": [
    "H"
   ]
  },
  {
   "cell_type": "code",
   "execution_count": 5,
   "id": "decb2f7e",
   "metadata": {},
   "outputs": [
    {
     "data": {
      "text/plain": [
       "[ 0  1]\n",
       "[-1  1]"
      ]
     },
     "execution_count": 5,
     "metadata": {},
     "output_type": "execute_result"
    }
   ],
   "source": [
    "U"
   ]
  },
  {
   "cell_type": "code",
   "execution_count": 8,
   "id": "6882ff5d",
   "metadata": {},
   "outputs": [
    {
     "data": {
      "text/plain": [
       "[  1   3 197]\n",
       "[  0   8 207]"
      ]
     },
     "execution_count": 8,
     "metadata": {},
     "output_type": "execute_result"
    }
   ],
   "source": [
    "U*A"
   ]
  },
  {
   "cell_type": "code",
   "execution_count": null,
   "id": "e8b542bf",
   "metadata": {},
   "outputs": [],
   "source": []
  }
 ],
 "metadata": {
  "kernelspec": {
   "display_name": "SageMath 9.6",
   "language": "sage",
   "name": "sagemath-9.6"
  },
  "language_info": {
   "codemirror_mode": {
    "name": "ipython",
    "version": 3
   },
   "file_extension": ".py",
   "mimetype": "text/x-python",
   "name": "python",
   "nbconvert_exporter": "python",
   "pygments_lexer": "ipython3",
   "version": "3.10.3"
  }
 },
 "nbformat": 4,
 "nbformat_minor": 5
}
