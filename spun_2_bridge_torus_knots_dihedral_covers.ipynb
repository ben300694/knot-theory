{
 "cells": [
  {
   "cell_type": "code",
   "execution_count": 5,
   "id": "5e2b28a7",
   "metadata": {},
   "outputs": [],
   "source": [
    "load('./src/bridge_trisections.sage')"
   ]
  },
  {
   "cell_type": "code",
   "execution_count": 6,
   "id": "8aa624aa",
   "metadata": {},
   "outputs": [],
   "source": [
    "def spun_torus_coloring(p):\n",
    "    spun_torus_S = SymmetricGroup(p)\n",
    "    #construct reflections over vertices 1 and 2 of p-gon\n",
    "    pairs=[]\n",
    "    for v in range(1,(p+1)/2):\n",
    "        pairs.append((v+1,p-v+1))\n",
    "\n",
    "    reflection_1=spun_torus_S('()')\n",
    "    for pair in pairs:\n",
    "        transposition=spun_torus_S(pair)\n",
    "        reflection_1=reflection_1*transposition\n",
    "\n",
    "    cycle_tuple=tuple([i+1 for i in range(p)])\n",
    "\n",
    "    cycle=spun_torus_S(cycle_tuple)\n",
    "    reflection_2=cycle^-1*reflection_1*cycle\n",
    "\n",
    "    #For dihedral cover\n",
    "    spun_torus_images_of_generators=[reflection_1,reflection_1^-1]+3*[reflection_2,reflection_2^-1] \n",
    "    return spun_torus_images_of_generators\n",
    "\n"
   ]
  },
  {
   "cell_type": "code",
   "execution_count": 8,
   "id": "8717300b",
   "metadata": {},
   "outputs": [],
   "source": [
    "def display_invariants(t,p):\n",
    "    bridge_number = 4\n",
    "    symmetric_group_rank = p\n",
    "    spun_torus = tau_l_T_2_b(t, p)#t twist spin of T(2,p) torus knot\n",
    "\n",
    "    spun_torus_F = FreeGroup(2*bridge_number)\n",
    "    spun_torus_S = SymmetricGroup(symmetric_group_rank)\n",
    "\n",
    "    spun_torus_tangles_dict = {\n",
    "            'red': spun_torus.red_tangle,\n",
    "            'blu': spun_torus.blu_tangle,\n",
    "            'gre': spun_torus.gre_tangle,\n",
    "        }\n",
    "    \n",
    "    spun_torus_images_of_generators=spun_torus_coloring(p)\n",
    "    \n",
    "    colored_spun_torus = Colored_bridge_trisection(spun_torus_F,\n",
    "                                            spun_torus_S,\n",
    "                                            spun_torus_tangles_dict,\n",
    "                                             spun_torus_images_of_generators)\n",
    "    \n",
    "    print(t,'-twist spin of T(2,',p,') torus knot')\n",
    "    print('coloring')\n",
    "    print(spun_torus_images_of_generators)\n",
    "    print('Valid coloring?')\n",
    "    \n",
    "    print(colored_spun_torus.colored_tangles['red'].is_representation())\n",
    "    print(colored_spun_torus.colored_tangles['blu'].is_representation())\n",
    "    print(colored_spun_torus.colored_tangles['gre'].is_representation())\n",
    "    \n",
    "    print('Trisection parameters',colored_spun_torus.trisection_parameters_branched_cover())\n",
    "    print('Euler characteristic',colored_spun_torus.euler_characteristic())\n",
    "    \n",
    "    print('pi_1(branched cover)',colored_spun_torus.pi_1_branched_cover().simplified())\n",
    "    \n",
    "    print('H_1',colored_spun_torus.homology_branched_cover()[0])\n",
    "    print('H_2',colored_spun_torus.homology_branched_cover()[1])\n",
    "    print('H_3',colored_spun_torus.homology_branched_cover()[2])\n",
    "    \n",
    "    print('H_2 generators, Intersection form, signature, parity')\n",
    "    print(colored_spun_torus.intersection_form())\n",
    "    \n",
    "    "
   ]
  },
  {
   "cell_type": "code",
   "execution_count": 9,
   "id": "93705c4c",
   "metadata": {},
   "outputs": [
    {
     "name": "stdout",
     "output_type": "stream",
     "text": [
      "0 -twist spin of T(2, 3 ) torus knot\n",
      "coloring\n",
      "[(2,3), (2,3), (1,3), (1,3), (1,3), (1,3), (1,3), (1,3)]\n",
      "Valid coloring?\n",
      "True\n",
      "True\n",
      "True\n",
      "Trisection parameters [2, [0, 0, 0]]\n",
      "Euler characteristic 4\n",
      "pi_1(branched cover) Finitely presented group <  |  >\n",
      "H_1 Finitely generated module V/W over Integer Ring with invariants ()\n",
      "H_2 Finitely generated module V/W over Integer Ring with invariants (0, 0)\n",
      "H_3 Finitely generated module V/W over Integer Ring with invariants ()\n",
      "H_2 generators, Intersection form, signature, parity\n",
      "([(0, 0, 0, 1, 0, 0, 0, 0, 0, 0, 0, 0, 0, 0, 0, 0, 0, 0, 0, 0, 0, 0, 0, 0), (0, 0, 0, 0, 0, 1, -1, 0, 0, 0, 0, 0, 0, 0, 0, 0, 0, 0, 0, 0, 0, 0, 0, 0)], [ 0 -1]\n",
      "[-1  0], 0, 'even')\n"
     ]
    }
   ],
   "source": [
    "display_invariants(0,3)"
   ]
  },
  {
   "cell_type": "code",
   "execution_count": 10,
   "id": "d33e259b",
   "metadata": {},
   "outputs": [
    {
     "name": "stdout",
     "output_type": "stream",
     "text": [
      "2 -twist spin of T(2, 3 ) torus knot\n",
      "coloring\n",
      "[(2,3), (2,3), (1,3), (1,3), (1,3), (1,3), (1,3), (1,3)]\n",
      "Valid coloring?\n",
      "True\n",
      "True\n",
      "True\n",
      "Trisection parameters [2, [0, 0, 0]]\n",
      "Euler characteristic 4\n",
      "pi_1(branched cover) Finitely presented group <  |  >\n",
      "H_1 Finitely generated module V/W over Integer Ring with invariants ()\n",
      "H_2 Finitely generated module V/W over Integer Ring with invariants (0, 0)\n",
      "H_3 Finitely generated module V/W over Integer Ring with invariants ()\n",
      "H_2 generators, Intersection form, signature, parity\n",
      "([(0, 0, 0, 1, 0, 0, 0, 0, 0, 0, 0, 0, 0, 0, 0, 0, 0, 0, 0, 0, 0, 0, 0, 0), (0, 0, 0, 0, 0, 1, -1, 0, 0, 0, 0, 0, 0, 0, 0, 0, 0, 0, 0, 0, 0, 0, 0, 0)], [ 0 -1]\n",
      "[-1 -3], 0, 'odd')\n"
     ]
    }
   ],
   "source": [
    "display_invariants(2,3)"
   ]
  },
  {
   "cell_type": "code",
   "execution_count": 11,
   "id": "1cfabbc3",
   "metadata": {},
   "outputs": [
    {
     "name": "stdout",
     "output_type": "stream",
     "text": [
      "4 -twist spin of T(2, 3 ) torus knot\n",
      "coloring\n",
      "[(2,3), (2,3), (1,3), (1,3), (1,3), (1,3), (1,3), (1,3)]\n",
      "Valid coloring?\n",
      "True\n",
      "True\n",
      "True\n",
      "Trisection parameters [2, [0, 0, 0]]\n",
      "Euler characteristic 4\n",
      "pi_1(branched cover) Finitely presented group <  |  >\n",
      "H_1 Finitely generated module V/W over Integer Ring with invariants ()\n",
      "H_2 Finitely generated module V/W over Integer Ring with invariants (0, 0)\n",
      "H_3 Finitely generated module V/W over Integer Ring with invariants ()\n",
      "H_2 generators, Intersection form, signature, parity\n",
      "([(0, 0, 0, 1, 0, 0, 0, 0, 0, 0, 0, 0, 0, 0, 0, 0, 0, 0, 0, 0, 0, 0, 0, 0), (0, 0, 0, 0, 0, 1, -1, 0, 0, 0, 0, 0, 0, 0, 0, 0, 0, 0, 0, 0, 0, 0, 0, 0)], [ 0 -1]\n",
      "[-1 -6], 0, 'even')\n"
     ]
    }
   ],
   "source": [
    "display_invariants(4,3)"
   ]
  },
  {
   "cell_type": "code",
   "execution_count": 12,
   "id": "5725724a",
   "metadata": {},
   "outputs": [
    {
     "name": "stdout",
     "output_type": "stream",
     "text": [
      "6 -twist spin of T(2, 3 ) torus knot\n",
      "coloring\n",
      "[(2,3), (2,3), (1,3), (1,3), (1,3), (1,3), (1,3), (1,3)]\n",
      "Valid coloring?\n",
      "True\n",
      "True\n",
      "True\n",
      "Trisection parameters [2, [0, 0, 0]]\n",
      "Euler characteristic 4\n",
      "pi_1(branched cover) Finitely presented group <  |  >\n",
      "H_1 Finitely generated module V/W over Integer Ring with invariants ()\n",
      "H_2 Finitely generated module V/W over Integer Ring with invariants (0, 0)\n",
      "H_3 Finitely generated module V/W over Integer Ring with invariants ()\n",
      "H_2 generators, Intersection form, signature, parity\n",
      "([(0, 0, 0, 1, 0, 0, 0, 0, 0, 0, 0, 0, 0, 0, 0, 0, 0, 0, 0, 0, 0, 0, 0, 0), (0, 0, 0, 0, 0, 1, -1, 0, 0, 0, 0, 0, 0, 0, 0, 0, 0, 0, 0, 0, 0, 0, 0, 0)], [ 0 -1]\n",
      "[-1 -9], 0, 'odd')\n"
     ]
    }
   ],
   "source": [
    "display_invariants(6,3)"
   ]
  },
  {
   "cell_type": "code",
   "execution_count": 13,
   "id": "97533a4e",
   "metadata": {},
   "outputs": [
    {
     "name": "stdout",
     "output_type": "stream",
     "text": [
      "0 -twist spin of T(2, 5 ) torus knot\n",
      "coloring\n",
      "[(2,5)(3,4), (2,5)(3,4), (1,3)(4,5), (1,3)(4,5), (1,3)(4,5), (1,3)(4,5), (1,3)(4,5), (1,3)(4,5)]\n",
      "Valid coloring?\n",
      "True\n",
      "True\n",
      "True\n",
      "Trisection parameters [4, [0, 0, 0]]\n",
      "Euler characteristic 6\n",
      "pi_1(branched cover) Finitely presented group <  |  >\n",
      "H_1 Finitely generated module V/W over Integer Ring with invariants ()\n",
      "H_2 Finitely generated module V/W over Integer Ring with invariants (0, 0, 0, 0)\n",
      "H_3 Finitely generated module V/W over Integer Ring with invariants ()\n",
      "H_2 generators, Intersection form, signature, parity\n",
      "([(0, 0, 0, 1, 0, 0, 0, 0, 0, 0, 0, 0, 0, 0, 0, 0, 0, 0, 0, 0, 0, 0, 0, 0, 0, 0, 0, 0, 0, 0, 0, 0, 0, 0, 0, 0, 0, 0, 0, 0), (0, 0, 0, 0, 0, 1, -1, 0, 0, 0, 0, 0, 0, 0, 0, 0, 0, 0, 0, 0, 0, 0, 0, 0, 0, 0, 0, 0, 0, 0, 0, 0, 0, 0, 0, 0, 0, 0, 0, 0), (0, 0, 0, 0, 0, 0, 0, 0, 0, 0, 0, 0, 0, 0, 0, 0, 0, 0, 0, 0, 0, 0, 0, 0, 0, 0, 0, 1, 0, 0, 0, 0, 0, 0, 0, 0, 0, 0, 0, 0), (0, 0, 0, 0, 0, 0, 0, 0, 0, 0, 0, 0, 0, 0, 0, 0, 0, 0, 0, 0, 0, 0, 0, 0, 0, 0, 0, 0, 0, 1, -1, 0, 0, 0, 0, 0, 0, 0, 0, 0)], [ 0 -1  0  0]\n",
      "[-1  0  0  0]\n",
      "[ 0  0  0 -1]\n",
      "[ 0  0 -1  0], 0, 'even')\n"
     ]
    }
   ],
   "source": [
    "display_invariants(0,5)"
   ]
  },
  {
   "cell_type": "code",
   "execution_count": 14,
   "id": "a22f281c",
   "metadata": {},
   "outputs": [
    {
     "name": "stdout",
     "output_type": "stream",
     "text": [
      "2 -twist spin of T(2, 5 ) torus knot\n",
      "coloring\n",
      "[(2,5)(3,4), (2,5)(3,4), (1,3)(4,5), (1,3)(4,5), (1,3)(4,5), (1,3)(4,5), (1,3)(4,5), (1,3)(4,5)]\n",
      "Valid coloring?\n",
      "True\n",
      "True\n",
      "True\n",
      "Trisection parameters [4, [0, 0, 0]]\n",
      "Euler characteristic 6\n",
      "pi_1(branched cover) Finitely presented group <  |  >\n",
      "H_1 Finitely generated module V/W over Integer Ring with invariants ()\n",
      "H_2 Finitely generated module V/W over Integer Ring with invariants (0, 0, 0, 0)\n",
      "H_3 Finitely generated module V/W over Integer Ring with invariants ()\n",
      "H_2 generators, Intersection form, signature, parity\n",
      "([(0, 0, 0, 1, 0, 0, 0, 0, 0, 0, 0, 0, 0, 0, 0, 0, 0, 0, 0, 0, 0, 0, 0, 0, 0, 0, 0, 0, 0, 0, 0, 0, 0, 0, 0, 0, 0, 0, 0, 0), (0, 0, 0, 0, 0, 1, -1, 0, 0, 0, 0, 0, 0, 0, 0, 0, 0, 0, 0, 0, 0, 0, 0, 0, 0, 0, 0, 0, 0, 0, 0, 0, 0, 0, 0, 0, 0, 0, 0, 0), (0, 0, 0, 0, 0, 0, 0, 0, 0, 0, 0, 0, 0, 0, 0, 0, 0, 0, 0, 0, 0, 0, 0, 0, 0, 0, 0, 1, 0, 0, 0, 0, 0, 0, 0, 0, 0, 0, 0, 0), (0, 0, 0, 0, 0, 0, 0, 0, 0, 0, 0, 0, 0, 0, 0, 0, 0, 0, 0, 0, 0, 0, 0, 0, 0, 0, 0, 0, 0, 1, -1, 0, 0, 0, 0, 0, 0, 0, 0, 0)], [ 0 -1  0  0]\n",
      "[-1 -3  0  1]\n",
      "[ 0  0  0 -1]\n",
      "[ 0  1 -1 -2], 0, 'odd')\n"
     ]
    }
   ],
   "source": [
    "display_invariants(2,5)"
   ]
  },
  {
   "cell_type": "code",
   "execution_count": 15,
   "id": "111a7d47",
   "metadata": {},
   "outputs": [
    {
     "name": "stdout",
     "output_type": "stream",
     "text": [
      "4 -twist spin of T(2, 5 ) torus knot\n",
      "coloring\n",
      "[(2,5)(3,4), (2,5)(3,4), (1,3)(4,5), (1,3)(4,5), (1,3)(4,5), (1,3)(4,5), (1,3)(4,5), (1,3)(4,5)]\n",
      "Valid coloring?\n",
      "True\n",
      "True\n",
      "True\n",
      "Trisection parameters [4, [0, 0, 0]]\n",
      "Euler characteristic 6\n",
      "pi_1(branched cover) Finitely presented group <  |  >\n",
      "H_1 Finitely generated module V/W over Integer Ring with invariants ()\n",
      "H_2 Finitely generated module V/W over Integer Ring with invariants (0, 0, 0, 0)\n",
      "H_3 Finitely generated module V/W over Integer Ring with invariants ()\n",
      "H_2 generators, Intersection form, signature, parity\n",
      "([(0, 0, 0, 1, 0, 0, 0, 0, 0, 0, 0, 0, 0, 0, 0, 0, 0, 0, 0, 0, 0, 0, 0, 0, 0, 0, 0, 0, 0, 0, 0, 0, 0, 0, 0, 0, 0, 0, 0, 0), (0, 0, 0, 0, 0, 1, -1, 0, 0, 0, 0, 0, 0, 0, 0, 0, 0, 0, 0, 0, 0, 0, 0, 0, 0, 0, 0, 0, 0, 0, 0, 0, 0, 0, 0, 0, 0, 0, 0, 0), (0, 0, 0, 0, 0, 0, 0, 0, 0, 0, 0, 0, 0, 0, 0, 0, 0, 0, 0, 0, 0, 0, 0, 0, 0, 0, 0, 1, 0, 0, 0, 0, 0, 0, 0, 0, 0, 0, 0, 0), (0, 0, 0, 0, 0, 0, 0, 0, 0, 0, 0, 0, 0, 0, 0, 0, 0, 0, 0, 0, 0, 0, 0, 0, 0, 0, 0, 0, 0, 1, -1, 0, 0, 0, 0, 0, 0, 0, 0, 0)], [ 0 -1  0  0]\n",
      "[-1 -6  0  2]\n",
      "[ 0  0  0 -1]\n",
      "[ 0  2 -1 -4], 0, 'even')\n"
     ]
    }
   ],
   "source": [
    "display_invariants(4,5)"
   ]
  },
  {
   "cell_type": "code",
   "execution_count": 16,
   "id": "482ab804",
   "metadata": {},
   "outputs": [
    {
     "name": "stdout",
     "output_type": "stream",
     "text": [
      "6 -twist spin of T(2, 5 ) torus knot\n",
      "coloring\n",
      "[(2,5)(3,4), (2,5)(3,4), (1,3)(4,5), (1,3)(4,5), (1,3)(4,5), (1,3)(4,5), (1,3)(4,5), (1,3)(4,5)]\n",
      "Valid coloring?\n",
      "True\n",
      "True\n",
      "True\n",
      "Trisection parameters [4, [0, 0, 0]]\n",
      "Euler characteristic 6\n",
      "pi_1(branched cover) Finitely presented group <  |  >\n",
      "H_1 Finitely generated module V/W over Integer Ring with invariants ()\n",
      "H_2 Finitely generated module V/W over Integer Ring with invariants (0, 0, 0, 0)\n",
      "H_3 Finitely generated module V/W over Integer Ring with invariants ()\n",
      "H_2 generators, Intersection form, signature, parity\n",
      "([(0, 0, 0, 1, 0, 0, 0, 0, 0, 0, 0, 0, 0, 0, 0, 0, 0, 0, 0, 0, 0, 0, 0, 0, 0, 0, 0, 0, 0, 0, 0, 0, 0, 0, 0, 0, 0, 0, 0, 0), (0, 0, 0, 0, 0, 1, -1, 0, 0, 0, 0, 0, 0, 0, 0, 0, 0, 0, 0, 0, 0, 0, 0, 0, 0, 0, 0, 0, 0, 0, 0, 0, 0, 0, 0, 0, 0, 0, 0, 0), (0, 0, 0, 0, 0, 0, 0, 0, 0, 0, 0, 0, 0, 0, 0, 0, 0, 0, 0, 0, 0, 0, 0, 0, 0, 0, 0, 1, 0, 0, 0, 0, 0, 0, 0, 0, 0, 0, 0, 0), (0, 0, 0, 0, 0, 0, 0, 0, 0, 0, 0, 0, 0, 0, 0, 0, 0, 0, 0, 0, 0, 0, 0, 0, 0, 0, 0, 0, 0, 1, -1, 0, 0, 0, 0, 0, 0, 0, 0, 0)], [ 0 -1  0  0]\n",
      "[-1 -9  0  3]\n",
      "[ 0  0  0 -1]\n",
      "[ 0  3 -1 -6], 0, 'odd')\n"
     ]
    }
   ],
   "source": [
    "display_invariants(6,5)"
   ]
  },
  {
   "cell_type": "code",
   "execution_count": 17,
   "id": "73895444",
   "metadata": {},
   "outputs": [
    {
     "name": "stdout",
     "output_type": "stream",
     "text": [
      "0 -twist spin of T(2, 7 ) torus knot\n",
      "coloring\n",
      "[(2,7)(3,6)(4,5), (2,7)(3,6)(4,5), (1,3)(4,7)(5,6), (1,3)(4,7)(5,6), (1,3)(4,7)(5,6), (1,3)(4,7)(5,6), (1,3)(4,7)(5,6), (1,3)(4,7)(5,6)]\n",
      "Valid coloring?\n",
      "True\n",
      "True\n",
      "True\n",
      "Trisection parameters [6, [0, 0, 0]]\n",
      "Euler characteristic 8\n",
      "pi_1(branched cover) Finitely presented group <  |  >\n",
      "H_1 Finitely generated module V/W over Integer Ring with invariants ()\n",
      "H_2 Finitely generated module V/W over Integer Ring with invariants (0, 0, 0, 0, 0, 0)\n",
      "H_3 Finitely generated module V/W over Integer Ring with invariants ()\n",
      "H_2 generators, Intersection form, signature, parity\n",
      "([(0, 0, 0, 1, 0, 0, 0, 0, 0, 0, 0, 0, 0, 0, 0, 0, 0, 0, 0, 0, 0, 0, 0, 0, 0, 0, 0, 0, 0, 0, 0, 0, 0, 0, 0, 0, 0, 0, 0, 0, 0, 0, 0, 0, 0, 0, 0, 0, 0, 0, 0, 0, 0, 0, 0, 0), (0, 0, 0, 0, 0, 1, -1, 0, 0, 0, 0, 0, 0, 0, 0, 0, 0, 0, 0, 0, 0, 0, 0, 0, 0, 0, 0, 0, 0, 0, 0, 0, 0, 0, 0, 0, 0, 0, 0, 0, 0, 0, 0, 0, 0, 0, 0, 0, 0, 0, 0, 0, 0, 0, 0, 0), (0, 0, 0, 0, 0, 0, 0, 0, 0, 0, 0, 0, 0, 0, 0, 0, 0, 0, 0, 0, 0, 0, 0, 0, 0, 0, 0, 1, 0, 0, 0, 0, 0, 0, 0, 0, 0, 0, 0, 0, 0, 0, 0, 0, 0, 0, 0, 0, 0, 0, 0, 0, 0, 0, 0, 0), (0, 0, 0, 0, 0, 0, 0, 0, 0, 0, 0, 0, 0, 0, 0, 0, 0, 0, 0, 0, 0, 0, 0, 0, 0, 0, 0, 0, 0, 1, -1, 0, 0, 0, 0, 0, 0, 0, 0, 0, 0, 0, 0, 0, 0, 0, 0, 0, 0, 0, 0, 0, 0, 0, 0, 0), (0, 0, 0, 0, 0, 0, 0, 0, 0, 0, 0, 0, 0, 0, 0, 0, 0, 0, 0, 0, 0, 0, 0, 0, 0, 0, 0, 0, 0, 0, 0, 0, 0, 0, 0, 1, 0, 0, 0, 0, 0, 0, 0, 0, 0, 0, 0, 0, 0, 0, 0, 0, 0, 0, 0, 0), (0, 0, 0, 0, 0, 0, 0, 0, 0, 0, 0, 0, 0, 0, 0, 0, 0, 0, 0, 0, 0, 0, 0, 0, 0, 0, 0, 0, 0, 0, 0, 0, 0, 0, 0, 0, 0, 1, -1, 0, 0, 0, 0, 0, 0, 0, 0, 0, 0, 0, 0, 0, 0, 0, 0, 0)], [ 0 -1  0  0  0  0]\n",
      "[-1  0  0  0  0  0]\n",
      "[ 0  0  0 -1  0  0]\n",
      "[ 0  0 -1  0  0  0]\n",
      "[ 0  0  0  0  0 -1]\n",
      "[ 0  0  0  0 -1  0], 0, 'even')\n"
     ]
    }
   ],
   "source": [
    "display_invariants(0,7)"
   ]
  },
  {
   "cell_type": "code",
   "execution_count": 18,
   "id": "01aaf7c3",
   "metadata": {},
   "outputs": [
    {
     "name": "stdout",
     "output_type": "stream",
     "text": [
      "2 -twist spin of T(2, 7 ) torus knot\n",
      "coloring\n",
      "[(2,7)(3,6)(4,5), (2,7)(3,6)(4,5), (1,3)(4,7)(5,6), (1,3)(4,7)(5,6), (1,3)(4,7)(5,6), (1,3)(4,7)(5,6), (1,3)(4,7)(5,6), (1,3)(4,7)(5,6)]\n",
      "Valid coloring?\n",
      "True\n",
      "True\n",
      "True\n",
      "Trisection parameters [6, [0, 0, 0]]\n",
      "Euler characteristic 8\n",
      "pi_1(branched cover) Finitely presented group <  |  >\n",
      "H_1 Finitely generated module V/W over Integer Ring with invariants ()\n",
      "H_2 Finitely generated module V/W over Integer Ring with invariants (0, 0, 0, 0, 0, 0)\n",
      "H_3 Finitely generated module V/W over Integer Ring with invariants ()\n",
      "H_2 generators, Intersection form, signature, parity\n",
      "([(0, 0, 0, 1, 0, 0, 0, 0, 0, 0, 0, 0, 0, 0, 0, 0, 0, 0, 0, 0, 0, 0, 0, 0, 0, 0, 0, 0, 0, 0, 0, 0, 0, 0, 0, 0, 0, 0, 0, 0, 0, 0, 0, 0, 0, 0, 0, 0, 0, 0, 0, 0, 0, 0, 0, 0), (0, 0, 0, 0, 0, 1, -1, 0, 0, 0, 0, 0, 0, 0, 0, 0, 0, 0, 0, 0, 0, 0, 0, 0, 0, 0, 0, 0, 0, 0, 0, 0, 0, 0, 0, 0, 0, 0, 0, 0, 0, 0, 0, 0, 0, 0, 0, 0, 0, 0, 0, 0, 0, 0, 0, 0), (0, 0, 0, 0, 0, 0, 0, 0, 0, 0, 0, 0, 0, 0, 0, 0, 0, 0, 0, 0, 0, 0, 0, 0, 0, 0, 0, 1, 0, 0, 0, 0, 0, 0, 0, 0, 0, 0, 0, 0, 0, 0, 0, 0, 0, 0, 0, 0, 0, 0, 0, 0, 0, 0, 0, 0), (0, 0, 0, 0, 0, 0, 0, 0, 0, 0, 0, 0, 0, 0, 0, 0, 0, 0, 0, 0, 0, 0, 0, 0, 0, 0, 0, 0, 0, 1, -1, 0, 0, 0, 0, 0, 0, 0, 0, 0, 0, 0, 0, 0, 0, 0, 0, 0, 0, 0, 0, 0, 0, 0, 0, 0), (0, 0, 0, 0, 0, 0, 0, 0, 0, 0, 0, 0, 0, 0, 0, 0, 0, 0, 0, 0, 0, 0, 0, 0, 0, 0, 0, 0, 0, 0, 0, 0, 0, 0, 0, 1, 0, 0, 0, 0, 0, 0, 0, 0, 0, 0, 0, 0, 0, 0, 0, 0, 0, 0, 0, 0), (0, 0, 0, 0, 0, 0, 0, 0, 0, 0, 0, 0, 0, 0, 0, 0, 0, 0, 0, 0, 0, 0, 0, 0, 0, 0, 0, 0, 0, 0, 0, 0, 0, 0, 0, 0, 0, 1, -1, 0, 0, 0, 0, 0, 0, 0, 0, 0, 0, 0, 0, 0, 0, 0, 0, 0)], [ 0 -1  0  0  0  0]\n",
      "[-1 -3  0  0  0 -1]\n",
      "[ 0  0  0 -1  0  0]\n",
      "[ 0  0 -1 -2  0 -1]\n",
      "[ 0  0  0  0  0 -1]\n",
      "[ 0 -1  0 -1 -1 -2], 0, 'odd')\n"
     ]
    }
   ],
   "source": [
    "display_invariants(2,7)"
   ]
  },
  {
   "cell_type": "code",
   "execution_count": 19,
   "id": "77aed896",
   "metadata": {},
   "outputs": [
    {
     "name": "stdout",
     "output_type": "stream",
     "text": [
      "4 -twist spin of T(2, 7 ) torus knot\n",
      "coloring\n",
      "[(2,7)(3,6)(4,5), (2,7)(3,6)(4,5), (1,3)(4,7)(5,6), (1,3)(4,7)(5,6), (1,3)(4,7)(5,6), (1,3)(4,7)(5,6), (1,3)(4,7)(5,6), (1,3)(4,7)(5,6)]\n",
      "Valid coloring?\n",
      "True\n",
      "True\n",
      "True\n",
      "Trisection parameters [6, [0, 0, 0]]\n",
      "Euler characteristic 8\n",
      "pi_1(branched cover) Finitely presented group <  |  >\n",
      "H_1 Finitely generated module V/W over Integer Ring with invariants ()\n",
      "H_2 Finitely generated module V/W over Integer Ring with invariants (0, 0, 0, 0, 0, 0)\n",
      "H_3 Finitely generated module V/W over Integer Ring with invariants ()\n",
      "H_2 generators, Intersection form, signature, parity\n",
      "([(0, 0, 0, 1, 0, 0, 0, 0, 0, 0, 0, 0, 0, 0, 0, 0, 0, 0, 0, 0, 0, 0, 0, 0, 0, 0, 0, 0, 0, 0, 0, 0, 0, 0, 0, 0, 0, 0, 0, 0, 0, 0, 0, 0, 0, 0, 0, 0, 0, 0, 0, 0, 0, 0, 0, 0), (0, 0, 0, 0, 0, 1, -1, 0, 0, 0, 0, 0, 0, 0, 0, 0, 0, 0, 0, 0, 0, 0, 0, 0, 0, 0, 0, 0, 0, 0, 0, 0, 0, 0, 0, 0, 0, 0, 0, 0, 0, 0, 0, 0, 0, 0, 0, 0, 0, 0, 0, 0, 0, 0, 0, 0), (0, 0, 0, 0, 0, 0, 0, 0, 0, 0, 0, 0, 0, 0, 0, 0, 0, 0, 0, 0, 0, 0, 0, 0, 0, 0, 0, 1, 0, 0, 0, 0, 0, 0, 0, 0, 0, 0, 0, 0, 0, 0, 0, 0, 0, 0, 0, 0, 0, 0, 0, 0, 0, 0, 0, 0), (0, 0, 0, 0, 0, 0, 0, 0, 0, 0, 0, 0, 0, 0, 0, 0, 0, 0, 0, 0, 0, 0, 0, 0, 0, 0, 0, 0, 0, 1, -1, 0, 0, 0, 0, 0, 0, 0, 0, 0, 0, 0, 0, 0, 0, 0, 0, 0, 0, 0, 0, 0, 0, 0, 0, 0), (0, 0, 0, 0, 0, 0, 0, 0, 0, 0, 0, 0, 0, 0, 0, 0, 0, 0, 0, 0, 0, 0, 0, 0, 0, 0, 0, 0, 0, 0, 0, 0, 0, 0, 0, 1, 0, 0, 0, 0, 0, 0, 0, 0, 0, 0, 0, 0, 0, 0, 0, 0, 0, 0, 0, 0), (0, 0, 0, 0, 0, 0, 0, 0, 0, 0, 0, 0, 0, 0, 0, 0, 0, 0, 0, 0, 0, 0, 0, 0, 0, 0, 0, 0, 0, 0, 0, 0, 0, 0, 0, 0, 0, 1, -1, 0, 0, 0, 0, 0, 0, 0, 0, 0, 0, 0, 0, 0, 0, 0, 0, 0)], [ 0 -1  0  0  0  0]\n",
      "[-1 -6  0  0  0 -2]\n",
      "[ 0  0  0 -1  0  0]\n",
      "[ 0  0 -1 -4  0 -2]\n",
      "[ 0  0  0  0  0 -1]\n",
      "[ 0 -2  0 -2 -1 -4], 0, 'even')\n"
     ]
    }
   ],
   "source": [
    "display_invariants(4,7)"
   ]
  },
  {
   "cell_type": "code",
   "execution_count": 20,
   "id": "24359f97",
   "metadata": {},
   "outputs": [
    {
     "name": "stdout",
     "output_type": "stream",
     "text": [
      "6 -twist spin of T(2, 7 ) torus knot\n",
      "coloring\n",
      "[(2,7)(3,6)(4,5), (2,7)(3,6)(4,5), (1,3)(4,7)(5,6), (1,3)(4,7)(5,6), (1,3)(4,7)(5,6), (1,3)(4,7)(5,6), (1,3)(4,7)(5,6), (1,3)(4,7)(5,6)]\n",
      "Valid coloring?\n",
      "True\n",
      "True\n",
      "True\n",
      "Trisection parameters [6, [0, 0, 0]]\n",
      "Euler characteristic 8\n",
      "pi_1(branched cover) Finitely presented group <  |  >\n",
      "H_1 Finitely generated module V/W over Integer Ring with invariants ()\n",
      "H_2 Finitely generated module V/W over Integer Ring with invariants (0, 0, 0, 0, 0, 0)\n",
      "H_3 Finitely generated module V/W over Integer Ring with invariants ()\n",
      "H_2 generators, Intersection form, signature, parity\n",
      "([(0, 0, 0, 1, 0, 0, 0, 0, 0, 0, 0, 0, 0, 0, 0, 0, 0, 0, 0, 0, 0, 0, 0, 0, 0, 0, 0, 0, 0, 0, 0, 0, 0, 0, 0, 0, 0, 0, 0, 0, 0, 0, 0, 0, 0, 0, 0, 0, 0, 0, 0, 0, 0, 0, 0, 0), (0, 0, 0, 0, 0, 1, -1, 0, 0, 0, 0, 0, 0, 0, 0, 0, 0, 0, 0, 0, 0, 0, 0, 0, 0, 0, 0, 0, 0, 0, 0, 0, 0, 0, 0, 0, 0, 0, 0, 0, 0, 0, 0, 0, 0, 0, 0, 0, 0, 0, 0, 0, 0, 0, 0, 0), (0, 0, 0, 0, 0, 0, 0, 0, 0, 0, 0, 0, 0, 0, 0, 0, 0, 0, 0, 0, 0, 0, 0, 0, 0, 0, 0, 1, 0, 0, 0, 0, 0, 0, 0, 0, 0, 0, 0, 0, 0, 0, 0, 0, 0, 0, 0, 0, 0, 0, 0, 0, 0, 0, 0, 0), (0, 0, 0, 0, 0, 0, 0, 0, 0, 0, 0, 0, 0, 0, 0, 0, 0, 0, 0, 0, 0, 0, 0, 0, 0, 0, 0, 0, 0, 1, -1, 0, 0, 0, 0, 0, 0, 0, 0, 0, 0, 0, 0, 0, 0, 0, 0, 0, 0, 0, 0, 0, 0, 0, 0, 0), (0, 0, 0, 0, 0, 0, 0, 0, 0, 0, 0, 0, 0, 0, 0, 0, 0, 0, 0, 0, 0, 0, 0, 0, 0, 0, 0, 0, 0, 0, 0, 0, 0, 0, 0, 1, 0, 0, 0, 0, 0, 0, 0, 0, 0, 0, 0, 0, 0, 0, 0, 0, 0, 0, 0, 0), (0, 0, 0, 0, 0, 0, 0, 0, 0, 0, 0, 0, 0, 0, 0, 0, 0, 0, 0, 0, 0, 0, 0, 0, 0, 0, 0, 0, 0, 0, 0, 0, 0, 0, 0, 0, 0, 1, -1, 0, 0, 0, 0, 0, 0, 0, 0, 0, 0, 0, 0, 0, 0, 0, 0, 0)], [ 0 -1  0  0  0  0]\n",
      "[-1 -9  0  0  0 -3]\n",
      "[ 0  0  0 -1  0  0]\n",
      "[ 0  0 -1 -6  0 -3]\n",
      "[ 0  0  0  0  0 -1]\n",
      "[ 0 -3  0 -3 -1 -6], 0, 'odd')\n"
     ]
    }
   ],
   "source": [
    "display_invariants(6,7)"
   ]
  },
  {
   "cell_type": "code",
   "execution_count": 4,
   "id": "8326d5e7",
   "metadata": {},
   "outputs": [
    {
     "name": "stdout",
     "output_type": "stream",
     "text": [
      "0 -twist spin of T(2, 3 ) torus knot\n",
      "coloring\n",
      "[(2,3), (2,3), (1,3), (1,3), (1,3), (1,3), (1,3), (1,3)]\n",
      "Valid coloring?\n",
      "True\n",
      "True\n",
      "True\n",
      "Trisection parameters [2, [0, 0, 0]]\n",
      "Euler characteristic 4\n",
      "pi_1(branched cover) Finitely presented group <  |  >\n",
      "H_1 Finitely generated module V/W over Integer Ring with invariants ()\n",
      "H_2 Finitely generated module V/W over Integer Ring with invariants (0, 0)\n",
      "H_3 Finitely generated module V/W over Integer Ring with invariants ()\n",
      "Intersection form, signature, parity\n",
      "([ 0 -1]\n",
      "[-1  0], 0, 'even')\n",
      "\n",
      "2 -twist spin of T(2, 3 ) torus knot\n",
      "coloring\n",
      "[(2,3), (2,3), (1,3), (1,3), (1,3), (1,3), (1,3), (1,3)]\n",
      "Valid coloring?\n",
      "True\n",
      "True\n",
      "True\n",
      "Trisection parameters [2, [0, 0, 0]]\n",
      "Euler characteristic 4\n",
      "pi_1(branched cover) Finitely presented group <  |  >\n",
      "H_1 Finitely generated module V/W over Integer Ring with invariants ()\n",
      "H_2 Finitely generated module V/W over Integer Ring with invariants (0, 0)\n",
      "H_3 Finitely generated module V/W over Integer Ring with invariants ()\n",
      "Intersection form, signature, parity\n",
      "([ 0 -1]\n",
      "[-1 -3], 0, 'odd')\n",
      "\n",
      "4 -twist spin of T(2, 3 ) torus knot\n",
      "coloring\n",
      "[(2,3), (2,3), (1,3), (1,3), (1,3), (1,3), (1,3), (1,3)]\n",
      "Valid coloring?\n",
      "True\n",
      "True\n",
      "True\n",
      "Trisection parameters [2, [0, 0, 0]]\n",
      "Euler characteristic 4\n",
      "pi_1(branched cover) Finitely presented group <  |  >\n",
      "H_1 Finitely generated module V/W over Integer Ring with invariants ()\n",
      "H_2 Finitely generated module V/W over Integer Ring with invariants (0, 0)\n",
      "H_3 Finitely generated module V/W over Integer Ring with invariants ()\n",
      "Intersection form, signature, parity\n",
      "([ 0 -1]\n",
      "[-1 -6], 0, 'even')\n",
      "\n",
      "6 -twist spin of T(2, 3 ) torus knot\n",
      "coloring\n",
      "[(2,3), (2,3), (1,3), (1,3), (1,3), (1,3), (1,3), (1,3)]\n",
      "Valid coloring?\n",
      "True\n",
      "True\n",
      "True\n",
      "Trisection parameters [2, [0, 0, 0]]\n",
      "Euler characteristic 4\n",
      "pi_1(branched cover) Finitely presented group <  |  >\n",
      "H_1 Finitely generated module V/W over Integer Ring with invariants ()\n",
      "H_2 Finitely generated module V/W over Integer Ring with invariants (0, 0)\n",
      "H_3 Finitely generated module V/W over Integer Ring with invariants ()\n",
      "Intersection form, signature, parity\n",
      "([ 0 -1]\n",
      "[-1 -9], 0, 'odd')\n",
      "\n",
      "0 -twist spin of T(2, 5 ) torus knot\n",
      "coloring\n",
      "[(2,5)(3,4), (2,5)(3,4), (1,3)(4,5), (1,3)(4,5), (1,3)(4,5), (1,3)(4,5), (1,3)(4,5), (1,3)(4,5)]\n",
      "Valid coloring?\n",
      "True\n",
      "True\n",
      "True\n",
      "Trisection parameters [4, [0, 0, 0]]\n",
      "Euler characteristic 6\n",
      "pi_1(branched cover) Finitely presented group <  |  >\n",
      "H_1 Finitely generated module V/W over Integer Ring with invariants ()\n",
      "H_2 Finitely generated module V/W over Integer Ring with invariants (0, 0, 0, 0)\n",
      "H_3 Finitely generated module V/W over Integer Ring with invariants ()\n",
      "Intersection form, signature, parity\n",
      "([ 0 -1  0  0]\n",
      "[-1  0  0  0]\n",
      "[ 0  0  0 -1]\n",
      "[ 0  0 -1  0], 0, 'even')\n",
      "\n",
      "2 -twist spin of T(2, 5 ) torus knot\n",
      "coloring\n",
      "[(2,5)(3,4), (2,5)(3,4), (1,3)(4,5), (1,3)(4,5), (1,3)(4,5), (1,3)(4,5), (1,3)(4,5), (1,3)(4,5)]\n",
      "Valid coloring?\n",
      "True\n",
      "True\n",
      "True\n",
      "Trisection parameters [4, [0, 0, 0]]\n",
      "Euler characteristic 6\n",
      "pi_1(branched cover) Finitely presented group <  |  >\n",
      "H_1 Finitely generated module V/W over Integer Ring with invariants ()\n",
      "H_2 Finitely generated module V/W over Integer Ring with invariants (0, 0, 0, 0)\n",
      "H_3 Finitely generated module V/W over Integer Ring with invariants ()\n",
      "Intersection form, signature, parity\n",
      "([ 0 -1  0  0]\n",
      "[-1 -3  0  1]\n",
      "[ 0  0  0 -1]\n",
      "[ 0  1 -1 -2], 0, 'odd')\n",
      "\n",
      "4 -twist spin of T(2, 5 ) torus knot\n",
      "coloring\n",
      "[(2,5)(3,4), (2,5)(3,4), (1,3)(4,5), (1,3)(4,5), (1,3)(4,5), (1,3)(4,5), (1,3)(4,5), (1,3)(4,5)]\n",
      "Valid coloring?\n",
      "True\n",
      "True\n",
      "True\n",
      "Trisection parameters [4, [0, 0, 0]]\n",
      "Euler characteristic 6\n",
      "pi_1(branched cover) Finitely presented group <  |  >\n",
      "H_1 Finitely generated module V/W over Integer Ring with invariants ()\n",
      "H_2 Finitely generated module V/W over Integer Ring with invariants (0, 0, 0, 0)\n",
      "H_3 Finitely generated module V/W over Integer Ring with invariants ()\n",
      "Intersection form, signature, parity\n",
      "([ 0 -1  0  0]\n",
      "[-1 -6  0  2]\n",
      "[ 0  0  0 -1]\n",
      "[ 0  2 -1 -4], 0, 'even')\n",
      "\n",
      "6 -twist spin of T(2, 5 ) torus knot\n",
      "coloring\n",
      "[(2,5)(3,4), (2,5)(3,4), (1,3)(4,5), (1,3)(4,5), (1,3)(4,5), (1,3)(4,5), (1,3)(4,5), (1,3)(4,5)]\n",
      "Valid coloring?\n",
      "True\n",
      "True\n",
      "True\n",
      "Trisection parameters [4, [0, 0, 0]]\n",
      "Euler characteristic 6\n",
      "pi_1(branched cover) Finitely presented group <  |  >\n",
      "H_1 Finitely generated module V/W over Integer Ring with invariants ()\n",
      "H_2 Finitely generated module V/W over Integer Ring with invariants (0, 0, 0, 0)\n",
      "H_3 Finitely generated module V/W over Integer Ring with invariants ()\n",
      "Intersection form, signature, parity\n",
      "([ 0 -1  0  0]\n",
      "[-1 -9  0  3]\n",
      "[ 0  0  0 -1]\n",
      "[ 0  3 -1 -6], 0, 'odd')\n",
      "\n"
     ]
    }
   ],
   "source": [
    "for k in range(1,3):\n",
    "    for l in range(0,4):\n",
    "        p=2*k+1\n",
    "        t=2*l\n",
    "        display_invariants(t,p)\n",
    "        print()"
   ]
  },
  {
   "cell_type": "code",
   "execution_count": null,
   "id": "10876a3b",
   "metadata": {},
   "outputs": [],
   "source": []
  }
 ],
 "metadata": {
  "kernelspec": {
   "display_name": "SageMath 9.6",
   "language": "sage",
   "name": "sagemath-9.6"
  },
  "language_info": {
   "codemirror_mode": {
    "name": "ipython",
    "version": 3
   },
   "file_extension": ".py",
   "mimetype": "text/x-python",
   "name": "python",
   "nbconvert_exporter": "python",
   "pygments_lexer": "ipython3",
   "version": "3.10.3"
  }
 },
 "nbformat": 4,
 "nbformat_minor": 5
}
