{
 "cells": [
  {
   "cell_type": "code",
   "execution_count": 28,
   "id": "5e2b28a7",
   "metadata": {},
   "outputs": [],
   "source": [
    "load('./src/bridge_trisections.sage')"
   ]
  },
  {
   "cell_type": "code",
   "execution_count": 88,
   "id": "05f8ad85",
   "metadata": {},
   "outputs": [
    {
     "name": "stdout",
     "output_type": "stream",
     "text": [
      "[(2,5)(3,4), (2,5)(3,4), (1,3)(4,5), (1,3)(4,5), (1,3)(4,5), (1,3)(4,5), (1,3)(4,5), (1,3)(4,5)]\n"
     ]
    }
   ],
   "source": [
    "p=5\n",
    "bridge_number = 4\n",
    "symmetric_group_rank = p\n",
    "\n",
    "spun_torus = tau_l_T_2_b(0, p)\n",
    "\n",
    "spun_torus_F = FreeGroup(2*bridge_number)\n",
    "spun_torus_S = SymmetricGroup(symmetric_group_rank)\n",
    "\n",
    "spun_torus_tangles_dict = {\n",
    "        'red': spun_trefoil.red_tangle,\n",
    "        'blu': spun_trefoil.blu_tangle,\n",
    "        'gre': spun_trefoil.gre_tangle,\n",
    "    }\n",
    "\n",
    "#construct reflections over vertices 1 and 2 of p-gon\n",
    "pairs=[]\n",
    "for v in range(1,(p+1)/2):\n",
    "    pairs.append((v+1,p-v+1))\n",
    "\n",
    "reflection_1=spun_torus_S('()')\n",
    "for pair in pairs:\n",
    "    transposition=spun_torus_S(pair)\n",
    "    reflection_1=reflection_1*transposition\n",
    "\n",
    "cycle_tuple=tuple([i+1 for i in range(p)])\n",
    "\n",
    "cycle=spun_torus_S(cycle_tuple)\n",
    "reflection_2=cycle^-1*reflection_1*cycle\n",
    "\n",
    "\n",
    "spun_torus_images_of_generators=2*[reflection_1]+6*[reflection_2]    \n",
    "print(spun_torus_images_of_generators)\n"
   ]
  },
  {
   "cell_type": "code",
   "execution_count": 89,
   "id": "e894f16f-3fc9-4134-8e81-9a3ca3b3e216",
   "metadata": {},
   "outputs": [],
   "source": [
    "colored_spun_torus = Colored_bridge_trisection(spun_torus_F,\n",
    "                                            spun_torus_S,\n",
    "                                            spun_torus_tangles_dict,\n",
    "                                            spun_torus_images_of_generators)"
   ]
  },
  {
   "cell_type": "code",
   "execution_count": 90,
   "id": "b1a52298",
   "metadata": {},
   "outputs": [
    {
     "name": "stdout",
     "output_type": "stream",
     "text": [
      "Parameter mismatch: 3D-handlebody genus\n",
      "Handlebody genera: [4, 4, 2]\n",
      "Core surface genus: 4\n"
     ]
    }
   ],
   "source": [
    "colored_spun_torus.trisection_parameters_branched_cover()"
   ]
  },
  {
   "cell_type": "code",
   "execution_count": 91,
   "id": "2031765b",
   "metadata": {},
   "outputs": [
    {
     "name": "stdout",
     "output_type": "stream",
     "text": [
      "red Finitely presented group < x3, x4, x27, x28 |  >\n",
      "red [x0*x1*x2*x17*x26*x9^-1*x10^-1*x33^-1, x8*x33*x10*x9*x34*x17^-1*x2^-1*x1^-1, x16*x25*x18*x1*x2*x25^-1*x34^-1*x9^-1, x24*x17*x26*x33*x10*x33^-1*x26^-1*x17^-1, x32*x9*x34*x25*x18*x1^-1*x18^-1*x25^-1, x1*x2*x17*x34^-1*x9^-1*x15, x9*x34*x25*x2^-1*x1^-1*x7, x17*x26*x33*x10^-1*x33^-1*x39, x25*x18*x1*x18^-1*x25^-1*x31, x33*x10*x9*x26^-1*x17^-1*x23, x3*x22, x11*x14, x19*x6, x27*x38, x35*x30, x4*x21, x12*x13, x20*x5, x28*x37, x36*x29]\n",
      "blu Finitely presented group < x3, x6, x27, x30 |  >\n",
      "blu [x0*x1*x2*x17*x26*x9^-1*x10^-1*x33^-1, x8*x33*x10*x9*x34*x17^-1*x2^-1*x1^-1, x16*x25*x18*x1*x2*x25^-1*x34^-1*x9^-1, x24*x17*x26*x33*x10*x33^-1*x26^-1*x17^-1, x32*x9*x34*x25*x18*x1^-1*x18^-1*x25^-1, x1*x2*x17*x34^-1*x9^-1*x13, x9*x34*x25*x2^-1*x1^-1*x5, x17*x26*x33*x10^-1*x33^-1*x37, x25*x18*x1*x18^-1*x25^-1*x29, x33*x10*x9*x26^-1*x17^-1*x21, x3*x20, x11*x12, x19*x4, x27*x36, x35*x28, x6*x23, x14*x15, x22*x7, x30*x39, x38*x31]\n",
      "gre Finitely presented group < x5, x29 |  >\n",
      "gre [x0*x1*x4*x17*x28*x9^-1*x12^-1*x33^-1, x8*x33*x12*x9*x36*x17^-1*x4^-1*x1^-1, x16*x25*x20*x1*x4*x25^-1*x36^-1*x9^-1, x24*x17*x28*x33*x12*x33^-1*x28^-1*x17^-1, x32*x9*x36*x25*x20*x1^-1*x20^-1*x25^-1, x1*x4*x17*x36^-1*x9^-1*x15, x9*x36*x25*x4^-1*x1^-1*x7, x17*x28*x33*x12^-1*x33^-1*x39, x25*x20*x1*x20^-1*x25^-1*x31, x33*x12*x9*x28^-1*x17^-1*x23, x2*x19, x10*x11, x18*x3, x26*x35, x34*x27, x5*x22, x13*x14, x21*x6, x29*x38, x37*x30]\n"
     ]
    }
   ],
   "source": [
    "for (key, tangle) in colored_spun_torus.colored_tangles.items():\n",
    "    print(key,tangle.handlebody_group().simplified())\n",
    "    print(key,tangle.lift_relations_reindex())\n",
    "    "
   ]
  },
  {
   "cell_type": "code",
   "execution_count": 71,
   "id": "cab52a3b-256c-41d1-91bd-271494e442c5",
   "metadata": {},
   "outputs": [],
   "source": [
    "pi_1_br = colored_spun_torus.pi_1_branched_cover()\n",
    "pi_1_unbr = colored_spun_torus.pi_1_unbranched_cover()"
   ]
  },
  {
   "cell_type": "code",
   "execution_count": 9,
   "id": "28bf3c92",
   "metadata": {},
   "outputs": [
    {
     "data": {
      "text/plain": [
       "Generic morphism:\n",
       "  From: Finitely presented group < x0, x1, x2, x3, x4, x5, x6, x7, x8, x9, x10, x11, x12, x13, x14, x15, x16, x17, x18, x19, x20, x21, x22, x23, x24, x25, x26, x27, x28, x29, x30, x31, x32, x33, x34, x35, x36, x37, x38, x39 | x0*x1*x2*x17*x26*x9^-1*x10^-1*x33^-1, x8*x33*x10*x9*x34*x17^-1*x2^-1*x1^-1, x16*x25*x18*x1*x2*x25^-1*x34^-1*x9^-1, x24*x17*x26*x33*x10*x33^-1*x26^-1*x17^-1, x32*x9*x34*x25*x18*x1^-1*x18^-1*x25^-1, x1*x2*x17*x34^-1*x9^-1*x15, x9*x34*x25*x2^-1*x1^-1*x7, x17*x26*x33*x10^-1*x33^-1*x39, x25*x18*x1*x18^-1*x25^-1*x31, x33*x10*x9*x26^-1*x17^-1*x23, x3*x22, x11*x14, x19*x6, x27*x38, x35*x30, x4*x21, x12*x13, x20*x5, x28*x37, x36*x29, 1, x2, x2*x16, x2*x16*x26, x2*x16*x26*x32, x0, x8*x32, x16*x24, x1, x9*x33, x17*x25, x2*x18, x10, x26*x34, x3*x19, x11, x27*x35, x4*x20, x12, x28*x36, x5*x21, x13, x29*x37, x6*x22, x14, x30*x38, x7*x23, x15, x31*x39, x0*x1*x2*x17*x26*x9^-1*x10^-1*x33^-1, x8*x33*x10*x9*x34*x17^-1*x2^-1*x1^-1, x16*x25*x18*x1*x2*x25^-1*x34^-1*x9^-1, x24*x17*x26*x33*x10*x33^-1*x26^-1*x17^-1, x32*x9*x34*x25*x18*x1^-1*x18^-1*x25^-1, x1*x2*x17*x34^-1*x9^-1*x13, x9*x34*x25*x2^-1*x1^-1*x5, x17*x26*x33*x10^-1*x33^-1*x37, x25*x18*x1*x18^-1*x25^-1*x29, x33*x10*x9*x26^-1*x17^-1*x21, x3*x20, x11*x12, x19*x4, x27*x36, x35*x28, x6*x23, x14*x15, x22*x7, x30*x39, x38*x31, 1, x2, x2*x16, x2*x16*x26, x2*x16*x26*x32, x0, x8*x32, x16*x24, x1, x9*x33, x17*x25, x2*x18, x10, x26*x34, x3*x19, x11, x27*x35, x4*x20, x12, x28*x36, x5*x21, x13, x29*x37, x6*x22, x14, x30*x38, x7*x23, x15, x31*x39, x0*x1*x4*x17*x28*x9^-1*x12^-1*x33^-1, x8*x33*x12*x9*x36*x17^-1*x4^-1*x1^-1, x16*x25*x20*x1*x4*x25^-1*x36^-1*x9^-1, x24*x17*x28*x33*x12*x33^-1*x28^-1*x17^-1, x32*x9*x36*x25*x20*x1^-1*x20^-1*x25^-1, x1*x4*x17*x36^-1*x9^-1*x15, x9*x36*x25*x4^-1*x1^-1*x7, x17*x28*x33*x12^-1*x33^-1*x39, x25*x20*x1*x20^-1*x25^-1*x31, x33*x12*x9*x28^-1*x17^-1*x23, x2*x19, x10*x11, x18*x3, x26*x35, x34*x27, x5*x22, x13*x14, x21*x6, x29*x38, x37*x30, 1, x2, x2*x16, x2*x16*x26, x2*x16*x26*x32, x0, x8*x32, x16*x24, x1, x9*x33, x17*x25, x2*x18, x10, x26*x34, x3*x19, x11, x27*x35, x4*x20, x12, x28*x36, x5*x21, x13, x29*x37, x6*x22, x14, x30*x38, x7*x23, x15, x31*x39 >\n",
       "  To:   Finitely presented group <  |  >\n",
       "  Defn: x0 |--> 1\n",
       "        x1 |--> 1\n",
       "        x2 |--> 1\n",
       "        x3 |--> 1\n",
       "        x4 |--> 1\n",
       "        x5 |--> 1\n",
       "        x6 |--> 1\n",
       "        x7 |--> 1\n",
       "        x8 |--> 1\n",
       "        x9 |--> 1\n",
       "        x10 |--> 1\n",
       "        x11 |--> 1\n",
       "        x12 |--> 1\n",
       "        x13 |--> 1\n",
       "        x14 |--> 1\n",
       "        x15 |--> 1\n",
       "        x16 |--> 1\n",
       "        x17 |--> 1\n",
       "        x18 |--> 1\n",
       "        x19 |--> 1\n",
       "        x20 |--> 1\n",
       "        x21 |--> 1\n",
       "        x22 |--> 1\n",
       "        x23 |--> 1\n",
       "        x24 |--> 1\n",
       "        x25 |--> 1\n",
       "        x26 |--> 1\n",
       "        x27 |--> 1\n",
       "        x28 |--> 1\n",
       "        x29 |--> 1\n",
       "        x30 |--> 1\n",
       "        x31 |--> 1\n",
       "        x32 |--> 1\n",
       "        x33 |--> 1\n",
       "        x34 |--> 1\n",
       "        x35 |--> 1\n",
       "        x36 |--> 1\n",
       "        x37 |--> 1\n",
       "        x38 |--> 1\n",
       "        x39 |--> 1"
      ]
     },
     "execution_count": 9,
     "metadata": {},
     "output_type": "execute_result"
    }
   ],
   "source": [
    "pi_1_br.simplification_isomorphism()"
   ]
  },
  {
   "cell_type": "code",
   "execution_count": 10,
   "id": "d39cf804",
   "metadata": {},
   "outputs": [
    {
     "data": {
      "text/plain": [
       "Generic morphism:\n",
       "  From: Finitely presented group < x0, x1, x2, x3, x4, x5, x6, x7, x8, x9, x10, x11, x12, x13, x14, x15, x16, x17, x18, x19, x20, x21, x22, x23, x24, x25, x26, x27, x28, x29, x30, x31, x32, x33, x34, x35, x36, x37, x38, x39 | 1, x2, x2*x16, x2*x16*x26, x2*x16*x26*x32, x0*x1*x2*x17*x26*x9^-1*x10^-1*x33^-1, x8*x33*x10*x9*x34*x17^-1*x2^-1*x1^-1, x16*x25*x18*x1*x2*x25^-1*x34^-1*x9^-1, x24*x17*x26*x33*x10*x33^-1*x26^-1*x17^-1, x32*x9*x34*x25*x18*x1^-1*x18^-1*x25^-1, x1*x2*x17*x34^-1*x9^-1*x15, x9*x34*x25*x2^-1*x1^-1*x7, x17*x26*x33*x10^-1*x33^-1*x39, x25*x18*x1*x18^-1*x25^-1*x31, x33*x10*x9*x26^-1*x17^-1*x23, x3*x22, x11*x14, x19*x6, x27*x38, x35*x30, x4*x21, x12*x13, x20*x5, x28*x37, x36*x29, 1, x2, x2*x16, x2*x16*x26, x2*x16*x26*x32, x0*x1*x2*x17*x26*x9^-1*x10^-1*x33^-1, x8*x33*x10*x9*x34*x17^-1*x2^-1*x1^-1, x16*x25*x18*x1*x2*x25^-1*x34^-1*x9^-1, x24*x17*x26*x33*x10*x33^-1*x26^-1*x17^-1, x32*x9*x34*x25*x18*x1^-1*x18^-1*x25^-1, x1*x2*x17*x34^-1*x9^-1*x13, x9*x34*x25*x2^-1*x1^-1*x5, x17*x26*x33*x10^-1*x33^-1*x37, x25*x18*x1*x18^-1*x25^-1*x29, x33*x10*x9*x26^-1*x17^-1*x21, x3*x20, x11*x12, x19*x4, x27*x36, x35*x28, x6*x23, x14*x15, x22*x7, x30*x39, x38*x31, 1, x2, x2*x16, x2*x16*x26, x2*x16*x26*x32, x0*x1*x4*x17*x28*x9^-1*x12^-1*x33^-1, x8*x33*x12*x9*x36*x17^-1*x4^-1*x1^-1, x16*x25*x20*x1*x4*x25^-1*x36^-1*x9^-1, x24*x17*x28*x33*x12*x33^-1*x28^-1*x17^-1, x32*x9*x36*x25*x20*x1^-1*x20^-1*x25^-1, x1*x4*x17*x36^-1*x9^-1*x15, x9*x36*x25*x4^-1*x1^-1*x7, x17*x28*x33*x12^-1*x33^-1*x39, x25*x20*x1*x20^-1*x25^-1*x31, x33*x12*x9*x28^-1*x17^-1*x23, x2*x19, x10*x11, x18*x3, x26*x35, x34*x27, x5*x22, x13*x14, x21*x6, x29*x38, x37*x30 >\n",
       "  To:   Finitely presented group < x0, x10 | x0^-1*x10*x0*x10^-1 >\n",
       "  Defn: x0 |--> x0\n",
       "        x1 |--> x0^-1\n",
       "        x2 |--> 1\n",
       "        x3 |--> 1\n",
       "        x4 |--> 1\n",
       "        x5 |--> 1\n",
       "        x6 |--> 1\n",
       "        x7 |--> 1\n",
       "        x8 |--> 1\n",
       "        x9 |--> 1\n",
       "        x10 |--> x10\n",
       "        x11 |--> x10^-1\n",
       "        x12 |--> x10\n",
       "        x13 |--> x10^-1\n",
       "        x14 |--> x10\n",
       "        x15 |--> x10^-1\n",
       "        x16 |--> 1\n",
       "        x17 |--> x10\n",
       "        x18 |--> 1\n",
       "        x19 |--> 1\n",
       "        x20 |--> 1\n",
       "        x21 |--> 1\n",
       "        x22 |--> 1\n",
       "        x23 |--> 1\n",
       "        x24 |--> x10^-1\n",
       "        x25 |--> 1\n",
       "        x26 |--> 1\n",
       "        x27 |--> x0\n",
       "        x28 |--> 1\n",
       "        x29 |--> x0\n",
       "        x30 |--> 1\n",
       "        x31 |--> x0\n",
       "        x32 |--> 1\n",
       "        x33 |--> 1\n",
       "        x34 |--> x0^-1\n",
       "        x35 |--> 1\n",
       "        x36 |--> x0^-1\n",
       "        x37 |--> 1\n",
       "        x38 |--> x0^-1\n",
       "        x39 |--> 1"
      ]
     },
     "execution_count": 10,
     "metadata": {},
     "output_type": "execute_result"
    }
   ],
   "source": [
    "pi_1_unbr.simplification_isomorphism()"
   ]
  },
  {
   "cell_type": "code",
   "execution_count": 12,
   "id": "2c0837c9",
   "metadata": {},
   "outputs": [
    {
     "name": "stdout",
     "output_type": "stream",
     "text": [
      "True\n",
      "True\n",
      "True\n"
     ]
    }
   ],
   "source": [
    "colored_spun_torus.check_pi_1_branched_cover_3_manifolds_free()"
   ]
  },
  {
   "cell_type": "code",
   "execution_count": 13,
   "id": "faeec57d-8146-46e2-a70c-fb0033d3b463",
   "metadata": {},
   "outputs": [
    {
     "name": "stdout",
     "output_type": "stream",
     "text": [
      "Parameter mismatch: 3D-handlebody genus\n"
     ]
    }
   ],
   "source": [
    "colored_spun_torus.trisection_parameters_branched_cover()"
   ]
  },
  {
   "cell_type": "code",
   "execution_count": null,
   "id": "32d813c2",
   "metadata": {},
   "outputs": [],
   "source": []
  }
 ],
 "metadata": {
  "kernelspec": {
   "display_name": "SageMath 9.4",
   "language": "sage",
   "name": "sagemath-9.4"
  },
  "language_info": {
   "codemirror_mode": {
    "name": "ipython",
    "version": 3
   },
   "file_extension": ".py",
   "mimetype": "text/x-python",
   "name": "python",
   "nbconvert_exporter": "python",
   "pygments_lexer": "ipython3",
   "version": "3.9.5"
  }
 },
 "nbformat": 4,
 "nbformat_minor": 5
}
