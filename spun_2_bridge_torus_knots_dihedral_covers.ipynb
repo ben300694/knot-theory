{
 "cells": [
  {
   "cell_type": "code",
   "execution_count": 1,
   "id": "5e2b28a7",
   "metadata": {},
   "outputs": [],
   "source": [
    "load('./src/bridge_trisections.sage')"
   ]
  },
  {
   "cell_type": "code",
   "execution_count": 10,
   "id": "05f8ad85",
   "metadata": {},
   "outputs": [
    {
     "name": "stdout",
     "output_type": "stream",
     "text": [
      "[(2,5)(3,4), (2,5)(3,4), (1,3)(4,5), (1,3)(4,5), (1,3)(4,5), (1,3)(4,5), (1,3)(4,5), (1,3)(4,5)]\n"
     ]
    }
   ],
   "source": [
    "p=5\n",
    "bridge_number = 4\n",
    "symmetric_group_rank = p\n",
    "\n",
    "spun_torus = tau_l_T_2_b(0, p)#0 twist T(2,p)\n",
    "\n",
    "spun_torus_F = FreeGroup(2*bridge_number)\n",
    "spun_torus_S = SymmetricGroup(symmetric_group_rank)\n",
    "\n",
    "spun_torus_tangles_dict = {\n",
    "        'red': spun_torus.red_tangle,\n",
    "        'blu': spun_torus.blu_tangle,\n",
    "        'gre': spun_torus.gre_tangle,\n",
    "    }\n",
    "\n",
    "#construct reflections over vertices 1 and 2 of p-gon\n",
    "pairs=[]\n",
    "for v in range(1,(p+1)/2):\n",
    "    pairs.append((v+1,p-v+1))\n",
    "\n",
    "reflection_1=spun_torus_S('()')\n",
    "for pair in pairs:\n",
    "    transposition=spun_torus_S(pair)\n",
    "    reflection_1=reflection_1*transposition\n",
    "\n",
    "cycle_tuple=tuple([i+1 for i in range(p)])\n",
    "\n",
    "cycle=spun_torus_S(cycle_tuple)\n",
    "reflection_2=cycle^-1*reflection_1*cycle\n",
    "\n",
    "#For dihedral cover\n",
    "spun_torus_images_of_generators=2*[reflection_1]+6*[reflection_2] \n",
    "\n",
    "\n",
    "print(spun_torus_images_of_generators)\n"
   ]
  },
  {
   "cell_type": "code",
   "execution_count": 11,
   "id": "e894f16f-3fc9-4134-8e81-9a3ca3b3e216",
   "metadata": {},
   "outputs": [],
   "source": [
    "colored_spun_torus = Colored_bridge_trisection(spun_torus_F,\n",
    "                                            spun_torus_S,\n",
    "                                            spun_torus_tangles_dict,\n",
    "                                             spun_torus_images_of_generators)"
   ]
  },
  {
   "cell_type": "code",
   "execution_count": 12,
   "id": "3f47e19e",
   "metadata": {},
   "outputs": [
    {
     "data": {
      "text/plain": [
       "[4, [0, 0, 0]]"
      ]
     },
     "execution_count": 12,
     "metadata": {},
     "output_type": "execute_result"
    }
   ],
   "source": [
    "colored_spun_torus.trisection_parameters_branched_cover()"
   ]
  },
  {
   "cell_type": "code",
   "execution_count": 13,
   "id": "cab52a3b-256c-41d1-91bd-271494e442c5",
   "metadata": {},
   "outputs": [],
   "source": [
    "pi_1_br = colored_spun_torus.pi_1_branched_cover()\n",
    "pi_1_unbr = colored_spun_torus.pi_1_unbranched_cover()"
   ]
  },
  {
   "cell_type": "code",
   "execution_count": 14,
   "id": "28bf3c92",
   "metadata": {},
   "outputs": [
    {
     "data": {
      "text/plain": [
       "Finitely presented group <  |  >"
      ]
     },
     "execution_count": 14,
     "metadata": {},
     "output_type": "execute_result"
    }
   ],
   "source": [
    "pi_1_br.simplified()"
   ]
  },
  {
   "cell_type": "code",
   "execution_count": 15,
   "id": "d39cf804",
   "metadata": {},
   "outputs": [
    {
     "data": {
      "text/plain": [
       "Finitely presented group < x0, x8, x17 | x8^-1*x0^-1*x17*x8^-1*x0^-1*(x17^-1*x0*x8)^2*x17, x8^-1*x0^-1*x17*(x8*x17^-1*x0)^2*x8^-1*x0^-1*x17 >"
      ]
     },
     "execution_count": 15,
     "metadata": {},
     "output_type": "execute_result"
    }
   ],
   "source": [
    "pi_1_unbr.simplified()"
   ]
  },
  {
   "cell_type": "code",
   "execution_count": null,
   "id": "32d813c2",
   "metadata": {},
   "outputs": [],
   "source": []
  }
 ],
 "metadata": {
  "kernelspec": {
   "display_name": "SageMath 9.5",
   "language": "sage",
   "name": "sagemath-9.5"
  },
  "language_info": {
   "codemirror_mode": {
    "name": "ipython",
    "version": 3
   },
   "file_extension": ".py",
   "mimetype": "text/x-python",
   "name": "python",
   "nbconvert_exporter": "python",
   "pygments_lexer": "ipython3",
   "version": "3.9.9"
  }
 },
 "nbformat": 4,
 "nbformat_minor": 5
}
