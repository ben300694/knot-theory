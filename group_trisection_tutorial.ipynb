{
 "cells": [
  {
   "cell_type": "code",
   "execution_count": 10,
   "id": "ff2aac0c-f622-4827-b9ab-a65f808a6667",
   "metadata": {},
   "outputs": [],
   "source": [
    "load('./src/bridge_trisections.sage')"
   ]
  },
  {
   "cell_type": "code",
   "execution_count": 3,
   "id": "aff4c10a-e9f7-4339-9272-110a4be5b33e",
   "metadata": {},
   "outputs": [
    {
     "data": {
      "text/plain": [
       "{'F': Free Group on generators {x0, x1, x2, x3}, 'S': Symmetric group of order 3! as a permutation group, 'relations_source': [x1*x3^-1*x0*x2], 'representation': Group morphism:\n",
       "  From: Free Group on generators {x0, x1, x2, x3}\n",
       "  To:   Symmetric group of order 3! as a permutation group, 'coverF': Free Group on generators {x0, x1, x2, x3, x4, x5, x6, x7, x8, x9, x10, x11}, 'surface': {'F': Free Group on generators {x0, x1, x2, x3}, 'S': Symmetric group of order 3! as a permutation group, 'representation': Group morphism:\n",
       "  From: Free Group on generators {x0, x1, x2, x3}\n",
       "  To:   Symmetric group of order 3! as a permutation group, 'coverF': Free Group on generators {x0, x1, x2, x3, x4, x5, x6, x7, x8, x9, x10, x11}, 'relation': x0^-1*x1^-1*x2^-1*x3^-1}}"
      ]
     },
     "execution_count": 3,
     "metadata": {},
     "output_type": "execute_result"
    }
   ],
   "source": [
    "test_F = FreeGroup(4)\n",
    "test_S = SymmetricGroup(3)\n",
    "# Suppose S is the symmetric group\n",
    "# We can act by elements of the symmetric group by writing\n",
    "# S('(1, 2)')(1), the result is 2\n",
    "# Another example:\n",
    "# test_hom(test_F([1]))(1) is the action of the image of x0 on the number '1'\n",
    "\n",
    "# Write down list with images of generators of F in the symmetric group\n",
    "test_images_of_generators = ['(1, 2)', '(1, 2)', '(2, 3)', '(2, 3)']\n",
    "\n",
    "# Relation in the handwritting notes from 2021-12-03 that we can\n",
    "# test the implementation of the Reidemeister-Schreier algorithm on\n",
    "# to obtain the word in the free group\n",
    "test_relation = test_F([2, -4, 1, 3])\n",
    "\n",
    "# can get the list of indices determining the word via test_relation.Tietze()\n",
    "\n",
    "# Constructing an example coloring to test our functions on\n",
    "test_coloring = Colored_trivial_tangle(test_F, test_S, [test_relation], test_images_of_generators)\n",
    "\n",
    "# Compute the image of test_relation under the homomorphism\n",
    "test_coloring.representation(test_relation)\n",
    "\n",
    "\n",
    "# new example of one of the tangles in the spun trefoil\n",
    "trefoil_F = FreeGroup(8)\n",
    "trefoil_S = SymmetricGroup(3)\n",
    "trefoil_cover_F=FreeGroup(8*3)\n",
    "# in our coloring of the spun trefoil,\n",
    "# first two points map to (1, 2), all of the others to (1, 3)\n",
    "trefoil_images_of_generators = ['(1, 2)', '(1, 2)', '(1, 3)', '(1, 3)', '(1, 3)', '(1, 3)', '(1, 3)', '(1, 3)']\n",
    "\n",
    "trefoil_relation = trefoil_F([1, 6, 1, -6, -1, 3])\n",
    "trefoil_coloring = Colored_trivial_tangle(trefoil_F, trefoil_S, spun_trefoil.red_tangle.relations(), trefoil_images_of_generators)\n",
    "# test the function to relation\n",
    "# trefoil_coloring.lift_of_single_relation(trefoil_relation, 1)\n",
    "# test the function on all relations of red tangle\n",
    "# trefoil_coloring.reidemeister_schreier()\n",
    "\n",
    "group_trisection_trefoil = Group_Trisection(trefoil_F, trefoil_S, trefoil_coloring)\n"
   ]
  },
  {
   "cell_type": "code",
   "execution_count": 4,
   "id": "cc416c10-bf1f-4aaf-91db-d1a68fc8f2c7",
   "metadata": {},
   "outputs": [],
   "source": [
    "example = {'red': 34, 'blue': 45, 'green': 56}"
   ]
  },
  {
   "cell_type": "code",
   "execution_count": 8,
   "id": "97f1b252-d199-4534-bde3-9ac28ade8328",
   "metadata": {},
   "outputs": [
    {
     "name": "stdout",
     "output_type": "stream",
     "text": [
      "('red', 34)\n",
      "('blue', 45)\n",
      "('green', 56)\n"
     ]
    }
   ],
   "source": [
    "for item in example.items():\n",
    "    print(item)"
   ]
  }
 ],
 "metadata": {
  "kernelspec": {
   "display_name": "SageMath 9.5",
   "language": "sage",
   "name": "sagemath-9.5"
  },
  "language_info": {
   "codemirror_mode": {
    "name": "ipython",
    "version": 3
   },
   "file_extension": ".py",
   "mimetype": "text/x-python",
   "name": "python",
   "nbconvert_exporter": "python",
   "pygments_lexer": "ipython3",
   "version": "3.9.9"
  }
 },
 "nbformat": 4,
 "nbformat_minor": 5
}
