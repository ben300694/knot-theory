{
 "cells": [
  {
   "cell_type": "code",
   "execution_count": 15,
   "id": "4bac16f3-478b-42aa-967b-b3b5eac26d4b",
   "metadata": {},
   "outputs": [],
   "source": [
    "load(\"src/bridge_trisections.sage\")"
   ]
  },
  {
   "cell_type": "code",
   "execution_count": 16,
   "id": "be39ce0c-5976-434d-bcf6-cde6575cf549",
   "metadata": {},
   "outputs": [],
   "source": [
    "p = 5\n",
    "\n",
    "stevedore_F = FreeGroup(10)\n",
    "stevedore_S = SymmetricGroup(p)\n",
    "stevedore_images_of_generators = double_6_1_images_of_generators(p)\n",
    "stevedore_tangles_dict = \\\n",
    "    {'red' : double_6_1.red_tangle, \n",
    "     'blu' : double_6_1.blu_tangle, \n",
    "     'gre' : double_6_1.gre_tangle}\n",
    "stevedore_colored_tri_plane = \\\n",
    "    Colored_bridge_trisection(stevedore_F,\n",
    "                              stevedore_S,\n",
    "                              stevedore_tangles_dict,\n",
    "                              stevedore_images_of_generators)"
   ]
  },
  {
   "cell_type": "code",
   "execution_count": 17,
   "id": "7e822d16-ae30-4f50-bba2-fff043e531a6",
   "metadata": {},
   "outputs": [
    {
     "data": {
      "text/plain": [
       "[(1,3,4,2),\n",
       " (1,2,4,3),\n",
       " (2,4,5,3),\n",
       " (2,3,5,4),\n",
       " (2,4,5,3),\n",
       " (2,3,5,4),\n",
       " (2,4,5,3),\n",
       " (2,3,5,4),\n",
       " (2,4,5,3),\n",
       " (2,3,5,4)]"
      ]
     },
     "execution_count": 17,
     "metadata": {},
     "output_type": "execute_result"
    }
   ],
   "source": [
    "# there is a function .is_representation() to check\n",
    "# the homomorphism property\n",
    "stevedore_images_of_generators"
   ]
  },
  {
   "cell_type": "code",
   "execution_count": 18,
   "id": "c42dc69e-de95-4bdc-9fd0-d610e2ff9b3a",
   "metadata": {},
   "outputs": [
    {
     "data": {
      "text/plain": [
       "{'red': Finitely generated module V/W over Integer Ring with invariants (0, 0, 0, 0, 0, 0, 0, 0, 0, 0, 0),\n",
       " 'blu': Finitely generated module V/W over Integer Ring with invariants (0, 0, 0, 0, 0, 0, 0, 0, 0, 0, 0),\n",
       " 'gre': Finitely generated module V/W over Integer Ring with invariants (0, 0, 0, 0, 0, 0, 0, 0, 0, 0, 0)}"
      ]
     },
     "execution_count": 18,
     "metadata": {},
     "output_type": "execute_result"
    }
   ],
   "source": [
    "stevedore_colored_tri_plane.lagrangians()"
   ]
  },
  {
   "cell_type": "code",
   "execution_count": 30,
   "id": "0876cc71-6036-4bd9-ac69-5c3b93dccad8",
   "metadata": {},
   "outputs": [
    {
     "data": {
      "text/plain": [
       "[11, [2, 2, 5]]"
      ]
     },
     "execution_count": 30,
     "metadata": {},
     "output_type": "execute_result"
    }
   ],
   "source": [
    "stevedore_colored_tri_plane.trisection_parameters_branched_cover()"
   ]
  },
  {
   "cell_type": "code",
   "execution_count": 20,
   "id": "cb9790b7-4c9d-4913-9256-ecbaed1d1bf2",
   "metadata": {},
   "outputs": [],
   "source": [
    "lag_red = stevedore_colored_tri_plane.lagrangians()['red']"
   ]
  },
  {
   "cell_type": "code",
   "execution_count": 29,
   "id": "6be87363-6070-4a77-bc27-45f95a588562",
   "metadata": {},
   "outputs": [
    {
     "data": {
      "text/plain": [
       "[(0, 0, 0, 0, 0, 0, 0, 0, 0, 0, 0, 0, 1, 0, 0, 0, 0, 0, 0, 0, 0, 0, 0, 0, 0, 0, 0, 0, 0, 0, 0, 0, 0, 0, 0, 0, 0, 0, 0, 1, 0, 0, 1, -1, 0, 0, 0, 0, 0, 0),\n",
       " (0, 0, 0, 0, 0, 0, 0, 0, 0, 0, 0, 0, 0, 1, 0, 0, 0, 0, 0, 0, 0, 0, 0, 0, 0, 0, 0, 0, 0, 0, 0, 0, 0, 0, 0, 0, 0, 0, 0, -1, 0, 0, 1, 1, 0, 0, 1, 0, 0, -1),\n",
       " (0, 0, 0, 0, 0, 0, 0, 0, 0, 0, 0, 0, 0, 0, 1, 0, 0, 0, 0, 0, 0, 0, 0, 0, 0, 0, 0, 0, 0, 0, 0, 0, 0, 0, 0, 1, 0, 0, 0, 0, 0, 0, 0, 0, 0, 0, 0, 0, 0, 0),\n",
       " (0, 0, 0, 0, 0, 0, 0, 0, 0, 0, 0, 0, 0, 0, 0, 1, 0, 0, 0, 0, 0, 0, 0, 0, 0, 0, 0, 0, 0, 0, 0, 0, 0, 0, 0, 1, 0, 0, 0, 0, 0, 0, 0, 0, -1, 1, 0, 0, 0, 0),\n",
       " (0, 0, 0, 0, 0, 0, 0, 0, 0, 0, 0, 0, 0, 0, 0, 0, 1, 0, 0, 0, 0, 0, 0, 0, 0, 0, 0, 0, 0, 0, 0, 0, 0, 0, 0, 0, 0, 0, 0, -3, 0, 0, 1, 2, 0, 0, 2, 0, 0, -2),\n",
       " (0, 0, 0, 0, 0, 0, 0, 0, 0, 0, 0, 0, 0, 0, 0, 0, 0, 1, 0, 0, 0, 0, 0, 0, 0, 0, 0, 0, 0, 0, 0, 0, 0, 0, 0, 0, 0, 1, 0, 0, 0, 0, 0, 0, 0, 0, 0, 1, -1, 0),\n",
       " (0, 0, 0, 0, 0, 0, 0, 0, 0, 0, 0, 0, 0, 0, 0, 0, 0, 0, 1, 0, 0, 0, 0, 0, 0, 0, 0, 0, 0, 0, 0, 0, 0, 0, 0, 0, 0, 1, 0, 0, 0, 0, 0, 0, 0, 0, 0, 0, 0, 0),\n",
       " (0, 0, 0, 0, 0, 0, 0, 0, 0, 0, 0, 0, 0, 0, 0, 0, 0, 0, 0, 1, 0, 0, 0, 0, 0, 0, 0, 0, 0, 0, 0, 0, 0, 0, 0, 0, 0, 0, 0, 1, 0, 0, -1, 0, 0, 0, -1, 0, 0, 1),\n",
       " (0, 0, 0, 0, 0, 0, 0, 0, 0, 0, 0, 0, 0, 0, 0, 0, 0, 0, 0, 0, 0, 0, 1, 0, 0, 0, 0, 0, 0, 0, 0, 0, 0, 0, 0, 0, 1, 0, 0, -2, 0, 0, 0, 1, 0, 0, 1, 0, 0, -1),\n",
       " (0, 0, 0, 0, 0, 0, 0, 0, 0, 0, 0, 0, 0, 0, 0, 0, 0, 0, 0, 0, 0, 0, 0, 0, 1, 0, 0, 0, 0, 0, 0, 0, 0, 0, 0, -1, 0, 0, 0, 0, 0, 0, 0, 0, 1, -1, 0, 0, 0, 0),\n",
       " (0, 0, 0, 0, 0, 0, 0, 0, 0, 0, 0, 0, 0, 0, 0, 0, 0, 0, 0, 0, 0, 0, 0, 0, 0, 0, 0, 0, 1, 0, 0, 0, 0, 0, 0, 0, 0, -1, 0, 4, 0, 0, -2, -2, 0, 0, -2, -1, 1, 2)]"
      ]
     },
     "execution_count": 29,
     "metadata": {},
     "output_type": "execute_result"
    }
   ],
   "source": [
    "[row.lift() for row in lag_red.gens()]"
   ]
  },
  {
   "cell_type": "code",
   "execution_count": null,
   "id": "75cd1e65-877d-485e-af6c-7a5b33226c1a",
   "metadata": {},
   "outputs": [],
   "source": []
  }
 ],
 "metadata": {
  "kernelspec": {
   "display_name": "SageMath 9.5",
   "language": "sage",
   "name": "sagemath-9.5"
  },
  "language_info": {
   "codemirror_mode": {
    "name": "ipython",
    "version": 3
   },
   "file_extension": ".py",
   "mimetype": "text/x-python",
   "name": "python",
   "nbconvert_exporter": "python",
   "pygments_lexer": "ipython3",
   "version": "3.9.9"
  }
 },
 "nbformat": 4,
 "nbformat_minor": 5
}
