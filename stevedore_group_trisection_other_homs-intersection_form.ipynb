{
 "cells": [
  {
   "cell_type": "code",
   "execution_count": 1,
   "id": "26851426",
   "metadata": {},
   "outputs": [],
   "source": [
    "load(\"src/bridge_trisections.sage\")"
   ]
  },
  {
   "cell_type": "code",
   "execution_count": 2,
   "id": "27f249f0",
   "metadata": {},
   "outputs": [
    {
     "name": "stdout",
     "output_type": "stream",
     "text": [
      "p= 3\n",
      "Image of x_0: (1,2)\n",
      "Image of x_2: (2,3)\n",
      "Trisection Parameters of branched cover: [3, [0, 0, 1]]\n",
      "pi_1(Branched cover): Finitely presented group <  |  >\n",
      "pi_1(Unbranched cover): Finitely presented group < x1, x20 | x20^-1*x1^-1*x20^-2*x1^-1*x20*x1 >\n",
      "\n",
      "p= 5\n",
      "Image of x_0: (1,3,4,2)\n",
      "Image of x_2: (2,4,5,3)\n",
      "Trisection Parameters of branched cover: [11, [2, 2, 5]]\n",
      "pi_1(Branched cover): Finitely presented group <  |  >\n",
      "pi_1(Unbranched cover): Finitely presented group < x2, x12 | x2^-1*x12*x2*x12^-1*x2^-1*x12*x2^-1 >\n",
      "\n",
      "p= 7\n",
      "Image of x_0: (1,4,2)(3,5,6)\n",
      "Image of x_2: (2,5,3)(4,6,7)\n",
      "Trisection Parameters of branched cover: [14, [2, 2, 6]]\n",
      "pi_1(Branched cover): Finitely presented group <  |  >\n",
      "pi_1(Unbranched cover): Finitely presented group < x2, x23 | x2*x23*x2*x23^-1*x2^-1*x23*x2^2 >\n",
      "\n"
     ]
    }
   ],
   "source": [
    "#For odd p, display trisection parameters, pi_1 of branched and unbranched covers\n",
    "\n",
    "for k in range(3):\n",
    "    p=2*k+3\n",
    "    stevedore_F = FreeGroup(10)\n",
    "    stevedore_S = SymmetricGroup(p)\n",
    "    stevedore_images_of_generators=double_6_1_images_of_generators(p)\n",
    "    \n",
    "    stevedore_tangles_dict={'red':double_6_1.red_tangle, 'blu':double_6_1.blu_tangle, 'gre':double_6_1.gre_tangle\n",
    "}\n",
    "    stevedore_colored_tri_plane=Colored_bridge_trisection(stevedore_F,stevedore_S,stevedore_tangles_dict,stevedore_images_of_generators)\n",
    "    print('p=',p)\n",
    "    print('Image of x_0:', stevedore_images_of_generators[0])\n",
    "    print('Image of x_2:', stevedore_images_of_generators[2])\n",
    "    print('Trisection Parameters of branched cover:', stevedore_colored_tri_plane.trisection_parameters_branched_cover())\n",
    "    print('pi_1(Branched cover):', stevedore_colored_tri_plane.pi_1_branched_cover().simplification_isomorphism().codomain())\n",
    "    print('pi_1(Unbranched cover):', stevedore_colored_tri_plane.pi_1_unbranched_cover().simplification_isomorphism().codomain())\n",
    "    print()"
   ]
  },
  {
   "cell_type": "code",
   "execution_count": 3,
   "id": "134185e4",
   "metadata": {},
   "outputs": [],
   "source": [
    "p=3\n",
    "stevedore_F = FreeGroup(10)\n",
    "stevedore_S = SymmetricGroup(p)\n",
    "stevedore_images_of_generators=double_6_1_images_of_generators(p)\n",
    "stevedore_tangles_dict={'red':double_6_1.red_tangle, 'blu':double_6_1.blu_tangle, 'gre':double_6_1.gre_tangle\n",
    "}\n",
    "stevedore_colored_tri_plane=Colored_bridge_trisection(stevedore_F,stevedore_S,stevedore_tangles_dict,stevedore_images_of_generators)"
   ]
  },
  {
   "cell_type": "code",
   "execution_count": 94,
   "id": "2fff31ec",
   "metadata": {},
   "outputs": [
    {
     "name": "stdout",
     "output_type": "stream",
     "text": [
      "[(1,2), (1,2), (2,3), (2,3), (2,3), (2,3), (2,3), (2,3), (2,3), (2,3)]\n"
     ]
    }
   ],
   "source": [
    "print(stevedore_images_of_generators)"
   ]
  },
  {
   "cell_type": "code",
   "execution_count": 4,
   "id": "aac744d3",
   "metadata": {},
   "outputs": [
    {
     "data": {
      "text/plain": [
       "[3, [0, 0, 1]]"
      ]
     },
     "execution_count": 4,
     "metadata": {},
     "output_type": "execute_result"
    }
   ],
   "source": [
    "stevedore_colored_tri_plane.trisection_parameters_branched_cover()\n"
   ]
  },
  {
   "cell_type": "code",
   "execution_count": 5,
   "id": "2c45a195",
   "metadata": {},
   "outputs": [
    {
     "data": {
      "text/plain": [
       "Finitely presented group <  |  >"
      ]
     },
     "execution_count": 5,
     "metadata": {},
     "output_type": "execute_result"
    }
   ],
   "source": [
    "stevedore_colored_tri_plane.pi_1_branched_cover().simplification_isomorphism().codomain()"
   ]
  },
  {
   "cell_type": "code",
   "execution_count": 6,
   "id": "5f768f4d",
   "metadata": {},
   "outputs": [
    {
     "data": {
      "text/plain": [
       "Finitely presented group < x1, x20 | x20^-1*x1^-1*x20^-2*x1^-1*x20*x1 >"
      ]
     },
     "execution_count": 6,
     "metadata": {},
     "output_type": "execute_result"
    }
   ],
   "source": [
    "stevedore_colored_tri_plane.pi_1_unbranched_cover().simplification_isomorphism().codomain()"
   ]
  },
  {
   "cell_type": "code",
   "execution_count": 7,
   "id": "60b9f01b",
   "metadata": {},
   "outputs": [],
   "source": [
    "stevedore_surface=stevedore_colored_tri_plane.surface #Domain for inclusion maps\n"
   ]
  },
  {
   "cell_type": "code",
   "execution_count": 8,
   "id": "3259f115",
   "metadata": {},
   "outputs": [
    {
     "name": "stdout",
     "output_type": "stream",
     "text": [
      "{'F': Free Group on generators {x0, x1, x2, x3, x4, x5, x6, x7, x8, x9}, 'S': Symmetric group of order 3! as a permutation group, 'representation': Group morphism:\n",
      "  From: Free Group on generators {x0, x1, x2, x3, x4, x5, x6, x7, x8, x9}\n",
      "  To:   Symmetric group of order 3! as a permutation group, 'coverF': Free Group on generators {x0, x1, x2, x3, x4, x5, x6, x7, x8, x9, x10, x11, x12, x13, x14, x15, x16, x17, x18, x19, x20, x21, x22, x23, x24, x25, x26, x27, x28, x29}, 'relation': x0^-1*x1^-1*x2^-1*x3^-1*x4^-1*x5^-1*x6^-1*x7^-1*x8^-1*x9^-1}\n"
     ]
    }
   ],
   "source": [
    "print(stevedore_surface)\n"
   ]
  },
  {
   "cell_type": "code",
   "execution_count": 9,
   "id": "3faf26b3",
   "metadata": {},
   "outputs": [
    {
     "name": "stdout",
     "output_type": "stream",
     "text": [
      "Finitely presented group < x0, x1, x2, x3, x4, x5, x6, x7, x8, x9, x10, x11, x12, x13, x14, x15, x16, x17, x18, x19, x20, x21, x22, x23, x24, x25, x26, x27, x28, x29 | x0*x10, x20, x1*x11, x21, x2, x12*x22, x3, x13*x23, x4, x14*x24, x5, x15*x25, x6, x16*x26, x7, x17*x27, x8, x18*x28, x9, x19*x29, 1, x0, x0*x12, x10^-1*x1^-1*x2^-1*x3^-1*x4^-1*x5^-1*x6^-1*x7^-1*x8^-1*x9^-1, x0^-1*x11^-1*x22^-1*x13^-1*x24^-1*x15^-1*x26^-1*x17^-1*x28^-1*x19^-1, x20^-1*x21^-1*x12^-1*x23^-1*x14^-1*x25^-1*x16^-1*x27^-1*x18^-1*x29^-1 >\n",
      "Finitely presented group < x13, x14, x15, x16, x17, x18 | x13*x14^-1*x15*x16^-1*x17*x18^-1*x13^-1*x14*x15^-1*x16*x17^-1*x18 >\n"
     ]
    }
   ],
   "source": [
    "surface_group_branched=stevedore_surface.pi_1_branched()\n",
    "print(surface_group_branched)\n",
    "print(surface_group_branched.simplified())"
   ]
  },
  {
   "cell_type": "code",
   "execution_count": 10,
   "id": "2c1913ca",
   "metadata": {},
   "outputs": [
    {
     "name": "stdout",
     "output_type": "stream",
     "text": [
      "Finitely presented group < x0, x1, x2, x3, x4, x5, x6, x7, x8, x9, x10, x11, x12, x13, x14, x15, x16, x17, x18, x19, x20, x21, x22, x23, x24, x25, x26, x27, x28, x29 | 1, x0, x0*x12, x10^-1*x1^-1*x2^-1*x3^-1*x4^-1*x5^-1*x6^-1*x7^-1*x8^-1*x9^-1, x0^-1*x11^-1*x22^-1*x13^-1*x24^-1*x15^-1*x26^-1*x17^-1*x28^-1*x19^-1, x20^-1*x21^-1*x12^-1*x23^-1*x14^-1*x25^-1*x16^-1*x27^-1*x18^-1*x29^-1 >\n"
     ]
    }
   ],
   "source": [
    "surface_group_unbranched=stevedore_surface.pi_1_unbranched()\n",
    "print(surface_group_unbranched)"
   ]
  },
  {
   "cell_type": "code",
   "execution_count": 33,
   "id": "1b29f7b5",
   "metadata": {},
   "outputs": [],
   "source": [
    "RH_group=stevedore_colored_tri_plane.colored_tangles['red'].handlebody_group()\n",
    "GH_group=stevedore_colored_tri_plane.colored_tangles['gre'].handlebody_group()\n",
    "BH_group=stevedore_colored_tri_plane.colored_tangles['blu'].handlebody_group()\n"
   ]
  },
  {
   "cell_type": "code",
   "execution_count": 14,
   "id": "c989d748",
   "metadata": {},
   "outputs": [],
   "source": [
    "def presentation_matrix(F,relations):\n",
    "    num_gens=rank(F)\n",
    "    num_relns=len(relations)\n",
    "    \n",
    "    presentation_matrix=[[0 for j in range(num_relns)] for i in range(num_gens)]\n",
    "    for j in range(num_relns):\n",
    "        reln=relations[j]\n",
    "        subscript_list=reln.Tietze()\n",
    "    \n",
    "        for k in range(len(subscript_list)):\n",
    "        \n",
    "            presentation_matrix[abs(subscript_list[k])-1][j]+=sgn(subscript_list[k])\n",
    "    return matrix(presentation_matrix)"
   ]
  },
  {
   "cell_type": "code",
   "execution_count": 36,
   "id": "bf66d01f",
   "metadata": {},
   "outputs": [],
   "source": [
    "p_matrix_RH=presentation_matrix(FreeGroup(p*rank(stevedore_F)),RH_group.relations())\n",
    "p_matrix_BH=presentation_matrix(FreeGroup(p*rank(stevedore_F)),BH_group.relations())\n",
    "p_matrix_GH=presentation_matrix(FreeGroup(p*rank(stevedore_F)),GH_group.relations())\n",
    "p_matrix_surface=presentation_matrix(FreeGroup(p*rank(stevedore_F)),surface_group_branched.relations())\n",
    "\n",
    "\n",
    "num_gens=p*rank(stevedore_F)\n",
    "free_module=span(matrix.identity(num_gens).columns())\n",
    "#free_module=ZZ^num_gens\n",
    "RH_relation_submodule=span(p_matrix_RH.columns())\n",
    "RH_module=free_module/RH_relation_submodule\n",
    "GH_relation_submodule=span(p_matrix_GH.columns())\n",
    "GH_module=free_module/GH_relation_submodule\n",
    "BH_relation_submodule=span(p_matrix_BH.columns())\n",
    "BH_module=free_module/BH_relation_submodule\n",
    "surface_relation_submodule=span(p_matrix_surface.columns())\n",
    "surface_module=free_module/surface_relation_submodule\n",
    "zero_vector=[0 for i in range(num_gens)]\n",
    "trivial_module=free_module.span([zero_vector])\n",
    "free_module_quotient_form=free_module/trivial_module\n",
    "\n"
   ]
  },
  {
   "cell_type": "code",
   "execution_count": 69,
   "id": "5b5cf14e",
   "metadata": {
    "scrolled": true
   },
   "outputs": [],
   "source": [
    "\n",
    "RH_quotient_map=free_module_quotient_form.hom([RH_module(free_module_quotient_form.gen(i)) for i in range(num_gens)])\n",
    "BH_quotient_map=free_module_quotient_form.hom([BH_module(free_module_quotient_form.gen(i)) for i in range(num_gens)])\n",
    "GH_quotient_map=free_module_quotient_form.hom([GH_module(free_module_quotient_form.gen(i)) for i in range(num_gens)])\n",
    "surface_quotient_map=free_module_quotient_form.hom([surface_module(free_module_quotient_form.gen(i)) for i in range(num_gens)])\n"
   ]
  },
  {
   "cell_type": "code",
   "execution_count": 41,
   "id": "5e0b0d45",
   "metadata": {},
   "outputs": [
    {
     "name": "stdout",
     "output_type": "stream",
     "text": [
      "(1, 0, 0, 0, 0, 0)\n",
      "maps to\n",
      "red (1, 0, 0) blu (0, 0, 0) gre (1, 0, 0)\n",
      "\n",
      "(0, 1, 0, 0, 0, 0)\n",
      "maps to\n",
      "red (0, 1, 0) blu (1, 0, 0) gre (1, 0, 0)\n",
      "\n",
      "(0, 0, 1, 0, 0, 0)\n",
      "maps to\n",
      "red (0, 1, 0) blu (0, 1, 0) gre (0, 0, 0)\n",
      "\n",
      "(0, 0, 0, 1, 0, 0)\n",
      "maps to\n",
      "red (2, 0, 0) blu (0, 1, 0) gre (0, 1, 0)\n",
      "\n",
      "(0, 0, 0, 0, 1, 0)\n",
      "maps to\n",
      "red (0, 0, 1) blu (1, 0, 0) gre (0, 1, 0)\n",
      "\n",
      "(0, 0, 0, 0, 0, 1)\n",
      "maps to\n",
      "red (0, 0, 1) blu (0, 0, 1) gre (0, 0, 1)\n",
      "\n"
     ]
    }
   ],
   "source": [
    "\n",
    "for gen in surface_module.gens():\n",
    "    print(gen)\n",
    "    print('maps to')\n",
    "    print('red', RH_quotient_map(surface_quotient_map.lift(gen)), 'blu',BH_quotient_map(surface_quotient_map.lift(gen)),'gre', GH_quotient_map(surface_quotient_map.lift(gen)))\n",
    "    print()\n",
    "  \n"
   ]
  },
  {
   "cell_type": "code",
   "execution_count": 42,
   "id": "d867d9ed",
   "metadata": {},
   "outputs": [],
   "source": [
    "inc_RH=surface_module.hom([RH_quotient_map(surface_quotient_map.lift(gen)) for gen in surface_module.gens()])\n",
    "inc_BH=surface_module.hom([BH_quotient_map(surface_quotient_map.lift(gen)) for gen in surface_module.gens()])\n",
    "inc_GH=surface_module.hom([GH_quotient_map(surface_quotient_map.lift(gen)) for gen in surface_module.gens()])"
   ]
  },
  {
   "cell_type": "code",
   "execution_count": 23,
   "id": "538cf23e",
   "metadata": {},
   "outputs": [
    {
     "name": "stdout",
     "output_type": "stream",
     "text": [
      "(0, 1, 0)\n",
      "(0, 0, 1, 0, 0, 0)\n",
      "(0, 0, 0, 0, 0, 0, 0, 0, 0, 0, 0, 0, 0, 0, 0, 1, 0, 0, 0, 0, 0, 0, 0, 0, 0, 0, 0, 0, 0, 0)\n"
     ]
    }
   ],
   "source": [
    "print(RH_module.gen(1))\n",
    "print(inc_RH.lift(RH_module.gen(1)))\n",
    "print(surface_quotient_map.lift(inc_RH.lift(RH_module.gen(1))))"
   ]
  },
  {
   "cell_type": "code",
   "execution_count": null,
   "id": "0e843edc",
   "metadata": {},
   "outputs": [],
   "source": []
  },
  {
   "cell_type": "code",
   "execution_count": 43,
   "id": "87605804",
   "metadata": {},
   "outputs": [
    {
     "data": {
      "text/plain": [
       "Finitely generated module V/W over Integer Ring with invariants (0, 0, 0)"
      ]
     },
     "execution_count": 43,
     "metadata": {},
     "output_type": "execute_result"
    }
   ],
   "source": [
    "inc_RH.kernel()"
   ]
  },
  {
   "cell_type": "code",
   "execution_count": 48,
   "id": "42236cd1",
   "metadata": {},
   "outputs": [
    {
     "name": "stdout",
     "output_type": "stream",
     "text": [
      "((1, 0, 0), (0, 1, 0), (0, 0, 1))\n",
      "((1, 0, 0), (0, 1, 0), (0, 0, 1))\n",
      "((1, 0, 0), (0, 1, 0), (0, 0, 1))\n"
     ]
    }
   ],
   "source": [
    "print(inc_RH.kernel().gens())\n",
    "print(inc_GH.kernel().gens())\n",
    "print(inc_BH.kernel().gens())"
   ]
  },
  {
   "cell_type": "code",
   "execution_count": 75,
   "id": "931f4313",
   "metadata": {
    "scrolled": true
   },
   "outputs": [
    {
     "name": "stdout",
     "output_type": "stream",
     "text": [
      "red kernel\n",
      "(0, 0, 0, 0, 0, 0, 0, 0, 0, 0, 0, 0, 0, 1, 0, 0, 0, 0, 0, 0, 0, 0, 0, 0, 0, 0, 0, 0, 0, 1)\n",
      "(2, -1, 1, -1, 1, -1)\n",
      "(0, 0, 0, 0, 0, 0, 0, 0, 0, 0, 0, 0, 0, 0, 1, 0, 0, 0, 0, 0, 0, 0, 0, 0, 0, 1, 0, 0, 0, 0)\n",
      "(0, 1, -1, 0, 0, 0)\n",
      "(0, 0, 0, 0, 0, 0, 0, 0, 0, 0, 0, 0, 0, 0, 0, 0, 1, 0, 0, 0, 0, 0, 0, 0, 0, 0, 0, 0, 0, 2)\n",
      "(2, -2, 2, -1, 2, -2)\n",
      "blu kernel\n",
      "(0, 0, 0, 0, 0, 0, 0, 0, 0, 0, 0, 0, 0, 1, 0, 0, 0, 0, 0, 0, 0, 0, 0, 0, 0, 0, 0, 0, 0, 0)\n",
      "(1, 0, 0, 0, 0, 0)\n",
      "(0, 0, 0, 0, 0, 0, 0, 0, 0, 0, 0, 0, 0, 0, 1, 0, 0, 0, 0, 0, 0, 0, 0, 0, 0, 0, 0, 1, 0, 0)\n",
      "(0, 1, 0, 0, -1, 0)\n",
      "(0, 0, 0, 0, 0, 0, 0, 0, 0, 0, 0, 0, 0, 0, 0, 1, 0, 0, 0, 0, 0, 0, 0, 0, 0, 0, 1, 0, 0, 0)\n",
      "(0, 0, 1, -1, 0, 0)\n",
      "gre kernel\n",
      "(0, 0, 0, 0, 0, 0, 0, 0, 0, 0, 0, 0, 0, 1, 0, 0, 0, 0, 0, 0, 0, 0, 0, 0, 1, 0, 0, 0, 0, 0)\n",
      "(1, -1, 0, 0, 0, 0)\n",
      "(0, 0, 0, 0, 0, 0, 0, 0, 0, 0, 0, 0, 0, 0, 0, 1, 0, 0, 0, 0, 0, 0, 0, 0, 0, 0, 0, 0, 0, 0)\n",
      "(0, 0, 1, 0, 0, 0)\n",
      "(0, 0, 0, 0, 0, 0, 0, 0, 0, 0, 0, 0, 0, 0, 0, 0, 1, 0, 0, 0, 0, 0, 0, 0, 0, 0, 0, 1, 0, 0)\n",
      "(0, 0, 0, 1, -1, 0)\n"
     ]
    }
   ],
   "source": [
    "print('red kernel')\n",
    "L_red_surface_module_basis=[]\n",
    "L_red_upstairs_basis=[]\n",
    "L_blu_surface_module_basis=[]\n",
    "L_blu_upstairs_basis=[]\n",
    "L_gre_surface_module_basis=[]\n",
    "L_gre_upstairs_basis=[]\n",
    "for k in inc_RH.kernel().gens():\n",
    "    print(surface_quotient_map.lift(k))\n",
    "    print(surface_quotient_map(surface_quotient_map.lift(k)))\n",
    "    L_red_surface_module_basis.append(surface_quotient_map(surface_quotient_map.lift(k)))\n",
    "    L_red_upstairs_basis.append(surface_quotient_map.lift(k).lift())\n",
    "print('blu kernel')\n",
    "for k in inc_BH.kernel().gens():\n",
    "    print(surface_quotient_map.lift(k))\n",
    "    print(surface_quotient_map(surface_quotient_map.lift(k)))\n",
    "    L_blu_surface_module_basis.append(surface_quotient_map(surface_quotient_map.lift(k)))\n",
    "    L_blu_upstairs_basis.append(surface_quotient_map.lift(k).lift())\n",
    "print('gre kernel')\n",
    "for k in inc_GH.kernel().gens():\n",
    "    print(surface_quotient_map.lift(k))\n",
    "    print(surface_quotient_map(surface_quotient_map.lift(k)))\n",
    "    L_gre_surface_module_basis.append(surface_quotient_map(surface_quotient_map.lift(k)))\n",
    "    L_gre_upstairs_basis.append(surface_quotient_map.lift(k).lift())"
   ]
  },
  {
   "cell_type": "code",
   "execution_count": 115,
   "id": "22566717",
   "metadata": {},
   "outputs": [
    {
     "name": "stdout",
     "output_type": "stream",
     "text": [
      "[(2, -1, 1, -1, 1, -1), (0, 1, -1, 0, 0, 0), (2, -2, 2, -1, 2, -2)]\n",
      "[[2, -1, 1, -1, 1, -1], [0, 1, -1, 0, 0, 0], [2, -2, 2, -1, 2, -2]]\n",
      "Free module of degree 6 and rank 3 over Integer Ring\n",
      "Echelon basis matrix:\n",
      "[ 2  0  0 -1  0  0]\n",
      "[ 0  1 -1  0  0  0]\n",
      "[ 0  0  0  0  1 -1]\n"
     ]
    }
   ],
   "source": [
    "surface_free=ZZ^6\n",
    "\n",
    "print(L_red_surface_module_basis)\n",
    "L_red=surface_free.span([list(L_red_surface_module_basis[i]) for i in range(3)],ZZ)\n",
    "print([list(L_red_surface_module_basis[i])for i in range(3)])\n",
    "#L_red_upstairs_basis\n",
    "#L_red_upstairs=free_module.span(L_red_upstairs_basis)\n",
    "print(L_red)"
   ]
  },
  {
   "cell_type": "code",
   "execution_count": 112,
   "id": "1b1a48fe",
   "metadata": {},
   "outputs": [
    {
     "name": "stdout",
     "output_type": "stream",
     "text": [
      "[(1, 0, 0, 0, 0, 0), (0, 1, 0, 0, -1, 0), (0, 0, 1, -1, 0, 0)]\n",
      "[[1, 0, 0, 0, 0, 0], [0, 1, 0, 0, -1, 0], [0, 0, 1, -1, 0, 0]]\n"
     ]
    }
   ],
   "source": [
    "print(L_blu_surface_module_basis)\n",
    "print([list(L_blu_surface_module_basis[i])for i in range(3)])\n",
    "L_blu=surface_free.span([list(L_blu_surface_module_basis[i]) for i in range(3)],ZZ)\n"
   ]
  },
  {
   "cell_type": "code",
   "execution_count": 113,
   "id": "be4a8811",
   "metadata": {},
   "outputs": [
    {
     "name": "stdout",
     "output_type": "stream",
     "text": [
      "[(1, -1, 0, 0, 0, 0), (0, 0, 1, 0, 0, 0), (0, 0, 0, 1, -1, 0)]\n",
      "[[1, -1, 0, 0, 0, 0], [0, 0, 1, 0, 0, 0], [0, 0, 0, 1, -1, 0]]\n"
     ]
    }
   ],
   "source": [
    "print(L_gre_surface_module_basis)\n",
    "print([list(L_gre_surface_module_basis[i])for i in range(3)])\n",
    "L_gre=surface_free.span([list(L_gre_surface_module_basis[i]) for i in range(3)],ZZ)\n"
   ]
  },
  {
   "cell_type": "code",
   "execution_count": 116,
   "id": "0d40abdf",
   "metadata": {},
   "outputs": [
    {
     "name": "stdout",
     "output_type": "stream",
     "text": [
      "Free module of degree 6 and rank 0 over Integer Ring\n",
      "Echelon basis matrix:\n",
      "[]\n",
      "Free module of degree 6 and rank 0 over Integer Ring\n",
      "Echelon basis matrix:\n",
      "[]\n"
     ]
    }
   ],
   "source": [
    "print(L_red.intersection(L_blu))\n",
    "print(L_blu.intersection(L_red))"
   ]
  },
  {
   "cell_type": "code",
   "execution_count": 117,
   "id": "d119493f",
   "metadata": {},
   "outputs": [
    {
     "name": "stdout",
     "output_type": "stream",
     "text": [
      "Free module of degree 6 and rank 0 over Integer Ring\n",
      "Echelon basis matrix:\n",
      "[]\n",
      "Free module of degree 6 and rank 0 over Integer Ring\n",
      "Echelon basis matrix:\n",
      "[]\n"
     ]
    }
   ],
   "source": [
    "print(L_red.intersection(L_gre))\n",
    "print(L_gre.intersection(L_red))"
   ]
  },
  {
   "cell_type": "code",
   "execution_count": 118,
   "id": "c61c9daa",
   "metadata": {},
   "outputs": [
    {
     "name": "stdout",
     "output_type": "stream",
     "text": [
      "Free module of degree 6 and rank 1 over Integer Ring\n",
      "Echelon basis matrix:\n",
      "[ 1 -1  1 -1  1  0]\n",
      "Free module of degree 6 and rank 1 over Integer Ring\n",
      "Echelon basis matrix:\n",
      "[ 1 -1  1 -1  1  0]\n"
     ]
    }
   ],
   "source": [
    "print(L_gre.intersection(L_blu))\n",
    "print(L_blu.intersection(L_gre))"
   ]
  },
  {
   "cell_type": "code",
   "execution_count": 122,
   "id": "04374847",
   "metadata": {},
   "outputs": [],
   "source": [
    "L_red_gre_blu=surface_free.span([list(L_red_surface_module_basis[i])for i in range(3)]+\n",
    "                   [list(L_blu_surface_module_basis[i])for i in range(3)]+\n",
    "                   [list(L_gre_surface_module_basis[i])for i in range(3)],ZZ)"
   ]
  },
  {
   "cell_type": "code",
   "execution_count": 123,
   "id": "78a46a33",
   "metadata": {},
   "outputs": [
    {
     "data": {
      "text/plain": [
       "Free module of degree 6 and rank 6 over Integer Ring\n",
       "Echelon basis matrix:\n",
       "[1 0 0 0 0 0]\n",
       "[0 1 0 0 0 0]\n",
       "[0 0 1 0 0 0]\n",
       "[0 0 0 1 0 0]\n",
       "[0 0 0 0 1 0]\n",
       "[0 0 0 0 0 1]"
      ]
     },
     "execution_count": 123,
     "metadata": {},
     "output_type": "execute_result"
    }
   ],
   "source": [
    "L_red_gre_blu"
   ]
  },
  {
   "cell_type": "code",
   "execution_count": null,
   "id": "8b10d307",
   "metadata": {},
   "outputs": [],
   "source": []
  }
 ],
 "metadata": {
  "kernelspec": {
   "display_name": "SageMath 9.5",
   "language": "sage",
   "name": "sagemath-9.5"
  },
  "language_info": {
   "codemirror_mode": {
    "name": "ipython",
    "version": 3
   },
   "file_extension": ".py",
   "mimetype": "text/x-python",
   "name": "python",
   "nbconvert_exporter": "python",
   "pygments_lexer": "ipython3",
   "version": "3.9.9"
  }
 },
 "nbformat": 4,
 "nbformat_minor": 5
}
