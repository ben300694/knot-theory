{
 "cells": [
  {
   "cell_type": "code",
   "execution_count": 1,
   "id": "26851426",
   "metadata": {},
   "outputs": [],
   "source": [
    "load(\"src/bridge_trisections.sage\")"
   ]
  },
  {
   "cell_type": "code",
   "execution_count": 3,
   "id": "27f249f0",
   "metadata": {},
   "outputs": [
    {
     "name": "stdout",
     "output_type": "stream",
     "text": [
      "p= 3\n",
      "Image of x_0: (1,2)\n",
      "Image of x_2: (2,3)\n",
      "Trisection Parameters of branched cover: [3, [0, 0, 1]]\n",
      "pi_1(Branched cover): Finitely presented group <  |  >\n",
      "pi_1(Unbranched cover): Finitely presented group < x1, x20 | x20^-1*x1^-1*x20^-2*x1^-1*x20*x1 >\n",
      "\n",
      "p= 5\n",
      "Image of x_0: (1,3,4,2)\n",
      "Image of x_2: (2,4,5,3)\n",
      "Trisection Parameters of branched cover: [11, [2, 2, 5]]\n",
      "pi_1(Branched cover): Finitely presented group <  |  >\n",
      "pi_1(Unbranched cover): Finitely presented group < x2, x12 | x2^-1*x12*x2*x12^-1*x2^-1*x12*x2^-1 >\n",
      "\n",
      "p= 7\n",
      "Image of x_0: (1,4,2)(3,5,6)\n",
      "Image of x_2: (2,5,3)(4,6,7)\n",
      "Trisection Parameters of branched cover: [14, [2, 2, 6]]\n",
      "pi_1(Branched cover): Finitely presented group <  |  >\n",
      "pi_1(Unbranched cover): Finitely presented group < x2, x23 | x2*x23*x2*x23^-1*x2^-1*x23*x2^2 >\n",
      "\n",
      "p= 9\n",
      "Image of x_0: (1,5,7,8,4,2)(3,6)\n",
      "Image of x_2: (2,6,8,9,5,3)(4,7)\n",
      "Trisection Parameters of branched cover: [22, [4, 4, 10]]\n",
      "pi_1(Branched cover): Finitely presented group <  |  >\n",
      "pi_1(Unbranched cover): Finitely presented group < x43, x80 | x80^2*x43*x80*x43^-1*x80^-1*x43 >\n",
      "\n",
      "p= 11\n",
      "Image of x_0: (1,6,3,7,9,10,5,8,4,2)\n",
      "Image of x_2: (2,7,4,8,10,11,6,9,5,3)\n",
      "Trisection Parameters of branched cover: [35, [8, 8, 17]]\n",
      "pi_1(Branched cover): Finitely presented group <  |  >\n",
      "pi_1(Unbranched cover): Finitely presented group < x2, x72 | x2^2*x72^-1*x2*x72*x2^-1*x72^-1 >\n",
      "\n",
      "p= 13\n",
      "Image of x_0: (1,7,10,5,9,11,12,6,3,8,4,2)\n",
      "Image of x_2: (2,8,11,6,10,12,13,7,4,9,5,3)\n",
      "Trisection Parameters of branched cover: [43, [10, 10, 21]]\n",
      "pi_1(Branched cover): Finitely presented group <  |  >\n",
      "pi_1(Unbranched cover): Finitely presented group < x52, x92 | x92^-1*x52^-1*x92^-1*x52*x92*(x52^-1*x92^-2)^2*x52^-1 >\n",
      "\n",
      "p= 15\n",
      "Image of x_0: (1,8,4,2)(3,9,12,6)(5,10)(7,11,13,14)\n",
      "Image of x_2: (2,9,5,3)(4,10,13,7)(6,11)(8,12,14,15)\n",
      "Trisection Parameters of branched cover: [36, [6, 6, 16]]\n",
      "pi_1(Branched cover): Finitely presented group <  |  >\n",
      "pi_1(Unbranched cover): Finitely presented group < x2, x53 | x53^-1*x2^-1*x53*x2^2*x53*x2 >\n",
      "\n",
      "p= 17\n",
      "Image of x_0: (1,9,13,15,16,8,4,2)(3,10,5,11,14,7,12,6)\n",
      "Image of x_2: (2,10,14,16,17,9,5,3)(4,11,6,12,15,8,13,7)\n",
      "Trisection Parameters of branched cover: [54, [12, 12, 26]]\n",
      "pi_1(Branched cover): Finitely presented group <  |  >\n",
      "pi_1(Unbranched cover): Finitely presented group < x23, x31 | (x23*x31^-1)^2*x23^-1*x31*x23*x31^-2*x23*x31^-1 >\n",
      "\n",
      "p= 19\n",
      "Image of x_0: (1,10,5,12,6,3,11,15,17,18,9,14,7,13,16,8,4,2)\n",
      "Image of x_2: (2,11,6,13,7,4,12,16,18,19,10,15,8,14,17,9,5,3)\n",
      "Trisection Parameters of branched cover: [67, [16, 16, 33]]\n",
      "pi_1(Branched cover): Finitely presented group <  |  >\n",
      "pi_1(Unbranched cover): Finitely presented group < x51, x80 | x51^-1*x80^-1*x51^-1*x80*x51*x80^-1*x51^-2 >\n",
      "\n",
      "p= 21\n",
      "Image of x_0: (1,11,16,8,4,2)(3,12,6)(5,13,17,19,20,10)(7,14)(9,15,18)\n",
      "Image of x_2: (2,12,17,9,5,3)(4,13,7)(6,14,18,20,21,11)(8,15)(10,16,19)\n",
      "Trisection Parameters of branched cover: [55, [10, 10, 25]]\n",
      "pi_1(Branched cover): Finitely presented group <  |  >\n",
      "pi_1(Unbranched cover): Finitely presented group < x60, x93 | x60^-1*x93^2*x60^-1*x93*x60*x93^-1 >\n",
      "\n",
      "p= 23\n",
      "Image of x_0: (1,12,6,3,13,18,9,16,8,4,2)(5,14,7,15,19,21,22,11,17,20,10)\n",
      "Image of x_2: (2,13,7,4,14,19,10,17,9,5,3)(6,15,8,16,20,22,23,12,18,21,11)\n",
      "Trisection Parameters of branched cover: [78, [18, 18, 38]]\n",
      "pi_1(Branched cover): Finitely presented group <  |  >\n",
      "pi_1(Unbranched cover): Finitely presented group < x2, x32 | x32*x2*x32^-1*x2^-1*x32*x2^-1 >\n",
      "\n",
      "p= 25\n",
      "Image of x_0: (1,13,19,22,11,18,9,17,21,23,24,12,6,3,14,7,16,8,4,2)(5,15,20,10)\n",
      "Image of x_2: (2,14,20,23,12,19,10,18,22,24,25,13,7,4,15,8,17,9,5,3)(6,16,21,11)\n",
      "Trisection Parameters of branched cover: [86, [20, 20, 42]]\n",
      "pi_1(Branched cover): Finitely presented group <  |  >\n",
      "pi_1(Unbranched cover): Finitely presented group < x72, x111 | x111^-1*x72^-1*x111^-1*x72*x111*x72^-1*x111^-1 >\n",
      "\n",
      "p= 27\n",
      "Image of x_0: (1,14,7,17,22,11,19,23,25,26,13,20,10,5,16,8,4,2)(3,15,21,24,12,6)(9,18)\n",
      "Image of x_2: (2,15,8,18,23,12,20,24,26,27,14,21,11,6,17,9,5,3)(4,16,22,25,13,7)(10,19)\n",
      "Trisection Parameters of branched cover: [89, [20, 20, 43]]\n",
      "pi_1(Branched cover): Finitely presented group <  |  >\n",
      "pi_1(Unbranched cover): Finitely presented group < x52, x53 | x53*x52^-1*x53*x52*x53^-1*x52^-1*x53^2 >\n",
      "\n",
      "p= 29\n",
      "Image of x_0: (1,15,22,11,20,10,5,17,23,26,13,21,25,27,28,14,7,18,9,19,24,12,6,3,16,8,4,2)\n",
      "Image of x_2: (2,16,23,12,21,11,6,18,24,27,14,22,26,28,29,15,8,19,10,20,25,13,7,4,17,9,5,3)\n",
      "Trisection Parameters of branched cover: [107, [26, 26, 53]]\n",
      "pi_1(Branched cover): Finitely presented group <  |  >\n",
      "pi_1(Unbranched cover): Finitely presented group < x40, x41 | x40^-1*(x41*x40)^2*x41^2*x40*x41^-1 >\n",
      "\n",
      "p= 31\n",
      "Image of x_0: (1,16,8,4,2)(3,17,24,12,6)(5,18,9,20,10)(7,19,25,28,14)(11,21,26,13,22)(15,23,27,29,30)\n",
      "Image of x_2: (2,17,9,5,3)(4,18,25,13,7)(6,19,10,21,11)(8,20,26,29,15)(12,22,27,14,23)(16,24,28,30,31)\n",
      "Trisection Parameters of branched cover: [90, [18, 18, 42]]\n",
      "pi_1(Branched cover): Finitely presented group <  |  >\n",
      "pi_1(Unbranched cover): Finitely presented group < x61, x192 | x192*x61*x192^-1*x61^-1*x192*x61*x192 >\n",
      "\n",
      "p= 33\n",
      "Image of x_0: (1,17,25,29,31,32,16,8,4,2)(3,18,9,21,27,30,15,24,12,6)(5,19,26,13,23,28,14,7,20,10)(11,22)\n",
      "Image of x_2: (2,18,26,30,32,33,17,9,5,3)(4,19,10,22,28,31,16,25,13,7)(6,20,27,14,24,29,15,8,21,11)(12,23)\n",
      "Trisection Parameters of branched cover: [108, [24, 24, 52]]\n",
      "pi_1(Branched cover): Finitely presented group <  |  >\n",
      "pi_1(Unbranched cover): Finitely presented group < x91, x220 | x220*x91^2*x220*x91^-1*x220^-1*x91*x220*x91 >\n",
      "\n",
      "p= 35\n",
      "Image of x_0: (1,18,9,22,11,23,29,32,16,8,4,2)(3,19,27,31,33,34,17,26,13,24,12,6)(5,20,10)(7,21,28,14)(15,25,30)\n",
      "Image of x_2: (2,19,10,23,12,24,30,33,17,9,5,3)(4,20,28,32,34,35,18,27,14,25,13,7)(6,21,11)(8,22,29,15)(16,26,31)\n",
      "Trisection Parameters of branched cover: [111, [24, 24, 53]]\n",
      "pi_1(Branched cover): Finitely presented group <  |  >\n",
      "pi_1(Unbranched cover): Finitely presented group < x112, x113 | x113^-1*(x112^-1*x113*x112^-1)^2*x112^-2*x113*x112 >\n",
      "\n",
      "p= 37\n",
      "Image of x_0: (1,19,28,14,7,22,11,24,12,6,3,20,10,5,21,29,33,35,36,18,9,23,30,15,26,13,25,31,34,17,27,32,16,8,4,2)\n",
      "Image of x_2: (2,20,29,15,8,23,12,25,13,7,4,21,11,6,22,30,34,36,37,19,10,24,31,16,27,14,26,32,35,18,28,33,17,9,5,3)\n",
      "Trisection Parameters of branched cover: [139, [34, 34, 69]]\n",
      "pi_1(Branched cover): Finitely presented group <  |  >\n",
      "pi_1(Unbranched cover): Finitely presented group < x52, x73 | x73^2*x52*x73^-1*x52^-1*x73*x52*x73 >\n",
      "\n",
      "p= 39\n",
      "Image of x_0: (1,20,10,5,22,11,25,32,16,8,4,2)(3,21,30,15,27,33,36,18,9,24,12,6)(7,23,31,35,37,38,19,29,34,17,28,14)(13,26)\n",
      "Image of x_2: (2,21,11,6,23,12,26,33,17,9,5,3)(4,22,31,16,28,34,37,19,10,25,13,7)(8,24,32,36,38,39,20,30,35,18,29,15)(14,27)\n",
      "Trisection Parameters of branched cover: [132, [30, 30, 64]]\n",
      "pi_1(Branched cover): Finitely presented group <  |  >\n",
      "pi_1(Unbranched cover): Finitely presented group < x121, x160 | x160*x121^2*x160*x121^-1*x160^-1*x121*x160*x121 >\n",
      "\n",
      "p= 41\n",
      "Image of x_0: (1,21,31,36,18,9,25,33,37,39,40,20,10,5,23,32,16,8,4,2)(3,22,11,26,13,27,34,17,29,35,38,19,30,15,28,14,7,24,12,6)\n",
      "Image of x_2: (2,22,32,37,19,10,26,34,38,40,41,21,11,6,24,33,17,9,5,3)(4,23,12,27,14,28,35,18,30,36,39,20,31,16,29,15,8,25,13,7)\n",
      "Trisection Parameters of branched cover: [150, [36, 36, 74]]\n",
      "pi_1(Branched cover): Finitely presented group <  |  >\n",
      "pi_1(Unbranched cover): Finitely presented group < x31, x73 | x73^-3*x31*x73^-1*x31^-1*x73*x31*x73^-1 >\n",
      "\n"
     ]
    }
   ],
   "source": [
    "#For odd p, display trisection parameters, pi_1 of branched and unbranched covers\n",
    "\n",
    "for k in range(20):\n",
    "    p=2*k+3\n",
    "    stevedore_F = FreeGroup(10)\n",
    "    stevedore_S = SymmetricGroup(p)\n",
    "    stevedore_images_of_generators=double_6_1_images_of_generators(p)\n",
    "    \n",
    "    stevedore_tangles_dict={'red':double_6_1.red_tangle, 'blu':double_6_1.blu_tangle, 'gre':double_6_1.gre_tangle\n",
    "}\n",
    "    stevedore_colored_tri_plane=Colored_bridge_trisection(stevedore_F,stevedore_S,stevedore_tangles_dict,stevedore_images_of_generators)\n",
    "    print('p=',p)\n",
    "    print('Image of x_0:', stevedore_images_of_generators[0])\n",
    "    print('Image of x_2:', stevedore_images_of_generators[2])\n",
    "    print('Trisection Parameters of branched cover:', stevedore_colored_tri_plane.trisection_parameters_branched_cover())\n",
    "    print('pi_1(Branched cover):', stevedore_colored_tri_plane.pi_1_branched_cover().simplification_isomorphism().codomain())\n",
    "    print('pi_1(Unbranched cover):', stevedore_colored_tri_plane.pi_1_unbranched_cover().simplification_isomorphism().codomain())\n",
    "    print()"
   ]
  },
  {
   "cell_type": "code",
   "execution_count": 2,
   "id": "134185e4",
   "metadata": {},
   "outputs": [],
   "source": [
    "p=3\n",
    "stevedore_F = FreeGroup(10)\n",
    "stevedore_S = SymmetricGroup(p)\n",
    "stevedore_images_of_generators=double_6_1_images_of_generators(p)\n",
    "stevedore_tangles_dict={'red':double_6_1.red_tangle, 'blu':double_6_1.blu_tangle, 'gre':double_6_1.gre_tangle\n",
    "}\n",
    "stevedore_colored_tri_plane=Colored_bridge_trisection(stevedore_F,stevedore_S,stevedore_tangles_dict,stevedore_images_of_generators)"
   ]
  },
  {
   "cell_type": "code",
   "execution_count": 3,
   "id": "aac744d3",
   "metadata": {},
   "outputs": [
    {
     "data": {
      "text/plain": [
       "[3, [0, 0, 1]]"
      ]
     },
     "execution_count": 3,
     "metadata": {},
     "output_type": "execute_result"
    }
   ],
   "source": [
    "stevedore_colored_tri_plane.trisection_parameters_branched_cover()\n"
   ]
  },
  {
   "cell_type": "code",
   "execution_count": 4,
   "id": "2c45a195",
   "metadata": {},
   "outputs": [
    {
     "data": {
      "text/plain": [
       "Finitely presented group <  |  >"
      ]
     },
     "execution_count": 4,
     "metadata": {},
     "output_type": "execute_result"
    }
   ],
   "source": [
    "stevedore_colored_tri_plane.pi_1_branched_cover().simplification_isomorphism().codomain()"
   ]
  },
  {
   "cell_type": "code",
   "execution_count": 5,
   "id": "5f768f4d",
   "metadata": {},
   "outputs": [
    {
     "data": {
      "text/plain": [
       "Finitely presented group < x1, x20 | x20^-1*x1^-1*x20^-2*x1^-1*x20*x1 >"
      ]
     },
     "execution_count": 5,
     "metadata": {},
     "output_type": "execute_result"
    }
   ],
   "source": [
    "stevedore_colored_tri_plane.pi_1_unbranched_cover().simplification_isomorphism().codomain()"
   ]
  },
  {
   "cell_type": "code",
   "execution_count": 16,
   "id": "60b9f01b",
   "metadata": {},
   "outputs": [],
   "source": [
    "stevedore_surface=stevedore_colored_tri_plane.surface #Domain for inclusion maps\n"
   ]
  },
  {
   "cell_type": "code",
   "execution_count": 17,
   "id": "3259f115",
   "metadata": {},
   "outputs": [
    {
     "name": "stdout",
     "output_type": "stream",
     "text": [
      "{'F': Free Group on generators {x0, x1, x2, x3, x4, x5, x6, x7, x8, x9}, 'S': Symmetric group of order 3! as a permutation group, 'representation': Group morphism:\n",
      "  From: Free Group on generators {x0, x1, x2, x3, x4, x5, x6, x7, x8, x9}\n",
      "  To:   Symmetric group of order 3! as a permutation group, 'coverF': Free Group on generators {x0, x1, x2, x3, x4, x5, x6, x7, x8, x9, x10, x11, x12, x13, x14, x15, x16, x17, x18, x19, x20, x21, x22, x23, x24, x25, x26, x27, x28, x29}, 'relation': x0^-1*x1^-1*x2^-1*x3^-1*x4^-1*x5^-1*x6^-1*x7^-1*x8^-1*x9^-1}\n"
     ]
    }
   ],
   "source": [
    "print(stevedore_surface)\n"
   ]
  },
  {
   "cell_type": "code",
   "execution_count": 25,
   "id": "3faf26b3",
   "metadata": {},
   "outputs": [
    {
     "name": "stdout",
     "output_type": "stream",
     "text": [
      "Finitely presented group < x0, x1, x2, x3, x4, x5, x6, x7, x8, x9, x10, x11, x12, x13, x14, x15, x16, x17, x18, x19, x20, x21, x22, x23, x24, x25, x26, x27, x28, x29 | x0*x10, x20, x1*x11, x21, x2, x12*x22, x3, x13*x23, x4, x14*x24, x5, x15*x25, x6, x16*x26, x7, x17*x27, x8, x18*x28, x9, x19*x29, 1, x0, x0*x12, x10^-1*x1^-1*x2^-1*x3^-1*x4^-1*x5^-1*x6^-1*x7^-1*x8^-1*x9^-1, x0^-1*x11^-1*x22^-1*x13^-1*x24^-1*x15^-1*x26^-1*x17^-1*x28^-1*x19^-1, x20^-1*x21^-1*x12^-1*x23^-1*x14^-1*x25^-1*x16^-1*x27^-1*x18^-1*x29^-1 >\n",
      "Finitely presented group < x13, x14, x15, x16, x17, x18 | x13*x14^-1*x15*x16^-1*x17*x18^-1*x13^-1*x14*x15^-1*x16*x17^-1*x18 >\n"
     ]
    }
   ],
   "source": [
    "surface_group_branched=stevedore_surface.pi_1_branched()\n",
    "print(surface_group_branched)\n",
    "print(surface_group_branched.simplified())"
   ]
  },
  {
   "cell_type": "code",
   "execution_count": 23,
   "id": "2c1913ca",
   "metadata": {},
   "outputs": [
    {
     "name": "stdout",
     "output_type": "stream",
     "text": [
      "Finitely presented group < x0, x1, x2, x3, x4, x5, x6, x7, x8, x9, x10, x11, x12, x13, x14, x15, x16, x17, x18, x19, x20, x21, x22, x23, x24, x25, x26, x27, x28, x29 | 1, x0, x0*x12, x10^-1*x1^-1*x2^-1*x3^-1*x4^-1*x5^-1*x6^-1*x7^-1*x8^-1*x9^-1, x0^-1*x11^-1*x22^-1*x13^-1*x24^-1*x15^-1*x26^-1*x17^-1*x28^-1*x19^-1, x20^-1*x21^-1*x12^-1*x23^-1*x14^-1*x25^-1*x16^-1*x27^-1*x18^-1*x29^-1 >\n"
     ]
    }
   ],
   "source": [
    "surface_group_unbranched=stevedore_surface.pi_1_unbranched()\n",
    "print(surface_group_unbranched)"
   ]
  },
  {
   "cell_type": "code",
   "execution_count": 29,
   "id": "1b29f7b5",
   "metadata": {},
   "outputs": [
    {
     "name": "stdout",
     "output_type": "stream",
     "text": [
      "Finitely presented group < x0, x1, x2, x3, x4, x5, x6, x7, x8, x9, x10, x11, x12, x13, x14, x15, x16, x17, x18, x19, x20, x21, x22, x23, x24, x25, x26, x27, x28, x29 | x0*x11*x2*x3*x11^-1*x16*x21*x13^-1*x22^-1*x23*x12*x23*x1^-1*x6^-1*x1*x23^-1*x12^-1*x1^-1, x10*x1*x12*x23*x1^-1*x6*x1*x23^-1*x12^-1*x13*x22*x13*x21^-1*x16^-1*x11*x3^-1*x2^-1*x11^-1, x20*x21*x22*x13*x21^-1*x26*x11*x3^-1*x2^-1*x3*x2*x3*x11^-1*x26^-1*x21*x13^-1*x22^-1*x21^-1, x1*x12*x23*x16*x21*x13^-1*x12*x23*x1^-1*x6^-1*x1*x23^-1*x12^-1*x1^-1, x11*x2*x3*x6*x1*x23^-1*x22*x13*x21^-1*x16^-1*x11*x3^-1*x2^-1*x11^-1, x21*x22*x13*x26*x11*x3^-1*x2*x3*x11^-1*x26^-1*x21*x13^-1*x22^-1*x21^-1, x4*x5, x14*x25, x24*x15, x1*x12*x23*x1^-1*x6*x1*x23^-1*x12^-1*x1^-1*x9, x11*x2*x3*x11^-1*x16*x21*x13^-1*x22^-1*x21^-1*x29, x21*x22*x13*x21^-1*x26*x11*x3^-1*x2^-1*x11^-1*x19, x7*x8, x17*x28, x27*x18, 1, x0, x0*x12, x0*x10, x20, x1*x11, x21, x2, x12*x22, x3, x13*x23, x4, x14*x24, x5, x15*x25, x6, x16*x26, x7, x17*x27, x8, x18*x28, x9, x19*x29 >\n"
     ]
    }
   ],
   "source": [
    "RH_group=stevedore_colored_tri_plane.colored_tangles['red'].handlebody_group()\n",
    "print(RH_group)"
   ]
  },
  {
   "cell_type": "code",
   "execution_count": 9,
   "id": "b3bdfd0e",
   "metadata": {},
   "outputs": [
    {
     "data": {
      "text/plain": [
       "(0, 0, 0)"
      ]
     },
     "execution_count": 9,
     "metadata": {},
     "output_type": "execute_result"
    }
   ],
   "source": [
    "RH_group.abelian_invariants()"
   ]
  },
  {
   "cell_type": "code",
   "execution_count": 10,
   "id": "3f2243ca",
   "metadata": {},
   "outputs": [
    {
     "data": {
      "text/plain": [
       "(x0*x11*x2*x3*x11^-1*x16*x21*x13^-1*x22^-1*x23*x12*x23*x1^-1*x6^-1*x1*x23^-1*x12^-1*x1^-1,\n",
       " x10*x1*x12*x23*x1^-1*x6*x1*x23^-1*x12^-1*x13*x22*x13*x21^-1*x16^-1*x11*x3^-1*x2^-1*x11^-1,\n",
       " x20*x21*x22*x13*x21^-1*x26*x11*x3^-1*x2^-1*x3*x2*x3*x11^-1*x26^-1*x21*x13^-1*x22^-1*x21^-1,\n",
       " x1*x12*x23*x16*x21*x13^-1*x12*x23*x1^-1*x6^-1*x1*x23^-1*x12^-1*x1^-1,\n",
       " x11*x2*x3*x6*x1*x23^-1*x22*x13*x21^-1*x16^-1*x11*x3^-1*x2^-1*x11^-1,\n",
       " x21*x22*x13*x26*x11*x3^-1*x2*x3*x11^-1*x26^-1*x21*x13^-1*x22^-1*x21^-1,\n",
       " x4*x5,\n",
       " x14*x25,\n",
       " x24*x15,\n",
       " x1*x12*x23*x1^-1*x6*x1*x23^-1*x12^-1*x1^-1*x9,\n",
       " x11*x2*x3*x11^-1*x16*x21*x13^-1*x22^-1*x21^-1*x29,\n",
       " x21*x22*x13*x21^-1*x26*x11*x3^-1*x2^-1*x11^-1*x19,\n",
       " x7*x8,\n",
       " x17*x28,\n",
       " x27*x18,\n",
       " 1,\n",
       " x0,\n",
       " x0*x12,\n",
       " x0*x10,\n",
       " x20,\n",
       " x1*x11,\n",
       " x21,\n",
       " x2,\n",
       " x12*x22,\n",
       " x3,\n",
       " x13*x23,\n",
       " x4,\n",
       " x14*x24,\n",
       " x5,\n",
       " x15*x25,\n",
       " x6,\n",
       " x16*x26,\n",
       " x7,\n",
       " x17*x27,\n",
       " x8,\n",
       " x18*x28,\n",
       " x9,\n",
       " x19*x29)"
      ]
     },
     "execution_count": 10,
     "metadata": {},
     "output_type": "execute_result"
    }
   ],
   "source": [
    "RH_group.relations()"
   ]
  },
  {
   "cell_type": "code",
   "execution_count": 11,
   "id": "b9c0b427",
   "metadata": {},
   "outputs": [],
   "source": [
    "num_gens=p*rank(stevedore_F)\n",
    "num_relns=len(RH_group.relations())\n",
    "\n",
    "presentation_matrix=[[0 for j in range(num_relns)] for i in range(num_gens)]\n",
    "\n",
    "for j in range(num_relns):\n",
    "    reln=RH_group.relations()[j]\n",
    "    subscript_list=reln.Tietze()\n",
    "    \n",
    "    for k in range(len(subscript_list)):\n",
    "        \n",
    "        presentation_matrix[abs(subscript_list[k])-1][j]+=sgn(subscript_list[k])\n"
   ]
  },
  {
   "cell_type": "code",
   "execution_count": 12,
   "id": "674054d9",
   "metadata": {},
   "outputs": [],
   "source": [
    "p_matrix=matrix(presentation_matrix)"
   ]
  },
  {
   "cell_type": "code",
   "execution_count": 13,
   "id": "0a7fa8bc",
   "metadata": {},
   "outputs": [
    {
     "data": {
      "text/plain": [
       "Free module of degree 38 and rank 11 over Integer Ring\n",
       "Echelon basis matrix:\n",
       "[ 1  1  0  0  0  0  0  0  0  0  0  0  0  0  0  0  0  0 -1  0  0  0  0  0  0 -1  0  0  0  0  0  0  0  0  0  0  0  0]\n",
       "[ 0  0  1  0  0  0  0  0  0  0  0  0  0  0  0  0  0  0  0 -1  0  0  0  0 -1  0  0  0  0  0  0  0  0  0  0  0  0  0]\n",
       "[ 0  0  0  1  1  0  0  0  0  0  0  0  0  0  0  0  0  0  0  0 -1  0  0 -1  0  0  0  0  0  0  0  0  0  0  0  0  0  0]\n",
       "[ 0  0  0  0  0  1  0  0  0  0  0  0  0  0  0  0  0  0  0  0  0 -1 -1  0  0  0  0  0  0  0  0  0  0  0  0  0  0  0]\n",
       "[ 0  0  0  0  0  0  1  0  0  0  0  0  0  0  0  0  0  0  0  0  0  0  0  0  0  0 -1  0 -1  0  0  0  0  0  0  0  0  0]\n",
       "[ 0  0  0  0  0  0  0  1  1  0  0  0  0  0  0  0  0  0  0  0  0  0  0  0  0  0  0 -1  0 -1  0  0  0  0  0  0  0  0]\n",
       "[ 0  0  0  0  0  0  0  0  0  1  0  0  0  0  0  0  0  0  0  0  0  0  0  0  0  0  0  0  0  0 -1  0  0  0  0  0 -1  0]\n",
       "[ 0  0  0  0  0  0  0  0  0  0  1  1  0  0  0  0  0  0  0  0  0  0  0  0  0  0  0  0  0  0  0 -1  0  0  0  0  0 -1]\n",
       "[ 0  0  0  0  0  0  0  0  0  0  0  0  1  0  0  0  0  0  0  0  0  0  0  0  0  0  0  0  0  0  0  0 -1  0 -1  0  0  0]\n",
       "[ 0  0  0  0  0  0  0  0  0  0  0  0  0  1  1  0  0  0  0  0  0  0  0  0  0  0  0  0  0  0  0  0  0 -1  0 -1  0  0]\n",
       "[ 0  0  0  0  0  0  0  0  0  0  0  0  0  0  0  1  0  0  0  0  0  0  0  0  0  0  0  0  0  0  0  0  0  0  0  0  0  0]"
      ]
     },
     "execution_count": 13,
     "metadata": {},
     "output_type": "execute_result"
    }
   ],
   "source": [
    "p_matrix.right_kernel()"
   ]
  },
  {
   "cell_type": "code",
   "execution_count": 14,
   "id": "225c299e",
   "metadata": {},
   "outputs": [],
   "source": [
    "A, B,C =p_matrix.smith_form()"
   ]
  },
  {
   "cell_type": "code",
   "execution_count": 33,
   "id": "43d201bc",
   "metadata": {},
   "outputs": [
    {
     "name": "stdout",
     "output_type": "stream",
     "text": [
      "[1 0 0 0 0 0 0 0 0 0 0 0 0 0 0 0 0 0 0 0 0 0 0 0 0 0 0 0 0 0 0 0 0 0 0 0 0 0]\n",
      "[0 1 0 0 0 0 0 0 0 0 0 0 0 0 0 0 0 0 0 0 0 0 0 0 0 0 0 0 0 0 0 0 0 0 0 0 0 0]\n",
      "[0 0 1 0 0 0 0 0 0 0 0 0 0 0 0 0 0 0 0 0 0 0 0 0 0 0 0 0 0 0 0 0 0 0 0 0 0 0]\n",
      "[0 0 0 1 0 0 0 0 0 0 0 0 0 0 0 0 0 0 0 0 0 0 0 0 0 0 0 0 0 0 0 0 0 0 0 0 0 0]\n",
      "[0 0 0 0 1 0 0 0 0 0 0 0 0 0 0 0 0 0 0 0 0 0 0 0 0 0 0 0 0 0 0 0 0 0 0 0 0 0]\n",
      "[0 0 0 0 0 1 0 0 0 0 0 0 0 0 0 0 0 0 0 0 0 0 0 0 0 0 0 0 0 0 0 0 0 0 0 0 0 0]\n",
      "[0 0 0 0 0 0 1 0 0 0 0 0 0 0 0 0 0 0 0 0 0 0 0 0 0 0 0 0 0 0 0 0 0 0 0 0 0 0]\n",
      "[0 0 0 0 0 0 0 1 0 0 0 0 0 0 0 0 0 0 0 0 0 0 0 0 0 0 0 0 0 0 0 0 0 0 0 0 0 0]\n",
      "[0 0 0 0 0 0 0 0 1 0 0 0 0 0 0 0 0 0 0 0 0 0 0 0 0 0 0 0 0 0 0 0 0 0 0 0 0 0]\n",
      "[0 0 0 0 0 0 0 0 0 1 0 0 0 0 0 0 0 0 0 0 0 0 0 0 0 0 0 0 0 0 0 0 0 0 0 0 0 0]\n",
      "[0 0 0 0 0 0 0 0 0 0 1 0 0 0 0 0 0 0 0 0 0 0 0 0 0 0 0 0 0 0 0 0 0 0 0 0 0 0]\n",
      "[0 0 0 0 0 0 0 0 0 0 0 1 0 0 0 0 0 0 0 0 0 0 0 0 0 0 0 0 0 0 0 0 0 0 0 0 0 0]\n",
      "[0 0 0 0 0 0 0 0 0 0 0 0 1 0 0 0 0 0 0 0 0 0 0 0 0 0 0 0 0 0 0 0 0 0 0 0 0 0]\n",
      "[0 0 0 0 0 0 0 0 0 0 0 0 0 1 0 0 0 0 0 0 0 0 0 0 0 0 0 0 0 0 0 0 0 0 0 0 0 0]\n",
      "[0 0 0 0 0 0 0 0 0 0 0 0 0 0 1 0 0 0 0 0 0 0 0 0 0 0 0 0 0 0 0 0 0 0 0 0 0 0]\n",
      "[0 0 0 0 0 0 0 0 0 0 0 0 0 0 0 1 0 0 0 0 0 0 0 0 0 0 0 0 0 0 0 0 0 0 0 0 0 0]\n",
      "[0 0 0 0 0 0 0 0 0 0 0 0 0 0 0 0 1 0 0 0 0 0 0 0 0 0 0 0 0 0 0 0 0 0 0 0 0 0]\n",
      "[0 0 0 0 0 0 0 0 0 0 0 0 0 0 0 0 0 1 0 0 0 0 0 0 0 0 0 0 0 0 0 0 0 0 0 0 0 0]\n",
      "[0 0 0 0 0 0 0 0 0 0 0 0 0 0 0 0 0 0 1 0 0 0 0 0 0 0 0 0 0 0 0 0 0 0 0 0 0 0]\n",
      "[0 0 0 0 0 0 0 0 0 0 0 0 0 0 0 0 0 0 0 1 0 0 0 0 0 0 0 0 0 0 0 0 0 0 0 0 0 0]\n",
      "[0 0 0 0 0 0 0 0 0 0 0 0 0 0 0 0 0 0 0 0 1 0 0 0 0 0 0 0 0 0 0 0 0 0 0 0 0 0]\n",
      "[0 0 0 0 0 0 0 0 0 0 0 0 0 0 0 0 0 0 0 0 0 1 0 0 0 0 0 0 0 0 0 0 0 0 0 0 0 0]\n",
      "[0 0 0 0 0 0 0 0 0 0 0 0 0 0 0 0 0 0 0 0 0 0 1 0 0 0 0 0 0 0 0 0 0 0 0 0 0 0]\n",
      "[0 0 0 0 0 0 0 0 0 0 0 0 0 0 0 0 0 0 0 0 0 0 0 1 0 0 0 0 0 0 0 0 0 0 0 0 0 0]\n",
      "[0 0 0 0 0 0 0 0 0 0 0 0 0 0 0 0 0 0 0 0 0 0 0 0 1 0 0 0 0 0 0 0 0 0 0 0 0 0]\n",
      "[0 0 0 0 0 0 0 0 0 0 0 0 0 0 0 0 0 0 0 0 0 0 0 0 0 1 0 0 0 0 0 0 0 0 0 0 0 0]\n",
      "[0 0 0 0 0 0 0 0 0 0 0 0 0 0 0 0 0 0 0 0 0 0 0 0 0 0 1 0 0 0 0 0 0 0 0 0 0 0]\n",
      "[0 0 0 0 0 0 0 0 0 0 0 0 0 0 0 0 0 0 0 0 0 0 0 0 0 0 0 0 0 0 0 0 0 0 0 0 0 0]\n",
      "[0 0 0 0 0 0 0 0 0 0 0 0 0 0 0 0 0 0 0 0 0 0 0 0 0 0 0 0 0 0 0 0 0 0 0 0 0 0]\n",
      "[0 0 0 0 0 0 0 0 0 0 0 0 0 0 0 0 0 0 0 0 0 0 0 0 0 0 0 0 0 0 0 0 0 0 0 0 0 0]\n",
      "[ 0  0  0  0  0  0  0  0  0  0  0  0  0  0 -1  0  0  0  0  0  0  0  0  0  1  1  0  0  0  0]\n",
      "[ 0  0  0  0  0  0  0  0  0  0  0  0  0  0  0  0  0 -1  0  0  0  0  0  0  0  0  0  1  1  0]\n",
      "[ 0  0  0  0  0  0  0  0  0  0  0  0  0 -1  0  0 -2  0  0  0  0  0  0  1  0  0  2  0  0  1]\n",
      "[ 0  0  0  0  0  0  0  0  0  0  0  1  0  0  0  0  0  0  0  0  0  0  0  0  0  0  0  0  0  0]\n",
      "[ 0  0  0  0  0  0  0  0  0  0  0  0  0  0  0  0  0  0  0  0  0  0  0  0  0  0  1  0  0  0]\n",
      "[ 0  0  0  0  0  0  0  0  0  0  0  0  0  0  0  0  0  0  0  0  0  0  0  0  1  0  0  0  0  0]\n",
      "[ 0  0  0  0  0  0  0  0  0  0  0  0  0  0  0  0  0  0  0  0  0  0  0  1  0  0  0  0  0  0]\n",
      "[ 0  0  0  0  0  0  0  0  0  0  0  0  0  0  0  0  0  0  0  0  0  0  0  0  0  0  0  1  0  0]\n",
      "[ 0  0  0  0  0  0  0  0  0  0  0  0  0  0  0  0  0  0  0  0  0  0  1  0  0  0  0  0  0  0]\n",
      "[ 0  0  0  0  0  0  0  0  0  0  1  0  0  0  0  0  0  0  0  0  0  0  0  0  0  0  0  0  0  0]\n",
      "[ 1  0  0  0  0  0  0  0  0  0  0  0  0  0  0  0  0  0  0  0  0  0  0  0  0  0  0  0  0  0]\n",
      "[ 0  0  0  0  0  0  0  0  0  0  0  0  0  0  0  0  0  0  0  0  1  0  0  0  0  0  0  0  0  0]\n",
      "[ 0  1  0  0  0  0  0  0  0  0  0  0  0  0  0  0  0  0  0  0  0  0  0  0  0  0  0  0  0  0]\n",
      "[ 0  0  0  0  0  0  0  0  0  0  0  0  0  0  0  0  0  0  0  0  0  1  0  0  0  0  0  0  0  0]\n",
      "[ 0  0  1  0  0  0  0  0  0  0  0  0  0  0  0  0  0  0  0  0  0  0  0  0  0  0  0  0  0  0]\n",
      "[ 0  0  0  0  0  0  0  0  0  0  0  0  1  0  0  0  0  0  0  0  0  0  0  0  0  0  0  0  0  0]\n",
      "[ 0  0  0  1  0  0  0  0  0  0  0  0  0  0  0  0  0  0  0  0  0  0  0  0  0  0  0  0  0  0]\n",
      "[ 0  0  0  0  0  0  0  0  0  0  0  0  0  1  0  0  0  0  0  0  0  0  0  0  0  0  0  0  0  0]\n",
      "[ 0  0  0  0  1  0  0  0  0  0  0  0  0  0  0  0  0  0  0  0  0  0  0  0  0  0  0  0  0  0]\n",
      "[ 0  0  0  0  0  0  0  0  0  0  0  0  0  0  1  0  0  0  0  0  0  0  0  0  0  0  0  0  0  0]\n",
      "[ 0  0  0  0  0  1  0  0  0  0  0  0  0  0  0  0  0  0  0  0  0  0  0  0  0  0  0  0  0  0]\n",
      "[ 0  0  0  0  0  0  1  0  0  0  0  0  0  0  0  0  0  0  0  0  0  0  0  0  0  0  0  0  0  0]\n",
      "[ 0  0  0  0  0  0  0  0  0  0  0  0  0  0  0  0  1  0  0  0  0  0  0  0  0  0  0  0  0  0]\n",
      "[ 0  0  0  0  0  0  0  1  0  0  0  0  0  0  0  0  0  0  0  0  0  0  0  0  0  0  0  0  0  0]\n",
      "[ 0  0  0  0  0  0  0  0  0  0  0  0  0  0  0  0  0  1  0  0  0  0  0  0  0  0  0  0  0  0]\n",
      "[ 0  0  0  0  0  0  0  0  1  0  0  0  0  0  0  0  0  0  0  0  0  0  0  0  0  0  0  0  0  0]\n",
      "[ 0  0  0  0  0  0  0  0  0  1  0  0  0  0  0  0  0  0  0  0  0  0  0  0  0  0  0  0  0  0]\n",
      "[ 0  0  0  0  0  0  0  0  0  0  0  0  0  1  0  0  2  0  0  1  0  0  0 -1  0  0 -2  0  0 -1]\n",
      "[ 0  0  0  0  0  0  0  0  0  0  0  0  0  0  0  0  0  1  1  0  0  0  0  0  0  0  0 -1 -1  0]\n",
      "[ 0  0  0  0  0  0  0  0  0  0  0  0  0  0  1  1  0  0  0  0  0  0  0  0 -1 -1  0  0  0  0]\n",
      "[ 0  0  0  0  0  0  0  0  0  0  0  0  0  0  0  0  0  0  0  0  0  0  0  0  0  0  0  1  0  0  0  0  0  0  0  0  0  0]\n",
      "[ 0  0  0 -1  0  0  0  0  0  0  0  0  1  0  0  0  0  0  0  0  0  0  0  0  0  0  0  1  0  0  0  0  0  0  0  0  0  0]\n",
      "[ 0  0  0  0  0  0  0  0  0  0  0  0  0  0  0  0  0  0  0  0  0  0  0  0  0  0  0  0  1  0  0  0  0  0  0  0  0  0]\n",
      "[ 0  0  0  0  0  0  0  0  0  0  0  0  0  0  0  0  0  0  0  0  0  0  0  0  0  0  0  0  0  1  0  0  0  0  0  0  0  0]\n",
      "[ 0  0  0  1 -1  0 -1  0  0  0  0  0 -1  0  0  0  0  1  0  0  0  0  1  0  0  0  0  0  0  1  0  0  0  0  0  0  0  0]\n",
      "[ 0  0  0  0  0  0  0  0  0  0  0  0  0  0  0  0  0  0  0  0  0  0  0  0  0  0  0  0  0  0  1  0  0  0  0  0  0  0]\n",
      "[ 0  0  0  0  0  0  0  0  0  0  0  0  0  0  0  0  0  0  0  0  0  0  0  0  0  0  0  0  0  0  0  1  0  0  0  0  0  0]\n",
      "[ 0  0  0  0  0  0  0  0  0  0  0  0  0  0  0  0  0  0  0  0  0  0  0  0  0  0  0  0  0  0  0  0  1  0  0  0  0  0]\n",
      "[ 0  0  0  0  0  1  0  0  0  0  0  0  0  0  0  0  0  0  0 -1  0  0  0  0  0  0  0  0  0  0  0  0  1  0  0  0  0  0]\n",
      "[ 0  0  0  0  0  0  0  0  0  0  0  0  0  0  0  0  0  0  0  0  0  0  0  0  0  0  0  0  0  0  0  0  0  1  0  0  0  0]\n",
      "[ 0  0  0  0  0  0  0  0  0  0  0  0  0  0  0  0  0  0  0  0  0  0  0  0  0  0  0  0  0  0  0  0  0  0  1  0  0  0]\n",
      "[ 0  0  0  0  2  0  1  0  0  0  0  0  0  0  0  0  0 -1  0  0  0  0 -2  0  0  0  0  0  0  0  0  0  0  0  1  0  0  0]\n",
      "[ 0  0  0  0  0  0  0  0  0  0  0  0  0  0  0  0  0  0  0  0  0  0  0  0  0  0  0  0  0  0  0  0  0  0  0  1  0  0]\n",
      "[ 0  0  0  0  0  0  0  0  0  0  0  0  0  0  0  0  0  0  0  0  0  0  0  0  0  0  0  0  0  0  0  0  0  0  0  0  1  0]\n",
      "[ 0  0  0  0  0  0  0  1  0  0  0  0  0  0  0  0  0  0  0  0  0  0  0  0 -1  0  0  0  0  0  0  0  0  0  0  0  1  0]\n",
      "[ 0  0  0  0  0  0  0  0  0  0  0  0  0  0  0  0  0  0  0  0  0  0  0  0  0  0  0  0  0  0  0  0  0  0  0  0  0  1]\n",
      "[ 0  0  0 -1 -1  0  0  0  1 -1  1  0  1  0  0 -1  0  0  0  0  0  0  1  0  0  0  0  0  0  0  0  0  0  0  0  0  0  0]\n",
      "[ 0  0  0  0  1  0  0  0 -1  0  0  0  0  0  0  1  0  0  0  0  0  0 -1  0  0  0  0  0  0  0  0  0  0  0  0  0  0  0]\n",
      "[ 0  0  0  1  0  0  0  0  0  1  0  0 -1  0  0  0  0  0  0  0  0  0  0  0  0  0  0 -1  0  0  0  0  0  0  0  0  0  0]\n",
      "[ 0  0  0  0  0  0  0  0  0  0  0  1  0  0  0  0  0  0  0  0  0  0  0  0  0  0  0  0 -1  0  0  0  0  0  0  0  0  0]\n",
      "[ 0  0  0  0  1  0  1  0  0  0  0  0  1  0  0  0  0 -1  0  0  0  0 -1  0  0  0  0  0  0 -1  0  0  0  0  0  0  0  0]\n",
      "[ 0  0  0  0 -1  0 -1  0  0  0  0  0  0  1  0  0  0  1  0  0  0  0  1  0  0  0  0  0  0  0 -1  0  0  0  0  0  0  0]\n",
      "[ 0  0  0 -1  2  0  1  0  0  0  0  0  1  0  1  0  0 -1  0  0  0  0 -2  0  0  0  0  0  0  0 -1  0  0  0  0  0  0  0]\n",
      "[ 0  0  0  0 -1  0  0  0  1  0  0  0  0  0  0  0  0  0  0  0  0  0  1  0  0  0  0  0  0 -1  0  0  0  0  0  0  0  0]\n",
      "[ 0  0  0 -1  2  0  1  0  0  0  0  0  1  0  0  0  1 -1  0  0  0  0 -2  0  0  0  0  0 -1  0  0  0  0  0  0  0  0  0]\n",
      "[ 0  0  0  1 -1  0  0  0  0  0  0  0 -1  0  0  0  0  1  0  0  0  0  1  0  0  0  0 -1  0  0  0  0  0  0  0  0  0  0]\n",
      "[ 0  0  0  0  0  0  0  0  0  0  0  0  0  0  0  0  0  0  1  0  0  0  0  0  0  0  0  0  0  0  0 -1  0  0  0  0  0  0]\n",
      "[ 0  0  0  0  0  0  0  0  0  0  0  0  0  0  0  0  0  0  0  1  0  0  0  0  0  0  0  0  0  0  0  0 -1  0  0  0  0  0]\n",
      "[ 0  0  0  0  0  0  0  0  0  0  0  0  0  0  0  0  0  0  0  0  1  0  0  0  0  0  0  0  0  0  0 -1  0  0  0  0  0  0]\n",
      "[ 1  0  0  0  0 -1  0  0  0  0  0  0  0  0  0  0  0  0  0  1  0  0  0  0  0  0  0  0  0  0  0  0 -1  0  0  0  0  0]\n",
      "[ 0  0  0  0  1  0  1  0  0  0  0  0  0  0  0  0  0 -1  0  0  0  1 -1  0  0  0  0  0  0  0  0  0  0 -1  0  0  0  0]\n",
      "[ 0  0  0  0 -1  0 -1  0  0  0  0  0  0  0  0  0  0  1  0  0  0  0  2  0  0  0  0  0  0  0  0  0  0  0 -1  0  0  0]\n",
      "[ 0  0  0  0  0  0  0  0  0  0  0  0  0  0  0  0  0  0  0  0  0  0  0  1  0  0  0  0  0  0  0  0  0  0  0 -1  0  0]\n",
      "[ 0  0  0  0  0  0  0  0  0  0  0  0  0  0  0  0  0  0  0  0  0  0  0  0  1  0  0  0  0  0  0  0  0  0  0  0 -1  0]\n",
      "[ 0  0  0  0  0  0  0  0  0  0  0  0  0  0  0  0  0  0  0  0  0  0  0  0  0  1  0  0  0  0  0  0  0  0  0 -1  0  0]\n",
      "[ 0  1  0  0  0  0  0 -1  0  0  0  0  0  0  0  0  0  0  0  0  0  0  0  0  1  0  0  0  0  0  0  0  0  0  0  0 -1  0]\n",
      "[ 0  0  0  0  0  0  0  0  0  0  0  0  0  0  0  0  0  0  0  0  0  0  0  0  0  0  1  0  0  0  0  0  0 -1  0  0  0  0]\n",
      "[ 0  0  1  0 -2  0 -1  0  0  0  0  0  0  0  0  0  0  1  0  0  0  0  2  0  0  0  0  0  0  0  0  0  0  0 -1  0  0  0]\n"
     ]
    }
   ],
   "source": [
    "print(A)\n",
    "print(B)# Columns of Inverse of B / diagonal  are basis for cokernel\n",
    "print(C)"
   ]
  },
  {
   "cell_type": "code",
   "execution_count": 34,
   "id": "faa02c4b",
   "metadata": {},
   "outputs": [
    {
     "name": "stdout",
     "output_type": "stream",
     "text": [
      "[ 0  0  0  0  0  0  0  0  0  0  1  0  0  0  0  0  0  0  0  0  0  0  0  0  0  0  0  0  0  0]\n",
      "[ 0  0  0  0  0  0  0  0  0  0  0  0  1  0  0  0  0  0  0  0  0  0  0  0  0  0  0  0  0  0]\n",
      "[ 0  0  0  0  0  0  0  0  0  0  0  0  0  0  1  0  0  0  0  0  0  0  0  0  0  0  0  0  0  0]\n",
      "[ 0  0  0  0  0  0  0  0  0  0  0  0  0  0  0  0  1  0  0  0  0  0  0  0  0  0  0  0  0  0]\n",
      "[ 0  0  0  0  0  0  0  0  0  0  0  0  0  0  0  0  0  0  1  0  0  0  0  0  0  0  0  0  0  0]\n",
      "[ 0  0  0  0  0  0  0  0  0  0  0  0  0  0  0  0  0  0  0  0  1  0  0  0  0  0  0  0  0  0]\n",
      "[ 0  0  0  0  0  0  0  0  0  0  0  0  0  0  0  0  0  0  0  0  0  1  0  0  0  0  0  0  0  0]\n",
      "[ 0  0  0  0  0  0  0  0  0  0  0  0  0  0  0  0  0  0  0  0  0  0  0  1  0  0  0  0  0  0]\n",
      "[ 0  0  0  0  0  0  0  0  0  0  0  0  0  0  0  0  0  0  0  0  0  0  0  0  0  1  0  0  0  0]\n",
      "[ 0  0  0  0  0  0  0  0  0  0  0  0  0  0  0  0  0  0  0  0  0  0  0  0  0  0  1  0  0  0]\n",
      "[ 0  0  0  0  0  0  0  0  0  1  0  0  0  0  0  0  0  0  0  0  0  0  0  0  0  0  0  0  0  0]\n",
      "[ 0  0  0  1  0  0  0  0  0  0  0  0  0  0  0  0  0  0  0  0  0  0  0  0  0  0  0  0  0  0]\n",
      "[ 0  0  0  0  0  0  0  0  0  0  0  0  0  0  0  1  0  0  0  0  0  0  0  0  0  0  0  0  0  0]\n",
      "[ 0  0  0  0  0  0  0  0  0  0  0  0  0  0  0  0  0  1  0  0  0  0  0  0  0  0  0  0  0  0]\n",
      "[ 0  0  0  0  0  0  0  0  0  0  0  0  0  0  0  0  0  0  0  1  0  0  0  0  0  0  0  0  0  0]\n",
      "[ 1  0  0  0  0  0  0  0  0  0  0  0  0  0  0  0  0  0  0  0  0  0  0  0  0  0  0  0  0  1]\n",
      "[ 0  0  0  0  0  0  0  0  0  0  0  0  0  0  0  0  0  0  0  0  0  0  1  0  0  0  0  0  0  0]\n",
      "[ 0  0  0  0  0  0  0  0  0  0  0  0  0  0  0  0  0  0  0  0  0  0  0  0  1  0  0  0  0  0]\n",
      "[ 0  1  0  0  0  0  0  0  0  0  0  0  0  0  0  0  0  0  0  0  0  0  0  0  0  0  0  0  1  0]\n",
      "[ 0  0  1  0  0  0  0  0  0  0  0  0  0  0  0  0  0  0  0  0  0  0  0  0  0  0  0  1  0  0]\n",
      "[ 0  0  0  0  0  0  0  0  0  0  0  1  0  0  0  0  0  0  0  0  0  0  0  0  0  0  0  0  0  0]\n",
      "[ 0  0  0  0  0  0  0  0  0  0  0  0  0  1  0  0  0  0  0  0  0  0  0  0  0  0  0  0  0  0]\n",
      "[ 0  0  0  0  0  0  0  0  1  0  0  0  0  0  0  0  0  0  0  0  0  0  0  0  0  0  0  0  0  0]\n",
      "[ 0  0  0  0  0  0  1  0  0  0  0  0  0  0  0  0  0  0  0  0  0  0  0  0  0  0  0  0  0  0]\n",
      "[ 0  0  0  0  0  1  0  0  0  0  0  0  0  0  0  0  0  0  0  0  0  0  0  0  0  0  0  0  0  0]\n",
      "[ 1  0  0  0  0 -1  0  0  0  0  0  0  0  0  0  0  0  0  0  1  0  0  0  0  0  0  0  0  0  0]\n",
      "[ 0  0  0  0  1  0  0  0  0  0  0  0  0  0  0  0  0  0  0  0  0  0  0  0  0  0  0  0  0  0]\n",
      "[ 0  0  0  0  0  0  0  1  0  0  0  0  0  0  0  0  0  0  0  0  0  0  0  0  0  0  0  0  0  0]\n",
      "[ 0  1  0  0  0  0  0 -1  0  0  0  0  0  0  0  0  0  0  0  0  0  0  0  0  1  0  0  0  0  0]\n",
      "[ 0  0  1  0 -2  0 -1  0  0  0  0  0  0  0  0  0  0  1  0  0  0  0  2  0  0  0  0  0  0  0]\n"
     ]
    }
   ],
   "source": [
    "print(B.inverse()) #basis for cokernel is last 3 columns?\n"
   ]
  },
  {
   "cell_type": "code",
   "execution_count": null,
   "id": "ca7ad2b3",
   "metadata": {},
   "outputs": [],
   "source": []
  }
 ],
 "metadata": {
  "kernelspec": {
   "display_name": "SageMath 9.5",
   "language": "sage",
   "name": "sagemath-9.5"
  },
  "language_info": {
   "codemirror_mode": {
    "name": "ipython",
    "version": 3
   },
   "file_extension": ".py",
   "mimetype": "text/x-python",
   "name": "python",
   "nbconvert_exporter": "python",
   "pygments_lexer": "ipython3",
   "version": "3.9.9"
  }
 },
 "nbformat": 4,
 "nbformat_minor": 5
}
