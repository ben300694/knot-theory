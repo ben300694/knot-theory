{
 "cells": [
  {
   "cell_type": "code",
   "execution_count": 35,
   "id": "26851426",
   "metadata": {},
   "outputs": [],
   "source": [
    "load(\"src/bridge_trisections.sage\")"
   ]
  },
  {
   "cell_type": "code",
   "execution_count": null,
   "id": "27f249f0",
   "metadata": {},
   "outputs": [
    {
     "name": "stdout",
     "output_type": "stream",
     "text": [
      "p= 3\n",
      "Image of x_0: (1,2)\n",
      "Image of x_2: (2,3)\n",
      "Trisection Parameters of branched cover: [3, [0, 0, 1]]\n",
      "Euler characteristic: 4\n",
      "pi_1(Branched cover): Finitely presented group <  |  >\n",
      "pi_1(Unbranched cover): Finitely presented group < x1, x20 | x20^-1*x1^-1*x20^-2*x1^-1*x20*x1 >\n",
      "H_1(Branched cover): Finitely generated module V/W over Integer Ring with invariants ()\n",
      "H_2(Branched cover): Finitely generated module V/W over Integer Ring with invariants (0, 0)\n",
      "H_3(Branched cover): Finitely generated module V/W over Integer Ring with invariants ()\n",
      "Intersection form of branched cover:\n",
      "([ 1 -2]\n",
      "[-2  3], 0, 'odd')\n",
      "\n",
      "p= 5\n",
      "Image of x_0: (1,3,4,2)\n",
      "Image of x_2: (2,4,5,3)\n",
      "Trisection Parameters of branched cover: [11, [2, 2, 5]]\n",
      "Euler characteristic: 4\n",
      "pi_1(Branched cover): Finitely presented group <  |  >\n",
      "pi_1(Unbranched cover): Finitely presented group < x2, x12 | x2^-1*x12*x2*x12^-1*x2^-1*x12*x2^-1 >\n",
      "H_1(Branched cover): Finitely generated module V/W over Integer Ring with invariants ()\n",
      "H_2(Branched cover): Finitely generated module V/W over Integer Ring with invariants (0, 0)\n",
      "H_3(Branched cover): Finitely generated module V/W over Integer Ring with invariants ()\n",
      "Intersection form of branched cover:\n",
      "([15 -1]\n",
      "[-1  0], 0, 'odd')\n",
      "\n",
      "p= 7\n",
      "Image of x_0: (1,4,2)(3,5,6)\n",
      "Image of x_2: (2,5,3)(4,6,7)\n",
      "Trisection Parameters of branched cover: [14, [2, 2, 6]]\n",
      "Euler characteristic: 6\n",
      "pi_1(Branched cover): Finitely presented group <  |  >\n",
      "pi_1(Unbranched cover): Finitely presented group < x2, x23 | x2*x23*x2*x23^-1*x2^-1*x23*x2^2 >\n",
      "H_1(Branched cover): Finitely generated module V/W over Integer Ring with invariants ()\n",
      "H_2(Branched cover): Finitely generated module V/W over Integer Ring with invariants (0, 0, 0, 0)\n",
      "H_3(Branched cover): Finitely generated module V/W over Integer Ring with invariants ()\n",
      "Intersection form of branched cover:\n",
      "([ 4  5  1 -6]\n",
      "[ 5  6  1 -6]\n",
      "[ 1  1  0 -1]\n",
      "[-6 -6 -1 10], 0, 'even')\n",
      "\n"
     ]
    }
   ],
   "source": [
    "#For odd p, display invariants of branched and unbranched covers\n",
    "\n",
    "\n",
    "for k in range(3):\n",
    "    p=2*k+3\n",
    "    stevedore_F = FreeGroup(10)\n",
    "    stevedore_S = SymmetricGroup(p)\n",
    "    stevedore_images_of_generators=double_6_1_images_of_generators(p)\n",
    "    \n",
    "    stevedore_tangles_dict={'red':double_6_1.red_tangle, 'blu':double_6_1.blu_tangle, 'gre':double_6_1.gre_tangle\n",
    "}\n",
    "    stevedore_colored_tri_plane=Colored_bridge_trisection(stevedore_F,stevedore_S,stevedore_tangles_dict,stevedore_images_of_generators)\n",
    "    print('p=',p)\n",
    "    print('Image of x_0:', stevedore_images_of_generators[0])\n",
    "    print('Image of x_2:', stevedore_images_of_generators[2])\n",
    "    print('Trisection Parameters of branched cover:', stevedore_colored_tri_plane.trisection_parameters_branched_cover())\n",
    "    print('Euler characteristic:',stevedore_colored_tri_plane.euler_characteristic())\n",
    "    print('pi_1(Branched cover):', stevedore_colored_tri_plane.pi_1_branched_cover().simplification_isomorphism().codomain())\n",
    "    print('pi_1(Unbranched cover):', stevedore_colored_tri_plane.pi_1_unbranched_cover().simplification_isomorphism().codomain())\n",
    "    \n",
    "    print('H_1(Branched cover):',stevedore_colored_tri_plane.homology_branched_cover()[0])\n",
    "    print('H_2(Branched cover):',stevedore_colored_tri_plane.homology_branched_cover()[1])\n",
    "    print('H_3(Branched cover):',stevedore_colored_tri_plane.homology_branched_cover()[2])\n",
    "    print('Intersection form of branched cover:')\n",
    "    print(stevedore_colored_tri_plane.intersection_form())\n",
    "   \n",
    "    print()"
   ]
  },
  {
   "cell_type": "code",
   "execution_count": 19,
   "id": "134185e4",
   "metadata": {},
   "outputs": [],
   "source": [
    "p=9\n",
    "stevedore_F = FreeGroup(10)\n",
    "stevedore_S = SymmetricGroup(p)\n",
    "stevedore_images_of_generators=double_6_1_images_of_generators(p)\n",
    "stevedore_tangles_dict={'red':double_6_1.red_tangle, 'blu':double_6_1.blu_tangle, 'gre':double_6_1.gre_tangle\n",
    "}\n",
    "stevedore_colored_tri_plane=Colored_bridge_trisection(stevedore_F,stevedore_S,stevedore_tangles_dict,stevedore_images_of_generators)"
   ]
  },
  {
   "cell_type": "code",
   "execution_count": 21,
   "id": "b2c48ef6",
   "metadata": {},
   "outputs": [
    {
     "data": {
      "text/plain": [
       "(Finitely generated module V/W over Integer Ring with invariants (),\n",
       " Finitely generated module V/W over Integer Ring with invariants (0, 0, 0, 0),\n",
       " Finitely generated module V/W over Integer Ring with invariants ())"
      ]
     },
     "execution_count": 21,
     "metadata": {},
     "output_type": "execute_result"
    }
   ],
   "source": [
    "stevedore_colored_tri_plane.homology_branched_cover()"
   ]
  },
  {
   "cell_type": "code",
   "execution_count": 20,
   "id": "7d689c60",
   "metadata": {},
   "outputs": [
    {
     "ename": "TypeError",
     "evalue": "no conversion of this rational to integer",
     "output_type": "error",
     "traceback": [
      "\u001b[0;31m---------------------------------------------------------------------------\u001b[0m",
      "\u001b[0;31mTypeError\u001b[0m                                 Traceback (most recent call last)",
      "\u001b[0;32m/var/folders/3l/914ktb1n5q78tlxjd8vtgp1rfd44kb/T/ipykernel_13801/1850349061.py\u001b[0m in \u001b[0;36m<module>\u001b[0;34m\u001b[0m\n\u001b[0;32m----> 1\u001b[0;31m \u001b[0mstevedore_colored_tri_plane\u001b[0m\u001b[0;34m.\u001b[0m\u001b[0mintersection_form\u001b[0m\u001b[0;34m(\u001b[0m\u001b[0;34m)\u001b[0m\u001b[0;34m\u001b[0m\u001b[0;34m\u001b[0m\u001b[0m\n\u001b[0m",
      "\u001b[0;32m<string>\u001b[0m in \u001b[0;36mintersection_form\u001b[0;34m(self)\u001b[0m\n",
      "\u001b[0;32m/private/var/tmp/sage-9.6-current/local/var/lib/sage/venv-python3.10.3/lib/python3.10/site-packages/sage/structure/parent.pyx\u001b[0m in \u001b[0;36msage.structure.parent.Parent.__call__ (build/cythonized/sage/structure/parent.c:9450)\u001b[0;34m()\u001b[0m\n\u001b[1;32m    895\u001b[0m         \u001b[0;32mif\u001b[0m \u001b[0mmor\u001b[0m \u001b[0;32mis\u001b[0m \u001b[0;32mnot\u001b[0m \u001b[0;32mNone\u001b[0m\u001b[0;34m:\u001b[0m\u001b[0;34m\u001b[0m\u001b[0;34m\u001b[0m\u001b[0m\n\u001b[1;32m    896\u001b[0m             \u001b[0;32mif\u001b[0m \u001b[0mno_extra_args\u001b[0m\u001b[0;34m:\u001b[0m\u001b[0;34m\u001b[0m\u001b[0;34m\u001b[0m\u001b[0m\n\u001b[0;32m--> 897\u001b[0;31m                 \u001b[0;32mreturn\u001b[0m \u001b[0mmor\u001b[0m\u001b[0;34m.\u001b[0m\u001b[0m_call_\u001b[0m\u001b[0;34m(\u001b[0m\u001b[0mx\u001b[0m\u001b[0;34m)\u001b[0m\u001b[0;34m\u001b[0m\u001b[0;34m\u001b[0m\u001b[0m\n\u001b[0m\u001b[1;32m    898\u001b[0m             \u001b[0;32melse\u001b[0m\u001b[0;34m:\u001b[0m\u001b[0;34m\u001b[0m\u001b[0;34m\u001b[0m\u001b[0m\n\u001b[1;32m    899\u001b[0m                 \u001b[0;32mreturn\u001b[0m \u001b[0mmor\u001b[0m\u001b[0;34m.\u001b[0m\u001b[0m_call_with_args\u001b[0m\u001b[0;34m(\u001b[0m\u001b[0mx\u001b[0m\u001b[0;34m,\u001b[0m \u001b[0margs\u001b[0m\u001b[0;34m,\u001b[0m \u001b[0mkwds\u001b[0m\u001b[0;34m)\u001b[0m\u001b[0;34m\u001b[0m\u001b[0;34m\u001b[0m\u001b[0m\n",
      "\u001b[0;32m/private/var/tmp/sage-9.6-current/local/var/lib/sage/venv-python3.10.3/lib/python3.10/site-packages/sage/structure/coerce_maps.pyx\u001b[0m in \u001b[0;36msage.structure.coerce_maps.DefaultConvertMap_unique._call_ (build/cythonized/sage/structure/coerce_maps.c:4734)\u001b[0;34m()\u001b[0m\n\u001b[1;32m    159\u001b[0m                 \u001b[0mprint\u001b[0m\u001b[0;34m(\u001b[0m\u001b[0mtype\u001b[0m\u001b[0;34m(\u001b[0m\u001b[0mC\u001b[0m\u001b[0;34m)\u001b[0m\u001b[0;34m,\u001b[0m \u001b[0mC\u001b[0m\u001b[0;34m)\u001b[0m\u001b[0;34m\u001b[0m\u001b[0;34m\u001b[0m\u001b[0m\n\u001b[1;32m    160\u001b[0m                 \u001b[0mprint\u001b[0m\u001b[0;34m(\u001b[0m\u001b[0mtype\u001b[0m\u001b[0;34m(\u001b[0m\u001b[0mC\u001b[0m\u001b[0;34m.\u001b[0m\u001b[0m_element_constructor\u001b[0m\u001b[0;34m)\u001b[0m\u001b[0;34m,\u001b[0m \u001b[0mC\u001b[0m\u001b[0;34m.\u001b[0m\u001b[0m_element_constructor\u001b[0m\u001b[0;34m)\u001b[0m\u001b[0;34m\u001b[0m\u001b[0;34m\u001b[0m\u001b[0m\n\u001b[0;32m--> 161\u001b[0;31m             \u001b[0;32mraise\u001b[0m\u001b[0;34m\u001b[0m\u001b[0;34m\u001b[0m\u001b[0m\n\u001b[0m\u001b[1;32m    162\u001b[0m \u001b[0;34m\u001b[0m\u001b[0m\n\u001b[1;32m    163\u001b[0m     \u001b[0mcpdef\u001b[0m \u001b[0mElement\u001b[0m \u001b[0m_call_with_args\u001b[0m\u001b[0;34m(\u001b[0m\u001b[0mself\u001b[0m\u001b[0;34m,\u001b[0m \u001b[0mx\u001b[0m\u001b[0;34m,\u001b[0m \u001b[0margs\u001b[0m\u001b[0;34m=\u001b[0m\u001b[0;34m(\u001b[0m\u001b[0;34m)\u001b[0m\u001b[0;34m,\u001b[0m \u001b[0mkwds\u001b[0m\u001b[0;34m=\u001b[0m\u001b[0;34m{\u001b[0m\u001b[0;34m}\u001b[0m\u001b[0;34m)\u001b[0m\u001b[0;34m:\u001b[0m\u001b[0;34m\u001b[0m\u001b[0;34m\u001b[0m\u001b[0m\n",
      "\u001b[0;32m/private/var/tmp/sage-9.6-current/local/var/lib/sage/venv-python3.10.3/lib/python3.10/site-packages/sage/structure/coerce_maps.pyx\u001b[0m in \u001b[0;36msage.structure.coerce_maps.DefaultConvertMap_unique._call_ (build/cythonized/sage/structure/coerce_maps.c:4626)\u001b[0;34m()\u001b[0m\n\u001b[1;32m    154\u001b[0m         \u001b[0mcdef\u001b[0m \u001b[0mParent\u001b[0m \u001b[0mC\u001b[0m \u001b[0;34m=\u001b[0m \u001b[0mself\u001b[0m\u001b[0;34m.\u001b[0m\u001b[0m_codomain\u001b[0m\u001b[0;34m\u001b[0m\u001b[0;34m\u001b[0m\u001b[0m\n\u001b[1;32m    155\u001b[0m         \u001b[0;32mtry\u001b[0m\u001b[0;34m:\u001b[0m\u001b[0;34m\u001b[0m\u001b[0;34m\u001b[0m\u001b[0m\n\u001b[0;32m--> 156\u001b[0;31m             \u001b[0;32mreturn\u001b[0m \u001b[0mC\u001b[0m\u001b[0;34m.\u001b[0m\u001b[0m_element_constructor\u001b[0m\u001b[0;34m(\u001b[0m\u001b[0mx\u001b[0m\u001b[0;34m)\u001b[0m\u001b[0;34m\u001b[0m\u001b[0;34m\u001b[0m\u001b[0m\n\u001b[0m\u001b[1;32m    157\u001b[0m         \u001b[0;32mexcept\u001b[0m \u001b[0mException\u001b[0m\u001b[0;34m:\u001b[0m\u001b[0;34m\u001b[0m\u001b[0;34m\u001b[0m\u001b[0m\n\u001b[1;32m    158\u001b[0m             \u001b[0;32mif\u001b[0m \u001b[0mprint_warnings\u001b[0m\u001b[0;34m:\u001b[0m\u001b[0;34m\u001b[0m\u001b[0;34m\u001b[0m\u001b[0m\n",
      "\u001b[0;32m/private/var/tmp/sage-9.6-current/local/var/lib/sage/venv-python3.10.3/lib/python3.10/site-packages/sage/modules/free_module.py\u001b[0m in \u001b[0;36m_element_constructor_\u001b[0;34m(self, x, coerce, copy, check)\u001b[0m\n\u001b[1;32m   1132\u001b[0m         \u001b[0;32mif\u001b[0m \u001b[0mcheck\u001b[0m \u001b[0;32mand\u001b[0m \u001b[0mself\u001b[0m\u001b[0;34m.\u001b[0m\u001b[0mcoordinate_ring\u001b[0m\u001b[0;34m(\u001b[0m\u001b[0;34m)\u001b[0m\u001b[0;34m.\u001b[0m\u001b[0mis_exact\u001b[0m\u001b[0;34m(\u001b[0m\u001b[0;34m)\u001b[0m\u001b[0;34m:\u001b[0m\u001b[0;34m\u001b[0m\u001b[0;34m\u001b[0m\u001b[0m\n\u001b[1;32m   1133\u001b[0m             \u001b[0;32mif\u001b[0m \u001b[0misinstance\u001b[0m\u001b[0;34m(\u001b[0m\u001b[0mself\u001b[0m\u001b[0;34m,\u001b[0m \u001b[0mFreeModule_ambient\u001b[0m\u001b[0;34m)\u001b[0m\u001b[0;34m:\u001b[0m\u001b[0;34m\u001b[0m\u001b[0;34m\u001b[0m\u001b[0m\n\u001b[0;32m-> 1134\u001b[0;31m                 \u001b[0;32mreturn\u001b[0m \u001b[0mself\u001b[0m\u001b[0;34m.\u001b[0m\u001b[0melement_class\u001b[0m\u001b[0;34m(\u001b[0m\u001b[0mself\u001b[0m\u001b[0;34m,\u001b[0m \u001b[0mx\u001b[0m\u001b[0;34m,\u001b[0m \u001b[0mcoerce\u001b[0m\u001b[0;34m,\u001b[0m \u001b[0mcopy\u001b[0m\u001b[0;34m)\u001b[0m\u001b[0;34m\u001b[0m\u001b[0;34m\u001b[0m\u001b[0m\n\u001b[0m\u001b[1;32m   1135\u001b[0m             \u001b[0;32mtry\u001b[0m\u001b[0;34m:\u001b[0m\u001b[0;34m\u001b[0m\u001b[0;34m\u001b[0m\u001b[0m\n\u001b[1;32m   1136\u001b[0m                 \u001b[0mc\u001b[0m \u001b[0;34m=\u001b[0m \u001b[0mself\u001b[0m\u001b[0;34m.\u001b[0m\u001b[0mcoordinates\u001b[0m\u001b[0;34m(\u001b[0m\u001b[0mx\u001b[0m\u001b[0;34m)\u001b[0m\u001b[0;34m\u001b[0m\u001b[0;34m\u001b[0m\u001b[0m\n",
      "\u001b[0;32m/private/var/tmp/sage-9.6-current/local/var/lib/sage/venv-python3.10.3/lib/python3.10/site-packages/sage/modules/vector_integer_dense.pyx\u001b[0m in \u001b[0;36msage.modules.vector_integer_dense.Vector_integer_dense.__init__ (build/cythonized/sage/modules/vector_integer_dense.c:3648)\u001b[0;34m()\u001b[0m\n\u001b[1;32m    120\u001b[0m                 \u001b[0;32mraise\u001b[0m \u001b[0mTypeError\u001b[0m\u001b[0;34m(\u001b[0m\u001b[0;34m\"x must be a list of the right length\"\u001b[0m\u001b[0;34m)\u001b[0m\u001b[0;34m\u001b[0m\u001b[0;34m\u001b[0m\u001b[0m\n\u001b[1;32m    121\u001b[0m             \u001b[0;32mfor\u001b[0m \u001b[0mi\u001b[0m \u001b[0;32mfrom\u001b[0m \u001b[0;36m0\u001b[0m \u001b[0;34m<=\u001b[0m \u001b[0mi\u001b[0m \u001b[0;34m<\u001b[0m \u001b[0mself\u001b[0m\u001b[0;34m.\u001b[0m\u001b[0m_degree\u001b[0m\u001b[0;34m:\u001b[0m\u001b[0;34m\u001b[0m\u001b[0;34m\u001b[0m\u001b[0m\n\u001b[0;32m--> 122\u001b[0;31m                 \u001b[0mz\u001b[0m \u001b[0;34m=\u001b[0m \u001b[0mInteger\u001b[0m\u001b[0;34m(\u001b[0m\u001b[0mx\u001b[0m\u001b[0;34m[\u001b[0m\u001b[0mi\u001b[0m\u001b[0;34m]\u001b[0m\u001b[0;34m)\u001b[0m\u001b[0;34m\u001b[0m\u001b[0;34m\u001b[0m\u001b[0m\n\u001b[0m\u001b[1;32m    123\u001b[0m                 \u001b[0mmpz_set\u001b[0m\u001b[0;34m(\u001b[0m\u001b[0mself\u001b[0m\u001b[0;34m.\u001b[0m\u001b[0m_entries\u001b[0m\u001b[0;34m[\u001b[0m\u001b[0mi\u001b[0m\u001b[0;34m]\u001b[0m\u001b[0;34m,\u001b[0m \u001b[0mz\u001b[0m\u001b[0;34m.\u001b[0m\u001b[0mvalue\u001b[0m\u001b[0;34m)\u001b[0m\u001b[0;34m\u001b[0m\u001b[0;34m\u001b[0m\u001b[0m\n\u001b[1;32m    124\u001b[0m             \u001b[0;32mreturn\u001b[0m\u001b[0;34m\u001b[0m\u001b[0;34m\u001b[0m\u001b[0m\n",
      "\u001b[0;32m/private/var/tmp/sage-9.6-current/local/var/lib/sage/venv-python3.10.3/lib/python3.10/site-packages/sage/rings/integer.pyx\u001b[0m in \u001b[0;36msage.rings.integer.Integer.__init__ (build/cythonized/sage/rings/integer.c:5830)\u001b[0;34m()\u001b[0m\n\u001b[1;32m    656\u001b[0m                 \u001b[0motmp\u001b[0m \u001b[0;34m=\u001b[0m \u001b[0mgetattr\u001b[0m\u001b[0;34m(\u001b[0m\u001b[0mx\u001b[0m\u001b[0;34m,\u001b[0m \u001b[0;34m\"_integer_\"\u001b[0m\u001b[0;34m,\u001b[0m \u001b[0;32mNone\u001b[0m\u001b[0;34m)\u001b[0m\u001b[0;34m\u001b[0m\u001b[0;34m\u001b[0m\u001b[0m\n\u001b[1;32m    657\u001b[0m                 \u001b[0;32mif\u001b[0m \u001b[0motmp\u001b[0m \u001b[0;32mis\u001b[0m \u001b[0;32mnot\u001b[0m \u001b[0;32mNone\u001b[0m\u001b[0;34m:\u001b[0m\u001b[0;34m\u001b[0m\u001b[0;34m\u001b[0m\u001b[0m\n\u001b[0;32m--> 658\u001b[0;31m                     \u001b[0mset_from_Integer\u001b[0m\u001b[0;34m(\u001b[0m\u001b[0mself\u001b[0m\u001b[0;34m,\u001b[0m \u001b[0motmp\u001b[0m\u001b[0;34m(\u001b[0m\u001b[0mthe_integer_ring\u001b[0m\u001b[0;34m)\u001b[0m\u001b[0;34m)\u001b[0m\u001b[0;34m\u001b[0m\u001b[0;34m\u001b[0m\u001b[0m\n\u001b[0m\u001b[1;32m    659\u001b[0m                     \u001b[0;32mreturn\u001b[0m\u001b[0;34m\u001b[0m\u001b[0;34m\u001b[0m\u001b[0m\n\u001b[1;32m    660\u001b[0m \u001b[0;34m\u001b[0m\u001b[0m\n",
      "\u001b[0;32m/private/var/tmp/sage-9.6-current/local/var/lib/sage/venv-python3.10.3/lib/python3.10/site-packages/sage/rings/rational.pyx\u001b[0m in \u001b[0;36msage.rings.rational.Rational._integer_ (build/cythonized/sage/rings/rational.cpp:24317)\u001b[0;34m()\u001b[0m\n\u001b[1;32m   2968\u001b[0m         \"\"\"\n\u001b[1;32m   2969\u001b[0m         \u001b[0;32mif\u001b[0m \u001b[0;32mnot\u001b[0m \u001b[0mmpz_cmp_si\u001b[0m\u001b[0;34m(\u001b[0m\u001b[0mmpq_denref\u001b[0m\u001b[0;34m(\u001b[0m\u001b[0mself\u001b[0m\u001b[0;34m.\u001b[0m\u001b[0mvalue\u001b[0m\u001b[0;34m)\u001b[0m\u001b[0;34m,\u001b[0m \u001b[0;36m1\u001b[0m\u001b[0;34m)\u001b[0m \u001b[0;34m==\u001b[0m \u001b[0;36m0\u001b[0m\u001b[0;34m:\u001b[0m\u001b[0;34m\u001b[0m\u001b[0;34m\u001b[0m\u001b[0m\n\u001b[0;32m-> 2970\u001b[0;31m             \u001b[0;32mraise\u001b[0m \u001b[0mTypeError\u001b[0m\u001b[0;34m(\u001b[0m\u001b[0;34m\"no conversion of this rational to integer\"\u001b[0m\u001b[0;34m)\u001b[0m\u001b[0;34m\u001b[0m\u001b[0;34m\u001b[0m\u001b[0m\n\u001b[0m\u001b[1;32m   2971\u001b[0m         \u001b[0mcdef\u001b[0m \u001b[0mInteger\u001b[0m \u001b[0mn\u001b[0m \u001b[0;34m=\u001b[0m \u001b[0mInteger\u001b[0m\u001b[0;34m.\u001b[0m\u001b[0m__new__\u001b[0m\u001b[0;34m(\u001b[0m\u001b[0mInteger\u001b[0m\u001b[0;34m)\u001b[0m\u001b[0;34m\u001b[0m\u001b[0;34m\u001b[0m\u001b[0m\n\u001b[1;32m   2972\u001b[0m         \u001b[0mn\u001b[0m\u001b[0;34m.\u001b[0m\u001b[0mset_from_mpz\u001b[0m\u001b[0;34m(\u001b[0m\u001b[0mmpq_numref\u001b[0m\u001b[0;34m(\u001b[0m\u001b[0mself\u001b[0m\u001b[0;34m.\u001b[0m\u001b[0mvalue\u001b[0m\u001b[0;34m)\u001b[0m\u001b[0;34m)\u001b[0m\u001b[0;34m\u001b[0m\u001b[0;34m\u001b[0m\u001b[0m\n",
      "\u001b[0;31mTypeError\u001b[0m: no conversion of this rational to integer"
     ]
    }
   ],
   "source": [
    "stevedore_colored_tri_plane.intersection_form()"
   ]
  },
  {
   "cell_type": "code",
   "execution_count": 22,
   "id": "2fff31ec",
   "metadata": {},
   "outputs": [
    {
     "name": "stdout",
     "output_type": "stream",
     "text": [
      "[(1,5,7,8,4,2)(3,6), (1,2,4,8,7,5)(3,6), (2,6,8,9,5,3)(4,7), (2,3,5,9,8,6)(4,7), (2,6,8,9,5,3)(4,7), (2,3,5,9,8,6)(4,7), (2,6,8,9,5,3)(4,7), (2,3,5,9,8,6)(4,7), (2,6,8,9,5,3)(4,7), (2,3,5,9,8,6)(4,7)]\n"
     ]
    }
   ],
   "source": [
    "print(stevedore_images_of_generators)"
   ]
  },
  {
   "cell_type": "code",
   "execution_count": 23,
   "id": "d94c5c49",
   "metadata": {},
   "outputs": [
    {
     "data": {
      "text/plain": [
       "True"
      ]
     },
     "execution_count": 23,
     "metadata": {},
     "output_type": "execute_result"
    }
   ],
   "source": [
    "stevedore_colored_tri_plane.colored_tangles['red'].is_representation()"
   ]
  },
  {
   "cell_type": "code",
   "execution_count": 24,
   "id": "1580b2d2",
   "metadata": {},
   "outputs": [
    {
     "data": {
      "text/plain": [
       "True"
      ]
     },
     "execution_count": 24,
     "metadata": {},
     "output_type": "execute_result"
    }
   ],
   "source": [
    "stevedore_colored_tri_plane.colored_tangles['blu'].is_representation()"
   ]
  },
  {
   "cell_type": "code",
   "execution_count": 25,
   "id": "aca6d7c5",
   "metadata": {},
   "outputs": [
    {
     "data": {
      "text/plain": [
       "True"
      ]
     },
     "execution_count": 25,
     "metadata": {},
     "output_type": "execute_result"
    }
   ],
   "source": [
    "stevedore_colored_tri_plane.colored_tangles['gre'].is_representation()"
   ]
  },
  {
   "cell_type": "code",
   "execution_count": 26,
   "id": "aac744d3",
   "metadata": {},
   "outputs": [
    {
     "data": {
      "text/plain": [
       "[22, [4, 4, 10]]"
      ]
     },
     "execution_count": 26,
     "metadata": {},
     "output_type": "execute_result"
    }
   ],
   "source": [
    "stevedore_colored_tri_plane.trisection_parameters_branched_cover()\n"
   ]
  },
  {
   "cell_type": "code",
   "execution_count": 27,
   "id": "6aa0d6e5",
   "metadata": {},
   "outputs": [],
   "source": [
    "H_1=stevedore_colored_tri_plane.homology_branched_cover()[0]\n",
    "H_2=stevedore_colored_tri_plane.homology_branched_cover()[1]\n",
    "H_3=stevedore_colored_tri_plane.homology_branched_cover()[2]"
   ]
  },
  {
   "cell_type": "code",
   "execution_count": 28,
   "id": "58da77a0",
   "metadata": {},
   "outputs": [
    {
     "data": {
      "text/plain": [
       "<class 'sage.modules.fg_pid.fgp_module.FGP_Module_class_with_category'>"
      ]
     },
     "execution_count": 28,
     "metadata": {},
     "output_type": "execute_result"
    }
   ],
   "source": [
    "type(H_2)"
   ]
  },
  {
   "cell_type": "code",
   "execution_count": 14,
   "id": "586b5001",
   "metadata": {},
   "outputs": [],
   "source": [
    "g=H_2.gens()[1]"
   ]
  },
  {
   "cell_type": "code",
   "execution_count": 17,
   "id": "e0aa7e24",
   "metadata": {},
   "outputs": [
    {
     "data": {
      "text/plain": [
       "<class 'sage.rings.infinity.PlusInfinity'>"
      ]
     },
     "execution_count": 17,
     "metadata": {},
     "output_type": "execute_result"
    }
   ],
   "source": [
    "type(g.additive_order())"
   ]
  },
  {
   "cell_type": "code",
   "execution_count": 18,
   "id": "0d334c0a",
   "metadata": {},
   "outputs": [
    {
     "data": {
      "text/plain": [
       "True"
      ]
     },
     "execution_count": 18,
     "metadata": {},
     "output_type": "execute_result"
    }
   ],
   "source": [
    "g.additive_order()==+Infinity"
   ]
  },
  {
   "cell_type": "code",
   "execution_count": null,
   "id": "60b9f01b",
   "metadata": {},
   "outputs": [],
   "source": [
    "stevedore_surface=stevedore_colored_tri_plane.surface #colored punctured sphere\n"
   ]
  },
  {
   "cell_type": "code",
   "execution_count": null,
   "id": "1b29f7b5",
   "metadata": {},
   "outputs": [],
   "source": [
    "#Handlebody groups. Codomain of inclusion maps.\n",
    "RH_group=stevedore_colored_tri_plane.colored_tangles['red'].handlebody_group()\n",
    "GH_group=stevedore_colored_tri_plane.colored_tangles['gre'].handlebody_group()\n",
    "BH_group=stevedore_colored_tri_plane.colored_tangles['blu'].handlebody_group()\n"
   ]
  },
  {
   "cell_type": "code",
   "execution_count": null,
   "id": "8b9fc066",
   "metadata": {},
   "outputs": [],
   "source": [
    "#pi_1(X)=1\n",
    "stevedore_colored_tri_plane.pi_1_branched_cover().simplified()"
   ]
  },
  {
   "cell_type": "code",
   "execution_count": null,
   "id": "51533d98",
   "metadata": {},
   "outputs": [],
   "source": [
    "inc_pi_1_RH=stevedore_surface.pi_1_branched().hom([RH_group(stevedore_surface.coverF([i+1])) for i in range(rank(stevedore_surface.coverF))])\n",
    "inc_pi_1_BH=stevedore_surface.pi_1_branched().hom([BH_group(stevedore_surface.coverF([i+1])) for i in range(rank(stevedore_surface.coverF))])\n",
    "inc_pi_1_GH=stevedore_surface.pi_1_branched().hom([GH_group(stevedore_surface.coverF([i+1])) for i in range(rank(stevedore_surface.coverF))])\n"
   ]
  },
  {
   "cell_type": "code",
   "execution_count": null,
   "id": "641b132b",
   "metadata": {},
   "outputs": [],
   "source": [
    "stevedore_colored_tri_plane.check_pi_1_branched_cover_3_manifolds_free()"
   ]
  },
  {
   "cell_type": "code",
   "execution_count": null,
   "id": "a697275d",
   "metadata": {},
   "outputs": [],
   "source": [
    "claw_hom=stevedore_surface.claw_collapse_hom()\n",
    "for gen in stevedore_surface.pi_1_unbranched().gens():\n",
    "    print(gen,'-->',claw_hom.image(gen))\n",
    "    print(stevedore_surface.cyclic_word_sheet_incoming_outgoing_list(claw_hom.image(gen)))"
   ]
  },
  {
   "cell_type": "code",
   "execution_count": null,
   "id": "0ce9839d",
   "metadata": {},
   "outputs": [],
   "source": [
    "M=stevedore_surface.intersection_matrix()\n",
    "print(M)"
   ]
  },
  {
   "cell_type": "code",
   "execution_count": null,
   "id": "56372cb8",
   "metadata": {},
   "outputs": [],
   "source": [
    "for i in range(rank(stevedore_surface.coverF)):\n",
    "    for j in range(rank(stevedore_surface.coverF)):\n",
    "        if M[i,j]!=-M[j,i]:\n",
    "            print(i,j,'not skew sym')"
   ]
  },
  {
   "cell_type": "code",
   "execution_count": null,
   "id": "c989d748",
   "metadata": {},
   "outputs": [],
   "source": [
    "#Determine the presentation matrix corresponding to the abelianization of a finitely presented group\n",
    "def presentation_matrix(F,relations):\n",
    "    num_gens=rank(F)\n",
    "    num_relns=len(relations)\n",
    "    \n",
    "    presentation_matrix=[[0 for j in range(num_relns)] for i in range(num_gens)]\n",
    "    for j in range(num_relns):\n",
    "        reln=relations[j]\n",
    "        subscript_list=reln.Tietze()\n",
    "    \n",
    "        for k in range(len(subscript_list)):\n",
    "        \n",
    "            presentation_matrix[abs(subscript_list[k])-1][j]+=sgn(subscript_list[k])\n",
    "    return matrix(presentation_matrix)\n",
    "\n",
    "#Presentation matrix example\n",
    "#F3=FreeGroup(3)\n",
    "#reln1=F3([1,1,1,1,-2,-2,-2,1,1,1,1,1])\n",
    "#reln2=F3([1,2,3,-2])\n",
    "#print(reln2)\n",
    "#print(reln2.Tietze())\n",
    "#pm=presentation_matrix(F3,[reln1,reln2])\n",
    "#print(pm)"
   ]
  },
  {
   "cell_type": "code",
   "execution_count": null,
   "id": "bf66d01f",
   "metadata": {},
   "outputs": [],
   "source": [
    "#Presentation matrices for first homology groups of each handlebody and the core surface of the trisection\n",
    "#relations are in columns\n",
    "p_matrix_RH=presentation_matrix(FreeGroup(p*rank(stevedore_F)),RH_group.relations())\n",
    "p_matrix_BH=presentation_matrix(FreeGroup(p*rank(stevedore_F)),BH_group.relations())\n",
    "p_matrix_GH=presentation_matrix(FreeGroup(p*rank(stevedore_F)),GH_group.relations())\n",
    "p_matrix_surface=presentation_matrix(FreeGroup(p*rank(stevedore_F)),stevedore_surface.pi_1_branched().relations())\n",
    "\n",
    "\n",
    "num_gens=p*rank(stevedore_F)\n",
    "free_module=span(matrix.identity(num_gens).columns())\n",
    "\n",
    "#construct homology groups of each handlebody and the core surface as quotients of the same free module\n",
    "#when p=3, this free module has rank 30\n",
    "\n",
    "RH_relation_submodule=span(p_matrix_RH.columns())\n",
    "RH_module=free_module/RH_relation_submodule\n",
    "GH_relation_submodule=span(p_matrix_GH.columns())\n",
    "GH_module=free_module/GH_relation_submodule\n",
    "BH_relation_submodule=span(p_matrix_BH.columns())\n",
    "BH_module=free_module/BH_relation_submodule\n",
    "surface_relation_submodule=span(p_matrix_surface.columns())\n",
    "surface_module=free_module/surface_relation_submodule\n",
    "\n",
    "#in order to construct morphisms from central surface to each handlebody, need the free module presented as a trivial quotient of itself\n",
    "\n",
    "zero_vector=[0 for i in range(num_gens)]\n",
    "trivial_module=free_module.span([zero_vector])\n",
    "free_module_quotient_form=free_module/trivial_module\n",
    "\n"
   ]
  },
  {
   "cell_type": "code",
   "execution_count": null,
   "id": "5b5cf14e",
   "metadata": {
    "scrolled": true
   },
   "outputs": [],
   "source": [
    "#construct quotient maps from the free module (presented as a trivial quotient of itself) to each handlebody group and the surface group\n",
    "RH_quotient_map=free_module_quotient_form.hom([RH_module(free_module_quotient_form.gen(i)) for i in range(num_gens)])\n",
    "BH_quotient_map=free_module_quotient_form.hom([BH_module(free_module_quotient_form.gen(i)) for i in range(num_gens)])\n",
    "GH_quotient_map=free_module_quotient_form.hom([GH_module(free_module_quotient_form.gen(i)) for i in range(num_gens)])\n",
    "surface_quotient_map=free_module_quotient_form.hom([surface_module(free_module_quotient_form.gen(i)) for i in range(num_gens)])\n"
   ]
  },
  {
   "cell_type": "code",
   "execution_count": null,
   "id": "5e0b0d45",
   "metadata": {},
   "outputs": [],
   "source": [
    "#For each basis element of the surface group, see where it maps in each handlebody.\n",
    "#To do this, lift the basis element to the free module and then apply each of the handlebody quotient maps\n",
    "#Results are expressed in terms of bases of each handlebody group, rather than the larger free group\n",
    "for gen in surface_module.gens():\n",
    "    print(gen)\n",
    "    print('maps to')\n",
    "    print('red', RH_quotient_map(surface_quotient_map.lift(gen)), 'blu',BH_quotient_map(surface_quotient_map.lift(gen)),'gre', GH_quotient_map(surface_quotient_map.lift(gen)))\n",
    "    print()\n",
    "  \n"
   ]
  },
  {
   "cell_type": "code",
   "execution_count": null,
   "id": "d867d9ed",
   "metadata": {},
   "outputs": [],
   "source": [
    "#construct inclusion-induced maps from the surface group to each handlebody group\n",
    "#each map lifts basis elements of the surface group to the free module, and then maps the free module element into the corresponding handlebody\n",
    "\n",
    "inc_RH=surface_module.hom([RH_quotient_map(surface_quotient_map.lift(gen)) for gen in surface_module.gens()])\n",
    "inc_BH=surface_module.hom([BH_quotient_map(surface_quotient_map.lift(gen)) for gen in surface_module.gens()])\n",
    "inc_GH=surface_module.hom([GH_quotient_map(surface_quotient_map.lift(gen)) for gen in surface_module.gens()])"
   ]
  },
  {
   "cell_type": "code",
   "execution_count": null,
   "id": "931f4313",
   "metadata": {
    "scrolled": true
   },
   "outputs": [],
   "source": [
    "#Express basis for each Lagriangian (kernel of inclusion map into handlebody) \n",
    "#in terms of free module basis and surface module basis\n",
    "\n",
    "#For the latter, lift to the free module and then use the quotient map to get an element of the surface module\n",
    "\n",
    "L_red_surface_module_basis=[]\n",
    "L_red_upstairs_basis=[]\n",
    "L_blu_surface_module_basis=[]\n",
    "L_blu_upstairs_basis=[]\n",
    "L_gre_surface_module_basis=[]\n",
    "L_gre_upstairs_basis=[]\n",
    "\n",
    "print('red kernel')\n",
    "for k in inc_RH.kernel().gens():\n",
    "    print(surface_quotient_map.lift(k))\n",
    "    print(surface_quotient_map(surface_quotient_map.lift(k)))\n",
    "    L_red_surface_module_basis.append(surface_quotient_map(surface_quotient_map.lift(k)))\n",
    "    L_red_upstairs_basis.append(surface_quotient_map.lift(k).lift())\n",
    "print('blu kernel')\n",
    "for k in inc_BH.kernel().gens():\n",
    "    print(surface_quotient_map.lift(k))\n",
    "    print(surface_quotient_map(surface_quotient_map.lift(k)))\n",
    "    L_blu_surface_module_basis.append(surface_quotient_map(surface_quotient_map.lift(k)))\n",
    "    L_blu_upstairs_basis.append(surface_quotient_map.lift(k).lift())\n",
    "print('gre kernel')\n",
    "for k in inc_GH.kernel().gens():\n",
    "    print(surface_quotient_map.lift(k))\n",
    "    print(surface_quotient_map(surface_quotient_map.lift(k)))\n",
    "    L_gre_surface_module_basis.append(surface_quotient_map(surface_quotient_map.lift(k)))\n",
    "    L_gre_upstairs_basis.append(surface_quotient_map.lift(k).lift())"
   ]
  },
  {
   "cell_type": "code",
   "execution_count": null,
   "id": "be78b566",
   "metadata": {},
   "outputs": [],
   "source": [
    "#Kernels of the inclusion-induced maps indicate which curves bound in each handlebody (Lagrangians)\n",
    "\n",
    "\n",
    "RH_kernel=inc_RH.kernel()\n",
    "BH_kernel=inc_BH.kernel()\n",
    "GH_kernel=inc_GH.kernel()"
   ]
  },
  {
   "cell_type": "code",
   "execution_count": null,
   "id": "0f8935e6",
   "metadata": {},
   "outputs": [],
   "source": [
    "#Construct kernels (Lagrangians) as submodules of surface module\n",
    "RH_kernel_as_submodule=surface_module.submodule([RH_kernel.gen(i) for i in range(len(RH_kernel.gens()))])\n",
    "BH_kernel_as_submodule=surface_module.submodule([BH_kernel.gen(i) for i in range(len(BH_kernel.gens()))])\n",
    "GH_kernel_as_submodule=surface_module.submodule([GH_kernel.gen(i) for i in range(len(GH_kernel.gens()))])\n"
   ]
  },
  {
   "cell_type": "code",
   "execution_count": null,
   "id": "22566717",
   "metadata": {},
   "outputs": [],
   "source": [
    "#Cannot compute intersection of submodules of finitely generated modules\n",
    "#To intersect the Lagrangians, re-build each as a submodule of a free module\n",
    "#Way around this??\n",
    "\n",
    "#rebuild surface group as a free module\n",
    "surface_free=ZZ^len(surface_module.gens())\n",
    "\n",
    "\n",
    "L_red=surface_free.span([list(L_red_surface_module_basis[i]) for i in range(len(L_red_surface_module_basis))],ZZ)\n",
    "L_blu=surface_free.span([list(L_blu_surface_module_basis[i]) for i in range(len(L_blu_surface_module_basis))],ZZ)\n",
    "L_gre=surface_free.span([list(L_gre_surface_module_basis[i]) for i in range(len(L_gre_surface_module_basis))],ZZ)\n",
    "\n",
    "\n",
    "print('Red Lagrangian')\n",
    "print(len(L_red.gens()))\n",
    "for gen in L_red.gens():\n",
    "    print(gen)\n",
    "    \n",
    "print('Blue Lagrangian')\n",
    "print(len(L_blu.gens()))\n",
    "for gen in L_blu.gens():\n",
    "    print(gen)\n",
    "    \n",
    "print('Green Lagrangian')\n",
    "print(len(L_gre.gens()))\n",
    "for gen in L_gre.gens():\n",
    "    print(gen)"
   ]
  },
  {
   "cell_type": "code",
   "execution_count": null,
   "id": "0d40abdf",
   "metadata": {},
   "outputs": [],
   "source": [
    "#Intersections of Lagrangians\n",
    "\n",
    "L_int_red_blu=L_red.intersection(L_blu)\n",
    "L_int_blu_gre=L_blu.intersection(L_gre)\n",
    "L_int_gre_red=L_gre.intersection(L_red)\n",
    "print(\"L_red \\cap L_blu\")\n",
    "print(L_int_red_blu)\n",
    "print(\"L_blu \\cap L_gre\")\n",
    "print(L_int_blu_gre)\n",
    "print(\"L_gre \\cap L_red\")\n",
    "print(L_int_gre_red)\n",
    "\n",
    "#Sums of Lagrangians\n",
    "\n",
    "#L_red_blu=surface_free.span([list(L_red_surface_module_basis[i]) for i in range(len(L_red_surface_module_basis))]+\n",
    "#                           [list(L_blu_surface_module_basis[i]) for i in range(len(L_blu_surface_module_basis))]\n",
    "#                           )\n",
    "L_red_blu=L_red+L_blu\n",
    "#L_blu_gre=surface_free.span([list(L_blu_surface_module_basis[i]) for i in range(len(L_blu_surface_module_basis))]+\n",
    " #                          [list(L_gre_surface_module_basis[i]) for i in range(len(L_gre_surface_module_basis))]\n",
    " #                          )\n",
    "L_blu_gre=L_blu+L_gre\n",
    "#L_gre_red=surface_free.span([list(L_gre_surface_module_basis[i]) for i in range(len(L_gre_surface_module_basis))]+\n",
    " #                          [list(L_red_surface_module_basis[i]) for i in range(len(L_red_surface_module_basis))]\n",
    "#                           )\n",
    "L_gre_red=L_gre+L_red\n",
    "print(\"L_red + L_blu\")\n",
    "print(L_red_blu)\n",
    "print(\"L_blu + L_gre\")\n",
    "print(L_blu_gre)\n",
    "print(\"L_gre + L_red\")\n",
    "print(L_gre_red)\n",
    "\n"
   ]
  },
  {
   "cell_type": "code",
   "execution_count": null,
   "id": "bb68c1a1",
   "metadata": {},
   "outputs": [],
   "source": [
    "#Numerator of H_2(X)\n",
    "#https://arxiv.org/pdf/1711.04762.pdf Thm 3.6 p.9\n",
    "H_2_num=L_gre.intersection(L_red_blu)"
   ]
  },
  {
   "cell_type": "code",
   "execution_count": null,
   "id": "69689c5a",
   "metadata": {},
   "outputs": [],
   "source": [
    "print(H_2_num)"
   ]
  },
  {
   "cell_type": "code",
   "execution_count": null,
   "id": "cc891072",
   "metadata": {},
   "outputs": [],
   "source": [
    "#Denominator of H_2(X)\n",
    "#https://arxiv.org/pdf/1711.04762.pdf Thm 3.6 p.9\n",
    "#H_2_denom=surface_free.span(list(L_int_blu_gre.gens())+list(L_int_gre_red.gens()))\n",
    "H_2_denom=L_int_blu_gre+L_int_gre_red"
   ]
  },
  {
   "cell_type": "code",
   "execution_count": null,
   "id": "e6498f8b",
   "metadata": {},
   "outputs": [],
   "source": [
    "print(H_2_denom)"
   ]
  },
  {
   "cell_type": "code",
   "execution_count": null,
   "id": "685b71ce",
   "metadata": {},
   "outputs": [],
   "source": []
  },
  {
   "cell_type": "code",
   "execution_count": null,
   "id": "f04b9d1e",
   "metadata": {},
   "outputs": [],
   "source": [
    "#H_2(X)\n",
    "H_2=H_2_num/H_2_denom\n"
   ]
  },
  {
   "cell_type": "code",
   "execution_count": null,
   "id": "77199245",
   "metadata": {},
   "outputs": [],
   "source": [
    "for x in H_2.gens():\n",
    "    print(x.lift())"
   ]
  },
  {
   "cell_type": "code",
   "execution_count": null,
   "id": "20b16219",
   "metadata": {},
   "outputs": [],
   "source": [
    "#H_3(X)\n",
    "L_gre.intersection(L_int_red_blu)"
   ]
  },
  {
   "cell_type": "code",
   "execution_count": null,
   "id": "04201feb",
   "metadata": {},
   "outputs": [],
   "source": [
    "#H_1(X)\n",
    "surface_free/(L_red+L_gre+L_blu)"
   ]
  },
  {
   "cell_type": "code",
   "execution_count": null,
   "id": "5329fc55",
   "metadata": {},
   "outputs": [],
   "source": [
    "#View generators of H_2 in rank 30 group\n",
    "#H_2_upstairs_gens\n",
    "\n",
    "H_2_upstairs_gens=[]\n",
    "for x in H_2.gens():\n",
    "    \n",
    "    X=surface_module.zero()\n",
    "    for i in range(len(x.lift())):\n",
    "        X+=x.lift()[i]*surface_module.gen(i)\n",
    "   \n",
    "    H_2_upstairs_gens.append(X.lift())\n",
    "for gen in H_2_upstairs_gens:\n",
    "    print(gen)"
   ]
  },
  {
   "cell_type": "code",
   "execution_count": null,
   "id": "104c069f",
   "metadata": {},
   "outputs": [],
   "source": []
  },
  {
   "cell_type": "code",
   "execution_count": null,
   "id": "d9b598a6",
   "metadata": {},
   "outputs": [],
   "source": [
    "def lift_surface_free_to_free_group(surface_elt):\n",
    "    X=surface_module.zero()\n",
    "    for i in range(len(surface_elt)):\n",
    "        X+=surface_elt[i]*surface_module.gen(i)\n",
    "    return(X.lift())\n",
    "    "
   ]
  },
  {
   "cell_type": "code",
   "execution_count": null,
   "id": "70afd481",
   "metadata": {},
   "outputs": [],
   "source": [
    "L_red_blu_matrix_tr=matrix(ZZ,[L_red.gen(i) for i in range(len(L_red.gens()))]+[L_blu.gen(i) for i in range(len(L_blu.gens()))])\n",
    "L_red_blu_matrix=L_red_blu_matrix_tr.transpose()\n",
    "L_red_blu_matrix\n",
    "#matrix with columns 1-3 generators of L_red and 4-6 generators of L_blu"
   ]
  },
  {
   "cell_type": "code",
   "execution_count": null,
   "id": "42605df0",
   "metadata": {},
   "outputs": [],
   "source": [
    "L_red_blu_combo=[]\n",
    "#Express generators of H_2 as linear combination of L_red and L_blu generators\n",
    "#Mx=v where v in H_2 and M= L_red_blu_matrix\n",
    "for H_2_gen in H_2.gens():\n",
    "    \n",
    "    L_red_blu_combo.append(L_red_blu_matrix.solve_right(matrix(ZZ,list(H_2_gen.lift())).transpose()))\n",
    "#L_red_blu_combo.append(L_red_blu_matrix.solve_right(matrix(list(H_2.1.lift())).transpose()))"
   ]
  },
  {
   "cell_type": "code",
   "execution_count": null,
   "id": "0cbc0ff6",
   "metadata": {},
   "outputs": [],
   "source": [
    "H_2_L_red_gens_coefficients=[]\n",
    "for i in range(len(L_red_blu_combo)):\n",
    "    gen=[]\n",
    "    for j in range(len(L_red.gens())):\n",
    "        gen.append(L_red_blu_combo[i][j][0])\n",
    "    H_2_L_red_gens_coefficients.append(gen)\n",
    "print(H_2_L_red_gens_coefficients)\n",
    "\n",
    "H_2_L_red_projections=[]\n",
    "for coef_list in H_2_L_red_gens_coefficients:\n",
    "    gen=L_red.zero()\n",
    "    for i in range(len(coef_list)):\n",
    "        gen+=coef_list[i]*L_red.gen(i)\n",
    "    H_2_L_red_projections.append(gen)\n",
    "\n",
    "print(H_2_L_red_projections)\n",
    "\n",
    "for x in H_2_L_red_projections:\n",
    "    print(x in L_red)"
   ]
  },
  {
   "cell_type": "code",
   "execution_count": null,
   "id": "efc13885",
   "metadata": {},
   "outputs": [],
   "source": [
    "for x in H_2_L_red_projections:\n",
    "    print(surface_free(x))"
   ]
  },
  {
   "cell_type": "code",
   "execution_count": null,
   "id": "1aa2a87e",
   "metadata": {},
   "outputs": [],
   "source": [
    "x_prime_list=[]\n",
    "\n",
    "for x in H_2_L_red_projections:\n",
    "    print(lift_surface_free_to_free_group(surface_free(x)))\n",
    "    x_prime_list.append(lift_surface_free_to_free_group(surface_free(x)))\n",
    "\n",
    "y_list=H_2_upstairs_gens"
   ]
  },
  {
   "cell_type": "code",
   "execution_count": null,
   "id": "f0385ee5",
   "metadata": {},
   "outputs": [],
   "source": [
    "#Compute intersection form\n",
    "\n",
    "I=matrix(len(H_2_upstairs_gens))\n",
    "for x in range(len(x_prime_list)):\n",
    "    for y in range(len(y_list)):\n",
    "        I[x,y]=vector(x_prime_list[x])*M*vector(y_list[y])"
   ]
  },
  {
   "cell_type": "code",
   "execution_count": null,
   "id": "84957f56",
   "metadata": {},
   "outputs": [],
   "source": [
    "I"
   ]
  },
  {
   "cell_type": "code",
   "execution_count": null,
   "id": "7058944b",
   "metadata": {},
   "outputs": [],
   "source": [
    "I.eigenvalues()"
   ]
  },
  {
   "cell_type": "code",
   "execution_count": null,
   "id": "4a090822",
   "metadata": {},
   "outputs": [],
   "source": [
    "I.determinant()"
   ]
  },
  {
   "cell_type": "code",
   "execution_count": null,
   "id": "69102f0c",
   "metadata": {},
   "outputs": [],
   "source": [
    "stevedore_colored_tri_plane.H_2_branched_cover()"
   ]
  },
  {
   "cell_type": "code",
   "execution_count": null,
   "id": "b8203173",
   "metadata": {},
   "outputs": [],
   "source": [
    "print(x_prime_list[1])\n",
    "print(y_list[1])"
   ]
  },
  {
   "cell_type": "code",
   "execution_count": null,
   "id": "8b10d307",
   "metadata": {},
   "outputs": [],
   "source": [
    "#always have same intersection form for standard 3-coloring with claw x_0^1, x_0^1x_2^2\n",
    "def intersection_matrix_3_coloring(num_br_points):\n",
    "    \n",
    "    M=matrix(3*num_br_points)\n",
    "    # x_0^1, ..., x_{b-1}^1 trivial\n",
    "    \n",
    "    # x_0^2, x_1^2, x_2^2 trivial\n",
    "    # x_0^3, x_1^3, x_2^3 trivial\n",
    "    \n",
    "    # x_3^2,...,x_{b-1}^2 nontrivial\n",
    "    # x_3^3,...,x_{b-1}^3 nontrivial, -(above)\n",
    "    \n",
    "    #x_i^j ---> x_k k=(j-1)*10+i\n",
    "    \n",
    "    for k in range(num_br_points+3,2*num_br_points):\n",
    "        for l in range(num_br_points+3,2*num_br_points):\n",
    "            if k<l:\n",
    "                M[k,l]=-1\n",
    "            if k>l:\n",
    "                M[k,l]=1\n",
    "    for k in range(2*num_br_points+3,3*num_br_points):\n",
    "        for l in range(2*num_br_points+3,3*num_br_points):\n",
    "            if k<l:\n",
    "                M[k,l]=-1\n",
    "            if k>l:\n",
    "                M[k,l]=1\n",
    "    \n",
    "    for k in range(num_br_points+3,2*num_br_points):\n",
    "        for l in range(2*num_br_points+3,3*num_br_points):\n",
    "            if k+num_br_points<l:\n",
    "                M[k,l]=1\n",
    "            if k+num_br_points>l:\n",
    "                M[k,l]=-1\n",
    "    \n",
    "    for k in range(2*num_br_points+3,3*num_br_points):\n",
    "        for l in range(num_br_points+3,2*num_br_points):\n",
    "            if k-num_br_points<l:\n",
    "                M[k,l]=1\n",
    "            if k-num_br_points>l:\n",
    "                M[k,l]=-1\n",
    "    return M"
   ]
  },
  {
   "cell_type": "code",
   "execution_count": null,
   "id": "4c1cfe71",
   "metadata": {},
   "outputs": [],
   "source": [
    "\n",
    "M=intersection_matrix_3_coloring(10)\n",
    "print(intersection_matrix_3_coloring(10))"
   ]
  },
  {
   "cell_type": "code",
   "execution_count": null,
   "id": "80c98458",
   "metadata": {},
   "outputs": [],
   "source": [
    "def intersection_number_3_coloring(a,b,num_br_points):\n",
    "    return vector(a)*intersection_matrix_3_coloring(num_br_points)*vector(b)\n",
    "    "
   ]
  },
  {
   "cell_type": "code",
   "execution_count": null,
   "id": "9ece7387",
   "metadata": {},
   "outputs": [],
   "source": [
    "#Compute intersection form\n",
    "\n",
    "M=matrix(2)\n",
    "for x in range(len(x_prime_list)):\n",
    "    for y in range(len(y_list)):\n",
    "        M[x,y]=intersection_number_3_coloring(x_prime_list[x],y_list[y],10)"
   ]
  },
  {
   "cell_type": "code",
   "execution_count": null,
   "id": "8a391015",
   "metadata": {},
   "outputs": [],
   "source": [
    "M"
   ]
  },
  {
   "cell_type": "code",
   "execution_count": null,
   "id": "bf3c77d0",
   "metadata": {},
   "outputs": [],
   "source": [
    "def exponent(F,word,i):\n",
    "    num_gens=rank(F)\n",
    "    presentation_matrix=[0 for i in range(num_gens)]\n",
    "    subscript_list=word.Tietze()\n",
    "    count=0\n",
    "    for sub in subscript_list:\n",
    "        if sub==i:\n",
    "            count+=1\n",
    "        elif sub==-i:\n",
    "            count-=1\n",
    "    return count\n",
    "    \n",
    "exponent(F3,reln1,2) "
   ]
  },
  {
   "cell_type": "code",
   "execution_count": null,
   "id": "2cf84c32",
   "metadata": {},
   "outputs": [],
   "source": [
    "    \n",
    "    "
   ]
  },
  {
   "cell_type": "code",
   "execution_count": null,
   "id": "3e5586d9",
   "metadata": {},
   "outputs": [],
   "source": []
  }
 ],
 "metadata": {
  "kernelspec": {
   "display_name": "SageMath 9.6",
   "language": "sage",
   "name": "sagemath-9.6"
  },
  "language_info": {
   "codemirror_mode": {
    "name": "ipython",
    "version": 3
   },
   "file_extension": ".py",
   "mimetype": "text/x-python",
   "name": "python",
   "nbconvert_exporter": "python",
   "pygments_lexer": "ipython3",
   "version": "3.10.3"
  }
 },
 "nbformat": 4,
 "nbformat_minor": 5
}
