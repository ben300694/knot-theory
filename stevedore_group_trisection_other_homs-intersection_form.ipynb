{
 "cells": [
  {
   "cell_type": "code",
   "execution_count": 159,
   "id": "26851426",
   "metadata": {},
   "outputs": [],
   "source": [
    "load(\"src/bridge_trisections.sage\")"
   ]
  },
  {
   "cell_type": "code",
   "execution_count": null,
   "id": "27f249f0",
   "metadata": {},
   "outputs": [
    {
     "name": "stdout",
     "output_type": "stream",
     "text": [
      "p= 3\n",
      "Image of x_0: (1,2)\n",
      "Image of x_2: (2,3)\n",
      "Trisection Parameters of branched cover: [3, [0, 0, 1]]\n",
      "pi_1(Branched cover): Finitely presented group <  |  >\n",
      "pi_1(Unbranched cover): Finitely presented group < x1, x20 | x20^-1*x1^-1*x20^-2*x1^-1*x20*x1 >\n",
      "H_2(Branched cover): Finitely generated module V/W over Integer Ring with invariants (0, 0)\n",
      "\n",
      "p= 5\n",
      "Image of x_0: (1,3,4,2)\n",
      "Image of x_2: (2,4,5,3)\n",
      "Trisection Parameters of branched cover: [11, [2, 2, 5]]\n",
      "pi_1(Branched cover): Finitely presented group <  |  >\n",
      "pi_1(Unbranched cover): Finitely presented group < x2, x12 | x2^-1*x12*x2*x12^-1*x2^-1*x12*x2^-1 >\n",
      "H_2(Branched cover): Finitely generated module V/W over Integer Ring with invariants (0, 0, 0)\n",
      "\n",
      "p= 7\n",
      "Image of x_0: (1,4,2)(3,5,6)\n",
      "Image of x_2: (2,5,3)(4,6,7)\n",
      "Trisection Parameters of branched cover: [14, [2, 2, 6]]\n",
      "pi_1(Branched cover): Finitely presented group <  |  >\n",
      "pi_1(Unbranched cover): Finitely presented group < x2, x23 | x2*x23*x2*x23^-1*x2^-1*x23*x2^2 >\n",
      "H_2(Branched cover): Finitely generated module V/W over Integer Ring with invariants (0, 0, 0, 0, 0)\n",
      "\n",
      "p= 9\n",
      "Image of x_0: (1,5,7,8,4,2)(3,6)\n",
      "Image of x_2: (2,6,8,9,5,3)(4,7)\n",
      "Trisection Parameters of branched cover: [22, [4, 4, 10]]\n",
      "pi_1(Branched cover): Finitely presented group <  |  >\n",
      "pi_1(Unbranched cover): Finitely presented group < x43, x80 | x80^2*x43*x80*x43^-1*x80^-1*x43 >\n"
     ]
    }
   ],
   "source": [
    "#For odd p, display trisection parameters, pi_1 of branched and unbranched covers\n",
    "\n",
    "\n",
    "for k in range(5):\n",
    "    p=2*k+3\n",
    "    stevedore_F = FreeGroup(10)\n",
    "    stevedore_S = SymmetricGroup(p)\n",
    "    stevedore_images_of_generators=double_6_1_images_of_generators(p)\n",
    "    \n",
    "    stevedore_tangles_dict={'red':double_6_1.red_tangle, 'blu':double_6_1.blu_tangle, 'gre':double_6_1.gre_tangle\n",
    "}\n",
    "    stevedore_colored_tri_plane=Colored_bridge_trisection(stevedore_F,stevedore_S,stevedore_tangles_dict,stevedore_images_of_generators)\n",
    "    print('p=',p)\n",
    "    print('Image of x_0:', stevedore_images_of_generators[0])\n",
    "    print('Image of x_2:', stevedore_images_of_generators[2])\n",
    "    print('Trisection Parameters of branched cover:', stevedore_colored_tri_plane.trisection_parameters_branched_cover())\n",
    "    print('pi_1(Branched cover):', stevedore_colored_tri_plane.pi_1_branched_cover().simplification_isomorphism().codomain())\n",
    "    print('pi_1(Unbranched cover):', stevedore_colored_tri_plane.pi_1_unbranched_cover().simplification_isomorphism().codomain())\n",
    "    #print('',stevedore_colored_tri_plane.lagrangians())\n",
    "    print('H_2(Branched cover):',stevedore_colored_tri_plane.H_2_branched_cover())\n",
    "   \n",
    "    print()"
   ]
  },
  {
   "cell_type": "code",
   "execution_count": 143,
   "id": "134185e4",
   "metadata": {},
   "outputs": [],
   "source": [
    "p=3\n",
    "stevedore_F = FreeGroup(10)\n",
    "stevedore_S = SymmetricGroup(p)\n",
    "stevedore_images_of_generators=double_6_1_images_of_generators(p)\n",
    "stevedore_tangles_dict={'red':double_6_1.red_tangle, 'blu':double_6_1.blu_tangle, 'gre':double_6_1.gre_tangle\n",
    "}\n",
    "stevedore_colored_tri_plane=Colored_bridge_trisection(stevedore_F,stevedore_S,stevedore_tangles_dict,stevedore_images_of_generators)"
   ]
  },
  {
   "cell_type": "code",
   "execution_count": 4,
   "id": "2fff31ec",
   "metadata": {},
   "outputs": [
    {
     "name": "stdout",
     "output_type": "stream",
     "text": [
      "[(1,2), (1,2), (2,3), (2,3), (2,3), (2,3), (2,3), (2,3), (2,3), (2,3)]\n"
     ]
    }
   ],
   "source": [
    "print(stevedore_images_of_generators)"
   ]
  },
  {
   "cell_type": "code",
   "execution_count": 5,
   "id": "f3536b98",
   "metadata": {},
   "outputs": [
    {
     "data": {
      "text/plain": [
       "{1: [], 2: [[0, 1, 1]], 3: [[0, 1, 1], [2, 2, 1]]}"
      ]
     },
     "execution_count": 5,
     "metadata": {},
     "output_type": "execute_result"
    }
   ],
   "source": [
    "stevedore_colored_tri_plane.surface.claw_relations_endpt_sub_sup_exp_dict()"
   ]
  },
  {
   "cell_type": "code",
   "execution_count": 6,
   "id": "aac744d3",
   "metadata": {},
   "outputs": [
    {
     "data": {
      "text/plain": [
       "[3, [0, 0, 1]]"
      ]
     },
     "execution_count": 6,
     "metadata": {},
     "output_type": "execute_result"
    }
   ],
   "source": [
    "stevedore_colored_tri_plane.trisection_parameters_branched_cover()\n"
   ]
  },
  {
   "cell_type": "code",
   "execution_count": 7,
   "id": "2c45a195",
   "metadata": {},
   "outputs": [
    {
     "data": {
      "text/plain": [
       "Finitely presented group <  |  >"
      ]
     },
     "execution_count": 7,
     "metadata": {},
     "output_type": "execute_result"
    }
   ],
   "source": [
    "stevedore_colored_tri_plane.pi_1_branched_cover().simplification_isomorphism().codomain()"
   ]
  },
  {
   "cell_type": "code",
   "execution_count": 8,
   "id": "5f768f4d",
   "metadata": {},
   "outputs": [
    {
     "data": {
      "text/plain": [
       "Finitely presented group < x1, x20 | x20^-1*x1^-1*x20^-2*x1^-1*x20*x1 >"
      ]
     },
     "execution_count": 8,
     "metadata": {},
     "output_type": "execute_result"
    }
   ],
   "source": [
    "stevedore_colored_tri_plane.pi_1_unbranched_cover().simplification_isomorphism().codomain()"
   ]
  },
  {
   "cell_type": "code",
   "execution_count": 9,
   "id": "60b9f01b",
   "metadata": {},
   "outputs": [],
   "source": [
    "stevedore_surface=stevedore_colored_tri_plane.surface #colored punctured sphere\n"
   ]
  },
  {
   "cell_type": "code",
   "execution_count": 10,
   "id": "3259f115",
   "metadata": {},
   "outputs": [
    {
     "name": "stdout",
     "output_type": "stream",
     "text": [
      "{'F': Free Group on generators {x0, x1, x2, x3, x4, x5, x6, x7, x8, x9}, 'S': Symmetric group of order 3! as a permutation group, 'representation': Group morphism:\n",
      "  From: Free Group on generators {x0, x1, x2, x3, x4, x5, x6, x7, x8, x9}\n",
      "  To:   Symmetric group of order 3! as a permutation group, 'coverF': Free Group on generators {x0, x1, x2, x3, x4, x5, x6, x7, x8, x9, x10, x11, x12, x13, x14, x15, x16, x17, x18, x19, x20, x21, x22, x23, x24, x25, x26, x27, x28, x29}, 'relation': x0^-1*x1^-1*x2^-1*x3^-1*x4^-1*x5^-1*x6^-1*x7^-1*x8^-1*x9^-1}\n"
     ]
    }
   ],
   "source": [
    "print(stevedore_surface)\n"
   ]
  },
  {
   "cell_type": "code",
   "execution_count": 11,
   "id": "3faf26b3",
   "metadata": {},
   "outputs": [
    {
     "name": "stdout",
     "output_type": "stream",
     "text": [
      "Finitely presented group < x0, x1, x2, x3, x4, x5, x6, x7, x8, x9, x10, x11, x12, x13, x14, x15, x16, x17, x18, x19, x20, x21, x22, x23, x24, x25, x26, x27, x28, x29 | x0*x10, x20, x1*x11, x21, x2, x12*x22, x3, x13*x23, x4, x14*x24, x5, x15*x25, x6, x16*x26, x7, x17*x27, x8, x18*x28, x9, x19*x29, 1, x0, x0*x12, x10^-1*x1^-1*x2^-1*x3^-1*x4^-1*x5^-1*x6^-1*x7^-1*x8^-1*x9^-1, x0^-1*x11^-1*x22^-1*x13^-1*x24^-1*x15^-1*x26^-1*x17^-1*x28^-1*x19^-1, x20^-1*x21^-1*x12^-1*x23^-1*x14^-1*x25^-1*x16^-1*x27^-1*x18^-1*x29^-1 >\n",
      "Finitely presented group < x13, x14, x15, x16, x17, x18 | x13*x14^-1*x15*x16^-1*x17*x18^-1*x13^-1*x14*x15^-1*x16*x17^-1*x18 >\n"
     ]
    }
   ],
   "source": [
    "#pi_1 of central surface of trisection (domain of inclusion maps)\n",
    "surface_group_branched=stevedore_surface.pi_1_branched()\n",
    "print(surface_group_branched)\n",
    "print(surface_group_branched.simplified())"
   ]
  },
  {
   "cell_type": "code",
   "execution_count": 12,
   "id": "2c1913ca",
   "metadata": {},
   "outputs": [
    {
     "name": "stdout",
     "output_type": "stream",
     "text": [
      "Finitely presented group < x0, x1, x2, x3, x4, x5, x6, x7, x8, x9, x10, x11, x12, x13, x14, x15, x16, x17, x18, x19, x20, x21, x22, x23, x24, x25, x26, x27, x28, x29 | 1, x0, x0*x12, x10^-1*x1^-1*x2^-1*x3^-1*x4^-1*x5^-1*x6^-1*x7^-1*x8^-1*x9^-1, x0^-1*x11^-1*x22^-1*x13^-1*x24^-1*x15^-1*x26^-1*x17^-1*x28^-1*x19^-1, x20^-1*x21^-1*x12^-1*x23^-1*x14^-1*x25^-1*x16^-1*x27^-1*x18^-1*x29^-1 >\n"
     ]
    }
   ],
   "source": [
    "surface_group_unbranched=stevedore_surface.pi_1_unbranched()\n",
    "print(surface_group_unbranched)"
   ]
  },
  {
   "cell_type": "code",
   "execution_count": 13,
   "id": "1b29f7b5",
   "metadata": {},
   "outputs": [],
   "source": [
    "#Handlebody groups. Codomain of inclusion maps.\n",
    "RH_group=stevedore_colored_tri_plane.colored_tangles['red'].handlebody_group()\n",
    "GH_group=stevedore_colored_tri_plane.colored_tangles['gre'].handlebody_group()\n",
    "BH_group=stevedore_colored_tri_plane.colored_tangles['blu'].handlebody_group()\n"
   ]
  },
  {
   "cell_type": "code",
   "execution_count": 14,
   "id": "c989d748",
   "metadata": {},
   "outputs": [],
   "source": [
    "#Determine the presentation matrix corresponding to the abelianization of a finitely presented group\n",
    "def presentation_matrix(F,relations):\n",
    "    num_gens=rank(F)\n",
    "    num_relns=len(relations)\n",
    "    \n",
    "    presentation_matrix=[[0 for j in range(num_relns)] for i in range(num_gens)]\n",
    "    for j in range(num_relns):\n",
    "        reln=relations[j]\n",
    "        subscript_list=reln.Tietze()\n",
    "    \n",
    "        for k in range(len(subscript_list)):\n",
    "        \n",
    "            presentation_matrix[abs(subscript_list[k])-1][j]+=sgn(subscript_list[k])\n",
    "    return matrix(presentation_matrix)"
   ]
  },
  {
   "cell_type": "code",
   "execution_count": 15,
   "id": "5028218c",
   "metadata": {},
   "outputs": [
    {
     "name": "stdout",
     "output_type": "stream",
     "text": [
      "x0*x1*x2*x1^-1\n",
      "(1, 2, 3, -2)\n",
      "[ 9  1]\n",
      "[-3  0]\n",
      "[ 0  1]\n"
     ]
    }
   ],
   "source": [
    "#Presentation matrix example\n",
    "F3=FreeGroup(3)\n",
    "reln1=F3([1,1,1,1,-2,-2,-2,1,1,1,1,1])\n",
    "reln2=F3([1,2,3,-2])\n",
    "print(reln2)\n",
    "print(reln2.Tietze())\n",
    "pm=presentation_matrix(F3,[reln1,reln2])\n",
    "print(pm)"
   ]
  },
  {
   "cell_type": "code",
   "execution_count": 16,
   "id": "347128cf",
   "metadata": {},
   "outputs": [],
   "source": [
    "def exponent(F,word,i):\n",
    "    num_gens=rank(F)\n",
    "    presentation_matrix=[0 for i in range(num_gens)]\n",
    "    subscript_list=word.Tietze()\n",
    "    count=0\n",
    "    for sub in subscript_list:\n",
    "        if sub==i:\n",
    "            count+=1\n",
    "        elif sub==-i:\n",
    "            count-=1\n",
    "    return count\n",
    "    \n",
    "    "
   ]
  },
  {
   "cell_type": "code",
   "execution_count": 17,
   "id": "365ec345",
   "metadata": {},
   "outputs": [
    {
     "data": {
      "text/plain": [
       "-3"
      ]
     },
     "execution_count": 17,
     "metadata": {},
     "output_type": "execute_result"
    }
   ],
   "source": [
    "exponent(F3,reln1,2)"
   ]
  },
  {
   "cell_type": "code",
   "execution_count": 19,
   "id": "bf66d01f",
   "metadata": {},
   "outputs": [],
   "source": [
    "#Presentation matrices for first homology groups of each handlebody and the core surface of the trisection\n",
    "p_matrix_RH=presentation_matrix(FreeGroup(p*rank(stevedore_F)),RH_group.relations())\n",
    "p_matrix_BH=presentation_matrix(FreeGroup(p*rank(stevedore_F)),BH_group.relations())\n",
    "p_matrix_GH=presentation_matrix(FreeGroup(p*rank(stevedore_F)),GH_group.relations())\n",
    "p_matrix_surface=presentation_matrix(FreeGroup(p*rank(stevedore_F)),surface_group_branched.relations())\n",
    "\n",
    "\n",
    "num_gens=p*rank(stevedore_F)\n",
    "free_module=span(matrix.identity(num_gens).columns())\n",
    "\n",
    "#construct homology groups of each handlebody and the core surface as quotients of the same free module\n",
    "#when p=3, this free module has rank 30\n",
    "\n",
    "RH_relation_submodule=span(p_matrix_RH.columns())\n",
    "RH_module=free_module/RH_relation_submodule\n",
    "GH_relation_submodule=span(p_matrix_GH.columns())\n",
    "GH_module=free_module/GH_relation_submodule\n",
    "BH_relation_submodule=span(p_matrix_BH.columns())\n",
    "BH_module=free_module/BH_relation_submodule\n",
    "surface_relation_submodule=span(p_matrix_surface.columns())\n",
    "surface_module=free_module/surface_relation_submodule\n",
    "\n",
    "#in order to construct morphisms from central surface to each handlebody, need the free module presented as a trivial quotient of itself\n",
    "\n",
    "zero_vector=[0 for i in range(num_gens)]\n",
    "trivial_module=free_module.span([zero_vector])\n",
    "free_module_quotient_form=free_module/trivial_module\n",
    "\n"
   ]
  },
  {
   "cell_type": "code",
   "execution_count": 20,
   "id": "5b5cf14e",
   "metadata": {
    "scrolled": true
   },
   "outputs": [],
   "source": [
    "#construct quotient maps from the free module (presented as a trivial quotient of itself) to each handlebody group and the surface group\n",
    "RH_quotient_map=free_module_quotient_form.hom([RH_module(free_module_quotient_form.gen(i)) for i in range(num_gens)])\n",
    "BH_quotient_map=free_module_quotient_form.hom([BH_module(free_module_quotient_form.gen(i)) for i in range(num_gens)])\n",
    "GH_quotient_map=free_module_quotient_form.hom([GH_module(free_module_quotient_form.gen(i)) for i in range(num_gens)])\n",
    "surface_quotient_map=free_module_quotient_form.hom([surface_module(free_module_quotient_form.gen(i)) for i in range(num_gens)])\n"
   ]
  },
  {
   "cell_type": "code",
   "execution_count": 21,
   "id": "5e0b0d45",
   "metadata": {},
   "outputs": [
    {
     "name": "stdout",
     "output_type": "stream",
     "text": [
      "(1, 0, 0, 0, 0, 0)\n",
      "maps to\n",
      "red (1, 0, 0) blu (0, 0, 0) gre (1, 0, 0)\n",
      "\n",
      "(0, 1, 0, 0, 0, 0)\n",
      "maps to\n",
      "red (0, 1, 0) blu (1, 0, 0) gre (1, 0, 0)\n",
      "\n",
      "(0, 0, 1, 0, 0, 0)\n",
      "maps to\n",
      "red (0, 1, 0) blu (0, 1, 0) gre (0, 0, 0)\n",
      "\n",
      "(0, 0, 0, 1, 0, 0)\n",
      "maps to\n",
      "red (2, 0, 0) blu (0, 1, 0) gre (0, 1, 0)\n",
      "\n",
      "(0, 0, 0, 0, 1, 0)\n",
      "maps to\n",
      "red (0, 0, 1) blu (1, 0, 0) gre (0, 1, 0)\n",
      "\n",
      "(0, 0, 0, 0, 0, 1)\n",
      "maps to\n",
      "red (0, 0, 1) blu (0, 0, 1) gre (0, 0, 1)\n",
      "\n"
     ]
    }
   ],
   "source": [
    "#For each basis element of the surface group, see where it maps in each handlebody.\n",
    "#To do this, lift the basis element to the free module and then apply each of the handlebody quotient maps\n",
    "#Results are expressed in terms of bases of each handlebody group, rather than the larger free group\n",
    "for gen in surface_module.gens():\n",
    "    print(gen)\n",
    "    print('maps to')\n",
    "    print('red', RH_quotient_map(surface_quotient_map.lift(gen)), 'blu',BH_quotient_map(surface_quotient_map.lift(gen)),'gre', GH_quotient_map(surface_quotient_map.lift(gen)))\n",
    "    print()\n",
    "  \n"
   ]
  },
  {
   "cell_type": "code",
   "execution_count": 22,
   "id": "d867d9ed",
   "metadata": {},
   "outputs": [],
   "source": [
    "#construct inclusion-induced maps from the surface group to each handlebody group\n",
    "#each map lifts basis elements of the surface group to the free module, and then maps the free module element into the corresponding handlebody\n",
    "\n",
    "inc_RH=surface_module.hom([RH_quotient_map(surface_quotient_map.lift(gen)) for gen in surface_module.gens()])\n",
    "inc_BH=surface_module.hom([BH_quotient_map(surface_quotient_map.lift(gen)) for gen in surface_module.gens()])\n",
    "inc_GH=surface_module.hom([GH_quotient_map(surface_quotient_map.lift(gen)) for gen in surface_module.gens()])"
   ]
  },
  {
   "cell_type": "code",
   "execution_count": 27,
   "id": "931f4313",
   "metadata": {
    "scrolled": true
   },
   "outputs": [
    {
     "name": "stdout",
     "output_type": "stream",
     "text": [
      "red kernel\n",
      "(0, 0, 0, 0, 0, 0, 0, 0, 0, 0, 0, 0, 0, 1, 0, 0, 0, 0, 0, 0, 0, 0, 0, 0, 0, 0, 0, 0, 0, 1)\n",
      "(2, -1, 1, -1, 1, -1)\n",
      "(0, 0, 0, 0, 0, 0, 0, 0, 0, 0, 0, 0, 0, 0, 1, 0, 0, 0, 0, 0, 0, 0, 0, 0, 0, 1, 0, 0, 0, 0)\n",
      "(0, 1, -1, 0, 0, 0)\n",
      "(0, 0, 0, 0, 0, 0, 0, 0, 0, 0, 0, 0, 0, 0, 0, 0, 1, 0, 0, 0, 0, 0, 0, 0, 0, 0, 0, 0, 0, 2)\n",
      "(2, -2, 2, -1, 2, -2)\n",
      "blu kernel\n",
      "(0, 0, 0, 0, 0, 0, 0, 0, 0, 0, 0, 0, 0, 1, 0, 0, 0, 0, 0, 0, 0, 0, 0, 0, 0, 0, 0, 0, 0, 0)\n",
      "(1, 0, 0, 0, 0, 0)\n",
      "(0, 0, 0, 0, 0, 0, 0, 0, 0, 0, 0, 0, 0, 0, 1, 0, 0, 0, 0, 0, 0, 0, 0, 0, 0, 0, 0, 1, 0, 0)\n",
      "(0, 1, 0, 0, -1, 0)\n",
      "(0, 0, 0, 0, 0, 0, 0, 0, 0, 0, 0, 0, 0, 0, 0, 1, 0, 0, 0, 0, 0, 0, 0, 0, 0, 0, 1, 0, 0, 0)\n",
      "(0, 0, 1, -1, 0, 0)\n",
      "gre kernel\n",
      "(0, 0, 0, 0, 0, 0, 0, 0, 0, 0, 0, 0, 0, 1, 0, 0, 0, 0, 0, 0, 0, 0, 0, 0, 1, 0, 0, 0, 0, 0)\n",
      "(1, -1, 0, 0, 0, 0)\n",
      "(0, 0, 0, 0, 0, 0, 0, 0, 0, 0, 0, 0, 0, 0, 0, 1, 0, 0, 0, 0, 0, 0, 0, 0, 0, 0, 0, 0, 0, 0)\n",
      "(0, 0, 1, 0, 0, 0)\n",
      "(0, 0, 0, 0, 0, 0, 0, 0, 0, 0, 0, 0, 0, 0, 0, 0, 1, 0, 0, 0, 0, 0, 0, 0, 0, 0, 0, 1, 0, 0)\n",
      "(0, 0, 0, 1, -1, 0)\n"
     ]
    }
   ],
   "source": [
    "#Express basis for each Lagriangian (kernel of inclusion map into handlebody) \n",
    "#in terms of free module basis and surface module basis\n",
    "\n",
    "#For the latter, lift to the free module and then use the quotient map to get an element of the surface module\n",
    "\n",
    "L_red_surface_module_basis=[]\n",
    "L_red_upstairs_basis=[]\n",
    "L_blu_surface_module_basis=[]\n",
    "L_blu_upstairs_basis=[]\n",
    "L_gre_surface_module_basis=[]\n",
    "L_gre_upstairs_basis=[]\n",
    "\n",
    "print('red kernel')\n",
    "for k in inc_RH.kernel().gens():\n",
    "    print(surface_quotient_map.lift(k))\n",
    "    print(surface_quotient_map(surface_quotient_map.lift(k)))\n",
    "    L_red_surface_module_basis.append(surface_quotient_map(surface_quotient_map.lift(k)))\n",
    "    L_red_upstairs_basis.append(surface_quotient_map.lift(k).lift())\n",
    "print('blu kernel')\n",
    "for k in inc_BH.kernel().gens():\n",
    "    print(surface_quotient_map.lift(k))\n",
    "    print(surface_quotient_map(surface_quotient_map.lift(k)))\n",
    "    L_blu_surface_module_basis.append(surface_quotient_map(surface_quotient_map.lift(k)))\n",
    "    L_blu_upstairs_basis.append(surface_quotient_map.lift(k).lift())\n",
    "print('gre kernel')\n",
    "for k in inc_GH.kernel().gens():\n",
    "    print(surface_quotient_map.lift(k))\n",
    "    print(surface_quotient_map(surface_quotient_map.lift(k)))\n",
    "    L_gre_surface_module_basis.append(surface_quotient_map(surface_quotient_map.lift(k)))\n",
    "    L_gre_upstairs_basis.append(surface_quotient_map.lift(k).lift())"
   ]
  },
  {
   "cell_type": "code",
   "execution_count": 26,
   "id": "be78b566",
   "metadata": {},
   "outputs": [],
   "source": [
    "#Kernels of the inclusion-induced maps indicate which curves bound in each handlebody (Lagrangians)\n",
    "\n",
    "\n",
    "RH_kernel=inc_RH.kernel()\n",
    "BH_kernel=inc_BH.kernel()\n",
    "GH_kernel=inc_GH.kernel()"
   ]
  },
  {
   "cell_type": "code",
   "execution_count": 28,
   "id": "0f8935e6",
   "metadata": {},
   "outputs": [],
   "source": [
    "#Construct kernels (Lagrangians) as submodules of surface module\n",
    "RH_kernel_as_submodule=surface_module.submodule([RH_kernel.gen(i) for i in range(len(RH_kernel.gens()))])\n",
    "BH_kernel_as_submodule=surface_module.submodule([BH_kernel.gen(i) for i in range(len(BH_kernel.gens()))])\n",
    "GH_kernel_as_submodule=surface_module.submodule([GH_kernel.gen(i) for i in range(len(GH_kernel.gens()))])\n"
   ]
  },
  {
   "cell_type": "code",
   "execution_count": 29,
   "id": "22566717",
   "metadata": {},
   "outputs": [
    {
     "name": "stdout",
     "output_type": "stream",
     "text": [
      "((2, 0, 0, -1, 0, 0), (0, 1, -1, 0, 0, 0), (0, 0, 0, 0, 1, -1))\n",
      "((1, 0, 0, 0, 0, 0), (0, 1, 0, 0, -1, 0), (0, 0, 1, -1, 0, 0))\n",
      "((1, -1, 0, 0, 0, 0), (0, 0, 1, 0, 0, 0), (0, 0, 0, 1, -1, 0))\n"
     ]
    }
   ],
   "source": [
    "#Cannot compute intersection of submodules of finitely generated modules\n",
    "#To intersect the Lagrangians, re-build each as a submodule of a free module\n",
    "#Way around this??\n",
    "\n",
    "#rebuild surface group as a free module\n",
    "surface_free=ZZ^len(surface_module.gens())\n",
    "\n",
    "\n",
    "L_red=surface_free.span([list(L_red_surface_module_basis[i]) for i in range(len(L_red_surface_module_basis))],ZZ)\n",
    "L_blu=surface_free.span([list(L_blu_surface_module_basis[i]) for i in range(len(L_blu_surface_module_basis))],ZZ)\n",
    "L_gre=surface_free.span([list(L_gre_surface_module_basis[i]) for i in range(len(L_gre_surface_module_basis))],ZZ)\n",
    "\n",
    "print(L_red.gens())\n",
    "print(L_blu.gens())\n",
    "print(L_gre.gens())"
   ]
  },
  {
   "cell_type": "code",
   "execution_count": 30,
   "id": "0d40abdf",
   "metadata": {},
   "outputs": [
    {
     "name": "stdout",
     "output_type": "stream",
     "text": [
      "L_red \\cap L_blu\n",
      "Free module of degree 6 and rank 0 over Integer Ring\n",
      "Echelon basis matrix:\n",
      "[]\n",
      "L_blu \\cap L_gre\n",
      "Free module of degree 6 and rank 1 over Integer Ring\n",
      "Echelon basis matrix:\n",
      "[ 1 -1  1 -1  1  0]\n",
      "L_gre \\cap L_red\n",
      "Free module of degree 6 and rank 0 over Integer Ring\n",
      "Echelon basis matrix:\n",
      "[]\n",
      "L_red + L_blu\n",
      "Free module of degree 6 and rank 6 over Integer Ring\n",
      "Echelon basis matrix:\n",
      "[1 0 0 0 0 0]\n",
      "[0 1 0 0 0 0]\n",
      "[0 0 1 0 0 0]\n",
      "[0 0 0 1 0 0]\n",
      "[0 0 0 0 1 0]\n",
      "[0 0 0 0 0 1]\n",
      "L_blu + L_gre\n",
      "Free module of degree 6 and rank 5 over Integer Ring\n",
      "Echelon basis matrix:\n",
      "[1 0 0 0 0 0]\n",
      "[0 1 0 0 0 0]\n",
      "[0 0 1 0 0 0]\n",
      "[0 0 0 1 0 0]\n",
      "[0 0 0 0 1 0]\n",
      "L_gre + L_red\n",
      "Free module of degree 6 and rank 6 over Integer Ring\n",
      "Echelon basis matrix:\n",
      "[1 0 0 0 0 0]\n",
      "[0 1 0 0 0 0]\n",
      "[0 0 1 0 0 0]\n",
      "[0 0 0 1 0 0]\n",
      "[0 0 0 0 1 0]\n",
      "[0 0 0 0 0 1]\n"
     ]
    }
   ],
   "source": [
    "#Intersections of Lagrangians\n",
    "\n",
    "L_int_red_blu=L_red.intersection(L_blu)\n",
    "L_int_blu_gre=L_blu.intersection(L_gre)\n",
    "L_int_gre_red=L_gre.intersection(L_red)\n",
    "print(\"L_red \\cap L_blu\")\n",
    "print(L_int_red_blu)\n",
    "print(\"L_blu \\cap L_gre\")\n",
    "print(L_int_blu_gre)\n",
    "print(\"L_gre \\cap L_red\")\n",
    "print(L_int_gre_red)\n",
    "\n",
    "#Sums of Lagrangians\n",
    "\n",
    "#L_red_blu=surface_free.span([list(L_red_surface_module_basis[i]) for i in range(len(L_red_surface_module_basis))]+\n",
    "#                           [list(L_blu_surface_module_basis[i]) for i in range(len(L_blu_surface_module_basis))]\n",
    "#                           )\n",
    "L_red_blu=L_red+L_blu\n",
    "#L_blu_gre=surface_free.span([list(L_blu_surface_module_basis[i]) for i in range(len(L_blu_surface_module_basis))]+\n",
    " #                          [list(L_gre_surface_module_basis[i]) for i in range(len(L_gre_surface_module_basis))]\n",
    " #                          )\n",
    "L_blu_gre=L_blu+L_gre\n",
    "#L_gre_red=surface_free.span([list(L_gre_surface_module_basis[i]) for i in range(len(L_gre_surface_module_basis))]+\n",
    " #                          [list(L_red_surface_module_basis[i]) for i in range(len(L_red_surface_module_basis))]\n",
    "#                           )\n",
    "L_gre_red=L_gre+L_red\n",
    "print(\"L_red + L_blu\")\n",
    "print(L_red_blu)\n",
    "print(\"L_blu + L_gre\")\n",
    "print(L_blu_gre)\n",
    "print(\"L_gre + L_red\")\n",
    "print(L_gre_red)"
   ]
  },
  {
   "cell_type": "code",
   "execution_count": 31,
   "id": "bb68c1a1",
   "metadata": {},
   "outputs": [],
   "source": [
    "#Numerator of H_2(X)\n",
    "#https://arxiv.org/pdf/1711.04762.pdf Thm 3.6 p.9\n",
    "H_2_num=L_gre.intersection(L_red_blu)"
   ]
  },
  {
   "cell_type": "code",
   "execution_count": 32,
   "id": "cc891072",
   "metadata": {},
   "outputs": [],
   "source": [
    "#Denominator of H_2(X)\n",
    "#https://arxiv.org/pdf/1711.04762.pdf Thm 3.6 p.9\n",
    "#H_2_denom=surface_free.span(list(L_int_blu_gre.gens())+list(L_int_gre_red.gens()))\n",
    "H_2_denom=L_int_blu_gre+L_int_gre_red"
   ]
  },
  {
   "cell_type": "code",
   "execution_count": 33,
   "id": "f04b9d1e",
   "metadata": {},
   "outputs": [],
   "source": [
    "#H_2(X)\n",
    "H_2=H_2_num/H_2_denom\n"
   ]
  },
  {
   "cell_type": "code",
   "execution_count": 34,
   "id": "77199245",
   "metadata": {},
   "outputs": [
    {
     "name": "stdout",
     "output_type": "stream",
     "text": [
      "(1, -1, 0, 0, 0, 0)\n",
      "(0, 0, 1, 0, 0, 0)\n"
     ]
    }
   ],
   "source": [
    "for x in H_2.gens():\n",
    "    print(x.lift())"
   ]
  },
  {
   "cell_type": "code",
   "execution_count": 35,
   "id": "5329fc55",
   "metadata": {},
   "outputs": [
    {
     "name": "stdout",
     "output_type": "stream",
     "text": [
      "[(0, 0, 0, 0, 0, 0, 0, 0, 0, 0, 0, 0, 0, 1, -1, 0, 0, 0, 0, 0, 0, 0, 0, 0, 0, 0, 0, 0, 0, 0), (0, 0, 0, 0, 0, 0, 0, 0, 0, 0, 0, 0, 0, 0, 0, 1, 0, 0, 0, 0, 0, 0, 0, 0, 0, 0, 0, 0, 0, 0)]\n"
     ]
    }
   ],
   "source": [
    "#View generators of H_2 in rank 30 group\n",
    "#H_2_upstairs_gens\n",
    "\n",
    "H_2_upstairs_gens=[]\n",
    "for x in H_2.gens():\n",
    "    \n",
    "    X=surface_module.zero()\n",
    "    for i in range(len(x.lift())):\n",
    "        X+=x.lift()[i]*surface_module.gen(i)\n",
    "   \n",
    "    H_2_upstairs_gens.append(X.lift())\n",
    "print(H_2_upstairs_gens)"
   ]
  },
  {
   "cell_type": "code",
   "execution_count": 36,
   "id": "d9b598a6",
   "metadata": {},
   "outputs": [],
   "source": [
    "def lift_surface_free_to_free_group(surface_elt):\n",
    "    X=surface_module.zero()\n",
    "    for i in range(len(surface_elt)):\n",
    "        X+=surface_elt[i]*surface_module.gen(i)\n",
    "    return(X.lift())\n",
    "    "
   ]
  },
  {
   "cell_type": "code",
   "execution_count": 40,
   "id": "f2ac8c53",
   "metadata": {},
   "outputs": [
    {
     "data": {
      "text/plain": [
       "[ 2  0  0  1  0  0]\n",
       "[ 0  1  0  0  1  0]\n",
       "[ 0 -1  0  0  0  1]\n",
       "[-1  0  0  0  0 -1]\n",
       "[ 0  0  1  0 -1  0]\n",
       "[ 0  0 -1  0  0  0]"
      ]
     },
     "execution_count": 40,
     "metadata": {},
     "output_type": "execute_result"
    }
   ],
   "source": [
    "L_red_blu_matrix_tr=matrix([L_red.gen(i) for i in range(len(L_red.gens()))]+[L_blu.gen(i) for i in range(len(L_blu.gens()))])\n",
    "L_red_blu_matrix=L_red_blu_matrix_tr.transpose()\n",
    "L_red_blu_matrix\n",
    "#matrix with columns 1-3 generators of L_red and 4-6 generators of L_blu"
   ]
  },
  {
   "cell_type": "code",
   "execution_count": 41,
   "id": "01d7bfbf",
   "metadata": {},
   "outputs": [],
   "source": [
    "L_red_blu_combo=[]\n",
    "#Express generators of H_2 as linear combination of L_red and L_blu generators\n",
    "#Mx=v where v in H_2 and M= L_red_blu_matrix\n",
    "L_red_blu_combo.append(L_red_blu_matrix.solve_right(matrix(list(H_2.0.lift())).transpose()))\n",
    "L_red_blu_combo.append(L_red_blu_matrix.solve_right(matrix(list(H_2.1.lift())).transpose()))"
   ]
  },
  {
   "cell_type": "code",
   "execution_count": 45,
   "id": "d222d5fb",
   "metadata": {},
   "outputs": [
    {
     "name": "stdout",
     "output_type": "stream",
     "text": [
      "[[1, -1, 0], [-1, 0, 0]]\n",
      "[(2, -1, 1, -1, 0, 0), (-2, 0, 0, 1, 0, 0)]\n",
      "True\n",
      "True\n"
     ]
    }
   ],
   "source": [
    "H_2_L_red_gens_coefficients=[]\n",
    "for i in range(len(L_red_blu_combo)):\n",
    "    gen=[]\n",
    "    for j in range(len(L_red.gens())):\n",
    "        gen.append(L_red_blu_combo[i][j][0])\n",
    "    H_2_L_red_gens_coefficients.append(gen)\n",
    "print(H_2_L_red_gens_coefficients)\n",
    "\n",
    "H_2_L_red_projections=[]\n",
    "for coef_list in H_2_L_red_gens_coefficients:\n",
    "    gen=L_red.zero()\n",
    "    for i in range(len(coef_list)):\n",
    "        gen+=coef_list[i]*L_red.gen(i)\n",
    "    H_2_L_red_projections.append(gen)\n",
    "\n",
    "print(H_2_L_red_projections)\n",
    "\n",
    "for x in H_2_L_red_projections:\n",
    "    print(x in L_red)"
   ]
  },
  {
   "cell_type": "code",
   "execution_count": 46,
   "id": "efc13885",
   "metadata": {},
   "outputs": [
    {
     "name": "stdout",
     "output_type": "stream",
     "text": [
      "(2, -1, 1, -1, 0, 0)\n",
      "(-2, 0, 0, 1, 0, 0)\n"
     ]
    }
   ],
   "source": [
    "for x in H_2_L_red_projections:\n",
    "    print(surface_free(x))"
   ]
  },
  {
   "cell_type": "code",
   "execution_count": 47,
   "id": "cfd92752",
   "metadata": {},
   "outputs": [
    {
     "name": "stdout",
     "output_type": "stream",
     "text": [
      "(0, 0, 0, 0, 0, 0, 0, 0, 0, 0, 0, 0, 0, 2, -1, 1, -1, 0, 0, 0, 0, 0, 0, 0, 0, 0, 0, 0, 0, 0)\n",
      "(0, 0, 0, 0, 0, 0, 0, 0, 0, 0, 0, 0, 0, -2, 0, 0, 1, 0, 0, 0, 0, 0, 0, 0, 0, 0, 0, 0, 0, 0)\n"
     ]
    }
   ],
   "source": []
  },
  {
   "cell_type": "code",
   "execution_count": 48,
   "id": "8b10d307",
   "metadata": {},
   "outputs": [],
   "source": [
    "#always have same intersection form for standard 3-coloring with claw x_0^1, x_0^1x_2^2\n",
    "def intersection_matrix_3_coloring(num_br_points):\n",
    "    \n",
    "    M=matrix(3*num_br_points)\n",
    "    # x_0^1, ..., x_{b-1}^1 trivial\n",
    "    \n",
    "    # x_0^2, x_1^2, x_2^2 trivial\n",
    "    # x_0^3, x_1^3, x_2^3 trivial\n",
    "    \n",
    "    # x_3^2,...,x_{b-1}^2 nontrivial\n",
    "    # x_3^3,...,x_{b-1}^3 nontrivial, -(above)\n",
    "    \n",
    "    #x_i^j ---> x_k k=(j-1)*10+i\n",
    "    \n",
    "    for k in range(num_br_points+3,2*num_br_points):\n",
    "        for l in range(num_br_points+3,2*num_br_points):\n",
    "            if k<l:\n",
    "                M[k,l]=-1\n",
    "            if k>l:\n",
    "                M[k,l]=1\n",
    "    for k in range(2*num_br_points+3,3*num_br_points):\n",
    "        for l in range(2*num_br_points+3,3*num_br_points):\n",
    "            if k<l:\n",
    "                M[k,l]=-1\n",
    "            if k>l:\n",
    "                M[k,l]=1\n",
    "    \n",
    "    for k in range(num_br_points+3,2*num_br_points):\n",
    "        for l in range(2*num_br_points+3,3*num_br_points):\n",
    "            if k+num_br_points<l:\n",
    "                M[k,l]=1\n",
    "            if k+num_br_points>l:\n",
    "                M[k,l]=-1\n",
    "    \n",
    "    for k in range(2*num_br_points+3,3*num_br_points):\n",
    "        for l in range(num_br_points+3,2*num_br_points):\n",
    "            if k-num_br_points<l:\n",
    "                M[k,l]=1\n",
    "            if k-num_br_points>l:\n",
    "                M[k,l]=-1\n",
    "    return M"
   ]
  },
  {
   "cell_type": "code",
   "execution_count": 34,
   "id": "4c1cfe71",
   "metadata": {},
   "outputs": [
    {
     "name": "stdout",
     "output_type": "stream",
     "text": [
      "[ 0  0  0  0  0  0  0  0  0  0  0  0  0  0  0  0  0  0  0  0  0  0  0  0  0  0  0  0  0  0]\n",
      "[ 0  0  0  0  0  0  0  0  0  0  0  0  0  0  0  0  0  0  0  0  0  0  0  0  0  0  0  0  0  0]\n",
      "[ 0  0  0  0  0  0  0  0  0  0  0  0  0  0  0  0  0  0  0  0  0  0  0  0  0  0  0  0  0  0]\n",
      "[ 0  0  0  0  0  0  0  0  0  0  0  0  0  0  0  0  0  0  0  0  0  0  0  0  0  0  0  0  0  0]\n",
      "[ 0  0  0  0  0  0  0  0  0  0  0  0  0  0  0  0  0  0  0  0  0  0  0  0  0  0  0  0  0  0]\n",
      "[ 0  0  0  0  0  0  0  0  0  0  0  0  0  0  0  0  0  0  0  0  0  0  0  0  0  0  0  0  0  0]\n",
      "[ 0  0  0  0  0  0  0  0  0  0  0  0  0  0  0  0  0  0  0  0  0  0  0  0  0  0  0  0  0  0]\n",
      "[ 0  0  0  0  0  0  0  0  0  0  0  0  0  0  0  0  0  0  0  0  0  0  0  0  0  0  0  0  0  0]\n",
      "[ 0  0  0  0  0  0  0  0  0  0  0  0  0  0  0  0  0  0  0  0  0  0  0  0  0  0  0  0  0  0]\n",
      "[ 0  0  0  0  0  0  0  0  0  0  0  0  0  0  0  0  0  0  0  0  0  0  0  0  0  0  0  0  0  0]\n",
      "[ 0  0  0  0  0  0  0  0  0  0  0  0  0  0  0  0  0  0  0  0  0  0  0  0  0  0  0  0  0  0]\n",
      "[ 0  0  0  0  0  0  0  0  0  0  0  0  0  0  0  0  0  0  0  0  0  0  0  0  0  0  0  0  0  0]\n",
      "[ 0  0  0  0  0  0  0  0  0  0  0  0  0  0  0  0  0  0  0  0  0  0  0  0  0  0  0  0  0  0]\n",
      "[ 0  0  0  0  0  0  0  0  0  0  0  0  0  0 -1 -1 -1 -1 -1 -1  0  0  0  0  1  1  1  1  1  1]\n",
      "[ 0  0  0  0  0  0  0  0  0  0  0  0  0  1  0 -1 -1 -1 -1 -1  0  0  0 -1  0  1  1  1  1  1]\n",
      "[ 0  0  0  0  0  0  0  0  0  0  0  0  0  1  1  0 -1 -1 -1 -1  0  0  0 -1 -1  0  1  1  1  1]\n",
      "[ 0  0  0  0  0  0  0  0  0  0  0  0  0  1  1  1  0 -1 -1 -1  0  0  0 -1 -1 -1  0  1  1  1]\n",
      "[ 0  0  0  0  0  0  0  0  0  0  0  0  0  1  1  1  1  0 -1 -1  0  0  0 -1 -1 -1 -1  0  1  1]\n",
      "[ 0  0  0  0  0  0  0  0  0  0  0  0  0  1  1  1  1  1  0 -1  0  0  0 -1 -1 -1 -1 -1  0  1]\n",
      "[ 0  0  0  0  0  0  0  0  0  0  0  0  0  1  1  1  1  1  1  0  0  0  0 -1 -1 -1 -1 -1 -1  0]\n",
      "[ 0  0  0  0  0  0  0  0  0  0  0  0  0  0  0  0  0  0  0  0  0  0  0  0  0  0  0  0  0  0]\n",
      "[ 0  0  0  0  0  0  0  0  0  0  0  0  0  0  0  0  0  0  0  0  0  0  0  0  0  0  0  0  0  0]\n",
      "[ 0  0  0  0  0  0  0  0  0  0  0  0  0  0  0  0  0  0  0  0  0  0  0  0  0  0  0  0  0  0]\n",
      "[ 0  0  0  0  0  0  0  0  0  0  0  0  0  0  1  1  1  1  1  1  0  0  0  0 -1 -1 -1 -1 -1 -1]\n",
      "[ 0  0  0  0  0  0  0  0  0  0  0  0  0 -1  0  1  1  1  1  1  0  0  0  1  0 -1 -1 -1 -1 -1]\n",
      "[ 0  0  0  0  0  0  0  0  0  0  0  0  0 -1 -1  0  1  1  1  1  0  0  0  1  1  0 -1 -1 -1 -1]\n",
      "[ 0  0  0  0  0  0  0  0  0  0  0  0  0 -1 -1 -1  0  1  1  1  0  0  0  1  1  1  0 -1 -1 -1]\n",
      "[ 0  0  0  0  0  0  0  0  0  0  0  0  0 -1 -1 -1 -1  0  1  1  0  0  0  1  1  1  1  0 -1 -1]\n",
      "[ 0  0  0  0  0  0  0  0  0  0  0  0  0 -1 -1 -1 -1 -1  0  1  0  0  0  1  1  1  1  1  0 -1]\n",
      "[ 0  0  0  0  0  0  0  0  0  0  0  0  0 -1 -1 -1 -1 -1 -1  0  0  0  0  1  1  1  1  1  1  0]\n"
     ]
    }
   ],
   "source": [
    "\n",
    "I=intersection_matrix_3_coloring(10)\n",
    "print(intersection_matrix_3_coloring(10))"
   ]
  },
  {
   "cell_type": "code",
   "execution_count": 49,
   "id": "80c98458",
   "metadata": {},
   "outputs": [],
   "source": [
    "def intersection_number_3_coloring(a,b,num_br_points):\n",
    "    return vector(a)*intersection_matrix_3_coloring(num_br_points)*vector(b)\n",
    "    "
   ]
  },
  {
   "cell_type": "code",
   "execution_count": 55,
   "id": "6726d2bf",
   "metadata": {},
   "outputs": [
    {
     "name": "stdout",
     "output_type": "stream",
     "text": [
      "(0, 0, 0, 0, 0, 0, 0, 0, 0, 0, 0, 0, 0, 2, -1, 1, -1, 0, 0, 0, 0, 0, 0, 0, 0, 0, 0, 0, 0, 0)\n",
      "(0, 0, 0, 0, 0, 0, 0, 0, 0, 0, 0, 0, 0, -2, 0, 0, 1, 0, 0, 0, 0, 0, 0, 0, 0, 0, 0, 0, 0, 0)\n"
     ]
    }
   ],
   "source": [
    "x_prime_list=[]\n",
    "\n",
    "for x in H_2_L_red_projections:\n",
    "    print(lift_surface_free_to_free_group(surface_free(x)))\n",
    "    x_prime_list.append(lift_surface_free_to_free_group(surface_free(x)))\n",
    "\n",
    "y_list=H_2_upstairs_gens"
   ]
  },
  {
   "cell_type": "code",
   "execution_count": 56,
   "id": "9ece7387",
   "metadata": {},
   "outputs": [],
   "source": [
    "#Compute intersection form\n",
    "\n",
    "M=matrix(2)\n",
    "for x in range(len(x_prime_list)):\n",
    "    for y in range(len(y_list)):\n",
    "        M[x,y]=intersection_number_3_coloring(x_prime_list[x],y_list[y],10)"
   ]
  },
  {
   "cell_type": "code",
   "execution_count": 57,
   "id": "8a391015",
   "metadata": {},
   "outputs": [
    {
     "data": {
      "text/plain": [
       "[ 1 -2]\n",
       "[-2  3]"
      ]
     },
     "execution_count": 57,
     "metadata": {},
     "output_type": "execute_result"
    }
   ],
   "source": [
    "M"
   ]
  },
  {
   "cell_type": "code",
   "execution_count": 62,
   "id": "c863ad48",
   "metadata": {},
   "outputs": [
    {
     "data": {
      "text/plain": [
       "{('gre',\n",
       "  'red'): Finitely presented group < x0, x1, x2, x3, x4, x5, x6, x7, x8, x9, x10, x11, x12, x13, x14, x15, x16, x17, x18, x19, x20, x21, x22, x23, x24, x25, x26, x27, x28, x29 | x0*x11, x10*x1, x20*x21, x2*x5, x12*x25, x22*x15, x3*x4, x13*x24, x23*x14, x6*x7, x16*x27, x26*x17, x8*x9, x18*x29, x28*x19, 1, x0, x0*x12, x0*x10, x20, x1*x11, x21, x2, x12*x22, x3, x13*x23, x4, x14*x24, x5, x15*x25, x6, x16*x26, x7, x17*x27, x8, x18*x28, x9, x19*x29, x0*x11*x2*x3*x11^-1*x16*x21*x13^-1*x22^-1*x23*x12*x23*x1^-1*x6^-1*x1*x23^-1*x12^-1*x1^-1, x10*x1*x12*x23*x1^-1*x6*x1*x23^-1*x12^-1*x13*x22*x13*x21^-1*x16^-1*x11*x3^-1*x2^-1*x11^-1, x20*x21*x22*x13*x21^-1*x26*x11*x3^-1*x2^-1*x3*x2*x3*x11^-1*x26^-1*x21*x13^-1*x22^-1*x21^-1, x1*x12*x23*x16*x21*x13^-1*x12*x23*x1^-1*x6^-1*x1*x23^-1*x12^-1*x1^-1, x11*x2*x3*x6*x1*x23^-1*x22*x13*x21^-1*x16^-1*x11*x3^-1*x2^-1*x11^-1, x21*x22*x13*x26*x11*x3^-1*x2*x3*x11^-1*x26^-1*x21*x13^-1*x22^-1*x21^-1, x4*x5, x14*x25, x24*x15, x1*x12*x23*x1^-1*x6*x1*x23^-1*x12^-1*x1^-1*x9, x11*x2*x3*x11^-1*x16*x21*x13^-1*x22^-1*x21^-1*x29, x21*x22*x13*x21^-1*x26*x11*x3^-1*x2^-1*x11^-1*x19, x7*x8, x17*x28, x27*x18, 1, x0, x0*x12, x0*x10, x20, x1*x11, x21, x2, x12*x22, x3, x13*x23, x4, x14*x24, x5, x15*x25, x6, x16*x26, x7, x17*x27, x8, x18*x28, x9, x19*x29 >,\n",
       " ('red',\n",
       "  'blu'): Finitely presented group < x0, x1, x2, x3, x4, x5, x6, x7, x8, x9, x10, x11, x12, x13, x14, x15, x16, x17, x18, x19, x20, x21, x22, x23, x24, x25, x26, x27, x28, x29 | x0*x11*x2*x3*x11^-1*x16*x21*x13^-1*x22^-1*x23*x12*x23*x1^-1*x6^-1*x1*x23^-1*x12^-1*x1^-1, x10*x1*x12*x23*x1^-1*x6*x1*x23^-1*x12^-1*x13*x22*x13*x21^-1*x16^-1*x11*x3^-1*x2^-1*x11^-1, x20*x21*x22*x13*x21^-1*x26*x11*x3^-1*x2^-1*x3*x2*x3*x11^-1*x26^-1*x21*x13^-1*x22^-1*x21^-1, x1*x12*x23*x16*x21*x13^-1*x12*x23*x1^-1*x6^-1*x1*x23^-1*x12^-1*x1^-1, x11*x2*x3*x6*x1*x23^-1*x22*x13*x21^-1*x16^-1*x11*x3^-1*x2^-1*x11^-1, x21*x22*x13*x26*x11*x3^-1*x2*x3*x11^-1*x26^-1*x21*x13^-1*x22^-1*x21^-1, x4*x5, x14*x25, x24*x15, x1*x12*x23*x1^-1*x6*x1*x23^-1*x12^-1*x1^-1*x9, x11*x2*x3*x11^-1*x16*x21*x13^-1*x22^-1*x21^-1*x29, x21*x22*x13*x21^-1*x26*x11*x3^-1*x2^-1*x11^-1*x19, x7*x8, x17*x28, x27*x18, 1, x0, x0*x12, x0*x10, x20, x1*x11, x21, x2, x12*x22, x3, x13*x23, x4, x14*x24, x5, x15*x25, x6, x16*x26, x7, x17*x27, x8, x18*x28, x9, x19*x29, x0*x11, x10*x1, x20*x21, x2*x3, x12*x23, x22*x13, x4*x7, x14*x27, x24*x17, x5*x6, x15*x26, x25*x16, x8*x9, x18*x29, x28*x19, 1, x0, x0*x12, x0*x10, x20, x1*x11, x21, x2, x12*x22, x3, x13*x23, x4, x14*x24, x5, x15*x25, x6, x16*x26, x7, x17*x27, x8, x18*x28, x9, x19*x29 >,\n",
       " ('blu',\n",
       "  'gre'): Finitely presented group < x0, x1, x2, x3, x4, x5, x6, x7, x8, x9, x10, x11, x12, x13, x14, x15, x16, x17, x18, x19, x20, x21, x22, x23, x24, x25, x26, x27, x28, x29 | x0*x11, x10*x1, x20*x21, x2*x3, x12*x23, x22*x13, x4*x7, x14*x27, x24*x17, x5*x6, x15*x26, x25*x16, x8*x9, x18*x29, x28*x19, 1, x0, x0*x12, x0*x10, x20, x1*x11, x21, x2, x12*x22, x3, x13*x23, x4, x14*x24, x5, x15*x25, x6, x16*x26, x7, x17*x27, x8, x18*x28, x9, x19*x29, x0*x11, x10*x1, x20*x21, x2*x5, x12*x25, x22*x15, x3*x4, x13*x24, x23*x14, x6*x7, x16*x27, x26*x17, x8*x9, x18*x29, x28*x19, 1, x0, x0*x12, x0*x10, x20, x1*x11, x21, x2, x12*x22, x3, x13*x23, x4, x14*x24, x5, x15*x25, x6, x16*x26, x7, x17*x27, x8, x18*x28, x9, x19*x29 >}"
      ]
     },
     "execution_count": 62,
     "metadata": {},
     "output_type": "execute_result"
    }
   ],
   "source": [
    "stevedore_colored_tri_plane.pi_1_branched_cover_3_manifolds()"
   ]
  },
  {
   "cell_type": "code",
   "execution_count": null,
   "id": "cbdb1cd2",
   "metadata": {},
   "outputs": [],
   "source": []
  },
  {
   "cell_type": "code",
   "execution_count": null,
   "id": "37be59f9",
   "metadata": {},
   "outputs": [],
   "source": [
    "    \n",
    "    "
   ]
  },
  {
   "cell_type": "code",
   "execution_count": 83,
   "id": "a3ec8137",
   "metadata": {},
   "outputs": [
    {
     "data": {
      "text/plain": [
       "{'red': Finitely presented group < x0, x1, x2, x3, x4, x5, x6, x7, x8, x9, x10, x11, x12, x13, x14, x15, x16, x17, x18, x19, x20, x21, x22, x23, x24, x25, x26, x27, x28, x29 | x0*x11*x2*x3*x11^-1*x16*x21*x13^-1*x22^-1*x23*x12*x23*x1^-1*x6^-1*x1*x23^-1*x12^-1*x1^-1, x10*x1*x12*x23*x1^-1*x6*x1*x23^-1*x12^-1*x13*x22*x13*x21^-1*x16^-1*x11*x3^-1*x2^-1*x11^-1, x20*x21*x22*x13*x21^-1*x26*x11*x3^-1*x2^-1*x3*x2*x3*x11^-1*x26^-1*x21*x13^-1*x22^-1*x21^-1, x1*x12*x23*x16*x21*x13^-1*x12*x23*x1^-1*x6^-1*x1*x23^-1*x12^-1*x1^-1, x11*x2*x3*x6*x1*x23^-1*x22*x13*x21^-1*x16^-1*x11*x3^-1*x2^-1*x11^-1, x21*x22*x13*x26*x11*x3^-1*x2*x3*x11^-1*x26^-1*x21*x13^-1*x22^-1*x21^-1, x4*x5, x14*x25, x24*x15, x1*x12*x23*x1^-1*x6*x1*x23^-1*x12^-1*x1^-1*x9, x11*x2*x3*x11^-1*x16*x21*x13^-1*x22^-1*x21^-1*x29, x21*x22*x13*x21^-1*x26*x11*x3^-1*x2^-1*x11^-1*x19, x7*x8, x17*x28, x27*x18, 1, x0, x0*x12, x0*x10, x20, x1*x11, x21, x2, x12*x22, x3, x13*x23, x4, x14*x24, x5, x15*x25, x6, x16*x26, x7, x17*x27, x8, x18*x28, x9, x19*x29 >,\n",
       " 'blu': Finitely presented group < x0, x1, x2, x3, x4, x5, x6, x7, x8, x9, x10, x11, x12, x13, x14, x15, x16, x17, x18, x19, x20, x21, x22, x23, x24, x25, x26, x27, x28, x29 | x0*x11, x10*x1, x20*x21, x2*x3, x12*x23, x22*x13, x4*x7, x14*x27, x24*x17, x5*x6, x15*x26, x25*x16, x8*x9, x18*x29, x28*x19, 1, x0, x0*x12, x0*x10, x20, x1*x11, x21, x2, x12*x22, x3, x13*x23, x4, x14*x24, x5, x15*x25, x6, x16*x26, x7, x17*x27, x8, x18*x28, x9, x19*x29 >,\n",
       " 'gre': Finitely presented group < x0, x1, x2, x3, x4, x5, x6, x7, x8, x9, x10, x11, x12, x13, x14, x15, x16, x17, x18, x19, x20, x21, x22, x23, x24, x25, x26, x27, x28, x29 | x0*x11, x10*x1, x20*x21, x2*x5, x12*x25, x22*x15, x3*x4, x13*x24, x23*x14, x6*x7, x16*x27, x26*x17, x8*x9, x18*x29, x28*x19, 1, x0, x0*x12, x0*x10, x20, x1*x11, x21, x2, x12*x22, x3, x13*x23, x4, x14*x24, x5, x15*x25, x6, x16*x26, x7, x17*x27, x8, x18*x28, x9, x19*x29 >}"
      ]
     },
     "execution_count": 83,
     "metadata": {},
     "output_type": "execute_result"
    }
   ],
   "source": [
    "stevedore_colored_tri_plane.pi_1_branched_cover_handlebodies()"
   ]
  },
  {
   "cell_type": "code",
   "execution_count": 94,
   "id": "ee548f54",
   "metadata": {},
   "outputs": [
    {
     "data": {
      "text/plain": [
       "(Free module of degree 30 and rank 30 over Integer Ring\n",
       " Echelon basis matrix:\n",
       " [1 0 0 0 0 0 0 0 0 0 0 0 0 0 0 0 0 0 0 0 0 0 0 0 0 0 0 0 0 0]\n",
       " [0 1 0 0 0 0 0 0 0 0 0 0 0 0 0 0 0 0 0 0 0 0 0 0 0 0 0 0 0 0]\n",
       " [0 0 1 0 0 0 0 0 0 0 0 0 0 0 0 0 0 0 0 0 0 0 0 0 0 0 0 0 0 0]\n",
       " [0 0 0 1 0 0 0 0 0 0 0 0 0 0 0 0 0 0 0 0 0 0 0 0 0 0 0 0 0 0]\n",
       " [0 0 0 0 1 0 0 0 0 0 0 0 0 0 0 0 0 0 0 0 0 0 0 0 0 0 0 0 0 0]\n",
       " [0 0 0 0 0 1 0 0 0 0 0 0 0 0 0 0 0 0 0 0 0 0 0 0 0 0 0 0 0 0]\n",
       " [0 0 0 0 0 0 1 0 0 0 0 0 0 0 0 0 0 0 0 0 0 0 0 0 0 0 0 0 0 0]\n",
       " [0 0 0 0 0 0 0 1 0 0 0 0 0 0 0 0 0 0 0 0 0 0 0 0 0 0 0 0 0 0]\n",
       " [0 0 0 0 0 0 0 0 1 0 0 0 0 0 0 0 0 0 0 0 0 0 0 0 0 0 0 0 0 0]\n",
       " [0 0 0 0 0 0 0 0 0 1 0 0 0 0 0 0 0 0 0 0 0 0 0 0 0 0 0 0 0 0]\n",
       " [0 0 0 0 0 0 0 0 0 0 1 0 0 0 0 0 0 0 0 0 0 0 0 0 0 0 0 0 0 0]\n",
       " [0 0 0 0 0 0 0 0 0 0 0 1 0 0 0 0 0 0 0 0 0 0 0 0 0 0 0 0 0 0]\n",
       " [0 0 0 0 0 0 0 0 0 0 0 0 1 0 0 0 0 0 0 0 0 0 0 0 0 0 0 0 0 0]\n",
       " [0 0 0 0 0 0 0 0 0 0 0 0 0 1 0 0 0 0 0 0 0 0 0 0 0 0 0 0 0 0]\n",
       " [0 0 0 0 0 0 0 0 0 0 0 0 0 0 1 0 0 0 0 0 0 0 0 0 0 0 0 0 0 0]\n",
       " [0 0 0 0 0 0 0 0 0 0 0 0 0 0 0 1 0 0 0 0 0 0 0 0 0 0 0 0 0 0]\n",
       " [0 0 0 0 0 0 0 0 0 0 0 0 0 0 0 0 1 0 0 0 0 0 0 0 0 0 0 0 0 0]\n",
       " [0 0 0 0 0 0 0 0 0 0 0 0 0 0 0 0 0 1 0 0 0 0 0 0 0 0 0 0 0 0]\n",
       " [0 0 0 0 0 0 0 0 0 0 0 0 0 0 0 0 0 0 1 0 0 0 0 0 0 0 0 0 0 0]\n",
       " [0 0 0 0 0 0 0 0 0 0 0 0 0 0 0 0 0 0 0 1 0 0 0 0 0 0 0 0 0 0]\n",
       " [0 0 0 0 0 0 0 0 0 0 0 0 0 0 0 0 0 0 0 0 1 0 0 0 0 0 0 0 0 0]\n",
       " [0 0 0 0 0 0 0 0 0 0 0 0 0 0 0 0 0 0 0 0 0 1 0 0 0 0 0 0 0 0]\n",
       " [0 0 0 0 0 0 0 0 0 0 0 0 0 0 0 0 0 0 0 0 0 0 1 0 0 0 0 0 0 0]\n",
       " [0 0 0 0 0 0 0 0 0 0 0 0 0 0 0 0 0 0 0 0 0 0 0 1 0 0 0 0 0 0]\n",
       " [0 0 0 0 0 0 0 0 0 0 0 0 0 0 0 0 0 0 0 0 0 0 0 0 1 0 0 0 0 0]\n",
       " [0 0 0 0 0 0 0 0 0 0 0 0 0 0 0 0 0 0 0 0 0 0 0 0 0 1 0 0 0 0]\n",
       " [0 0 0 0 0 0 0 0 0 0 0 0 0 0 0 0 0 0 0 0 0 0 0 0 0 0 1 0 0 0]\n",
       " [0 0 0 0 0 0 0 0 0 0 0 0 0 0 0 0 0 0 0 0 0 0 0 0 0 0 0 1 0 0]\n",
       " [0 0 0 0 0 0 0 0 0 0 0 0 0 0 0 0 0 0 0 0 0 0 0 0 0 0 0 0 1 0]\n",
       " [0 0 0 0 0 0 0 0 0 0 0 0 0 0 0 0 0 0 0 0 0 0 0 0 0 0 0 0 0 1],\n",
       " {'red': Finitely generated module V/W over Integer Ring with invariants (0, 0, 0),\n",
       "  'blu': Finitely generated module V/W over Integer Ring with invariants (0, 0, 0),\n",
       "  'gre': Finitely generated module V/W over Integer Ring with invariants (0, 0, 0)})"
      ]
     },
     "execution_count": 94,
     "metadata": {},
     "output_type": "execute_result"
    }
   ],
   "source": [
    "stevedore_colored_tri_plane.H_1_handlebodies()"
   ]
  },
  {
   "cell_type": "code",
   "execution_count": 136,
   "id": "87bc635a",
   "metadata": {},
   "outputs": [
    {
     "data": {
      "text/plain": [
       "{'red': Finitely generated module V/W over Integer Ring with invariants (0, 0, 0),\n",
       " 'blu': Finitely generated module V/W over Integer Ring with invariants (0, 0, 0),\n",
       " 'gre': Finitely generated module V/W over Integer Ring with invariants (0, 0, 0)}"
      ]
     },
     "execution_count": 136,
     "metadata": {},
     "output_type": "execute_result"
    }
   ],
   "source": [
    "stevedore_colored_tri_plane.lagrangians()"
   ]
  },
  {
   "cell_type": "code",
   "execution_count": 141,
   "id": "080cd24b",
   "metadata": {},
   "outputs": [
    {
     "data": {
      "text/plain": [
       "{'red': Morphism from module over Integer Ring with invariants (0, 0, 0, 0, 0, 0) to module with invariants (0, 0, 0) that sends the generators to [(1, 0, 0), (0, 1, 0), (0, 1, 0), (2, 0, 0), (0, 0, 1), (0, 0, 1)],\n",
       " 'blu': Morphism from module over Integer Ring with invariants (0, 0, 0, 0, 0, 0) to module with invariants (0, 0, 0) that sends the generators to [(0, 0, 0), (1, 0, 0), (0, 1, 0), (0, 1, 0), (1, 0, 0), (0, 0, 1)],\n",
       " 'gre': Morphism from module over Integer Ring with invariants (0, 0, 0, 0, 0, 0) to module with invariants (0, 0, 0) that sends the generators to [(1, 0, 0), (1, 0, 0), (0, 0, 0), (0, 1, 0), (0, 1, 0), (0, 0, 1)]}"
      ]
     },
     "execution_count": 141,
     "metadata": {},
     "output_type": "execute_result"
    }
   ],
   "source": [
    "stevedore_colored_tri_plane.inclusion_maps_tripod()"
   ]
  },
  {
   "cell_type": "code",
   "execution_count": 144,
   "id": "c23c939f",
   "metadata": {},
   "outputs": [
    {
     "data": {
      "text/plain": [
       "Finitely generated module V/W over Integer Ring with invariants (0, 0)"
      ]
     },
     "execution_count": 144,
     "metadata": {},
     "output_type": "execute_result"
    }
   ],
   "source": [
    "stevedore_colored_tri_plane.H_2_branched_cover()"
   ]
  },
  {
   "cell_type": "code",
   "execution_count": null,
   "id": "2bbdd9ab",
   "metadata": {},
   "outputs": [],
   "source": []
  }
 ],
 "metadata": {
  "kernelspec": {
   "display_name": "SageMath 9.4",
   "language": "sage",
   "name": "sagemath-9.4"
  },
  "language_info": {
   "codemirror_mode": {
    "name": "ipython",
    "version": 3
   },
   "file_extension": ".py",
   "mimetype": "text/x-python",
   "name": "python",
   "nbconvert_exporter": "python",
   "pygments_lexer": "ipython3",
   "version": "3.9.5"
  }
 },
 "nbformat": 4,
 "nbformat_minor": 5
}
