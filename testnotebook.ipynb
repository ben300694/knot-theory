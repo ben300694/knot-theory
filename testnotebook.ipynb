{
 "cells": [
  {
   "cell_type": "code",
   "execution_count": 1,
   "id": "e4504dc4",
   "metadata": {},
   "outputs": [],
   "source": [
    "load(\"src/bridge_trisections.sage\")"
   ]
  },
  {
   "cell_type": "code",
   "execution_count": 5,
   "id": "b96f7cf6",
   "metadata": {},
   "outputs": [],
   "source": [
    "trefoil_F = FreeGroup(8)\n",
    "trefoil_S = SymmetricGroup(3)\n",
    "# in our coloring of the spun trefoil,\n",
    "# first two points map to (1, 2), all of the others to (1, 3)\n",
    "trefoil_images_of_generators = ['(1, 2)', '(1, 2)', '(1, 3)', '(1, 3)', '(1, 3)', '(1, 3)', '(1, 3)', '(1, 3)']\n",
    "\n",
    "trefoil_relation = trefoil_F([1, 6, 1, -6, -1, 3])\n",
    "trefoil_coloring = Colored_trivial_tangle(trefoil_F, trefoil_S, spun_trefoil.red_tangle.relations(), trefoil_images_of_generators)"
   ]
  },
  {
   "cell_type": "code",
   "execution_count": 7,
   "id": "8a4a0d94",
   "metadata": {},
   "outputs": [
    {
     "name": "stdout",
     "output_type": "stream",
     "text": [
      "current_letter = 1\n",
      "permutation of current letter = (1,2)\n",
      "current list_of_sheets = [1, 2]\n",
      "current_letter = 2\n",
      "permutation of current letter = (1,2)\n",
      "current list_of_sheets = [1, 2, 1]\n",
      "current_letter = 3\n",
      "permutation of current letter = (1,3)\n",
      "current list_of_sheets = [1, 2, 1, 3]\n",
      "current_letter = 2\n",
      "permutation of current letter = (1,2)\n",
      "current list_of_sheets = [1, 2, 1, 3, 3]\n",
      "current_letter = 3\n",
      "permutation of current letter = (1,3)\n",
      "current list_of_sheets = [1, 2, 1, 3, 3, 1]\n",
      "current_letter = -2\n",
      "permutation of current letter = (1,2)\n",
      "current list_of_sheets = [1, 2, 1, 3, 3, 1, 2]\n",
      "current_letter = -3\n",
      "permutation of current letter = (1,3)\n",
      "current list_of_sheets = [1, 2, 1, 3, 3, 1, 2, 2]\n",
      "current_letter = -2\n",
      "permutation of current letter = (1,2)\n",
      "current list_of_sheets = [1, 2, 1, 3, 3, 1, 2, 2, 1]\n",
      "current_letter = 1\n",
      "permutation of current letter = (1,2)\n",
      "current list_of_sheets = [2, 1]\n",
      "current_letter = 2\n",
      "permutation of current letter = (1,2)\n",
      "current list_of_sheets = [2, 1, 2]\n",
      "current_letter = 3\n",
      "permutation of current letter = (1,3)\n",
      "current list_of_sheets = [2, 1, 2, 2]\n",
      "current_letter = 2\n",
      "permutation of current letter = (1,2)\n",
      "current list_of_sheets = [2, 1, 2, 2, 1]\n",
      "current_letter = 3\n",
      "permutation of current letter = (1,3)\n",
      "current list_of_sheets = [2, 1, 2, 2, 1, 3]\n",
      "current_letter = -2\n",
      "permutation of current letter = (1,2)\n",
      "current list_of_sheets = [2, 1, 2, 2, 1, 3, 3]\n",
      "current_letter = -3\n",
      "permutation of current letter = (1,3)\n",
      "current list_of_sheets = [2, 1, 2, 2, 1, 3, 3, 1]\n",
      "current_letter = -2\n",
      "permutation of current letter = (1,2)\n",
      "current list_of_sheets = [2, 1, 2, 2, 1, 3, 3, 1, 2]\n",
      "current_letter = 1\n",
      "permutation of current letter = (1,2)\n",
      "current list_of_sheets = [3, 3]\n",
      "current_letter = 2\n",
      "permutation of current letter = (1,2)\n",
      "current list_of_sheets = [3, 3, 3]\n",
      "current_letter = 3\n",
      "permutation of current letter = (1,3)\n",
      "current list_of_sheets = [3, 3, 3, 1]\n",
      "current_letter = 2\n",
      "permutation of current letter = (1,2)\n",
      "current list_of_sheets = [3, 3, 3, 1, 2]\n",
      "current_letter = 3\n",
      "permutation of current letter = (1,3)\n",
      "current list_of_sheets = [3, 3, 3, 1, 2, 2]\n",
      "current_letter = -2\n",
      "permutation of current letter = (1,2)\n",
      "current list_of_sheets = [3, 3, 3, 1, 2, 2, 1]\n",
      "current_letter = -3\n",
      "permutation of current letter = (1,3)\n",
      "current list_of_sheets = [3, 3, 3, 1, 2, 2, 1, 3]\n",
      "current_letter = -2\n",
      "permutation of current letter = (1,2)\n",
      "current list_of_sheets = [3, 3, 3, 1, 2, 2, 1, 3, 3]\n",
      "current_letter = 2\n",
      "permutation of current letter = (1,2)\n",
      "current list_of_sheets = [1, 2]\n",
      "current_letter = 3\n",
      "permutation of current letter = (1,3)\n",
      "current list_of_sheets = [1, 2, 2]\n",
      "current_letter = 2\n",
      "permutation of current letter = (1,2)\n",
      "current list_of_sheets = [1, 2, 2, 1]\n",
      "current_letter = -3\n",
      "permutation of current letter = (1,3)\n",
      "current list_of_sheets = [1, 2, 2, 1, 3]\n",
      "current_letter = -2\n",
      "permutation of current letter = (1,2)\n",
      "current list_of_sheets = [1, 2, 2, 1, 3, 3]\n",
      "current_letter = 8\n",
      "permutation of current letter = (1,3)\n",
      "current list_of_sheets = [1, 2, 2, 1, 3, 3, 1]\n",
      "current_letter = 2\n",
      "permutation of current letter = (1,2)\n",
      "current list_of_sheets = [2, 1]\n",
      "current_letter = 3\n",
      "permutation of current letter = (1,3)\n",
      "current list_of_sheets = [2, 1, 3]\n",
      "current_letter = 2\n",
      "permutation of current letter = (1,2)\n",
      "current list_of_sheets = [2, 1, 3, 3]\n",
      "current_letter = -3\n",
      "permutation of current letter = (1,3)\n",
      "current list_of_sheets = [2, 1, 3, 3, 1]\n",
      "current_letter = -2\n",
      "permutation of current letter = (1,2)\n",
      "current list_of_sheets = [2, 1, 3, 3, 1, 2]\n",
      "current_letter = 8\n",
      "permutation of current letter = (1,3)\n",
      "current list_of_sheets = [2, 1, 3, 3, 1, 2, 2]\n",
      "current_letter = 2\n",
      "permutation of current letter = (1,2)\n",
      "current list_of_sheets = [3, 3]\n",
      "current_letter = 3\n",
      "permutation of current letter = (1,3)\n",
      "current list_of_sheets = [3, 3, 1]\n",
      "current_letter = 2\n",
      "permutation of current letter = (1,2)\n",
      "current list_of_sheets = [3, 3, 1, 2]\n",
      "current_letter = -3\n",
      "permutation of current letter = (1,3)\n",
      "current list_of_sheets = [3, 3, 1, 2, 2]\n",
      "current_letter = -2\n",
      "permutation of current letter = (1,2)\n",
      "current list_of_sheets = [3, 3, 1, 2, 2, 1]\n",
      "current_letter = 8\n",
      "permutation of current letter = (1,3)\n",
      "current list_of_sheets = [3, 3, 1, 2, 2, 1, 3]\n",
      "current_letter = 4\n",
      "permutation of current letter = (1,3)\n",
      "current list_of_sheets = [1, 3]\n",
      "current_letter = 7\n",
      "permutation of current letter = (1,3)\n",
      "current list_of_sheets = [1, 3, 1]\n",
      "current_letter = 4\n",
      "permutation of current letter = (1,3)\n",
      "current list_of_sheets = [2, 2]\n",
      "current_letter = 7\n",
      "permutation of current letter = (1,3)\n",
      "current list_of_sheets = [2, 2, 2]\n",
      "current_letter = 4\n",
      "permutation of current letter = (1,3)\n",
      "current list_of_sheets = [3, 1]\n",
      "current_letter = 7\n",
      "permutation of current letter = (1,3)\n",
      "current list_of_sheets = [3, 1, 3]\n",
      "current_letter = 5\n",
      "permutation of current letter = (1,3)\n",
      "current list_of_sheets = [1, 3]\n",
      "current_letter = 6\n",
      "permutation of current letter = (1,3)\n",
      "current list_of_sheets = [1, 3, 1]\n",
      "current_letter = 5\n",
      "permutation of current letter = (1,3)\n",
      "current list_of_sheets = [2, 2]\n",
      "current_letter = 6\n",
      "permutation of current letter = (1,3)\n",
      "current list_of_sheets = [2, 2, 2]\n",
      "current_letter = 5\n",
      "permutation of current letter = (1,3)\n",
      "current list_of_sheets = [3, 1]\n",
      "current_letter = 6\n",
      "permutation of current letter = (1,3)\n",
      "current list_of_sheets = [3, 1, 3]\n"
     ]
    },
    {
     "data": {
      "text/plain": [
       "[[(1, 1), (2, 2), (3, 1), (2, 3), (3, 3), (-2, 2), (-3, 2), (-2, 1)],\n",
       " [(1, 2), (2, 1), (3, 2), (2, 2), (3, 1), (-2, 3), (-3, 1), (-2, 2)],\n",
       " [(1, 3), (2, 3), (3, 3), (2, 1), (3, 2), (-2, 1), (-3, 3), (-2, 3)],\n",
       " [(2, 1), (3, 2), (2, 2), (-3, 3), (-2, 3), (8, 3)],\n",
       " [(2, 2), (3, 1), (2, 3), (-3, 1), (-2, 2), (8, 2)],\n",
       " [(2, 3), (3, 3), (2, 1), (-3, 2), (-2, 1), (8, 1)],\n",
       " [(4, 1), (7, 3)],\n",
       " [(4, 2), (7, 2)],\n",
       " [(4, 3), (7, 1)],\n",
       " [(5, 1), (6, 3)],\n",
       " [(5, 2), (6, 2)],\n",
       " [(5, 3), (6, 1)]]"
      ]
     },
     "execution_count": 7,
     "metadata": {},
     "output_type": "execute_result"
    }
   ],
   "source": [
    "trefoil_coloring.lift_relations()"
   ]
  },
  {
   "cell_type": "code",
   "execution_count": 11,
   "id": "b9137f70",
   "metadata": {},
   "outputs": [
    {
     "name": "stdout",
     "output_type": "stream",
     "text": [
      "remaining [2, 3]\n",
      "current 1\n",
      "endpoint 2\n",
      "previous_subword []\n",
      "new generator to add to subword [0, 1]\n",
      "remaining [3]\n",
      "reachable [2]\n",
      "claw_relations {1: [], 2: [[0, 1]]}\n",
      "endpoint 3\n",
      "previous_subword []\n",
      "new generator to add to subword [2, 1]\n",
      "remaining []\n",
      "reachable [2, 3]\n",
      "claw_relations {1: [], 2: [[0, 1]], 3: [[2, 1]]}\n",
      "current 3\n"
     ]
    },
    {
     "data": {
      "text/plain": [
       "[[], [[0, 1]], [[2, 1]]]"
      ]
     },
     "execution_count": 11,
     "metadata": {},
     "output_type": "execute_result"
    }
   ],
   "source": [
    "trefoil_coloring.claw_relations()"
   ]
  },
  {
   "cell_type": "code",
   "execution_count": 18,
   "id": "f38d9d11",
   "metadata": {},
   "outputs": [
    {
     "data": {
      "text/plain": [
       "[[[0, 1], [0, 2]],\n",
       " [[0, 3]],\n",
       " [[1, 1], [1, 2]],\n",
       " [[1, 3]],\n",
       " [[2, 1], [2, 3]],\n",
       " [[2, 2]],\n",
       " [[3, 1], [3, 3]],\n",
       " [[3, 2]],\n",
       " [[4, 1], [4, 3]],\n",
       " [[4, 2]],\n",
       " [[5, 1], [5, 3]],\n",
       " [[5, 2]],\n",
       " [[6, 1], [6, 3]],\n",
       " [[6, 2]],\n",
       " [[7, 1], [7, 3]],\n",
       " [[7, 2]]]"
      ]
     },
     "execution_count": 18,
     "metadata": {},
     "output_type": "execute_result"
    }
   ],
   "source": [
    "trefoil_coloring.unbranchedtobranched_relations()"
   ]
  },
  {
   "cell_type": "code",
   "execution_count": null,
   "id": "b5ec3b52",
   "metadata": {},
   "outputs": [],
   "source": []
  }
 ],
 "metadata": {
  "kernelspec": {
   "display_name": "SageMath 9.4",
   "language": "sage",
   "name": "sagemath-9.4"
  },
  "language_info": {
   "codemirror_mode": {
    "name": "ipython",
    "version": 3
   },
   "file_extension": ".py",
   "mimetype": "text/x-python",
   "name": "python",
   "nbconvert_exporter": "python",
   "pygments_lexer": "ipython3",
   "version": "3.9.5"
  }
 },
 "nbformat": 4,
 "nbformat_minor": 5
}
