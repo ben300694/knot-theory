{
 "cells": [
  {
   "cell_type": "code",
   "execution_count": 1,
   "id": "5e2b28a7",
   "metadata": {},
   "outputs": [],
   "source": [
    "load('./src/bridge_trisections.sage')"
   ]
  },
  {
   "cell_type": "code",
   "execution_count": 2,
   "id": "45dac442",
   "metadata": {},
   "outputs": [],
   "source": [
    "def cyclic_coloring(S):\n",
    "    cycle_tuple=tuple([i+1 for i in range(S.degree())])\n",
    "    coloring=[S(cycle_tuple),S(cycle_tuple)^-1,S(cycle_tuple)^-1,S(cycle_tuple),S(cycle_tuple)^-1,S(cycle_tuple),S(cycle_tuple)^-1,S(cycle_tuple)]\n",
    "    return coloring"
   ]
  },
  {
   "cell_type": "code",
   "execution_count": 3,
   "id": "304dfd3c",
   "metadata": {},
   "outputs": [],
   "source": [
    "def l_twist_spun_2_p_torus_cyclic(l,p,k):\n",
    "    bridge_number = 4\n",
    "    symmetric_group_rank = k\n",
    "    spun_torus_F = FreeGroup(2*bridge_number)\n",
    "    spun_torus_S = SymmetricGroup(symmetric_group_rank)\n",
    "    spun_torus = tau_l_T_2_b(l, p)\n",
    "    spun_torus_tangles_dict = {\n",
    "        'red': spun_torus.red_tangle,\n",
    "        'blu': spun_torus.blu_tangle,\n",
    "        'gre': spun_torus.gre_tangle,\n",
    "    }\n",
    "    \n",
    "    spun_torus_images_of_generators=cyclic_coloring(spun_torus_S)\n",
    "    colored_spun_torus = Colored_bridge_trisection(spun_torus_F,\n",
    "                                            spun_torus_S,\n",
    "                                            spun_torus_tangles_dict,\n",
    "                                            spun_torus_images_of_generators)\n",
    "    return colored_spun_torus"
   ]
  },
  {
   "cell_type": "code",
   "execution_count": 4,
   "id": "4298c270",
   "metadata": {},
   "outputs": [],
   "source": [
    "def display_invariants(colored_spun_torus,coloring): \n",
    "        print('coloring')\n",
    "        print(coloring)\n",
    "        print('Valid coloring?')\n",
    "\n",
    "        print(colored_spun_torus.colored_tangles['red'].is_representation())\n",
    "        print(colored_spun_torus.colored_tangles['blu'].is_representation())\n",
    "        print(colored_spun_torus.colored_tangles['gre'].is_representation())\n",
    "\n",
    "        print('Trisection parameters',colored_spun_torus.trisection_parameters_branched_cover())\n",
    "        print('Euler characteristic',colored_spun_torus.euler_characteristic())\n",
    "\n",
    "        print('pi_1(branched cover)',colored_spun_torus.pi_1_branched_cover().simplified())\n",
    "\n",
    "        print('H_1',colored_spun_torus.homology_branched_cover()[0])\n",
    "        print('H_2',colored_spun_torus.homology_branched_cover()[1])\n",
    "        print('H_3',colored_spun_torus.homology_branched_cover()[2])\n",
    "\n",
    "        print('Intersection form, signature, parity')\n",
    "        print(colored_spun_torus.intersection_form())"
   ]
  },
  {
   "cell_type": "code",
   "execution_count": 5,
   "id": "64c32cbb",
   "metadata": {},
   "outputs": [],
   "source": [
    "def display_pi_1(colored_spun_torus,coloring): \n",
    "        print('coloring')\n",
    "        print(coloring)\n",
    "        \n",
    "        pi_1= colored_spun_torus.pi_1_branched_cover()\n",
    "\n",
    "        print('pi_1(branched cover)',colored_spun_torus.pi_1_branched_cover().simplified())\n",
    "        print('pi_1 order', pi_1.order())\n",
    "        print('pi_1 ID', pi_1.gap().StructureDescription())\n",
    "\n",
    "       "
   ]
  },
  {
   "cell_type": "code",
   "execution_count": null,
   "id": "ef1eb4a2",
   "metadata": {},
   "outputs": [],
   "source": [
    "l=2\n",
    "p=5\n",
    "for k in range(2,8):\n",
    "    print(k,'-fold cover of ',l,'-twist spin of (2,',p,') torus knot')\n",
    "    colored_bridge_trisection=l_twist_spun_2_p_torus_cyclic(l,p,k)\n",
    "    display_invariants(colored_bridge_trisection,cyclic_coloring(SymmetricGroup(k)))"
   ]
  },
  {
   "cell_type": "code",
   "execution_count": null,
   "id": "8f02697d",
   "metadata": {},
   "outputs": [],
   "source": [
    "l=2\n",
    "p=3\n",
    "for k in range(2,10):\n",
    "    print(k,'-fold cover of ',l,'-twist spin of (2,',p,') torus knot')\n",
    "    colored_bridge_trisection=l_twist_spun_2_p_torus_cyclic(l,p,k)\n",
    "    display_invariants(colored_bridge_trisection,cyclic_coloring(SymmetricGroup(k)))"
   ]
  },
  {
   "cell_type": "code",
   "execution_count": 8,
   "id": "4dafc585",
   "metadata": {},
   "outputs": [
    {
     "name": "stdout",
     "output_type": "stream",
     "text": [
      "2 -fold cover of  2 -twist spin of (2, 7 ) torus knot\n",
      "coloring\n",
      "[(1,2), (1,2), (1,2), (1,2), (1,2), (1,2), (1,2), (1,2)]\n",
      "Valid coloring?\n",
      "True\n",
      "True\n",
      "True\n",
      "Trisection parameters [3, [1, 1, 1]]\n",
      "Euler characteristic 2\n",
      "pi_1(branched cover) Finitely presented group < x2 | x2^7 >\n",
      "H_1 Finitely generated module V/W over Integer Ring with invariants (7)\n",
      "H_2 Finitely generated module V/W over Integer Ring with invariants (7)\n",
      "H_3 Finitely generated module V/W over Integer Ring with invariants ()\n",
      "Intersection form, signature, parity\n",
      "([], 0, 'even')\n",
      "3 -fold cover of  2 -twist spin of (2, 7 ) torus knot\n",
      "coloring\n",
      "[(1,2,3), (1,3,2), (1,3,2), (1,2,3), (1,3,2), (1,2,3), (1,3,2), (1,2,3)]\n",
      "Valid coloring?\n",
      "True\n",
      "True\n",
      "True\n",
      "Trisection parameters [6, [2, 2, 2]]\n",
      "Euler characteristic 2\n",
      "pi_1(branched cover) Finitely presented group <  |  >\n",
      "H_1 Finitely generated module V/W over Integer Ring with invariants ()\n",
      "H_2 Finitely generated module V/W over Integer Ring with invariants ()\n",
      "H_3 Finitely generated module V/W over Integer Ring with invariants ()\n",
      "Intersection form, signature, parity\n",
      "([], 0, 'even')\n",
      "4 -fold cover of  2 -twist spin of (2, 7 ) torus knot\n",
      "coloring\n",
      "[(1,2,3,4), (1,4,3,2), (1,4,3,2), (1,2,3,4), (1,4,3,2), (1,2,3,4), (1,4,3,2), (1,2,3,4)]\n",
      "Valid coloring?\n",
      "True\n",
      "True\n",
      "True\n",
      "Trisection parameters [9, [3, 3, 3]]\n",
      "Euler characteristic 2\n",
      "pi_1(branched cover) Finitely presented group < x2 | x2^7 >\n",
      "H_1 Finitely generated module V/W over Integer Ring with invariants (7)\n",
      "H_2 Finitely generated module V/W over Integer Ring with invariants (7)\n",
      "H_3 Finitely generated module V/W over Integer Ring with invariants ()\n",
      "Intersection form, signature, parity\n",
      "([], 0, 'even')\n",
      "5 -fold cover of  2 -twist spin of (2, 7 ) torus knot\n",
      "coloring\n",
      "[(1,2,3,4,5), (1,5,4,3,2), (1,5,4,3,2), (1,2,3,4,5), (1,5,4,3,2), (1,2,3,4,5), (1,5,4,3,2), (1,2,3,4,5)]\n",
      "Valid coloring?\n",
      "True\n",
      "True\n",
      "True\n",
      "Trisection parameters [12, [4, 4, 4]]\n",
      "Euler characteristic 2\n",
      "pi_1(branched cover) Finitely presented group <  |  >\n",
      "H_1 Finitely generated module V/W over Integer Ring with invariants ()\n",
      "H_2 Finitely generated module V/W over Integer Ring with invariants ()\n",
      "H_3 Finitely generated module V/W over Integer Ring with invariants ()\n",
      "Intersection form, signature, parity\n",
      "([], 0, 'even')\n",
      "6 -fold cover of  2 -twist spin of (2, 7 ) torus knot\n",
      "coloring\n",
      "[(1,2,3,4,5,6), (1,6,5,4,3,2), (1,6,5,4,3,2), (1,2,3,4,5,6), (1,6,5,4,3,2), (1,2,3,4,5,6), (1,6,5,4,3,2), (1,2,3,4,5,6)]\n",
      "Valid coloring?\n",
      "True\n",
      "True\n",
      "True\n",
      "Trisection parameters [15, [5, 5, 5]]\n",
      "Euler characteristic 2\n",
      "pi_1(branched cover) Finitely presented group < x2 | x2^7 >\n",
      "H_1 Finitely generated module V/W over Integer Ring with invariants (7)\n",
      "H_2 Finitely generated module V/W over Integer Ring with invariants (7)\n",
      "H_3 Finitely generated module V/W over Integer Ring with invariants ()\n",
      "Intersection form, signature, parity\n",
      "([], 0, 'even')\n",
      "7 -fold cover of  2 -twist spin of (2, 7 ) torus knot\n",
      "coloring\n",
      "[(1,2,3,4,5,6,7), (1,7,6,5,4,3,2), (1,7,6,5,4,3,2), (1,2,3,4,5,6,7), (1,7,6,5,4,3,2), (1,2,3,4,5,6,7), (1,7,6,5,4,3,2), (1,2,3,4,5,6,7)]\n",
      "Valid coloring?\n",
      "True\n",
      "True\n",
      "True\n",
      "Trisection parameters [18, [6, 6, 6]]\n",
      "Euler characteristic 2\n",
      "pi_1(branched cover) Finitely presented group <  |  >\n",
      "H_1 Finitely generated module V/W over Integer Ring with invariants ()\n",
      "H_2 Finitely generated module V/W over Integer Ring with invariants ()\n",
      "H_3 Finitely generated module V/W over Integer Ring with invariants ()\n",
      "Intersection form, signature, parity\n",
      "([], 0, 'even')\n",
      "8 -fold cover of  2 -twist spin of (2, 7 ) torus knot\n",
      "coloring\n",
      "[(1,2,3,4,5,6,7,8), (1,8,7,6,5,4,3,2), (1,8,7,6,5,4,3,2), (1,2,3,4,5,6,7,8), (1,8,7,6,5,4,3,2), (1,2,3,4,5,6,7,8), (1,8,7,6,5,4,3,2), (1,2,3,4,5,6,7,8)]\n",
      "Valid coloring?\n",
      "True\n",
      "True\n",
      "True\n",
      "Trisection parameters [21, [7, 7, 7]]\n",
      "Euler characteristic 2\n",
      "pi_1(branched cover) Finitely presented group < x2 | x2^7 >\n",
      "H_1 Finitely generated module V/W over Integer Ring with invariants (7)\n",
      "H_2 Finitely generated module V/W over Integer Ring with invariants (7)\n",
      "H_3 Finitely generated module V/W over Integer Ring with invariants ()\n",
      "Intersection form, signature, parity\n",
      "([], 0, 'even')\n",
      "9 -fold cover of  2 -twist spin of (2, 7 ) torus knot\n",
      "coloring\n",
      "[(1,2,3,4,5,6,7,8,9), (1,9,8,7,6,5,4,3,2), (1,9,8,7,6,5,4,3,2), (1,2,3,4,5,6,7,8,9), (1,9,8,7,6,5,4,3,2), (1,2,3,4,5,6,7,8,9), (1,9,8,7,6,5,4,3,2), (1,2,3,4,5,6,7,8,9)]\n",
      "Valid coloring?\n",
      "True\n",
      "True\n",
      "True\n",
      "Trisection parameters [24, [8, 8, 8]]\n",
      "Euler characteristic 2\n",
      "pi_1(branched cover) Finitely presented group <  |  >\n",
      "H_1 Finitely generated module V/W over Integer Ring with invariants ()\n",
      "H_2 Finitely generated module V/W over Integer Ring with invariants ()\n",
      "H_3 Finitely generated module V/W over Integer Ring with invariants ()\n",
      "Intersection form, signature, parity\n",
      "([], 0, 'even')\n"
     ]
    }
   ],
   "source": [
    "l=2\n",
    "p=7\n",
    "for k in range(2,10):\n",
    "    print(k,'-fold cover of ',l,'-twist spin of (2,',p,') torus knot')\n",
    "    colored_bridge_trisection=l_twist_spun_2_p_torus_cyclic(l,p,k)\n",
    "    display_invariants(colored_bridge_trisection,cyclic_coloring(SymmetricGroup(k)))"
   ]
  },
  {
   "cell_type": "code",
   "execution_count": null,
   "id": "50e1ace0",
   "metadata": {},
   "outputs": [],
   "source": [
    "l=0\n",
    "p=3\n",
    "for k in range(2,15):\n",
    "    print(k,'-fold cover of ',l,'-twist spin of (2,',p,') torus knot')\n",
    "    colored_bridge_trisection=l_twist_spun_2_p_torus_cyclic(l,p,k)\n",
    "    display_invariants(colored_bridge_trisection,cyclic_coloring(SymmetricGroup(k)))"
   ]
  },
  {
   "cell_type": "code",
   "execution_count": null,
   "id": "fba87dc0",
   "metadata": {},
   "outputs": [],
   "source": [
    "l=0\n",
    "p=3\n",
    "for k in range(2,7):\n",
    "    print(k,'-fold cover of ',l,'-twist spin of (2,',p,') torus knot')\n",
    "    colored_bridge_trisection=l_twist_spun_2_p_torus_cyclic(l,p,k)\n",
    "    display_pi_1(colored_bridge_trisection,cyclic_coloring(SymmetricGroup(k)))"
   ]
  },
  {
   "cell_type": "code",
   "execution_count": null,
   "id": "b13e9073",
   "metadata": {},
   "outputs": [],
   "source": [
    "l=0\n",
    "p=3\n",
    "for k in range(2,7):\n",
    "    print(k,'-fold cover of ',l,'-twist spin of (2,',p,') torus knot')\n",
    "    colored_bridge_trisection=l_twist_spun_2_p_torus_cyclic(l,p,k)\n",
    "    display_pi_1(colored_bridge_trisection,cyclic_coloring(SymmetricGroup(k)))"
   ]
  },
  {
   "cell_type": "code",
   "execution_count": 6,
   "id": "4163e303",
   "metadata": {},
   "outputs": [
    {
     "name": "stdout",
     "output_type": "stream",
     "text": [
      "7 -fold cover of  0 -twist spin of (2, 3 ) torus knot\n",
      "coloring\n",
      "[(1,2,3,4,5,6,7), (1,7,6,5,4,3,2), (1,7,6,5,4,3,2), (1,2,3,4,5,6,7), (1,7,6,5,4,3,2), (1,2,3,4,5,6,7), (1,7,6,5,4,3,2), (1,2,3,4,5,6,7)]\n",
      "pi_1(branched cover) Finitely presented group < x3, x19 | x19^-1*x3*x19*x3^-1*x19*x3*x19^-1*x3^-2, x3*x19*x3^-1*x19^-2*x3^-1*x19*x3*x19^-1 >\n",
      "#I  Coset table calculation failed -- trying with bigger table limit\n",
      "#I  Coset table calculation failed -- trying with bigger table limit\n"
     ]
    },
    {
     "ename": "GAPError",
     "evalue": "Error, reached the pre-set memory limit\n(change it with the -o command line option)",
     "output_type": "error",
     "traceback": [
      "\u001b[0;31m---------------------------------------------------------------------------\u001b[0m",
      "\u001b[0;31mGAPError\u001b[0m                                  Traceback (most recent call last)",
      "\u001b[0;32m/var/folders/3l/914ktb1n5q78tlxjd8vtgp1rfd44kb/T/ipykernel_11199/1556061400.py\u001b[0m in \u001b[0;36m<module>\u001b[0;34m\u001b[0m\n\u001b[1;32m      1\u001b[0m \u001b[0mprint\u001b[0m\u001b[0;34m(\u001b[0m\u001b[0mInteger\u001b[0m\u001b[0;34m(\u001b[0m\u001b[0;36m7\u001b[0m\u001b[0;34m)\u001b[0m\u001b[0;34m,\u001b[0m\u001b[0;34m'-fold cover of '\u001b[0m\u001b[0;34m,\u001b[0m\u001b[0mInteger\u001b[0m\u001b[0;34m(\u001b[0m\u001b[0;36m0\u001b[0m\u001b[0;34m)\u001b[0m\u001b[0;34m,\u001b[0m\u001b[0;34m'-twist spin of (2,'\u001b[0m\u001b[0;34m,\u001b[0m\u001b[0mInteger\u001b[0m\u001b[0;34m(\u001b[0m\u001b[0;36m3\u001b[0m\u001b[0;34m)\u001b[0m\u001b[0;34m,\u001b[0m\u001b[0;34m') torus knot'\u001b[0m\u001b[0;34m)\u001b[0m\u001b[0;34m\u001b[0m\u001b[0;34m\u001b[0m\u001b[0m\n\u001b[1;32m      2\u001b[0m \u001b[0mcolored_bridge_trisection\u001b[0m\u001b[0;34m=\u001b[0m\u001b[0ml_twist_spun_2_p_torus_cyclic\u001b[0m\u001b[0;34m(\u001b[0m\u001b[0mInteger\u001b[0m\u001b[0;34m(\u001b[0m\u001b[0;36m0\u001b[0m\u001b[0;34m)\u001b[0m\u001b[0;34m,\u001b[0m\u001b[0mInteger\u001b[0m\u001b[0;34m(\u001b[0m\u001b[0;36m3\u001b[0m\u001b[0;34m)\u001b[0m\u001b[0;34m,\u001b[0m\u001b[0mInteger\u001b[0m\u001b[0;34m(\u001b[0m\u001b[0;36m7\u001b[0m\u001b[0;34m)\u001b[0m\u001b[0;34m)\u001b[0m\u001b[0;34m\u001b[0m\u001b[0;34m\u001b[0m\u001b[0m\n\u001b[0;32m----> 3\u001b[0;31m \u001b[0mdisplay_pi_1\u001b[0m\u001b[0;34m(\u001b[0m\u001b[0mcolored_bridge_trisection\u001b[0m\u001b[0;34m,\u001b[0m\u001b[0mcyclic_coloring\u001b[0m\u001b[0;34m(\u001b[0m\u001b[0mSymmetricGroup\u001b[0m\u001b[0;34m(\u001b[0m\u001b[0mInteger\u001b[0m\u001b[0;34m(\u001b[0m\u001b[0;36m7\u001b[0m\u001b[0;34m)\u001b[0m\u001b[0;34m)\u001b[0m\u001b[0;34m)\u001b[0m\u001b[0;34m)\u001b[0m\u001b[0;34m\u001b[0m\u001b[0;34m\u001b[0m\u001b[0m\n\u001b[0m",
      "\u001b[0;32m/var/folders/3l/914ktb1n5q78tlxjd8vtgp1rfd44kb/T/ipykernel_11199/292695238.py\u001b[0m in \u001b[0;36mdisplay_pi_1\u001b[0;34m(colored_spun_torus, coloring)\u001b[0m\n\u001b[1;32m      6\u001b[0m \u001b[0;34m\u001b[0m\u001b[0m\n\u001b[1;32m      7\u001b[0m         \u001b[0mprint\u001b[0m\u001b[0;34m(\u001b[0m\u001b[0;34m'pi_1(branched cover)'\u001b[0m\u001b[0;34m,\u001b[0m\u001b[0mcolored_spun_torus\u001b[0m\u001b[0;34m.\u001b[0m\u001b[0mpi_1_branched_cover\u001b[0m\u001b[0;34m(\u001b[0m\u001b[0;34m)\u001b[0m\u001b[0;34m.\u001b[0m\u001b[0msimplified\u001b[0m\u001b[0;34m(\u001b[0m\u001b[0;34m)\u001b[0m\u001b[0;34m)\u001b[0m\u001b[0;34m\u001b[0m\u001b[0;34m\u001b[0m\u001b[0m\n\u001b[0;32m----> 8\u001b[0;31m         \u001b[0mprint\u001b[0m\u001b[0;34m(\u001b[0m\u001b[0;34m'pi_1 order'\u001b[0m\u001b[0;34m,\u001b[0m \u001b[0mpi_1\u001b[0m\u001b[0;34m.\u001b[0m\u001b[0morder\u001b[0m\u001b[0;34m(\u001b[0m\u001b[0;34m)\u001b[0m\u001b[0;34m)\u001b[0m\u001b[0;34m\u001b[0m\u001b[0;34m\u001b[0m\u001b[0m\n\u001b[0m\u001b[1;32m      9\u001b[0m         \u001b[0mprint\u001b[0m\u001b[0;34m(\u001b[0m\u001b[0;34m'pi_1 ID'\u001b[0m\u001b[0;34m,\u001b[0m \u001b[0mpi_1\u001b[0m\u001b[0;34m.\u001b[0m\u001b[0mgap\u001b[0m\u001b[0;34m(\u001b[0m\u001b[0;34m)\u001b[0m\u001b[0;34m.\u001b[0m\u001b[0mStructureDescription\u001b[0m\u001b[0;34m(\u001b[0m\u001b[0;34m)\u001b[0m\u001b[0;34m)\u001b[0m\u001b[0;34m\u001b[0m\u001b[0;34m\u001b[0m\u001b[0m\n\u001b[1;32m     10\u001b[0m \u001b[0;34m\u001b[0m\u001b[0m\n",
      "\u001b[0;32m/private/var/tmp/sage-9.5-current/local/var/lib/sage/venv-python3.9.9/lib/python3.9/site-packages/sage/misc/cachefunc.pyx\u001b[0m in \u001b[0;36msage.misc.cachefunc.CachedMethodCaller.__call__ (build/cythonized/sage/misc/cachefunc.c:10483)\u001b[0;34m()\u001b[0m\n\u001b[1;32m   1946\u001b[0m                 \u001b[0;32mreturn\u001b[0m \u001b[0mcache\u001b[0m\u001b[0;34m[\u001b[0m\u001b[0mk\u001b[0m\u001b[0;34m]\u001b[0m\u001b[0;34m\u001b[0m\u001b[0;34m\u001b[0m\u001b[0m\n\u001b[1;32m   1947\u001b[0m         \u001b[0;32mexcept\u001b[0m \u001b[0mKeyError\u001b[0m\u001b[0;34m:\u001b[0m\u001b[0;34m\u001b[0m\u001b[0;34m\u001b[0m\u001b[0m\n\u001b[0;32m-> 1948\u001b[0;31m             \u001b[0mw\u001b[0m \u001b[0;34m=\u001b[0m \u001b[0mself\u001b[0m\u001b[0;34m.\u001b[0m\u001b[0m_instance_call\u001b[0m\u001b[0;34m(\u001b[0m\u001b[0;34m*\u001b[0m\u001b[0margs\u001b[0m\u001b[0;34m,\u001b[0m \u001b[0;34m**\u001b[0m\u001b[0mkwds\u001b[0m\u001b[0;34m)\u001b[0m\u001b[0;34m\u001b[0m\u001b[0;34m\u001b[0m\u001b[0m\n\u001b[0m\u001b[1;32m   1949\u001b[0m             \u001b[0mcache\u001b[0m\u001b[0;34m[\u001b[0m\u001b[0mk\u001b[0m\u001b[0;34m]\u001b[0m \u001b[0;34m=\u001b[0m \u001b[0mw\u001b[0m\u001b[0;34m\u001b[0m\u001b[0;34m\u001b[0m\u001b[0m\n\u001b[1;32m   1950\u001b[0m             \u001b[0;32mreturn\u001b[0m \u001b[0mw\u001b[0m\u001b[0;34m\u001b[0m\u001b[0;34m\u001b[0m\u001b[0m\n",
      "\u001b[0;32m/private/var/tmp/sage-9.5-current/local/var/lib/sage/venv-python3.9.9/lib/python3.9/site-packages/sage/misc/cachefunc.pyx\u001b[0m in \u001b[0;36msage.misc.cachefunc.CachedMethodCaller._instance_call (build/cythonized/sage/misc/cachefunc.c:9949)\u001b[0;34m()\u001b[0m\n\u001b[1;32m   1822\u001b[0m             \u001b[0;32mTrue\u001b[0m\u001b[0;34m\u001b[0m\u001b[0;34m\u001b[0m\u001b[0m\n\u001b[1;32m   1823\u001b[0m         \"\"\"\n\u001b[0;32m-> 1824\u001b[0;31m         \u001b[0;32mreturn\u001b[0m \u001b[0mself\u001b[0m\u001b[0;34m.\u001b[0m\u001b[0mf\u001b[0m\u001b[0;34m(\u001b[0m\u001b[0mself\u001b[0m\u001b[0;34m.\u001b[0m\u001b[0m_instance\u001b[0m\u001b[0;34m,\u001b[0m \u001b[0;34m*\u001b[0m\u001b[0margs\u001b[0m\u001b[0;34m,\u001b[0m \u001b[0;34m**\u001b[0m\u001b[0mkwds\u001b[0m\u001b[0;34m)\u001b[0m\u001b[0;34m\u001b[0m\u001b[0;34m\u001b[0m\u001b[0m\n\u001b[0m\u001b[1;32m   1825\u001b[0m \u001b[0;34m\u001b[0m\u001b[0m\n\u001b[1;32m   1826\u001b[0m     \u001b[0mcdef\u001b[0m \u001b[0mfix_args_kwds\u001b[0m\u001b[0;34m(\u001b[0m\u001b[0mself\u001b[0m\u001b[0;34m,\u001b[0m \u001b[0mtuple\u001b[0m \u001b[0margs\u001b[0m\u001b[0;34m,\u001b[0m \u001b[0mdict\u001b[0m \u001b[0mkwds\u001b[0m\u001b[0;34m)\u001b[0m\u001b[0;34m:\u001b[0m\u001b[0;34m\u001b[0m\u001b[0;34m\u001b[0m\u001b[0m\n",
      "\u001b[0;32m/private/var/tmp/sage-9.5-current/local/var/lib/sage/venv-python3.9.9/lib/python3.9/site-packages/sage/groups/finitely_presented.py\u001b[0m in \u001b[0;36mcardinality\u001b[0;34m(self, limit)\u001b[0m\n\u001b[1;32m    939\u001b[0m         \"\"\"\n\u001b[1;32m    940\u001b[0m         \u001b[0;32mwith\u001b[0m \u001b[0mlibgap\u001b[0m\u001b[0;34m.\u001b[0m\u001b[0mglobal_context\u001b[0m\u001b[0;34m(\u001b[0m\u001b[0;34m'CosetTableDefaultMaxLimit'\u001b[0m\u001b[0;34m,\u001b[0m \u001b[0mlimit\u001b[0m\u001b[0;34m)\u001b[0m\u001b[0;34m:\u001b[0m\u001b[0;34m\u001b[0m\u001b[0;34m\u001b[0m\u001b[0m\n\u001b[0;32m--> 941\u001b[0;31m             \u001b[0;32mif\u001b[0m \u001b[0;32mnot\u001b[0m \u001b[0mlibgap\u001b[0m\u001b[0;34m.\u001b[0m\u001b[0mIsFinite\u001b[0m\u001b[0;34m(\u001b[0m\u001b[0mself\u001b[0m\u001b[0;34m.\u001b[0m\u001b[0mgap\u001b[0m\u001b[0;34m(\u001b[0m\u001b[0;34m)\u001b[0m\u001b[0;34m)\u001b[0m\u001b[0;34m:\u001b[0m\u001b[0;34m\u001b[0m\u001b[0;34m\u001b[0m\u001b[0m\n\u001b[0m\u001b[1;32m    942\u001b[0m                 \u001b[0;32mfrom\u001b[0m \u001b[0msage\u001b[0m\u001b[0;34m.\u001b[0m\u001b[0mrings\u001b[0m\u001b[0;34m.\u001b[0m\u001b[0minfinity\u001b[0m \u001b[0;32mimport\u001b[0m \u001b[0mInfinity\u001b[0m\u001b[0;34m\u001b[0m\u001b[0;34m\u001b[0m\u001b[0m\n\u001b[1;32m    943\u001b[0m                 \u001b[0;32mreturn\u001b[0m \u001b[0mInfinity\u001b[0m\u001b[0;34m\u001b[0m\u001b[0;34m\u001b[0m\u001b[0m\n",
      "\u001b[0;32m/private/var/tmp/sage-9.5-current/local/var/lib/sage/venv-python3.9.9/lib/python3.9/site-packages/sage/libs/gap/element.pyx\u001b[0m in \u001b[0;36msage.libs.gap.element.GapElement_Function.__call__ (build/cythonized/sage/libs/gap/element.c:19837)\u001b[0;34m()\u001b[0m\n\u001b[1;32m   2521\u001b[0m         \u001b[0;32mtry\u001b[0m\u001b[0;34m:\u001b[0m\u001b[0;34m\u001b[0m\u001b[0;34m\u001b[0m\u001b[0m\n\u001b[1;32m   2522\u001b[0m             \u001b[0msig_GAP_Enter\u001b[0m\u001b[0;34m(\u001b[0m\u001b[0;34m)\u001b[0m\u001b[0;34m\u001b[0m\u001b[0;34m\u001b[0m\u001b[0m\n\u001b[0;32m-> 2523\u001b[0;31m             \u001b[0msig_on\u001b[0m\u001b[0;34m(\u001b[0m\u001b[0;34m)\u001b[0m\u001b[0;34m\u001b[0m\u001b[0;34m\u001b[0m\u001b[0m\n\u001b[0m\u001b[1;32m   2524\u001b[0m             \u001b[0;32mif\u001b[0m \u001b[0mn\u001b[0m \u001b[0;34m==\u001b[0m \u001b[0;36m0\u001b[0m\u001b[0;34m:\u001b[0m\u001b[0;34m\u001b[0m\u001b[0;34m\u001b[0m\u001b[0m\n\u001b[1;32m   2525\u001b[0m                 \u001b[0mresult\u001b[0m \u001b[0;34m=\u001b[0m \u001b[0mCALL_0ARGS\u001b[0m\u001b[0;34m(\u001b[0m\u001b[0mself\u001b[0m\u001b[0;34m.\u001b[0m\u001b[0mvalue\u001b[0m\u001b[0;34m)\u001b[0m\u001b[0;34m\u001b[0m\u001b[0;34m\u001b[0m\u001b[0m\n",
      "\u001b[0;31mGAPError\u001b[0m: Error, reached the pre-set memory limit\n(change it with the -o command line option)"
     ]
    }
   ],
   "source": [
    "#reaches memory limit when computing order of pi_1 for 7-fold cyclic cover of 0 spin of trefoil\n",
    "print(7,'-fold cover of ',0,'-twist spin of (2,',3,') torus knot')\n",
    "colored_bridge_trisection=l_twist_spun_2_p_torus_cyclic(0,3,7)\n",
    "display_pi_1(colored_bridge_trisection,cyclic_coloring(SymmetricGroup(7)))"
   ]
  },
  {
   "cell_type": "code",
   "execution_count": null,
   "id": "267fd5bf",
   "metadata": {},
   "outputs": [],
   "source": [
    " colored_bridge_trisection=l_twist_spun_2_p_torus_cyclic(0,3,3)"
   ]
  },
  {
   "cell_type": "code",
   "execution_count": null,
   "id": "f3f148cb",
   "metadata": {},
   "outputs": [],
   "source": [
    "pi_1=colored_bridge_trisection.pi_1_branched_cover().simplified()"
   ]
  },
  {
   "cell_type": "code",
   "execution_count": null,
   "id": "6f2f04db",
   "metadata": {},
   "outputs": [],
   "source": [
    "pi_1.gap().StructureDescription()"
   ]
  },
  {
   "cell_type": "code",
   "execution_count": null,
   "id": "084f416d",
   "metadata": {},
   "outputs": [],
   "source": [
    "print(18,'-fold cover of ',0,'-twist spin of (2,',3,') torus knot')\n",
    "colored_bridge_trisection=l_twist_spun_2_p_torus_cyclic(0,3,18)\n",
    "display_invariants(colored_bridge_trisection,cyclic_coloring(SymmetricGroup(18)))"
   ]
  },
  {
   "cell_type": "code",
   "execution_count": null,
   "id": "c8c93367",
   "metadata": {},
   "outputs": [],
   "source": [
    "\n",
    "spun_torus = tau_3_T_2_5\n",
    "\n",
    "\n",
    "\n",
    "spun_torus_tangles_dict = {\n",
    "        'red': spun_torus.red_tangle,\n",
    "        'blu': spun_torus.blu_tangle,\n",
    "        'gre': spun_torus.gre_tangle,\n",
    "    }\n",
    "\n",
    "k=3\n",
    "symmetric_group_rank = k\n",
    "bridge_number = 4\n",
    "spun_torus_F = FreeGroup(2*bridge_number)\n",
    "spun_torus_S = SymmetricGroup(symmetric_group_rank)\n",
    "#check coloring"
   ]
  },
  {
   "cell_type": "code",
   "execution_count": null,
   "id": "99487389",
   "metadata": {},
   "outputs": [],
   "source": [
    "spun_torus=tau_5_T_2_3\n",
    "\n",
    "\n",
    "\n",
    "spun_torus_tangles_dict = {\n",
    "        'red': spun_torus.red_tangle,\n",
    "        'blu': spun_torus.blu_tangle,\n",
    "        'gre': spun_torus.gre_tangle,\n",
    "    }\n",
    "\n",
    "\n",
    "k=5\n",
    "symmetric_group_rank = k\n",
    "bridge_number = 4\n",
    "spun_torus_F = FreeGroup(2*bridge_number)\n",
    "spun_torus_S = SymmetricGroup(symmetric_group_rank)\n",
    "\n",
    "#check coloring"
   ]
  },
  {
   "cell_type": "code",
   "execution_count": null,
   "id": "4619c3e1",
   "metadata": {},
   "outputs": [],
   "source": [
    "spun_torus=tau_2_T_3_5\n",
    "\n",
    "\n",
    "spun_torus_tangles_dict = {\n",
    "        'red': spun_torus.red_tangle,\n",
    "        'blu': spun_torus.blu_tangle,\n",
    "        'gre': spun_torus.gre_tangle,\n",
    "    }\n",
    "\n",
    "\n",
    "k=2\n",
    "symmetric_group_rank = k\n",
    "bridge_number = 7\n",
    "spun_torus_F = FreeGroup(2*bridge_number)\n",
    "spun_torus_S = SymmetricGroup(symmetric_group_rank)\n",
    "#check coloring"
   ]
  },
  {
   "cell_type": "code",
   "execution_count": null,
   "id": "56d61321",
   "metadata": {},
   "outputs": [],
   "source": []
  }
 ],
 "metadata": {
  "kernelspec": {
   "display_name": "SageMath 9.5",
   "language": "sage",
   "name": "sagemath-9.5"
  },
  "language_info": {
   "codemirror_mode": {
    "name": "ipython",
    "version": 3
   },
   "file_extension": ".py",
   "mimetype": "text/x-python",
   "name": "python",
   "nbconvert_exporter": "python",
   "pygments_lexer": "ipython3",
   "version": "3.9.9"
  }
 },
 "nbformat": 4,
 "nbformat_minor": 5
}
