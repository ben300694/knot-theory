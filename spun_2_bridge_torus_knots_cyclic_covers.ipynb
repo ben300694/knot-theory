{
 "cells": [
  {
   "cell_type": "code",
   "execution_count": 3,
   "id": "5e2b28a7",
   "metadata": {},
   "outputs": [],
   "source": [
    "load('./src/bridge_trisections.sage')"
   ]
  },
  {
   "cell_type": "code",
   "execution_count": 4,
   "id": "304dfd3c",
   "metadata": {},
   "outputs": [],
   "source": [
    "def l_twist_spun_2_p_torus_cyclic(l,p,k):\n",
    "    bridge_number = 4\n",
    "    symmetric_group_rank = k\n",
    "    spun_torus_F = FreeGroup(2*bridge_number)\n",
    "    spun_torus_S = SymmetricGroup(symmetric_group_rank)\n",
    "    spun_torus = tau_l_T_2_b(l, p)\n",
    "    spun_torus_tangles_dict = {\n",
    "        'red': spun_torus.red_tangle,\n",
    "        'blu': spun_torus.blu_tangle,\n",
    "        'gre': spun_torus.gre_tangle,\n",
    "    }\n",
    "    cycle_tuple=tuple([i+1 for i in range(k)])\n",
    "\n",
    "    cycle=spun_torus_S(cycle_tuple)\n",
    "    spun_torus_images_of_generators=8*[cycle]\n",
    "    colored_spun_torus = Colored_bridge_trisection(spun_torus_F,\n",
    "                                            spun_torus_S,\n",
    "                                            spun_torus_tangles_dict,\n",
    "                                            spun_torus_images_of_generators)\n",
    "    return colored_spun_torus"
   ]
  },
  {
   "cell_type": "code",
   "execution_count": 6,
   "id": "9f701961",
   "metadata": {},
   "outputs": [
    {
     "name": "stdout",
     "output_type": "stream",
     "text": [
      "2 -twist spun (2, 5) -torus knot.\n",
      "2 -fold cyclic cover\n",
      "Trisection parameters: [3, [1, 1, 1]]\n",
      "pi_1(Branched Cover): Finitely presented group < x2 | x2^5 >\n",
      "pi_1(Unbranched Cover): Finitely presented group < x1, x3 | x3^-1*x1^-1*x3*x1, x3*x1*x3^2*x1^-1*x3^2 >\n",
      "\n",
      "2 -twist spun (2, 5) -torus knot.\n",
      "3 -fold cyclic cover\n",
      "Trisection parameters: [6, [3, 4, 1]]\n",
      "pi_1(Branched Cover): Finitely presented group <  |  >\n",
      "pi_1(Unbranched Cover): Finitely presented group <  |  >\n",
      "\n",
      "2 -twist spun (2, 5) -torus knot.\n",
      "4 -fold cyclic cover\n",
      "Trisection parameters: [9, [3, 3, 2]]\n",
      "pi_1(Branched Cover): Finitely presented group < x3 | x3^5 >\n",
      "pi_1(Unbranched Cover): Finitely presented group < x3 | x3^5 >\n",
      "\n",
      "2 -twist spun (2, 5) -torus knot.\n",
      "5 -fold cyclic cover\n",
      "Trisection parameters: [12, [5, 2, 5]]\n",
      "pi_1(Branched Cover): Finitely presented group <  |  >\n",
      "pi_1(Unbranched Cover): Finitely presented group <  |  >\n",
      "\n",
      "2 -twist spun (2, 5) -torus knot.\n",
      "6 -fold cyclic cover\n",
      "Trisection parameters: [15, [4, 5, 2]]\n",
      "pi_1(Branched Cover): Finitely presented group < x4 | x4^5 >\n",
      "pi_1(Unbranched Cover): Finitely presented group < x4 | x4^5 >\n",
      "\n",
      "2 -twist spun (2, 5) -torus knot.\n",
      "7 -fold cyclic cover\n",
      "Trisection parameters: [18, [1, 2, 1]]\n",
      "pi_1(Branched Cover): Finitely presented group <  |  >\n",
      "pi_1(Unbranched Cover): Finitely presented group <  |  >\n",
      "\n",
      "2 -twist spun (2, 5) -torus knot.\n",
      "8 -fold cyclic cover\n",
      "Trisection parameters: [21, [3, 4, 2]]\n",
      "pi_1(Branched Cover): Finitely presented group < x4 | x4^5 >\n",
      "pi_1(Unbranched Cover): Finitely presented group < x2, x9 | x9^4, x2^-1*(x2^-1*x9^-1)^2*x2*x9^-1*x2^-1*x9^-2*x2^-1*x9*x2^-1*(x2^-1*x9^-1)^2*x2^2*x9^-2, x9*x2*x9^-2*x2*(x9*x2^-1)^2*x9^-1*x2^-2*x9^-2*x2^-2*(x9*x2)^2*x2*x9^-2*x2, x9^-1*x2*x9*x2^-1*x9^-1*x2^-1*x9*x2^-2*(x9*x2)^2*x9*x2^-1*x9^-1*x2^-2*(x9*x2)^2*x2*x9^-2*x2, (x9^-1*x2^-1)^2*x9^-1*x2^2*x9*(x2*x9^-1)^2*x2^-1*x9^-1*x2^-1*x9*x2^-1*x9^-1*x2^-2*(x9*x2)^2*x2*x9^-1, x2^-1*x9^-1*x2^-1*x9*x2^-2*(x9*x2)^2*x2^2*(x9*x2^-1)^2*x9^-1*x2^-2*(x9*x2)^2*x2^2*x9, x2^-2*(x9*x2)^2*x2*x9^-1*x2^-2*(x9*x2)^2*x9^-1*x2^-1*x9^-1*x2^2*x9*(x2*x9^-1)^2*x9^-1*x2*x9*x2*x9^-1*x2^-1, (x2^-1*x9^-1*x2^-2*(x9*x2)^2*x2*x9^-1)^4, x9*x2*(x9*x2^-1)^2*x9^-1*x2^-4*(x9^-1*x2^-1*x9^-1)^2*x2^2*x9*(x2*x9^-1)^2*(x2^-1*x9^-1)^3*x2^2*x9^-1*x2*x9*x2*(x9^-1*x2^-1)^2*x9*x2^-1, (x9^-1*x2^-1)^2*x2^-1*(x9*x2)^2*x2*x9^2*x2*x9^-2*x2^-1*x9*x2^-4*x9*x2^-1*x9^-1*x2^-2*x9*(x2*x9*x2)^2*x9*x2^-1*x9^-2*x2^-1*(x2^-1*x9^-1)^2*x2^2, x9*x2^-1*x9^-1*x2^-1*x9*x2^-2*(x9*x2)^2*x9^-1*x2^-1*x9*(x2^-1*x9^-1)^2*x9^-1*x2^-1*x9*(x2^-2*x9^-1)^2*x2^-2*(x9*x2)^2*x9*x2^-1*(x2^-1*x9^-1)^2*x2^2*x9^-1*x2*x9 >\n",
      "\n",
      "2 -twist spun (2, 5) -torus knot.\n",
      "9 -fold cyclic cover\n",
      "Trisection parameters: [24, [3, 4, 1]]\n",
      "pi_1(Branched Cover): Finitely presented group <  |  >\n",
      "pi_1(Unbranched Cover): Finitely presented group <  |  >\n",
      "\n"
     ]
    }
   ],
   "source": [
    "l=2\n",
    "p=5\n",
    "for i in range(2,10):\n",
    "    colored_bridge_trisection=l_twist_spun_2_p_torus_cyclic(l,p,i)\n",
    "    print(l,'-twist spun', (2,p),'-torus knot.')\n",
    "    print(i,'-fold cyclic cover')\n",
    "    print('Trisection parameters:',colored_bridge_trisection.trisection_parameters_branched_cover() )\n",
    "    print('pi_1(Branched Cover):',colored_bridge_trisection.pi_1_branched_cover().simplified())\n",
    "    print('pi_1(Unbranched Cover):',colored_bridge_trisection.pi_1_unbranched_cover().simplified())\n",
    "    print()"
   ]
  },
  {
   "cell_type": "code",
   "execution_count": 7,
   "id": "c8c93367",
   "metadata": {},
   "outputs": [
    {
     "name": "stdout",
     "output_type": "stream",
     "text": [
      "Knot group: Finitely presented group < x0, x2 | x0^-3*x2^-1*x0^3*x2, (x0^-1*x2)^2*x0^-1*(x2^-1*x0)^2*x2^-1 >\n",
      "Trisection parameters: [6, [2, 2, 1]]\n",
      "pi_1(Branched cover): Finitely presented group <  |  >\n",
      "pi_1(Unbranched cover): Finitely presented group <  |  >\n"
     ]
    }
   ],
   "source": [
    "\n",
    "spun_torus = tau_3_T_2_5\n",
    "\n",
    "\n",
    "\n",
    "spun_torus_tangles_dict = {\n",
    "        'red': spun_torus.red_tangle,\n",
    "        'blu': spun_torus.blu_tangle,\n",
    "        'gre': spun_torus.gre_tangle,\n",
    "    }\n",
    "\n",
    "k=3\n",
    "symmetric_group_rank = k\n",
    "bridge_number = 4\n",
    "spun_torus_F = FreeGroup(2*bridge_number)\n",
    "spun_torus_S = SymmetricGroup(symmetric_group_rank)\n",
    "cycle_tuple=tuple([i+1 for i in range(k)])\n",
    "cycle=spun_torus_S(cycle_tuple)\n",
    "spun_torus_images_of_generators=2*bridge_number*[cycle]\n",
    "\n",
    "colored_spun_torus = Colored_bridge_trisection(spun_torus_F,\n",
    "                                            spun_torus_S,\n",
    "                                            spun_torus_tangles_dict,\n",
    "                                            spun_torus_images_of_generators)\n",
    "print('Knot group:',spun_torus.group().simplified())\n",
    "print('Trisection parameters:',colored_spun_torus.trisection_parameters_branched_cover())\n",
    "print('pi_1(Branched cover):',colored_spun_torus.pi_1_branched_cover().simplified())\n",
    "print('pi_1(Unbranched cover):',colored_spun_torus.pi_1_unbranched_cover().simplified())"
   ]
  },
  {
   "cell_type": "code",
   "execution_count": 27,
   "id": "99487389",
   "metadata": {},
   "outputs": [
    {
     "name": "stdout",
     "output_type": "stream",
     "text": [
      "Knot group: Finitely presented group < x0, x2 | x0^-1*x2*x0^-1*x2^-1*x0*x2^-1, x2^4*x0^5*x2 >\n",
      "Trisection parameters: [12, [4, 4, 1]]\n",
      "pi_1(Branched cover): Finitely presented group <  |  >\n",
      "pi_1(Unbranched cover): Finitely presented group <  |  >\n"
     ]
    }
   ],
   "source": [
    "spun_torus=tau_5_T_2_3\n",
    "\n",
    "\n",
    "\n",
    "spun_torus_tangles_dict = {\n",
    "        'red': spun_torus.red_tangle,\n",
    "        'blu': spun_torus.blu_tangle,\n",
    "        'gre': spun_torus.gre_tangle,\n",
    "    }\n",
    "\n",
    "\n",
    "k=5\n",
    "symmetric_group_rank = k\n",
    "bridge_number = 4\n",
    "spun_torus_F = FreeGroup(2*bridge_number)\n",
    "spun_torus_S = SymmetricGroup(symmetric_group_rank)\n",
    "\n",
    "cycle_tuple=tuple([i+1 for i in range(k)])\n",
    "cycle=spun_torus_S(cycle_tuple)\n",
    "spun_torus_images_of_generators=2*bridge_number*[cycle]\n",
    "\n",
    "colored_spun_torus = Colored_bridge_trisection(spun_torus_F,\n",
    "                                            spun_torus_S,\n",
    "                                            spun_torus_tangles_dict,\n",
    "                                            spun_torus_images_of_generators)\n",
    "print('Knot group:',spun_torus.group().simplified())\n",
    "print('Trisection parameters:',colored_spun_torus.trisection_parameters_branched_cover())\n",
    "print('pi_1(Branched cover):',colored_spun_torus.pi_1_branched_cover().simplified())\n",
    "print('pi_1(Unbranched cover):',colored_spun_torus.pi_1_unbranched_cover().simplified())"
   ]
  },
  {
   "cell_type": "code",
   "execution_count": 9,
   "id": "4619c3e1",
   "metadata": {},
   "outputs": [
    {
     "name": "stdout",
     "output_type": "stream",
     "text": [
      "Knot group: Finitely presented group < x1, x2, x8 | x1^2*x8^-1*x1^-2*x8, x2^-1*x1^-2*x2*x1^2, x8^-1*x2^-1*x1*x8^-1*x1^-1*x2*x8*x1^-1*x2*x1, x1*x2*x8*x1^-1*x2*x8^-1*x2^-1*x1^-1*x8^-1*x2 >\n",
      "Trisection parameters: [6, [2, 2, 2]]\n",
      "pi_1(Branched cover): Finitely presented group < x2, x8 | x8*x2*x8^-1*x2^-1*x8^-1*x2, x8^-1*x2*x8*x2^-2*x8*x2 >\n",
      "pi_1(Unbranched cover): Finitely presented group < x2, x9 | x9*x2^-1*x9^-1*x2^2*x9^-1*x2^-1, x2*x9*x2*x9^-1*x2^-2*x9^-1*x2^-1*x9*x2, x2^-1*x9*x2*x9^2*x2*x9^-1*x2^-1*x9^-2 >\n"
     ]
    }
   ],
   "source": [
    "spun_torus=tau_2_T_3_5\n",
    "\n",
    "\n",
    "spun_torus_tangles_dict = {\n",
    "        'red': spun_torus.red_tangle,\n",
    "        'blu': spun_torus.blu_tangle,\n",
    "        'gre': spun_torus.gre_tangle,\n",
    "    }\n",
    "\n",
    "\n",
    "k=2\n",
    "symmetric_group_rank = k\n",
    "bridge_number = 7\n",
    "spun_torus_F = FreeGroup(2*bridge_number)\n",
    "spun_torus_S = SymmetricGroup(symmetric_group_rank)\n",
    "\n",
    "cycle_tuple=tuple([i+1 for i in range(k)])\n",
    "cycle=spun_torus_S(cycle_tuple)\n",
    "spun_torus_images_of_generators=2*bridge_number*[cycle]\n",
    "\n",
    "colored_spun_torus = Colored_bridge_trisection(spun_torus_F,\n",
    "                                            spun_torus_S,\n",
    "                                            spun_torus_tangles_dict,\n",
    "                                            spun_torus_images_of_generators)\n",
    "print('Knot group:',spun_torus.group().simplified())\n",
    "print('Trisection parameters:',colored_spun_torus.trisection_parameters_branched_cover())\n",
    "print('pi_1(Branched cover):',colored_spun_torus.pi_1_branched_cover().simplified())\n",
    "print('pi_1(Unbranched cover):',colored_spun_torus.pi_1_unbranched_cover().simplified())"
   ]
  },
  {
   "cell_type": "code",
   "execution_count": null,
   "id": "276e5928",
   "metadata": {},
   "outputs": [],
   "source": []
  }
 ],
 "metadata": {
  "kernelspec": {
   "display_name": "SageMath 9.5",
   "language": "sage",
   "name": "sagemath-9.5"
  },
  "language_info": {
   "codemirror_mode": {
    "name": "ipython",
    "version": 3
   },
   "file_extension": ".py",
   "mimetype": "text/x-python",
   "name": "python",
   "nbconvert_exporter": "python",
   "pygments_lexer": "ipython3",
   "version": "3.9.9"
  }
 },
 "nbformat": 4,
 "nbformat_minor": 5
}
