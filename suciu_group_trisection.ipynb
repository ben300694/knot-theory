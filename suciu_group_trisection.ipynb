{
 "cells": [
  {
   "cell_type": "code",
   "execution_count": 1,
   "id": "a154efea",
   "metadata": {},
   "outputs": [],
   "source": [
    "load(\"src/bridge_trisections.sage\")"
   ]
  },
  {
   "cell_type": "code",
   "execution_count": 2,
   "id": "465ed627",
   "metadata": {},
   "outputs": [],
   "source": [
    "load(\"data/suciu_R_k_bridge_trisection.sage\")"
   ]
  },
  {
   "cell_type": "code",
   "execution_count": 3,
   "id": "995e173e",
   "metadata": {},
   "outputs": [],
   "source": [
    "suciu_images_of_generators = 14*['(1, 2)']\n"
   ]
  },
  {
   "cell_type": "code",
   "execution_count": 5,
   "id": "79930043",
   "metadata": {},
   "outputs": [],
   "source": [
    "suciu_k_bridge_trisection=R_k(2)"
   ]
  },
  {
   "cell_type": "code",
   "execution_count": 6,
   "id": "6a112b11",
   "metadata": {},
   "outputs": [],
   "source": [
    "suciu_F = FreeGroup(14)\n",
    "suciu_S = SymmetricGroup(2)\n",
    "suciu_cover_F=FreeGroup(14*2)\n",
    "\n"
   ]
  },
  {
   "cell_type": "code",
   "execution_count": 7,
   "id": "08822a72",
   "metadata": {},
   "outputs": [],
   "source": [
    "suciu_tangles_dict = {\n",
    "        'red': suciu_k_bridge_trisection.red_tangle,\n",
    "        'blu': suciu_k_bridge_trisection.blu_tangle,\n",
    "        'gre': suciu_k_bridge_trisection.gre_tangle,\n",
    "    }\n"
   ]
  },
  {
   "cell_type": "code",
   "execution_count": 8,
   "id": "1aa266e4",
   "metadata": {},
   "outputs": [],
   "source": [
    "suciu_colored_surface=Colored_bridge_trisection(suciu_F,\n",
    "                                            suciu_S,\n",
    "                                            suciu_tangles_dict,\n",
    "                                            suciu_images_of_generators)"
   ]
  },
  {
   "cell_type": "code",
   "execution_count": 9,
   "id": "0caad48c",
   "metadata": {},
   "outputs": [
    {
     "data": {
      "text/plain": [
       "[6, [2, 2, 2]]"
      ]
     },
     "execution_count": 9,
     "metadata": {},
     "output_type": "execute_result"
    }
   ],
   "source": [
    "suciu_colored_surface.trisection_parameters_branched_cover()"
   ]
  },
  {
   "cell_type": "code",
   "execution_count": 13,
   "id": "b4b0a627",
   "metadata": {},
   "outputs": [
    {
     "data": {
      "text/plain": [
       "Finitely presented group < x6, x12 | x12*x6*x12^-2*x6, x6^-1*x12*x6*x12*x6^-1 >"
      ]
     },
     "execution_count": 13,
     "metadata": {},
     "output_type": "execute_result"
    }
   ],
   "source": [
    "suciu_colored_surface.pi_1_branched_cover().simplified()"
   ]
  },
  {
   "cell_type": "code",
   "execution_count": 14,
   "id": "13a27058",
   "metadata": {},
   "outputs": [
    {
     "data": {
      "text/plain": [
       "24"
      ]
     },
     "execution_count": 14,
     "metadata": {},
     "output_type": "execute_result"
    }
   ],
   "source": [
    "suciu_colored_surface.pi_1_branched_cover().order()"
   ]
  },
  {
   "cell_type": "code",
   "execution_count": null,
   "id": "210ef995",
   "metadata": {},
   "outputs": [],
   "source": []
  }
 ],
 "metadata": {
  "kernelspec": {
   "display_name": "SageMath 9.4",
   "language": "sage",
   "name": "sagemath-9.4"
  },
  "language_info": {
   "codemirror_mode": {
    "name": "ipython",
    "version": 3
   },
   "file_extension": ".py",
   "mimetype": "text/x-python",
   "name": "python",
   "nbconvert_exporter": "python",
   "pygments_lexer": "ipython3",
   "version": "3.9.5"
  }
 },
 "nbformat": 4,
 "nbformat_minor": 5
}
