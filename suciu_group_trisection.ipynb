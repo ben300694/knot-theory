{
 "cells": [
  {
   "cell_type": "code",
   "execution_count": 23,
   "id": "a154efea",
   "metadata": {},
   "outputs": [],
   "source": [
    "load(\"src/bridge_trisections.sage\")"
   ]
  },
  {
   "cell_type": "code",
   "execution_count": 24,
   "id": "465ed627",
   "metadata": {},
   "outputs": [],
   "source": [
    "load(\"data/suciu_R_k_bridge_trisection.sage\")"
   ]
  },
  {
   "cell_type": "code",
   "execution_count": 25,
   "id": "995e173e",
   "metadata": {},
   "outputs": [],
   "source": [
    "\n",
    "\n",
    "suciu_images_of_generators = 14*['(1, 2)']\n"
   ]
  },
  {
   "cell_type": "code",
   "execution_count": 26,
   "id": "79930043",
   "metadata": {},
   "outputs": [],
   "source": [
    "suciu_k_bridge_trisection=R_k(2)"
   ]
  },
  {
   "cell_type": "code",
   "execution_count": 27,
   "id": "6a112b11",
   "metadata": {},
   "outputs": [],
   "source": [
    "suciu_F = FreeGroup(14)\n",
    "suciu_S = SymmetricGroup(2)\n",
    "suciu_cover_F=FreeGroup(14*2)\n",
    "\n"
   ]
  },
  {
   "cell_type": "code",
   "execution_count": 28,
   "id": "eb4fc667",
   "metadata": {},
   "outputs": [],
   "source": [
    "suciu_tangles_dict = {\n",
    "        'red': suciu_k_bridge_trisection.red_tangle,\n",
    "        'blu': suciu_k_bridge_trisection.blu_tangle,\n",
    "        'gre': suciu_k_bridge_trisection.gre_tangle,\n",
    "    }\n"
   ]
  },
  {
   "cell_type": "code",
   "execution_count": 29,
   "id": "c4468685",
   "metadata": {},
   "outputs": [],
   "source": [
    "suciu_colored_surface=Colored_bridge_trisection(suciu_F,\n",
    "                                            suciu_S,\n",
    "                                            suciu_tangles_dict,\n",
    "                                            suciu_images_of_generators)"
   ]
  },
  {
   "cell_type": "code",
   "execution_count": 30,
   "id": "0c87be4d",
   "metadata": {},
   "outputs": [
    {
     "data": {
      "text/plain": [
       "[6, [2, 2, 2]]"
      ]
     },
     "execution_count": 30,
     "metadata": {},
     "output_type": "execute_result"
    }
   ],
   "source": [
    "suciu_colored_surface.trisection_parameters_branched_cover()"
   ]
  },
  {
   "cell_type": "code",
   "execution_count": 31,
   "id": "b4b0a627",
   "metadata": {},
   "outputs": [
    {
     "data": {
      "text/plain": [
       "Finitely presented group < x6, x12 | x12*x6*x12^-2*x6, x6^-1*x12*x6*x12*x6^-1 >"
      ]
     },
     "execution_count": 31,
     "metadata": {},
     "output_type": "execute_result"
    }
   ],
   "source": [
    "suciu_colored_surface.pi_1_branched_cover().simplified()"
   ]
  },
  {
   "cell_type": "code",
   "execution_count": 32,
   "id": "8ce18bb7",
   "metadata": {},
   "outputs": [
    {
     "data": {
      "text/plain": [
       "24"
      ]
     },
     "execution_count": 32,
     "metadata": {},
     "output_type": "execute_result"
    }
   ],
   "source": [
    "suciu_colored_surface.pi_1_branched_cover().order()"
   ]
  },
  {
   "cell_type": "code",
   "execution_count": 33,
   "id": "3841d65f",
   "metadata": {},
   "outputs": [
    {
     "data": {
      "text/plain": [
       "Finitely generated module V/W over Integer Ring with invariants (3)"
      ]
     },
     "execution_count": 33,
     "metadata": {},
     "output_type": "execute_result"
    }
   ],
   "source": [
    "suciu_colored_surface.H_2_branched_cover()"
   ]
  },
  {
   "cell_type": "code",
   "execution_count": null,
   "id": "8b693f13",
   "metadata": {},
   "outputs": [],
   "source": []
  }
 ],
 "metadata": {
  "kernelspec": {
   "display_name": "SageMath 9.4",
   "language": "sage",
   "name": "sagemath-9.4"
  },
  "language_info": {
   "codemirror_mode": {
    "name": "ipython",
    "version": 3
   },
   "file_extension": ".py",
   "mimetype": "text/x-python",
   "name": "python",
   "nbconvert_exporter": "python",
   "pygments_lexer": "ipython3",
   "version": "3.9.5"
  }
 },
 "nbformat": 4,
 "nbformat_minor": 5
}
