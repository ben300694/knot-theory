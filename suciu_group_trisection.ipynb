{
 "cells": [
  {
   "cell_type": "code",
   "execution_count": 34,
   "id": "778eb124",
   "metadata": {},
   "outputs": [
    {
     "name": "stdout",
     "output_type": "stream",
     "text": [
      "Collecting tqdm\n",
      "  Downloading tqdm-4.64.0-py2.py3-none-any.whl (78 kB)\n",
      "     |████████████████████████████████| 78 kB 3.7 MB/s            \n",
      "\u001b[?25hInstalling collected packages: tqdm\n",
      "\u001b[33m  WARNING: The script tqdm is installed in '/Users/pcahn/.sage//local/bin' which is not on PATH.\n",
      "  Consider adding this directory to PATH or, if you prefer to suppress this warning, use --no-warn-script-location.\u001b[0m\n",
      "Successfully installed tqdm-4.64.0\n",
      "\u001b[33mWARNING: You are using pip version 21.3.1; however, version 22.1.2 is available.\n",
      "You should consider upgrading via the '/private/var/tmp/sage-9.5-current/local/var/lib/sage/venv-python3.9.9/bin/python3 -m pip install --upgrade pip' command.\u001b[0m\n"
     ]
    }
   ],
   "source": [
    "#!pip install tqdm"
   ]
  },
  {
   "cell_type": "code",
   "execution_count": 36,
   "id": "a154efea",
   "metadata": {},
   "outputs": [],
   "source": [
    "load(\"src/bridge_trisections.sage\")\n",
    "#from tqdm.auto import tqdm"
   ]
  },
  {
   "cell_type": "code",
   "execution_count": 2,
   "id": "465ed627",
   "metadata": {},
   "outputs": [],
   "source": [
    "load(\"data/suciu_R_k_bridge_trisection.sage\")"
   ]
  },
  {
   "cell_type": "code",
   "execution_count": 55,
   "id": "995e173e",
   "metadata": {},
   "outputs": [],
   "source": [
    "\n",
    "\n",
    "#suciu_images_of_generators = 14*['(1, 2)']\n",
    "#suciu_images_of_generators = 14*['(1, 2,3,4)']\n",
    "#suciu_images_of_generators = 6*['(1,2)']+8*[(2,3)]\n",
    "suciu_images_of_generators = 12*['(1,2)']+2*[(2,3)]"
   ]
  },
  {
   "cell_type": "code",
   "execution_count": 69,
   "id": "79930043",
   "metadata": {},
   "outputs": [],
   "source": [
    "suciu_k_bridge_trisection=R_k(4)"
   ]
  },
  {
   "cell_type": "code",
   "execution_count": 70,
   "id": "6a112b11",
   "metadata": {},
   "outputs": [],
   "source": [
    "\n",
    "p=3\n",
    "suciu_F = FreeGroup(14)\n",
    "suciu_S = SymmetricGroup(p)\n",
    "suciu_cover_F=FreeGroup(14*p)\n",
    "\n"
   ]
  },
  {
   "cell_type": "code",
   "execution_count": 71,
   "id": "eb4fc667",
   "metadata": {},
   "outputs": [],
   "source": [
    "suciu_tangles_dict = {\n",
    "        'red': suciu_k_bridge_trisection.red_tangle,\n",
    "        'blu': suciu_k_bridge_trisection.blu_tangle,\n",
    "        'gre': suciu_k_bridge_trisection.gre_tangle,\n",
    "    }\n"
   ]
  },
  {
   "cell_type": "code",
   "execution_count": 72,
   "id": "c4468685",
   "metadata": {},
   "outputs": [],
   "source": [
    "suciu_colored_surface=Colored_bridge_trisection(suciu_F,\n",
    "                                            suciu_S,\n",
    "                                            suciu_tangles_dict,\n",
    "                                            suciu_images_of_generators)"
   ]
  },
  {
   "cell_type": "code",
   "execution_count": 73,
   "id": "0c87be4d",
   "metadata": {},
   "outputs": [
    {
     "data": {
      "text/plain": [
       "[5, [1, 1, 1]]"
      ]
     },
     "execution_count": 73,
     "metadata": {},
     "output_type": "execute_result"
    }
   ],
   "source": [
    "suciu_colored_surface.trisection_parameters_branched_cover()"
   ]
  },
  {
   "cell_type": "code",
   "execution_count": 74,
   "id": "b4b0a627",
   "metadata": {},
   "outputs": [
    {
     "data": {
      "text/plain": [
       "Finitely presented group <  |  >"
      ]
     },
     "execution_count": 74,
     "metadata": {},
     "output_type": "execute_result"
    }
   ],
   "source": [
    "suciu_colored_surface.pi_1_branched_cover().simplified()"
   ]
  },
  {
   "cell_type": "code",
   "execution_count": 62,
   "id": "8ce18bb7",
   "metadata": {},
   "outputs": [
    {
     "data": {
      "text/plain": [
       "1"
      ]
     },
     "execution_count": 62,
     "metadata": {},
     "output_type": "execute_result"
    }
   ],
   "source": [
    "suciu_colored_surface.pi_1_branched_cover().order()"
   ]
  },
  {
   "cell_type": "code",
   "execution_count": 75,
   "id": "3841d65f",
   "metadata": {},
   "outputs": [
    {
     "data": {
      "text/plain": [
       "Finitely generated module V/W over Integer Ring with invariants (0, 0)"
      ]
     },
     "execution_count": 75,
     "metadata": {},
     "output_type": "execute_result"
    }
   ],
   "source": [
    "suciu_colored_surface.H_2_branched_cover()"
   ]
  },
  {
   "cell_type": "code",
   "execution_count": null,
   "id": "8b693f13",
   "metadata": {},
   "outputs": [],
   "source": []
  }
 ],
 "metadata": {
  "kernelspec": {
   "display_name": "SageMath 9.5",
   "language": "sage",
   "name": "sagemath-9.5"
  },
  "language_info": {
   "codemirror_mode": {
    "name": "ipython",
    "version": 3
   },
   "file_extension": ".py",
   "mimetype": "text/x-python",
   "name": "python",
   "nbconvert_exporter": "python",
   "pygments_lexer": "ipython3",
   "version": "3.9.9"
  }
 },
 "nbformat": 4,
 "nbformat_minor": 5
}
