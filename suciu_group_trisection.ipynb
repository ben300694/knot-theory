{
 "cells": [
  {
   "cell_type": "code",
   "execution_count": 1,
   "id": "a154efea",
   "metadata": {},
   "outputs": [],
   "source": [
    "load(\"src/bridge_trisections.sage\")\n",
    "load(\"data/suciu_R_k_bridge_trisection.sage\")"
   ]
  },
  {
   "cell_type": "code",
   "execution_count": 2,
   "id": "8b693f13",
   "metadata": {},
   "outputs": [],
   "source": [
    "def display_invariants(k,p, coloring):\n",
    "    suciu_F = FreeGroup(14)\n",
    "    suciu_S = SymmetricGroup(p)\n",
    "    suciu_cover_F=FreeGroup(14*p)\n",
    "    \n",
    "    suciu_k_bridge_trisection=R_k(k)\n",
    "    \n",
    "    suciu_tangles_dict = {\n",
    "        'red': suciu_k_bridge_trisection.red_tangle,\n",
    "        'blu': suciu_k_bridge_trisection.blu_tangle,\n",
    "        'gre': suciu_k_bridge_trisection.gre_tangle,\n",
    "    }\n",
    "    \n",
    "    suciu_colored_surface=Colored_bridge_trisection(suciu_F,\n",
    "                                            suciu_S,\n",
    "                                            suciu_tangles_dict,\n",
    "                                            coloring)\n",
    "    print('coloring')\n",
    "    print(coloring)\n",
    "    print('Valid coloring?')\n",
    "    \n",
    "    print(suciu_colored_surface.colored_tangles['red'].is_representation())\n",
    "    print(suciu_colored_surface.colored_tangles['blu'].is_representation())\n",
    "    print(suciu_colored_surface.colored_tangles['gre'].is_representation())\n",
    "    \n",
    "    print('Trisection parameters',suciu_colored_surface.trisection_parameters_branched_cover())\n",
    "    print('Euler characteristic',suciu_colored_surface.euler_characteristic())\n",
    "    \n",
    "    #print('pi_1(branched cover)',suciu_colored_surface.pi_1_branched_cover().simplified())\n",
    "    \n",
    "    print('H_1',suciu_colored_surface.homology_branched_cover()[0])\n",
    "    print('H_2',suciu_colored_surface.homology_branched_cover()[1])\n",
    "    print('H_3',suciu_colored_surface.homology_branched_cover()[2])\n",
    "    \n",
    "    print('Intersection form, signature, parity')\n",
    "    print(suciu_colored_surface.intersection_form())"
   ]
  },
  {
   "cell_type": "code",
   "execution_count": 9,
   "id": "c7d1a75a",
   "metadata": {},
   "outputs": [],
   "source": [
    "def display_pi_1(k,p,coloring):\n",
    "    suciu_F = FreeGroup(14)\n",
    "    suciu_S = SymmetricGroup(p)\n",
    "    suciu_cover_F=FreeGroup(14*p)\n",
    "    \n",
    "    suciu_k_bridge_trisection=R_k(k)\n",
    "    \n",
    "    suciu_tangles_dict = {\n",
    "        'red': suciu_k_bridge_trisection.red_tangle,\n",
    "        'blu': suciu_k_bridge_trisection.blu_tangle,\n",
    "        'gre': suciu_k_bridge_trisection.gre_tangle,\n",
    "    }\n",
    "    \n",
    "    suciu_colored_surface=Colored_bridge_trisection(suciu_F,\n",
    "                                            suciu_S,\n",
    "                                            suciu_tangles_dict,\n",
    "                                            coloring)\n",
    "    print('coloring')\n",
    "    print(coloring)\n",
    "    print('Valid coloring?')\n",
    "    \n",
    "    print(suciu_colored_surface.colored_tangles['red'].is_representation())\n",
    "    print(suciu_colored_surface.colored_tangles['blu'].is_representation())\n",
    "    print(suciu_colored_surface.colored_tangles['gre'].is_representation())\n",
    "    \n",
    "    print('Trisection parameters',suciu_colored_surface.trisection_parameters_branched_cover())\n",
    "    print('Euler characteristic',suciu_colored_surface.euler_characteristic())\n",
    "    \n",
    "    print('pi_1(branched cover)',suciu_colored_surface.pi_1_branched_cover().simplified())\n",
    "    print(suciu_colored_surface.pi_1_branched_cover().order())"
   ]
  },
  {
   "cell_type": "code",
   "execution_count": 4,
   "id": "14f74517",
   "metadata": {},
   "outputs": [],
   "source": [
    "def cyclic_coloring(S):\n",
    "    cycle_tuple=tuple([i+1 for i in range(S.degree())])\n",
    "    coloring=7*[S(cycle_tuple), S(cycle_tuple)^-1]\n",
    "    return coloring\n",
    "    "
   ]
  },
  {
   "cell_type": "code",
   "execution_count": 10,
   "id": "9202e784",
   "metadata": {},
   "outputs": [
    {
     "name": "stdout",
     "output_type": "stream",
     "text": [
      "coloring\n",
      "[(1,2), (1,2), (1,2), (1,2), (1,2), (1,2), (1,2), (1,2), (1,2), (1,2), (1,2), (1,2), (1,2), (1,2)]\n",
      "Valid coloring?\n",
      "True\n",
      "True\n",
      "True\n",
      "Trisection parameters [6, [2, 2, 2]]\n",
      "Euler characteristic 2\n",
      "pi_1(branched cover) Finitely presented group < x12 | x12^3 >\n",
      "3\n"
     ]
    }
   ],
   "source": [
    "display_pi_1(1,2,cyclic_coloring(SymmetricGroup(2)))"
   ]
  },
  {
   "cell_type": "code",
   "execution_count": 13,
   "id": "0b1e77d3",
   "metadata": {},
   "outputs": [
    {
     "name": "stdout",
     "output_type": "stream",
     "text": [
      "coloring\n",
      "[(1,2), (1,2), (1,2), (1,2), (1,2), (1,2), (1,2), (1,2), (1,2), (1,2), (1,2), (1,2), (1,2), (1,2)]\n",
      "Valid coloring?\n",
      "True\n",
      "True\n",
      "True\n",
      "Trisection parameters [6, [2, 2, 2]]\n",
      "Euler characteristic 2\n",
      "pi_1(branched cover) Finitely presented group < x6, x12 | x12*x6*x12^-2*x6, x6^-1*x12*x6*x12*x6^-1 >\n",
      "24\n"
     ]
    }
   ],
   "source": [
    "display_pi_1(2,2,cyclic_coloring(SymmetricGroup(2)))"
   ]
  },
  {
   "cell_type": "code",
   "execution_count": 11,
   "id": "5811ba13",
   "metadata": {},
   "outputs": [
    {
     "name": "stdout",
     "output_type": "stream",
     "text": [
      "coloring\n",
      "[(1,2,3), (1,3,2), (1,2,3), (1,3,2), (1,2,3), (1,3,2), (1,2,3), (1,3,2), (1,2,3), (1,3,2), (1,2,3), (1,3,2), (1,2,3), (1,3,2)]\n",
      "Valid coloring?\n",
      "True\n",
      "True\n",
      "True\n",
      "Trisection parameters [12, [4, 4, 4]]\n",
      "Euler characteristic 2\n",
      "pi_1(branched cover) Finitely presented group < x12, x13 | x12^-1*x13*x12^-1*x13^-1, x13^-1*x12^2*x13^-1 >\n",
      "8\n"
     ]
    }
   ],
   "source": [
    "display_pi_1(1,3,cyclic_coloring(SymmetricGroup(3)))"
   ]
  },
  {
   "cell_type": "code",
   "execution_count": 12,
   "id": "23a7b197",
   "metadata": {},
   "outputs": [
    {
     "name": "stdout",
     "output_type": "stream",
     "text": [
      "coloring\n",
      "[(1,2,3), (1,3,2), (1,2,3), (1,3,2), (1,2,3), (1,3,2), (1,2,3), (1,3,2), (1,2,3), (1,3,2), (1,2,3), (1,3,2), (1,2,3), (1,3,2)]\n",
      "Valid coloring?\n",
      "True\n",
      "True\n",
      "True\n",
      "Trisection parameters [12, [4, 4, 4]]\n",
      "Euler characteristic 2\n",
      "pi_1(branched cover) Finitely presented group < x6, x7, x12 | x12^-1*x7^-1*x6*x12*x6^-1*x7^-1*x6*x12^-1, x7^-1*x6*x12^-1*x6^-1*x12*x6^-1*x7*x12^-1, x12^-1*x6*x12*(x7^-1*x6)^2*x12^-1*x7*x12*x6^-1*x7 >\n"
     ]
    },
    {
     "ename": "KeyboardInterrupt",
     "evalue": "",
     "output_type": "error",
     "traceback": [
      "\u001b[0;31m---------------------------------------------------------------------------\u001b[0m",
      "\u001b[0;31mKeyError\u001b[0m                                  Traceback (most recent call last)",
      "\u001b[0;32m/private/var/tmp/sage-9.5-current/local/var/lib/sage/venv-python3.9.9/lib/python3.9/site-packages/sage/misc/cachefunc.pyx\u001b[0m in \u001b[0;36msage.misc.cachefunc.CachedMethodCaller.__call__ (build/cythonized/sage/misc/cachefunc.c:10347)\u001b[0;34m()\u001b[0m\n\u001b[1;32m   1942\u001b[0m             \u001b[0;32mtry\u001b[0m\u001b[0;34m:\u001b[0m\u001b[0;34m\u001b[0m\u001b[0;34m\u001b[0m\u001b[0m\n\u001b[0;32m-> 1943\u001b[0;31m                 \u001b[0;32mreturn\u001b[0m \u001b[0mcache\u001b[0m\u001b[0;34m[\u001b[0m\u001b[0mk\u001b[0m\u001b[0;34m]\u001b[0m\u001b[0;34m\u001b[0m\u001b[0;34m\u001b[0m\u001b[0m\n\u001b[0m\u001b[1;32m   1944\u001b[0m             \u001b[0;32mexcept\u001b[0m \u001b[0mTypeError\u001b[0m\u001b[0;34m:\u001b[0m  \u001b[0;31m# k is not hashable\u001b[0m\u001b[0;34m\u001b[0m\u001b[0;34m\u001b[0m\u001b[0m\n",
      "\u001b[0;31mKeyError\u001b[0m: ((4096000,), ())",
      "\nDuring handling of the above exception, another exception occurred:\n",
      "\u001b[0;31mKeyboardInterrupt\u001b[0m                         Traceback (most recent call last)",
      "\u001b[0;32m/var/folders/3l/914ktb1n5q78tlxjd8vtgp1rfd44kb/T/ipykernel_2481/2059801028.py\u001b[0m in \u001b[0;36m<module>\u001b[0;34m\u001b[0m\n\u001b[0;32m----> 1\u001b[0;31m \u001b[0mdisplay_pi_1\u001b[0m\u001b[0;34m(\u001b[0m\u001b[0mInteger\u001b[0m\u001b[0;34m(\u001b[0m\u001b[0;36m2\u001b[0m\u001b[0;34m)\u001b[0m\u001b[0;34m,\u001b[0m\u001b[0mInteger\u001b[0m\u001b[0;34m(\u001b[0m\u001b[0;36m3\u001b[0m\u001b[0;34m)\u001b[0m\u001b[0;34m,\u001b[0m\u001b[0mcyclic_coloring\u001b[0m\u001b[0;34m(\u001b[0m\u001b[0mSymmetricGroup\u001b[0m\u001b[0;34m(\u001b[0m\u001b[0mInteger\u001b[0m\u001b[0;34m(\u001b[0m\u001b[0;36m3\u001b[0m\u001b[0;34m)\u001b[0m\u001b[0;34m)\u001b[0m\u001b[0;34m)\u001b[0m\u001b[0;34m)\u001b[0m\u001b[0;34m\u001b[0m\u001b[0;34m\u001b[0m\u001b[0m\n\u001b[0m",
      "\u001b[0;32m/var/folders/3l/914ktb1n5q78tlxjd8vtgp1rfd44kb/T/ipykernel_2481/1669892326.py\u001b[0m in \u001b[0;36mdisplay_pi_1\u001b[0;34m(k, p, coloring)\u001b[0m\n\u001b[1;32m     28\u001b[0m \u001b[0;34m\u001b[0m\u001b[0m\n\u001b[1;32m     29\u001b[0m     \u001b[0mprint\u001b[0m\u001b[0;34m(\u001b[0m\u001b[0;34m'pi_1(branched cover)'\u001b[0m\u001b[0;34m,\u001b[0m\u001b[0msuciu_colored_surface\u001b[0m\u001b[0;34m.\u001b[0m\u001b[0mpi_1_branched_cover\u001b[0m\u001b[0;34m(\u001b[0m\u001b[0;34m)\u001b[0m\u001b[0;34m.\u001b[0m\u001b[0msimplified\u001b[0m\u001b[0;34m(\u001b[0m\u001b[0;34m)\u001b[0m\u001b[0;34m)\u001b[0m\u001b[0;34m\u001b[0m\u001b[0;34m\u001b[0m\u001b[0m\n\u001b[0;32m---> 30\u001b[0;31m     \u001b[0mprint\u001b[0m\u001b[0;34m(\u001b[0m\u001b[0msuciu_colored_surface\u001b[0m\u001b[0;34m.\u001b[0m\u001b[0mpi_1_branched_cover\u001b[0m\u001b[0;34m(\u001b[0m\u001b[0;34m)\u001b[0m\u001b[0;34m.\u001b[0m\u001b[0morder\u001b[0m\u001b[0;34m(\u001b[0m\u001b[0;34m)\u001b[0m\u001b[0;34m)\u001b[0m\u001b[0;34m\u001b[0m\u001b[0;34m\u001b[0m\u001b[0m\n\u001b[0m",
      "\u001b[0;32m/private/var/tmp/sage-9.5-current/local/var/lib/sage/venv-python3.9.9/lib/python3.9/site-packages/sage/misc/cachefunc.pyx\u001b[0m in \u001b[0;36msage.misc.cachefunc.CachedMethodCaller.__call__ (build/cythonized/sage/misc/cachefunc.c:10483)\u001b[0;34m()\u001b[0m\n\u001b[1;32m   1946\u001b[0m                 \u001b[0;32mreturn\u001b[0m \u001b[0mcache\u001b[0m\u001b[0;34m[\u001b[0m\u001b[0mk\u001b[0m\u001b[0;34m]\u001b[0m\u001b[0;34m\u001b[0m\u001b[0;34m\u001b[0m\u001b[0m\n\u001b[1;32m   1947\u001b[0m         \u001b[0;32mexcept\u001b[0m \u001b[0mKeyError\u001b[0m\u001b[0;34m:\u001b[0m\u001b[0;34m\u001b[0m\u001b[0;34m\u001b[0m\u001b[0m\n\u001b[0;32m-> 1948\u001b[0;31m             \u001b[0mw\u001b[0m \u001b[0;34m=\u001b[0m \u001b[0mself\u001b[0m\u001b[0;34m.\u001b[0m\u001b[0m_instance_call\u001b[0m\u001b[0;34m(\u001b[0m\u001b[0;34m*\u001b[0m\u001b[0margs\u001b[0m\u001b[0;34m,\u001b[0m \u001b[0;34m**\u001b[0m\u001b[0mkwds\u001b[0m\u001b[0;34m)\u001b[0m\u001b[0;34m\u001b[0m\u001b[0;34m\u001b[0m\u001b[0m\n\u001b[0m\u001b[1;32m   1949\u001b[0m             \u001b[0mcache\u001b[0m\u001b[0;34m[\u001b[0m\u001b[0mk\u001b[0m\u001b[0;34m]\u001b[0m \u001b[0;34m=\u001b[0m \u001b[0mw\u001b[0m\u001b[0;34m\u001b[0m\u001b[0;34m\u001b[0m\u001b[0m\n\u001b[1;32m   1950\u001b[0m             \u001b[0;32mreturn\u001b[0m \u001b[0mw\u001b[0m\u001b[0;34m\u001b[0m\u001b[0;34m\u001b[0m\u001b[0m\n",
      "\u001b[0;32m/private/var/tmp/sage-9.5-current/local/var/lib/sage/venv-python3.9.9/lib/python3.9/site-packages/sage/misc/cachefunc.pyx\u001b[0m in \u001b[0;36msage.misc.cachefunc.CachedMethodCaller._instance_call (build/cythonized/sage/misc/cachefunc.c:9949)\u001b[0;34m()\u001b[0m\n\u001b[1;32m   1822\u001b[0m             \u001b[0;32mTrue\u001b[0m\u001b[0;34m\u001b[0m\u001b[0;34m\u001b[0m\u001b[0m\n\u001b[1;32m   1823\u001b[0m         \"\"\"\n\u001b[0;32m-> 1824\u001b[0;31m         \u001b[0;32mreturn\u001b[0m \u001b[0mself\u001b[0m\u001b[0;34m.\u001b[0m\u001b[0mf\u001b[0m\u001b[0;34m(\u001b[0m\u001b[0mself\u001b[0m\u001b[0;34m.\u001b[0m\u001b[0m_instance\u001b[0m\u001b[0;34m,\u001b[0m \u001b[0;34m*\u001b[0m\u001b[0margs\u001b[0m\u001b[0;34m,\u001b[0m \u001b[0;34m**\u001b[0m\u001b[0mkwds\u001b[0m\u001b[0;34m)\u001b[0m\u001b[0;34m\u001b[0m\u001b[0;34m\u001b[0m\u001b[0m\n\u001b[0m\u001b[1;32m   1825\u001b[0m \u001b[0;34m\u001b[0m\u001b[0m\n\u001b[1;32m   1826\u001b[0m     \u001b[0mcdef\u001b[0m \u001b[0mfix_args_kwds\u001b[0m\u001b[0;34m(\u001b[0m\u001b[0mself\u001b[0m\u001b[0;34m,\u001b[0m \u001b[0mtuple\u001b[0m \u001b[0margs\u001b[0m\u001b[0;34m,\u001b[0m \u001b[0mdict\u001b[0m \u001b[0mkwds\u001b[0m\u001b[0;34m)\u001b[0m\u001b[0;34m:\u001b[0m\u001b[0;34m\u001b[0m\u001b[0;34m\u001b[0m\u001b[0m\n",
      "\u001b[0;32m/private/var/tmp/sage-9.5-current/local/var/lib/sage/venv-python3.9.9/lib/python3.9/site-packages/sage/groups/finitely_presented.py\u001b[0m in \u001b[0;36mcardinality\u001b[0;34m(self, limit)\u001b[0m\n\u001b[1;32m    939\u001b[0m         \"\"\"\n\u001b[1;32m    940\u001b[0m         \u001b[0;32mwith\u001b[0m \u001b[0mlibgap\u001b[0m\u001b[0;34m.\u001b[0m\u001b[0mglobal_context\u001b[0m\u001b[0;34m(\u001b[0m\u001b[0;34m'CosetTableDefaultMaxLimit'\u001b[0m\u001b[0;34m,\u001b[0m \u001b[0mlimit\u001b[0m\u001b[0;34m)\u001b[0m\u001b[0;34m:\u001b[0m\u001b[0;34m\u001b[0m\u001b[0;34m\u001b[0m\u001b[0m\n\u001b[0;32m--> 941\u001b[0;31m             \u001b[0;32mif\u001b[0m \u001b[0;32mnot\u001b[0m \u001b[0mlibgap\u001b[0m\u001b[0;34m.\u001b[0m\u001b[0mIsFinite\u001b[0m\u001b[0;34m(\u001b[0m\u001b[0mself\u001b[0m\u001b[0;34m.\u001b[0m\u001b[0mgap\u001b[0m\u001b[0;34m(\u001b[0m\u001b[0;34m)\u001b[0m\u001b[0;34m)\u001b[0m\u001b[0;34m:\u001b[0m\u001b[0;34m\u001b[0m\u001b[0;34m\u001b[0m\u001b[0m\n\u001b[0m\u001b[1;32m    942\u001b[0m                 \u001b[0;32mfrom\u001b[0m \u001b[0msage\u001b[0m\u001b[0;34m.\u001b[0m\u001b[0mrings\u001b[0m\u001b[0;34m.\u001b[0m\u001b[0minfinity\u001b[0m \u001b[0;32mimport\u001b[0m \u001b[0mInfinity\u001b[0m\u001b[0;34m\u001b[0m\u001b[0;34m\u001b[0m\u001b[0m\n\u001b[1;32m    943\u001b[0m                 \u001b[0;32mreturn\u001b[0m \u001b[0mInfinity\u001b[0m\u001b[0;34m\u001b[0m\u001b[0;34m\u001b[0m\u001b[0m\n",
      "\u001b[0;32m/private/var/tmp/sage-9.5-current/local/var/lib/sage/venv-python3.9.9/lib/python3.9/site-packages/sage/libs/gap/element.pyx\u001b[0m in \u001b[0;36msage.libs.gap.element.GapElement_Function.__call__ (build/cythonized/sage/libs/gap/element.c:19837)\u001b[0;34m()\u001b[0m\n\u001b[1;32m   2521\u001b[0m         \u001b[0;32mtry\u001b[0m\u001b[0;34m:\u001b[0m\u001b[0;34m\u001b[0m\u001b[0;34m\u001b[0m\u001b[0m\n\u001b[1;32m   2522\u001b[0m             \u001b[0msig_GAP_Enter\u001b[0m\u001b[0;34m(\u001b[0m\u001b[0;34m)\u001b[0m\u001b[0;34m\u001b[0m\u001b[0;34m\u001b[0m\u001b[0m\n\u001b[0;32m-> 2523\u001b[0;31m             \u001b[0msig_on\u001b[0m\u001b[0;34m(\u001b[0m\u001b[0;34m)\u001b[0m\u001b[0;34m\u001b[0m\u001b[0;34m\u001b[0m\u001b[0m\n\u001b[0m\u001b[1;32m   2524\u001b[0m             \u001b[0;32mif\u001b[0m \u001b[0mn\u001b[0m \u001b[0;34m==\u001b[0m \u001b[0;36m0\u001b[0m\u001b[0;34m:\u001b[0m\u001b[0;34m\u001b[0m\u001b[0;34m\u001b[0m\u001b[0m\n\u001b[1;32m   2525\u001b[0m                 \u001b[0mresult\u001b[0m \u001b[0;34m=\u001b[0m \u001b[0mCALL_0ARGS\u001b[0m\u001b[0;34m(\u001b[0m\u001b[0mself\u001b[0m\u001b[0;34m.\u001b[0m\u001b[0mvalue\u001b[0m\u001b[0;34m)\u001b[0m\u001b[0;34m\u001b[0m\u001b[0;34m\u001b[0m\u001b[0m\n",
      "\u001b[0;31mKeyboardInterrupt\u001b[0m: "
     ]
    }
   ],
   "source": [
    "display_pi_1(2,3,cyclic_coloring(SymmetricGroup(3)))"
   ]
  },
  {
   "cell_type": "code",
   "execution_count": 5,
   "id": "aa01d923",
   "metadata": {},
   "outputs": [
    {
     "name": "stdout",
     "output_type": "stream",
     "text": [
      "coloring\n",
      "[(1,2), (1,2), (1,2), (1,2), (1,2), (1,2), (1,2), (1,2), (1,2), (1,2), (1,2), (1,2), (1,2), (1,2)]\n",
      "Valid coloring?\n",
      "True\n",
      "True\n",
      "True\n",
      "Trisection parameters [6, [2, 2, 2]]\n",
      "Euler characteristic 2\n",
      "H_1 Finitely generated module V/W over Integer Ring with invariants (3)\n",
      "H_2 Finitely generated module V/W over Integer Ring with invariants (3)\n",
      "H_3 Finitely generated module V/W over Integer Ring with invariants ()\n",
      "Intersection form, signature, parity\n",
      "([], 0, 'even')\n",
      "\n",
      "coloring\n",
      "[(1,2,3), (1,3,2), (1,2,3), (1,3,2), (1,2,3), (1,3,2), (1,2,3), (1,3,2), (1,2,3), (1,3,2), (1,2,3), (1,3,2), (1,2,3), (1,3,2)]\n",
      "Valid coloring?\n",
      "True\n",
      "True\n",
      "True\n",
      "Trisection parameters [12, [4, 4, 4]]\n",
      "Euler characteristic 2\n",
      "H_1 Finitely generated module V/W over Integer Ring with invariants (2, 2)\n",
      "H_2 Finitely generated module V/W over Integer Ring with invariants (2, 2)\n",
      "H_3 Finitely generated module V/W over Integer Ring with invariants ()\n",
      "Intersection form, signature, parity\n",
      "([], 0, 'even')\n",
      "\n",
      "coloring\n",
      "[(1,2,3,4), (1,4,3,2), (1,2,3,4), (1,4,3,2), (1,2,3,4), (1,4,3,2), (1,2,3,4), (1,4,3,2), (1,2,3,4), (1,4,3,2), (1,2,3,4), (1,4,3,2), (1,2,3,4), (1,4,3,2)]\n",
      "Valid coloring?\n",
      "True\n",
      "True\n",
      "True\n",
      "Trisection parameters [18, [6, 6, 6]]\n",
      "Euler characteristic 2\n",
      "H_1 Finitely generated module V/W over Integer Ring with invariants (3)\n",
      "H_2 Finitely generated module V/W over Integer Ring with invariants (3)\n",
      "H_3 Finitely generated module V/W over Integer Ring with invariants ()\n",
      "Intersection form, signature, parity\n",
      "([], 0, 'even')\n",
      "\n",
      "coloring\n",
      "[(1,2,3,4,5), (1,5,4,3,2), (1,2,3,4,5), (1,5,4,3,2), (1,2,3,4,5), (1,5,4,3,2), (1,2,3,4,5), (1,5,4,3,2), (1,2,3,4,5), (1,5,4,3,2), (1,2,3,4,5), (1,5,4,3,2), (1,2,3,4,5), (1,5,4,3,2)]\n",
      "Valid coloring?\n",
      "True\n",
      "True\n",
      "True\n",
      "Trisection parameters [24, [8, 8, 8]]\n",
      "Euler characteristic 2\n",
      "H_1 Finitely generated module V/W over Integer Ring with invariants ()\n",
      "H_2 Finitely generated module V/W over Integer Ring with invariants ()\n",
      "H_3 Finitely generated module V/W over Integer Ring with invariants ()\n",
      "Intersection form, signature, parity\n",
      "([], 0, 'even')\n",
      "\n",
      "coloring\n",
      "[(1,2,3,4,5,6), (1,6,5,4,3,2), (1,2,3,4,5,6), (1,6,5,4,3,2), (1,2,3,4,5,6), (1,6,5,4,3,2), (1,2,3,4,5,6), (1,6,5,4,3,2), (1,2,3,4,5,6), (1,6,5,4,3,2), (1,2,3,4,5,6), (1,6,5,4,3,2), (1,2,3,4,5,6), (1,6,5,4,3,2)]\n",
      "Valid coloring?\n",
      "True\n",
      "True\n",
      "True\n",
      "Trisection parameters [30, [10, 10, 10]]\n",
      "Euler characteristic 2\n",
      "H_1 Finitely generated module V/W over Integer Ring with invariants (0, 0)\n",
      "H_2 Finitely generated module V/W over Integer Ring with invariants (0, 0, 0, 0)\n",
      "H_3 Finitely generated module V/W over Integer Ring with invariants (0, 0)\n",
      "Intersection form, signature, parity\n",
      "([-8 -4  1 -1]\n",
      "[-4 -4  1  0]\n",
      "[ 1  1  0  0]\n",
      "[-1  0  0  0], 0, 'even')\n",
      "\n"
     ]
    }
   ],
   "source": [
    "#Cyclic covers, k=1\n",
    "\n",
    "for p in range(2,7):\n",
    "    display_invariants(1,p,cyclic_coloring(SymmetricGroup(p)))\n",
    "    print()"
   ]
  },
  {
   "cell_type": "code",
   "execution_count": 25,
   "id": "65a40a7e",
   "metadata": {},
   "outputs": [
    {
     "name": "stdout",
     "output_type": "stream",
     "text": [
      "coloring\n",
      "[(1,2), (1,2), (1,2), (1,2), (1,2), (1,2), (1,2), (1,2), (1,2), (1,2), (1,2), (1,2), (1,2), (1,2)]\n",
      "Valid coloring?\n",
      "True\n",
      "True\n",
      "True\n",
      "Trisection parameters [6, [2, 2, 2]]\n",
      "Euler characteristic 2\n",
      "H_1 Finitely generated module V/W over Integer Ring with invariants (3)\n",
      "H_2 Finitely generated module V/W over Integer Ring with invariants (3)\n",
      "H_3 Finitely generated module V/W over Integer Ring with invariants ()\n",
      "Intersection form, signature, parity\n",
      "([], 0, 'even')\n",
      "\n",
      "coloring\n",
      "[(1,2,3), (1,3,2), (1,2,3), (1,3,2), (1,2,3), (1,3,2), (1,2,3), (1,3,2), (1,2,3), (1,3,2), (1,2,3), (1,3,2), (1,2,3), (1,3,2)]\n",
      "Valid coloring?\n",
      "True\n",
      "True\n",
      "True\n",
      "Trisection parameters [12, [4, 4, 4]]\n",
      "Euler characteristic 2\n",
      "H_1 Finitely generated module V/W over Integer Ring with invariants (2, 2)\n",
      "H_2 Finitely generated module V/W over Integer Ring with invariants (2, 2)\n",
      "H_3 Finitely generated module V/W over Integer Ring with invariants ()\n",
      "Intersection form, signature, parity\n",
      "([], 0, 'even')\n",
      "\n",
      "coloring\n",
      "[(1,2,3,4), (1,4,3,2), (1,2,3,4), (1,4,3,2), (1,2,3,4), (1,4,3,2), (1,2,3,4), (1,4,3,2), (1,2,3,4), (1,4,3,2), (1,2,3,4), (1,4,3,2), (1,2,3,4), (1,4,3,2)]\n",
      "Valid coloring?\n",
      "True\n",
      "True\n",
      "True\n",
      "Trisection parameters [18, [6, 6, 6]]\n",
      "Euler characteristic 2\n",
      "H_1 Finitely generated module V/W over Integer Ring with invariants (3)\n",
      "H_2 Finitely generated module V/W over Integer Ring with invariants (3)\n",
      "H_3 Finitely generated module V/W over Integer Ring with invariants ()\n",
      "Intersection form, signature, parity\n",
      "([], 0, 'even')\n",
      "\n",
      "coloring\n",
      "[(1,2,3,4,5), (1,5,4,3,2), (1,2,3,4,5), (1,5,4,3,2), (1,2,3,4,5), (1,5,4,3,2), (1,2,3,4,5), (1,5,4,3,2), (1,2,3,4,5), (1,5,4,3,2), (1,2,3,4,5), (1,5,4,3,2), (1,2,3,4,5), (1,5,4,3,2)]\n",
      "Valid coloring?\n",
      "True\n",
      "True\n",
      "True\n",
      "Trisection parameters [24, [8, 8, 8]]\n",
      "Euler characteristic 2\n",
      "H_1 Finitely generated module V/W over Integer Ring with invariants ()\n",
      "H_2 Finitely generated module V/W over Integer Ring with invariants ()\n",
      "H_3 Finitely generated module V/W over Integer Ring with invariants ()\n",
      "Intersection form, signature, parity\n",
      "([], 0, 'even')\n",
      "\n",
      "coloring\n",
      "[(1,2,3,4,5,6), (1,6,5,4,3,2), (1,2,3,4,5,6), (1,6,5,4,3,2), (1,2,3,4,5,6), (1,6,5,4,3,2), (1,2,3,4,5,6), (1,6,5,4,3,2), (1,2,3,4,5,6), (1,6,5,4,3,2), (1,2,3,4,5,6), (1,6,5,4,3,2), (1,2,3,4,5,6), (1,6,5,4,3,2)]\n",
      "Valid coloring?\n",
      "True\n",
      "True\n",
      "True\n",
      "Trisection parameters [30, [10, 10, 10]]\n",
      "Euler characteristic 2\n",
      "H_1 Finitely generated module V/W over Integer Ring with invariants (0, 0)\n",
      "H_2 Finitely generated module V/W over Integer Ring with invariants (0, 0, 0, 0)\n",
      "H_3 Finitely generated module V/W over Integer Ring with invariants (0, 0)\n",
      "Intersection form, signature, parity\n",
      "([-8 -4  1 -1]\n",
      "[-4 -4  1  0]\n",
      "[ 1  1  0  0]\n",
      "[-1  0  0  0], 0, 'even')\n",
      "\n"
     ]
    }
   ],
   "source": [
    "#Cyclic covers, k=2\n",
    "\n",
    "for p in range(2,7):\n",
    "    display_invariants(2,p,cyclic_coloring(SymmetricGroup(p)))\n",
    "    print()"
   ]
  },
  {
   "cell_type": "code",
   "execution_count": 14,
   "id": "1532968a",
   "metadata": {},
   "outputs": [
    {
     "name": "stdout",
     "output_type": "stream",
     "text": [
      "coloring\n",
      "['(1,2)', '(1,2)', '(1,2)', '(1,2)', '(1,2)', '(1,2)', (2, 3), (2, 3), (2, 3), (2, 3), (2, 3), (2, 3), (2, 3), (2, 3)]\n",
      "Valid coloring?\n",
      "True\n",
      "True\n",
      "True\n",
      "Trisection parameters [5, [1, 1, 1]]\n",
      "Euler characteristic 4\n",
      "H_1 Finitely generated module V/W over Integer Ring with invariants ()\n",
      "H_2 Finitely generated module V/W over Integer Ring with invariants (0, 0)\n",
      "H_3 Finitely generated module V/W over Integer Ring with invariants ()\n",
      "Intersection form, signature, parity\n",
      "([ 0  1]\n",
      "[ 1 64], 0, 'even')\n",
      "coloring\n",
      "['(1,2)', '(1,2)', '(1,2)', '(1,2)', '(1,2)', '(1,2)', (2, 3), (2, 3), (2, 3), (2, 3), (2, 3), (2, 3), (2, 3), (2, 3)]\n",
      "Valid coloring?\n",
      "True\n",
      "True\n",
      "True\n",
      "Trisection parameters [5, [1, 1, 1]]\n",
      "Euler characteristic 4\n",
      "pi_1(branched cover) Finitely presented group <  |  >\n",
      "1\n"
     ]
    }
   ],
   "source": [
    "#3-fold dihedral cover k=0 mod 3\n",
    "display_invariants(3,3,6*['(1,2)']+8*[(2,3)])\n",
    "display_pi_1(3,3,6*['(1,2)']+8*[(2,3)])"
   ]
  },
  {
   "cell_type": "code",
   "execution_count": 5,
   "id": "977a171a",
   "metadata": {},
   "outputs": [
    {
     "name": "stdout",
     "output_type": "stream",
     "text": [
      "coloring\n",
      "['(1,2)', '(1,2)', '(1,2)', '(1,2)', '(1,2)', '(1,2)', (2, 3), (2, 3), (2, 3), (2, 3), (2, 3), (2, 3), (2, 3), (2, 3)]\n",
      "Valid coloring?\n",
      "True\n",
      "True\n",
      "True\n",
      "Trisection parameters [5, [1, 1, 1]]\n",
      "Euler characteristic 4\n",
      "H_1 Finitely generated module V/W over Integer Ring with invariants ()\n",
      "H_2 Finitely generated module V/W over Integer Ring with invariants (0, 0)\n",
      "H_3 Finitely generated module V/W over Integer Ring with invariants ()\n",
      "Intersection form, signature, parity\n",
      "([ 0  1]\n",
      "[ 1 10], 0, 'even')\n"
     ]
    }
   ],
   "source": [
    "#3-fold dihedral cover k=0 mod 3\n",
    "display_invariants(6,3,6*['(1,2)']+8*[(2,3)])"
   ]
  },
  {
   "cell_type": "code",
   "execution_count": 15,
   "id": "cfd634a8",
   "metadata": {},
   "outputs": [
    {
     "name": "stdout",
     "output_type": "stream",
     "text": [
      "coloring\n",
      "['(1,2)', '(1,2)', '(1,2)', '(1,2)', '(1,2)', '(1,2)', (2, 3), (2, 3), (2, 3), (2, 3), (2, 3), (2, 3), (2, 3), (2, 3)]\n",
      "Valid coloring?\n",
      "True\n",
      "True\n",
      "True\n",
      "Trisection parameters [5, [1, 1, 1]]\n",
      "Euler characteristic 4\n",
      "pi_1(branched cover) Finitely presented group <  |  >\n",
      "1\n"
     ]
    }
   ],
   "source": [
    "display_pi_1(6,3,6*['(1,2)']+8*[(2,3)])"
   ]
  },
  {
   "cell_type": "code",
   "execution_count": 16,
   "id": "6ee5399c",
   "metadata": {},
   "outputs": [
    {
     "name": "stdout",
     "output_type": "stream",
     "text": [
      "coloring\n",
      "['(1,2)', '(1,2)', '(1,2)', '(1,2)', '(1,2)', '(1,2)', (2, 3), (2, 3), (2, 3), (2, 3), (2, 3), (2, 3), (2, 3), (2, 3)]\n",
      "Valid coloring?\n",
      "True\n",
      "True\n",
      "True\n",
      "Trisection parameters [5, [1, 1, 1]]\n",
      "Euler characteristic 4\n",
      "pi_1(branched cover) Finitely presented group <  |  >\n",
      "1\n"
     ]
    }
   ],
   "source": [
    "display_pi_1(9,3,6*['(1,2)']+8*[(2,3)])"
   ]
  },
  {
   "cell_type": "code",
   "execution_count": 4,
   "id": "aac2fff0",
   "metadata": {},
   "outputs": [
    {
     "name": "stdout",
     "output_type": "stream",
     "text": [
      "coloring\n",
      "['(1,2)', '(1,2)', '(1,2)', '(1,2)', '(1,2)', '(1,2)', '(1,2)', '(1,2)', '(1,2)', '(1,2)', '(1,2)', '(1,2)', (2, 3), (2, 3)]\n",
      "Valid coloring?\n",
      "True\n",
      "True\n",
      "True\n",
      "Trisection parameters [5, [1, 1, 1]]\n",
      "Euler characteristic 4\n",
      "H_1 Finitely generated module V/W over Integer Ring with invariants ()\n",
      "H_2 Finitely generated module V/W over Integer Ring with invariants (0, 0)\n",
      "H_3 Finitely generated module V/W over Integer Ring with invariants ()\n",
      "Intersection form, signature, parity\n",
      "([ 26 -27]\n",
      "[-27  28], 0, 'even')\n"
     ]
    }
   ],
   "source": [
    "#3-fold dihedral cover k=1 mod 3\n",
    "display_invariants(1,3,12*['(1,2)']+2*[(2,3)])"
   ]
  },
  {
   "cell_type": "code",
   "execution_count": 5,
   "id": "1de76a6f",
   "metadata": {},
   "outputs": [
    {
     "name": "stdout",
     "output_type": "stream",
     "text": [
      "coloring\n",
      "['(1,2)', '(1,2)', '(1,2)', '(1,2)', '(1,2)', '(1,2)', '(1,2)', '(1,2)', '(1,2)', '(1,2)', '(1,2)', '(1,2)', (2, 3), (2, 3)]\n",
      "Valid coloring?\n",
      "True\n",
      "True\n",
      "True\n",
      "Trisection parameters [5, [1, 1, 1]]\n",
      "Euler characteristic 4\n",
      "H_1 Finitely generated module V/W over Integer Ring with invariants ()\n",
      "H_2 Finitely generated module V/W over Integer Ring with invariants (0, 0)\n",
      "H_3 Finitely generated module V/W over Integer Ring with invariants ()\n",
      "Intersection form, signature, parity\n",
      "([-28  27]\n",
      "[ 27 -26], 0, 'even')\n"
     ]
    }
   ],
   "source": [
    "#3-fold dihedral cover k=1 mod 3\n",
    "display_invariants(4,3,12*['(1,2)']+2*[(2,3)])"
   ]
  },
  {
   "cell_type": "code",
   "execution_count": 6,
   "id": "a2773379",
   "metadata": {},
   "outputs": [
    {
     "name": "stdout",
     "output_type": "stream",
     "text": [
      "coloring\n",
      "['(1,2)', '(1,2)', '(1,2)', '(1,2)', '(1,2)', '(1,2)', '(1,2)', '(1,2)', '(1,2)', '(1,2)', '(1,2)', '(1,2)', (2, 3), (2, 3)]\n",
      "Valid coloring?\n",
      "True\n",
      "True\n",
      "True\n",
      "Trisection parameters [5, [1, 1, 1]]\n",
      "Euler characteristic 4\n",
      "H_1 Finitely generated module V/W over Integer Ring with invariants ()\n",
      "H_2 Finitely generated module V/W over Integer Ring with invariants (0, 0)\n",
      "H_3 Finitely generated module V/W over Integer Ring with invariants ()\n",
      "Intersection form, signature, parity\n",
      "([-82  81]\n",
      "[ 81 -80], 0, 'even')\n"
     ]
    }
   ],
   "source": [
    "#3-fold dihedral cover k=1 mod 3\n",
    "display_invariants(7,3,12*['(1,2)']+2*[(2,3)])"
   ]
  },
  {
   "cell_type": "code",
   "execution_count": null,
   "id": "75c66f9c",
   "metadata": {},
   "outputs": [],
   "source": []
  }
 ],
 "metadata": {
  "kernelspec": {
   "display_name": "SageMath 9.5",
   "language": "sage",
   "name": "sagemath-9.5"
  },
  "language_info": {
   "codemirror_mode": {
    "name": "ipython",
    "version": 3
   },
   "file_extension": ".py",
   "mimetype": "text/x-python",
   "name": "python",
   "nbconvert_exporter": "python",
   "pygments_lexer": "ipython3",
   "version": "3.9.9"
  }
 },
 "nbformat": 4,
 "nbformat_minor": 5
}
