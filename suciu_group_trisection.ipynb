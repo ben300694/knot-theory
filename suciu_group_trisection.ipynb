{
 "cells": [
  {
   "cell_type": "code",
   "execution_count": 1,
   "id": "a154efea",
   "metadata": {},
   "outputs": [],
   "source": [
    "load(\"src/bridge_trisections.sage\")\n",
    "load(\"data/suciu_R_k_bridge_trisection.sage\")"
   ]
  },
  {
   "cell_type": "code",
   "execution_count": 3,
   "id": "8b693f13",
   "metadata": {},
   "outputs": [],
   "source": [
    "def display_invariants(k,p, coloring):\n",
    "    suciu_F = FreeGroup(14)\n",
    "    suciu_S = SymmetricGroup(p)\n",
    "    suciu_cover_F=FreeGroup(14*p)\n",
    "    \n",
    "    suciu_k_bridge_trisection=R_k(k)\n",
    "    \n",
    "    suciu_tangles_dict = {\n",
    "        'red': suciu_k_bridge_trisection.red_tangle,\n",
    "        'blu': suciu_k_bridge_trisection.blu_tangle,\n",
    "        'gre': suciu_k_bridge_trisection.gre_tangle,\n",
    "    }\n",
    "    \n",
    "    suciu_colored_surface=Colored_bridge_trisection(suciu_F,\n",
    "                                            suciu_S,\n",
    "                                            suciu_tangles_dict,\n",
    "                                            coloring)\n",
    "    print('coloring')\n",
    "    print(coloring)\n",
    "    print('Valid coloring?')\n",
    "    \n",
    "    print(suciu_colored_surface.colored_tangles['red'].is_representation())\n",
    "    print(suciu_colored_surface.colored_tangles['blu'].is_representation())\n",
    "    print(suciu_colored_surface.colored_tangles['gre'].is_representation())\n",
    "    \n",
    "    print('Trisection parameters',suciu_colored_surface.trisection_parameters_branched_cover())\n",
    "    print('Euler characteristic',suciu_colored_surface.euler_characteristic())\n",
    "    \n",
    "    #print('pi_1(branched cover)',suciu_colored_surface.pi_1_branched_cover().simplified())\n",
    "    \n",
    "    print('H_1',suciu_colored_surface.homology_branched_cover()[0])\n",
    "    print('H_2',suciu_colored_surface.homology_branched_cover()[1])\n",
    "    print('H_3',suciu_colored_surface.homology_branched_cover()[2])\n",
    "    \n",
    "    print('Intersection form, signature, parity')\n",
    "    print(suciu_colored_surface.intersection_form())"
   ]
  },
  {
   "cell_type": "code",
   "execution_count": 18,
   "id": "14f74517",
   "metadata": {},
   "outputs": [],
   "source": [
    "def cyclic_coloring(S):\n",
    "    cycle_tuple=tuple([i+1 for i in range(S.degree())])\n",
    "    coloring=7*[S(cycle_tuple), S(cycle_tuple)^-1]\n",
    "    return coloring\n",
    "    "
   ]
  },
  {
   "cell_type": "code",
   "execution_count": 24,
   "id": "aa01d923",
   "metadata": {},
   "outputs": [
    {
     "name": "stdout",
     "output_type": "stream",
     "text": [
      "coloring\n",
      "[(1,2), (1,2), (1,2), (1,2), (1,2), (1,2), (1,2), (1,2), (1,2), (1,2), (1,2), (1,2), (1,2), (1,2)]\n",
      "Valid coloring?\n",
      "True\n",
      "True\n",
      "True\n",
      "Trisection parameters [6, [2, 2, 2]]\n",
      "Euler characteristic 2\n",
      "H_1 Finitely generated module V/W over Integer Ring with invariants (3)\n",
      "H_2 Finitely generated module V/W over Integer Ring with invariants (3)\n",
      "H_3 Finitely generated module V/W over Integer Ring with invariants ()\n",
      "Intersection form, signature, parity\n",
      "([], 0, 'even')\n",
      "\n",
      "coloring\n",
      "[(1,2,3), (1,3,2), (1,2,3), (1,3,2), (1,2,3), (1,3,2), (1,2,3), (1,3,2), (1,2,3), (1,3,2), (1,2,3), (1,3,2), (1,2,3), (1,3,2)]\n",
      "Valid coloring?\n",
      "True\n",
      "True\n",
      "True\n",
      "Trisection parameters [12, [4, 4, 4]]\n",
      "Euler characteristic 2\n",
      "H_1 Finitely generated module V/W over Integer Ring with invariants (2, 2)\n",
      "H_2 Finitely generated module V/W over Integer Ring with invariants (2, 2)\n",
      "H_3 Finitely generated module V/W over Integer Ring with invariants ()\n",
      "Intersection form, signature, parity\n",
      "([], 0, 'even')\n",
      "\n",
      "coloring\n",
      "[(1,2,3,4), (1,4,3,2), (1,2,3,4), (1,4,3,2), (1,2,3,4), (1,4,3,2), (1,2,3,4), (1,4,3,2), (1,2,3,4), (1,4,3,2), (1,2,3,4), (1,4,3,2), (1,2,3,4), (1,4,3,2)]\n",
      "Valid coloring?\n",
      "True\n",
      "True\n",
      "True\n",
      "Trisection parameters [18, [6, 6, 6]]\n",
      "Euler characteristic 2\n",
      "H_1 Finitely generated module V/W over Integer Ring with invariants (3)\n",
      "H_2 Finitely generated module V/W over Integer Ring with invariants (3)\n",
      "H_3 Finitely generated module V/W over Integer Ring with invariants ()\n",
      "Intersection form, signature, parity\n",
      "([], 0, 'even')\n",
      "\n",
      "coloring\n",
      "[(1,2,3,4,5), (1,5,4,3,2), (1,2,3,4,5), (1,5,4,3,2), (1,2,3,4,5), (1,5,4,3,2), (1,2,3,4,5), (1,5,4,3,2), (1,2,3,4,5), (1,5,4,3,2), (1,2,3,4,5), (1,5,4,3,2), (1,2,3,4,5), (1,5,4,3,2)]\n",
      "Valid coloring?\n",
      "True\n",
      "True\n",
      "True\n",
      "Trisection parameters [24, [8, 8, 8]]\n",
      "Euler characteristic 2\n",
      "H_1 Finitely generated module V/W over Integer Ring with invariants ()\n",
      "H_2 Finitely generated module V/W over Integer Ring with invariants ()\n",
      "H_3 Finitely generated module V/W over Integer Ring with invariants ()\n",
      "Intersection form, signature, parity\n",
      "([], 0, 'even')\n",
      "\n",
      "coloring\n",
      "[(1,2,3,4,5,6), (1,6,5,4,3,2), (1,2,3,4,5,6), (1,6,5,4,3,2), (1,2,3,4,5,6), (1,6,5,4,3,2), (1,2,3,4,5,6), (1,6,5,4,3,2), (1,2,3,4,5,6), (1,6,5,4,3,2), (1,2,3,4,5,6), (1,6,5,4,3,2), (1,2,3,4,5,6), (1,6,5,4,3,2)]\n",
      "Valid coloring?\n",
      "True\n",
      "True\n",
      "True\n",
      "Trisection parameters [30, [10, 10, 10]]\n",
      "Euler characteristic 2\n",
      "H_1 Finitely generated module V/W over Integer Ring with invariants (0, 0)\n",
      "H_2 Finitely generated module V/W over Integer Ring with invariants (0, 0, 0, 0)\n",
      "H_3 Finitely generated module V/W over Integer Ring with invariants (0, 0)\n",
      "Intersection form, signature, parity\n",
      "([-8 -4  1 -1]\n",
      "[-4 -4  1  0]\n",
      "[ 1  1  0  0]\n",
      "[-1  0  0  0], 0, 'even')\n",
      "\n"
     ]
    }
   ],
   "source": [
    "#Cyclic covers, k=1\n",
    "\n",
    "for p in range(2,7):\n",
    "    display_invariants(1,p,cyclic_coloring(SymmetricGroup(p)))\n",
    "    print()"
   ]
  },
  {
   "cell_type": "code",
   "execution_count": 25,
   "id": "65a40a7e",
   "metadata": {},
   "outputs": [
    {
     "name": "stdout",
     "output_type": "stream",
     "text": [
      "coloring\n",
      "[(1,2), (1,2), (1,2), (1,2), (1,2), (1,2), (1,2), (1,2), (1,2), (1,2), (1,2), (1,2), (1,2), (1,2)]\n",
      "Valid coloring?\n",
      "True\n",
      "True\n",
      "True\n",
      "Trisection parameters [6, [2, 2, 2]]\n",
      "Euler characteristic 2\n",
      "H_1 Finitely generated module V/W over Integer Ring with invariants (3)\n",
      "H_2 Finitely generated module V/W over Integer Ring with invariants (3)\n",
      "H_3 Finitely generated module V/W over Integer Ring with invariants ()\n",
      "Intersection form, signature, parity\n",
      "([], 0, 'even')\n",
      "\n",
      "coloring\n",
      "[(1,2,3), (1,3,2), (1,2,3), (1,3,2), (1,2,3), (1,3,2), (1,2,3), (1,3,2), (1,2,3), (1,3,2), (1,2,3), (1,3,2), (1,2,3), (1,3,2)]\n",
      "Valid coloring?\n",
      "True\n",
      "True\n",
      "True\n",
      "Trisection parameters [12, [4, 4, 4]]\n",
      "Euler characteristic 2\n",
      "H_1 Finitely generated module V/W over Integer Ring with invariants (2, 2)\n",
      "H_2 Finitely generated module V/W over Integer Ring with invariants (2, 2)\n",
      "H_3 Finitely generated module V/W over Integer Ring with invariants ()\n",
      "Intersection form, signature, parity\n",
      "([], 0, 'even')\n",
      "\n",
      "coloring\n",
      "[(1,2,3,4), (1,4,3,2), (1,2,3,4), (1,4,3,2), (1,2,3,4), (1,4,3,2), (1,2,3,4), (1,4,3,2), (1,2,3,4), (1,4,3,2), (1,2,3,4), (1,4,3,2), (1,2,3,4), (1,4,3,2)]\n",
      "Valid coloring?\n",
      "True\n",
      "True\n",
      "True\n",
      "Trisection parameters [18, [6, 6, 6]]\n",
      "Euler characteristic 2\n",
      "H_1 Finitely generated module V/W over Integer Ring with invariants (3)\n",
      "H_2 Finitely generated module V/W over Integer Ring with invariants (3)\n",
      "H_3 Finitely generated module V/W over Integer Ring with invariants ()\n",
      "Intersection form, signature, parity\n",
      "([], 0, 'even')\n",
      "\n",
      "coloring\n",
      "[(1,2,3,4,5), (1,5,4,3,2), (1,2,3,4,5), (1,5,4,3,2), (1,2,3,4,5), (1,5,4,3,2), (1,2,3,4,5), (1,5,4,3,2), (1,2,3,4,5), (1,5,4,3,2), (1,2,3,4,5), (1,5,4,3,2), (1,2,3,4,5), (1,5,4,3,2)]\n",
      "Valid coloring?\n",
      "True\n",
      "True\n",
      "True\n",
      "Trisection parameters [24, [8, 8, 8]]\n",
      "Euler characteristic 2\n",
      "H_1 Finitely generated module V/W over Integer Ring with invariants ()\n",
      "H_2 Finitely generated module V/W over Integer Ring with invariants ()\n",
      "H_3 Finitely generated module V/W over Integer Ring with invariants ()\n",
      "Intersection form, signature, parity\n",
      "([], 0, 'even')\n",
      "\n",
      "coloring\n",
      "[(1,2,3,4,5,6), (1,6,5,4,3,2), (1,2,3,4,5,6), (1,6,5,4,3,2), (1,2,3,4,5,6), (1,6,5,4,3,2), (1,2,3,4,5,6), (1,6,5,4,3,2), (1,2,3,4,5,6), (1,6,5,4,3,2), (1,2,3,4,5,6), (1,6,5,4,3,2), (1,2,3,4,5,6), (1,6,5,4,3,2)]\n",
      "Valid coloring?\n",
      "True\n",
      "True\n",
      "True\n",
      "Trisection parameters [30, [10, 10, 10]]\n",
      "Euler characteristic 2\n",
      "H_1 Finitely generated module V/W over Integer Ring with invariants (0, 0)\n",
      "H_2 Finitely generated module V/W over Integer Ring with invariants (0, 0, 0, 0)\n",
      "H_3 Finitely generated module V/W over Integer Ring with invariants (0, 0)\n",
      "Intersection form, signature, parity\n",
      "([-8 -4  1 -1]\n",
      "[-4 -4  1  0]\n",
      "[ 1  1  0  0]\n",
      "[-1  0  0  0], 0, 'even')\n",
      "\n"
     ]
    }
   ],
   "source": [
    "#Cyclic covers, k=2\n",
    "\n",
    "for p in range(2,7):\n",
    "    display_invariants(2,p,cyclic_coloring(SymmetricGroup(p)))\n",
    "    print()"
   ]
  },
  {
   "cell_type": "code",
   "execution_count": 29,
   "id": "1532968a",
   "metadata": {},
   "outputs": [
    {
     "name": "stdout",
     "output_type": "stream",
     "text": [
      "coloring\n",
      "['(1,2)', '(1,2)', '(1,2)', '(1,2)', '(1,2)', '(1,2)', (2, 3), (2, 3), (2, 3), (2, 3), (2, 3), (2, 3), (2, 3), (2, 3)]\n",
      "Valid coloring?\n",
      "True\n",
      "True\n",
      "True\n",
      "Trisection parameters [5, [1, 1, 1]]\n",
      "Euler characteristic 4\n",
      "H_1 Finitely generated module V/W over Integer Ring with invariants ()\n",
      "H_2 Finitely generated module V/W over Integer Ring with invariants (0, 0)\n",
      "H_3 Finitely generated module V/W over Integer Ring with invariants ()\n",
      "Intersection form, signature, parity\n",
      "([ 0  1]\n",
      "[ 1 64], 0, 'even')\n"
     ]
    }
   ],
   "source": [
    "#3-fold dihedral cover k=0 mod 3\n",
    "display_invariants(3,3,6*['(1,2)']+8*[(2,3)])"
   ]
  },
  {
   "cell_type": "code",
   "execution_count": 5,
   "id": "977a171a",
   "metadata": {},
   "outputs": [
    {
     "name": "stdout",
     "output_type": "stream",
     "text": [
      "coloring\n",
      "['(1,2)', '(1,2)', '(1,2)', '(1,2)', '(1,2)', '(1,2)', (2, 3), (2, 3), (2, 3), (2, 3), (2, 3), (2, 3), (2, 3), (2, 3)]\n",
      "Valid coloring?\n",
      "True\n",
      "True\n",
      "True\n",
      "Trisection parameters [5, [1, 1, 1]]\n",
      "Euler characteristic 4\n",
      "H_1 Finitely generated module V/W over Integer Ring with invariants ()\n",
      "H_2 Finitely generated module V/W over Integer Ring with invariants (0, 0)\n",
      "H_3 Finitely generated module V/W over Integer Ring with invariants ()\n",
      "Intersection form, signature, parity\n",
      "([ 0  1]\n",
      "[ 1 10], 0, 'even')\n"
     ]
    }
   ],
   "source": [
    "#3-fold dihedral cover k=0 mod 3\n",
    "display_invariants(6,3,6*['(1,2)']+8*[(2,3)])"
   ]
  },
  {
   "cell_type": "code",
   "execution_count": 4,
   "id": "aac2fff0",
   "metadata": {},
   "outputs": [
    {
     "name": "stdout",
     "output_type": "stream",
     "text": [
      "coloring\n",
      "['(1,2)', '(1,2)', '(1,2)', '(1,2)', '(1,2)', '(1,2)', '(1,2)', '(1,2)', '(1,2)', '(1,2)', '(1,2)', '(1,2)', (2, 3), (2, 3)]\n",
      "Valid coloring?\n",
      "True\n",
      "True\n",
      "True\n",
      "Trisection parameters [5, [1, 1, 1]]\n",
      "Euler characteristic 4\n",
      "H_1 Finitely generated module V/W over Integer Ring with invariants ()\n",
      "H_2 Finitely generated module V/W over Integer Ring with invariants (0, 0)\n",
      "H_3 Finitely generated module V/W over Integer Ring with invariants ()\n",
      "Intersection form, signature, parity\n",
      "([ 26 -27]\n",
      "[-27  28], 0, 'even')\n"
     ]
    }
   ],
   "source": [
    "#3-fold dihedral cover k=1 mod 3\n",
    "display_invariants(1,3,12*['(1,2)']+2*[(2,3)])"
   ]
  },
  {
   "cell_type": "code",
   "execution_count": 5,
   "id": "1de76a6f",
   "metadata": {},
   "outputs": [
    {
     "name": "stdout",
     "output_type": "stream",
     "text": [
      "coloring\n",
      "['(1,2)', '(1,2)', '(1,2)', '(1,2)', '(1,2)', '(1,2)', '(1,2)', '(1,2)', '(1,2)', '(1,2)', '(1,2)', '(1,2)', (2, 3), (2, 3)]\n",
      "Valid coloring?\n",
      "True\n",
      "True\n",
      "True\n",
      "Trisection parameters [5, [1, 1, 1]]\n",
      "Euler characteristic 4\n",
      "H_1 Finitely generated module V/W over Integer Ring with invariants ()\n",
      "H_2 Finitely generated module V/W over Integer Ring with invariants (0, 0)\n",
      "H_3 Finitely generated module V/W over Integer Ring with invariants ()\n",
      "Intersection form, signature, parity\n",
      "([-28  27]\n",
      "[ 27 -26], 0, 'even')\n"
     ]
    }
   ],
   "source": [
    "#3-fold dihedral cover k=1 mod 3\n",
    "display_invariants(4,3,12*['(1,2)']+2*[(2,3)])"
   ]
  },
  {
   "cell_type": "code",
   "execution_count": 6,
   "id": "a2773379",
   "metadata": {},
   "outputs": [
    {
     "name": "stdout",
     "output_type": "stream",
     "text": [
      "coloring\n",
      "['(1,2)', '(1,2)', '(1,2)', '(1,2)', '(1,2)', '(1,2)', '(1,2)', '(1,2)', '(1,2)', '(1,2)', '(1,2)', '(1,2)', (2, 3), (2, 3)]\n",
      "Valid coloring?\n",
      "True\n",
      "True\n",
      "True\n",
      "Trisection parameters [5, [1, 1, 1]]\n",
      "Euler characteristic 4\n",
      "H_1 Finitely generated module V/W over Integer Ring with invariants ()\n",
      "H_2 Finitely generated module V/W over Integer Ring with invariants (0, 0)\n",
      "H_3 Finitely generated module V/W over Integer Ring with invariants ()\n",
      "Intersection form, signature, parity\n",
      "([-82  81]\n",
      "[ 81 -80], 0, 'even')\n"
     ]
    }
   ],
   "source": [
    "#3-fold dihedral cover k=1 mod 3\n",
    "display_invariants(7,3,12*['(1,2)']+2*[(2,3)])"
   ]
  },
  {
   "cell_type": "code",
   "execution_count": null,
   "id": "75c66f9c",
   "metadata": {},
   "outputs": [],
   "source": []
  }
 ],
 "metadata": {
  "kernelspec": {
   "display_name": "SageMath 9.6",
   "language": "sage",
   "name": "sagemath-9.6"
  },
  "language_info": {
   "codemirror_mode": {
    "name": "ipython",
    "version": 3
   },
   "file_extension": ".py",
   "mimetype": "text/x-python",
   "name": "python",
   "nbconvert_exporter": "python",
   "pygments_lexer": "ipython3",
   "version": "3.10.3"
  }
 },
 "nbformat": 4,
 "nbformat_minor": 5
}
